{
 "cells": [
  {
   "cell_type": "code",
   "execution_count": 146,
   "metadata": {},
   "outputs": [],
   "source": [
    "import pymysql"
   ]
  },
  {
   "cell_type": "code",
   "execution_count": 147,
   "metadata": {},
   "outputs": [
    {
     "data": {
      "text/plain": [
       "'1.4.6'"
      ]
     },
     "execution_count": 147,
     "metadata": {},
     "output_type": "execute_result"
    }
   ],
   "source": [
    "pymysql.__version__"
   ]
  },
  {
   "cell_type": "code",
   "execution_count": 148,
   "metadata": {},
   "outputs": [],
   "source": [
    "import pymysql.cursors\n",
    "\n",
    "\n",
    "con = pymysql.connect(host=\"localhost\", user=\"root\", passwd=\"arQuitectura12\", db=\"sakila\", cursorclass= pymysql.cursors.DictCursor)"
   ]
  },
  {
   "cell_type": "code",
   "execution_count": 149,
   "metadata": {},
   "outputs": [
    {
     "name": "stdout",
     "output_type": "stream",
     "text": [
      "<class 'pymysql.connections.Connection'>\n"
     ]
    },
    {
     "data": {
      "text/plain": [
       "pymysql.cursors.DictCursor"
      ]
     },
     "execution_count": 149,
     "metadata": {},
     "output_type": "execute_result"
    }
   ],
   "source": [
    "print(type(con))\n",
    "# creamos un curor para rcorrerlo\n",
    "cursor = con.cursor()\n",
    "type(cursor)"
   ]
  },
  {
   "cell_type": "code",
   "execution_count": 150,
   "metadata": {},
   "outputs": [
    {
     "data": {
      "text/plain": [
       "200"
      ]
     },
     "execution_count": 150,
     "metadata": {},
     "output_type": "execute_result"
    }
   ],
   "source": [
    "# definios  consulta\n",
    "sql_query = \"select * from actor;\"\n",
    "cursor.execute(sql_query)"
   ]
  },
  {
   "cell_type": "code",
   "execution_count": 151,
   "metadata": {},
   "outputs": [],
   "source": [
    "# cursor.fetchone()\n",
    "#  si uso el all debo voolver a atras, y este bva sumando 1 y s eguarda el avmce"
   ]
  },
  {
   "cell_type": "code",
   "execution_count": 152,
   "metadata": {},
   "outputs": [],
   "source": [
    "# cursor.fetchmany(5)"
   ]
  },
  {
   "cell_type": "code",
   "execution_count": 153,
   "metadata": {},
   "outputs": [
    {
     "data": {
      "text/plain": [
       "200"
      ]
     },
     "execution_count": 153,
     "metadata": {},
     "output_type": "execute_result"
    }
   ],
   "source": [
    "data = cursor.fetchall()\n",
    "len(data)"
   ]
  },
  {
   "cell_type": "code",
   "execution_count": 154,
   "metadata": {},
   "outputs": [],
   "source": [
    "import pandas as pd"
   ]
  },
  {
   "cell_type": "code",
   "execution_count": 155,
   "metadata": {},
   "outputs": [
    {
     "data": {
      "text/html": [
       "<div>\n",
       "<style scoped>\n",
       "    .dataframe tbody tr th:only-of-type {\n",
       "        vertical-align: middle;\n",
       "    }\n",
       "\n",
       "    .dataframe tbody tr th {\n",
       "        vertical-align: top;\n",
       "    }\n",
       "\n",
       "    .dataframe thead th {\n",
       "        text-align: right;\n",
       "    }\n",
       "</style>\n",
       "<table border=\"1\" class=\"dataframe\">\n",
       "  <thead>\n",
       "    <tr style=\"text-align: right;\">\n",
       "      <th></th>\n",
       "      <th>actor_id</th>\n",
       "      <th>first_name</th>\n",
       "      <th>last_name</th>\n",
       "      <th>last_update</th>\n",
       "    </tr>\n",
       "  </thead>\n",
       "  <tbody>\n",
       "    <tr>\n",
       "      <th>0</th>\n",
       "      <td>1</td>\n",
       "      <td>PENELOPE</td>\n",
       "      <td>GUINESS</td>\n",
       "      <td>2006-02-15 04:34:33</td>\n",
       "    </tr>\n",
       "    <tr>\n",
       "      <th>1</th>\n",
       "      <td>2</td>\n",
       "      <td>NICK</td>\n",
       "      <td>WAHLBERG</td>\n",
       "      <td>2006-02-15 04:34:33</td>\n",
       "    </tr>\n",
       "    <tr>\n",
       "      <th>2</th>\n",
       "      <td>3</td>\n",
       "      <td>ED</td>\n",
       "      <td>CHASE</td>\n",
       "      <td>2006-02-15 04:34:33</td>\n",
       "    </tr>\n",
       "    <tr>\n",
       "      <th>3</th>\n",
       "      <td>4</td>\n",
       "      <td>JENNIFER</td>\n",
       "      <td>DAVIS</td>\n",
       "      <td>2006-02-15 04:34:33</td>\n",
       "    </tr>\n",
       "    <tr>\n",
       "      <th>4</th>\n",
       "      <td>5</td>\n",
       "      <td>JOHNNY</td>\n",
       "      <td>LOLLOBRIGIDA</td>\n",
       "      <td>2006-02-15 04:34:33</td>\n",
       "    </tr>\n",
       "    <tr>\n",
       "      <th>...</th>\n",
       "      <td>...</td>\n",
       "      <td>...</td>\n",
       "      <td>...</td>\n",
       "      <td>...</td>\n",
       "    </tr>\n",
       "    <tr>\n",
       "      <th>195</th>\n",
       "      <td>196</td>\n",
       "      <td>BELA</td>\n",
       "      <td>WALKEN</td>\n",
       "      <td>2006-02-15 04:34:33</td>\n",
       "    </tr>\n",
       "    <tr>\n",
       "      <th>196</th>\n",
       "      <td>197</td>\n",
       "      <td>REESE</td>\n",
       "      <td>WEST</td>\n",
       "      <td>2006-02-15 04:34:33</td>\n",
       "    </tr>\n",
       "    <tr>\n",
       "      <th>197</th>\n",
       "      <td>198</td>\n",
       "      <td>MARY</td>\n",
       "      <td>KEITEL</td>\n",
       "      <td>2006-02-15 04:34:33</td>\n",
       "    </tr>\n",
       "    <tr>\n",
       "      <th>198</th>\n",
       "      <td>199</td>\n",
       "      <td>JULIA</td>\n",
       "      <td>FAWCETT</td>\n",
       "      <td>2006-02-15 04:34:33</td>\n",
       "    </tr>\n",
       "    <tr>\n",
       "      <th>199</th>\n",
       "      <td>200</td>\n",
       "      <td>THORA</td>\n",
       "      <td>TEMPLE</td>\n",
       "      <td>2006-02-15 04:34:33</td>\n",
       "    </tr>\n",
       "  </tbody>\n",
       "</table>\n",
       "<p>200 rows × 4 columns</p>\n",
       "</div>"
      ],
      "text/plain": [
       "     actor_id first_name     last_name         last_update\n",
       "0           1   PENELOPE       GUINESS 2006-02-15 04:34:33\n",
       "1           2       NICK      WAHLBERG 2006-02-15 04:34:33\n",
       "2           3         ED         CHASE 2006-02-15 04:34:33\n",
       "3           4   JENNIFER         DAVIS 2006-02-15 04:34:33\n",
       "4           5     JOHNNY  LOLLOBRIGIDA 2006-02-15 04:34:33\n",
       "..        ...        ...           ...                 ...\n",
       "195       196       BELA        WALKEN 2006-02-15 04:34:33\n",
       "196       197      REESE          WEST 2006-02-15 04:34:33\n",
       "197       198       MARY        KEITEL 2006-02-15 04:34:33\n",
       "198       199      JULIA       FAWCETT 2006-02-15 04:34:33\n",
       "199       200      THORA        TEMPLE 2006-02-15 04:34:33\n",
       "\n",
       "[200 rows x 4 columns]"
      ]
     },
     "execution_count": 155,
     "metadata": {},
     "output_type": "execute_result"
    }
   ],
   "source": [
    "dt = pd.DataFrame(data)\n",
    "dt"
   ]
  },
  {
   "cell_type": "code",
   "execution_count": 156,
   "metadata": {},
   "outputs": [],
   "source": [
    "#  con.close cierra conex\n",
    "con.close()"
   ]
  },
  {
   "cell_type": "code",
   "execution_count": 157,
   "metadata": {},
   "outputs": [],
   "source": [
    "con = pymysql.connect(host=\"localhost\", user=\"root\", passwd=\"arQuitectura12\", db=\"sakila\", cursorclass= pymysql.cursors.Cursor)"
   ]
  },
  {
   "cell_type": "code",
   "execution_count": 158,
   "metadata": {},
   "outputs": [],
   "source": [
    "cursor = con.cursor()"
   ]
  },
  {
   "cell_type": "code",
   "execution_count": 159,
   "metadata": {},
   "outputs": [
    {
     "data": {
      "text/plain": [
       "200"
      ]
     },
     "execution_count": 159,
     "metadata": {},
     "output_type": "execute_result"
    }
   ],
   "source": [
    "cursor = con.cursor()\n",
    "sql_query = \"select * from actor;\"\n",
    "cursor.execute(sql_query)"
   ]
  },
  {
   "cell_type": "code",
   "execution_count": 160,
   "metadata": {},
   "outputs": [],
   "source": [
    "# print(type(cursor.fetchone()))"
   ]
  },
  {
   "cell_type": "code",
   "execution_count": 161,
   "metadata": {},
   "outputs": [
    {
     "data": {
      "text/plain": [
       "((1, 'PENELOPE', 'GUINESS', datetime.datetime(2006, 2, 15, 4, 34, 33)),\n",
       " (2, 'NICK', 'WAHLBERG', datetime.datetime(2006, 2, 15, 4, 34, 33)),\n",
       " (3, 'ED', 'CHASE', datetime.datetime(2006, 2, 15, 4, 34, 33)),\n",
       " (4, 'JENNIFER', 'DAVIS', datetime.datetime(2006, 2, 15, 4, 34, 33)),\n",
       " (5, 'JOHNNY', 'LOLLOBRIGIDA', datetime.datetime(2006, 2, 15, 4, 34, 33)),\n",
       " (6, 'BETTE', 'NICHOLSON', datetime.datetime(2006, 2, 15, 4, 34, 33)),\n",
       " (7, 'GRACE', 'MOSTEL', datetime.datetime(2006, 2, 15, 4, 34, 33)),\n",
       " (8, 'MATTHEW', 'JOHANSSON', datetime.datetime(2006, 2, 15, 4, 34, 33)),\n",
       " (9, 'JOE', 'SWANK', datetime.datetime(2006, 2, 15, 4, 34, 33)),\n",
       " (10, 'CHRISTIAN', 'GABLE', datetime.datetime(2006, 2, 15, 4, 34, 33)),\n",
       " (11, 'ZERO', 'CAGE', datetime.datetime(2006, 2, 15, 4, 34, 33)),\n",
       " (12, 'KARL', 'BERRY', datetime.datetime(2006, 2, 15, 4, 34, 33)),\n",
       " (13, 'UMA', 'WOOD', datetime.datetime(2006, 2, 15, 4, 34, 33)),\n",
       " (14, 'VIVIEN', 'BERGEN', datetime.datetime(2006, 2, 15, 4, 34, 33)),\n",
       " (15, 'CUBA', 'OLIVIER', datetime.datetime(2006, 2, 15, 4, 34, 33)),\n",
       " (16, 'FRED', 'COSTNER', datetime.datetime(2006, 2, 15, 4, 34, 33)),\n",
       " (17, 'HELEN', 'VOIGHT', datetime.datetime(2006, 2, 15, 4, 34, 33)),\n",
       " (18, 'DAN', 'TORN', datetime.datetime(2006, 2, 15, 4, 34, 33)),\n",
       " (19, 'BOB', 'FAWCETT', datetime.datetime(2006, 2, 15, 4, 34, 33)),\n",
       " (20, 'LUCILLE', 'TRACY', datetime.datetime(2006, 2, 15, 4, 34, 33)),\n",
       " (21, 'KIRSTEN', 'PALTROW', datetime.datetime(2006, 2, 15, 4, 34, 33)),\n",
       " (22, 'ELVIS', 'MARX', datetime.datetime(2006, 2, 15, 4, 34, 33)),\n",
       " (23, 'SANDRA', 'KILMER', datetime.datetime(2006, 2, 15, 4, 34, 33)),\n",
       " (24, 'CAMERON', 'STREEP', datetime.datetime(2006, 2, 15, 4, 34, 33)),\n",
       " (25, 'KEVIN', 'BLOOM', datetime.datetime(2006, 2, 15, 4, 34, 33)),\n",
       " (26, 'RIP', 'CRAWFORD', datetime.datetime(2006, 2, 15, 4, 34, 33)),\n",
       " (27, 'JULIA', 'MCQUEEN', datetime.datetime(2006, 2, 15, 4, 34, 33)),\n",
       " (28, 'WOODY', 'HOFFMAN', datetime.datetime(2006, 2, 15, 4, 34, 33)),\n",
       " (29, 'ALEC', 'WAYNE', datetime.datetime(2006, 2, 15, 4, 34, 33)),\n",
       " (30, 'SANDRA', 'PECK', datetime.datetime(2006, 2, 15, 4, 34, 33)),\n",
       " (31, 'SISSY', 'SOBIESKI', datetime.datetime(2006, 2, 15, 4, 34, 33)),\n",
       " (32, 'TIM', 'HACKMAN', datetime.datetime(2006, 2, 15, 4, 34, 33)),\n",
       " (33, 'MILLA', 'PECK', datetime.datetime(2006, 2, 15, 4, 34, 33)),\n",
       " (34, 'AUDREY', 'OLIVIER', datetime.datetime(2006, 2, 15, 4, 34, 33)),\n",
       " (35, 'JUDY', 'DEAN', datetime.datetime(2006, 2, 15, 4, 34, 33)),\n",
       " (36, 'BURT', 'DUKAKIS', datetime.datetime(2006, 2, 15, 4, 34, 33)),\n",
       " (37, 'VAL', 'BOLGER', datetime.datetime(2006, 2, 15, 4, 34, 33)),\n",
       " (38, 'TOM', 'MCKELLEN', datetime.datetime(2006, 2, 15, 4, 34, 33)),\n",
       " (39, 'GOLDIE', 'BRODY', datetime.datetime(2006, 2, 15, 4, 34, 33)),\n",
       " (40, 'JOHNNY', 'CAGE', datetime.datetime(2006, 2, 15, 4, 34, 33)),\n",
       " (41, 'JODIE', 'DEGENERES', datetime.datetime(2006, 2, 15, 4, 34, 33)),\n",
       " (42, 'TOM', 'MIRANDA', datetime.datetime(2006, 2, 15, 4, 34, 33)),\n",
       " (43, 'KIRK', 'JOVOVICH', datetime.datetime(2006, 2, 15, 4, 34, 33)),\n",
       " (44, 'NICK', 'STALLONE', datetime.datetime(2006, 2, 15, 4, 34, 33)),\n",
       " (45, 'REESE', 'KILMER', datetime.datetime(2006, 2, 15, 4, 34, 33)),\n",
       " (46, 'PARKER', 'GOLDBERG', datetime.datetime(2006, 2, 15, 4, 34, 33)),\n",
       " (47, 'JULIA', 'BARRYMORE', datetime.datetime(2006, 2, 15, 4, 34, 33)),\n",
       " (48, 'FRANCES', 'DAY-LEWIS', datetime.datetime(2006, 2, 15, 4, 34, 33)),\n",
       " (49, 'ANNE', 'CRONYN', datetime.datetime(2006, 2, 15, 4, 34, 33)),\n",
       " (50, 'NATALIE', 'HOPKINS', datetime.datetime(2006, 2, 15, 4, 34, 33)),\n",
       " (51, 'GARY', 'PHOENIX', datetime.datetime(2006, 2, 15, 4, 34, 33)),\n",
       " (52, 'CARMEN', 'HUNT', datetime.datetime(2006, 2, 15, 4, 34, 33)),\n",
       " (53, 'MENA', 'TEMPLE', datetime.datetime(2006, 2, 15, 4, 34, 33)),\n",
       " (54, 'PENELOPE', 'PINKETT', datetime.datetime(2006, 2, 15, 4, 34, 33)),\n",
       " (55, 'FAY', 'KILMER', datetime.datetime(2006, 2, 15, 4, 34, 33)),\n",
       " (56, 'DAN', 'HARRIS', datetime.datetime(2006, 2, 15, 4, 34, 33)),\n",
       " (57, 'JUDE', 'CRUISE', datetime.datetime(2006, 2, 15, 4, 34, 33)),\n",
       " (58, 'CHRISTIAN', 'AKROYD', datetime.datetime(2006, 2, 15, 4, 34, 33)),\n",
       " (59, 'DUSTIN', 'TAUTOU', datetime.datetime(2006, 2, 15, 4, 34, 33)),\n",
       " (60, 'HENRY', 'BERRY', datetime.datetime(2006, 2, 15, 4, 34, 33)),\n",
       " (61, 'CHRISTIAN', 'NEESON', datetime.datetime(2006, 2, 15, 4, 34, 33)),\n",
       " (62, 'JAYNE', 'NEESON', datetime.datetime(2006, 2, 15, 4, 34, 33)),\n",
       " (63, 'CAMERON', 'WRAY', datetime.datetime(2006, 2, 15, 4, 34, 33)),\n",
       " (64, 'RAY', 'JOHANSSON', datetime.datetime(2006, 2, 15, 4, 34, 33)),\n",
       " (65, 'ANGELA', 'HUDSON', datetime.datetime(2006, 2, 15, 4, 34, 33)),\n",
       " (66, 'MARY', 'TANDY', datetime.datetime(2006, 2, 15, 4, 34, 33)),\n",
       " (67, 'JESSICA', 'BAILEY', datetime.datetime(2006, 2, 15, 4, 34, 33)),\n",
       " (68, 'RIP', 'WINSLET', datetime.datetime(2006, 2, 15, 4, 34, 33)),\n",
       " (69, 'KENNETH', 'PALTROW', datetime.datetime(2006, 2, 15, 4, 34, 33)),\n",
       " (70, 'MICHELLE', 'MCCONAUGHEY', datetime.datetime(2006, 2, 15, 4, 34, 33)),\n",
       " (71, 'ADAM', 'GRANT', datetime.datetime(2006, 2, 15, 4, 34, 33)),\n",
       " (72, 'SEAN', 'WILLIAMS', datetime.datetime(2006, 2, 15, 4, 34, 33)),\n",
       " (73, 'GARY', 'PENN', datetime.datetime(2006, 2, 15, 4, 34, 33)),\n",
       " (74, 'MILLA', 'KEITEL', datetime.datetime(2006, 2, 15, 4, 34, 33)),\n",
       " (75, 'BURT', 'POSEY', datetime.datetime(2006, 2, 15, 4, 34, 33)),\n",
       " (76, 'ANGELINA', 'ASTAIRE', datetime.datetime(2006, 2, 15, 4, 34, 33)),\n",
       " (77, 'CARY', 'MCCONAUGHEY', datetime.datetime(2006, 2, 15, 4, 34, 33)),\n",
       " (78, 'GROUCHO', 'SINATRA', datetime.datetime(2006, 2, 15, 4, 34, 33)),\n",
       " (79, 'MAE', 'HOFFMAN', datetime.datetime(2006, 2, 15, 4, 34, 33)),\n",
       " (80, 'RALPH', 'CRUZ', datetime.datetime(2006, 2, 15, 4, 34, 33)),\n",
       " (81, 'SCARLETT', 'DAMON', datetime.datetime(2006, 2, 15, 4, 34, 33)),\n",
       " (82, 'WOODY', 'JOLIE', datetime.datetime(2006, 2, 15, 4, 34, 33)),\n",
       " (83, 'BEN', 'WILLIS', datetime.datetime(2006, 2, 15, 4, 34, 33)),\n",
       " (84, 'JAMES', 'PITT', datetime.datetime(2006, 2, 15, 4, 34, 33)),\n",
       " (85, 'MINNIE', 'ZELLWEGER', datetime.datetime(2006, 2, 15, 4, 34, 33)),\n",
       " (86, 'GREG', 'CHAPLIN', datetime.datetime(2006, 2, 15, 4, 34, 33)),\n",
       " (87, 'SPENCER', 'PECK', datetime.datetime(2006, 2, 15, 4, 34, 33)),\n",
       " (88, 'KENNETH', 'PESCI', datetime.datetime(2006, 2, 15, 4, 34, 33)),\n",
       " (89, 'CHARLIZE', 'DENCH', datetime.datetime(2006, 2, 15, 4, 34, 33)),\n",
       " (90, 'SEAN', 'GUINESS', datetime.datetime(2006, 2, 15, 4, 34, 33)),\n",
       " (91, 'CHRISTOPHER', 'BERRY', datetime.datetime(2006, 2, 15, 4, 34, 33)),\n",
       " (92, 'KIRSTEN', 'AKROYD', datetime.datetime(2006, 2, 15, 4, 34, 33)),\n",
       " (93, 'ELLEN', 'PRESLEY', datetime.datetime(2006, 2, 15, 4, 34, 33)),\n",
       " (94, 'KENNETH', 'TORN', datetime.datetime(2006, 2, 15, 4, 34, 33)),\n",
       " (95, 'DARYL', 'WAHLBERG', datetime.datetime(2006, 2, 15, 4, 34, 33)),\n",
       " (96, 'GENE', 'WILLIS', datetime.datetime(2006, 2, 15, 4, 34, 33)),\n",
       " (97, 'MEG', 'HAWKE', datetime.datetime(2006, 2, 15, 4, 34, 33)),\n",
       " (98, 'CHRIS', 'BRIDGES', datetime.datetime(2006, 2, 15, 4, 34, 33)),\n",
       " (99, 'JIM', 'MOSTEL', datetime.datetime(2006, 2, 15, 4, 34, 33)),\n",
       " (100, 'SPENCER', 'DEPP', datetime.datetime(2006, 2, 15, 4, 34, 33)),\n",
       " (101, 'SUSAN', 'DAVIS', datetime.datetime(2006, 2, 15, 4, 34, 33)),\n",
       " (102, 'WALTER', 'TORN', datetime.datetime(2006, 2, 15, 4, 34, 33)),\n",
       " (103, 'MATTHEW', 'LEIGH', datetime.datetime(2006, 2, 15, 4, 34, 33)),\n",
       " (104, 'PENELOPE', 'CRONYN', datetime.datetime(2006, 2, 15, 4, 34, 33)),\n",
       " (105, 'SIDNEY', 'CROWE', datetime.datetime(2006, 2, 15, 4, 34, 33)),\n",
       " (106, 'GROUCHO', 'DUNST', datetime.datetime(2006, 2, 15, 4, 34, 33)),\n",
       " (107, 'GINA', 'DEGENERES', datetime.datetime(2006, 2, 15, 4, 34, 33)),\n",
       " (108, 'WARREN', 'NOLTE', datetime.datetime(2006, 2, 15, 4, 34, 33)),\n",
       " (109, 'SYLVESTER', 'DERN', datetime.datetime(2006, 2, 15, 4, 34, 33)),\n",
       " (110, 'SUSAN', 'DAVIS', datetime.datetime(2006, 2, 15, 4, 34, 33)),\n",
       " (111, 'CAMERON', 'ZELLWEGER', datetime.datetime(2006, 2, 15, 4, 34, 33)),\n",
       " (112, 'RUSSELL', 'BACALL', datetime.datetime(2006, 2, 15, 4, 34, 33)),\n",
       " (113, 'MORGAN', 'HOPKINS', datetime.datetime(2006, 2, 15, 4, 34, 33)),\n",
       " (114, 'MORGAN', 'MCDORMAND', datetime.datetime(2006, 2, 15, 4, 34, 33)),\n",
       " (115, 'HARRISON', 'BALE', datetime.datetime(2006, 2, 15, 4, 34, 33)),\n",
       " (116, 'DAN', 'STREEP', datetime.datetime(2006, 2, 15, 4, 34, 33)),\n",
       " (117, 'RENEE', 'TRACY', datetime.datetime(2006, 2, 15, 4, 34, 33)),\n",
       " (118, 'CUBA', 'ALLEN', datetime.datetime(2006, 2, 15, 4, 34, 33)),\n",
       " (119, 'WARREN', 'JACKMAN', datetime.datetime(2006, 2, 15, 4, 34, 33)),\n",
       " (120, 'PENELOPE', 'MONROE', datetime.datetime(2006, 2, 15, 4, 34, 33)),\n",
       " (121, 'LIZA', 'BERGMAN', datetime.datetime(2006, 2, 15, 4, 34, 33)),\n",
       " (122, 'SALMA', 'NOLTE', datetime.datetime(2006, 2, 15, 4, 34, 33)),\n",
       " (123, 'JULIANNE', 'DENCH', datetime.datetime(2006, 2, 15, 4, 34, 33)),\n",
       " (124, 'SCARLETT', 'BENING', datetime.datetime(2006, 2, 15, 4, 34, 33)),\n",
       " (125, 'ALBERT', 'NOLTE', datetime.datetime(2006, 2, 15, 4, 34, 33)),\n",
       " (126, 'FRANCES', 'TOMEI', datetime.datetime(2006, 2, 15, 4, 34, 33)),\n",
       " (127, 'KEVIN', 'GARLAND', datetime.datetime(2006, 2, 15, 4, 34, 33)),\n",
       " (128, 'CATE', 'MCQUEEN', datetime.datetime(2006, 2, 15, 4, 34, 33)),\n",
       " (129, 'DARYL', 'CRAWFORD', datetime.datetime(2006, 2, 15, 4, 34, 33)),\n",
       " (130, 'GRETA', 'KEITEL', datetime.datetime(2006, 2, 15, 4, 34, 33)),\n",
       " (131, 'JANE', 'JACKMAN', datetime.datetime(2006, 2, 15, 4, 34, 33)),\n",
       " (132, 'ADAM', 'HOPPER', datetime.datetime(2006, 2, 15, 4, 34, 33)),\n",
       " (133, 'RICHARD', 'PENN', datetime.datetime(2006, 2, 15, 4, 34, 33)),\n",
       " (134, 'GENE', 'HOPKINS', datetime.datetime(2006, 2, 15, 4, 34, 33)),\n",
       " (135, 'RITA', 'REYNOLDS', datetime.datetime(2006, 2, 15, 4, 34, 33)),\n",
       " (136, 'ED', 'MANSFIELD', datetime.datetime(2006, 2, 15, 4, 34, 33)),\n",
       " (137, 'MORGAN', 'WILLIAMS', datetime.datetime(2006, 2, 15, 4, 34, 33)),\n",
       " (138, 'LUCILLE', 'DEE', datetime.datetime(2006, 2, 15, 4, 34, 33)),\n",
       " (139, 'EWAN', 'GOODING', datetime.datetime(2006, 2, 15, 4, 34, 33)),\n",
       " (140, 'WHOOPI', 'HURT', datetime.datetime(2006, 2, 15, 4, 34, 33)),\n",
       " (141, 'CATE', 'HARRIS', datetime.datetime(2006, 2, 15, 4, 34, 33)),\n",
       " (142, 'JADA', 'RYDER', datetime.datetime(2006, 2, 15, 4, 34, 33)),\n",
       " (143, 'RIVER', 'DEAN', datetime.datetime(2006, 2, 15, 4, 34, 33)),\n",
       " (144, 'ANGELA', 'WITHERSPOON', datetime.datetime(2006, 2, 15, 4, 34, 33)),\n",
       " (145, 'KIM', 'ALLEN', datetime.datetime(2006, 2, 15, 4, 34, 33)),\n",
       " (146, 'ALBERT', 'JOHANSSON', datetime.datetime(2006, 2, 15, 4, 34, 33)),\n",
       " (147, 'FAY', 'WINSLET', datetime.datetime(2006, 2, 15, 4, 34, 33)),\n",
       " (148, 'EMILY', 'DEE', datetime.datetime(2006, 2, 15, 4, 34, 33)),\n",
       " (149, 'RUSSELL', 'TEMPLE', datetime.datetime(2006, 2, 15, 4, 34, 33)),\n",
       " (150, 'JAYNE', 'NOLTE', datetime.datetime(2006, 2, 15, 4, 34, 33)),\n",
       " (151, 'GEOFFREY', 'HESTON', datetime.datetime(2006, 2, 15, 4, 34, 33)),\n",
       " (152, 'BEN', 'HARRIS', datetime.datetime(2006, 2, 15, 4, 34, 33)),\n",
       " (153, 'MINNIE', 'KILMER', datetime.datetime(2006, 2, 15, 4, 34, 33)),\n",
       " (154, 'MERYL', 'GIBSON', datetime.datetime(2006, 2, 15, 4, 34, 33)),\n",
       " (155, 'IAN', 'TANDY', datetime.datetime(2006, 2, 15, 4, 34, 33)),\n",
       " (156, 'FAY', 'WOOD', datetime.datetime(2006, 2, 15, 4, 34, 33)),\n",
       " (157, 'GRETA', 'MALDEN', datetime.datetime(2006, 2, 15, 4, 34, 33)),\n",
       " (158, 'VIVIEN', 'BASINGER', datetime.datetime(2006, 2, 15, 4, 34, 33)),\n",
       " (159, 'LAURA', 'BRODY', datetime.datetime(2006, 2, 15, 4, 34, 33)),\n",
       " (160, 'CHRIS', 'DEPP', datetime.datetime(2006, 2, 15, 4, 34, 33)),\n",
       " (161, 'HARVEY', 'HOPE', datetime.datetime(2006, 2, 15, 4, 34, 33)),\n",
       " (162, 'OPRAH', 'KILMER', datetime.datetime(2006, 2, 15, 4, 34, 33)),\n",
       " (163, 'CHRISTOPHER', 'WEST', datetime.datetime(2006, 2, 15, 4, 34, 33)),\n",
       " (164, 'HUMPHREY', 'WILLIS', datetime.datetime(2006, 2, 15, 4, 34, 33)),\n",
       " (165, 'AL', 'GARLAND', datetime.datetime(2006, 2, 15, 4, 34, 33)),\n",
       " (166, 'NICK', 'DEGENERES', datetime.datetime(2006, 2, 15, 4, 34, 33)),\n",
       " (167, 'LAURENCE', 'BULLOCK', datetime.datetime(2006, 2, 15, 4, 34, 33)),\n",
       " (168, 'WILL', 'WILSON', datetime.datetime(2006, 2, 15, 4, 34, 33)),\n",
       " (169, 'KENNETH', 'HOFFMAN', datetime.datetime(2006, 2, 15, 4, 34, 33)),\n",
       " (170, 'MENA', 'HOPPER', datetime.datetime(2006, 2, 15, 4, 34, 33)),\n",
       " (171, 'OLYMPIA', 'PFEIFFER', datetime.datetime(2006, 2, 15, 4, 34, 33)),\n",
       " (172, 'GROUCHO', 'WILLIAMS', datetime.datetime(2006, 2, 15, 4, 34, 33)),\n",
       " (173, 'ALAN', 'DREYFUSS', datetime.datetime(2006, 2, 15, 4, 34, 33)),\n",
       " (174, 'MICHAEL', 'BENING', datetime.datetime(2006, 2, 15, 4, 34, 33)),\n",
       " (175, 'WILLIAM', 'HACKMAN', datetime.datetime(2006, 2, 15, 4, 34, 33)),\n",
       " (176, 'JON', 'CHASE', datetime.datetime(2006, 2, 15, 4, 34, 33)),\n",
       " (177, 'GENE', 'MCKELLEN', datetime.datetime(2006, 2, 15, 4, 34, 33)),\n",
       " (178, 'LISA', 'MONROE', datetime.datetime(2006, 2, 15, 4, 34, 33)),\n",
       " (179, 'ED', 'GUINESS', datetime.datetime(2006, 2, 15, 4, 34, 33)),\n",
       " (180, 'JEFF', 'SILVERSTONE', datetime.datetime(2006, 2, 15, 4, 34, 33)),\n",
       " (181, 'MATTHEW', 'CARREY', datetime.datetime(2006, 2, 15, 4, 34, 33)),\n",
       " (182, 'DEBBIE', 'AKROYD', datetime.datetime(2006, 2, 15, 4, 34, 33)),\n",
       " (183, 'RUSSELL', 'CLOSE', datetime.datetime(2006, 2, 15, 4, 34, 33)),\n",
       " (184, 'HUMPHREY', 'GARLAND', datetime.datetime(2006, 2, 15, 4, 34, 33)),\n",
       " (185, 'MICHAEL', 'BOLGER', datetime.datetime(2006, 2, 15, 4, 34, 33)),\n",
       " (186, 'JULIA', 'ZELLWEGER', datetime.datetime(2006, 2, 15, 4, 34, 33)),\n",
       " (187, 'RENEE', 'BALL', datetime.datetime(2006, 2, 15, 4, 34, 33)),\n",
       " (188, 'ROCK', 'DUKAKIS', datetime.datetime(2006, 2, 15, 4, 34, 33)),\n",
       " (189, 'CUBA', 'BIRCH', datetime.datetime(2006, 2, 15, 4, 34, 33)),\n",
       " (190, 'AUDREY', 'BAILEY', datetime.datetime(2006, 2, 15, 4, 34, 33)),\n",
       " (191, 'GREGORY', 'GOODING', datetime.datetime(2006, 2, 15, 4, 34, 33)),\n",
       " (192, 'JOHN', 'SUVARI', datetime.datetime(2006, 2, 15, 4, 34, 33)),\n",
       " (193, 'BURT', 'TEMPLE', datetime.datetime(2006, 2, 15, 4, 34, 33)),\n",
       " (194, 'MERYL', 'ALLEN', datetime.datetime(2006, 2, 15, 4, 34, 33)),\n",
       " (195, 'JAYNE', 'SILVERSTONE', datetime.datetime(2006, 2, 15, 4, 34, 33)),\n",
       " (196, 'BELA', 'WALKEN', datetime.datetime(2006, 2, 15, 4, 34, 33)),\n",
       " (197, 'REESE', 'WEST', datetime.datetime(2006, 2, 15, 4, 34, 33)),\n",
       " (198, 'MARY', 'KEITEL', datetime.datetime(2006, 2, 15, 4, 34, 33)),\n",
       " (199, 'JULIA', 'FAWCETT', datetime.datetime(2006, 2, 15, 4, 34, 33)),\n",
       " (200, 'THORA', 'TEMPLE', datetime.datetime(2006, 2, 15, 4, 34, 33)))"
      ]
     },
     "execution_count": 161,
     "metadata": {},
     "output_type": "execute_result"
    }
   ],
   "source": [
    "data = cursor.fetchall()\n",
    "data"
   ]
  },
  {
   "cell_type": "code",
   "execution_count": 162,
   "metadata": {},
   "outputs": [
    {
     "data": {
      "text/html": [
       "<div>\n",
       "<style scoped>\n",
       "    .dataframe tbody tr th:only-of-type {\n",
       "        vertical-align: middle;\n",
       "    }\n",
       "\n",
       "    .dataframe tbody tr th {\n",
       "        vertical-align: top;\n",
       "    }\n",
       "\n",
       "    .dataframe thead th {\n",
       "        text-align: right;\n",
       "    }\n",
       "</style>\n",
       "<table border=\"1\" class=\"dataframe\">\n",
       "  <thead>\n",
       "    <tr style=\"text-align: right;\">\n",
       "      <th></th>\n",
       "      <th>0</th>\n",
       "      <th>1</th>\n",
       "      <th>2</th>\n",
       "      <th>3</th>\n",
       "    </tr>\n",
       "  </thead>\n",
       "  <tbody>\n",
       "    <tr>\n",
       "      <th>0</th>\n",
       "      <td>1</td>\n",
       "      <td>PENELOPE</td>\n",
       "      <td>GUINESS</td>\n",
       "      <td>2006-02-15 04:34:33</td>\n",
       "    </tr>\n",
       "    <tr>\n",
       "      <th>1</th>\n",
       "      <td>2</td>\n",
       "      <td>NICK</td>\n",
       "      <td>WAHLBERG</td>\n",
       "      <td>2006-02-15 04:34:33</td>\n",
       "    </tr>\n",
       "    <tr>\n",
       "      <th>2</th>\n",
       "      <td>3</td>\n",
       "      <td>ED</td>\n",
       "      <td>CHASE</td>\n",
       "      <td>2006-02-15 04:34:33</td>\n",
       "    </tr>\n",
       "    <tr>\n",
       "      <th>3</th>\n",
       "      <td>4</td>\n",
       "      <td>JENNIFER</td>\n",
       "      <td>DAVIS</td>\n",
       "      <td>2006-02-15 04:34:33</td>\n",
       "    </tr>\n",
       "    <tr>\n",
       "      <th>4</th>\n",
       "      <td>5</td>\n",
       "      <td>JOHNNY</td>\n",
       "      <td>LOLLOBRIGIDA</td>\n",
       "      <td>2006-02-15 04:34:33</td>\n",
       "    </tr>\n",
       "    <tr>\n",
       "      <th>...</th>\n",
       "      <td>...</td>\n",
       "      <td>...</td>\n",
       "      <td>...</td>\n",
       "      <td>...</td>\n",
       "    </tr>\n",
       "    <tr>\n",
       "      <th>195</th>\n",
       "      <td>196</td>\n",
       "      <td>BELA</td>\n",
       "      <td>WALKEN</td>\n",
       "      <td>2006-02-15 04:34:33</td>\n",
       "    </tr>\n",
       "    <tr>\n",
       "      <th>196</th>\n",
       "      <td>197</td>\n",
       "      <td>REESE</td>\n",
       "      <td>WEST</td>\n",
       "      <td>2006-02-15 04:34:33</td>\n",
       "    </tr>\n",
       "    <tr>\n",
       "      <th>197</th>\n",
       "      <td>198</td>\n",
       "      <td>MARY</td>\n",
       "      <td>KEITEL</td>\n",
       "      <td>2006-02-15 04:34:33</td>\n",
       "    </tr>\n",
       "    <tr>\n",
       "      <th>198</th>\n",
       "      <td>199</td>\n",
       "      <td>JULIA</td>\n",
       "      <td>FAWCETT</td>\n",
       "      <td>2006-02-15 04:34:33</td>\n",
       "    </tr>\n",
       "    <tr>\n",
       "      <th>199</th>\n",
       "      <td>200</td>\n",
       "      <td>THORA</td>\n",
       "      <td>TEMPLE</td>\n",
       "      <td>2006-02-15 04:34:33</td>\n",
       "    </tr>\n",
       "  </tbody>\n",
       "</table>\n",
       "<p>200 rows × 4 columns</p>\n",
       "</div>"
      ],
      "text/plain": [
       "       0         1             2                   3\n",
       "0      1  PENELOPE       GUINESS 2006-02-15 04:34:33\n",
       "1      2      NICK      WAHLBERG 2006-02-15 04:34:33\n",
       "2      3        ED         CHASE 2006-02-15 04:34:33\n",
       "3      4  JENNIFER         DAVIS 2006-02-15 04:34:33\n",
       "4      5    JOHNNY  LOLLOBRIGIDA 2006-02-15 04:34:33\n",
       "..   ...       ...           ...                 ...\n",
       "195  196      BELA        WALKEN 2006-02-15 04:34:33\n",
       "196  197     REESE          WEST 2006-02-15 04:34:33\n",
       "197  198      MARY        KEITEL 2006-02-15 04:34:33\n",
       "198  199     JULIA       FAWCETT 2006-02-15 04:34:33\n",
       "199  200     THORA        TEMPLE 2006-02-15 04:34:33\n",
       "\n",
       "[200 rows x 4 columns]"
      ]
     },
     "execution_count": 162,
     "metadata": {},
     "output_type": "execute_result"
    }
   ],
   "source": [
    "dt = pd.DataFrame(data)\n",
    "dt"
   ]
  },
  {
   "cell_type": "code",
   "execution_count": 163,
   "metadata": {},
   "outputs": [],
   "source": [
    "con.close()"
   ]
  },
  {
   "cell_type": "code",
   "execution_count": 164,
   "metadata": {},
   "outputs": [],
   "source": [
    "con = pymysql.connect(host=\"localhost\", user=\"root\", passwd=\"arQuitectura12\", db=\"sakila\", cursorclass= pymysql.cursors.DictCursor)\n",
    "cursor = con.cursor()"
   ]
  },
  {
   "cell_type": "code",
   "execution_count": 165,
   "metadata": {},
   "outputs": [
    {
     "data": {
      "text/plain": [
       "1"
      ]
     },
     "execution_count": 165,
     "metadata": {},
     "output_type": "execute_result"
    }
   ],
   "source": [
    "sql_query = \"create database if not exists bocaJuniors;\"\n",
    "cursor.execute(sql_query)"
   ]
  },
  {
   "cell_type": "code",
   "execution_count": 166,
   "metadata": {},
   "outputs": [
    {
     "data": {
      "text/plain": [
       "0"
      ]
     },
     "execution_count": 166,
     "metadata": {},
     "output_type": "execute_result"
    }
   ],
   "source": [
    "sql_query = \"use bocaJuniors;\"\n",
    "cursor.execute(sql_query)"
   ]
  },
  {
   "cell_type": "code",
   "execution_count": 167,
   "metadata": {},
   "outputs": [
    {
     "data": {
      "text/plain": [
       "0"
      ]
     },
     "execution_count": 167,
     "metadata": {},
     "output_type": "execute_result"
    }
   ],
   "source": [
    "sql_query = \"drop table if exists arbitraje;\"\n",
    "cursor.execute(sql_query)\n",
    "\n",
    "sql_query = \"create table arbitraje (id int(3) primary key, nombre varchar(16));\"\n",
    "cursor.execute(sql_query)"
   ]
  },
  {
   "cell_type": "code",
   "execution_count": 168,
   "metadata": {},
   "outputs": [
    {
     "data": {
      "text/plain": [
       "[{'Tables_in_bocajuniors': 'arbitraje'}]"
      ]
     },
     "execution_count": 168,
     "metadata": {},
     "output_type": "execute_result"
    }
   ],
   "source": [
    "sql_query = \"show tables;\"\n",
    "cursor.execute(sql_query)\n",
    "cursor.fetchall()"
   ]
  },
  {
   "cell_type": "code",
   "execution_count": 169,
   "metadata": {},
   "outputs": [],
   "source": [
    "import string\n",
    "import random"
   ]
  },
  {
   "cell_type": "code",
   "execution_count": 170,
   "metadata": {},
   "outputs": [
    {
     "data": {
      "text/plain": [
       "'abcdefghijklmnopqrstuvwxyz'"
      ]
     },
     "execution_count": 170,
     "metadata": {},
     "output_type": "execute_result"
    }
   ],
   "source": [
    "letras = string.ascii_lowercase\n",
    "letras"
   ]
  },
  {
   "cell_type": "code",
   "execution_count": 171,
   "metadata": {},
   "outputs": [
    {
     "data": {
      "text/plain": [
       "'auzfahe'"
      ]
     },
     "execution_count": 171,
     "metadata": {},
     "output_type": "execute_result"
    }
   ],
   "source": [
    "\"\".join([random.choice(letras) for i in range(7)])"
   ]
  },
  {
   "cell_type": "code",
   "execution_count": 172,
   "metadata": {},
   "outputs": [],
   "source": [
    "def randomnombre (stringLenght= 10):\n",
    "    letras = string.ascii_lowercase\n",
    "    return \"\".join([random.choice(letras) for i in range(stringLenght)])\n",
    "\n"
   ]
  },
  {
   "cell_type": "code",
   "execution_count": 173,
   "metadata": {},
   "outputs": [
    {
     "name": "stdout",
     "output_type": "stream",
     "text": [
      "insert into arbitraje values (1,\"prfoicf\");\n",
      "insert into arbitraje values (2,\"ddtoolu\");\n",
      "insert into arbitraje values (3,\"nfwvyfj\");\n",
      "insert into arbitraje values (4,\"celxjef\");\n",
      "insert into arbitraje values (5,\"jzvwywe\");\n",
      "insert into arbitraje values (6,\"qsuzwng\");\n",
      "insert into arbitraje values (7,\"hlovdul\");\n",
      "insert into arbitraje values (8,\"odykwzf\");\n",
      "insert into arbitraje values (9,\"munacvs\");\n",
      "insert into arbitraje values (10,\"ypcudqt\");\n",
      "insert into arbitraje values (11,\"ofrqxqk\");\n",
      "insert into arbitraje values (12,\"lykntmz\");\n",
      "insert into arbitraje values (13,\"tvdzhjy\");\n",
      "insert into arbitraje values (14,\"pwivthj\");\n",
      "insert into arbitraje values (15,\"wfldxzk\");\n",
      "insert into arbitraje values (16,\"jruhhno\");\n",
      "insert into arbitraje values (17,\"ksbnytb\");\n",
      "insert into arbitraje values (18,\"ozcmqcm\");\n",
      "insert into arbitraje values (19,\"lgjvznx\");\n"
     ]
    }
   ],
   "source": [
    "cursor = con.cursor()\n",
    "\n",
    "for i in range(1,20):\n",
    "    nom = randomnombre(7)\n",
    "    sql_insert= f\"\"\"insert into arbitraje values ({i},\"{nom}\");\"\"\"\n",
    "    cursor.execute(sql_insert)\n",
    "    print(sql_insert)\n",
    "con.commit()"
   ]
  },
  {
   "cell_type": "code",
   "execution_count": 174,
   "metadata": {},
   "outputs": [
    {
     "name": "stdout",
     "output_type": "stream",
     "text": [
      "    id   nombre\n",
      "0    1  prfoicf\n",
      "1    2  ddtoolu\n",
      "2    3  nfwvyfj\n",
      "3    4  celxjef\n",
      "4    5  jzvwywe\n",
      "5    6  qsuzwng\n",
      "6    7  hlovdul\n",
      "7    8  odykwzf\n",
      "8    9  munacvs\n",
      "9   10  ypcudqt\n",
      "10  11  ofrqxqk\n",
      "11  12  lykntmz\n",
      "12  13  tvdzhjy\n",
      "13  14  pwivthj\n",
      "14  15  wfldxzk\n",
      "15  16  jruhhno\n",
      "16  17  ksbnytb\n",
      "17  18  ozcmqcm\n",
      "18  19  lgjvznx\n"
     ]
    }
   ],
   "source": [
    "cursor.execute(\"select * from arbitraje;\")\n",
    "print(pd.DataFrame(cursor.fetchall()))"
   ]
  },
  {
   "cell_type": "code",
   "execution_count": 175,
   "metadata": {},
   "outputs": [],
   "source": [
    "for i in range(6,20):\n",
    "    sql_delete = f\"delete from arbitraje where id = {i}\"\n",
    "    cursor.execute(sql_delete)\n",
    "con.commit()\n"
   ]
  },
  {
   "cell_type": "code",
   "execution_count": 176,
   "metadata": {},
   "outputs": [],
   "source": [
    "con.rollback()\n",
    "con.commit()"
   ]
  },
  {
   "cell_type": "code",
   "execution_count": null,
   "metadata": {},
   "outputs": [],
   "source": []
  },
  {
   "cell_type": "code",
   "execution_count": 177,
   "metadata": {},
   "outputs": [],
   "source": [
    "con = pymysql.connect(host=\"localhost\", user=\"root\", passwd=\"arQuitectura12\", db=\"sakila\", cursorclass= pymysql.cursors.DictCursor)\n",
    "cursor = con.cursor()"
   ]
  },
  {
   "cell_type": "code",
   "execution_count": 178,
   "metadata": {},
   "outputs": [
    {
     "data": {
      "text/plain": [
       "{'Table': 'film',\n",
       " 'Create Table': \"CREATE TABLE `film` (\\n  `film_id` smallint unsigned NOT NULL AUTO_INCREMENT,\\n  `title` varchar(128) NOT NULL,\\n  `description` text,\\n  `release_year` year DEFAULT NULL,\\n  `language_id` tinyint unsigned NOT NULL,\\n  `original_language_id` tinyint unsigned DEFAULT NULL,\\n  `rental_duration` tinyint unsigned NOT NULL DEFAULT '3',\\n  `rental_rate` decimal(4,2) NOT NULL DEFAULT '4.99',\\n  `length` smallint unsigned DEFAULT NULL,\\n  `replacement_cost` decimal(5,2) NOT NULL DEFAULT '19.99',\\n  `rating` enum('G','PG','PG-13','R','NC-17') DEFAULT 'G',\\n  `special_features` set('Trailers','Commentaries','Deleted Scenes','Behind the Scenes') DEFAULT NULL,\\n  `last_update` timestamp NOT NULL DEFAULT CURRENT_TIMESTAMP ON UPDATE CURRENT_TIMESTAMP,\\n  PRIMARY KEY (`film_id`),\\n  KEY `idx_title` (`title`),\\n  KEY `idx_fk_language_id` (`language_id`),\\n  KEY `idx_fk_original_language_id` (`original_language_id`),\\n  CONSTRAINT `fk_film_language` FOREIGN KEY (`language_id`) REFERENCES `language` (`language_id`) ON DELETE RESTRICT ON UPDATE CASCADE,\\n  CONSTRAINT `fk_film_language_original` FOREIGN KEY (`original_language_id`) REFERENCES `language` (`language_id`) ON DELETE RESTRICT ON UPDATE CASCADE\\n) ENGINE=InnoDB AUTO_INCREMENT=1001 DEFAULT CHARSET=utf8mb4 COLLATE=utf8mb4_0900_ai_ci\"}"
      ]
     },
     "execution_count": 178,
     "metadata": {},
     "output_type": "execute_result"
    }
   ],
   "source": [
    "sql_query = \"show create table film;\"\n",
    "cursor.execute(sql_query)\n",
    "tabla_copia = cursor.fetchone()\n",
    "tabla_copia"
   ]
  },
  {
   "cell_type": "code",
   "execution_count": 179,
   "metadata": {},
   "outputs": [
    {
     "data": {
      "text/plain": [
       "\"CREATE TABLE `film` (\\n  `film_id` smallint unsigned NOT NULL AUTO_INCREMENT,\\n  `title` varchar(128) NOT NULL,\\n  `description` text,\\n  `release_year` year DEFAULT NULL,\\n  `language_id` tinyint unsigned NOT NULL,\\n  `original_language_id` tinyint unsigned DEFAULT NULL,\\n  `rental_duration` tinyint unsigned NOT NULL DEFAULT '3',\\n  `rental_rate` decimal(4,2) NOT NULL DEFAULT '4.99',\\n  `length` smallint unsigned DEFAULT NULL,\\n  `replacement_cost` decimal(5,2) NOT NULL DEFAULT '19.99',\\n  `rating` enum('G','PG','PG-13','R','NC-17') DEFAULT 'G',\\n  `special_features` set('Trailers','Commentaries','Deleted Scenes','Behind the Scenes') DEFAULT NULL,\\n  `last_update` timestamp NOT NULL DEFAULT CURRENT_TIMESTAMP ON UPDATE CURRENT_TIMESTAMP,\\n  PRIMARY KEY (`film_id`),\\n  KEY `idx_title` (`title`),\\n  KEY `idx_fk_language_id` (`language_id`),\\n  KEY `idx_fk_original_language_id` (`original_language_id`),\\n  CONSTRAINT `fk_film_language` FOREIGN KEY (`language_id`) REFERENCES `language` (`language_id`) ON DELETE RESTRICT ON UPDATE CASCADE,\\n  CONSTRAINT `fk_film_language_original` FOREIGN KEY (`original_language_id`) REFERENCES `language` (`language_id`) ON DELETE RESTRICT ON UPDATE CASCADE\\n) ENGINE=InnoDB AUTO_INCREMENT=1001 DEFAULT CHARSET=utf8mb4 COLLATE=utf8mb4_0900_ai_ci\""
      ]
     },
     "execution_count": 179,
     "metadata": {},
     "output_type": "execute_result"
    }
   ],
   "source": [
    "tabla_copia['Create Table']"
   ]
  },
  {
   "cell_type": "code",
   "execution_count": 180,
   "metadata": {},
   "outputs": [],
   "source": [
    "sql_query = \"create database if not exists copiafilm;\"\n",
    "cursor.execute(sql_query)\n",
    "\n",
    "sql_query = \"use copiafilm;\"\n",
    "cursor.execute(sql_query)\n",
    "\n",
    "sql_query = \"drop table if exists film;\"\n",
    "cursor.execute(sql_query)\n",
    "\n",
    "sql_query =  \"CREATE TABLE `film` (\\n  `film_id` smallint unsigned NOT NULL AUTO_INCREMENT,\\n  `title` varchar(128) NOT NULL,\\n  `description` text,\\n  `release_year` year DEFAULT NULL,\\n  `language_id` tinyint unsigned NOT NULL,\\n  `original_language_id` tinyint unsigned DEFAULT NULL,\\n  `rental_duration` tinyint unsigned NOT NULL DEFAULT '3',\\n  `rental_rate` decimal(4,2) NOT NULL DEFAULT '4.99',\\n  `length` smallint unsigned DEFAULT NULL,\\n  `replacement_cost` decimal(5,2) NOT NULL DEFAULT '19.99',\\n  `rating` enum('G','PG','PG-13','R','NC-17') DEFAULT 'G',\\n  `special_features` set('Trailers','Commentaries','Deleted Scenes','Behind the Scenes') DEFAULT NULL,\\n  `last_update` timestamp NOT NULL DEFAULT CURRENT_TIMESTAMP ON UPDATE CURRENT_TIMESTAMP,\\n  PRIMARY KEY (`film_id`));\"\n",
    "cursor.execute(sql_query)\n",
    "\n",
    "con.commit()"
   ]
  },
  {
   "cell_type": "code",
   "execution_count": null,
   "metadata": {},
   "outputs": [],
   "source": []
  },
  {
   "cell_type": "code",
   "execution_count": null,
   "metadata": {},
   "outputs": [],
   "source": []
  },
  {
   "cell_type": "code",
   "execution_count": null,
   "metadata": {},
   "outputs": [],
   "source": []
  },
  {
   "cell_type": "code",
   "execution_count": null,
   "metadata": {},
   "outputs": [],
   "source": []
  }
 ],
 "metadata": {
  "kernelspec": {
   "display_name": "base",
   "language": "python",
   "name": "python3"
  },
  "language_info": {
   "codemirror_mode": {
    "name": "ipython",
    "version": 3
   },
   "file_extension": ".py",
   "mimetype": "text/x-python",
   "name": "python",
   "nbconvert_exporter": "python",
   "pygments_lexer": "ipython3",
   "version": "3.11.7"
  }
 },
 "nbformat": 4,
 "nbformat_minor": 2
}
