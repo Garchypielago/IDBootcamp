{
 "cells": [
  {
   "cell_type": "markdown",
   "metadata": {},
   "source": [
    "# Expresiones regulares"
   ]
  },
  {
   "cell_type": "markdown",
   "metadata": {},
   "source": [
    "Una expresión regular (Regex) especifica un conjunto de caracteres que permiten verificar si una cadena en particular coincide con una expresión regular dada o si una expresión regular dada coincide con una cadena en particular.\n"
   ]
  },
  {
   "cell_type": "markdown",
   "metadata": {},
   "source": [
    "https://regexr.com/"
   ]
  },
  {
   "cell_type": "code",
   "execution_count": 7,
   "metadata": {},
   "outputs": [
    {
     "data": {
      "text/plain": [
       "'ahaga'"
      ]
     },
     "execution_count": 7,
     "metadata": {},
     "output_type": "execute_result"
    }
   ],
   "source": [
    "\"aHaga\".lower()"
   ]
  },
  {
   "cell_type": "code",
   "execution_count": 8,
   "metadata": {},
   "outputs": [
    {
     "data": {
      "text/plain": [
       "'AHAGA'"
      ]
     },
     "execution_count": 8,
     "metadata": {},
     "output_type": "execute_result"
    }
   ],
   "source": [
    "\"aHaga\".upper()"
   ]
  },
  {
   "cell_type": "code",
   "execution_count": 9,
   "metadata": {},
   "outputs": [
    {
     "data": {
      "text/plain": [
       "'hola adios si'"
      ]
     },
     "execution_count": 9,
     "metadata": {},
     "output_type": "execute_result"
    }
   ],
   "source": [
    "\" \".join([\"hola\", \"adios\", \"si\"])"
   ]
  },
  {
   "cell_type": "code",
   "execution_count": 10,
   "metadata": {},
   "outputs": [
    {
     "data": {
      "text/plain": [
       "['hola', 'Miquel', 'me', 'llamo']"
      ]
     },
     "execution_count": 10,
     "metadata": {},
     "output_type": "execute_result"
    }
   ],
   "source": [
    "\"hola Miquel me llamo\".split()"
   ]
  },
  {
   "cell_type": "code",
   "execution_count": 11,
   "metadata": {},
   "outputs": [],
   "source": [
    "import re"
   ]
  },
  {
   "cell_type": "code",
   "execution_count": 12,
   "metadata": {},
   "outputs": [],
   "source": [
    "# https://ethancbanks.com/what-does-an-r-before-a-string-mean-in-python/\n",
    "# An ‘r’ before a string tells the Python interpreter to treat backslashes as a literal (raw) character"
   ]
  },
  {
   "cell_type": "code",
   "execution_count": 13,
   "metadata": {},
   "outputs": [
    {
     "data": {
      "text/plain": [
       "'hola\\\\nyuyu'"
      ]
     },
     "execution_count": 13,
     "metadata": {},
     "output_type": "execute_result"
    }
   ],
   "source": [
    "r'hola\\nyuyu' # aqui \\ es un caracter y debe interpretarlo como tal ( sin r se escrive con doble \\ (\\\\))"
   ]
  },
  {
   "cell_type": "code",
   "execution_count": 14,
   "metadata": {},
   "outputs": [
    {
     "data": {
      "text/plain": [
       "'hola\\\\nyuyu    jk'"
      ]
     },
     "execution_count": 14,
     "metadata": {},
     "output_type": "execute_result"
    }
   ],
   "source": [
    "r'hola\\nyuyu    jk' "
   ]
  },
  {
   "cell_type": "code",
   "execution_count": 15,
   "metadata": {
    "scrolled": true
   },
   "outputs": [
    {
     "name": "stdout",
     "output_type": "stream",
     "text": [
      "hola\\nyuyu\n"
     ]
    }
   ],
   "source": [
    "print(r\"hola\\nyuyu\") # aqui \\ es un caracter"
   ]
  },
  {
   "cell_type": "code",
   "execution_count": 16,
   "metadata": {},
   "outputs": [
    {
     "name": "stdout",
     "output_type": "stream",
     "text": [
      "hola\\nyuyu\n"
     ]
    }
   ],
   "source": [
    "print(\"hola\\\\nyuyu\") # aqui \\n es un salto de linea"
   ]
  },
  {
   "cell_type": "code",
   "execution_count": 17,
   "metadata": {},
   "outputs": [
    {
     "name": "stdout",
     "output_type": "stream",
     "text": [
      "hola\\nyuyu\\a\n"
     ]
    }
   ],
   "source": [
    "print('hola\\\\nyuyu\\\\a') # aqui entiende \\\\ como un caracter = \\"
   ]
  },
  {
   "cell_type": "code",
   "execution_count": 18,
   "metadata": {},
   "outputs": [
    {
     "name": "stdout",
     "output_type": "stream",
     "text": [
      "hola\n",
      "yuyu\u0007\n"
     ]
    }
   ],
   "source": [
    "print('hola\\nyuyu\\a') #\\ aqui \\a es un caracter especial"
   ]
  },
  {
   "cell_type": "markdown",
   "metadata": {},
   "source": [
    "## Funciones del módulo re"
   ]
  },
  {
   "cell_type": "code",
   "execution_count": 19,
   "metadata": {},
   "outputs": [
    {
     "data": {
      "text/plain": [
       "<re.Match object; span=(13, 18), match='todos'>"
      ]
     },
     "execution_count": 19,
     "metadata": {},
     "output_type": "execute_result"
    }
   ],
   "source": [
    "#Para buscar (similar a find)\n",
    "\n",
    "re.search(r'todos', \"Buenos día a todos\")\n",
    "#re.search(\"expresonregular\", \"texto\")"
   ]
  },
  {
   "cell_type": "code",
   "execution_count": 20,
   "metadata": {},
   "outputs": [
    {
     "data": {
      "text/plain": [
       "(11, 16)"
      ]
     },
     "execution_count": 20,
     "metadata": {},
     "output_type": "execute_result"
    }
   ],
   "source": [
    "#Para buscar (similar a find)\n",
    "re.search(r'todos', \"Buen día a todos todos\").span() #devuelve los indices donde esta la coincidencia"
   ]
  },
  {
   "cell_type": "code",
   "execution_count": 21,
   "metadata": {},
   "outputs": [
    {
     "data": {
      "text/plain": [
       "['todas', 'todos']"
      ]
     },
     "execution_count": 21,
     "metadata": {},
     "output_type": "execute_result"
    }
   ],
   "source": [
    "#Realiza una busqueda de todas las apariciones\n",
    "re.findall(r\"tod[oa]s\", \"Buen días a todas. Como todos los días hoy será un gran día\")"
   ]
  },
  {
   "cell_type": "code",
   "execution_count": 22,
   "metadata": {
    "scrolled": true
   },
   "outputs": [
    {
     "name": "stdout",
     "output_type": "stream",
     "text": [
      "<re.Match object; span=(14, 19), match='todas'> \t (14, 19) \t todas\n",
      "<re.Match object; span=(26, 31), match='todos'> \t (26, 31) \t todos\n",
      "<re.Match object; span=(62, 67), match='todos'> \t (62, 67) \t todos\n",
      "<re.Match object; span=(68, 73), match='todos'> \t (68, 73) \t todos\n",
      "<re.Match object; span=(74, 79), match='todos'> \t (74, 79) \t todos\n"
     ]
    }
   ],
   "source": [
    "# podemos compilar un patron de busqueda para hacerlo mas eficiente\n",
    "pattern  = re.compile(r\"tod[oa]s\")\n",
    "# creamos un iterador donde cada vez que accedemos nos devuelve una coincidencia\n",
    "iterador = pattern.finditer(\"Buenos días a todas. Como todos los días hoy será un gran día todos todos todos\")\n",
    "for i in iterador:\n",
    "    print(i,\"\\t\", i.span(0),\"\\t\", i.group(0))\n",
    "    "
   ]
  },
  {
   "cell_type": "code",
   "execution_count": 23,
   "metadata": {},
   "outputs": [
    {
     "data": {
      "text/plain": [
       "<callable_iterator at 0x1b373ff0100>"
      ]
     },
     "execution_count": 23,
     "metadata": {},
     "output_type": "execute_result"
    }
   ],
   "source": [
    "iterador"
   ]
  },
  {
   "cell_type": "code",
   "execution_count": 24,
   "metadata": {},
   "outputs": [
    {
     "data": {
      "text/plain": [
       "['Buenos',\n",
       " 'día',\n",
       " 'a',\n",
       " 'todos.',\n",
       " 'Como',\n",
       " 'todos',\n",
       " 'los',\n",
       " 'días',\n",
       " 'hoy',\n",
       " 'será',\n",
       " 'un',\n",
       " 'gran',\n",
       " 'día']"
      ]
     },
     "execution_count": 24,
     "metadata": {},
     "output_type": "execute_result"
    }
   ],
   "source": [
    "# Similar split\n",
    "re.split(\" \", \"Buenos día a todos. Como todos los días hoy será un gran día\")"
   ]
  },
  {
   "cell_type": "code",
   "execution_count": 25,
   "metadata": {},
   "outputs": [
    {
     "data": {
      "text/plain": [
       "['hola', 'me', 'llamo', 'miquel']"
      ]
     },
     "execution_count": 25,
     "metadata": {},
     "output_type": "execute_result"
    }
   ],
   "source": [
    "\"hola me llamo miquel\".split(\" \")"
   ]
  },
  {
   "cell_type": "code",
   "execution_count": 26,
   "metadata": {},
   "outputs": [
    {
     "data": {
      "text/plain": [
       "'Buenos días a tod@s. Como tod@s los días hoy será un gran día'"
      ]
     },
     "execution_count": 26,
     "metadata": {},
     "output_type": "execute_result"
    }
   ],
   "source": [
    "# Similar a replace\n",
    "re.sub(r\"tod[oa]s\", \"tod@s\", \"Buenos días a todas. Como todos los días hoy será un gran día\")"
   ]
  },
  {
   "cell_type": "markdown",
   "metadata": {},
   "source": [
    "Se utiliza el concepto de **metacaracter**: símbolos que tienen un significado especial cuando se colocan dentro de una expresión regular"
   ]
  },
  {
   "cell_type": "markdown",
   "metadata": {},
   "source": [
    "### Expresiones regulares"
   ]
  },
  {
   "cell_type": "code",
   "execution_count": 27,
   "metadata": {},
   "outputs": [
    {
     "data": {
      "text/plain": [
       "['a', 'a', 'a', 'a', 'a']"
      ]
     },
     "execution_count": 27,
     "metadata": {},
     "output_type": "execute_result"
    }
   ],
   "source": [
    "#Encuentra las vocales a\n",
    "re.findall(r'a', \"Buenos días a todos. Como todos los días hoy será un gran día\")"
   ]
  },
  {
   "cell_type": "code",
   "execution_count": 28,
   "metadata": {},
   "outputs": [
    {
     "data": {
      "text/plain": [
       "['e', 'a', 'a', 'a', 'e', 'a', 'a']"
      ]
     },
     "execution_count": 28,
     "metadata": {},
     "output_type": "execute_result"
    }
   ],
   "source": [
    "#Encuentra las vocales a y e \n",
    "# [] =opciones de caracteres a encontrar. Le daremos varas opciones [ae] = encuentra las a o las e\n",
    "re.findall(r'[ae]', \"Buenos días a todos. Como todos los días hoy será un gran día\")"
   ]
  },
  {
   "cell_type": "code",
   "execution_count": 68,
   "metadata": {},
   "outputs": [
    {
     "data": {
      "text/plain": [
       "['u',\n",
       " 'e',\n",
       " 'o',\n",
       " 'í',\n",
       " 'a',\n",
       " 'a',\n",
       " 'o',\n",
       " 'o',\n",
       " 'o',\n",
       " 'o',\n",
       " 'o',\n",
       " 'o',\n",
       " 'o',\n",
       " 'í',\n",
       " 'a',\n",
       " 'o',\n",
       " 'e',\n",
       " 'á',\n",
       " 'u',\n",
       " 'a',\n",
       " 'í',\n",
       " 'a']"
      ]
     },
     "execution_count": 68,
     "metadata": {},
     "output_type": "execute_result"
    }
   ],
   "source": [
    "#Ejercicio: Encuentra todas las vocales\n",
    "re.findall(r'[aeiouáéíóú]', \"Buenos días a todos. Como todos los días hoy será un gran día\".lower())\n",
    "\n",
    "vocales = \"aeiouáéíóú\"\n",
    "re.findall(\"[\"+vocales+vocales.upper()+\"]\", \"Buenos días a todos. Como todos los días hoy será un gran día\".lower())"
   ]
  },
  {
   "cell_type": "code",
   "execution_count": 71,
   "metadata": {},
   "outputs": [
    {
     "data": {
      "text/plain": [
       "['todo s', 'tod.ks', 'tod,ls']"
      ]
     },
     "execution_count": 71,
     "metadata": {},
     "output_type": "execute_result"
    }
   ],
   "source": [
    "# El punto indica cualquier elemento menos el salto de línea\n",
    "texto=\"todo s tod.ks     tod,ls, tod@s, todo\\ns\"\n",
    "re.findall(r'tod..s', texto)"
   ]
  },
  {
   "cell_type": "code",
   "execution_count": 72,
   "metadata": {},
   "outputs": [
    {
     "data": {
      "text/plain": [
       "['B', 'C']"
      ]
     },
     "execution_count": 72,
     "metadata": {},
     "output_type": "execute_result"
    }
   ],
   "source": [
    "# Encuentra todas las mayusculas a través de un rango\n",
    "re.findall(r'[A-Z]', \"Buenos días a todos. Como todos los días hoy será un gran día\")"
   ]
  },
  {
   "cell_type": "code",
   "execution_count": 73,
   "metadata": {},
   "outputs": [
    {
     "data": {
      "text/plain": [
       "['u',\n",
       " 'e',\n",
       " 'n',\n",
       " 'o',\n",
       " 's',\n",
       " 'd',\n",
       " 'a',\n",
       " 's',\n",
       " 'a',\n",
       " 't',\n",
       " 'o',\n",
       " 'd',\n",
       " 'o',\n",
       " 's',\n",
       " 'o',\n",
       " 'm',\n",
       " 'o',\n",
       " 't',\n",
       " 'o',\n",
       " 'd',\n",
       " 'o',\n",
       " 's',\n",
       " 'l',\n",
       " 'o',\n",
       " 's',\n",
       " 'd',\n",
       " 'a',\n",
       " 's',\n",
       " 'h',\n",
       " 'o',\n",
       " 'y',\n",
       " 's',\n",
       " 'e',\n",
       " 'r',\n",
       " 'u',\n",
       " 'n',\n",
       " 'g',\n",
       " 'r',\n",
       " 'a',\n",
       " 'n',\n",
       " 'd',\n",
       " 'a']"
      ]
     },
     "execution_count": 73,
     "metadata": {},
     "output_type": "execute_result"
    }
   ],
   "source": [
    "#Encuentra todas las minusculas a través de un rango\n",
    "re.findall(r'[a-z]', \"Buenos días a todos. Como todos los días hoy será un gran día\")"
   ]
  },
  {
   "cell_type": "markdown",
   "metadata": {},
   "source": [
    "- Las expresiones regulares se pueden concatenar para formar nuevas expresiones regulares; si A y B son expresiones regulares, AB también es una expresión regular. En general, si una cadena p coincide con A y otra cadena q coincide con B , la cadena pq coincidirá con AB"
   ]
  },
  {
   "cell_type": "code",
   "execution_count": 33,
   "metadata": {},
   "outputs": [
    {
     "data": {
      "text/plain": [
       "['Bu', 'Co']"
      ]
     },
     "execution_count": 33,
     "metadata": {},
     "output_type": "execute_result"
    }
   ],
   "source": [
    "#Encuentra todas las mayusculas a través de un rango seguido de una minuscula\n",
    "# [ao][ui] parejas de vocales = au,ai,ou,oi\n",
    "re.findall(r'[A-Z][a-z]', \"Buenos días  a todos. Como todos los días hoy será un gran día\")"
   ]
  },
  {
   "cell_type": "code",
   "execution_count": 79,
   "metadata": {},
   "outputs": [
    {
     "data": {
      "text/plain": [
       "['B',\n",
       " 'u',\n",
       " 'e',\n",
       " 'n',\n",
       " 'o',\n",
       " 's',\n",
       " ' ',\n",
       " 'd',\n",
       " 'a',\n",
       " 's',\n",
       " ' ',\n",
       " ' ',\n",
       " 'a',\n",
       " ' ',\n",
       " 't',\n",
       " 'o',\n",
       " 'd',\n",
       " 'o',\n",
       " 's',\n",
       " ' ',\n",
       " 'C',\n",
       " 'o',\n",
       " 'm',\n",
       " 'o',\n",
       " ' ',\n",
       " 't',\n",
       " 'o',\n",
       " 'd',\n",
       " 'o',\n",
       " 's',\n",
       " ' ',\n",
       " 'l',\n",
       " 'o',\n",
       " 's',\n",
       " ' ',\n",
       " 'd',\n",
       " 'a',\n",
       " 's',\n",
       " ' ',\n",
       " 'h',\n",
       " 'o',\n",
       " 'y',\n",
       " ' ',\n",
       " 's',\n",
       " 'e',\n",
       " 'r',\n",
       " ' ',\n",
       " 'u',\n",
       " 'n',\n",
       " ' ',\n",
       " 'g',\n",
       " 'r',\n",
       " 'a',\n",
       " 'n',\n",
       " ' ',\n",
       " 'd',\n",
       " 'a']"
      ]
     },
     "execution_count": 79,
     "metadata": {},
     "output_type": "execute_result"
    }
   ],
   "source": [
    "#Encuentra todas las mayusculas a través de un rango seguido de una minuscula\n",
    "# [ao][ui] parejas de vocales = au,ai,ou,oi\n",
    "re.findall(r'[A-Z,a-z, ]', \"Buenos días  a todos. Como todos los días hoy será un gran día\")"
   ]
  },
  {
   "cell_type": "code",
   "execution_count": 34,
   "metadata": {},
   "outputs": [
    {
     "data": {
      "text/plain": [
       "['Buen', 'Como']"
      ]
     },
     "execution_count": 34,
     "metadata": {},
     "output_type": "execute_result"
    }
   ],
   "source": [
    "#Encuentra todas las mayusculas a través de un rango seguido de tres minusculas\n",
    "re.findall(r'[A-Z][a-z][a-z][a-z]', \"Buenos días C@jd a todos. Como todos los días hoy será un gran día\")"
   ]
  },
  {
   "cell_type": "code",
   "execution_count": 35,
   "metadata": {},
   "outputs": [
    {
     "data": {
      "text/plain": [
       "['Buenos']"
      ]
     },
     "execution_count": 35,
     "metadata": {},
     "output_type": "execute_result"
    }
   ],
   "source": [
    "re.findall(r'[A-Z][a-z]{5}', \"Buenos Au Hags días C@jd a todos. Como todos los días hoy será Faa un gran día\")\n",
    "#{3} indica que deben haber 3 caracteres del tipo anterior"
   ]
  },
  {
   "cell_type": "code",
   "execution_count": 36,
   "metadata": {},
   "outputs": [
    {
     "data": {
      "text/plain": [
       "['Bue', 'Bnos', 'Como', 'Faa']"
      ]
     },
     "execution_count": 36,
     "metadata": {},
     "output_type": "execute_result"
    }
   ],
   "source": [
    "re.findall(r'[A-Z][a-z]{1,5}', \"BueBnos días C@jd a todos. Como todos los días hoy será Faa un gran día\")\n",
    "# {2,5} indica de 2 a 5 del tipo de caracter anterior"
   ]
  },
  {
   "cell_type": "code",
   "execution_count": 37,
   "metadata": {},
   "outputs": [
    {
     "data": {
      "text/plain": [
       "['31', '1']"
      ]
     },
     "execution_count": 37,
     "metadata": {},
     "output_type": "execute_result"
    }
   ],
   "source": [
    "# Encuentra números\n",
    "re.findall(r'\\d{1,2}', \"El 31 de diciembre es noche viejavy el 1 es año nuevo\")"
   ]
  },
  {
   "cell_type": "code",
   "execution_count": 38,
   "metadata": {},
   "outputs": [
    {
     "data": {
      "text/plain": [
       "['2024']"
      ]
     },
     "execution_count": 38,
     "metadata": {},
     "output_type": "execute_result"
    }
   ],
   "source": [
    "# Encuentra los años\n",
    "re.findall(r'\\d{4}', \"El 31 de diciembre es noche viejavy el 1 es año nuevo, estamos en 2024\")"
   ]
  },
  {
   "cell_type": "code",
   "execution_count": 39,
   "metadata": {},
   "outputs": [
    {
     "data": {
      "text/plain": [
       "['31aaa', '31baa']"
      ]
     },
     "execution_count": 39,
     "metadata": {},
     "output_type": "execute_result"
    }
   ],
   "source": [
    "# Encuentra números \\d = digito numerico\n",
    "re.findall(r'\\d{2}[ab]aa', \"El 31aaa de diciembre 31baa es noche vieja\")"
   ]
  },
  {
   "cell_type": "code",
   "execution_count": 80,
   "metadata": {},
   "outputs": [
    {
     "data": {
      "text/plain": [
       "['E', ' ', '3', '1', ' ', ' ', ' ', ' ', ' ']"
      ]
     },
     "execution_count": 80,
     "metadata": {},
     "output_type": "execute_result"
    }
   ],
   "source": [
    "# Que NO coincida con un número\n",
    "re.findall(r'[^a-z]', \"El 31 de diciembre es noche vieja\")"
   ]
  },
  {
   "cell_type": "code",
   "execution_count": 82,
   "metadata": {},
   "outputs": [
    {
     "data": {
      "text/plain": [
       "['E',\n",
       " 'l',\n",
       " ' ',\n",
       " ' ',\n",
       " 'd',\n",
       " 'e',\n",
       " ' ',\n",
       " 'd',\n",
       " 'i',\n",
       " 'c',\n",
       " 'i',\n",
       " 'e',\n",
       " 'm',\n",
       " 'b',\n",
       " 'r',\n",
       " 'e',\n",
       " ' ',\n",
       " 'e',\n",
       " 's',\n",
       " ' ',\n",
       " 'n',\n",
       " 'o',\n",
       " 'c',\n",
       " 'h',\n",
       " 'e',\n",
       " ' ',\n",
       " 'v',\n",
       " 'i',\n",
       " 'e',\n",
       " 'j',\n",
       " 'a']"
      ]
     },
     "execution_count": 82,
     "metadata": {},
     "output_type": "execute_result"
    }
   ],
   "source": [
    "# Similar a [^0-9] y a [^\\d]\n",
    "re.findall(r'\\D', \"El 31 de diciembre es noche vieja\")"
   ]
  },
  {
   "cell_type": "code",
   "execution_count": 42,
   "metadata": {},
   "outputs": [
    {
     "data": {
      "text/plain": [
       "['99999', '666666666', '5666']"
      ]
     },
     "execution_count": 42,
     "metadata": {},
     "output_type": "execute_result"
    }
   ],
   "source": [
    "re.findall(r'\\d{3,9}', \"De #Vacaciones 65 con @Jose en la #Playa _ 99999 d 6666666665666 6\")"
   ]
  },
  {
   "cell_type": "markdown",
   "metadata": {},
   "source": [
    "### + => 1 o mas\n",
    "### * => 0 o mas\n",
    "### ? => 0 o 1"
   ]
  },
  {
   "cell_type": "code",
   "execution_count": 88,
   "metadata": {},
   "outputs": [
    {
     "data": {
      "text/plain": [
       "['65', '33', '3', '99986', '6']"
      ]
     },
     "execution_count": 88,
     "metadata": {},
     "output_type": "execute_result"
    }
   ],
   "source": [
    "#Encuentra un número con 1 dígitos o mas\n",
    "# + = 1 o mas\n",
    "# * = 0 o mas\n",
    "# ? = 0 o 1\n",
    "re.findall(r'\\d+', \"De #Vacaciones 65 33 3con @Jose en la #Playa _ 99986 d 6\")"
   ]
  },
  {
   "cell_type": "code",
   "execution_count": 89,
   "metadata": {},
   "outputs": [
    {
     "data": {
      "text/plain": [
       "['s8263', '65', '99986', '6']"
      ]
     },
     "execution_count": 89,
     "metadata": {},
     "output_type": "execute_result"
    }
   ],
   "source": [
    "# Encuentra  s0911527 092741 s8675 s9822\n",
    "re.findall(r's?\\d+', \"De #Vacaciones s8263 65 con @Jose s en la #Playa _ 99986 d 6\")\n"
   ]
  },
  {
   "cell_type": "code",
   "execution_count": 45,
   "metadata": {},
   "outputs": [
    {
     "data": {
      "text/plain": [
       "['ssssss8263', '65', 'sssss4', '99986', '6']"
      ]
     },
     "execution_count": 45,
     "metadata": {},
     "output_type": "execute_result"
    }
   ],
   "source": [
    "# Encuentra  s0911527 092741 s8675 sss9822\n",
    "re.findall(r's*\\d+', \"De #Vacaciones ssssss8263 65 con @Jose en la #Playa _ sssss4 sssss 99986 d 6\")\n"
   ]
  },
  {
   "cell_type": "code",
   "execution_count": 96,
   "metadata": {},
   "outputs": [
    {
     "data": {
      "text/plain": [
       "['8263',\n",
       " '65',\n",
       " '4',\n",
       " '99986',\n",
       " '6',\n",
       " '-15',\n",
       " '-12513425312',\n",
       " '3241',\n",
       " '-12345',\n",
       " '1245',\n",
       " '15']"
      ]
     },
     "execution_count": 96,
     "metadata": {},
     "output_type": "execute_result"
    }
   ],
   "source": [
    "# encunetra positivos y negativos\n",
    "re.findall(r'-?\\d+', \"De #Vacaciones ssssss8263 65 con @Jose en la #Playa _ sssss4 sssss 99986 d 6 -15 -12513425312 3241 -12345 1245 15 \")"
   ]
  },
  {
   "cell_type": "code",
   "execution_count": 46,
   "metadata": {},
   "outputs": [
    {
     "data": {
      "text/plain": [
       "['De', '#Vacaciones', 'con', '@Jose', 'en', 'la', '#Playa', '_']"
      ]
     },
     "execution_count": 46,
     "metadata": {},
     "output_type": "execute_result"
    }
   ],
   "source": [
    "#Encuentra todos las palabras que no sean números, letras ni espacios\n",
    "# \\s == espacio\n",
    "# \\. == un punto\n",
    "# . == cualquier caracter menos salto de linea\n",
    "# \\( == (\n",
    "re.findall(r'[^\\s\\.]+', \"De #Vacaciones con. @Jose en la #Playa _\")"
   ]
  },
  {
   "cell_type": "code",
   "execution_count": 102,
   "metadata": {
    "scrolled": true
   },
   "outputs": [
    {
     "data": {
      "text/plain": [
       "['82,63',\n",
       " '65',\n",
       " '99986',\n",
       " '-1,5',\n",
       " '-12513,425312',\n",
       " '324,1',\n",
       " '-12345',\n",
       " '1245',\n",
       " '1,5']"
      ]
     },
     "execution_count": 102,
     "metadata": {},
     "output_type": "execute_result"
    }
   ],
   "source": [
    "# Ejercicio: Numeros con decimales y sin decimales?\n",
    "re.findall(r'-?\\d+,?\\d+', \"De #Vacaciones ssssss82,63 65 con @Jose en la #Playa _ sssss4 sssss 99986 d 6 -1,5 -12513,425312 324,1 -12345 1245 1,5 \")\n"
   ]
  },
  {
   "cell_type": "code",
   "execution_count": 48,
   "metadata": {},
   "outputs": [
    {
     "data": {
      "text/plain": [
       "['De', 'Vacaciones', 'con', 'Jose', 'en', 'la', 'Playa', '863', '975']"
      ]
     },
     "execution_count": 48,
     "metadata": {},
     "output_type": "execute_result"
    }
   ],
   "source": [
    "\n",
    "# \\w == alfa numerico [a-zA-Z0-9]\n",
    "re.findall(r'\\w+', \"De #Vacaciones, con. @Jose en la #Playa 863.975\")"
   ]
  },
  {
   "cell_type": "code",
   "execution_count": 49,
   "metadata": {},
   "outputs": [
    {
     "data": {
      "text/plain": [
       "['#Vacaciones', '#hagaf', '#Playa']"
      ]
     },
     "execution_count": 49,
     "metadata": {},
     "output_type": "execute_result"
    }
   ],
   "source": [
    "#Encuentra todos los hashtag\n",
    "re.findall(r'#\\w+', \"De #Vacaciones, con. @Jose en  hagsf#hagaf la #Playa 863.975\")"
   ]
  },
  {
   "cell_type": "code",
   "execution_count": 104,
   "metadata": {},
   "outputs": [
    {
     "data": {
      "text/plain": [
       "['#Vacaciones', '@Jose', '#hagaf', '#Playa']"
      ]
     },
     "execution_count": 104,
     "metadata": {},
     "output_type": "execute_result"
    }
   ],
   "source": [
    "#Encuentra todos los hashtag y arrobas que tengan de 2 a 10 caracteres alfanumericos\n",
    "re.findall(r'[#@]\\w{2,10}', \"De #Vacaciones, con. @Jose en  hagsf#hagaf la #Playa 863.975\")"
   ]
  },
  {
   "cell_type": "code",
   "execution_count": 108,
   "metadata": {},
   "outputs": [
    {
     "data": {
      "text/plain": [
       "['ac',\n",
       " 'ac',\n",
       " 'io',\n",
       " 'ne',\n",
       " '83',\n",
       " 'gf',\n",
       " '65',\n",
       " 'co',\n",
       " 'os',\n",
       " 'en',\n",
       " 'la',\n",
       " 'la',\n",
       " 'ya',\n",
       " '99',\n",
       " '55']"
      ]
     },
     "execution_count": 108,
     "metadata": {},
     "output_type": "execute_result"
    }
   ],
   "source": [
    "# | == o\n",
    "re.findall(r'\\d{2}|[a-z]{2}', \"De #Vacaciones 836gff  65 con @Jose en la #Playae _ 99 d 6 555\")"
   ]
  },
  {
   "cell_type": "code",
   "execution_count": 109,
   "metadata": {},
   "outputs": [
    {
     "data": {
      "text/plain": [
       "['De',\n",
       " 'Vacaciones',\n",
       " '836',\n",
       " 'gff',\n",
       " '65',\n",
       " 'con',\n",
       " 'Jose',\n",
       " 'en',\n",
       " 'la',\n",
       " 'Playae',\n",
       " '99',\n",
       " 'd',\n",
       " '6',\n",
       " '555']"
      ]
     },
     "execution_count": 109,
     "metadata": {},
     "output_type": "execute_result"
    }
   ],
   "source": [
    "# Ejercicio encuentra las palabaras que solo tengan numeros o letras pero no simbolos ni espacios\n",
    "re.findall(r'\\d+|[A-Za-z]+', \"De #Vacaciones 836gff  65 con @Jose en la #Playae _ 99 d 6 555\")"
   ]
  },
  {
   "cell_type": "code",
   "execution_count": 53,
   "metadata": {},
   "outputs": [
    {
     "data": {
      "text/plain": [
       "['Jose', 'Miquel']"
      ]
     },
     "execution_count": 53,
     "metadata": {},
     "output_type": "execute_result"
    }
   ],
   "source": [
    "#Capturamos un patron: () es la parte de la expresión regular que se nos devolvera\n",
    "re.findall(r'@(\\w+)', \"De ##Vacaciones con @Jose en la #Playa @Miquel\")"
   ]
  },
  {
   "cell_type": "code",
   "execution_count": 54,
   "metadata": {},
   "outputs": [
    {
     "data": {
      "text/plain": [
       "['Vacaciones', 'Jose', 'Playa', 'Miquel']"
      ]
     },
     "execution_count": 54,
     "metadata": {},
     "output_type": "execute_result"
    }
   ],
   "source": [
    "#Capturamos un patron: () es la parte de la expresión regular que se nos devolvera\n",
    "re.findall(r'[@#](\\w+)', \"De #Vacaciones con @Jose en la #Playa @Miquel\")"
   ]
  },
  {
   "cell_type": "code",
   "execution_count": 55,
   "metadata": {},
   "outputs": [
    {
     "data": {
      "text/plain": [
       "['hola']"
      ]
     },
     "execution_count": 55,
     "metadata": {},
     "output_type": "execute_result"
    }
   ],
   "source": [
    "# \\b word boundary frontera\n",
    "re.findall(r'\\bhola\\b', \"De #Vacaciones con holan holaaa @Jose en la #Playa @Miquel hola\")"
   ]
  },
  {
   "cell_type": "code",
   "execution_count": 56,
   "metadata": {},
   "outputs": [
    {
     "data": {
      "text/plain": [
       "['83', '7353']"
      ]
     },
     "execution_count": 56,
     "metadata": {},
     "output_type": "execute_result"
    }
   ],
   "source": [
    "# un punto lo lee como frontera\n",
    "re.findall(r'\\b\\d+\\b', \"72625gsgsgs 83,s.7353\")"
   ]
  },
  {
   "cell_type": "code",
   "execution_count": 57,
   "metadata": {},
   "outputs": [
    {
     "data": {
      "text/plain": [
       "['con', 'ennddgss']"
      ]
     },
     "execution_count": 57,
     "metadata": {},
     "output_type": "execute_result"
    }
   ],
   "source": [
    "# \\ para caracteres especiales\n",
    "re.findall(r'(\\w+)\\.', \"De #Vacaciones con. @Jose ennddgss. la #Playa @Miquel\")"
   ]
  },
  {
   "cell_type": "code",
   "execution_count": 58,
   "metadata": {},
   "outputs": [
    {
     "data": {
      "text/plain": [
       "['33jagsfs']"
      ]
     },
     "execution_count": 58,
     "metadata": {},
     "output_type": "execute_result"
    }
   ],
   "source": [
    "re.findall(r'\\((\\w+)\\)', \"De #Vacaciones con. @Jose (33jagsfs) en la #Playa @Miquel\")"
   ]
  },
  {
   "cell_type": "code",
   "execution_count": null,
   "metadata": {},
   "outputs": [],
   "source": []
  },
  {
   "cell_type": "markdown",
   "metadata": {},
   "source": [
    "## Crea las regex para encontrar lo siguiente y describe que trabajo realizan los metacaracteres\n",
    "\n",
    "1. Un número telefonico de España\n",
    "2. Un hashtag que comience con un número en lugar de una letra\n",
    "3. Un hashtag que comience con un número o letra \n",
    "4. Un número impar de dos dígitos\n",
    "5. Palabras que comiencen con \"_\"\n",
    "6. Numeros en punto flotante Por ejemplo -2.3e-1 0.345e102\n"
   ]
  },
  {
   "cell_type": "code",
   "execution_count": 111,
   "metadata": {},
   "outputs": [
    {
     "data": {
      "text/plain": [
       "['+34627011745']"
      ]
     },
     "execution_count": 111,
     "metadata": {},
     "output_type": "execute_result"
    }
   ],
   "source": [
    "re.findall(r'[\\+34]\\d{11}', \"+34627011745\")"
   ]
  },
  {
   "cell_type": "code",
   "execution_count": 119,
   "metadata": {},
   "outputs": [
    {
     "data": {
      "text/plain": [
       "['#3462701174']"
      ]
     },
     "execution_count": 119,
     "metadata": {},
     "output_type": "execute_result"
    }
   ],
   "source": [
    "re.findall(r'\\#\\d+', \"#3462701174 # 5 3\")"
   ]
  },
  {
   "cell_type": "code",
   "execution_count": 122,
   "metadata": {},
   "outputs": [
    {
     "data": {
      "text/plain": [
       "['#3462701174', '#dqwe32']"
      ]
     },
     "execution_count": 122,
     "metadata": {},
     "output_type": "execute_result"
    }
   ],
   "source": [
    "re.findall(r'\\#\\w+', \"#3462701174 # 5#dqwe32 3\")"
   ]
  },
  {
   "cell_type": "code",
   "execution_count": 125,
   "metadata": {},
   "outputs": [
    {
     "data": {
      "text/plain": [
       "['27', '11']"
      ]
     },
     "execution_count": 125,
     "metadata": {},
     "output_type": "execute_result"
    }
   ],
   "source": [
    "re.findall(r'[1-9][1,3,5,7,9]', \"#3462701174 # 5#dqwe32 3\")"
   ]
  },
  {
   "cell_type": "code",
   "execution_count": 131,
   "metadata": {},
   "outputs": [
    {
     "data": {
      "text/plain": [
       "['_eq', '_wefw']"
      ]
     },
     "execution_count": 131,
     "metadata": {},
     "output_type": "execute_result"
    }
   ],
   "source": [
    "re.findall(r'\\_[A-Za-z]+', \"#3462701174 # 5 3 _eq _32 _ _wefw234\")"
   ]
  },
  {
   "cell_type": "code",
   "execution_count": 142,
   "metadata": {},
   "outputs": [
    {
     "data": {
      "text/plain": [
       "[]"
      ]
     },
     "execution_count": 142,
     "metadata": {},
     "output_type": "execute_result"
    }
   ],
   "source": [
    "re.findall(r'[-|+]?[\\d+[a-zA-Z]*]+\\.?[\\d*[a-zA-Z]?]*', \"#3462701174 # 5 3 _eq _32 _ _wefw234  -2.3e-1 0.345e102\")"
   ]
  },
  {
   "cell_type": "markdown",
   "metadata": {},
   "source": [
    "7. Palabras que tengan la siguiente estructura: \"<....>\" (menor que al inicio y mayor que la final).\n",
    "8. Palabras que contengan un número al final\n",
    "9. Un correo electronico de gmail.com\n",
    "10. Cualquier correo electronico que termine en .com "
   ]
  },
  {
   "cell_type": "code",
   "execution_count": null,
   "metadata": {},
   "outputs": [],
   "source": []
  }
 ],
 "metadata": {
  "kernelspec": {
   "display_name": "Python 3 (ipykernel)",
   "language": "python",
   "name": "python3"
  },
  "language_info": {
   "codemirror_mode": {
    "name": "ipython",
    "version": 3
   },
   "file_extension": ".py",
   "mimetype": "text/x-python",
   "name": "python",
   "nbconvert_exporter": "python",
   "pygments_lexer": "ipython3",
   "version": "3.11.7"
  }
 },
 "nbformat": 4,
 "nbformat_minor": 4
}
