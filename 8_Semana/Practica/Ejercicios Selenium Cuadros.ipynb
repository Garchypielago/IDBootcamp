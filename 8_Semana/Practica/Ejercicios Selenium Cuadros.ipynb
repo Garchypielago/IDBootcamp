{
 "cells": [
  {
   "cell_type": "code",
   "execution_count": 1,
   "metadata": {},
   "outputs": [],
   "source": [
    "import requests\n",
    "from time import sleep, strftime\n",
    "import random\n",
    "from random import randint\n",
    "from bs4 import BeautifulSoup\n",
    "from selenium import webdriver\n",
    "import shutil\n",
    "import pickle\n",
    "import pandas as pd\n",
    "import os"
   ]
  },
  {
   "cell_type": "markdown",
   "metadata": {},
   "source": [
    "## Descargar los cuadros de Monet y Picasso con la información de cada cuadro"
   ]
  },
  {
   "cell_type": "code",
   "execution_count": 5,
   "metadata": {},
   "outputs": [],
   "source": [
    "#Tener cuidado con el path\n",
    "from selenium.webdriver.common.by import By\n",
    "from selenium.webdriver.chrome.service import Service\n",
    "chrome_driver = \"chromedriver.exe\"\n",
    "driver_service = Service(executable_path = chrome_driver)\n",
    "navegador = webdriver.Chrome(service=driver_service)"
   ]
  },
  {
   "cell_type": "code",
   "execution_count": 6,
   "metadata": {},
   "outputs": [],
   "source": [
    "navegador.get(\"https://www.todocuadros.es/\")"
   ]
  },
  {
   "cell_type": "markdown",
   "metadata": {},
   "source": [
    "### Haz una funcion encuentra_cuadros(nombre, navegador) que busque el nombre en al buscador y que devuelva una lista de nombres de cuadros"
   ]
  },
  {
   "cell_type": "markdown",
   "metadata": {},
   "source": [
    "Tips: \\\n",
    "navegador.execute_script(\"window.scrollTo(0, document.body.scrollHeight);\") # para hacer scroll down\n",
    "\n",
    "\n",
    "Para descargar el html: \\\n",
    "source = navegador.page_source \\\n",
    "soup = BeautifulSoup(source)"
   ]
  },
  {
   "cell_type": "code",
   "execution_count": 73,
   "metadata": {},
   "outputs": [],
   "source": [
    "def encuentra_cuadros(nombre, navegador):\n"
   ]
  },
  {
   "cell_type": "markdown",
   "metadata": {},
   "source": [
    "### Haz una función obtener_info(soup) que devuelva la info de un cuadro"
   ]
  },
  {
   "cell_type": "code",
   "execution_count": 17,
   "metadata": {},
   "outputs": [],
   "source": [
    "def obtener_info(soup):\n"
   ]
  },
  {
   "cell_type": "code",
   "execution_count": 62,
   "metadata": {},
   "outputs": [
    {
     "data": {
      "text/plain": [
       "['Mujer con Peras',\n",
       " 'La Amistad',\n",
       " 'Niño con Paloma',\n",
       " 'Mesa frente a Ventana',\n",
       " 'El Descanso',\n",
       " 'Desnudo y Naturaleza Muerta',\n",
       " 'Niña Frente al Espejo',\n",
       " 'La Lección',\n",
       " 'El Sueño',\n",
       " 'Paisaje Mediterráneo',\n",
       " 'Las Señoritas de Avignon',\n",
       " 'Homenaje a Picasso',\n",
       " 'Retrato de Dora Maar',\n",
       " 'La Amistad',\n",
       " 'Cuadro Personalizado',\n",
       " 'Visión del Apocalipsis',\n",
       " 'Amarillo, rojo y azul',\n",
       " 'Paisaje cerca de Pont-Aven - P. Gauguin',\n",
       " 'La Lección',\n",
       " 'Desnudo y Naturaleza Muerta',\n",
       " 'La Amistad',\n",
       " 'Amarillo, rojo y azul',\n",
       " 'Mujer con Peras',\n",
       " 'La Amistad',\n",
       " 'Niño con Paloma',\n",
       " 'Mesa frente a Ventana',\n",
       " 'El Descanso',\n",
       " 'Desnudo y Naturaleza Muerta',\n",
       " 'Niña Frente al Espejo',\n",
       " 'La Lección',\n",
       " 'El Sueño',\n",
       " 'Paisaje Mediterráneo']"
      ]
     },
     "execution_count": 62,
     "metadata": {},
     "output_type": "execute_result"
    }
   ],
   "source": [
    "encuentra_cuadros(\"Picasso\", navegador)"
   ]
  },
  {
   "cell_type": "markdown",
   "metadata": {},
   "source": [
    "### Haz una función obtener_imagen(pintor, cud, navegador, path) que descargue la imagen en una carpeta path y que devuelva la lista de datos utilizando la función anterior\n",
    "\n",
    "Tips: \\\n",
    "Para abrir una imagen de 0\n",
    "imagen = open(path+\"\\\\\"+cuad+'.jpg', 'wb')\n",
    "\n",
    "Para guardar una imagen segun su href: \\\n",
    "resp = requests.get(img_cuadro, stream=True) \\\n",
    "resp.raw.decode_content = True \\\n",
    "shutil.copyfileobj(resp.raw, imagen) \\\n",
    "imagen.close() \\\n",
    "\n",
    "Para volver hacia atras: \\\n",
    "navegador.back()"
   ]
  },
  {
   "cell_type": "code",
   "execution_count": 19,
   "metadata": {},
   "outputs": [],
   "source": [
    "def obtener_imagen(pintor, cuad, navegador, path):\n",
    "\n",
    "    return lista_datos"
   ]
  },
  {
   "cell_type": "markdown",
   "metadata": {},
   "source": [
    "### haz una función descarga datos(nombre, path) que descargue todas las imagenes de un pintor y que devuelva un dataframe con toda la información de cada cuadro"
   ]
  },
  {
   "cell_type": "code",
   "execution_count": 84,
   "metadata": {},
   "outputs": [],
   "source": [
    "def descarga_info(nombre, path = \"Cuadros\"):\n",
    "  \n",
    "    return df"
   ]
  },
  {
   "cell_type": "code",
   "execution_count": null,
   "metadata": {},
   "outputs": [
    {
     "name": "stdout",
     "output_type": "stream",
     "text": [
      "Mujer con Peras\n",
      "La Amistad\n",
      "Niño con Paloma\n"
     ]
    }
   ],
   "source": [
    "df=descarga_info(\"Picasso\", \"Cuadros\")"
   ]
  },
  {
   "cell_type": "code",
   "execution_count": null,
   "metadata": {},
   "outputs": [],
   "source": []
  },
  {
   "cell_type": "code",
   "execution_count": null,
   "metadata": {},
   "outputs": [],
   "source": []
  }
 ],
 "metadata": {
  "kernelspec": {
   "display_name": "Python 3 (ipykernel)",
   "language": "python",
   "name": "python3"
  },
  "language_info": {
   "codemirror_mode": {
    "name": "ipython",
    "version": 3
   },
   "file_extension": ".py",
   "mimetype": "text/x-python",
   "name": "python",
   "nbconvert_exporter": "python",
   "pygments_lexer": "ipython3",
   "version": "3.10.13"
  }
 },
 "nbformat": 4,
 "nbformat_minor": 4
}
