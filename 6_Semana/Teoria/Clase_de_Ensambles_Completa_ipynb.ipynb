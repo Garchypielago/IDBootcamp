{
  "nbformat": 4,
  "nbformat_minor": 0,
  "metadata": {
    "colab": {
      "provenance": [],
      "toc_visible": true
    },
    "kernelspec": {
      "name": "python3",
      "display_name": "Python 3"
    },
    "language_info": {
      "name": "python"
    }
  },
  "cells": [
    {
      "cell_type": "code",
      "source": [],
      "metadata": {
        "id": "y9hRt1BWV23m"
      },
      "execution_count": null,
      "outputs": []
    },
    {
      "cell_type": "markdown",
      "source": [
        "#Ensamblaje\n",
        "Agrega resultados de diferentes algoritmos o distintas instancias del mismo algoritmo, para obtener una mejor predicción"
      ],
      "metadata": {
        "id": "DU0XR2-OV46v"
      }
    },
    {
      "cell_type": "markdown",
      "source": [
        "#1. Voting"
      ],
      "metadata": {
        "id": "-1t9B5l1cHD_"
      }
    },
    {
      "cell_type": "code",
      "source": [
        "from sklearn.datasets import load_iris\n",
        "from sklearn.ensemble import RandomForestClassifier\n",
        "from sklearn.linear_model import LogisticRegression\n",
        "from sklearn.svm import SVC\n",
        "from sklearn.metrics import accuracy_score, roc_auc_score\n",
        "import pandas as pd\n",
        "import numpy as np\n",
        "from sklearn.model_selection import train_test_split\n",
        "X, y = load_iris(return_X_y=True)"
      ],
      "metadata": {
        "id": "3ngmfxg6cIrX"
      },
      "execution_count": 3,
      "outputs": []
    },
    {
      "cell_type": "code",
      "source": [
        "y=np.where(y==2,1,0)"
      ],
      "metadata": {
        "id": "mmiIGkRfcYqm"
      },
      "execution_count": 4,
      "outputs": []
    },
    {
      "cell_type": "code",
      "source": [],
      "metadata": {
        "id": "KBhqJ5otfH83"
      },
      "execution_count": null,
      "outputs": []
    },
    {
      "cell_type": "code",
      "source": [],
      "metadata": {
        "id": "yU-OITPNfLMC"
      },
      "execution_count": null,
      "outputs": []
    },
    {
      "cell_type": "code",
      "source": [
        "X_train, X_test, y_train, y_test = train_test_split(\n",
        "    X, y, stratify=y\n",
        ")"
      ],
      "metadata": {
        "id": "PU38TW5lch5e"
      },
      "execution_count": 5,
      "outputs": []
    },
    {
      "cell_type": "code",
      "source": [
        "from sklearn.ensemble import VotingClassifier\n",
        "\n",
        "model1=LogisticRegression()\n",
        "model2=SVC(probability=True)\n",
        "model3=RandomForestClassifier()\n"
      ],
      "metadata": {
        "id": "Ecz4iWsbcvtt"
      },
      "execution_count": 6,
      "outputs": []
    },
    {
      "cell_type": "code",
      "source": [
        "model3"
      ],
      "metadata": {
        "colab": {
          "base_uri": "https://localhost:8080/",
          "height": 74
        },
        "id": "Zywk6N2AdOV3",
        "outputId": "fc790288-f0fe-4388-b016-c39a8c98cbb5"
      },
      "execution_count": 7,
      "outputs": [
        {
          "output_type": "execute_result",
          "data": {
            "text/plain": [
              "RandomForestClassifier()"
            ],
            "text/html": [
              "<style>#sk-container-id-1 {color: black;background-color: white;}#sk-container-id-1 pre{padding: 0;}#sk-container-id-1 div.sk-toggleable {background-color: white;}#sk-container-id-1 label.sk-toggleable__label {cursor: pointer;display: block;width: 100%;margin-bottom: 0;padding: 0.3em;box-sizing: border-box;text-align: center;}#sk-container-id-1 label.sk-toggleable__label-arrow:before {content: \"▸\";float: left;margin-right: 0.25em;color: #696969;}#sk-container-id-1 label.sk-toggleable__label-arrow:hover:before {color: black;}#sk-container-id-1 div.sk-estimator:hover label.sk-toggleable__label-arrow:before {color: black;}#sk-container-id-1 div.sk-toggleable__content {max-height: 0;max-width: 0;overflow: hidden;text-align: left;background-color: #f0f8ff;}#sk-container-id-1 div.sk-toggleable__content pre {margin: 0.2em;color: black;border-radius: 0.25em;background-color: #f0f8ff;}#sk-container-id-1 input.sk-toggleable__control:checked~div.sk-toggleable__content {max-height: 200px;max-width: 100%;overflow: auto;}#sk-container-id-1 input.sk-toggleable__control:checked~label.sk-toggleable__label-arrow:before {content: \"▾\";}#sk-container-id-1 div.sk-estimator input.sk-toggleable__control:checked~label.sk-toggleable__label {background-color: #d4ebff;}#sk-container-id-1 div.sk-label input.sk-toggleable__control:checked~label.sk-toggleable__label {background-color: #d4ebff;}#sk-container-id-1 input.sk-hidden--visually {border: 0;clip: rect(1px 1px 1px 1px);clip: rect(1px, 1px, 1px, 1px);height: 1px;margin: -1px;overflow: hidden;padding: 0;position: absolute;width: 1px;}#sk-container-id-1 div.sk-estimator {font-family: monospace;background-color: #f0f8ff;border: 1px dotted black;border-radius: 0.25em;box-sizing: border-box;margin-bottom: 0.5em;}#sk-container-id-1 div.sk-estimator:hover {background-color: #d4ebff;}#sk-container-id-1 div.sk-parallel-item::after {content: \"\";width: 100%;border-bottom: 1px solid gray;flex-grow: 1;}#sk-container-id-1 div.sk-label:hover label.sk-toggleable__label {background-color: #d4ebff;}#sk-container-id-1 div.sk-serial::before {content: \"\";position: absolute;border-left: 1px solid gray;box-sizing: border-box;top: 0;bottom: 0;left: 50%;z-index: 0;}#sk-container-id-1 div.sk-serial {display: flex;flex-direction: column;align-items: center;background-color: white;padding-right: 0.2em;padding-left: 0.2em;position: relative;}#sk-container-id-1 div.sk-item {position: relative;z-index: 1;}#sk-container-id-1 div.sk-parallel {display: flex;align-items: stretch;justify-content: center;background-color: white;position: relative;}#sk-container-id-1 div.sk-item::before, #sk-container-id-1 div.sk-parallel-item::before {content: \"\";position: absolute;border-left: 1px solid gray;box-sizing: border-box;top: 0;bottom: 0;left: 50%;z-index: -1;}#sk-container-id-1 div.sk-parallel-item {display: flex;flex-direction: column;z-index: 1;position: relative;background-color: white;}#sk-container-id-1 div.sk-parallel-item:first-child::after {align-self: flex-end;width: 50%;}#sk-container-id-1 div.sk-parallel-item:last-child::after {align-self: flex-start;width: 50%;}#sk-container-id-1 div.sk-parallel-item:only-child::after {width: 0;}#sk-container-id-1 div.sk-dashed-wrapped {border: 1px dashed gray;margin: 0 0.4em 0.5em 0.4em;box-sizing: border-box;padding-bottom: 0.4em;background-color: white;}#sk-container-id-1 div.sk-label label {font-family: monospace;font-weight: bold;display: inline-block;line-height: 1.2em;}#sk-container-id-1 div.sk-label-container {text-align: center;}#sk-container-id-1 div.sk-container {/* jupyter's `normalize.less` sets `[hidden] { display: none; }` but bootstrap.min.css set `[hidden] { display: none !important; }` so we also need the `!important` here to be able to override the default hidden behavior on the sphinx rendered scikit-learn.org. See: https://github.com/scikit-learn/scikit-learn/issues/21755 */display: inline-block !important;position: relative;}#sk-container-id-1 div.sk-text-repr-fallback {display: none;}</style><div id=\"sk-container-id-1\" class=\"sk-top-container\"><div class=\"sk-text-repr-fallback\"><pre>RandomForestClassifier()</pre><b>In a Jupyter environment, please rerun this cell to show the HTML representation or trust the notebook. <br />On GitHub, the HTML representation is unable to render, please try loading this page with nbviewer.org.</b></div><div class=\"sk-container\" hidden><div class=\"sk-item\"><div class=\"sk-estimator sk-toggleable\"><input class=\"sk-toggleable__control sk-hidden--visually\" id=\"sk-estimator-id-1\" type=\"checkbox\" checked><label for=\"sk-estimator-id-1\" class=\"sk-toggleable__label sk-toggleable__label-arrow\">RandomForestClassifier</label><div class=\"sk-toggleable__content\"><pre>RandomForestClassifier()</pre></div></div></div></div></div>"
            ]
          },
          "metadata": {},
          "execution_count": 7
        }
      ]
    },
    {
      "cell_type": "code",
      "source": [
        "voting_model = VotingClassifier (\n",
        "    estimators=[(\"Logística\", model1),\n",
        "               (\"SV Machine\", model2),\n",
        "               (\"RandomForest\", model3)],\n",
        "    voting=\"soft\")\n",
        "\n",
        "voting_model = voting_model.fit(X_train, y_train)"
      ],
      "metadata": {
        "id": "bY_bendndT0u"
      },
      "execution_count": 10,
      "outputs": []
    },
    {
      "cell_type": "code",
      "source": [],
      "metadata": {
        "id": "r9U2f2GKgAyl"
      },
      "execution_count": null,
      "outputs": []
    },
    {
      "cell_type": "code",
      "source": [
        "voting_model.predict(X_test)"
      ],
      "metadata": {
        "colab": {
          "base_uri": "https://localhost:8080/"
        },
        "id": "Kab65S90fMWl",
        "outputId": "d21204cb-c190-48ca-9aee-0bfe9f582a43"
      },
      "execution_count": 11,
      "outputs": [
        {
          "output_type": "execute_result",
          "data": {
            "text/plain": [
              "array([0, 1, 0, 0, 1, 0, 0, 1, 1, 0, 0, 0, 0, 1, 1, 0, 0, 1, 1, 0, 0, 0,\n",
              "       1, 0, 1, 0, 0, 1, 0, 0, 1, 0, 0, 0, 0, 1, 0, 1])"
            ]
          },
          "metadata": {},
          "execution_count": 11
        }
      ]
    },
    {
      "cell_type": "code",
      "source": [
        "voting_model.get_params()"
      ],
      "metadata": {
        "colab": {
          "base_uri": "https://localhost:8080/"
        },
        "id": "EZcx9Cc8gUUW",
        "outputId": "fb3b89c6-e727-4c18-f0a7-92594bfb9e64"
      },
      "execution_count": 12,
      "outputs": [
        {
          "output_type": "execute_result",
          "data": {
            "text/plain": [
              "{'estimators': [('Logística', LogisticRegression()),\n",
              "  ('SV Machine', SVC(probability=True)),\n",
              "  ('RandomForest', RandomForestClassifier())],\n",
              " 'flatten_transform': True,\n",
              " 'n_jobs': None,\n",
              " 'verbose': False,\n",
              " 'voting': 'soft',\n",
              " 'weights': None,\n",
              " 'Logística': LogisticRegression(),\n",
              " 'SV Machine': SVC(probability=True),\n",
              " 'RandomForest': RandomForestClassifier(),\n",
              " 'Logística__C': 1.0,\n",
              " 'Logística__class_weight': None,\n",
              " 'Logística__dual': False,\n",
              " 'Logística__fit_intercept': True,\n",
              " 'Logística__intercept_scaling': 1,\n",
              " 'Logística__l1_ratio': None,\n",
              " 'Logística__max_iter': 100,\n",
              " 'Logística__multi_class': 'auto',\n",
              " 'Logística__n_jobs': None,\n",
              " 'Logística__penalty': 'l2',\n",
              " 'Logística__random_state': None,\n",
              " 'Logística__solver': 'lbfgs',\n",
              " 'Logística__tol': 0.0001,\n",
              " 'Logística__verbose': 0,\n",
              " 'Logística__warm_start': False,\n",
              " 'SV Machine__C': 1.0,\n",
              " 'SV Machine__break_ties': False,\n",
              " 'SV Machine__cache_size': 200,\n",
              " 'SV Machine__class_weight': None,\n",
              " 'SV Machine__coef0': 0.0,\n",
              " 'SV Machine__decision_function_shape': 'ovr',\n",
              " 'SV Machine__degree': 3,\n",
              " 'SV Machine__gamma': 'scale',\n",
              " 'SV Machine__kernel': 'rbf',\n",
              " 'SV Machine__max_iter': -1,\n",
              " 'SV Machine__probability': True,\n",
              " 'SV Machine__random_state': None,\n",
              " 'SV Machine__shrinking': True,\n",
              " 'SV Machine__tol': 0.001,\n",
              " 'SV Machine__verbose': False,\n",
              " 'RandomForest__bootstrap': True,\n",
              " 'RandomForest__ccp_alpha': 0.0,\n",
              " 'RandomForest__class_weight': None,\n",
              " 'RandomForest__criterion': 'gini',\n",
              " 'RandomForest__max_depth': None,\n",
              " 'RandomForest__max_features': 'sqrt',\n",
              " 'RandomForest__max_leaf_nodes': None,\n",
              " 'RandomForest__max_samples': None,\n",
              " 'RandomForest__min_impurity_decrease': 0.0,\n",
              " 'RandomForest__min_samples_leaf': 1,\n",
              " 'RandomForest__min_samples_split': 2,\n",
              " 'RandomForest__min_weight_fraction_leaf': 0.0,\n",
              " 'RandomForest__n_estimators': 100,\n",
              " 'RandomForest__n_jobs': None,\n",
              " 'RandomForest__oob_score': False,\n",
              " 'RandomForest__random_state': None,\n",
              " 'RandomForest__verbose': 0,\n",
              " 'RandomForest__warm_start': False}"
            ]
          },
          "metadata": {},
          "execution_count": 12
        }
      ]
    },
    {
      "cell_type": "code",
      "source": [
        "yhat_test = voting_model.predict(X_test)\n",
        "print(\"Accuracy:\", accuracy_score(y_test, yhat_test))"
      ],
      "metadata": {
        "colab": {
          "base_uri": "https://localhost:8080/"
        },
        "id": "x0XU1lGvhL-4",
        "outputId": "6541e64b-5886-49a1-ca59-bc1976bd3f64"
      },
      "execution_count": 13,
      "outputs": [
        {
          "output_type": "stream",
          "name": "stdout",
          "text": [
            "Accuracy: 0.9736842105263158\n"
          ]
        }
      ]
    },
    {
      "cell_type": "code",
      "source": [
        "voting_model.predict_proba(X_test)"
      ],
      "metadata": {
        "colab": {
          "base_uri": "https://localhost:8080/"
        },
        "id": "cIxIngZeiTZf",
        "outputId": "e870b36f-5365-4f4f-99d9-1f64b38498b4"
      },
      "execution_count": 14,
      "outputs": [
        {
          "output_type": "execute_result",
          "data": {
            "text/plain": [
              "array([[9.55414663e-01, 4.45853366e-02],\n",
              "       [3.56994339e-02, 9.64300566e-01],\n",
              "       [8.33089736e-01, 1.66910264e-01],\n",
              "       [9.99571734e-01, 4.28266397e-04],\n",
              "       [6.45692337e-02, 9.35430766e-01],\n",
              "       [9.99420355e-01, 5.79645200e-04],\n",
              "       [9.99331811e-01, 6.68188605e-04],\n",
              "       [4.78107045e-02, 9.52189296e-01],\n",
              "       [2.25515069e-02, 9.77448493e-01],\n",
              "       [9.89567687e-01, 1.04323134e-02],\n",
              "       [9.07145541e-01, 9.28544594e-02],\n",
              "       [9.95907849e-01, 4.09215062e-03],\n",
              "       [9.98995402e-01, 1.00459832e-03],\n",
              "       [1.68327178e-01, 8.31672822e-01],\n",
              "       [1.36829105e-01, 8.63170895e-01],\n",
              "       [7.97187255e-01, 2.02812745e-01],\n",
              "       [9.99240071e-01, 7.59928981e-04],\n",
              "       [3.25211973e-03, 9.96747880e-01],\n",
              "       [8.76619735e-02, 9.12338027e-01],\n",
              "       [9.97323490e-01, 2.67650971e-03],\n",
              "       [8.26613038e-01, 1.73386962e-01],\n",
              "       [9.99114214e-01, 8.85786083e-04],\n",
              "       [1.98490244e-02, 9.80150976e-01],\n",
              "       [9.95811625e-01, 4.18837468e-03],\n",
              "       [3.81422651e-02, 9.61857735e-01],\n",
              "       [9.99487737e-01, 5.12262681e-04],\n",
              "       [9.98839209e-01, 1.16079137e-03],\n",
              "       [7.47682487e-03, 9.92523175e-01],\n",
              "       [9.99329049e-01, 6.70951133e-04],\n",
              "       [9.78464118e-01, 2.15358817e-02],\n",
              "       [1.35019450e-01, 8.64980550e-01],\n",
              "       [8.44189090e-01, 1.55810910e-01],\n",
              "       [7.20972240e-01, 2.79027760e-01],\n",
              "       [9.36137195e-01, 6.38628052e-02],\n",
              "       [9.23949493e-01, 7.60505070e-02],\n",
              "       [2.64150256e-01, 7.35849744e-01],\n",
              "       [9.85254880e-01, 1.47451196e-02],\n",
              "       [3.03938302e-01, 6.96061698e-01]])"
            ]
          },
          "metadata": {},
          "execution_count": 14
        }
      ]
    },
    {
      "cell_type": "code",
      "source": [
        "\n"
      ],
      "metadata": {
        "id": "H0rawTh5gzks"
      },
      "execution_count": null,
      "outputs": []
    },
    {
      "cell_type": "markdown",
      "source": [
        "#2. Stacking"
      ],
      "metadata": {
        "id": "Nnw6UVOZkk7C"
      }
    },
    {
      "cell_type": "code",
      "source": [
        "from sklearn.datasets import load_iris\n",
        "from sklearn.ensemble import StackingClassifier\n",
        "from sklearn.svm import LinearSVC\n",
        "from sklearn.ensemble import RandomForestClassifier\n",
        "from sklearn.preprocessing import StandardScaler\n",
        "from sklearn.pipeline import make_pipeline\n"
      ],
      "metadata": {
        "id": "ZgNT_PBskkJq"
      },
      "execution_count": 15,
      "outputs": []
    },
    {
      "cell_type": "code",
      "source": [
        "model1=RandomForestClassifier(n_estimators=10, random_state=42)\n",
        "model2=make_pipeline(StandardScaler(), SVC(random_state=42, probability=True))\n"
      ],
      "metadata": {
        "id": "uvIQ2IYnlNMW"
      },
      "execution_count": 16,
      "outputs": []
    },
    {
      "cell_type": "code",
      "source": [
        "model1.fit(X_train,y_train)\n",
        "model2.fit(X_train,y_train)\n"
      ],
      "metadata": {
        "colab": {
          "base_uri": "https://localhost:8080/",
          "height": 212
        },
        "id": "AEXaF833lO_j",
        "outputId": "a2e36695-2b46-4e54-aa26-7eed582d20b8"
      },
      "execution_count": 17,
      "outputs": [
        {
          "output_type": "execute_result",
          "data": {
            "text/plain": [
              "Pipeline(steps=[('standardscaler', StandardScaler()),\n",
              "                ('svc', SVC(probability=True, random_state=42))])"
            ],
            "text/html": [
              "<style>#sk-container-id-2 {color: black;background-color: white;}#sk-container-id-2 pre{padding: 0;}#sk-container-id-2 div.sk-toggleable {background-color: white;}#sk-container-id-2 label.sk-toggleable__label {cursor: pointer;display: block;width: 100%;margin-bottom: 0;padding: 0.3em;box-sizing: border-box;text-align: center;}#sk-container-id-2 label.sk-toggleable__label-arrow:before {content: \"▸\";float: left;margin-right: 0.25em;color: #696969;}#sk-container-id-2 label.sk-toggleable__label-arrow:hover:before {color: black;}#sk-container-id-2 div.sk-estimator:hover label.sk-toggleable__label-arrow:before {color: black;}#sk-container-id-2 div.sk-toggleable__content {max-height: 0;max-width: 0;overflow: hidden;text-align: left;background-color: #f0f8ff;}#sk-container-id-2 div.sk-toggleable__content pre {margin: 0.2em;color: black;border-radius: 0.25em;background-color: #f0f8ff;}#sk-container-id-2 input.sk-toggleable__control:checked~div.sk-toggleable__content {max-height: 200px;max-width: 100%;overflow: auto;}#sk-container-id-2 input.sk-toggleable__control:checked~label.sk-toggleable__label-arrow:before {content: \"▾\";}#sk-container-id-2 div.sk-estimator input.sk-toggleable__control:checked~label.sk-toggleable__label {background-color: #d4ebff;}#sk-container-id-2 div.sk-label input.sk-toggleable__control:checked~label.sk-toggleable__label {background-color: #d4ebff;}#sk-container-id-2 input.sk-hidden--visually {border: 0;clip: rect(1px 1px 1px 1px);clip: rect(1px, 1px, 1px, 1px);height: 1px;margin: -1px;overflow: hidden;padding: 0;position: absolute;width: 1px;}#sk-container-id-2 div.sk-estimator {font-family: monospace;background-color: #f0f8ff;border: 1px dotted black;border-radius: 0.25em;box-sizing: border-box;margin-bottom: 0.5em;}#sk-container-id-2 div.sk-estimator:hover {background-color: #d4ebff;}#sk-container-id-2 div.sk-parallel-item::after {content: \"\";width: 100%;border-bottom: 1px solid gray;flex-grow: 1;}#sk-container-id-2 div.sk-label:hover label.sk-toggleable__label {background-color: #d4ebff;}#sk-container-id-2 div.sk-serial::before {content: \"\";position: absolute;border-left: 1px solid gray;box-sizing: border-box;top: 0;bottom: 0;left: 50%;z-index: 0;}#sk-container-id-2 div.sk-serial {display: flex;flex-direction: column;align-items: center;background-color: white;padding-right: 0.2em;padding-left: 0.2em;position: relative;}#sk-container-id-2 div.sk-item {position: relative;z-index: 1;}#sk-container-id-2 div.sk-parallel {display: flex;align-items: stretch;justify-content: center;background-color: white;position: relative;}#sk-container-id-2 div.sk-item::before, #sk-container-id-2 div.sk-parallel-item::before {content: \"\";position: absolute;border-left: 1px solid gray;box-sizing: border-box;top: 0;bottom: 0;left: 50%;z-index: -1;}#sk-container-id-2 div.sk-parallel-item {display: flex;flex-direction: column;z-index: 1;position: relative;background-color: white;}#sk-container-id-2 div.sk-parallel-item:first-child::after {align-self: flex-end;width: 50%;}#sk-container-id-2 div.sk-parallel-item:last-child::after {align-self: flex-start;width: 50%;}#sk-container-id-2 div.sk-parallel-item:only-child::after {width: 0;}#sk-container-id-2 div.sk-dashed-wrapped {border: 1px dashed gray;margin: 0 0.4em 0.5em 0.4em;box-sizing: border-box;padding-bottom: 0.4em;background-color: white;}#sk-container-id-2 div.sk-label label {font-family: monospace;font-weight: bold;display: inline-block;line-height: 1.2em;}#sk-container-id-2 div.sk-label-container {text-align: center;}#sk-container-id-2 div.sk-container {/* jupyter's `normalize.less` sets `[hidden] { display: none; }` but bootstrap.min.css set `[hidden] { display: none !important; }` so we also need the `!important` here to be able to override the default hidden behavior on the sphinx rendered scikit-learn.org. See: https://github.com/scikit-learn/scikit-learn/issues/21755 */display: inline-block !important;position: relative;}#sk-container-id-2 div.sk-text-repr-fallback {display: none;}</style><div id=\"sk-container-id-2\" class=\"sk-top-container\"><div class=\"sk-text-repr-fallback\"><pre>Pipeline(steps=[(&#x27;standardscaler&#x27;, StandardScaler()),\n",
              "                (&#x27;svc&#x27;, SVC(probability=True, random_state=42))])</pre><b>In a Jupyter environment, please rerun this cell to show the HTML representation or trust the notebook. <br />On GitHub, the HTML representation is unable to render, please try loading this page with nbviewer.org.</b></div><div class=\"sk-container\" hidden><div class=\"sk-item sk-dashed-wrapped\"><div class=\"sk-label-container\"><div class=\"sk-label sk-toggleable\"><input class=\"sk-toggleable__control sk-hidden--visually\" id=\"sk-estimator-id-2\" type=\"checkbox\" ><label for=\"sk-estimator-id-2\" class=\"sk-toggleable__label sk-toggleable__label-arrow\">Pipeline</label><div class=\"sk-toggleable__content\"><pre>Pipeline(steps=[(&#x27;standardscaler&#x27;, StandardScaler()),\n",
              "                (&#x27;svc&#x27;, SVC(probability=True, random_state=42))])</pre></div></div></div><div class=\"sk-serial\"><div class=\"sk-item\"><div class=\"sk-estimator sk-toggleable\"><input class=\"sk-toggleable__control sk-hidden--visually\" id=\"sk-estimator-id-3\" type=\"checkbox\" ><label for=\"sk-estimator-id-3\" class=\"sk-toggleable__label sk-toggleable__label-arrow\">StandardScaler</label><div class=\"sk-toggleable__content\"><pre>StandardScaler()</pre></div></div></div><div class=\"sk-item\"><div class=\"sk-estimator sk-toggleable\"><input class=\"sk-toggleable__control sk-hidden--visually\" id=\"sk-estimator-id-4\" type=\"checkbox\" ><label for=\"sk-estimator-id-4\" class=\"sk-toggleable__label sk-toggleable__label-arrow\">SVC</label><div class=\"sk-toggleable__content\"><pre>SVC(probability=True, random_state=42)</pre></div></div></div></div></div></div></div>"
            ]
          },
          "metadata": {},
          "execution_count": 17
        }
      ]
    },
    {
      "cell_type": "code",
      "source": [
        "yhat1=model1.predict_proba(X_train)[:,1]\n",
        "yhat2=model2.predict_proba(X_train)[:,1]\n"
      ],
      "metadata": {
        "id": "AdWFHW-8lQUJ"
      },
      "execution_count": 18,
      "outputs": []
    },
    {
      "cell_type": "code",
      "source": [
        "Y_predichas=pd.DataFrame({'yhat1':yhat1,'yhat2':yhat2})\n",
        "final_estimator=LogisticRegression()\n",
        "final_estimator.fit(Y_predichas, y_train)"
      ],
      "metadata": {
        "colab": {
          "base_uri": "https://localhost:8080/",
          "height": 74
        },
        "id": "05YITBmJlReW",
        "outputId": "808af166-1687-41b9-e53a-5c67edc4d04a"
      },
      "execution_count": 19,
      "outputs": [
        {
          "output_type": "execute_result",
          "data": {
            "text/plain": [
              "LogisticRegression()"
            ],
            "text/html": [
              "<style>#sk-container-id-3 {color: black;background-color: white;}#sk-container-id-3 pre{padding: 0;}#sk-container-id-3 div.sk-toggleable {background-color: white;}#sk-container-id-3 label.sk-toggleable__label {cursor: pointer;display: block;width: 100%;margin-bottom: 0;padding: 0.3em;box-sizing: border-box;text-align: center;}#sk-container-id-3 label.sk-toggleable__label-arrow:before {content: \"▸\";float: left;margin-right: 0.25em;color: #696969;}#sk-container-id-3 label.sk-toggleable__label-arrow:hover:before {color: black;}#sk-container-id-3 div.sk-estimator:hover label.sk-toggleable__label-arrow:before {color: black;}#sk-container-id-3 div.sk-toggleable__content {max-height: 0;max-width: 0;overflow: hidden;text-align: left;background-color: #f0f8ff;}#sk-container-id-3 div.sk-toggleable__content pre {margin: 0.2em;color: black;border-radius: 0.25em;background-color: #f0f8ff;}#sk-container-id-3 input.sk-toggleable__control:checked~div.sk-toggleable__content {max-height: 200px;max-width: 100%;overflow: auto;}#sk-container-id-3 input.sk-toggleable__control:checked~label.sk-toggleable__label-arrow:before {content: \"▾\";}#sk-container-id-3 div.sk-estimator input.sk-toggleable__control:checked~label.sk-toggleable__label {background-color: #d4ebff;}#sk-container-id-3 div.sk-label input.sk-toggleable__control:checked~label.sk-toggleable__label {background-color: #d4ebff;}#sk-container-id-3 input.sk-hidden--visually {border: 0;clip: rect(1px 1px 1px 1px);clip: rect(1px, 1px, 1px, 1px);height: 1px;margin: -1px;overflow: hidden;padding: 0;position: absolute;width: 1px;}#sk-container-id-3 div.sk-estimator {font-family: monospace;background-color: #f0f8ff;border: 1px dotted black;border-radius: 0.25em;box-sizing: border-box;margin-bottom: 0.5em;}#sk-container-id-3 div.sk-estimator:hover {background-color: #d4ebff;}#sk-container-id-3 div.sk-parallel-item::after {content: \"\";width: 100%;border-bottom: 1px solid gray;flex-grow: 1;}#sk-container-id-3 div.sk-label:hover label.sk-toggleable__label {background-color: #d4ebff;}#sk-container-id-3 div.sk-serial::before {content: \"\";position: absolute;border-left: 1px solid gray;box-sizing: border-box;top: 0;bottom: 0;left: 50%;z-index: 0;}#sk-container-id-3 div.sk-serial {display: flex;flex-direction: column;align-items: center;background-color: white;padding-right: 0.2em;padding-left: 0.2em;position: relative;}#sk-container-id-3 div.sk-item {position: relative;z-index: 1;}#sk-container-id-3 div.sk-parallel {display: flex;align-items: stretch;justify-content: center;background-color: white;position: relative;}#sk-container-id-3 div.sk-item::before, #sk-container-id-3 div.sk-parallel-item::before {content: \"\";position: absolute;border-left: 1px solid gray;box-sizing: border-box;top: 0;bottom: 0;left: 50%;z-index: -1;}#sk-container-id-3 div.sk-parallel-item {display: flex;flex-direction: column;z-index: 1;position: relative;background-color: white;}#sk-container-id-3 div.sk-parallel-item:first-child::after {align-self: flex-end;width: 50%;}#sk-container-id-3 div.sk-parallel-item:last-child::after {align-self: flex-start;width: 50%;}#sk-container-id-3 div.sk-parallel-item:only-child::after {width: 0;}#sk-container-id-3 div.sk-dashed-wrapped {border: 1px dashed gray;margin: 0 0.4em 0.5em 0.4em;box-sizing: border-box;padding-bottom: 0.4em;background-color: white;}#sk-container-id-3 div.sk-label label {font-family: monospace;font-weight: bold;display: inline-block;line-height: 1.2em;}#sk-container-id-3 div.sk-label-container {text-align: center;}#sk-container-id-3 div.sk-container {/* jupyter's `normalize.less` sets `[hidden] { display: none; }` but bootstrap.min.css set `[hidden] { display: none !important; }` so we also need the `!important` here to be able to override the default hidden behavior on the sphinx rendered scikit-learn.org. See: https://github.com/scikit-learn/scikit-learn/issues/21755 */display: inline-block !important;position: relative;}#sk-container-id-3 div.sk-text-repr-fallback {display: none;}</style><div id=\"sk-container-id-3\" class=\"sk-top-container\"><div class=\"sk-text-repr-fallback\"><pre>LogisticRegression()</pre><b>In a Jupyter environment, please rerun this cell to show the HTML representation or trust the notebook. <br />On GitHub, the HTML representation is unable to render, please try loading this page with nbviewer.org.</b></div><div class=\"sk-container\" hidden><div class=\"sk-item\"><div class=\"sk-estimator sk-toggleable\"><input class=\"sk-toggleable__control sk-hidden--visually\" id=\"sk-estimator-id-5\" type=\"checkbox\" checked><label for=\"sk-estimator-id-5\" class=\"sk-toggleable__label sk-toggleable__label-arrow\">LogisticRegression</label><div class=\"sk-toggleable__content\"><pre>LogisticRegression()</pre></div></div></div></div></div>"
            ]
          },
          "metadata": {},
          "execution_count": 19
        }
      ]
    },
    {
      "cell_type": "code",
      "source": [
        "estimators = [(\"rf\", model1), (\"svc\", model2)]"
      ],
      "metadata": {
        "id": "XRmqY1eMmjnq"
      },
      "execution_count": 20,
      "outputs": []
    },
    {
      "cell_type": "code",
      "source": [
        "clf = StackingClassifier (estimators=estimators,\n",
        "                          final_estimator=final_estimator)\n"
      ],
      "metadata": {
        "id": "EAD_XPgqnCDv"
      },
      "execution_count": 25,
      "outputs": []
    },
    {
      "cell_type": "code",
      "source": [
        "clf.fit(X_train, y_train)\n",
        "clf.score(X_test, y_test)"
      ],
      "metadata": {
        "colab": {
          "base_uri": "https://localhost:8080/"
        },
        "id": "mw2slqURneoK",
        "outputId": "9ce855f7-77d0-4677-af47-931ff4f9cf31"
      },
      "execution_count": 26,
      "outputs": [
        {
          "output_type": "execute_result",
          "data": {
            "text/plain": [
              "0.9473684210526315"
            ]
          },
          "metadata": {},
          "execution_count": 26
        }
      ]
    },
    {
      "cell_type": "code",
      "source": [
        "clf.final_estimator_.coef_"
      ],
      "metadata": {
        "colab": {
          "base_uri": "https://localhost:8080/"
        },
        "id": "CbAyJUI2oP_9",
        "outputId": "b3421351-6e3b-41f2-924f-899e0e5a4c38"
      },
      "execution_count": 27,
      "outputs": [
        {
          "output_type": "execute_result",
          "data": {
            "text/plain": [
              "array([[2.55643023, 2.82339735]])"
            ]
          },
          "metadata": {},
          "execution_count": 27
        }
      ]
    },
    {
      "cell_type": "code",
      "source": [
        "clf.final_estimator_.intercept_"
      ],
      "metadata": {
        "colab": {
          "base_uri": "https://localhost:8080/"
        },
        "id": "j4-Z5HxPoeym",
        "outputId": "a1d5221d-a74c-452f-d2c1-ffa871d204b0"
      },
      "execution_count": 28,
      "outputs": [
        {
          "output_type": "execute_result",
          "data": {
            "text/plain": [
              "array([-2.94235525])"
            ]
          },
          "metadata": {},
          "execution_count": 28
        }
      ]
    },
    {
      "cell_type": "markdown",
      "source": [],
      "metadata": {
        "id": "CgqCZEsqkgFS"
      }
    },
    {
      "cell_type": "markdown",
      "source": [],
      "metadata": {
        "id": "nrKQbj_Y1LI2"
      }
    },
    {
      "cell_type": "markdown",
      "source": [
        "#3. Bagging"
      ],
      "metadata": {
        "id": "yRgo-GWA5JxC"
      }
    },
    {
      "cell_type": "code",
      "source": [
        "from sklearn.model_selection import train_test_split\n",
        "from sklearn import metrics\n",
        "from sklearn import preprocessing\n",
        "from sklearn.model_selection import GridSearchCV\n",
        "from matplotlib import pyplot as plt\n",
        "from sklearn.metrics import make_scorer\n",
        "from sklearn.metrics import accuracy_score\n",
        "import pandas as pd\n",
        "import numpy as np\n",
        "from sklearn import tree\n",
        "from sklearn.metrics import mean_squared_error, r2_score\n",
        "import seaborn as sns\n",
        "\n",
        "from sklearn.preprocessing import scale\n",
        "from sklearn.ensemble import RandomForestRegressor\n"
      ],
      "metadata": {
        "id": "MBOW748L5SKB"
      },
      "execution_count": 30,
      "outputs": []
    },
    {
      "cell_type": "code",
      "source": [
        "X = pd.read_csv(\"solubility_train.csv\")\n",
        "y = X['Solubility']\n",
        "X = X.drop(columns=['Unnamed: 0','Solubility'])\n",
        "X_train, X_test, y_train, y_test = train_test_split(X, y, test_size=0.1)"
      ],
      "metadata": {
        "id": "wGYAgb3c5mHt"
      },
      "execution_count": 31,
      "outputs": []
    },
    {
      "cell_type": "code",
      "source": [
        "X"
      ],
      "metadata": {
        "colab": {
          "base_uri": "https://localhost:8080/",
          "height": 443
        },
        "id": "mksZAzFl52Av",
        "outputId": "4c945070-fcb2-45fb-a82d-cd13c62eb878"
      },
      "execution_count": 34,
      "outputs": [
        {
          "output_type": "execute_result",
          "data": {
            "text/plain": [
              "     FP001  FP002  FP003  FP004  ...  NumRings  HydrophilicFactor  SurfaceArea1  SurfaceArea2\n",
              "0        0      1      0      0  ...  1.386294          -1.606542      6.812456      6.812456\n",
              "1        0      1      0      1  ...  1.609438          -0.441330      9.753834     12.029604\n",
              "2        1      1      1      1  ...  0.693147          -0.384859      8.245324      8.245324\n",
              "3        0      0      1      0  ...  0.693147          -2.373472      0.000000      0.000000\n",
              "4        0      0      1      1  ...  0.693147          -0.070987      9.913535      9.913535\n",
              "..     ...    ...    ...    ...  ...       ...                ...           ...           ...\n",
              "946      1      0      1      1  ...  0.693147           0.713897     10.916599     10.916599\n",
              "947      0      1      0      0  ...  0.693147          -0.169051      4.481002      4.481002\n",
              "948      1      0      1      1  ...  0.000000          -1.483783      5.456522      5.456522\n",
              "949      0      0      0      0  ...  0.000000          -0.533242      0.000000      0.000000\n",
              "950      0      0      1      1  ...  0.000000          -1.383379      3.837096      3.837096\n",
              "\n",
              "[951 rows x 228 columns]"
            ],
            "text/html": [
              "\n",
              "  <div id=\"df-d2c226da-b401-4c3a-8bae-260a9f2a1d63\" class=\"colab-df-container\">\n",
              "    <div>\n",
              "<style scoped>\n",
              "    .dataframe tbody tr th:only-of-type {\n",
              "        vertical-align: middle;\n",
              "    }\n",
              "\n",
              "    .dataframe tbody tr th {\n",
              "        vertical-align: top;\n",
              "    }\n",
              "\n",
              "    .dataframe thead th {\n",
              "        text-align: right;\n",
              "    }\n",
              "</style>\n",
              "<table border=\"1\" class=\"dataframe\">\n",
              "  <thead>\n",
              "    <tr style=\"text-align: right;\">\n",
              "      <th></th>\n",
              "      <th>FP001</th>\n",
              "      <th>FP002</th>\n",
              "      <th>FP003</th>\n",
              "      <th>FP004</th>\n",
              "      <th>FP005</th>\n",
              "      <th>FP006</th>\n",
              "      <th>FP007</th>\n",
              "      <th>FP008</th>\n",
              "      <th>FP009</th>\n",
              "      <th>FP010</th>\n",
              "      <th>FP011</th>\n",
              "      <th>FP012</th>\n",
              "      <th>FP013</th>\n",
              "      <th>FP014</th>\n",
              "      <th>FP015</th>\n",
              "      <th>FP016</th>\n",
              "      <th>FP017</th>\n",
              "      <th>FP018</th>\n",
              "      <th>FP019</th>\n",
              "      <th>FP020</th>\n",
              "      <th>FP021</th>\n",
              "      <th>FP022</th>\n",
              "      <th>FP023</th>\n",
              "      <th>FP024</th>\n",
              "      <th>FP025</th>\n",
              "      <th>FP026</th>\n",
              "      <th>FP027</th>\n",
              "      <th>FP028</th>\n",
              "      <th>FP029</th>\n",
              "      <th>FP030</th>\n",
              "      <th>FP031</th>\n",
              "      <th>FP032</th>\n",
              "      <th>FP033</th>\n",
              "      <th>FP034</th>\n",
              "      <th>FP035</th>\n",
              "      <th>FP036</th>\n",
              "      <th>FP037</th>\n",
              "      <th>FP038</th>\n",
              "      <th>FP039</th>\n",
              "      <th>FP040</th>\n",
              "      <th>FP041</th>\n",
              "      <th>FP042</th>\n",
              "      <th>FP043</th>\n",
              "      <th>FP044</th>\n",
              "      <th>FP045</th>\n",
              "      <th>FP046</th>\n",
              "      <th>FP047</th>\n",
              "      <th>FP048</th>\n",
              "      <th>FP049</th>\n",
              "      <th>FP050</th>\n",
              "      <th>...</th>\n",
              "      <th>FP179</th>\n",
              "      <th>FP180</th>\n",
              "      <th>FP181</th>\n",
              "      <th>FP182</th>\n",
              "      <th>FP183</th>\n",
              "      <th>FP184</th>\n",
              "      <th>FP185</th>\n",
              "      <th>FP186</th>\n",
              "      <th>FP187</th>\n",
              "      <th>FP188</th>\n",
              "      <th>FP189</th>\n",
              "      <th>FP190</th>\n",
              "      <th>FP191</th>\n",
              "      <th>FP192</th>\n",
              "      <th>FP193</th>\n",
              "      <th>FP194</th>\n",
              "      <th>FP195</th>\n",
              "      <th>FP196</th>\n",
              "      <th>FP197</th>\n",
              "      <th>FP198</th>\n",
              "      <th>FP199</th>\n",
              "      <th>FP200</th>\n",
              "      <th>FP201</th>\n",
              "      <th>FP202</th>\n",
              "      <th>FP203</th>\n",
              "      <th>FP204</th>\n",
              "      <th>FP205</th>\n",
              "      <th>FP206</th>\n",
              "      <th>FP207</th>\n",
              "      <th>FP208</th>\n",
              "      <th>MolWeight</th>\n",
              "      <th>NumAtoms</th>\n",
              "      <th>NumNonHAtoms</th>\n",
              "      <th>NumBonds</th>\n",
              "      <th>NumNonHBonds</th>\n",
              "      <th>NumMultBonds</th>\n",
              "      <th>NumRotBonds</th>\n",
              "      <th>NumDblBonds</th>\n",
              "      <th>NumAromaticBonds</th>\n",
              "      <th>NumHydrogen</th>\n",
              "      <th>NumCarbon</th>\n",
              "      <th>NumNitrogen</th>\n",
              "      <th>NumOxygen</th>\n",
              "      <th>NumSulfer</th>\n",
              "      <th>NumChlorine</th>\n",
              "      <th>NumHalogen</th>\n",
              "      <th>NumRings</th>\n",
              "      <th>HydrophilicFactor</th>\n",
              "      <th>SurfaceArea1</th>\n",
              "      <th>SurfaceArea2</th>\n",
              "    </tr>\n",
              "  </thead>\n",
              "  <tbody>\n",
              "    <tr>\n",
              "      <th>0</th>\n",
              "      <td>0</td>\n",
              "      <td>1</td>\n",
              "      <td>0</td>\n",
              "      <td>0</td>\n",
              "      <td>1</td>\n",
              "      <td>0</td>\n",
              "      <td>0</td>\n",
              "      <td>1</td>\n",
              "      <td>0</td>\n",
              "      <td>0</td>\n",
              "      <td>0</td>\n",
              "      <td>0</td>\n",
              "      <td>0</td>\n",
              "      <td>0</td>\n",
              "      <td>1</td>\n",
              "      <td>0</td>\n",
              "      <td>0</td>\n",
              "      <td>0</td>\n",
              "      <td>1</td>\n",
              "      <td>0</td>\n",
              "      <td>0</td>\n",
              "      <td>0</td>\n",
              "      <td>0</td>\n",
              "      <td>1</td>\n",
              "      <td>0</td>\n",
              "      <td>1</td>\n",
              "      <td>0</td>\n",
              "      <td>0</td>\n",
              "      <td>0</td>\n",
              "      <td>0</td>\n",
              "      <td>0</td>\n",
              "      <td>0</td>\n",
              "      <td>0</td>\n",
              "      <td>0</td>\n",
              "      <td>0</td>\n",
              "      <td>0</td>\n",
              "      <td>0</td>\n",
              "      <td>0</td>\n",
              "      <td>1</td>\n",
              "      <td>1</td>\n",
              "      <td>0</td>\n",
              "      <td>0</td>\n",
              "      <td>0</td>\n",
              "      <td>0</td>\n",
              "      <td>0</td>\n",
              "      <td>0</td>\n",
              "      <td>0</td>\n",
              "      <td>0</td>\n",
              "      <td>0</td>\n",
              "      <td>0</td>\n",
              "      <td>...</td>\n",
              "      <td>1</td>\n",
              "      <td>0</td>\n",
              "      <td>0</td>\n",
              "      <td>0</td>\n",
              "      <td>0</td>\n",
              "      <td>0</td>\n",
              "      <td>0</td>\n",
              "      <td>0</td>\n",
              "      <td>0</td>\n",
              "      <td>0</td>\n",
              "      <td>0</td>\n",
              "      <td>0</td>\n",
              "      <td>0</td>\n",
              "      <td>0</td>\n",
              "      <td>0</td>\n",
              "      <td>0</td>\n",
              "      <td>0</td>\n",
              "      <td>0</td>\n",
              "      <td>0</td>\n",
              "      <td>0</td>\n",
              "      <td>0</td>\n",
              "      <td>0</td>\n",
              "      <td>1</td>\n",
              "      <td>0</td>\n",
              "      <td>0</td>\n",
              "      <td>0</td>\n",
              "      <td>0</td>\n",
              "      <td>0</td>\n",
              "      <td>0</td>\n",
              "      <td>0</td>\n",
              "      <td>5.343673</td>\n",
              "      <td>3.367296</td>\n",
              "      <td>2.833213</td>\n",
              "      <td>3.433987</td>\n",
              "      <td>4.009916</td>\n",
              "      <td>5.264609</td>\n",
              "      <td>0.000000</td>\n",
              "      <td>0.000000</td>\n",
              "      <td>2.833213</td>\n",
              "      <td>3.862179</td>\n",
              "      <td>4.177811</td>\n",
              "      <td>0.584815</td>\n",
              "      <td>0.000000</td>\n",
              "      <td>0.000</td>\n",
              "      <td>0.000</td>\n",
              "      <td>0.000000</td>\n",
              "      <td>1.386294</td>\n",
              "      <td>-1.606542</td>\n",
              "      <td>6.812456</td>\n",
              "      <td>6.812456</td>\n",
              "    </tr>\n",
              "    <tr>\n",
              "      <th>1</th>\n",
              "      <td>0</td>\n",
              "      <td>1</td>\n",
              "      <td>0</td>\n",
              "      <td>1</td>\n",
              "      <td>1</td>\n",
              "      <td>1</td>\n",
              "      <td>1</td>\n",
              "      <td>1</td>\n",
              "      <td>0</td>\n",
              "      <td>0</td>\n",
              "      <td>1</td>\n",
              "      <td>0</td>\n",
              "      <td>0</td>\n",
              "      <td>0</td>\n",
              "      <td>1</td>\n",
              "      <td>1</td>\n",
              "      <td>0</td>\n",
              "      <td>1</td>\n",
              "      <td>0</td>\n",
              "      <td>0</td>\n",
              "      <td>0</td>\n",
              "      <td>0</td>\n",
              "      <td>0</td>\n",
              "      <td>0</td>\n",
              "      <td>0</td>\n",
              "      <td>0</td>\n",
              "      <td>0</td>\n",
              "      <td>1</td>\n",
              "      <td>0</td>\n",
              "      <td>0</td>\n",
              "      <td>0</td>\n",
              "      <td>0</td>\n",
              "      <td>0</td>\n",
              "      <td>0</td>\n",
              "      <td>0</td>\n",
              "      <td>0</td>\n",
              "      <td>0</td>\n",
              "      <td>0</td>\n",
              "      <td>0</td>\n",
              "      <td>0</td>\n",
              "      <td>0</td>\n",
              "      <td>0</td>\n",
              "      <td>1</td>\n",
              "      <td>0</td>\n",
              "      <td>0</td>\n",
              "      <td>1</td>\n",
              "      <td>1</td>\n",
              "      <td>0</td>\n",
              "      <td>0</td>\n",
              "      <td>0</td>\n",
              "      <td>...</td>\n",
              "      <td>0</td>\n",
              "      <td>0</td>\n",
              "      <td>0</td>\n",
              "      <td>0</td>\n",
              "      <td>0</td>\n",
              "      <td>0</td>\n",
              "      <td>1</td>\n",
              "      <td>0</td>\n",
              "      <td>0</td>\n",
              "      <td>0</td>\n",
              "      <td>1</td>\n",
              "      <td>0</td>\n",
              "      <td>0</td>\n",
              "      <td>0</td>\n",
              "      <td>0</td>\n",
              "      <td>0</td>\n",
              "      <td>0</td>\n",
              "      <td>0</td>\n",
              "      <td>0</td>\n",
              "      <td>0</td>\n",
              "      <td>0</td>\n",
              "      <td>0</td>\n",
              "      <td>0</td>\n",
              "      <td>1</td>\n",
              "      <td>0</td>\n",
              "      <td>0</td>\n",
              "      <td>0</td>\n",
              "      <td>0</td>\n",
              "      <td>0</td>\n",
              "      <td>0</td>\n",
              "      <td>5.904108</td>\n",
              "      <td>3.912023</td>\n",
              "      <td>3.295837</td>\n",
              "      <td>3.970292</td>\n",
              "      <td>4.871752</td>\n",
              "      <td>4.684412</td>\n",
              "      <td>1.609438</td>\n",
              "      <td>0.000000</td>\n",
              "      <td>2.564949</td>\n",
              "      <td>5.315193</td>\n",
              "      <td>5.092358</td>\n",
              "      <td>0.642355</td>\n",
              "      <td>0.693147</td>\n",
              "      <td>0.375</td>\n",
              "      <td>0.000</td>\n",
              "      <td>0.000000</td>\n",
              "      <td>1.609438</td>\n",
              "      <td>-0.441330</td>\n",
              "      <td>9.753834</td>\n",
              "      <td>12.029604</td>\n",
              "    </tr>\n",
              "    <tr>\n",
              "      <th>2</th>\n",
              "      <td>1</td>\n",
              "      <td>1</td>\n",
              "      <td>1</td>\n",
              "      <td>1</td>\n",
              "      <td>1</td>\n",
              "      <td>0</td>\n",
              "      <td>0</td>\n",
              "      <td>1</td>\n",
              "      <td>0</td>\n",
              "      <td>1</td>\n",
              "      <td>0</td>\n",
              "      <td>0</td>\n",
              "      <td>0</td>\n",
              "      <td>0</td>\n",
              "      <td>1</td>\n",
              "      <td>0</td>\n",
              "      <td>1</td>\n",
              "      <td>0</td>\n",
              "      <td>0</td>\n",
              "      <td>0</td>\n",
              "      <td>0</td>\n",
              "      <td>0</td>\n",
              "      <td>0</td>\n",
              "      <td>0</td>\n",
              "      <td>1</td>\n",
              "      <td>0</td>\n",
              "      <td>0</td>\n",
              "      <td>0</td>\n",
              "      <td>0</td>\n",
              "      <td>0</td>\n",
              "      <td>0</td>\n",
              "      <td>0</td>\n",
              "      <td>0</td>\n",
              "      <td>0</td>\n",
              "      <td>0</td>\n",
              "      <td>0</td>\n",
              "      <td>0</td>\n",
              "      <td>1</td>\n",
              "      <td>0</td>\n",
              "      <td>0</td>\n",
              "      <td>0</td>\n",
              "      <td>0</td>\n",
              "      <td>0</td>\n",
              "      <td>0</td>\n",
              "      <td>1</td>\n",
              "      <td>0</td>\n",
              "      <td>1</td>\n",
              "      <td>0</td>\n",
              "      <td>0</td>\n",
              "      <td>0</td>\n",
              "      <td>...</td>\n",
              "      <td>0</td>\n",
              "      <td>1</td>\n",
              "      <td>0</td>\n",
              "      <td>1</td>\n",
              "      <td>0</td>\n",
              "      <td>0</td>\n",
              "      <td>0</td>\n",
              "      <td>0</td>\n",
              "      <td>0</td>\n",
              "      <td>0</td>\n",
              "      <td>0</td>\n",
              "      <td>0</td>\n",
              "      <td>0</td>\n",
              "      <td>0</td>\n",
              "      <td>0</td>\n",
              "      <td>0</td>\n",
              "      <td>0</td>\n",
              "      <td>0</td>\n",
              "      <td>0</td>\n",
              "      <td>0</td>\n",
              "      <td>0</td>\n",
              "      <td>0</td>\n",
              "      <td>0</td>\n",
              "      <td>0</td>\n",
              "      <td>0</td>\n",
              "      <td>0</td>\n",
              "      <td>0</td>\n",
              "      <td>0</td>\n",
              "      <td>0</td>\n",
              "      <td>0</td>\n",
              "      <td>5.334215</td>\n",
              "      <td>3.526361</td>\n",
              "      <td>2.772589</td>\n",
              "      <td>3.526361</td>\n",
              "      <td>3.705506</td>\n",
              "      <td>3.243492</td>\n",
              "      <td>1.609438</td>\n",
              "      <td>0.567077</td>\n",
              "      <td>1.945910</td>\n",
              "      <td>4.729818</td>\n",
              "      <td>4.023944</td>\n",
              "      <td>0.000000</td>\n",
              "      <td>1.098612</td>\n",
              "      <td>0.000</td>\n",
              "      <td>0.000</td>\n",
              "      <td>0.000000</td>\n",
              "      <td>0.693147</td>\n",
              "      <td>-0.384859</td>\n",
              "      <td>8.245324</td>\n",
              "      <td>8.245324</td>\n",
              "    </tr>\n",
              "    <tr>\n",
              "      <th>3</th>\n",
              "      <td>0</td>\n",
              "      <td>0</td>\n",
              "      <td>1</td>\n",
              "      <td>0</td>\n",
              "      <td>0</td>\n",
              "      <td>0</td>\n",
              "      <td>1</td>\n",
              "      <td>0</td>\n",
              "      <td>0</td>\n",
              "      <td>0</td>\n",
              "      <td>0</td>\n",
              "      <td>0</td>\n",
              "      <td>0</td>\n",
              "      <td>0</td>\n",
              "      <td>1</td>\n",
              "      <td>0</td>\n",
              "      <td>1</td>\n",
              "      <td>0</td>\n",
              "      <td>0</td>\n",
              "      <td>0</td>\n",
              "      <td>0</td>\n",
              "      <td>0</td>\n",
              "      <td>1</td>\n",
              "      <td>0</td>\n",
              "      <td>0</td>\n",
              "      <td>0</td>\n",
              "      <td>0</td>\n",
              "      <td>0</td>\n",
              "      <td>0</td>\n",
              "      <td>0</td>\n",
              "      <td>0</td>\n",
              "      <td>0</td>\n",
              "      <td>0</td>\n",
              "      <td>0</td>\n",
              "      <td>0</td>\n",
              "      <td>0</td>\n",
              "      <td>0</td>\n",
              "      <td>0</td>\n",
              "      <td>0</td>\n",
              "      <td>0</td>\n",
              "      <td>1</td>\n",
              "      <td>0</td>\n",
              "      <td>0</td>\n",
              "      <td>0</td>\n",
              "      <td>0</td>\n",
              "      <td>0</td>\n",
              "      <td>0</td>\n",
              "      <td>0</td>\n",
              "      <td>0</td>\n",
              "      <td>0</td>\n",
              "      <td>...</td>\n",
              "      <td>1</td>\n",
              "      <td>0</td>\n",
              "      <td>0</td>\n",
              "      <td>0</td>\n",
              "      <td>0</td>\n",
              "      <td>0</td>\n",
              "      <td>1</td>\n",
              "      <td>0</td>\n",
              "      <td>0</td>\n",
              "      <td>1</td>\n",
              "      <td>0</td>\n",
              "      <td>0</td>\n",
              "      <td>0</td>\n",
              "      <td>0</td>\n",
              "      <td>0</td>\n",
              "      <td>0</td>\n",
              "      <td>0</td>\n",
              "      <td>0</td>\n",
              "      <td>1</td>\n",
              "      <td>0</td>\n",
              "      <td>0</td>\n",
              "      <td>0</td>\n",
              "      <td>0</td>\n",
              "      <td>0</td>\n",
              "      <td>0</td>\n",
              "      <td>0</td>\n",
              "      <td>0</td>\n",
              "      <td>0</td>\n",
              "      <td>0</td>\n",
              "      <td>0</td>\n",
              "      <td>4.921877</td>\n",
              "      <td>3.295837</td>\n",
              "      <td>2.397895</td>\n",
              "      <td>3.295837</td>\n",
              "      <td>3.076971</td>\n",
              "      <td>1.379614</td>\n",
              "      <td>0.693147</td>\n",
              "      <td>0.804530</td>\n",
              "      <td>0.000000</td>\n",
              "      <td>4.465209</td>\n",
              "      <td>3.510455</td>\n",
              "      <td>0.000000</td>\n",
              "      <td>0.000000</td>\n",
              "      <td>0.000</td>\n",
              "      <td>0.000</td>\n",
              "      <td>0.000000</td>\n",
              "      <td>0.693147</td>\n",
              "      <td>-2.373472</td>\n",
              "      <td>0.000000</td>\n",
              "      <td>0.000000</td>\n",
              "    </tr>\n",
              "    <tr>\n",
              "      <th>4</th>\n",
              "      <td>0</td>\n",
              "      <td>0</td>\n",
              "      <td>1</td>\n",
              "      <td>1</td>\n",
              "      <td>1</td>\n",
              "      <td>1</td>\n",
              "      <td>0</td>\n",
              "      <td>0</td>\n",
              "      <td>1</td>\n",
              "      <td>0</td>\n",
              "      <td>0</td>\n",
              "      <td>0</td>\n",
              "      <td>1</td>\n",
              "      <td>0</td>\n",
              "      <td>1</td>\n",
              "      <td>1</td>\n",
              "      <td>0</td>\n",
              "      <td>0</td>\n",
              "      <td>1</td>\n",
              "      <td>0</td>\n",
              "      <td>0</td>\n",
              "      <td>0</td>\n",
              "      <td>0</td>\n",
              "      <td>1</td>\n",
              "      <td>0</td>\n",
              "      <td>0</td>\n",
              "      <td>0</td>\n",
              "      <td>0</td>\n",
              "      <td>0</td>\n",
              "      <td>1</td>\n",
              "      <td>0</td>\n",
              "      <td>0</td>\n",
              "      <td>0</td>\n",
              "      <td>1</td>\n",
              "      <td>0</td>\n",
              "      <td>0</td>\n",
              "      <td>0</td>\n",
              "      <td>0</td>\n",
              "      <td>0</td>\n",
              "      <td>0</td>\n",
              "      <td>0</td>\n",
              "      <td>0</td>\n",
              "      <td>0</td>\n",
              "      <td>0</td>\n",
              "      <td>0</td>\n",
              "      <td>0</td>\n",
              "      <td>0</td>\n",
              "      <td>0</td>\n",
              "      <td>0</td>\n",
              "      <td>0</td>\n",
              "      <td>...</td>\n",
              "      <td>0</td>\n",
              "      <td>0</td>\n",
              "      <td>0</td>\n",
              "      <td>0</td>\n",
              "      <td>0</td>\n",
              "      <td>0</td>\n",
              "      <td>0</td>\n",
              "      <td>0</td>\n",
              "      <td>0</td>\n",
              "      <td>0</td>\n",
              "      <td>0</td>\n",
              "      <td>0</td>\n",
              "      <td>0</td>\n",
              "      <td>1</td>\n",
              "      <td>0</td>\n",
              "      <td>0</td>\n",
              "      <td>0</td>\n",
              "      <td>0</td>\n",
              "      <td>0</td>\n",
              "      <td>0</td>\n",
              "      <td>0</td>\n",
              "      <td>0</td>\n",
              "      <td>0</td>\n",
              "      <td>0</td>\n",
              "      <td>0</td>\n",
              "      <td>0</td>\n",
              "      <td>0</td>\n",
              "      <td>0</td>\n",
              "      <td>0</td>\n",
              "      <td>0</td>\n",
              "      <td>5.441335</td>\n",
              "      <td>3.465736</td>\n",
              "      <td>2.772589</td>\n",
              "      <td>3.465736</td>\n",
              "      <td>3.705506</td>\n",
              "      <td>2.944766</td>\n",
              "      <td>1.791759</td>\n",
              "      <td>0.000000</td>\n",
              "      <td>1.945910</td>\n",
              "      <td>4.465209</td>\n",
              "      <td>3.317541</td>\n",
              "      <td>0.694335</td>\n",
              "      <td>0.000000</td>\n",
              "      <td>0.000</td>\n",
              "      <td>0.375</td>\n",
              "      <td>0.375000</td>\n",
              "      <td>0.693147</td>\n",
              "      <td>-0.070987</td>\n",
              "      <td>9.913535</td>\n",
              "      <td>9.913535</td>\n",
              "    </tr>\n",
              "    <tr>\n",
              "      <th>...</th>\n",
              "      <td>...</td>\n",
              "      <td>...</td>\n",
              "      <td>...</td>\n",
              "      <td>...</td>\n",
              "      <td>...</td>\n",
              "      <td>...</td>\n",
              "      <td>...</td>\n",
              "      <td>...</td>\n",
              "      <td>...</td>\n",
              "      <td>...</td>\n",
              "      <td>...</td>\n",
              "      <td>...</td>\n",
              "      <td>...</td>\n",
              "      <td>...</td>\n",
              "      <td>...</td>\n",
              "      <td>...</td>\n",
              "      <td>...</td>\n",
              "      <td>...</td>\n",
              "      <td>...</td>\n",
              "      <td>...</td>\n",
              "      <td>...</td>\n",
              "      <td>...</td>\n",
              "      <td>...</td>\n",
              "      <td>...</td>\n",
              "      <td>...</td>\n",
              "      <td>...</td>\n",
              "      <td>...</td>\n",
              "      <td>...</td>\n",
              "      <td>...</td>\n",
              "      <td>...</td>\n",
              "      <td>...</td>\n",
              "      <td>...</td>\n",
              "      <td>...</td>\n",
              "      <td>...</td>\n",
              "      <td>...</td>\n",
              "      <td>...</td>\n",
              "      <td>...</td>\n",
              "      <td>...</td>\n",
              "      <td>...</td>\n",
              "      <td>...</td>\n",
              "      <td>...</td>\n",
              "      <td>...</td>\n",
              "      <td>...</td>\n",
              "      <td>...</td>\n",
              "      <td>...</td>\n",
              "      <td>...</td>\n",
              "      <td>...</td>\n",
              "      <td>...</td>\n",
              "      <td>...</td>\n",
              "      <td>...</td>\n",
              "      <td>...</td>\n",
              "      <td>...</td>\n",
              "      <td>...</td>\n",
              "      <td>...</td>\n",
              "      <td>...</td>\n",
              "      <td>...</td>\n",
              "      <td>...</td>\n",
              "      <td>...</td>\n",
              "      <td>...</td>\n",
              "      <td>...</td>\n",
              "      <td>...</td>\n",
              "      <td>...</td>\n",
              "      <td>...</td>\n",
              "      <td>...</td>\n",
              "      <td>...</td>\n",
              "      <td>...</td>\n",
              "      <td>...</td>\n",
              "      <td>...</td>\n",
              "      <td>...</td>\n",
              "      <td>...</td>\n",
              "      <td>...</td>\n",
              "      <td>...</td>\n",
              "      <td>...</td>\n",
              "      <td>...</td>\n",
              "      <td>...</td>\n",
              "      <td>...</td>\n",
              "      <td>...</td>\n",
              "      <td>...</td>\n",
              "      <td>...</td>\n",
              "      <td>...</td>\n",
              "      <td>...</td>\n",
              "      <td>...</td>\n",
              "      <td>...</td>\n",
              "      <td>...</td>\n",
              "      <td>...</td>\n",
              "      <td>...</td>\n",
              "      <td>...</td>\n",
              "      <td>...</td>\n",
              "      <td>...</td>\n",
              "      <td>...</td>\n",
              "      <td>...</td>\n",
              "      <td>...</td>\n",
              "      <td>...</td>\n",
              "      <td>...</td>\n",
              "      <td>...</td>\n",
              "      <td>...</td>\n",
              "      <td>...</td>\n",
              "      <td>...</td>\n",
              "      <td>...</td>\n",
              "      <td>...</td>\n",
              "      <td>...</td>\n",
              "    </tr>\n",
              "    <tr>\n",
              "      <th>946</th>\n",
              "      <td>1</td>\n",
              "      <td>0</td>\n",
              "      <td>1</td>\n",
              "      <td>1</td>\n",
              "      <td>0</td>\n",
              "      <td>1</td>\n",
              "      <td>0</td>\n",
              "      <td>0</td>\n",
              "      <td>0</td>\n",
              "      <td>0</td>\n",
              "      <td>0</td>\n",
              "      <td>0</td>\n",
              "      <td>0</td>\n",
              "      <td>0</td>\n",
              "      <td>1</td>\n",
              "      <td>0</td>\n",
              "      <td>0</td>\n",
              "      <td>0</td>\n",
              "      <td>0</td>\n",
              "      <td>0</td>\n",
              "      <td>0</td>\n",
              "      <td>0</td>\n",
              "      <td>1</td>\n",
              "      <td>0</td>\n",
              "      <td>0</td>\n",
              "      <td>0</td>\n",
              "      <td>1</td>\n",
              "      <td>0</td>\n",
              "      <td>0</td>\n",
              "      <td>0</td>\n",
              "      <td>0</td>\n",
              "      <td>0</td>\n",
              "      <td>0</td>\n",
              "      <td>0</td>\n",
              "      <td>0</td>\n",
              "      <td>1</td>\n",
              "      <td>0</td>\n",
              "      <td>0</td>\n",
              "      <td>0</td>\n",
              "      <td>0</td>\n",
              "      <td>0</td>\n",
              "      <td>0</td>\n",
              "      <td>0</td>\n",
              "      <td>0</td>\n",
              "      <td>0</td>\n",
              "      <td>0</td>\n",
              "      <td>0</td>\n",
              "      <td>0</td>\n",
              "      <td>0</td>\n",
              "      <td>0</td>\n",
              "      <td>...</td>\n",
              "      <td>1</td>\n",
              "      <td>0</td>\n",
              "      <td>0</td>\n",
              "      <td>0</td>\n",
              "      <td>0</td>\n",
              "      <td>0</td>\n",
              "      <td>0</td>\n",
              "      <td>0</td>\n",
              "      <td>0</td>\n",
              "      <td>0</td>\n",
              "      <td>0</td>\n",
              "      <td>0</td>\n",
              "      <td>0</td>\n",
              "      <td>0</td>\n",
              "      <td>0</td>\n",
              "      <td>0</td>\n",
              "      <td>1</td>\n",
              "      <td>0</td>\n",
              "      <td>0</td>\n",
              "      <td>0</td>\n",
              "      <td>0</td>\n",
              "      <td>0</td>\n",
              "      <td>0</td>\n",
              "      <td>0</td>\n",
              "      <td>0</td>\n",
              "      <td>0</td>\n",
              "      <td>0</td>\n",
              "      <td>0</td>\n",
              "      <td>0</td>\n",
              "      <td>0</td>\n",
              "      <td>4.845210</td>\n",
              "      <td>2.772589</td>\n",
              "      <td>2.302585</td>\n",
              "      <td>2.772589</td>\n",
              "      <td>2.924466</td>\n",
              "      <td>1.852753</td>\n",
              "      <td>0.000000</td>\n",
              "      <td>0.941208</td>\n",
              "      <td>0.000000</td>\n",
              "      <td>2.642633</td>\n",
              "      <td>2.372566</td>\n",
              "      <td>0.584815</td>\n",
              "      <td>1.098612</td>\n",
              "      <td>0.000</td>\n",
              "      <td>0.000</td>\n",
              "      <td>0.000000</td>\n",
              "      <td>0.693147</td>\n",
              "      <td>0.713897</td>\n",
              "      <td>10.916599</td>\n",
              "      <td>10.916599</td>\n",
              "    </tr>\n",
              "    <tr>\n",
              "      <th>947</th>\n",
              "      <td>0</td>\n",
              "      <td>1</td>\n",
              "      <td>0</td>\n",
              "      <td>0</td>\n",
              "      <td>1</td>\n",
              "      <td>1</td>\n",
              "      <td>0</td>\n",
              "      <td>0</td>\n",
              "      <td>0</td>\n",
              "      <td>0</td>\n",
              "      <td>0</td>\n",
              "      <td>0</td>\n",
              "      <td>0</td>\n",
              "      <td>0</td>\n",
              "      <td>1</td>\n",
              "      <td>0</td>\n",
              "      <td>0</td>\n",
              "      <td>0</td>\n",
              "      <td>0</td>\n",
              "      <td>0</td>\n",
              "      <td>0</td>\n",
              "      <td>1</td>\n",
              "      <td>0</td>\n",
              "      <td>0</td>\n",
              "      <td>0</td>\n",
              "      <td>0</td>\n",
              "      <td>0</td>\n",
              "      <td>0</td>\n",
              "      <td>0</td>\n",
              "      <td>0</td>\n",
              "      <td>0</td>\n",
              "      <td>0</td>\n",
              "      <td>0</td>\n",
              "      <td>1</td>\n",
              "      <td>0</td>\n",
              "      <td>0</td>\n",
              "      <td>0</td>\n",
              "      <td>0</td>\n",
              "      <td>0</td>\n",
              "      <td>0</td>\n",
              "      <td>0</td>\n",
              "      <td>0</td>\n",
              "      <td>0</td>\n",
              "      <td>0</td>\n",
              "      <td>0</td>\n",
              "      <td>1</td>\n",
              "      <td>0</td>\n",
              "      <td>0</td>\n",
              "      <td>0</td>\n",
              "      <td>0</td>\n",
              "      <td>...</td>\n",
              "      <td>0</td>\n",
              "      <td>0</td>\n",
              "      <td>0</td>\n",
              "      <td>0</td>\n",
              "      <td>0</td>\n",
              "      <td>0</td>\n",
              "      <td>0</td>\n",
              "      <td>0</td>\n",
              "      <td>0</td>\n",
              "      <td>0</td>\n",
              "      <td>0</td>\n",
              "      <td>0</td>\n",
              "      <td>0</td>\n",
              "      <td>0</td>\n",
              "      <td>0</td>\n",
              "      <td>0</td>\n",
              "      <td>0</td>\n",
              "      <td>0</td>\n",
              "      <td>0</td>\n",
              "      <td>0</td>\n",
              "      <td>0</td>\n",
              "      <td>0</td>\n",
              "      <td>0</td>\n",
              "      <td>1</td>\n",
              "      <td>1</td>\n",
              "      <td>0</td>\n",
              "      <td>0</td>\n",
              "      <td>0</td>\n",
              "      <td>0</td>\n",
              "      <td>1</td>\n",
              "      <td>4.683704</td>\n",
              "      <td>2.890372</td>\n",
              "      <td>2.197225</td>\n",
              "      <td>2.890372</td>\n",
              "      <td>2.759228</td>\n",
              "      <td>2.944766</td>\n",
              "      <td>0.693147</td>\n",
              "      <td>0.000000</td>\n",
              "      <td>1.945910</td>\n",
              "      <td>3.317541</td>\n",
              "      <td>2.886887</td>\n",
              "      <td>0.456826</td>\n",
              "      <td>0.000000</td>\n",
              "      <td>0.000</td>\n",
              "      <td>0.000</td>\n",
              "      <td>0.000000</td>\n",
              "      <td>0.693147</td>\n",
              "      <td>-0.169051</td>\n",
              "      <td>4.481002</td>\n",
              "      <td>4.481002</td>\n",
              "    </tr>\n",
              "    <tr>\n",
              "      <th>948</th>\n",
              "      <td>1</td>\n",
              "      <td>0</td>\n",
              "      <td>1</td>\n",
              "      <td>1</td>\n",
              "      <td>0</td>\n",
              "      <td>0</td>\n",
              "      <td>1</td>\n",
              "      <td>0</td>\n",
              "      <td>0</td>\n",
              "      <td>0</td>\n",
              "      <td>0</td>\n",
              "      <td>0</td>\n",
              "      <td>0</td>\n",
              "      <td>0</td>\n",
              "      <td>1</td>\n",
              "      <td>0</td>\n",
              "      <td>0</td>\n",
              "      <td>0</td>\n",
              "      <td>0</td>\n",
              "      <td>0</td>\n",
              "      <td>0</td>\n",
              "      <td>0</td>\n",
              "      <td>0</td>\n",
              "      <td>0</td>\n",
              "      <td>0</td>\n",
              "      <td>0</td>\n",
              "      <td>0</td>\n",
              "      <td>0</td>\n",
              "      <td>0</td>\n",
              "      <td>0</td>\n",
              "      <td>0</td>\n",
              "      <td>0</td>\n",
              "      <td>0</td>\n",
              "      <td>0</td>\n",
              "      <td>0</td>\n",
              "      <td>0</td>\n",
              "      <td>1</td>\n",
              "      <td>0</td>\n",
              "      <td>0</td>\n",
              "      <td>0</td>\n",
              "      <td>0</td>\n",
              "      <td>0</td>\n",
              "      <td>0</td>\n",
              "      <td>0</td>\n",
              "      <td>0</td>\n",
              "      <td>0</td>\n",
              "      <td>0</td>\n",
              "      <td>1</td>\n",
              "      <td>0</td>\n",
              "      <td>0</td>\n",
              "      <td>...</td>\n",
              "      <td>0</td>\n",
              "      <td>0</td>\n",
              "      <td>0</td>\n",
              "      <td>0</td>\n",
              "      <td>0</td>\n",
              "      <td>0</td>\n",
              "      <td>0</td>\n",
              "      <td>0</td>\n",
              "      <td>0</td>\n",
              "      <td>0</td>\n",
              "      <td>0</td>\n",
              "      <td>0</td>\n",
              "      <td>0</td>\n",
              "      <td>0</td>\n",
              "      <td>0</td>\n",
              "      <td>0</td>\n",
              "      <td>0</td>\n",
              "      <td>0</td>\n",
              "      <td>0</td>\n",
              "      <td>0</td>\n",
              "      <td>0</td>\n",
              "      <td>0</td>\n",
              "      <td>0</td>\n",
              "      <td>0</td>\n",
              "      <td>0</td>\n",
              "      <td>0</td>\n",
              "      <td>0</td>\n",
              "      <td>0</td>\n",
              "      <td>0</td>\n",
              "      <td>0</td>\n",
              "      <td>4.746757</td>\n",
              "      <td>3.135494</td>\n",
              "      <td>2.197225</td>\n",
              "      <td>3.091042</td>\n",
              "      <td>2.578583</td>\n",
              "      <td>0.798770</td>\n",
              "      <td>1.609438</td>\n",
              "      <td>0.567077</td>\n",
              "      <td>0.000000</td>\n",
              "      <td>4.177811</td>\n",
              "      <td>2.886887</td>\n",
              "      <td>0.000000</td>\n",
              "      <td>0.693147</td>\n",
              "      <td>0.000</td>\n",
              "      <td>0.000</td>\n",
              "      <td>0.000000</td>\n",
              "      <td>0.000000</td>\n",
              "      <td>-1.483783</td>\n",
              "      <td>5.456522</td>\n",
              "      <td>5.456522</td>\n",
              "    </tr>\n",
              "    <tr>\n",
              "      <th>949</th>\n",
              "      <td>0</td>\n",
              "      <td>0</td>\n",
              "      <td>0</td>\n",
              "      <td>0</td>\n",
              "      <td>0</td>\n",
              "      <td>0</td>\n",
              "      <td>0</td>\n",
              "      <td>0</td>\n",
              "      <td>1</td>\n",
              "      <td>0</td>\n",
              "      <td>0</td>\n",
              "      <td>0</td>\n",
              "      <td>0</td>\n",
              "      <td>0</td>\n",
              "      <td>1</td>\n",
              "      <td>0</td>\n",
              "      <td>0</td>\n",
              "      <td>0</td>\n",
              "      <td>0</td>\n",
              "      <td>0</td>\n",
              "      <td>1</td>\n",
              "      <td>0</td>\n",
              "      <td>0</td>\n",
              "      <td>0</td>\n",
              "      <td>0</td>\n",
              "      <td>0</td>\n",
              "      <td>0</td>\n",
              "      <td>0</td>\n",
              "      <td>0</td>\n",
              "      <td>0</td>\n",
              "      <td>0</td>\n",
              "      <td>0</td>\n",
              "      <td>0</td>\n",
              "      <td>0</td>\n",
              "      <td>0</td>\n",
              "      <td>0</td>\n",
              "      <td>0</td>\n",
              "      <td>0</td>\n",
              "      <td>0</td>\n",
              "      <td>0</td>\n",
              "      <td>0</td>\n",
              "      <td>0</td>\n",
              "      <td>0</td>\n",
              "      <td>0</td>\n",
              "      <td>0</td>\n",
              "      <td>0</td>\n",
              "      <td>0</td>\n",
              "      <td>0</td>\n",
              "      <td>0</td>\n",
              "      <td>0</td>\n",
              "      <td>...</td>\n",
              "      <td>0</td>\n",
              "      <td>0</td>\n",
              "      <td>0</td>\n",
              "      <td>0</td>\n",
              "      <td>0</td>\n",
              "      <td>0</td>\n",
              "      <td>0</td>\n",
              "      <td>0</td>\n",
              "      <td>0</td>\n",
              "      <td>0</td>\n",
              "      <td>0</td>\n",
              "      <td>0</td>\n",
              "      <td>1</td>\n",
              "      <td>0</td>\n",
              "      <td>0</td>\n",
              "      <td>0</td>\n",
              "      <td>0</td>\n",
              "      <td>0</td>\n",
              "      <td>0</td>\n",
              "      <td>0</td>\n",
              "      <td>0</td>\n",
              "      <td>0</td>\n",
              "      <td>0</td>\n",
              "      <td>0</td>\n",
              "      <td>0</td>\n",
              "      <td>0</td>\n",
              "      <td>0</td>\n",
              "      <td>0</td>\n",
              "      <td>0</td>\n",
              "      <td>0</td>\n",
              "      <td>5.230253</td>\n",
              "      <td>1.945910</td>\n",
              "      <td>1.609438</td>\n",
              "      <td>1.791759</td>\n",
              "      <td>1.597540</td>\n",
              "      <td>0.798770</td>\n",
              "      <td>0.000000</td>\n",
              "      <td>0.567077</td>\n",
              "      <td>0.000000</td>\n",
              "      <td>1.301297</td>\n",
              "      <td>1.301297</td>\n",
              "      <td>0.000000</td>\n",
              "      <td>0.000000</td>\n",
              "      <td>0.000</td>\n",
              "      <td>0.000</td>\n",
              "      <td>0.444444</td>\n",
              "      <td>0.000000</td>\n",
              "      <td>-0.533242</td>\n",
              "      <td>0.000000</td>\n",
              "      <td>0.000000</td>\n",
              "    </tr>\n",
              "    <tr>\n",
              "      <th>950</th>\n",
              "      <td>0</td>\n",
              "      <td>0</td>\n",
              "      <td>1</td>\n",
              "      <td>1</td>\n",
              "      <td>0</td>\n",
              "      <td>0</td>\n",
              "      <td>1</td>\n",
              "      <td>0</td>\n",
              "      <td>0</td>\n",
              "      <td>0</td>\n",
              "      <td>0</td>\n",
              "      <td>1</td>\n",
              "      <td>0</td>\n",
              "      <td>0</td>\n",
              "      <td>1</td>\n",
              "      <td>1</td>\n",
              "      <td>0</td>\n",
              "      <td>0</td>\n",
              "      <td>0</td>\n",
              "      <td>0</td>\n",
              "      <td>0</td>\n",
              "      <td>0</td>\n",
              "      <td>0</td>\n",
              "      <td>0</td>\n",
              "      <td>0</td>\n",
              "      <td>0</td>\n",
              "      <td>0</td>\n",
              "      <td>0</td>\n",
              "      <td>0</td>\n",
              "      <td>0</td>\n",
              "      <td>0</td>\n",
              "      <td>0</td>\n",
              "      <td>0</td>\n",
              "      <td>0</td>\n",
              "      <td>0</td>\n",
              "      <td>0</td>\n",
              "      <td>0</td>\n",
              "      <td>0</td>\n",
              "      <td>0</td>\n",
              "      <td>0</td>\n",
              "      <td>0</td>\n",
              "      <td>0</td>\n",
              "      <td>0</td>\n",
              "      <td>0</td>\n",
              "      <td>0</td>\n",
              "      <td>0</td>\n",
              "      <td>0</td>\n",
              "      <td>0</td>\n",
              "      <td>0</td>\n",
              "      <td>0</td>\n",
              "      <td>...</td>\n",
              "      <td>0</td>\n",
              "      <td>0</td>\n",
              "      <td>0</td>\n",
              "      <td>1</td>\n",
              "      <td>0</td>\n",
              "      <td>0</td>\n",
              "      <td>0</td>\n",
              "      <td>0</td>\n",
              "      <td>0</td>\n",
              "      <td>0</td>\n",
              "      <td>0</td>\n",
              "      <td>0</td>\n",
              "      <td>0</td>\n",
              "      <td>0</td>\n",
              "      <td>0</td>\n",
              "      <td>0</td>\n",
              "      <td>0</td>\n",
              "      <td>0</td>\n",
              "      <td>0</td>\n",
              "      <td>0</td>\n",
              "      <td>0</td>\n",
              "      <td>0</td>\n",
              "      <td>0</td>\n",
              "      <td>0</td>\n",
              "      <td>0</td>\n",
              "      <td>0</td>\n",
              "      <td>0</td>\n",
              "      <td>0</td>\n",
              "      <td>0</td>\n",
              "      <td>0</td>\n",
              "      <td>4.636669</td>\n",
              "      <td>3.091042</td>\n",
              "      <td>2.079442</td>\n",
              "      <td>3.044522</td>\n",
              "      <td>2.378866</td>\n",
              "      <td>0.000000</td>\n",
              "      <td>1.386294</td>\n",
              "      <td>0.000000</td>\n",
              "      <td>0.000000</td>\n",
              "      <td>4.177811</td>\n",
              "      <td>2.642633</td>\n",
              "      <td>0.000000</td>\n",
              "      <td>0.693147</td>\n",
              "      <td>0.000</td>\n",
              "      <td>0.000</td>\n",
              "      <td>0.000000</td>\n",
              "      <td>0.000000</td>\n",
              "      <td>-1.383379</td>\n",
              "      <td>3.837096</td>\n",
              "      <td>3.837096</td>\n",
              "    </tr>\n",
              "  </tbody>\n",
              "</table>\n",
              "<p>951 rows × 228 columns</p>\n",
              "</div>\n",
              "    <div class=\"colab-df-buttons\">\n",
              "\n",
              "  <div class=\"colab-df-container\">\n",
              "    <button class=\"colab-df-convert\" onclick=\"convertToInteractive('df-d2c226da-b401-4c3a-8bae-260a9f2a1d63')\"\n",
              "            title=\"Convert this dataframe to an interactive table.\"\n",
              "            style=\"display:none;\">\n",
              "\n",
              "  <svg xmlns=\"http://www.w3.org/2000/svg\" height=\"24px\" viewBox=\"0 -960 960 960\">\n",
              "    <path d=\"M120-120v-720h720v720H120Zm60-500h600v-160H180v160Zm220 220h160v-160H400v160Zm0 220h160v-160H400v160ZM180-400h160v-160H180v160Zm440 0h160v-160H620v160ZM180-180h160v-160H180v160Zm440 0h160v-160H620v160Z\"/>\n",
              "  </svg>\n",
              "    </button>\n",
              "\n",
              "  <style>\n",
              "    .colab-df-container {\n",
              "      display:flex;\n",
              "      gap: 12px;\n",
              "    }\n",
              "\n",
              "    .colab-df-convert {\n",
              "      background-color: #E8F0FE;\n",
              "      border: none;\n",
              "      border-radius: 50%;\n",
              "      cursor: pointer;\n",
              "      display: none;\n",
              "      fill: #1967D2;\n",
              "      height: 32px;\n",
              "      padding: 0 0 0 0;\n",
              "      width: 32px;\n",
              "    }\n",
              "\n",
              "    .colab-df-convert:hover {\n",
              "      background-color: #E2EBFA;\n",
              "      box-shadow: 0px 1px 2px rgba(60, 64, 67, 0.3), 0px 1px 3px 1px rgba(60, 64, 67, 0.15);\n",
              "      fill: #174EA6;\n",
              "    }\n",
              "\n",
              "    .colab-df-buttons div {\n",
              "      margin-bottom: 4px;\n",
              "    }\n",
              "\n",
              "    [theme=dark] .colab-df-convert {\n",
              "      background-color: #3B4455;\n",
              "      fill: #D2E3FC;\n",
              "    }\n",
              "\n",
              "    [theme=dark] .colab-df-convert:hover {\n",
              "      background-color: #434B5C;\n",
              "      box-shadow: 0px 1px 3px 1px rgba(0, 0, 0, 0.15);\n",
              "      filter: drop-shadow(0px 1px 2px rgba(0, 0, 0, 0.3));\n",
              "      fill: #FFFFFF;\n",
              "    }\n",
              "  </style>\n",
              "\n",
              "    <script>\n",
              "      const buttonEl =\n",
              "        document.querySelector('#df-d2c226da-b401-4c3a-8bae-260a9f2a1d63 button.colab-df-convert');\n",
              "      buttonEl.style.display =\n",
              "        google.colab.kernel.accessAllowed ? 'block' : 'none';\n",
              "\n",
              "      async function convertToInteractive(key) {\n",
              "        const element = document.querySelector('#df-d2c226da-b401-4c3a-8bae-260a9f2a1d63');\n",
              "        const dataTable =\n",
              "          await google.colab.kernel.invokeFunction('convertToInteractive',\n",
              "                                                    [key], {});\n",
              "        if (!dataTable) return;\n",
              "\n",
              "        const docLinkHtml = 'Like what you see? Visit the ' +\n",
              "          '<a target=\"_blank\" href=https://colab.research.google.com/notebooks/data_table.ipynb>data table notebook</a>'\n",
              "          + ' to learn more about interactive tables.';\n",
              "        element.innerHTML = '';\n",
              "        dataTable['output_type'] = 'display_data';\n",
              "        await google.colab.output.renderOutput(dataTable, element);\n",
              "        const docLink = document.createElement('div');\n",
              "        docLink.innerHTML = docLinkHtml;\n",
              "        element.appendChild(docLink);\n",
              "      }\n",
              "    </script>\n",
              "  </div>\n",
              "\n",
              "\n",
              "<div id=\"df-aba5a0ba-3476-4a95-887c-ab45593b4a33\">\n",
              "  <button class=\"colab-df-quickchart\" onclick=\"quickchart('df-aba5a0ba-3476-4a95-887c-ab45593b4a33')\"\n",
              "            title=\"Suggest charts\"\n",
              "            style=\"display:none;\">\n",
              "\n",
              "<svg xmlns=\"http://www.w3.org/2000/svg\" height=\"24px\"viewBox=\"0 0 24 24\"\n",
              "     width=\"24px\">\n",
              "    <g>\n",
              "        <path d=\"M19 3H5c-1.1 0-2 .9-2 2v14c0 1.1.9 2 2 2h14c1.1 0 2-.9 2-2V5c0-1.1-.9-2-2-2zM9 17H7v-7h2v7zm4 0h-2V7h2v10zm4 0h-2v-4h2v4z\"/>\n",
              "    </g>\n",
              "</svg>\n",
              "  </button>\n",
              "\n",
              "<style>\n",
              "  .colab-df-quickchart {\n",
              "      --bg-color: #E8F0FE;\n",
              "      --fill-color: #1967D2;\n",
              "      --hover-bg-color: #E2EBFA;\n",
              "      --hover-fill-color: #174EA6;\n",
              "      --disabled-fill-color: #AAA;\n",
              "      --disabled-bg-color: #DDD;\n",
              "  }\n",
              "\n",
              "  [theme=dark] .colab-df-quickchart {\n",
              "      --bg-color: #3B4455;\n",
              "      --fill-color: #D2E3FC;\n",
              "      --hover-bg-color: #434B5C;\n",
              "      --hover-fill-color: #FFFFFF;\n",
              "      --disabled-bg-color: #3B4455;\n",
              "      --disabled-fill-color: #666;\n",
              "  }\n",
              "\n",
              "  .colab-df-quickchart {\n",
              "    background-color: var(--bg-color);\n",
              "    border: none;\n",
              "    border-radius: 50%;\n",
              "    cursor: pointer;\n",
              "    display: none;\n",
              "    fill: var(--fill-color);\n",
              "    height: 32px;\n",
              "    padding: 0;\n",
              "    width: 32px;\n",
              "  }\n",
              "\n",
              "  .colab-df-quickchart:hover {\n",
              "    background-color: var(--hover-bg-color);\n",
              "    box-shadow: 0 1px 2px rgba(60, 64, 67, 0.3), 0 1px 3px 1px rgba(60, 64, 67, 0.15);\n",
              "    fill: var(--button-hover-fill-color);\n",
              "  }\n",
              "\n",
              "  .colab-df-quickchart-complete:disabled,\n",
              "  .colab-df-quickchart-complete:disabled:hover {\n",
              "    background-color: var(--disabled-bg-color);\n",
              "    fill: var(--disabled-fill-color);\n",
              "    box-shadow: none;\n",
              "  }\n",
              "\n",
              "  .colab-df-spinner {\n",
              "    border: 2px solid var(--fill-color);\n",
              "    border-color: transparent;\n",
              "    border-bottom-color: var(--fill-color);\n",
              "    animation:\n",
              "      spin 1s steps(1) infinite;\n",
              "  }\n",
              "\n",
              "  @keyframes spin {\n",
              "    0% {\n",
              "      border-color: transparent;\n",
              "      border-bottom-color: var(--fill-color);\n",
              "      border-left-color: var(--fill-color);\n",
              "    }\n",
              "    20% {\n",
              "      border-color: transparent;\n",
              "      border-left-color: var(--fill-color);\n",
              "      border-top-color: var(--fill-color);\n",
              "    }\n",
              "    30% {\n",
              "      border-color: transparent;\n",
              "      border-left-color: var(--fill-color);\n",
              "      border-top-color: var(--fill-color);\n",
              "      border-right-color: var(--fill-color);\n",
              "    }\n",
              "    40% {\n",
              "      border-color: transparent;\n",
              "      border-right-color: var(--fill-color);\n",
              "      border-top-color: var(--fill-color);\n",
              "    }\n",
              "    60% {\n",
              "      border-color: transparent;\n",
              "      border-right-color: var(--fill-color);\n",
              "    }\n",
              "    80% {\n",
              "      border-color: transparent;\n",
              "      border-right-color: var(--fill-color);\n",
              "      border-bottom-color: var(--fill-color);\n",
              "    }\n",
              "    90% {\n",
              "      border-color: transparent;\n",
              "      border-bottom-color: var(--fill-color);\n",
              "    }\n",
              "  }\n",
              "</style>\n",
              "\n",
              "  <script>\n",
              "    async function quickchart(key) {\n",
              "      const quickchartButtonEl =\n",
              "        document.querySelector('#' + key + ' button');\n",
              "      quickchartButtonEl.disabled = true;  // To prevent multiple clicks.\n",
              "      quickchartButtonEl.classList.add('colab-df-spinner');\n",
              "      try {\n",
              "        const charts = await google.colab.kernel.invokeFunction(\n",
              "            'suggestCharts', [key], {});\n",
              "      } catch (error) {\n",
              "        console.error('Error during call to suggestCharts:', error);\n",
              "      }\n",
              "      quickchartButtonEl.classList.remove('colab-df-spinner');\n",
              "      quickchartButtonEl.classList.add('colab-df-quickchart-complete');\n",
              "    }\n",
              "    (() => {\n",
              "      let quickchartButtonEl =\n",
              "        document.querySelector('#df-aba5a0ba-3476-4a95-887c-ab45593b4a33 button');\n",
              "      quickchartButtonEl.style.display =\n",
              "        google.colab.kernel.accessAllowed ? 'block' : 'none';\n",
              "    })();\n",
              "  </script>\n",
              "</div>\n",
              "    </div>\n",
              "  </div>\n"
            ],
            "application/vnd.google.colaboratory.intrinsic+json": {
              "type": "dataframe",
              "variable_name": "X"
            }
          },
          "metadata": {},
          "execution_count": 34
        }
      ]
    },
    {
      "cell_type": "code",
      "source": [
        "y"
      ],
      "metadata": {
        "colab": {
          "base_uri": "https://localhost:8080/"
        },
        "id": "CbGkWR5z7E0y",
        "outputId": "83debc28-2f55-42aa-e9cd-12bcb579615f"
      },
      "execution_count": 35,
      "outputs": [
        {
          "output_type": "execute_result",
          "data": {
            "text/plain": [
              "0     -3.97\n",
              "1     -3.98\n",
              "2     -3.99\n",
              "3     -4.00\n",
              "4     -4.06\n",
              "       ... \n",
              "946   -1.26\n",
              "947   -1.28\n",
              "948   -1.30\n",
              "949   -1.32\n",
              "950   -1.34\n",
              "Name: Solubility, Length: 951, dtype: float64"
            ]
          },
          "metadata": {},
          "execution_count": 35
        }
      ]
    },
    {
      "cell_type": "code",
      "source": [
        "#armo un bagging (buscar los mejores hiperparámetros de un modelo bagging)"
      ],
      "metadata": {
        "id": "7qQzoOeh7GQA"
      },
      "execution_count": null,
      "outputs": []
    },
    {
      "cell_type": "code",
      "source": [
        "from sklearn.ensemble import BaggingRegressor\n",
        "from sklearn.neighbors import KNeighborsRegressor\n",
        "bagging = BaggingRegressor (base_estimator = KNeighborsRegressor(5), n_estimators=10, max_samples=0.5, max_features=0.5 )"
      ],
      "metadata": {
        "id": "lGKeRSnQ7YbB"
      },
      "execution_count": 44,
      "outputs": []
    },
    {
      "cell_type": "code",
      "source": [
        "bagging.get_params()"
      ],
      "metadata": {
        "colab": {
          "base_uri": "https://localhost:8080/"
        },
        "id": "H14J0rcS7rsf",
        "outputId": "dcff4d57-d449-4722-c19a-7a9c4fd3ddf5"
      },
      "execution_count": 45,
      "outputs": [
        {
          "output_type": "execute_result",
          "data": {
            "text/plain": [
              "{'base_estimator__algorithm': 'auto',\n",
              " 'base_estimator__leaf_size': 30,\n",
              " 'base_estimator__metric': 'minkowski',\n",
              " 'base_estimator__metric_params': None,\n",
              " 'base_estimator__n_jobs': None,\n",
              " 'base_estimator__n_neighbors': 5,\n",
              " 'base_estimator__p': 2,\n",
              " 'base_estimator__weights': 'uniform',\n",
              " 'base_estimator': KNeighborsRegressor(),\n",
              " 'bootstrap': True,\n",
              " 'bootstrap_features': False,\n",
              " 'estimator': None,\n",
              " 'max_features': 0.5,\n",
              " 'max_samples': 0.5,\n",
              " 'n_estimators': 10,\n",
              " 'n_jobs': None,\n",
              " 'oob_score': False,\n",
              " 'random_state': None,\n",
              " 'verbose': 0,\n",
              " 'warm_start': False}"
            ]
          },
          "metadata": {},
          "execution_count": 45
        }
      ]
    },
    {
      "cell_type": "code",
      "source": [
        "KNeighborsRegressor().get_params()"
      ],
      "metadata": {
        "colab": {
          "base_uri": "https://localhost:8080/"
        },
        "id": "DHm9S7KA9v0p",
        "outputId": "d74580d7-3b0b-4127-b953-d95ebbaa81de"
      },
      "execution_count": 46,
      "outputs": [
        {
          "output_type": "execute_result",
          "data": {
            "text/plain": [
              "{'algorithm': 'auto',\n",
              " 'leaf_size': 30,\n",
              " 'metric': 'minkowski',\n",
              " 'metric_params': None,\n",
              " 'n_jobs': None,\n",
              " 'n_neighbors': 5,\n",
              " 'p': 2,\n",
              " 'weights': 'uniform'}"
            ]
          },
          "metadata": {},
          "execution_count": 46
        }
      ]
    },
    {
      "cell_type": "code",
      "source": [
        "params={'base_estimator__n_neighbors': [5,10],\n",
        "         'n_estimators': [10,20]}\n",
        "# scoring: lista de metricas a obtener\n",
        "scoring = ['neg_mean_squared_error', 'explained_variance', 'r2']\n",
        "\n",
        "# creamos la GridSeacrh\n",
        "grid_solver_knn = GridSearchCV(estimator = bagging, # model to train\n",
        "                   param_grid = params, # param_grid\n",
        "                   scoring = scoring,\n",
        "                   cv = 5,\n",
        "                   refit = 'neg_mean_squared_error',\n",
        "                   verbose = 1)\n",
        "grid_solver_knn.fit(X_train, y_train)"
      ],
      "metadata": {
        "colab": {
          "base_uri": "https://localhost:8080/",
          "height": 1000
        },
        "id": "pRMvEynb-VS2",
        "outputId": "78501df6-12a1-45a2-f265-f70a2bff4022"
      },
      "execution_count": 47,
      "outputs": [
        {
          "output_type": "stream",
          "name": "stdout",
          "text": [
            "Fitting 5 folds for each of 4 candidates, totalling 20 fits\n"
          ]
        },
        {
          "output_type": "stream",
          "name": "stderr",
          "text": [
            "/usr/local/lib/python3.10/dist-packages/sklearn/ensemble/_base.py:166: FutureWarning: `base_estimator` was renamed to `estimator` in version 1.2 and will be removed in 1.4.\n",
            "  warnings.warn(\n",
            "/usr/local/lib/python3.10/dist-packages/sklearn/ensemble/_base.py:166: FutureWarning: `base_estimator` was renamed to `estimator` in version 1.2 and will be removed in 1.4.\n",
            "  warnings.warn(\n",
            "/usr/local/lib/python3.10/dist-packages/sklearn/ensemble/_base.py:166: FutureWarning: `base_estimator` was renamed to `estimator` in version 1.2 and will be removed in 1.4.\n",
            "  warnings.warn(\n",
            "/usr/local/lib/python3.10/dist-packages/sklearn/ensemble/_base.py:166: FutureWarning: `base_estimator` was renamed to `estimator` in version 1.2 and will be removed in 1.4.\n",
            "  warnings.warn(\n",
            "/usr/local/lib/python3.10/dist-packages/sklearn/ensemble/_base.py:166: FutureWarning: `base_estimator` was renamed to `estimator` in version 1.2 and will be removed in 1.4.\n",
            "  warnings.warn(\n",
            "/usr/local/lib/python3.10/dist-packages/sklearn/ensemble/_base.py:166: FutureWarning: `base_estimator` was renamed to `estimator` in version 1.2 and will be removed in 1.4.\n",
            "  warnings.warn(\n",
            "/usr/local/lib/python3.10/dist-packages/sklearn/ensemble/_base.py:166: FutureWarning: `base_estimator` was renamed to `estimator` in version 1.2 and will be removed in 1.4.\n",
            "  warnings.warn(\n",
            "/usr/local/lib/python3.10/dist-packages/sklearn/ensemble/_base.py:166: FutureWarning: `base_estimator` was renamed to `estimator` in version 1.2 and will be removed in 1.4.\n",
            "  warnings.warn(\n",
            "/usr/local/lib/python3.10/dist-packages/sklearn/ensemble/_base.py:166: FutureWarning: `base_estimator` was renamed to `estimator` in version 1.2 and will be removed in 1.4.\n",
            "  warnings.warn(\n",
            "/usr/local/lib/python3.10/dist-packages/sklearn/ensemble/_base.py:166: FutureWarning: `base_estimator` was renamed to `estimator` in version 1.2 and will be removed in 1.4.\n",
            "  warnings.warn(\n",
            "/usr/local/lib/python3.10/dist-packages/sklearn/ensemble/_base.py:166: FutureWarning: `base_estimator` was renamed to `estimator` in version 1.2 and will be removed in 1.4.\n",
            "  warnings.warn(\n",
            "/usr/local/lib/python3.10/dist-packages/sklearn/ensemble/_base.py:166: FutureWarning: `base_estimator` was renamed to `estimator` in version 1.2 and will be removed in 1.4.\n",
            "  warnings.warn(\n",
            "/usr/local/lib/python3.10/dist-packages/sklearn/ensemble/_base.py:166: FutureWarning: `base_estimator` was renamed to `estimator` in version 1.2 and will be removed in 1.4.\n",
            "  warnings.warn(\n",
            "/usr/local/lib/python3.10/dist-packages/sklearn/ensemble/_base.py:166: FutureWarning: `base_estimator` was renamed to `estimator` in version 1.2 and will be removed in 1.4.\n",
            "  warnings.warn(\n",
            "/usr/local/lib/python3.10/dist-packages/sklearn/ensemble/_base.py:166: FutureWarning: `base_estimator` was renamed to `estimator` in version 1.2 and will be removed in 1.4.\n",
            "  warnings.warn(\n",
            "/usr/local/lib/python3.10/dist-packages/sklearn/ensemble/_base.py:166: FutureWarning: `base_estimator` was renamed to `estimator` in version 1.2 and will be removed in 1.4.\n",
            "  warnings.warn(\n",
            "/usr/local/lib/python3.10/dist-packages/sklearn/ensemble/_base.py:166: FutureWarning: `base_estimator` was renamed to `estimator` in version 1.2 and will be removed in 1.4.\n",
            "  warnings.warn(\n",
            "/usr/local/lib/python3.10/dist-packages/sklearn/ensemble/_base.py:166: FutureWarning: `base_estimator` was renamed to `estimator` in version 1.2 and will be removed in 1.4.\n",
            "  warnings.warn(\n",
            "/usr/local/lib/python3.10/dist-packages/sklearn/ensemble/_base.py:166: FutureWarning: `base_estimator` was renamed to `estimator` in version 1.2 and will be removed in 1.4.\n",
            "  warnings.warn(\n",
            "/usr/local/lib/python3.10/dist-packages/sklearn/ensemble/_base.py:166: FutureWarning: `base_estimator` was renamed to `estimator` in version 1.2 and will be removed in 1.4.\n",
            "  warnings.warn(\n",
            "/usr/local/lib/python3.10/dist-packages/sklearn/ensemble/_base.py:166: FutureWarning: `base_estimator` was renamed to `estimator` in version 1.2 and will be removed in 1.4.\n",
            "  warnings.warn(\n"
          ]
        },
        {
          "output_type": "execute_result",
          "data": {
            "text/plain": [
              "GridSearchCV(cv=5,\n",
              "             estimator=BaggingRegressor(base_estimator=KNeighborsRegressor(),\n",
              "                                        max_features=0.5, max_samples=0.5),\n",
              "             param_grid={'base_estimator__n_neighbors': [5, 10],\n",
              "                         'n_estimators': [10, 20]},\n",
              "             refit='neg_mean_squared_error',\n",
              "             scoring=['neg_mean_squared_error', 'explained_variance', 'r2'],\n",
              "             verbose=1)"
            ],
            "text/html": [
              "<style>#sk-container-id-4 {color: black;background-color: white;}#sk-container-id-4 pre{padding: 0;}#sk-container-id-4 div.sk-toggleable {background-color: white;}#sk-container-id-4 label.sk-toggleable__label {cursor: pointer;display: block;width: 100%;margin-bottom: 0;padding: 0.3em;box-sizing: border-box;text-align: center;}#sk-container-id-4 label.sk-toggleable__label-arrow:before {content: \"▸\";float: left;margin-right: 0.25em;color: #696969;}#sk-container-id-4 label.sk-toggleable__label-arrow:hover:before {color: black;}#sk-container-id-4 div.sk-estimator:hover label.sk-toggleable__label-arrow:before {color: black;}#sk-container-id-4 div.sk-toggleable__content {max-height: 0;max-width: 0;overflow: hidden;text-align: left;background-color: #f0f8ff;}#sk-container-id-4 div.sk-toggleable__content pre {margin: 0.2em;color: black;border-radius: 0.25em;background-color: #f0f8ff;}#sk-container-id-4 input.sk-toggleable__control:checked~div.sk-toggleable__content {max-height: 200px;max-width: 100%;overflow: auto;}#sk-container-id-4 input.sk-toggleable__control:checked~label.sk-toggleable__label-arrow:before {content: \"▾\";}#sk-container-id-4 div.sk-estimator input.sk-toggleable__control:checked~label.sk-toggleable__label {background-color: #d4ebff;}#sk-container-id-4 div.sk-label input.sk-toggleable__control:checked~label.sk-toggleable__label {background-color: #d4ebff;}#sk-container-id-4 input.sk-hidden--visually {border: 0;clip: rect(1px 1px 1px 1px);clip: rect(1px, 1px, 1px, 1px);height: 1px;margin: -1px;overflow: hidden;padding: 0;position: absolute;width: 1px;}#sk-container-id-4 div.sk-estimator {font-family: monospace;background-color: #f0f8ff;border: 1px dotted black;border-radius: 0.25em;box-sizing: border-box;margin-bottom: 0.5em;}#sk-container-id-4 div.sk-estimator:hover {background-color: #d4ebff;}#sk-container-id-4 div.sk-parallel-item::after {content: \"\";width: 100%;border-bottom: 1px solid gray;flex-grow: 1;}#sk-container-id-4 div.sk-label:hover label.sk-toggleable__label {background-color: #d4ebff;}#sk-container-id-4 div.sk-serial::before {content: \"\";position: absolute;border-left: 1px solid gray;box-sizing: border-box;top: 0;bottom: 0;left: 50%;z-index: 0;}#sk-container-id-4 div.sk-serial {display: flex;flex-direction: column;align-items: center;background-color: white;padding-right: 0.2em;padding-left: 0.2em;position: relative;}#sk-container-id-4 div.sk-item {position: relative;z-index: 1;}#sk-container-id-4 div.sk-parallel {display: flex;align-items: stretch;justify-content: center;background-color: white;position: relative;}#sk-container-id-4 div.sk-item::before, #sk-container-id-4 div.sk-parallel-item::before {content: \"\";position: absolute;border-left: 1px solid gray;box-sizing: border-box;top: 0;bottom: 0;left: 50%;z-index: -1;}#sk-container-id-4 div.sk-parallel-item {display: flex;flex-direction: column;z-index: 1;position: relative;background-color: white;}#sk-container-id-4 div.sk-parallel-item:first-child::after {align-self: flex-end;width: 50%;}#sk-container-id-4 div.sk-parallel-item:last-child::after {align-self: flex-start;width: 50%;}#sk-container-id-4 div.sk-parallel-item:only-child::after {width: 0;}#sk-container-id-4 div.sk-dashed-wrapped {border: 1px dashed gray;margin: 0 0.4em 0.5em 0.4em;box-sizing: border-box;padding-bottom: 0.4em;background-color: white;}#sk-container-id-4 div.sk-label label {font-family: monospace;font-weight: bold;display: inline-block;line-height: 1.2em;}#sk-container-id-4 div.sk-label-container {text-align: center;}#sk-container-id-4 div.sk-container {/* jupyter's `normalize.less` sets `[hidden] { display: none; }` but bootstrap.min.css set `[hidden] { display: none !important; }` so we also need the `!important` here to be able to override the default hidden behavior on the sphinx rendered scikit-learn.org. See: https://github.com/scikit-learn/scikit-learn/issues/21755 */display: inline-block !important;position: relative;}#sk-container-id-4 div.sk-text-repr-fallback {display: none;}</style><div id=\"sk-container-id-4\" class=\"sk-top-container\"><div class=\"sk-text-repr-fallback\"><pre>GridSearchCV(cv=5,\n",
              "             estimator=BaggingRegressor(base_estimator=KNeighborsRegressor(),\n",
              "                                        max_features=0.5, max_samples=0.5),\n",
              "             param_grid={&#x27;base_estimator__n_neighbors&#x27;: [5, 10],\n",
              "                         &#x27;n_estimators&#x27;: [10, 20]},\n",
              "             refit=&#x27;neg_mean_squared_error&#x27;,\n",
              "             scoring=[&#x27;neg_mean_squared_error&#x27;, &#x27;explained_variance&#x27;, &#x27;r2&#x27;],\n",
              "             verbose=1)</pre><b>In a Jupyter environment, please rerun this cell to show the HTML representation or trust the notebook. <br />On GitHub, the HTML representation is unable to render, please try loading this page with nbviewer.org.</b></div><div class=\"sk-container\" hidden><div class=\"sk-item sk-dashed-wrapped\"><div class=\"sk-label-container\"><div class=\"sk-label sk-toggleable\"><input class=\"sk-toggleable__control sk-hidden--visually\" id=\"sk-estimator-id-6\" type=\"checkbox\" ><label for=\"sk-estimator-id-6\" class=\"sk-toggleable__label sk-toggleable__label-arrow\">GridSearchCV</label><div class=\"sk-toggleable__content\"><pre>GridSearchCV(cv=5,\n",
              "             estimator=BaggingRegressor(base_estimator=KNeighborsRegressor(),\n",
              "                                        max_features=0.5, max_samples=0.5),\n",
              "             param_grid={&#x27;base_estimator__n_neighbors&#x27;: [5, 10],\n",
              "                         &#x27;n_estimators&#x27;: [10, 20]},\n",
              "             refit=&#x27;neg_mean_squared_error&#x27;,\n",
              "             scoring=[&#x27;neg_mean_squared_error&#x27;, &#x27;explained_variance&#x27;, &#x27;r2&#x27;],\n",
              "             verbose=1)</pre></div></div></div><div class=\"sk-parallel\"><div class=\"sk-parallel-item\"><div class=\"sk-item\"><div class=\"sk-label-container\"><div class=\"sk-label sk-toggleable\"><input class=\"sk-toggleable__control sk-hidden--visually\" id=\"sk-estimator-id-7\" type=\"checkbox\" ><label for=\"sk-estimator-id-7\" class=\"sk-toggleable__label sk-toggleable__label-arrow\">estimator: BaggingRegressor</label><div class=\"sk-toggleable__content\"><pre>BaggingRegressor(base_estimator=KNeighborsRegressor(), max_features=0.5,\n",
              "                 max_samples=0.5)</pre></div></div></div><div class=\"sk-serial\"><div class=\"sk-item sk-dashed-wrapped\"><div class=\"sk-parallel\"><div class=\"sk-parallel-item\"><div class=\"sk-item\"><div class=\"sk-label-container\"><div class=\"sk-label sk-toggleable\"><input class=\"sk-toggleable__control sk-hidden--visually\" id=\"sk-estimator-id-8\" type=\"checkbox\" ><label for=\"sk-estimator-id-8\" class=\"sk-toggleable__label sk-toggleable__label-arrow\">base_estimator: KNeighborsRegressor</label><div class=\"sk-toggleable__content\"><pre>KNeighborsRegressor()</pre></div></div></div><div class=\"sk-serial\"><div class=\"sk-item\"><div class=\"sk-estimator sk-toggleable\"><input class=\"sk-toggleable__control sk-hidden--visually\" id=\"sk-estimator-id-9\" type=\"checkbox\" ><label for=\"sk-estimator-id-9\" class=\"sk-toggleable__label sk-toggleable__label-arrow\">KNeighborsRegressor</label><div class=\"sk-toggleable__content\"><pre>KNeighborsRegressor()</pre></div></div></div></div></div></div></div></div></div></div></div></div></div></div></div>"
            ]
          },
          "metadata": {},
          "execution_count": 47
        }
      ]
    },
    {
      "cell_type": "code",
      "source": [
        "y_hat=grid_solver_knn.predict(X_test)\n",
        "print(\"MSE KNN:\", mean_squared_error(y_test,y_hat))\n",
        "print(\"r2 score KNN:\", r2_score(y_test,y_hat))\n",
        "y_hat=grid_solver_knn.predict(X_train)\n",
        "print(\"MSE KNN:\", mean_squared_error(y_train,y_hat))\n",
        "print(\"r2 score KNN:\", r2_score(y_train,y_hat))"
      ],
      "metadata": {
        "colab": {
          "base_uri": "https://localhost:8080/"
        },
        "id": "tZ2BAg_g_zr3",
        "outputId": "5b25e8b6-4422-4ba9-8190-53650562ee4b"
      },
      "execution_count": 48,
      "outputs": [
        {
          "output_type": "stream",
          "name": "stdout",
          "text": [
            "MSE KNN: 1.1031673080208335\n",
            "r2 score KNN: 0.7325049319164019\n",
            "MSE KNN: 0.6827837990175438\n",
            "r2 score KNN: 0.8370872178879386\n"
          ]
        }
      ]
    },
    {
      "cell_type": "markdown",
      "source": [
        "## Bagged Tree"
      ],
      "metadata": {
        "id": "uYisEmWFAoag"
      }
    },
    {
      "cell_type": "code",
      "source": [
        "from sklearn.tree import DecisionTreeRegressor\n",
        "bagging_trees = BaggingRegressor (DecisionTreeRegressor(), n_estimators=100, max_samples=0.5, max_features=0.5)\n",
        "bagging_trees.get_params()"
      ],
      "metadata": {
        "colab": {
          "base_uri": "https://localhost:8080/"
        },
        "id": "m0p5Mm4HBCqO",
        "outputId": "690477b7-7761-40cc-ed33-5147b503da3e"
      },
      "execution_count": 53,
      "outputs": [
        {
          "output_type": "execute_result",
          "data": {
            "text/plain": [
              "{'base_estimator': 'deprecated',\n",
              " 'bootstrap': True,\n",
              " 'bootstrap_features': False,\n",
              " 'estimator__ccp_alpha': 0.0,\n",
              " 'estimator__criterion': 'squared_error',\n",
              " 'estimator__max_depth': None,\n",
              " 'estimator__max_features': None,\n",
              " 'estimator__max_leaf_nodes': None,\n",
              " 'estimator__min_impurity_decrease': 0.0,\n",
              " 'estimator__min_samples_leaf': 1,\n",
              " 'estimator__min_samples_split': 2,\n",
              " 'estimator__min_weight_fraction_leaf': 0.0,\n",
              " 'estimator__random_state': None,\n",
              " 'estimator__splitter': 'best',\n",
              " 'estimator': DecisionTreeRegressor(),\n",
              " 'max_features': 0.5,\n",
              " 'max_samples': 0.5,\n",
              " 'n_estimators': 100,\n",
              " 'n_jobs': None,\n",
              " 'oob_score': False,\n",
              " 'random_state': None,\n",
              " 'verbose': 0,\n",
              " 'warm_start': False}"
            ]
          },
          "metadata": {},
          "execution_count": 53
        }
      ]
    },
    {
      "cell_type": "code",
      "source": [
        "params={ 'estimator__max_depth': [5],\n",
        "        'estimator__max_features': [0.3,0.5],\n",
        " 'n_estimators': [20]}\n",
        "scoring = ['neg_mean_squared_error', 'explained_variance', 'r2']\n",
        "\n",
        "# creamos la GridSeacrh\n",
        "grid_solver_trees = GridSearchCV(estimator = bagging_trees, # model to train\n",
        "                   param_grid = params, # param_grid\n",
        "                   scoring = scoring,\n",
        "                   cv = 5,\n",
        "                   refit = 'neg_mean_squared_error',\n",
        "                   verbose = 1)\n",
        "grid_solver_trees.fit(X_train, y_train)"
      ],
      "metadata": {
        "colab": {
          "base_uri": "https://localhost:8080/",
          "height": 176
        },
        "id": "RrZZa_ciB_IA",
        "outputId": "745c6a71-7800-4245-ec59-36953e45a9cc"
      },
      "execution_count": 54,
      "outputs": [
        {
          "output_type": "stream",
          "name": "stdout",
          "text": [
            "Fitting 5 folds for each of 2 candidates, totalling 10 fits\n"
          ]
        },
        {
          "output_type": "execute_result",
          "data": {
            "text/plain": [
              "GridSearchCV(cv=5,\n",
              "             estimator=BaggingRegressor(estimator=DecisionTreeRegressor(),\n",
              "                                        max_features=0.5, max_samples=0.5,\n",
              "                                        n_estimators=100),\n",
              "             param_grid={'estimator__max_depth': [5],\n",
              "                         'estimator__max_features': [0.3, 0.5],\n",
              "                         'n_estimators': [20]},\n",
              "             refit='neg_mean_squared_error',\n",
              "             scoring=['neg_mean_squared_error', 'explained_variance', 'r2'],\n",
              "             verbose=1)"
            ],
            "text/html": [
              "<style>#sk-container-id-6 {color: black;background-color: white;}#sk-container-id-6 pre{padding: 0;}#sk-container-id-6 div.sk-toggleable {background-color: white;}#sk-container-id-6 label.sk-toggleable__label {cursor: pointer;display: block;width: 100%;margin-bottom: 0;padding: 0.3em;box-sizing: border-box;text-align: center;}#sk-container-id-6 label.sk-toggleable__label-arrow:before {content: \"▸\";float: left;margin-right: 0.25em;color: #696969;}#sk-container-id-6 label.sk-toggleable__label-arrow:hover:before {color: black;}#sk-container-id-6 div.sk-estimator:hover label.sk-toggleable__label-arrow:before {color: black;}#sk-container-id-6 div.sk-toggleable__content {max-height: 0;max-width: 0;overflow: hidden;text-align: left;background-color: #f0f8ff;}#sk-container-id-6 div.sk-toggleable__content pre {margin: 0.2em;color: black;border-radius: 0.25em;background-color: #f0f8ff;}#sk-container-id-6 input.sk-toggleable__control:checked~div.sk-toggleable__content {max-height: 200px;max-width: 100%;overflow: auto;}#sk-container-id-6 input.sk-toggleable__control:checked~label.sk-toggleable__label-arrow:before {content: \"▾\";}#sk-container-id-6 div.sk-estimator input.sk-toggleable__control:checked~label.sk-toggleable__label {background-color: #d4ebff;}#sk-container-id-6 div.sk-label input.sk-toggleable__control:checked~label.sk-toggleable__label {background-color: #d4ebff;}#sk-container-id-6 input.sk-hidden--visually {border: 0;clip: rect(1px 1px 1px 1px);clip: rect(1px, 1px, 1px, 1px);height: 1px;margin: -1px;overflow: hidden;padding: 0;position: absolute;width: 1px;}#sk-container-id-6 div.sk-estimator {font-family: monospace;background-color: #f0f8ff;border: 1px dotted black;border-radius: 0.25em;box-sizing: border-box;margin-bottom: 0.5em;}#sk-container-id-6 div.sk-estimator:hover {background-color: #d4ebff;}#sk-container-id-6 div.sk-parallel-item::after {content: \"\";width: 100%;border-bottom: 1px solid gray;flex-grow: 1;}#sk-container-id-6 div.sk-label:hover label.sk-toggleable__label {background-color: #d4ebff;}#sk-container-id-6 div.sk-serial::before {content: \"\";position: absolute;border-left: 1px solid gray;box-sizing: border-box;top: 0;bottom: 0;left: 50%;z-index: 0;}#sk-container-id-6 div.sk-serial {display: flex;flex-direction: column;align-items: center;background-color: white;padding-right: 0.2em;padding-left: 0.2em;position: relative;}#sk-container-id-6 div.sk-item {position: relative;z-index: 1;}#sk-container-id-6 div.sk-parallel {display: flex;align-items: stretch;justify-content: center;background-color: white;position: relative;}#sk-container-id-6 div.sk-item::before, #sk-container-id-6 div.sk-parallel-item::before {content: \"\";position: absolute;border-left: 1px solid gray;box-sizing: border-box;top: 0;bottom: 0;left: 50%;z-index: -1;}#sk-container-id-6 div.sk-parallel-item {display: flex;flex-direction: column;z-index: 1;position: relative;background-color: white;}#sk-container-id-6 div.sk-parallel-item:first-child::after {align-self: flex-end;width: 50%;}#sk-container-id-6 div.sk-parallel-item:last-child::after {align-self: flex-start;width: 50%;}#sk-container-id-6 div.sk-parallel-item:only-child::after {width: 0;}#sk-container-id-6 div.sk-dashed-wrapped {border: 1px dashed gray;margin: 0 0.4em 0.5em 0.4em;box-sizing: border-box;padding-bottom: 0.4em;background-color: white;}#sk-container-id-6 div.sk-label label {font-family: monospace;font-weight: bold;display: inline-block;line-height: 1.2em;}#sk-container-id-6 div.sk-label-container {text-align: center;}#sk-container-id-6 div.sk-container {/* jupyter's `normalize.less` sets `[hidden] { display: none; }` but bootstrap.min.css set `[hidden] { display: none !important; }` so we also need the `!important` here to be able to override the default hidden behavior on the sphinx rendered scikit-learn.org. See: https://github.com/scikit-learn/scikit-learn/issues/21755 */display: inline-block !important;position: relative;}#sk-container-id-6 div.sk-text-repr-fallback {display: none;}</style><div id=\"sk-container-id-6\" class=\"sk-top-container\"><div class=\"sk-text-repr-fallback\"><pre>GridSearchCV(cv=5,\n",
              "             estimator=BaggingRegressor(estimator=DecisionTreeRegressor(),\n",
              "                                        max_features=0.5, max_samples=0.5,\n",
              "                                        n_estimators=100),\n",
              "             param_grid={&#x27;estimator__max_depth&#x27;: [5],\n",
              "                         &#x27;estimator__max_features&#x27;: [0.3, 0.5],\n",
              "                         &#x27;n_estimators&#x27;: [20]},\n",
              "             refit=&#x27;neg_mean_squared_error&#x27;,\n",
              "             scoring=[&#x27;neg_mean_squared_error&#x27;, &#x27;explained_variance&#x27;, &#x27;r2&#x27;],\n",
              "             verbose=1)</pre><b>In a Jupyter environment, please rerun this cell to show the HTML representation or trust the notebook. <br />On GitHub, the HTML representation is unable to render, please try loading this page with nbviewer.org.</b></div><div class=\"sk-container\" hidden><div class=\"sk-item sk-dashed-wrapped\"><div class=\"sk-label-container\"><div class=\"sk-label sk-toggleable\"><input class=\"sk-toggleable__control sk-hidden--visually\" id=\"sk-estimator-id-14\" type=\"checkbox\" ><label for=\"sk-estimator-id-14\" class=\"sk-toggleable__label sk-toggleable__label-arrow\">GridSearchCV</label><div class=\"sk-toggleable__content\"><pre>GridSearchCV(cv=5,\n",
              "             estimator=BaggingRegressor(estimator=DecisionTreeRegressor(),\n",
              "                                        max_features=0.5, max_samples=0.5,\n",
              "                                        n_estimators=100),\n",
              "             param_grid={&#x27;estimator__max_depth&#x27;: [5],\n",
              "                         &#x27;estimator__max_features&#x27;: [0.3, 0.5],\n",
              "                         &#x27;n_estimators&#x27;: [20]},\n",
              "             refit=&#x27;neg_mean_squared_error&#x27;,\n",
              "             scoring=[&#x27;neg_mean_squared_error&#x27;, &#x27;explained_variance&#x27;, &#x27;r2&#x27;],\n",
              "             verbose=1)</pre></div></div></div><div class=\"sk-parallel\"><div class=\"sk-parallel-item\"><div class=\"sk-item\"><div class=\"sk-label-container\"><div class=\"sk-label sk-toggleable\"><input class=\"sk-toggleable__control sk-hidden--visually\" id=\"sk-estimator-id-15\" type=\"checkbox\" ><label for=\"sk-estimator-id-15\" class=\"sk-toggleable__label sk-toggleable__label-arrow\">estimator: BaggingRegressor</label><div class=\"sk-toggleable__content\"><pre>BaggingRegressor(estimator=DecisionTreeRegressor(), max_features=0.5,\n",
              "                 max_samples=0.5, n_estimators=100)</pre></div></div></div><div class=\"sk-serial\"><div class=\"sk-item sk-dashed-wrapped\"><div class=\"sk-parallel\"><div class=\"sk-parallel-item\"><div class=\"sk-item\"><div class=\"sk-label-container\"><div class=\"sk-label sk-toggleable\"><input class=\"sk-toggleable__control sk-hidden--visually\" id=\"sk-estimator-id-16\" type=\"checkbox\" ><label for=\"sk-estimator-id-16\" class=\"sk-toggleable__label sk-toggleable__label-arrow\">estimator: DecisionTreeRegressor</label><div class=\"sk-toggleable__content\"><pre>DecisionTreeRegressor()</pre></div></div></div><div class=\"sk-serial\"><div class=\"sk-item\"><div class=\"sk-estimator sk-toggleable\"><input class=\"sk-toggleable__control sk-hidden--visually\" id=\"sk-estimator-id-17\" type=\"checkbox\" ><label for=\"sk-estimator-id-17\" class=\"sk-toggleable__label sk-toggleable__label-arrow\">DecisionTreeRegressor</label><div class=\"sk-toggleable__content\"><pre>DecisionTreeRegressor()</pre></div></div></div></div></div></div></div></div></div></div></div></div></div></div></div>"
            ]
          },
          "metadata": {},
          "execution_count": 54
        }
      ]
    },
    {
      "cell_type": "code",
      "source": [
        "y_hat=grid_solver_trees.predict(X_train)\n",
        "print(\"MSE Bagged Trees:\", mean_squared_error(y_train,y_hat))\n",
        "print(\"r2 score Bagged Trees:\", r2_score(y_train,y_hat))\n",
        "y_hat=grid_solver_trees.predict(X_test)\n",
        "print(\"MSE Bagged Trees:\", mean_squared_error(y_test,y_hat))\n",
        "print(\"r2 score Bagged Trees:\", r2_score(y_test,y_hat))"
      ],
      "metadata": {
        "colab": {
          "base_uri": "https://localhost:8080/"
        },
        "id": "KBHVWAqvCxU5",
        "outputId": "4f02753b-998e-44ed-e27c-50712c8b25c2"
      },
      "execution_count": 55,
      "outputs": [
        {
          "output_type": "stream",
          "name": "stdout",
          "text": [
            "MSE Bagged Trees: 0.5113160058000132\n",
            "r2 score Bagged Trees: 0.877999575907971\n",
            "MSE Bagged Trees: 0.8626491480774684\n",
            "r2 score Bagged Trees: 0.7908255702290241\n"
          ]
        }
      ]
    },
    {
      "cell_type": "markdown",
      "source": [
        "##Random forest"
      ],
      "metadata": {
        "id": "-a3S7j2XGs2D"
      }
    },
    {
      "cell_type": "code",
      "source": [
        "RandomForestRegressor().get_params()"
      ],
      "metadata": {
        "colab": {
          "base_uri": "https://localhost:8080/"
        },
        "id": "oK7kRS0lGytl",
        "outputId": "25ce3502-ebc5-4a04-e35b-0395419d9125"
      },
      "execution_count": 56,
      "outputs": [
        {
          "output_type": "execute_result",
          "data": {
            "text/plain": [
              "{'bootstrap': True,\n",
              " 'ccp_alpha': 0.0,\n",
              " 'criterion': 'squared_error',\n",
              " 'max_depth': None,\n",
              " 'max_features': 1.0,\n",
              " 'max_leaf_nodes': None,\n",
              " 'max_samples': None,\n",
              " 'min_impurity_decrease': 0.0,\n",
              " 'min_samples_leaf': 1,\n",
              " 'min_samples_split': 2,\n",
              " 'min_weight_fraction_leaf': 0.0,\n",
              " 'n_estimators': 100,\n",
              " 'n_jobs': None,\n",
              " 'oob_score': False,\n",
              " 'random_state': None,\n",
              " 'verbose': 0,\n",
              " 'warm_start': False}"
            ]
          },
          "metadata": {},
          "execution_count": 56
        }
      ]
    },
    {
      "cell_type": "code",
      "source": [
        "n_cv=3\n",
        "model = RandomForestRegressor()\n",
        "params={'criterion':['squared_error'],\n",
        "        'max_depth': [5,7],# Maxima pofundidad del arbol\n",
        "        'max_features': [0.3, 0.7], # numero de features a considerar en cada split\n",
        "        'max_samples' : [0.8,0.5],\n",
        "        'max_leaf_nodes': [10,30], # maximo de nodos del arbol\n",
        "        'min_impurity_decrease' : [0.05], # un nuevo nodo se harà si al hacerse se decrece la impurity en un threshold por encima del valor\n",
        "        'min_samples_split': [5,10], # The minimum number of samples required to split an internal node:\n",
        "        'n_estimators': [100] # numero de arboles\n",
        "        }\n",
        "# scoring: lista de metricas a obtener\n",
        "scoring = ['neg_mean_squared_error', 'explained_variance', 'r2']\n",
        "\n",
        "\n",
        "# creamos la GridSeacrh\n",
        "grid_solver = GridSearchCV(estimator = model, # model to train\n",
        "                           param_grid = params, # param_grid\n",
        "                           scoring = scoring,\n",
        "                           cv = n_cv,\n",
        "                           refit = 'neg_mean_squared_error',\n",
        "                           verbose = 1) # cuanto va a imprimir por pantalla\n",
        "# entrenamos\n",
        "model_result = grid_solver.fit(X,y)\n",
        "model_result.best_estimator_"
      ],
      "metadata": {
        "colab": {
          "base_uri": "https://localhost:8080/",
          "height": 127
        },
        "id": "d3cO31UfGu9k",
        "outputId": "b13db85d-dc89-4646-e6a4-39171794eb25"
      },
      "execution_count": 57,
      "outputs": [
        {
          "output_type": "stream",
          "name": "stdout",
          "text": [
            "Fitting 3 folds for each of 32 candidates, totalling 96 fits\n"
          ]
        },
        {
          "output_type": "execute_result",
          "data": {
            "text/plain": [
              "RandomForestRegressor(max_depth=7, max_features=0.7, max_leaf_nodes=30,\n",
              "                      max_samples=0.5, min_impurity_decrease=0.05,\n",
              "                      min_samples_split=5)"
            ],
            "text/html": [
              "<style>#sk-container-id-7 {color: black;background-color: white;}#sk-container-id-7 pre{padding: 0;}#sk-container-id-7 div.sk-toggleable {background-color: white;}#sk-container-id-7 label.sk-toggleable__label {cursor: pointer;display: block;width: 100%;margin-bottom: 0;padding: 0.3em;box-sizing: border-box;text-align: center;}#sk-container-id-7 label.sk-toggleable__label-arrow:before {content: \"▸\";float: left;margin-right: 0.25em;color: #696969;}#sk-container-id-7 label.sk-toggleable__label-arrow:hover:before {color: black;}#sk-container-id-7 div.sk-estimator:hover label.sk-toggleable__label-arrow:before {color: black;}#sk-container-id-7 div.sk-toggleable__content {max-height: 0;max-width: 0;overflow: hidden;text-align: left;background-color: #f0f8ff;}#sk-container-id-7 div.sk-toggleable__content pre {margin: 0.2em;color: black;border-radius: 0.25em;background-color: #f0f8ff;}#sk-container-id-7 input.sk-toggleable__control:checked~div.sk-toggleable__content {max-height: 200px;max-width: 100%;overflow: auto;}#sk-container-id-7 input.sk-toggleable__control:checked~label.sk-toggleable__label-arrow:before {content: \"▾\";}#sk-container-id-7 div.sk-estimator input.sk-toggleable__control:checked~label.sk-toggleable__label {background-color: #d4ebff;}#sk-container-id-7 div.sk-label input.sk-toggleable__control:checked~label.sk-toggleable__label {background-color: #d4ebff;}#sk-container-id-7 input.sk-hidden--visually {border: 0;clip: rect(1px 1px 1px 1px);clip: rect(1px, 1px, 1px, 1px);height: 1px;margin: -1px;overflow: hidden;padding: 0;position: absolute;width: 1px;}#sk-container-id-7 div.sk-estimator {font-family: monospace;background-color: #f0f8ff;border: 1px dotted black;border-radius: 0.25em;box-sizing: border-box;margin-bottom: 0.5em;}#sk-container-id-7 div.sk-estimator:hover {background-color: #d4ebff;}#sk-container-id-7 div.sk-parallel-item::after {content: \"\";width: 100%;border-bottom: 1px solid gray;flex-grow: 1;}#sk-container-id-7 div.sk-label:hover label.sk-toggleable__label {background-color: #d4ebff;}#sk-container-id-7 div.sk-serial::before {content: \"\";position: absolute;border-left: 1px solid gray;box-sizing: border-box;top: 0;bottom: 0;left: 50%;z-index: 0;}#sk-container-id-7 div.sk-serial {display: flex;flex-direction: column;align-items: center;background-color: white;padding-right: 0.2em;padding-left: 0.2em;position: relative;}#sk-container-id-7 div.sk-item {position: relative;z-index: 1;}#sk-container-id-7 div.sk-parallel {display: flex;align-items: stretch;justify-content: center;background-color: white;position: relative;}#sk-container-id-7 div.sk-item::before, #sk-container-id-7 div.sk-parallel-item::before {content: \"\";position: absolute;border-left: 1px solid gray;box-sizing: border-box;top: 0;bottom: 0;left: 50%;z-index: -1;}#sk-container-id-7 div.sk-parallel-item {display: flex;flex-direction: column;z-index: 1;position: relative;background-color: white;}#sk-container-id-7 div.sk-parallel-item:first-child::after {align-self: flex-end;width: 50%;}#sk-container-id-7 div.sk-parallel-item:last-child::after {align-self: flex-start;width: 50%;}#sk-container-id-7 div.sk-parallel-item:only-child::after {width: 0;}#sk-container-id-7 div.sk-dashed-wrapped {border: 1px dashed gray;margin: 0 0.4em 0.5em 0.4em;box-sizing: border-box;padding-bottom: 0.4em;background-color: white;}#sk-container-id-7 div.sk-label label {font-family: monospace;font-weight: bold;display: inline-block;line-height: 1.2em;}#sk-container-id-7 div.sk-label-container {text-align: center;}#sk-container-id-7 div.sk-container {/* jupyter's `normalize.less` sets `[hidden] { display: none; }` but bootstrap.min.css set `[hidden] { display: none !important; }` so we also need the `!important` here to be able to override the default hidden behavior on the sphinx rendered scikit-learn.org. See: https://github.com/scikit-learn/scikit-learn/issues/21755 */display: inline-block !important;position: relative;}#sk-container-id-7 div.sk-text-repr-fallback {display: none;}</style><div id=\"sk-container-id-7\" class=\"sk-top-container\"><div class=\"sk-text-repr-fallback\"><pre>RandomForestRegressor(max_depth=7, max_features=0.7, max_leaf_nodes=30,\n",
              "                      max_samples=0.5, min_impurity_decrease=0.05,\n",
              "                      min_samples_split=5)</pre><b>In a Jupyter environment, please rerun this cell to show the HTML representation or trust the notebook. <br />On GitHub, the HTML representation is unable to render, please try loading this page with nbviewer.org.</b></div><div class=\"sk-container\" hidden><div class=\"sk-item\"><div class=\"sk-estimator sk-toggleable\"><input class=\"sk-toggleable__control sk-hidden--visually\" id=\"sk-estimator-id-18\" type=\"checkbox\" checked><label for=\"sk-estimator-id-18\" class=\"sk-toggleable__label sk-toggleable__label-arrow\">RandomForestRegressor</label><div class=\"sk-toggleable__content\"><pre>RandomForestRegressor(max_depth=7, max_features=0.7, max_leaf_nodes=30,\n",
              "                      max_samples=0.5, min_impurity_decrease=0.05,\n",
              "                      min_samples_split=5)</pre></div></div></div></div></div>"
            ]
          },
          "metadata": {},
          "execution_count": 57
        }
      ]
    },
    {
      "cell_type": "markdown",
      "source": [
        "#4. Boosting"
      ],
      "metadata": {
        "id": "lGzrsPH1Zp7f"
      }
    },
    {
      "cell_type": "code",
      "source": [],
      "metadata": {
        "id": "g7BnUB-gZwm0"
      },
      "execution_count": null,
      "outputs": []
    },
    {
      "cell_type": "code",
      "execution_count": null,
      "metadata": {
        "id": "7cdFcMvDMMPG"
      },
      "outputs": [],
      "source": [
        "import pandas as pd\n",
        "import numpy as np\n",
        "from sklearn import datasets\n",
        "import matplotlib.pyplot as plt\n",
        "from sklearn.metrics import accuracy_score\n",
        "from sklearn.metrics import mean_squared_error, r2_score\n",
        "from sklearn.model_selection import train_test_split\n",
        "from sklearn.ensemble import AdaBoostClassifier\n",
        "from sklearn.ensemble import RandomForestClassifier\n",
        "from sklearn.ensemble import GradientBoostingClassifier\n",
        "from sklearn.model_selection import GridSearchCV\n"
      ]
    },
    {
      "cell_type": "code",
      "source": [
        "iris = datasets.load_iris()\n",
        "X = iris.data\n",
        "y = iris.target\n",
        "X_train, X_test, y_train, y_test = train_test_split( X, y, test_size=0.3)\n",
        "print ('Train set:', X_train.shape,  y_train.shape)\n",
        "print ('Test set:', X_test.shape,  y_test.shape)"
      ],
      "metadata": {
        "colab": {
          "base_uri": "https://localhost:8080/"
        },
        "id": "ASd_2G-yMt-2",
        "outputId": "a0279659-53a1-4dea-8575-7537679c2d30"
      },
      "execution_count": null,
      "outputs": [
        {
          "output_type": "stream",
          "name": "stdout",
          "text": [
            "Train set: (105, 4) (105,)\n",
            "Test set: (45, 4) (45,)\n"
          ]
        }
      ]
    },
    {
      "cell_type": "markdown",
      "source": [
        "##Adaboost"
      ],
      "metadata": {
        "id": "lOZ9v2oaZ11-"
      }
    },
    {
      "cell_type": "code",
      "source": [
        "clf = AdaBoostClassifier(n_estimators=10, learning_rate=0.1)\n",
        "\n",
        "clf.fit(X_train, y_train)\n",
        "yhat=clf.predict(X_test)\n",
        "print(\"accuracy\", accuracy_score(y_test, yhat))"
      ],
      "metadata": {
        "colab": {
          "base_uri": "https://localhost:8080/"
        },
        "id": "x8auuUnUNI8N",
        "outputId": "83d6fc31-8563-4f4f-eea3-3b96df0938b5"
      },
      "execution_count": null,
      "outputs": [
        {
          "output_type": "stream",
          "name": "stdout",
          "text": [
            "accuracy 0.9111111111111111\n"
          ]
        }
      ]
    },
    {
      "cell_type": "code",
      "source": [
        "clf.get_params()"
      ],
      "metadata": {
        "colab": {
          "base_uri": "https://localhost:8080/"
        },
        "id": "aWaTjjT2N5RM",
        "outputId": "b8614c54-1389-4323-e355-f326f2948ff2"
      },
      "execution_count": null,
      "outputs": [
        {
          "output_type": "execute_result",
          "data": {
            "text/plain": [
              "{'algorithm': 'SAMME.R',\n",
              " 'base_estimator': 'deprecated',\n",
              " 'estimator': None,\n",
              " 'learning_rate': 0.1,\n",
              " 'n_estimators': 10,\n",
              " 'random_state': None}"
            ]
          },
          "metadata": {},
          "execution_count": 4
        }
      ]
    },
    {
      "cell_type": "markdown",
      "source": [
        "##Gradient Boosting (GB)"
      ],
      "metadata": {
        "id": "Fcl8Xp1xOYl8"
      }
    },
    {
      "cell_type": "code",
      "source": [
        "clf2 = GradientBoostingClassifier(learning_rate=0.05,\n",
        "                                  n_estimators=100,\n",
        "                                  tol=0.0001, #parametros propios del boosting, a partir de aquí del arbol\n",
        "                                  min_samples_split=2,\n",
        "                                  min_samples_leaf=1,\n",
        "                                  min_weight_fraction_leaf=0.0,\n",
        "                                  max_depth=3,\n",
        "                                  random_state=None,\n",
        "                                  max_features=None)\n",
        "clf2.fit(X_train, y_train)\n",
        "yhat2 = clf2.predict(X_test)\n",
        "print(\"Accuracy: \", accuracy_score(y_test,yhat2))"
      ],
      "metadata": {
        "colab": {
          "base_uri": "https://localhost:8080/"
        },
        "id": "rQYDo_sfOOrG",
        "outputId": "9d0b44a1-b2ac-4491-cbf0-83439b2246a2"
      },
      "execution_count": null,
      "outputs": [
        {
          "output_type": "stream",
          "name": "stdout",
          "text": [
            "Accuracy:  0.9555555555555556\n"
          ]
        }
      ]
    },
    {
      "cell_type": "markdown",
      "source": [
        "##XGB"
      ],
      "metadata": {
        "id": "0YKuv3urPw14"
      }
    },
    {
      "cell_type": "code",
      "source": [
        "X = pd.read_csv(\"solubility_train.csv\")\n",
        "y = X['Solubility']\n",
        "X = X.drop(columns=['Unnamed: 0','Solubility'])\n",
        "X_train, X_test, y_train, y_test = train_test_split(X, y, test_size=0.1)"
      ],
      "metadata": {
        "id": "W9AqvalaPy0m"
      },
      "execution_count": null,
      "outputs": []
    },
    {
      "cell_type": "code",
      "source": [
        "import xgboost as xgb\n",
        "from xgboost import XGBRegressor\n",
        "\n",
        "xgbmodel = XGBRegressor()\n",
        "xgbmodel.get_params()"
      ],
      "metadata": {
        "colab": {
          "base_uri": "https://localhost:8080/"
        },
        "id": "xsbYxFrBOYQd",
        "outputId": "828c8208-6e57-4984-c50b-593eceb10ba0"
      },
      "execution_count": null,
      "outputs": [
        {
          "output_type": "execute_result",
          "data": {
            "text/plain": [
              "{'objective': 'reg:squarederror',\n",
              " 'base_score': None,\n",
              " 'booster': None,\n",
              " 'callbacks': None,\n",
              " 'colsample_bylevel': None,\n",
              " 'colsample_bynode': None,\n",
              " 'colsample_bytree': None,\n",
              " 'device': None,\n",
              " 'early_stopping_rounds': None,\n",
              " 'enable_categorical': False,\n",
              " 'eval_metric': None,\n",
              " 'feature_types': None,\n",
              " 'gamma': None,\n",
              " 'grow_policy': None,\n",
              " 'importance_type': None,\n",
              " 'interaction_constraints': None,\n",
              " 'learning_rate': None,\n",
              " 'max_bin': None,\n",
              " 'max_cat_threshold': None,\n",
              " 'max_cat_to_onehot': None,\n",
              " 'max_delta_step': None,\n",
              " 'max_depth': None,\n",
              " 'max_leaves': None,\n",
              " 'min_child_weight': None,\n",
              " 'missing': nan,\n",
              " 'monotone_constraints': None,\n",
              " 'multi_strategy': None,\n",
              " 'n_estimators': None,\n",
              " 'n_jobs': None,\n",
              " 'num_parallel_tree': None,\n",
              " 'random_state': None,\n",
              " 'reg_alpha': None,\n",
              " 'reg_lambda': None,\n",
              " 'sampling_method': None,\n",
              " 'scale_pos_weight': None,\n",
              " 'subsample': None,\n",
              " 'tree_method': None,\n",
              " 'validate_parameters': None,\n",
              " 'verbosity': None}"
            ]
          },
          "metadata": {},
          "execution_count": 8
        }
      ]
    },
    {
      "cell_type": "code",
      "source": [
        "params={'base_score': [0.5], # prediccion inicial\n",
        "     'booster': ['gbtree'], # (gbtree, gblinear, dart)\n",
        "     'colsample_bylevel': [1], # ratio de columnas en cada nivel\n",
        "     'colsample_bytree': [0.7], # ratio de columnas por tree\n",
        "     'gamma': [0.01],    # minimo \"loss\" reduccion para crear un nuevo split. Larger-> conservative\n",
        "     'learning_rate': [0.1], # (eta) aportacion de cada arbol al modelo\n",
        "     'max_depth': [3], # maxima profundidad en cada arbol\n",
        "     'min_child_weight': [1], # minimo numero samples por hoja\n",
        "    #'missing': [1], # si queremos reemplazar los missings por un numero\n",
        "     'n_estimators': [100,150,200,250,300,350,400], # numero de arboles\n",
        "     'n_jobs': [-1], # trabajos en paralelo\n",
        "     'random_state': [0], # seed para generar los folds\n",
        "     'reg_alpha': [0.1], # L1 regularitacion\n",
        "     'reg_lambda': [0.01,0.1], # L2 regularitacion\n",
        "     'scale_pos_weight': [1],\n",
        "     'subsample': [0.9]} # ratio de muestras por cada arbol"
      ],
      "metadata": {
        "id": "tu8Cl3QRS-CP"
      },
      "execution_count": null,
      "outputs": []
    },
    {
      "cell_type": "code",
      "source": [
        "scoring = ['neg_mean_squared_error', 'explained_variance', 'r2']\n",
        "grid_solver = GridSearchCV(estimator = xgbmodel, # model to train\n",
        "                   param_grid = params,\n",
        "                   scoring = scoring,\n",
        "                   cv = 5,\n",
        "                   n_jobs=-1,\n",
        "                   refit='neg_mean_squared_error',\n",
        "                   verbose = 2)\n"
      ],
      "metadata": {
        "id": "CzRbhQ1cS_Xt"
      },
      "execution_count": null,
      "outputs": []
    },
    {
      "cell_type": "code",
      "source": [
        "model_result_xgboost = grid_solver.fit(X_train,y_train)\n",
        "model_result_xgboost.best_params_\n",
        "\n"
      ],
      "metadata": {
        "colab": {
          "base_uri": "https://localhost:8080/"
        },
        "id": "YlI5MXLtTq0t",
        "outputId": "229fb5b4-20d5-435a-ef3c-1e2de1642183"
      },
      "execution_count": null,
      "outputs": [
        {
          "output_type": "stream",
          "name": "stdout",
          "text": [
            "Fitting 5 folds for each of 14 candidates, totalling 70 fits\n"
          ]
        },
        {
          "output_type": "execute_result",
          "data": {
            "text/plain": [
              "{'base_score': 0.5,\n",
              " 'booster': 'gbtree',\n",
              " 'colsample_bylevel': 1,\n",
              " 'colsample_bytree': 0.7,\n",
              " 'gamma': 0.01,\n",
              " 'learning_rate': 0.1,\n",
              " 'max_depth': 3,\n",
              " 'min_child_weight': 1,\n",
              " 'n_estimators': 400,\n",
              " 'n_jobs': -1,\n",
              " 'random_state': 0,\n",
              " 'reg_alpha': 0.1,\n",
              " 'reg_lambda': 0.1,\n",
              " 'scale_pos_weight': 1,\n",
              " 'subsample': 0.9}"
            ]
          },
          "metadata": {},
          "execution_count": 12
        }
      ]
    },
    {
      "cell_type": "code",
      "source": [
        "y_pred=model_result_xgboost.predict(X_train)\n",
        "print(\"MSE train:\", mean_squared_error(y_train,y_pred))\n",
        "y_pred=model_result_xgboost.predict(X_test)\n",
        "print(\"MSE test:\", mean_squared_error(y_test,y_pred))\n"
      ],
      "metadata": {
        "colab": {
          "base_uri": "https://localhost:8080/"
        },
        "id": "e9jg5WOmTtbF",
        "outputId": "857704aa-a627-49f0-a3ef-c7df1110e889"
      },
      "execution_count": null,
      "outputs": [
        {
          "output_type": "stream",
          "name": "stdout",
          "text": [
            "MSE train: 0.04522021544258073\n",
            "MSE test: 0.3926266524787603\n"
          ]
        }
      ]
    },
    {
      "cell_type": "code",
      "source": [
        "model = xgb.XGBRegressor(n_estimators=500, max_depth=3,\n",
        "                         learning_rate=0.1, early_stopping_rounds=20)\n",
        "model.fit(X_train, y_train,\n",
        "            eval_set=[(X_train, y_train), (X_test, y_test)])\n"
      ],
      "metadata": {
        "colab": {
          "base_uri": "https://localhost:8080/",
          "height": 1000
        },
        "id": "d-Djn0HTT_L9",
        "outputId": "f85b3877-9b84-4b7a-a467-c621e2c67c57"
      },
      "execution_count": null,
      "outputs": [
        {
          "output_type": "stream",
          "name": "stdout",
          "text": [
            "[0]\tvalidation_0-rmse:1.88431\tvalidation_1-rmse:2.10898\n",
            "[1]\tvalidation_0-rmse:1.75988\tvalidation_1-rmse:1.94998\n",
            "[2]\tvalidation_0-rmse:1.65378\tvalidation_1-rmse:1.82181\n",
            "[3]\tvalidation_0-rmse:1.55551\tvalidation_1-rmse:1.69895\n",
            "[4]\tvalidation_0-rmse:1.46472\tvalidation_1-rmse:1.58135\n",
            "[5]\tvalidation_0-rmse:1.38402\tvalidation_1-rmse:1.48363\n",
            "[6]\tvalidation_0-rmse:1.31500\tvalidation_1-rmse:1.40487\n",
            "[7]\tvalidation_0-rmse:1.25075\tvalidation_1-rmse:1.32817\n",
            "[8]\tvalidation_0-rmse:1.19413\tvalidation_1-rmse:1.26468\n",
            "[9]\tvalidation_0-rmse:1.14200\tvalidation_1-rmse:1.20584\n",
            "[10]\tvalidation_0-rmse:1.09492\tvalidation_1-rmse:1.14716\n",
            "[11]\tvalidation_0-rmse:1.05202\tvalidation_1-rmse:1.10318\n",
            "[12]\tvalidation_0-rmse:1.01440\tvalidation_1-rmse:1.06617\n",
            "[13]\tvalidation_0-rmse:0.98220\tvalidation_1-rmse:1.03488\n",
            "[14]\tvalidation_0-rmse:0.95202\tvalidation_1-rmse:1.00601\n",
            "[15]\tvalidation_0-rmse:0.92520\tvalidation_1-rmse:0.98351\n",
            "[16]\tvalidation_0-rmse:0.89849\tvalidation_1-rmse:0.96092\n",
            "[17]\tvalidation_0-rmse:0.87418\tvalidation_1-rmse:0.93847\n",
            "[18]\tvalidation_0-rmse:0.85119\tvalidation_1-rmse:0.91589\n",
            "[19]\tvalidation_0-rmse:0.83109\tvalidation_1-rmse:0.90221\n",
            "[20]\tvalidation_0-rmse:0.81153\tvalidation_1-rmse:0.88098\n",
            "[21]\tvalidation_0-rmse:0.79437\tvalidation_1-rmse:0.86940\n",
            "[22]\tvalidation_0-rmse:0.77891\tvalidation_1-rmse:0.85719\n",
            "[23]\tvalidation_0-rmse:0.76393\tvalidation_1-rmse:0.84675\n",
            "[24]\tvalidation_0-rmse:0.74917\tvalidation_1-rmse:0.83654\n",
            "[25]\tvalidation_0-rmse:0.73552\tvalidation_1-rmse:0.82992\n",
            "[26]\tvalidation_0-rmse:0.72406\tvalidation_1-rmse:0.82742\n",
            "[27]\tvalidation_0-rmse:0.71218\tvalidation_1-rmse:0.82406\n",
            "[28]\tvalidation_0-rmse:0.70102\tvalidation_1-rmse:0.81545\n",
            "[29]\tvalidation_0-rmse:0.69013\tvalidation_1-rmse:0.80049\n",
            "[30]\tvalidation_0-rmse:0.68083\tvalidation_1-rmse:0.79428\n",
            "[31]\tvalidation_0-rmse:0.67077\tvalidation_1-rmse:0.79225\n",
            "[32]\tvalidation_0-rmse:0.66184\tvalidation_1-rmse:0.78641\n",
            "[33]\tvalidation_0-rmse:0.65339\tvalidation_1-rmse:0.77949\n",
            "[34]\tvalidation_0-rmse:0.64474\tvalidation_1-rmse:0.77553\n",
            "[35]\tvalidation_0-rmse:0.63728\tvalidation_1-rmse:0.76912\n",
            "[36]\tvalidation_0-rmse:0.62710\tvalidation_1-rmse:0.76392\n",
            "[37]\tvalidation_0-rmse:0.61937\tvalidation_1-rmse:0.75745\n",
            "[38]\tvalidation_0-rmse:0.61281\tvalidation_1-rmse:0.74960\n",
            "[39]\tvalidation_0-rmse:0.60735\tvalidation_1-rmse:0.74739\n",
            "[40]\tvalidation_0-rmse:0.60103\tvalidation_1-rmse:0.74557\n",
            "[41]\tvalidation_0-rmse:0.59311\tvalidation_1-rmse:0.73603\n",
            "[42]\tvalidation_0-rmse:0.58650\tvalidation_1-rmse:0.73315\n",
            "[43]\tvalidation_0-rmse:0.58025\tvalidation_1-rmse:0.72776\n",
            "[44]\tvalidation_0-rmse:0.57686\tvalidation_1-rmse:0.72730\n",
            "[45]\tvalidation_0-rmse:0.57177\tvalidation_1-rmse:0.72210\n",
            "[46]\tvalidation_0-rmse:0.56624\tvalidation_1-rmse:0.71590\n",
            "[47]\tvalidation_0-rmse:0.56294\tvalidation_1-rmse:0.71662\n",
            "[48]\tvalidation_0-rmse:0.55780\tvalidation_1-rmse:0.71432\n",
            "[49]\tvalidation_0-rmse:0.55287\tvalidation_1-rmse:0.71135\n",
            "[50]\tvalidation_0-rmse:0.54911\tvalidation_1-rmse:0.70799\n",
            "[51]\tvalidation_0-rmse:0.54596\tvalidation_1-rmse:0.70678\n",
            "[52]\tvalidation_0-rmse:0.54354\tvalidation_1-rmse:0.70700\n",
            "[53]\tvalidation_0-rmse:0.53903\tvalidation_1-rmse:0.70635\n",
            "[54]\tvalidation_0-rmse:0.53506\tvalidation_1-rmse:0.70270\n",
            "[55]\tvalidation_0-rmse:0.53188\tvalidation_1-rmse:0.70125\n",
            "[56]\tvalidation_0-rmse:0.52809\tvalidation_1-rmse:0.69936\n",
            "[57]\tvalidation_0-rmse:0.52561\tvalidation_1-rmse:0.69674\n",
            "[58]\tvalidation_0-rmse:0.52110\tvalidation_1-rmse:0.69177\n",
            "[59]\tvalidation_0-rmse:0.51717\tvalidation_1-rmse:0.69280\n",
            "[60]\tvalidation_0-rmse:0.51440\tvalidation_1-rmse:0.69006\n",
            "[61]\tvalidation_0-rmse:0.51151\tvalidation_1-rmse:0.68965\n",
            "[62]\tvalidation_0-rmse:0.50981\tvalidation_1-rmse:0.68813\n",
            "[63]\tvalidation_0-rmse:0.50595\tvalidation_1-rmse:0.68604\n",
            "[64]\tvalidation_0-rmse:0.50362\tvalidation_1-rmse:0.68594\n",
            "[65]\tvalidation_0-rmse:0.50075\tvalidation_1-rmse:0.68498\n",
            "[66]\tvalidation_0-rmse:0.49949\tvalidation_1-rmse:0.68408\n",
            "[67]\tvalidation_0-rmse:0.49624\tvalidation_1-rmse:0.68299\n",
            "[68]\tvalidation_0-rmse:0.49299\tvalidation_1-rmse:0.68070\n",
            "[69]\tvalidation_0-rmse:0.49022\tvalidation_1-rmse:0.68113\n",
            "[70]\tvalidation_0-rmse:0.48848\tvalidation_1-rmse:0.68123\n",
            "[71]\tvalidation_0-rmse:0.48661\tvalidation_1-rmse:0.68113\n",
            "[72]\tvalidation_0-rmse:0.48365\tvalidation_1-rmse:0.68286\n",
            "[73]\tvalidation_0-rmse:0.48086\tvalidation_1-rmse:0.68251\n",
            "[74]\tvalidation_0-rmse:0.47774\tvalidation_1-rmse:0.68019\n",
            "[75]\tvalidation_0-rmse:0.47519\tvalidation_1-rmse:0.68148\n",
            "[76]\tvalidation_0-rmse:0.47218\tvalidation_1-rmse:0.68164\n",
            "[77]\tvalidation_0-rmse:0.47019\tvalidation_1-rmse:0.67921\n",
            "[78]\tvalidation_0-rmse:0.46788\tvalidation_1-rmse:0.67831\n",
            "[79]\tvalidation_0-rmse:0.46531\tvalidation_1-rmse:0.67636\n",
            "[80]\tvalidation_0-rmse:0.46411\tvalidation_1-rmse:0.67418\n",
            "[81]\tvalidation_0-rmse:0.46272\tvalidation_1-rmse:0.67409\n",
            "[82]\tvalidation_0-rmse:0.46020\tvalidation_1-rmse:0.67162\n",
            "[83]\tvalidation_0-rmse:0.45807\tvalidation_1-rmse:0.67282\n",
            "[84]\tvalidation_0-rmse:0.45593\tvalidation_1-rmse:0.67370\n",
            "[85]\tvalidation_0-rmse:0.45447\tvalidation_1-rmse:0.67267\n",
            "[86]\tvalidation_0-rmse:0.45270\tvalidation_1-rmse:0.67248\n",
            "[87]\tvalidation_0-rmse:0.45129\tvalidation_1-rmse:0.67265\n",
            "[88]\tvalidation_0-rmse:0.44879\tvalidation_1-rmse:0.67050\n",
            "[89]\tvalidation_0-rmse:0.44770\tvalidation_1-rmse:0.66906\n",
            "[90]\tvalidation_0-rmse:0.44572\tvalidation_1-rmse:0.66749\n",
            "[91]\tvalidation_0-rmse:0.44380\tvalidation_1-rmse:0.66614\n",
            "[92]\tvalidation_0-rmse:0.44204\tvalidation_1-rmse:0.66463\n",
            "[93]\tvalidation_0-rmse:0.43939\tvalidation_1-rmse:0.66220\n",
            "[94]\tvalidation_0-rmse:0.43752\tvalidation_1-rmse:0.66137\n",
            "[95]\tvalidation_0-rmse:0.43627\tvalidation_1-rmse:0.66078\n",
            "[96]\tvalidation_0-rmse:0.43493\tvalidation_1-rmse:0.66042\n",
            "[97]\tvalidation_0-rmse:0.43420\tvalidation_1-rmse:0.65945\n",
            "[98]\tvalidation_0-rmse:0.43221\tvalidation_1-rmse:0.65958\n",
            "[99]\tvalidation_0-rmse:0.42989\tvalidation_1-rmse:0.65900\n",
            "[100]\tvalidation_0-rmse:0.42909\tvalidation_1-rmse:0.65894\n",
            "[101]\tvalidation_0-rmse:0.42702\tvalidation_1-rmse:0.65750\n",
            "[102]\tvalidation_0-rmse:0.42559\tvalidation_1-rmse:0.65561\n",
            "[103]\tvalidation_0-rmse:0.42454\tvalidation_1-rmse:0.65517\n",
            "[104]\tvalidation_0-rmse:0.42264\tvalidation_1-rmse:0.65382\n",
            "[105]\tvalidation_0-rmse:0.42089\tvalidation_1-rmse:0.65397\n",
            "[106]\tvalidation_0-rmse:0.41847\tvalidation_1-rmse:0.65261\n",
            "[107]\tvalidation_0-rmse:0.41734\tvalidation_1-rmse:0.65266\n",
            "[108]\tvalidation_0-rmse:0.41571\tvalidation_1-rmse:0.65273\n",
            "[109]\tvalidation_0-rmse:0.41422\tvalidation_1-rmse:0.65182\n",
            "[110]\tvalidation_0-rmse:0.41258\tvalidation_1-rmse:0.65238\n",
            "[111]\tvalidation_0-rmse:0.41088\tvalidation_1-rmse:0.65259\n",
            "[112]\tvalidation_0-rmse:0.40951\tvalidation_1-rmse:0.65058\n",
            "[113]\tvalidation_0-rmse:0.40744\tvalidation_1-rmse:0.64934\n",
            "[114]\tvalidation_0-rmse:0.40635\tvalidation_1-rmse:0.64866\n",
            "[115]\tvalidation_0-rmse:0.40500\tvalidation_1-rmse:0.64886\n",
            "[116]\tvalidation_0-rmse:0.40350\tvalidation_1-rmse:0.65112\n",
            "[117]\tvalidation_0-rmse:0.40199\tvalidation_1-rmse:0.65069\n",
            "[118]\tvalidation_0-rmse:0.40082\tvalidation_1-rmse:0.64952\n",
            "[119]\tvalidation_0-rmse:0.39920\tvalidation_1-rmse:0.64924\n",
            "[120]\tvalidation_0-rmse:0.39828\tvalidation_1-rmse:0.64920\n",
            "[121]\tvalidation_0-rmse:0.39747\tvalidation_1-rmse:0.64914\n",
            "[122]\tvalidation_0-rmse:0.39633\tvalidation_1-rmse:0.64815\n",
            "[123]\tvalidation_0-rmse:0.39533\tvalidation_1-rmse:0.64849\n",
            "[124]\tvalidation_0-rmse:0.39428\tvalidation_1-rmse:0.64730\n",
            "[125]\tvalidation_0-rmse:0.39295\tvalidation_1-rmse:0.64719\n",
            "[126]\tvalidation_0-rmse:0.39211\tvalidation_1-rmse:0.64678\n",
            "[127]\tvalidation_0-rmse:0.39147\tvalidation_1-rmse:0.64542\n",
            "[128]\tvalidation_0-rmse:0.39045\tvalidation_1-rmse:0.64548\n",
            "[129]\tvalidation_0-rmse:0.38940\tvalidation_1-rmse:0.64576\n",
            "[130]\tvalidation_0-rmse:0.38809\tvalidation_1-rmse:0.64560\n",
            "[131]\tvalidation_0-rmse:0.38731\tvalidation_1-rmse:0.64584\n",
            "[132]\tvalidation_0-rmse:0.38639\tvalidation_1-rmse:0.64578\n",
            "[133]\tvalidation_0-rmse:0.38602\tvalidation_1-rmse:0.64577\n",
            "[134]\tvalidation_0-rmse:0.38523\tvalidation_1-rmse:0.64590\n",
            "[135]\tvalidation_0-rmse:0.38428\tvalidation_1-rmse:0.64527\n",
            "[136]\tvalidation_0-rmse:0.38271\tvalidation_1-rmse:0.64441\n",
            "[137]\tvalidation_0-rmse:0.38131\tvalidation_1-rmse:0.64480\n",
            "[138]\tvalidation_0-rmse:0.37922\tvalidation_1-rmse:0.64397\n",
            "[139]\tvalidation_0-rmse:0.37775\tvalidation_1-rmse:0.64531\n",
            "[140]\tvalidation_0-rmse:0.37713\tvalidation_1-rmse:0.64532\n",
            "[141]\tvalidation_0-rmse:0.37591\tvalidation_1-rmse:0.64520\n",
            "[142]\tvalidation_0-rmse:0.37523\tvalidation_1-rmse:0.64531\n",
            "[143]\tvalidation_0-rmse:0.37469\tvalidation_1-rmse:0.64445\n",
            "[144]\tvalidation_0-rmse:0.37400\tvalidation_1-rmse:0.64450\n",
            "[145]\tvalidation_0-rmse:0.37336\tvalidation_1-rmse:0.64329\n",
            "[146]\tvalidation_0-rmse:0.37208\tvalidation_1-rmse:0.64232\n",
            "[147]\tvalidation_0-rmse:0.37069\tvalidation_1-rmse:0.64211\n",
            "[148]\tvalidation_0-rmse:0.36916\tvalidation_1-rmse:0.64171\n",
            "[149]\tvalidation_0-rmse:0.36767\tvalidation_1-rmse:0.64142\n",
            "[150]\tvalidation_0-rmse:0.36684\tvalidation_1-rmse:0.64165\n",
            "[151]\tvalidation_0-rmse:0.36576\tvalidation_1-rmse:0.64237\n",
            "[152]\tvalidation_0-rmse:0.36405\tvalidation_1-rmse:0.64252\n",
            "[153]\tvalidation_0-rmse:0.36382\tvalidation_1-rmse:0.64282\n",
            "[154]\tvalidation_0-rmse:0.36302\tvalidation_1-rmse:0.64302\n",
            "[155]\tvalidation_0-rmse:0.36171\tvalidation_1-rmse:0.64315\n",
            "[156]\tvalidation_0-rmse:0.36109\tvalidation_1-rmse:0.64355\n",
            "[157]\tvalidation_0-rmse:0.35988\tvalidation_1-rmse:0.64165\n",
            "[158]\tvalidation_0-rmse:0.35903\tvalidation_1-rmse:0.64135\n",
            "[159]\tvalidation_0-rmse:0.35781\tvalidation_1-rmse:0.64198\n",
            "[160]\tvalidation_0-rmse:0.35763\tvalidation_1-rmse:0.64237\n",
            "[161]\tvalidation_0-rmse:0.35622\tvalidation_1-rmse:0.64163\n",
            "[162]\tvalidation_0-rmse:0.35501\tvalidation_1-rmse:0.64092\n",
            "[163]\tvalidation_0-rmse:0.35458\tvalidation_1-rmse:0.63978\n",
            "[164]\tvalidation_0-rmse:0.35355\tvalidation_1-rmse:0.63898\n",
            "[165]\tvalidation_0-rmse:0.35269\tvalidation_1-rmse:0.63973\n",
            "[166]\tvalidation_0-rmse:0.35166\tvalidation_1-rmse:0.63978\n",
            "[167]\tvalidation_0-rmse:0.35114\tvalidation_1-rmse:0.63914\n",
            "[168]\tvalidation_0-rmse:0.34978\tvalidation_1-rmse:0.63786\n",
            "[169]\tvalidation_0-rmse:0.34850\tvalidation_1-rmse:0.63724\n",
            "[170]\tvalidation_0-rmse:0.34739\tvalidation_1-rmse:0.63700\n",
            "[171]\tvalidation_0-rmse:0.34706\tvalidation_1-rmse:0.63637\n",
            "[172]\tvalidation_0-rmse:0.34634\tvalidation_1-rmse:0.63633\n",
            "[173]\tvalidation_0-rmse:0.34558\tvalidation_1-rmse:0.63643\n",
            "[174]\tvalidation_0-rmse:0.34493\tvalidation_1-rmse:0.63636\n",
            "[175]\tvalidation_0-rmse:0.34451\tvalidation_1-rmse:0.63640\n",
            "[176]\tvalidation_0-rmse:0.34371\tvalidation_1-rmse:0.63603\n",
            "[177]\tvalidation_0-rmse:0.34356\tvalidation_1-rmse:0.63637\n",
            "[178]\tvalidation_0-rmse:0.34286\tvalidation_1-rmse:0.63657\n",
            "[179]\tvalidation_0-rmse:0.34160\tvalidation_1-rmse:0.63683\n",
            "[180]\tvalidation_0-rmse:0.34045\tvalidation_1-rmse:0.63639\n",
            "[181]\tvalidation_0-rmse:0.34002\tvalidation_1-rmse:0.63649\n",
            "[182]\tvalidation_0-rmse:0.33976\tvalidation_1-rmse:0.63637\n",
            "[183]\tvalidation_0-rmse:0.33852\tvalidation_1-rmse:0.63648\n",
            "[184]\tvalidation_0-rmse:0.33743\tvalidation_1-rmse:0.63561\n",
            "[185]\tvalidation_0-rmse:0.33664\tvalidation_1-rmse:0.63565\n",
            "[186]\tvalidation_0-rmse:0.33639\tvalidation_1-rmse:0.63542\n",
            "[187]\tvalidation_0-rmse:0.33504\tvalidation_1-rmse:0.63599\n",
            "[188]\tvalidation_0-rmse:0.33398\tvalidation_1-rmse:0.63662\n",
            "[189]\tvalidation_0-rmse:0.33353\tvalidation_1-rmse:0.63652\n",
            "[190]\tvalidation_0-rmse:0.33309\tvalidation_1-rmse:0.63667\n",
            "[191]\tvalidation_0-rmse:0.33287\tvalidation_1-rmse:0.63646\n",
            "[192]\tvalidation_0-rmse:0.33268\tvalidation_1-rmse:0.63649\n",
            "[193]\tvalidation_0-rmse:0.33232\tvalidation_1-rmse:0.63637\n",
            "[194]\tvalidation_0-rmse:0.33143\tvalidation_1-rmse:0.63490\n",
            "[195]\tvalidation_0-rmse:0.33051\tvalidation_1-rmse:0.63545\n",
            "[196]\tvalidation_0-rmse:0.32918\tvalidation_1-rmse:0.63519\n",
            "[197]\tvalidation_0-rmse:0.32852\tvalidation_1-rmse:0.63530\n",
            "[198]\tvalidation_0-rmse:0.32785\tvalidation_1-rmse:0.63556\n",
            "[199]\tvalidation_0-rmse:0.32763\tvalidation_1-rmse:0.63559\n",
            "[200]\tvalidation_0-rmse:0.32711\tvalidation_1-rmse:0.63564\n",
            "[201]\tvalidation_0-rmse:0.32664\tvalidation_1-rmse:0.63587\n",
            "[202]\tvalidation_0-rmse:0.32573\tvalidation_1-rmse:0.63457\n",
            "[203]\tvalidation_0-rmse:0.32549\tvalidation_1-rmse:0.63487\n",
            "[204]\tvalidation_0-rmse:0.32441\tvalidation_1-rmse:0.63486\n",
            "[205]\tvalidation_0-rmse:0.32361\tvalidation_1-rmse:0.63401\n",
            "[206]\tvalidation_0-rmse:0.32281\tvalidation_1-rmse:0.63428\n",
            "[207]\tvalidation_0-rmse:0.32201\tvalidation_1-rmse:0.63366\n",
            "[208]\tvalidation_0-rmse:0.32176\tvalidation_1-rmse:0.63315\n",
            "[209]\tvalidation_0-rmse:0.32073\tvalidation_1-rmse:0.63337\n",
            "[210]\tvalidation_0-rmse:0.32012\tvalidation_1-rmse:0.63336\n",
            "[211]\tvalidation_0-rmse:0.31974\tvalidation_1-rmse:0.63346\n",
            "[212]\tvalidation_0-rmse:0.31894\tvalidation_1-rmse:0.63360\n",
            "[213]\tvalidation_0-rmse:0.31824\tvalidation_1-rmse:0.63347\n",
            "[214]\tvalidation_0-rmse:0.31735\tvalidation_1-rmse:0.63349\n",
            "[215]\tvalidation_0-rmse:0.31642\tvalidation_1-rmse:0.63472\n",
            "[216]\tvalidation_0-rmse:0.31617\tvalidation_1-rmse:0.63476\n",
            "[217]\tvalidation_0-rmse:0.31563\tvalidation_1-rmse:0.63491\n",
            "[218]\tvalidation_0-rmse:0.31517\tvalidation_1-rmse:0.63496\n",
            "[219]\tvalidation_0-rmse:0.31429\tvalidation_1-rmse:0.63441\n",
            "[220]\tvalidation_0-rmse:0.31342\tvalidation_1-rmse:0.63469\n",
            "[221]\tvalidation_0-rmse:0.31258\tvalidation_1-rmse:0.63408\n",
            "[222]\tvalidation_0-rmse:0.31226\tvalidation_1-rmse:0.63443\n",
            "[223]\tvalidation_0-rmse:0.31133\tvalidation_1-rmse:0.63463\n",
            "[224]\tvalidation_0-rmse:0.31041\tvalidation_1-rmse:0.63417\n",
            "[225]\tvalidation_0-rmse:0.30935\tvalidation_1-rmse:0.63421\n",
            "[226]\tvalidation_0-rmse:0.30889\tvalidation_1-rmse:0.63428\n",
            "[227]\tvalidation_0-rmse:0.30821\tvalidation_1-rmse:0.63501\n"
          ]
        },
        {
          "output_type": "execute_result",
          "data": {
            "text/plain": [
              "XGBRegressor(base_score=None, booster=None, callbacks=None,\n",
              "             colsample_bylevel=None, colsample_bynode=None,\n",
              "             colsample_bytree=None, device=None, early_stopping_rounds=20,\n",
              "             enable_categorical=False, eval_metric=None, feature_types=None,\n",
              "             gamma=None, grow_policy=None, importance_type=None,\n",
              "             interaction_constraints=None, learning_rate=0.1, max_bin=None,\n",
              "             max_cat_threshold=None, max_cat_to_onehot=None,\n",
              "             max_delta_step=None, max_depth=3, max_leaves=None,\n",
              "             min_child_weight=None, missing=nan, monotone_constraints=None,\n",
              "             multi_strategy=None, n_estimators=500, n_jobs=None,\n",
              "             num_parallel_tree=None, random_state=None, ...)"
            ],
            "text/html": [
              "<style>#sk-container-id-1 {color: black;background-color: white;}#sk-container-id-1 pre{padding: 0;}#sk-container-id-1 div.sk-toggleable {background-color: white;}#sk-container-id-1 label.sk-toggleable__label {cursor: pointer;display: block;width: 100%;margin-bottom: 0;padding: 0.3em;box-sizing: border-box;text-align: center;}#sk-container-id-1 label.sk-toggleable__label-arrow:before {content: \"▸\";float: left;margin-right: 0.25em;color: #696969;}#sk-container-id-1 label.sk-toggleable__label-arrow:hover:before {color: black;}#sk-container-id-1 div.sk-estimator:hover label.sk-toggleable__label-arrow:before {color: black;}#sk-container-id-1 div.sk-toggleable__content {max-height: 0;max-width: 0;overflow: hidden;text-align: left;background-color: #f0f8ff;}#sk-container-id-1 div.sk-toggleable__content pre {margin: 0.2em;color: black;border-radius: 0.25em;background-color: #f0f8ff;}#sk-container-id-1 input.sk-toggleable__control:checked~div.sk-toggleable__content {max-height: 200px;max-width: 100%;overflow: auto;}#sk-container-id-1 input.sk-toggleable__control:checked~label.sk-toggleable__label-arrow:before {content: \"▾\";}#sk-container-id-1 div.sk-estimator input.sk-toggleable__control:checked~label.sk-toggleable__label {background-color: #d4ebff;}#sk-container-id-1 div.sk-label input.sk-toggleable__control:checked~label.sk-toggleable__label {background-color: #d4ebff;}#sk-container-id-1 input.sk-hidden--visually {border: 0;clip: rect(1px 1px 1px 1px);clip: rect(1px, 1px, 1px, 1px);height: 1px;margin: -1px;overflow: hidden;padding: 0;position: absolute;width: 1px;}#sk-container-id-1 div.sk-estimator {font-family: monospace;background-color: #f0f8ff;border: 1px dotted black;border-radius: 0.25em;box-sizing: border-box;margin-bottom: 0.5em;}#sk-container-id-1 div.sk-estimator:hover {background-color: #d4ebff;}#sk-container-id-1 div.sk-parallel-item::after {content: \"\";width: 100%;border-bottom: 1px solid gray;flex-grow: 1;}#sk-container-id-1 div.sk-label:hover label.sk-toggleable__label {background-color: #d4ebff;}#sk-container-id-1 div.sk-serial::before {content: \"\";position: absolute;border-left: 1px solid gray;box-sizing: border-box;top: 0;bottom: 0;left: 50%;z-index: 0;}#sk-container-id-1 div.sk-serial {display: flex;flex-direction: column;align-items: center;background-color: white;padding-right: 0.2em;padding-left: 0.2em;position: relative;}#sk-container-id-1 div.sk-item {position: relative;z-index: 1;}#sk-container-id-1 div.sk-parallel {display: flex;align-items: stretch;justify-content: center;background-color: white;position: relative;}#sk-container-id-1 div.sk-item::before, #sk-container-id-1 div.sk-parallel-item::before {content: \"\";position: absolute;border-left: 1px solid gray;box-sizing: border-box;top: 0;bottom: 0;left: 50%;z-index: -1;}#sk-container-id-1 div.sk-parallel-item {display: flex;flex-direction: column;z-index: 1;position: relative;background-color: white;}#sk-container-id-1 div.sk-parallel-item:first-child::after {align-self: flex-end;width: 50%;}#sk-container-id-1 div.sk-parallel-item:last-child::after {align-self: flex-start;width: 50%;}#sk-container-id-1 div.sk-parallel-item:only-child::after {width: 0;}#sk-container-id-1 div.sk-dashed-wrapped {border: 1px dashed gray;margin: 0 0.4em 0.5em 0.4em;box-sizing: border-box;padding-bottom: 0.4em;background-color: white;}#sk-container-id-1 div.sk-label label {font-family: monospace;font-weight: bold;display: inline-block;line-height: 1.2em;}#sk-container-id-1 div.sk-label-container {text-align: center;}#sk-container-id-1 div.sk-container {/* jupyter's `normalize.less` sets `[hidden] { display: none; }` but bootstrap.min.css set `[hidden] { display: none !important; }` so we also need the `!important` here to be able to override the default hidden behavior on the sphinx rendered scikit-learn.org. See: https://github.com/scikit-learn/scikit-learn/issues/21755 */display: inline-block !important;position: relative;}#sk-container-id-1 div.sk-text-repr-fallback {display: none;}</style><div id=\"sk-container-id-1\" class=\"sk-top-container\"><div class=\"sk-text-repr-fallback\"><pre>XGBRegressor(base_score=None, booster=None, callbacks=None,\n",
              "             colsample_bylevel=None, colsample_bynode=None,\n",
              "             colsample_bytree=None, device=None, early_stopping_rounds=20,\n",
              "             enable_categorical=False, eval_metric=None, feature_types=None,\n",
              "             gamma=None, grow_policy=None, importance_type=None,\n",
              "             interaction_constraints=None, learning_rate=0.1, max_bin=None,\n",
              "             max_cat_threshold=None, max_cat_to_onehot=None,\n",
              "             max_delta_step=None, max_depth=3, max_leaves=None,\n",
              "             min_child_weight=None, missing=nan, monotone_constraints=None,\n",
              "             multi_strategy=None, n_estimators=500, n_jobs=None,\n",
              "             num_parallel_tree=None, random_state=None, ...)</pre><b>In a Jupyter environment, please rerun this cell to show the HTML representation or trust the notebook. <br />On GitHub, the HTML representation is unable to render, please try loading this page with nbviewer.org.</b></div><div class=\"sk-container\" hidden><div class=\"sk-item\"><div class=\"sk-estimator sk-toggleable\"><input class=\"sk-toggleable__control sk-hidden--visually\" id=\"sk-estimator-id-1\" type=\"checkbox\" checked><label for=\"sk-estimator-id-1\" class=\"sk-toggleable__label sk-toggleable__label-arrow\">XGBRegressor</label><div class=\"sk-toggleable__content\"><pre>XGBRegressor(base_score=None, booster=None, callbacks=None,\n",
              "             colsample_bylevel=None, colsample_bynode=None,\n",
              "             colsample_bytree=None, device=None, early_stopping_rounds=20,\n",
              "             enable_categorical=False, eval_metric=None, feature_types=None,\n",
              "             gamma=None, grow_policy=None, importance_type=None,\n",
              "             interaction_constraints=None, learning_rate=0.1, max_bin=None,\n",
              "             max_cat_threshold=None, max_cat_to_onehot=None,\n",
              "             max_delta_step=None, max_depth=3, max_leaves=None,\n",
              "             min_child_weight=None, missing=nan, monotone_constraints=None,\n",
              "             multi_strategy=None, n_estimators=500, n_jobs=None,\n",
              "             num_parallel_tree=None, random_state=None, ...)</pre></div></div></div></div></div>"
            ]
          },
          "metadata": {},
          "execution_count": 14
        }
      ]
    },
    {
      "cell_type": "code",
      "source": [
        "results = model.evals_result()\n",
        "total_trees=len(results[\"validation_0\"][\"rmse\"]) #el numero total de arboles\n",
        "\n",
        "plt.figure(figsize=(10,7))\n",
        "plt.plot(results[\"validation_0\"][\"rmse\"], label=\"Training loss\")\n",
        "plt.plot(results[\"validation_1\"][\"rmse\"], label=\"Validation loss\")\n",
        "plt.axvline(total_trees-20, color=\"gray\", label=\"Optimal tree number\")\n",
        "plt.xlabel(\"Number of trees\")\n",
        "plt.ylabel(\"Loss\")\n",
        "plt.legend()"
      ],
      "metadata": {
        "colab": {
          "base_uri": "https://localhost:8080/",
          "height": 637
        },
        "id": "bNBG1wcIUR5N",
        "outputId": "f5a70e1d-606c-4f00-9d60-a39dab6284e6"
      },
      "execution_count": null,
      "outputs": [
        {
          "output_type": "execute_result",
          "data": {
            "text/plain": [
              "<matplotlib.legend.Legend at 0x7e14ad63ba00>"
            ]
          },
          "metadata": {},
          "execution_count": 16
        },
        {
          "output_type": "display_data",
          "data": {
            "text/plain": [
              "<Figure size 1000x700 with 1 Axes>"
            ],
            "image/png": "[encoded data removed]"
          },
          "metadata": {}
        }
      ]
    }
  ]
}