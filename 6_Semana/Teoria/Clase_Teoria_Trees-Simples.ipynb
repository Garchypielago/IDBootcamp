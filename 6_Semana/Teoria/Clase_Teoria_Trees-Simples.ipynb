{
 "cells": [
  {
   "cell_type": "code",
   "execution_count": 22,
   "metadata": {},
   "outputs": [],
   "source": [
    "from sklearn.model_selection import train_test_split\n",
    "from sklearn import metrics\n",
    "from sklearn import preprocessing\n",
    "from sklearn.model_selection import GridSearchCV\n",
    "from matplotlib import pyplot as plt\n",
    "from sklearn.metrics import make_scorer\n",
    "from sklearn.metrics import accuracy_score\n",
    "import pandas as pd\n",
    "import numpy as np\n",
    "from sklearn import tree\n",
    "import seaborn as sns\n",
    "\n",
    "from sklearn.preprocessing import scale\n",
    "import sklearn"
   ]
  },
  {
   "cell_type": "code",
   "execution_count": 23,
   "metadata": {},
   "outputs": [],
   "source": [
    "# =============================================================================\n",
    "# Clasificación\n",
    "# =============================================================================\n",
    "# importamos datos de sklearn\n"
   ]
  },
  {
   "cell_type": "code",
   "execution_count": 24,
   "metadata": {},
   "outputs": [],
   "source": [
    "from sklearn.datasets import load_breast_cancer\n",
    "data = load_breast_cancer()"
   ]
  },
  {
   "cell_type": "code",
   "execution_count": 25,
   "metadata": {},
   "outputs": [
    {
     "data": {
      "text/plain": [
       "Index(['mean radius', 'mean texture', 'mean perimeter', 'mean area',\n",
       "       'mean smoothness', 'mean compactness', 'mean concavity',\n",
       "       'mean concave points', 'mean symmetry', 'mean fractal dimension',\n",
       "       'radius error', 'texture error', 'perimeter error', 'area error',\n",
       "       'smoothness error', 'compactness error', 'concavity error',\n",
       "       'concave points error', 'symmetry error', 'fractal dimension error',\n",
       "       'worst radius', 'worst texture', 'worst perimeter', 'worst area',\n",
       "       'worst smoothness', 'worst compactness', 'worst concavity',\n",
       "       'worst concave points', 'worst symmetry', 'worst fractal dimension',\n",
       "       'Diagnosis'],\n",
       "      dtype='object')"
      ]
     },
     "execution_count": 25,
     "metadata": {},
     "output_type": "execute_result"
    }
   ],
   "source": [
    "dt=pd.DataFrame(data['data'], columns=data['feature_names'])\n",
    "dt['Diagnosis']=np.where(data.target==1, \"Malignant\",\"Bening\")\n",
    "dt.columns"
   ]
  },
  {
   "cell_type": "code",
   "execution_count": 26,
   "metadata": {},
   "outputs": [
    {
     "name": "stdout",
     "output_type": "stream",
     "text": [
      "[0 0 0 0 0]\n",
      "(569, 30)\n",
      "['mean radius' 'mean texture' 'mean perimeter' 'mean area'\n",
      " 'mean smoothness' 'mean compactness' 'mean concavity'\n",
      " 'mean concave points' 'mean symmetry' 'mean fractal dimension'\n",
      " 'radius error' 'texture error' 'perimeter error' 'area error'\n",
      " 'smoothness error' 'compactness error' 'concavity error'\n",
      " 'concave points error' 'symmetry error' 'fractal dimension error'\n",
      " 'worst radius' 'worst texture' 'worst perimeter' 'worst area'\n",
      " 'worst smoothness' 'worst compactness' 'worst concavity'\n",
      " 'worst concave points' 'worst symmetry' 'worst fractal dimension']\n",
      "['malignant' 'benign']\n",
      ".. _breast_cancer_dataset:\n",
      "\n",
      "Breast cancer wisconsin (diagnostic) dataset\n",
      "--------------------------------------------\n",
      "\n",
      "**Data Set Characteristics:**\n",
      "\n",
      "    :Number of Instances: 569\n",
      "\n",
      "    :Number of Attributes: 30 numeric, predictive attributes and the class\n",
      "\n",
      "    :Attribute Information:\n",
      "        - radius (mean of distances from center to points on the perimeter)\n",
      "        - texture (standard deviation of gray-scale values)\n",
      "        - perimeter\n",
      "        - area\n",
      "        - smoothness (local variation in radius lengths)\n",
      "        - compactness (perimeter^2 / area - 1.0)\n",
      "        - concavity (severity of concave portions of the contour)\n",
      "        - concave points (number of concave portions of the contour)\n",
      "        - symmetry\n",
      "        - fractal dimension (\"coastline approximation\" - 1)\n",
      "\n",
      "        The mean, standard error, and \"worst\" or largest (mean of the three\n",
      "        worst/largest values) of these features were computed for each image,\n",
      "        resulting in 30 features.  For instance, field 0 is Mean Radius, field\n",
      "        10 is Radius SE, field 20 is Worst Radius.\n",
      "\n",
      "        - class:\n",
      "                - WDBC-Malignant\n",
      "                - WDBC-Benign\n",
      "\n",
      "    :Summary Statistics:\n",
      "\n",
      "    ===================================== ====== ======\n",
      "                                           Min    Max\n",
      "    ===================================== ====== ======\n",
      "    radius (mean):                        6.981  28.11\n",
      "    texture (mean):                       9.71   39.28\n",
      "    perimeter (mean):                     43.79  188.5\n",
      "    area (mean):                          143.5  2501.0\n",
      "    smoothness (mean):                    0.053  0.163\n",
      "    compactness (mean):                   0.019  0.345\n",
      "    concavity (mean):                     0.0    0.427\n",
      "    concave points (mean):                0.0    0.201\n",
      "    symmetry (mean):                      0.106  0.304\n",
      "    fractal dimension (mean):             0.05   0.097\n",
      "    radius (standard error):              0.112  2.873\n",
      "    texture (standard error):             0.36   4.885\n",
      "    perimeter (standard error):           0.757  21.98\n",
      "    area (standard error):                6.802  542.2\n",
      "    smoothness (standard error):          0.002  0.031\n",
      "    compactness (standard error):         0.002  0.135\n",
      "    concavity (standard error):           0.0    0.396\n",
      "    concave points (standard error):      0.0    0.053\n",
      "    symmetry (standard error):            0.008  0.079\n",
      "    fractal dimension (standard error):   0.001  0.03\n",
      "    radius (worst):                       7.93   36.04\n",
      "    texture (worst):                      12.02  49.54\n",
      "    perimeter (worst):                    50.41  251.2\n",
      "    area (worst):                         185.2  4254.0\n",
      "    smoothness (worst):                   0.071  0.223\n",
      "    compactness (worst):                  0.027  1.058\n",
      "    concavity (worst):                    0.0    1.252\n",
      "    concave points (worst):               0.0    0.291\n",
      "    symmetry (worst):                     0.156  0.664\n",
      "    fractal dimension (worst):            0.055  0.208\n",
      "    ===================================== ====== ======\n",
      "\n",
      "    :Missing Attribute Values: None\n",
      "\n",
      "    :Class Distribution: 212 - Malignant, 357 - Benign\n",
      "\n",
      "    :Creator:  Dr. William H. Wolberg, W. Nick Street, Olvi L. Mangasarian\n",
      "\n",
      "    :Donor: Nick Street\n",
      "\n",
      "    :Date: November, 1995\n",
      "\n",
      "This is a copy of UCI ML Breast Cancer Wisconsin (Diagnostic) datasets.\n",
      "https://goo.gl/U2Uwz2\n",
      "\n",
      "Features are computed from a digitized image of a fine needle\n",
      "aspirate (FNA) of a breast mass.  They describe\n",
      "characteristics of the cell nuclei present in the image.\n",
      "\n",
      "Separating plane described above was obtained using\n",
      "Multisurface Method-Tree (MSM-T) [K. P. Bennett, \"Decision Tree\n",
      "Construction Via Linear Programming.\" Proceedings of the 4th\n",
      "Midwest Artificial Intelligence and Cognitive Science Society,\n",
      "pp. 97-101, 1992], a classification method which uses linear\n",
      "programming to construct a decision tree.  Relevant features\n",
      "were selected using an exhaustive search in the space of 1-4\n",
      "features and 1-3 separating planes.\n",
      "\n",
      "The actual linear program used to obtain the separating plane\n",
      "in the 3-dimensional space is that described in:\n",
      "[K. P. Bennett and O. L. Mangasarian: \"Robust Linear\n",
      "Programming Discrimination of Two Linearly Inseparable Sets\",\n",
      "Optimization Methods and Software 1, 1992, 23-34].\n",
      "\n",
      "This database is also available through the UW CS ftp server:\n",
      "\n",
      "ftp ftp.cs.wisc.edu\n",
      "cd math-prog/cpo-dataset/machine-learn/WDBC/\n",
      "\n",
      ".. topic:: References\n",
      "\n",
      "   - W.N. Street, W.H. Wolberg and O.L. Mangasarian. Nuclear feature extraction \n",
      "     for breast tumor diagnosis. IS&T/SPIE 1993 International Symposium on \n",
      "     Electronic Imaging: Science and Technology, volume 1905, pages 861-870,\n",
      "     San Jose, CA, 1993.\n",
      "   - O.L. Mangasarian, W.N. Street and W.H. Wolberg. Breast cancer diagnosis and \n",
      "     prognosis via linear programming. Operations Research, 43(4), pages 570-577, \n",
      "     July-August 1995.\n",
      "   - W.H. Wolberg, W.N. Street, and O.L. Mangasarian. Machine learning techniques\n",
      "     to diagnose breast cancer from fine-needle aspirates. Cancer Letters 77 (1994) \n",
      "     163-171.\n"
     ]
    }
   ],
   "source": [
    "print(data['target'][0:5]) # es la variable target\n",
    "print(data['data'].shape) # 569 filas 30 columnas\n",
    "print(data['feature_names']) # nombre de las variables\n",
    "print(data['target_names']) # significado del target\n",
    "print(data['DESCR'])"
   ]
  },
  {
   "cell_type": "code",
   "execution_count": 27,
   "metadata": {},
   "outputs": [
    {
     "data": {
      "text/plain": [
       "{'ccp_alpha': 0.0,\n",
       " 'class_weight': None,\n",
       " 'criterion': 'gini',\n",
       " 'max_depth': None,\n",
       " 'max_features': None,\n",
       " 'max_leaf_nodes': None,\n",
       " 'min_impurity_decrease': 0.0,\n",
       " 'min_samples_leaf': 1,\n",
       " 'min_samples_split': 2,\n",
       " 'min_weight_fraction_leaf': 0.0,\n",
       " 'random_state': None,\n",
       " 'splitter': 'best'}"
      ]
     },
     "execution_count": 27,
     "metadata": {},
     "output_type": "execute_result"
    }
   ],
   "source": [
    "from sklearn.tree import DecisionTreeClassifier # predict roba\n",
    "from sklearn.tree import DecisionTreeRegressor \n",
    "DecisionTreeClassifier().get_params()"
   ]
  },
  {
   "cell_type": "code",
   "execution_count": 28,
   "metadata": {
    "scrolled": true
   },
   "outputs": [
    {
     "name": "stdout",
     "output_type": "stream",
     "text": [
      "{'ccp_alpha': 0.0, 'class_weight': None, 'criterion': 'gini', 'max_depth': None, 'max_features': None, 'max_leaf_nodes': None, 'min_impurity_decrease': 0.0, 'min_samples_leaf': 1, 'min_samples_split': 2, 'min_weight_fraction_leaf': 0.0, 'random_state': None, 'splitter': 'best'}\n",
      "Train score 1.0\n",
      "Test score 0.9298245614035088\n",
      "Train AUC 1.0\n",
      "Train Accuracy 1.0\n",
      "Test AUC 0.928030303030303\n",
      "Test Accuracy 0.9298245614035088\n"
     ]
    }
   ],
   "source": [
    "X=dt.drop('Diagnosis',axis=1)\n",
    "y=data['target'] # 0 o 1\n",
    "\n",
    "# aqui construimos un modelo\n",
    "model = DecisionTreeClassifier()\n",
    "#(max_depth=10)\n",
    "# cada modelo tiene una función que dice que parametros tiene\n",
    "# estos serian los parametros por defecto\n",
    "print(model.get_params())\n",
    "\n",
    "\n",
    "X_train, X_test, y_train, y_test = train_test_split(X, y, test_size=0.20)\n",
    "tree_model=model.fit(X_train,y_train)\n",
    "print(\"Train score\", tree_model.score(X_train,y_train))\n",
    "print(\"Test score\", tree_model.score(X_test, y_test))\n",
    "# train\n",
    "y_pred=tree_model.predict(X_train)\n",
    "probs=tree_model.predict_proba(X_train)\n",
    "print(\"Train AUC\", sklearn.metrics.roc_auc_score(y_train, probs[:,1]))\n",
    "print(\"Train Accuracy\", sklearn.metrics.accuracy_score(y_train,y_pred))\n",
    "# test\n",
    "y_pred=tree_model.predict(X_test)\n",
    "probs=tree_model.predict_proba(X_test)\n",
    "print(\"Test AUC\", sklearn.metrics.roc_auc_score(y_test, probs[:,1]))\n",
    "print(\"Test Accuracy\",  sklearn.metrics.accuracy_score(y_test,y_pred))"
   ]
  },
  {
   "cell_type": "code",
   "execution_count": 29,
   "metadata": {},
   "outputs": [
    {
     "data": {
      "text/html": [
       "<style>#sk-container-id-3 {color: black;background-color: white;}#sk-container-id-3 pre{padding: 0;}#sk-container-id-3 div.sk-toggleable {background-color: white;}#sk-container-id-3 label.sk-toggleable__label {cursor: pointer;display: block;width: 100%;margin-bottom: 0;padding: 0.3em;box-sizing: border-box;text-align: center;}#sk-container-id-3 label.sk-toggleable__label-arrow:before {content: \"▸\";float: left;margin-right: 0.25em;color: #696969;}#sk-container-id-3 label.sk-toggleable__label-arrow:hover:before {color: black;}#sk-container-id-3 div.sk-estimator:hover label.sk-toggleable__label-arrow:before {color: black;}#sk-container-id-3 div.sk-toggleable__content {max-height: 0;max-width: 0;overflow: hidden;text-align: left;background-color: #f0f8ff;}#sk-container-id-3 div.sk-toggleable__content pre {margin: 0.2em;color: black;border-radius: 0.25em;background-color: #f0f8ff;}#sk-container-id-3 input.sk-toggleable__control:checked~div.sk-toggleable__content {max-height: 200px;max-width: 100%;overflow: auto;}#sk-container-id-3 input.sk-toggleable__control:checked~label.sk-toggleable__label-arrow:before {content: \"▾\";}#sk-container-id-3 div.sk-estimator input.sk-toggleable__control:checked~label.sk-toggleable__label {background-color: #d4ebff;}#sk-container-id-3 div.sk-label input.sk-toggleable__control:checked~label.sk-toggleable__label {background-color: #d4ebff;}#sk-container-id-3 input.sk-hidden--visually {border: 0;clip: rect(1px 1px 1px 1px);clip: rect(1px, 1px, 1px, 1px);height: 1px;margin: -1px;overflow: hidden;padding: 0;position: absolute;width: 1px;}#sk-container-id-3 div.sk-estimator {font-family: monospace;background-color: #f0f8ff;border: 1px dotted black;border-radius: 0.25em;box-sizing: border-box;margin-bottom: 0.5em;}#sk-container-id-3 div.sk-estimator:hover {background-color: #d4ebff;}#sk-container-id-3 div.sk-parallel-item::after {content: \"\";width: 100%;border-bottom: 1px solid gray;flex-grow: 1;}#sk-container-id-3 div.sk-label:hover label.sk-toggleable__label {background-color: #d4ebff;}#sk-container-id-3 div.sk-serial::before {content: \"\";position: absolute;border-left: 1px solid gray;box-sizing: border-box;top: 0;bottom: 0;left: 50%;z-index: 0;}#sk-container-id-3 div.sk-serial {display: flex;flex-direction: column;align-items: center;background-color: white;padding-right: 0.2em;padding-left: 0.2em;position: relative;}#sk-container-id-3 div.sk-item {position: relative;z-index: 1;}#sk-container-id-3 div.sk-parallel {display: flex;align-items: stretch;justify-content: center;background-color: white;position: relative;}#sk-container-id-3 div.sk-item::before, #sk-container-id-3 div.sk-parallel-item::before {content: \"\";position: absolute;border-left: 1px solid gray;box-sizing: border-box;top: 0;bottom: 0;left: 50%;z-index: -1;}#sk-container-id-3 div.sk-parallel-item {display: flex;flex-direction: column;z-index: 1;position: relative;background-color: white;}#sk-container-id-3 div.sk-parallel-item:first-child::after {align-self: flex-end;width: 50%;}#sk-container-id-3 div.sk-parallel-item:last-child::after {align-self: flex-start;width: 50%;}#sk-container-id-3 div.sk-parallel-item:only-child::after {width: 0;}#sk-container-id-3 div.sk-dashed-wrapped {border: 1px dashed gray;margin: 0 0.4em 0.5em 0.4em;box-sizing: border-box;padding-bottom: 0.4em;background-color: white;}#sk-container-id-3 div.sk-label label {font-family: monospace;font-weight: bold;display: inline-block;line-height: 1.2em;}#sk-container-id-3 div.sk-label-container {text-align: center;}#sk-container-id-3 div.sk-container {/* jupyter's `normalize.less` sets `[hidden] { display: none; }` but bootstrap.min.css set `[hidden] { display: none !important; }` so we also need the `!important` here to be able to override the default hidden behavior on the sphinx rendered scikit-learn.org. See: https://github.com/scikit-learn/scikit-learn/issues/21755 */display: inline-block !important;position: relative;}#sk-container-id-3 div.sk-text-repr-fallback {display: none;}</style><div id=\"sk-container-id-3\" class=\"sk-top-container\"><div class=\"sk-text-repr-fallback\"><pre>DecisionTreeClassifier()</pre><b>In a Jupyter environment, please rerun this cell to show the HTML representation or trust the notebook. <br />On GitHub, the HTML representation is unable to render, please try loading this page with nbviewer.org.</b></div><div class=\"sk-container\" hidden><div class=\"sk-item\"><div class=\"sk-estimator sk-toggleable\"><input class=\"sk-toggleable__control sk-hidden--visually\" id=\"sk-estimator-id-3\" type=\"checkbox\" checked><label for=\"sk-estimator-id-3\" class=\"sk-toggleable__label sk-toggleable__label-arrow\">DecisionTreeClassifier</label><div class=\"sk-toggleable__content\"><pre>DecisionTreeClassifier()</pre></div></div></div></div></div>"
      ],
      "text/plain": [
       "DecisionTreeClassifier()"
      ]
     },
     "execution_count": 29,
     "metadata": {},
     "output_type": "execute_result"
    }
   ],
   "source": [
    "tree_model"
   ]
  },
  {
   "cell_type": "code",
   "execution_count": 30,
   "metadata": {},
   "outputs": [
    {
     "name": "stdout",
     "output_type": "stream",
     "text": [
      "digraph Tree {\n",
      "node [shape=box, fontname=\"helvetica\"] ;\n",
      "edge [fontname=\"helvetica\"] ;\n",
      "0 [label=\"mean concave points <= 0.051\\ngini = 0.461\\nsamples = 455\\nvalue = [164, 291]\"] ;\n",
      "1 [label=\"worst area <= 957.45\\ngini = 0.106\\nsamples = 286\\nvalue = [16, 270]\"] ;\n",
      "0 -> 1 [labeldistance=2.5, labelangle=45, headlabel=\"True\"] ;\n",
      "2 [label=\"area error <= 38.605\\ngini = 0.056\\nsamples = 275\\nvalue = [8, 267]\"] ;\n",
      "1 -> 2 ;\n",
      "3 [label=\"worst smoothness <= 0.178\\ngini = 0.03\\nsamples = 266\\nvalue = [4, 262]\"] ;\n",
      "2 -> 3 ;\n",
      "4 [label=\"mean concave points <= 0.05\\ngini = 0.022\\nsamples = 265\\nvalue = [3, 262]\"] ;\n",
      "3 -> 4 ;\n",
      "5 [label=\"smoothness error <= 0.003\\ngini = 0.015\\nsamples = 262\\nvalue = [2, 260]\"] ;\n",
      "4 -> 5 ;\n",
      "6 [label=\"mean symmetry <= 0.176\\ngini = 0.245\\nsamples = 7\\nvalue = [1, 6]\"] ;\n",
      "5 -> 6 ;\n",
      "7 [label=\"gini = 0.0\\nsamples = 6\\nvalue = [0, 6]\"] ;\n",
      "6 -> 7 ;\n",
      "8 [label=\"gini = 0.0\\nsamples = 1\\nvalue = [1, 0]\"] ;\n",
      "6 -> 8 ;\n",
      "9 [label=\"worst texture <= 33.27\\ngini = 0.008\\nsamples = 255\\nvalue = [1, 254]\"] ;\n",
      "5 -> 9 ;\n",
      "10 [label=\"gini = 0.0\\nsamples = 240\\nvalue = [0, 240]\"] ;\n",
      "9 -> 10 ;\n",
      "11 [label=\"worst texture <= 33.56\\ngini = 0.124\\nsamples = 15\\nvalue = [1, 14]\"] ;\n",
      "9 -> 11 ;\n",
      "12 [label=\"gini = 0.0\\nsamples = 1\\nvalue = [1, 0]\"] ;\n",
      "11 -> 12 ;\n",
      "13 [label=\"gini = 0.0\\nsamples = 14\\nvalue = [0, 14]\"] ;\n",
      "11 -> 13 ;\n",
      "14 [label=\"worst compactness <= 0.369\\ngini = 0.444\\nsamples = 3\\nvalue = [1, 2]\"] ;\n",
      "4 -> 14 ;\n",
      "15 [label=\"gini = 0.0\\nsamples = 1\\nvalue = [1, 0]\"] ;\n",
      "14 -> 15 ;\n",
      "16 [label=\"gini = 0.0\\nsamples = 2\\nvalue = [0, 2]\"] ;\n",
      "14 -> 16 ;\n",
      "17 [label=\"gini = 0.0\\nsamples = 1\\nvalue = [1, 0]\"] ;\n",
      "3 -> 17 ;\n",
      "18 [label=\"mean smoothness <= 0.091\\ngini = 0.494\\nsamples = 9\\nvalue = [4, 5]\"] ;\n",
      "2 -> 18 ;\n",
      "19 [label=\"gini = 0.0\\nsamples = 4\\nvalue = [0, 4]\"] ;\n",
      "18 -> 19 ;\n",
      "20 [label=\"mean fractal dimension <= 0.055\\ngini = 0.32\\nsamples = 5\\nvalue = [4, 1]\"] ;\n",
      "18 -> 20 ;\n",
      "21 [label=\"gini = 0.0\\nsamples = 1\\nvalue = [0, 1]\"] ;\n",
      "20 -> 21 ;\n",
      "22 [label=\"gini = 0.0\\nsamples = 4\\nvalue = [4, 0]\"] ;\n",
      "20 -> 22 ;\n",
      "23 [label=\"worst fractal dimension <= 0.065\\ngini = 0.397\\nsamples = 11\\nvalue = [8, 3]\"] ;\n",
      "1 -> 23 ;\n",
      "24 [label=\"gini = 0.0\\nsamples = 3\\nvalue = [0, 3]\"] ;\n",
      "23 -> 24 ;\n",
      "25 [label=\"gini = 0.0\\nsamples = 8\\nvalue = [8, 0]\"] ;\n",
      "23 -> 25 ;\n",
      "26 [label=\"worst concave points <= 0.147\\ngini = 0.218\\nsamples = 169\\nvalue = [148, 21]\"] ;\n",
      "0 -> 26 [labeldistance=2.5, labelangle=-45, headlabel=\"False\"] ;\n",
      "27 [label=\"worst texture <= 22.925\\ngini = 0.498\\nsamples = 36\\nvalue = [17, 19]\"] ;\n",
      "26 -> 27 ;\n",
      "28 [label=\"gini = 0.0\\nsamples = 14\\nvalue = [0, 14]\"] ;\n",
      "27 -> 28 ;\n",
      "29 [label=\"worst radius <= 15.17\\ngini = 0.351\\nsamples = 22\\nvalue = [17, 5]\"] ;\n",
      "27 -> 29 ;\n",
      "30 [label=\"worst area <= 520.7\\ngini = 0.278\\nsamples = 6\\nvalue = [1, 5]\"] ;\n",
      "29 -> 30 ;\n",
      "31 [label=\"gini = 0.0\\nsamples = 1\\nvalue = [1, 0]\"] ;\n",
      "30 -> 31 ;\n",
      "32 [label=\"gini = 0.0\\nsamples = 5\\nvalue = [0, 5]\"] ;\n",
      "30 -> 32 ;\n",
      "33 [label=\"gini = 0.0\\nsamples = 16\\nvalue = [16, 0]\"] ;\n",
      "29 -> 33 ;\n",
      "34 [label=\"worst smoothness <= 0.097\\ngini = 0.03\\nsamples = 133\\nvalue = [131, 2]\"] ;\n",
      "26 -> 34 ;\n",
      "35 [label=\"gini = 0.0\\nsamples = 1\\nvalue = [0, 1]\"] ;\n",
      "34 -> 35 ;\n",
      "36 [label=\"area error <= 13.475\\ngini = 0.015\\nsamples = 132\\nvalue = [131, 1]\"] ;\n",
      "34 -> 36 ;\n",
      "37 [label=\"gini = 0.0\\nsamples = 1\\nvalue = [0, 1]\"] ;\n",
      "36 -> 37 ;\n",
      "38 [label=\"gini = 0.0\\nsamples = 131\\nvalue = [131, 0]\"] ;\n",
      "36 -> 38 ;\n",
      "}\n"
     ]
    }
   ],
   "source": [
    "print(tree.export_graphviz(tree_model, feature_names = data['feature_names']) )\n",
    "\n",
    "with open(\"classifier.txt\", \"w\") as f:\n",
    "    f = tree.export_graphviz(tree_model, out_file=f,  feature_names = data['feature_names'])"
   ]
  },
  {
   "cell_type": "markdown",
   "metadata": {},
   "source": [
    "https://dreampuf.github.io/GraphvizOnline/"
   ]
  },
  {
   "cell_type": "code",
   "execution_count": 31,
   "metadata": {},
   "outputs": [
    {
     "name": "stdout",
     "output_type": "stream",
     "text": [
      "{'ccp_alpha': 0.0, 'class_weight': None, 'criterion': 'gini', 'max_depth': None, 'max_features': None, 'max_leaf_nodes': None, 'min_impurity_decrease': 0.0, 'min_samples_leaf': 1, 'min_samples_split': 2, 'min_weight_fraction_leaf': 0.0, 'random_state': None, 'splitter': 'best'}\n"
     ]
    }
   ],
   "source": [
    "# =============================================================================\n",
    "# Building a tree decision model\n",
    "# =============================================================================\n",
    "# especificando el modelo\n",
    "model = DecisionTreeClassifier()\n",
    "\n",
    "# vemos los parametros que puede tener\n",
    "print(model.get_params())\n",
    "params={'max_depth': [5],# Maxima pofundidad del arbol #5\n",
    "        'max_leaf_nodes': [10,15,20], # maximo de hojas del arbol #3\n",
    "        'min_impurity_decrease' : [0.01, 0.02],#2 # un nuevo nodo se harà si al hacerse se decrece la impurity en un threshold por encima del valor\n",
    "        'min_samples_split': [10,20], ##4 The minimum number of samples required to split an internal node:\n",
    "        'ccp_alpha': [0.0,0.01]#2 #240\n",
    "        }\n",
    "\n",
    "# scoring: lista de metricas a obtener\n",
    "# https://scikit-learn.org/stable/modules/model_evaluation.html#scoring-parameter\n",
    "scoring = ['accuracy', 'roc_auc']"
   ]
  },
  {
   "cell_type": "code",
   "execution_count": 32,
   "metadata": {
    "scrolled": true
   },
   "outputs": [
    {
     "name": "stdout",
     "output_type": "stream",
     "text": [
      "Fitting 5 folds for each of 24 candidates, totalling 120 fits\n",
      "[CV] END ccp_alpha=0.0, max_depth=5, max_leaf_nodes=10, min_impurity_decrease=0.01, min_samples_split=10; total time=   0.0s\n",
      "[CV] END ccp_alpha=0.0, max_depth=5, max_leaf_nodes=10, min_impurity_decrease=0.01, min_samples_split=10; total time=   0.0s\n",
      "[CV] END ccp_alpha=0.0, max_depth=5, max_leaf_nodes=10, min_impurity_decrease=0.01, min_samples_split=10; total time=   0.0s\n",
      "[CV] END ccp_alpha=0.0, max_depth=5, max_leaf_nodes=10, min_impurity_decrease=0.01, min_samples_split=10; total time=   0.0s\n",
      "[CV] END ccp_alpha=0.0, max_depth=5, max_leaf_nodes=10, min_impurity_decrease=0.01, min_samples_split=10; total time=   0.0s\n",
      "[CV] END ccp_alpha=0.0, max_depth=5, max_leaf_nodes=10, min_impurity_decrease=0.01, min_samples_split=20; total time=   0.0s\n",
      "[CV] END ccp_alpha=0.0, max_depth=5, max_leaf_nodes=10, min_impurity_decrease=0.01, min_samples_split=20; total time=   0.0s\n",
      "[CV] END ccp_alpha=0.0, max_depth=5, max_leaf_nodes=10, min_impurity_decrease=0.01, min_samples_split=20; total time=   0.0s\n",
      "[CV] END ccp_alpha=0.0, max_depth=5, max_leaf_nodes=10, min_impurity_decrease=0.01, min_samples_split=20; total time=   0.0s\n",
      "[CV] END ccp_alpha=0.0, max_depth=5, max_leaf_nodes=10, min_impurity_decrease=0.01, min_samples_split=20; total time=   0.0s\n",
      "[CV] END ccp_alpha=0.0, max_depth=5, max_leaf_nodes=10, min_impurity_decrease=0.02, min_samples_split=10; total time=   0.0s\n",
      "[CV] END ccp_alpha=0.0, max_depth=5, max_leaf_nodes=10, min_impurity_decrease=0.02, min_samples_split=10; total time=   0.0s\n",
      "[CV] END ccp_alpha=0.0, max_depth=5, max_leaf_nodes=10, min_impurity_decrease=0.02, min_samples_split=10; total time=   0.0s\n",
      "[CV] END ccp_alpha=0.0, max_depth=5, max_leaf_nodes=10, min_impurity_decrease=0.02, min_samples_split=10; total time=   0.0s\n",
      "[CV] END ccp_alpha=0.0, max_depth=5, max_leaf_nodes=10, min_impurity_decrease=0.02, min_samples_split=10; total time=   0.0s\n",
      "[CV] END ccp_alpha=0.0, max_depth=5, max_leaf_nodes=10, min_impurity_decrease=0.02, min_samples_split=20; total time=   0.0s\n",
      "[CV] END ccp_alpha=0.0, max_depth=5, max_leaf_nodes=10, min_impurity_decrease=0.02, min_samples_split=20; total time=   0.0s\n",
      "[CV] END ccp_alpha=0.0, max_depth=5, max_leaf_nodes=10, min_impurity_decrease=0.02, min_samples_split=20; total time=   0.0s\n",
      "[CV] END ccp_alpha=0.0, max_depth=5, max_leaf_nodes=10, min_impurity_decrease=0.02, min_samples_split=20; total time=   0.0s\n",
      "[CV] END ccp_alpha=0.0, max_depth=5, max_leaf_nodes=10, min_impurity_decrease=0.02, min_samples_split=20; total time=   0.0s\n",
      "[CV] END ccp_alpha=0.0, max_depth=5, max_leaf_nodes=15, min_impurity_decrease=0.01, min_samples_split=10; total time=   0.0s\n",
      "[CV] END ccp_alpha=0.0, max_depth=5, max_leaf_nodes=15, min_impurity_decrease=0.01, min_samples_split=10; total time=   0.0s\n",
      "[CV] END ccp_alpha=0.0, max_depth=5, max_leaf_nodes=15, min_impurity_decrease=0.01, min_samples_split=10; total time=   0.0s\n",
      "[CV] END ccp_alpha=0.0, max_depth=5, max_leaf_nodes=15, min_impurity_decrease=0.01, min_samples_split=10; total time=   0.0s\n",
      "[CV] END ccp_alpha=0.0, max_depth=5, max_leaf_nodes=15, min_impurity_decrease=0.01, min_samples_split=10; total time=   0.0s\n",
      "[CV] END ccp_alpha=0.0, max_depth=5, max_leaf_nodes=15, min_impurity_decrease=0.01, min_samples_split=20; total time=   0.0s\n",
      "[CV] END ccp_alpha=0.0, max_depth=5, max_leaf_nodes=15, min_impurity_decrease=0.01, min_samples_split=20; total time=   0.0s\n",
      "[CV] END ccp_alpha=0.0, max_depth=5, max_leaf_nodes=15, min_impurity_decrease=0.01, min_samples_split=20; total time=   0.0s\n"
     ]
    },
    {
     "name": "stdout",
     "output_type": "stream",
     "text": [
      "[CV] END ccp_alpha=0.0, max_depth=5, max_leaf_nodes=15, min_impurity_decrease=0.01, min_samples_split=20; total time=   0.0s\n",
      "[CV] END ccp_alpha=0.0, max_depth=5, max_leaf_nodes=15, min_impurity_decrease=0.01, min_samples_split=20; total time=   0.0s\n",
      "[CV] END ccp_alpha=0.0, max_depth=5, max_leaf_nodes=15, min_impurity_decrease=0.02, min_samples_split=10; total time=   0.0s\n",
      "[CV] END ccp_alpha=0.0, max_depth=5, max_leaf_nodes=15, min_impurity_decrease=0.02, min_samples_split=10; total time=   0.0s\n",
      "[CV] END ccp_alpha=0.0, max_depth=5, max_leaf_nodes=15, min_impurity_decrease=0.02, min_samples_split=10; total time=   0.0s\n",
      "[CV] END ccp_alpha=0.0, max_depth=5, max_leaf_nodes=15, min_impurity_decrease=0.02, min_samples_split=10; total time=   0.0s\n",
      "[CV] END ccp_alpha=0.0, max_depth=5, max_leaf_nodes=15, min_impurity_decrease=0.02, min_samples_split=10; total time=   0.0s\n",
      "[CV] END ccp_alpha=0.0, max_depth=5, max_leaf_nodes=15, min_impurity_decrease=0.02, min_samples_split=20; total time=   0.0s\n",
      "[CV] END ccp_alpha=0.0, max_depth=5, max_leaf_nodes=15, min_impurity_decrease=0.02, min_samples_split=20; total time=   0.0s\n",
      "[CV] END ccp_alpha=0.0, max_depth=5, max_leaf_nodes=15, min_impurity_decrease=0.02, min_samples_split=20; total time=   0.0s\n",
      "[CV] END ccp_alpha=0.0, max_depth=5, max_leaf_nodes=15, min_impurity_decrease=0.02, min_samples_split=20; total time=   0.0s\n",
      "[CV] END ccp_alpha=0.0, max_depth=5, max_leaf_nodes=15, min_impurity_decrease=0.02, min_samples_split=20; total time=   0.0s\n",
      "[CV] END ccp_alpha=0.0, max_depth=5, max_leaf_nodes=20, min_impurity_decrease=0.01, min_samples_split=10; total time=   0.0s\n",
      "[CV] END ccp_alpha=0.0, max_depth=5, max_leaf_nodes=20, min_impurity_decrease=0.01, min_samples_split=10; total time=   0.0s\n",
      "[CV] END ccp_alpha=0.0, max_depth=5, max_leaf_nodes=20, min_impurity_decrease=0.01, min_samples_split=10; total time=   0.0s\n",
      "[CV] END ccp_alpha=0.0, max_depth=5, max_leaf_nodes=20, min_impurity_decrease=0.01, min_samples_split=10; total time=   0.0s\n",
      "[CV] END ccp_alpha=0.0, max_depth=5, max_leaf_nodes=20, min_impurity_decrease=0.01, min_samples_split=10; total time=   0.0s\n",
      "[CV] END ccp_alpha=0.0, max_depth=5, max_leaf_nodes=20, min_impurity_decrease=0.01, min_samples_split=20; total time=   0.0s\n",
      "[CV] END ccp_alpha=0.0, max_depth=5, max_leaf_nodes=20, min_impurity_decrease=0.01, min_samples_split=20; total time=   0.0s\n",
      "[CV] END ccp_alpha=0.0, max_depth=5, max_leaf_nodes=20, min_impurity_decrease=0.01, min_samples_split=20; total time=   0.0s\n",
      "[CV] END ccp_alpha=0.0, max_depth=5, max_leaf_nodes=20, min_impurity_decrease=0.01, min_samples_split=20; total time=   0.0s\n",
      "[CV] END ccp_alpha=0.0, max_depth=5, max_leaf_nodes=20, min_impurity_decrease=0.01, min_samples_split=20; total time=   0.0s\n",
      "[CV] END ccp_alpha=0.0, max_depth=5, max_leaf_nodes=20, min_impurity_decrease=0.02, min_samples_split=10; total time=   0.0s\n",
      "[CV] END ccp_alpha=0.0, max_depth=5, max_leaf_nodes=20, min_impurity_decrease=0.02, min_samples_split=10; total time=   0.0s\n",
      "[CV] END ccp_alpha=0.0, max_depth=5, max_leaf_nodes=20, min_impurity_decrease=0.02, min_samples_split=10; total time=   0.0s\n",
      "[CV] END ccp_alpha=0.0, max_depth=5, max_leaf_nodes=20, min_impurity_decrease=0.02, min_samples_split=10; total time=   0.0s\n",
      "[CV] END ccp_alpha=0.0, max_depth=5, max_leaf_nodes=20, min_impurity_decrease=0.02, min_samples_split=10; total time=   0.0s\n",
      "[CV] END ccp_alpha=0.0, max_depth=5, max_leaf_nodes=20, min_impurity_decrease=0.02, min_samples_split=20; total time=   0.0s\n",
      "[CV] END ccp_alpha=0.0, max_depth=5, max_leaf_nodes=20, min_impurity_decrease=0.02, min_samples_split=20; total time=   0.0s\n",
      "[CV] END ccp_alpha=0.0, max_depth=5, max_leaf_nodes=20, min_impurity_decrease=0.02, min_samples_split=20; total time=   0.0s\n",
      "[CV] END ccp_alpha=0.0, max_depth=5, max_leaf_nodes=20, min_impurity_decrease=0.02, min_samples_split=20; total time=   0.0s\n",
      "[CV] END ccp_alpha=0.0, max_depth=5, max_leaf_nodes=20, min_impurity_decrease=0.02, min_samples_split=20; total time=   0.0s\n",
      "[CV] END ccp_alpha=0.01, max_depth=5, max_leaf_nodes=10, min_impurity_decrease=0.01, min_samples_split=10; total time=   0.0s\n",
      "[CV] END ccp_alpha=0.01, max_depth=5, max_leaf_nodes=10, min_impurity_decrease=0.01, min_samples_split=10; total time=   0.0s\n",
      "[CV] END ccp_alpha=0.01, max_depth=5, max_leaf_nodes=10, min_impurity_decrease=0.01, min_samples_split=10; total time=   0.0s\n",
      "[CV] END ccp_alpha=0.01, max_depth=5, max_leaf_nodes=10, min_impurity_decrease=0.01, min_samples_split=10; total time=   0.0s\n",
      "[CV] END ccp_alpha=0.01, max_depth=5, max_leaf_nodes=10, min_impurity_decrease=0.01, min_samples_split=10; total time=   0.0s\n",
      "[CV] END ccp_alpha=0.01, max_depth=5, max_leaf_nodes=10, min_impurity_decrease=0.01, min_samples_split=20; total time=   0.0s\n",
      "[CV] END ccp_alpha=0.01, max_depth=5, max_leaf_nodes=10, min_impurity_decrease=0.01, min_samples_split=20; total time=   0.0s\n",
      "[CV] END ccp_alpha=0.01, max_depth=5, max_leaf_nodes=10, min_impurity_decrease=0.01, min_samples_split=20; total time=   0.0s\n",
      "[CV] END ccp_alpha=0.01, max_depth=5, max_leaf_nodes=10, min_impurity_decrease=0.01, min_samples_split=20; total time=   0.0s\n",
      "[CV] END ccp_alpha=0.01, max_depth=5, max_leaf_nodes=10, min_impurity_decrease=0.01, min_samples_split=20; total time=   0.0s\n",
      "[CV] END ccp_alpha=0.01, max_depth=5, max_leaf_nodes=10, min_impurity_decrease=0.02, min_samples_split=10; total time=   0.0s\n",
      "[CV] END ccp_alpha=0.01, max_depth=5, max_leaf_nodes=10, min_impurity_decrease=0.02, min_samples_split=10; total time=   0.0s\n",
      "[CV] END ccp_alpha=0.01, max_depth=5, max_leaf_nodes=10, min_impurity_decrease=0.02, min_samples_split=10; total time=   0.0s\n",
      "[CV] END ccp_alpha=0.01, max_depth=5, max_leaf_nodes=10, min_impurity_decrease=0.02, min_samples_split=10; total time=   0.0s\n",
      "[CV] END ccp_alpha=0.01, max_depth=5, max_leaf_nodes=10, min_impurity_decrease=0.02, min_samples_split=10; total time=   0.0s\n",
      "[CV] END ccp_alpha=0.01, max_depth=5, max_leaf_nodes=10, min_impurity_decrease=0.02, min_samples_split=20; total time=   0.0s\n",
      "[CV] END ccp_alpha=0.01, max_depth=5, max_leaf_nodes=10, min_impurity_decrease=0.02, min_samples_split=20; total time=   0.0s\n",
      "[CV] END ccp_alpha=0.01, max_depth=5, max_leaf_nodes=10, min_impurity_decrease=0.02, min_samples_split=20; total time=   0.0s\n",
      "[CV] END ccp_alpha=0.01, max_depth=5, max_leaf_nodes=10, min_impurity_decrease=0.02, min_samples_split=20; total time=   0.0s\n",
      "[CV] END ccp_alpha=0.01, max_depth=5, max_leaf_nodes=10, min_impurity_decrease=0.02, min_samples_split=20; total time=   0.0s\n",
      "[CV] END ccp_alpha=0.01, max_depth=5, max_leaf_nodes=15, min_impurity_decrease=0.01, min_samples_split=10; total time=   0.0s\n",
      "[CV] END ccp_alpha=0.01, max_depth=5, max_leaf_nodes=15, min_impurity_decrease=0.01, min_samples_split=10; total time=   0.0s\n",
      "[CV] END ccp_alpha=0.01, max_depth=5, max_leaf_nodes=15, min_impurity_decrease=0.01, min_samples_split=10; total time=   0.0s\n",
      "[CV] END ccp_alpha=0.01, max_depth=5, max_leaf_nodes=15, min_impurity_decrease=0.01, min_samples_split=10; total time=   0.0s\n",
      "[CV] END ccp_alpha=0.01, max_depth=5, max_leaf_nodes=15, min_impurity_decrease=0.01, min_samples_split=10; total time=   0.0s\n",
      "[CV] END ccp_alpha=0.01, max_depth=5, max_leaf_nodes=15, min_impurity_decrease=0.01, min_samples_split=20; total time=   0.0s\n",
      "[CV] END ccp_alpha=0.01, max_depth=5, max_leaf_nodes=15, min_impurity_decrease=0.01, min_samples_split=20; total time=   0.0s\n",
      "[CV] END ccp_alpha=0.01, max_depth=5, max_leaf_nodes=15, min_impurity_decrease=0.01, min_samples_split=20; total time=   0.0s\n",
      "[CV] END ccp_alpha=0.01, max_depth=5, max_leaf_nodes=15, min_impurity_decrease=0.01, min_samples_split=20; total time=   0.0s\n",
      "[CV] END ccp_alpha=0.01, max_depth=5, max_leaf_nodes=15, min_impurity_decrease=0.01, min_samples_split=20; total time=   0.0s\n",
      "[CV] END ccp_alpha=0.01, max_depth=5, max_leaf_nodes=15, min_impurity_decrease=0.02, min_samples_split=10; total time=   0.0s\n",
      "[CV] END ccp_alpha=0.01, max_depth=5, max_leaf_nodes=15, min_impurity_decrease=0.02, min_samples_split=10; total time=   0.0s\n",
      "[CV] END ccp_alpha=0.01, max_depth=5, max_leaf_nodes=15, min_impurity_decrease=0.02, min_samples_split=10; total time=   0.0s\n",
      "[CV] END ccp_alpha=0.01, max_depth=5, max_leaf_nodes=15, min_impurity_decrease=0.02, min_samples_split=10; total time=   0.0s\n",
      "[CV] END ccp_alpha=0.01, max_depth=5, max_leaf_nodes=15, min_impurity_decrease=0.02, min_samples_split=10; total time=   0.0s\n",
      "[CV] END ccp_alpha=0.01, max_depth=5, max_leaf_nodes=15, min_impurity_decrease=0.02, min_samples_split=20; total time=   0.0s\n",
      "[CV] END ccp_alpha=0.01, max_depth=5, max_leaf_nodes=15, min_impurity_decrease=0.02, min_samples_split=20; total time=   0.0s\n",
      "[CV] END ccp_alpha=0.01, max_depth=5, max_leaf_nodes=15, min_impurity_decrease=0.02, min_samples_split=20; total time=   0.0s\n",
      "[CV] END ccp_alpha=0.01, max_depth=5, max_leaf_nodes=15, min_impurity_decrease=0.02, min_samples_split=20; total time=   0.0s\n",
      "[CV] END ccp_alpha=0.01, max_depth=5, max_leaf_nodes=15, min_impurity_decrease=0.02, min_samples_split=20; total time=   0.0s\n",
      "[CV] END ccp_alpha=0.01, max_depth=5, max_leaf_nodes=20, min_impurity_decrease=0.01, min_samples_split=10; total time=   0.0s\n",
      "[CV] END ccp_alpha=0.01, max_depth=5, max_leaf_nodes=20, min_impurity_decrease=0.01, min_samples_split=10; total time=   0.0s\n",
      "[CV] END ccp_alpha=0.01, max_depth=5, max_leaf_nodes=20, min_impurity_decrease=0.01, min_samples_split=10; total time=   0.0s\n",
      "[CV] END ccp_alpha=0.01, max_depth=5, max_leaf_nodes=20, min_impurity_decrease=0.01, min_samples_split=10; total time=   0.0s\n",
      "[CV] END ccp_alpha=0.01, max_depth=5, max_leaf_nodes=20, min_impurity_decrease=0.01, min_samples_split=10; total time=   0.0s\n",
      "[CV] END ccp_alpha=0.01, max_depth=5, max_leaf_nodes=20, min_impurity_decrease=0.01, min_samples_split=20; total time=   0.0s\n",
      "[CV] END ccp_alpha=0.01, max_depth=5, max_leaf_nodes=20, min_impurity_decrease=0.01, min_samples_split=20; total time=   0.0s\n",
      "[CV] END ccp_alpha=0.01, max_depth=5, max_leaf_nodes=20, min_impurity_decrease=0.01, min_samples_split=20; total time=   0.0s\n",
      "[CV] END ccp_alpha=0.01, max_depth=5, max_leaf_nodes=20, min_impurity_decrease=0.01, min_samples_split=20; total time=   0.0s\n",
      "[CV] END ccp_alpha=0.01, max_depth=5, max_leaf_nodes=20, min_impurity_decrease=0.01, min_samples_split=20; total time=   0.0s\n",
      "[CV] END ccp_alpha=0.01, max_depth=5, max_leaf_nodes=20, min_impurity_decrease=0.02, min_samples_split=10; total time=   0.0s\n",
      "[CV] END ccp_alpha=0.01, max_depth=5, max_leaf_nodes=20, min_impurity_decrease=0.02, min_samples_split=10; total time=   0.0s\n",
      "[CV] END ccp_alpha=0.01, max_depth=5, max_leaf_nodes=20, min_impurity_decrease=0.02, min_samples_split=10; total time=   0.0s\n",
      "[CV] END ccp_alpha=0.01, max_depth=5, max_leaf_nodes=20, min_impurity_decrease=0.02, min_samples_split=10; total time=   0.0s\n",
      "[CV] END ccp_alpha=0.01, max_depth=5, max_leaf_nodes=20, min_impurity_decrease=0.02, min_samples_split=10; total time=   0.0s\n",
      "[CV] END ccp_alpha=0.01, max_depth=5, max_leaf_nodes=20, min_impurity_decrease=0.02, min_samples_split=20; total time=   0.0s\n",
      "[CV] END ccp_alpha=0.01, max_depth=5, max_leaf_nodes=20, min_impurity_decrease=0.02, min_samples_split=20; total time=   0.0s\n",
      "[CV] END ccp_alpha=0.01, max_depth=5, max_leaf_nodes=20, min_impurity_decrease=0.02, min_samples_split=20; total time=   0.0s\n",
      "[CV] END ccp_alpha=0.01, max_depth=5, max_leaf_nodes=20, min_impurity_decrease=0.02, min_samples_split=20; total time=   0.0s\n",
      "[CV] END ccp_alpha=0.01, max_depth=5, max_leaf_nodes=20, min_impurity_decrease=0.02, min_samples_split=20; total time=   0.0s\n",
      "Mejor score: 0.9390024772860104\n",
      "Mejores parametros: {'ccp_alpha': 0.01, 'max_depth': 5, 'max_leaf_nodes': 20, 'min_impurity_decrease': 0.01, 'min_samples_split': 10}\n",
      "Train Score: 0.9724562065208281\n",
      "Test Score: 0.9261363636363636\n",
      "Train AUC: 0.9724562065208281\n",
      "Train Accuracy: 0.9692307692307692\n",
      "Test AUC: 0.9261363636363636\n",
      "Test Accuracy: 0.9473684210526315\n"
     ]
    }
   ],
   "source": [
    "# CV (cross validación)\n",
    "n_cv=5 # 5 folds\n",
    "# creamos la GridSeacrh # cross-validation\n",
    "grid_solver = GridSearchCV(estimator = model, # model to train\n",
    "                   param_grid = params, # param_grid\n",
    "                   scoring = scoring,\n",
    "                   cv = n_cv,\n",
    "                   refit = 'roc_auc', # cuando tienes mas de un score para tener un criterio de cual es el mejor modelo\n",
    "                   verbose = 2)\n",
    "\n",
    "\n",
    "\n",
    "model_result = grid_solver.fit(X_train,y_train)\n",
    "# hemos ajustado el modelo\n",
    "\n",
    "# best score es la media del best estimator\n",
    "print(\"Mejor score:\", model_result.best_score_)\n",
    "# tenemos los mejores parametros\n",
    "print(\"Mejores parametros:\",model_result.best_params_)\n",
    "\n",
    "# En este caso el score devuelve el roc_auc\n",
    "print(\"Train Score:\", model_result.score(X_train,y_train)) # score devulve la metrica del refit\n",
    "print(\"Test Score:\", model_result.score(X_test,y_test))\n",
    "# Train\n",
    "y_pred=model_result.predict(X_train)\n",
    "probs=model_result.predict_proba(X_train)\n",
    "print(\"Train AUC:\", sklearn.metrics.roc_auc_score(y_train,probs[:,1]))\n",
    "print(\"Train Accuracy:\", sklearn.metrics.accuracy_score(y_train,y_pred))\n",
    "\n",
    "# test\n",
    "model_result.score(X_test,y_test)\n",
    "y_pred=model_result.predict(X_test)\n",
    "probs=model_result.predict_proba(X_test)\n",
    "print(\"Test AUC:\", sklearn.metrics.roc_auc_score(y_test,probs[:,1]))\n",
    "print(\"Test Accuracy:\", sklearn.metrics.accuracy_score(y_test,y_pred))"
   ]
  },
  {
   "cell_type": "code",
   "execution_count": 33,
   "metadata": {},
   "outputs": [],
   "source": [
    "# tenemos un atributo del mejor modelo\n",
    "best_model=model_result.best_estimator_\n",
    "\n",
    "\n",
    "# nos quedamos con el mejor modelo y reestimamos con toda la muestra\n",
    "final_model=best_model.fit(X,y)"
   ]
  },
  {
   "cell_type": "code",
   "execution_count": 34,
   "metadata": {},
   "outputs": [
    {
     "data": {
      "text/html": [
       "<style>#sk-container-id-4 {color: black;background-color: white;}#sk-container-id-4 pre{padding: 0;}#sk-container-id-4 div.sk-toggleable {background-color: white;}#sk-container-id-4 label.sk-toggleable__label {cursor: pointer;display: block;width: 100%;margin-bottom: 0;padding: 0.3em;box-sizing: border-box;text-align: center;}#sk-container-id-4 label.sk-toggleable__label-arrow:before {content: \"▸\";float: left;margin-right: 0.25em;color: #696969;}#sk-container-id-4 label.sk-toggleable__label-arrow:hover:before {color: black;}#sk-container-id-4 div.sk-estimator:hover label.sk-toggleable__label-arrow:before {color: black;}#sk-container-id-4 div.sk-toggleable__content {max-height: 0;max-width: 0;overflow: hidden;text-align: left;background-color: #f0f8ff;}#sk-container-id-4 div.sk-toggleable__content pre {margin: 0.2em;color: black;border-radius: 0.25em;background-color: #f0f8ff;}#sk-container-id-4 input.sk-toggleable__control:checked~div.sk-toggleable__content {max-height: 200px;max-width: 100%;overflow: auto;}#sk-container-id-4 input.sk-toggleable__control:checked~label.sk-toggleable__label-arrow:before {content: \"▾\";}#sk-container-id-4 div.sk-estimator input.sk-toggleable__control:checked~label.sk-toggleable__label {background-color: #d4ebff;}#sk-container-id-4 div.sk-label input.sk-toggleable__control:checked~label.sk-toggleable__label {background-color: #d4ebff;}#sk-container-id-4 input.sk-hidden--visually {border: 0;clip: rect(1px 1px 1px 1px);clip: rect(1px, 1px, 1px, 1px);height: 1px;margin: -1px;overflow: hidden;padding: 0;position: absolute;width: 1px;}#sk-container-id-4 div.sk-estimator {font-family: monospace;background-color: #f0f8ff;border: 1px dotted black;border-radius: 0.25em;box-sizing: border-box;margin-bottom: 0.5em;}#sk-container-id-4 div.sk-estimator:hover {background-color: #d4ebff;}#sk-container-id-4 div.sk-parallel-item::after {content: \"\";width: 100%;border-bottom: 1px solid gray;flex-grow: 1;}#sk-container-id-4 div.sk-label:hover label.sk-toggleable__label {background-color: #d4ebff;}#sk-container-id-4 div.sk-serial::before {content: \"\";position: absolute;border-left: 1px solid gray;box-sizing: border-box;top: 0;bottom: 0;left: 50%;z-index: 0;}#sk-container-id-4 div.sk-serial {display: flex;flex-direction: column;align-items: center;background-color: white;padding-right: 0.2em;padding-left: 0.2em;position: relative;}#sk-container-id-4 div.sk-item {position: relative;z-index: 1;}#sk-container-id-4 div.sk-parallel {display: flex;align-items: stretch;justify-content: center;background-color: white;position: relative;}#sk-container-id-4 div.sk-item::before, #sk-container-id-4 div.sk-parallel-item::before {content: \"\";position: absolute;border-left: 1px solid gray;box-sizing: border-box;top: 0;bottom: 0;left: 50%;z-index: -1;}#sk-container-id-4 div.sk-parallel-item {display: flex;flex-direction: column;z-index: 1;position: relative;background-color: white;}#sk-container-id-4 div.sk-parallel-item:first-child::after {align-self: flex-end;width: 50%;}#sk-container-id-4 div.sk-parallel-item:last-child::after {align-self: flex-start;width: 50%;}#sk-container-id-4 div.sk-parallel-item:only-child::after {width: 0;}#sk-container-id-4 div.sk-dashed-wrapped {border: 1px dashed gray;margin: 0 0.4em 0.5em 0.4em;box-sizing: border-box;padding-bottom: 0.4em;background-color: white;}#sk-container-id-4 div.sk-label label {font-family: monospace;font-weight: bold;display: inline-block;line-height: 1.2em;}#sk-container-id-4 div.sk-label-container {text-align: center;}#sk-container-id-4 div.sk-container {/* jupyter's `normalize.less` sets `[hidden] { display: none; }` but bootstrap.min.css set `[hidden] { display: none !important; }` so we also need the `!important` here to be able to override the default hidden behavior on the sphinx rendered scikit-learn.org. See: https://github.com/scikit-learn/scikit-learn/issues/21755 */display: inline-block !important;position: relative;}#sk-container-id-4 div.sk-text-repr-fallback {display: none;}</style><div id=\"sk-container-id-4\" class=\"sk-top-container\"><div class=\"sk-text-repr-fallback\"><pre>DecisionTreeClassifier(ccp_alpha=0.01, max_depth=5, max_leaf_nodes=20,\n",
       "                       min_impurity_decrease=0.01, min_samples_split=10)</pre><b>In a Jupyter environment, please rerun this cell to show the HTML representation or trust the notebook. <br />On GitHub, the HTML representation is unable to render, please try loading this page with nbviewer.org.</b></div><div class=\"sk-container\" hidden><div class=\"sk-item\"><div class=\"sk-estimator sk-toggleable\"><input class=\"sk-toggleable__control sk-hidden--visually\" id=\"sk-estimator-id-4\" type=\"checkbox\" checked><label for=\"sk-estimator-id-4\" class=\"sk-toggleable__label sk-toggleable__label-arrow\">DecisionTreeClassifier</label><div class=\"sk-toggleable__content\"><pre>DecisionTreeClassifier(ccp_alpha=0.01, max_depth=5, max_leaf_nodes=20,\n",
       "                       min_impurity_decrease=0.01, min_samples_split=10)</pre></div></div></div></div></div>"
      ],
      "text/plain": [
       "DecisionTreeClassifier(ccp_alpha=0.01, max_depth=5, max_leaf_nodes=20,\n",
       "                       min_impurity_decrease=0.01, min_samples_split=10)"
      ]
     },
     "execution_count": 34,
     "metadata": {},
     "output_type": "execute_result"
    }
   ],
   "source": [
    "best_model"
   ]
  },
  {
   "cell_type": "markdown",
   "metadata": {},
   "source": [
    "# importancia de variables\n",
    "https://stackoverflow.com/questions/49170296/scikit-learn-feature-importance-calculation-in-decision-trees"
   ]
  },
  {
   "cell_type": "code",
   "execution_count": 35,
   "metadata": {},
   "outputs": [
    {
     "name": "stdout",
     "output_type": "stream",
     "text": [
      "                 feature importance\n",
      "20          worst radius   0.769188\n",
      "27  worst concave points   0.153638\n",
      "21         worst texture   0.077174\n",
      "0            mean radius        0.0\n",
      "1           mean texture        0.0\n",
      "28        worst symmetry        0.0\n",
      "26       worst concavity        0.0\n",
      "25     worst compactness        0.0\n",
      "24      worst smoothness        0.0\n",
      "23            worst area        0.0\n"
     ]
    }
   ],
   "source": [
    "\n",
    "importances=pd.DataFrame([X.columns,final_model.feature_importances_], index=[\"feature\",\"importance\"]).T\n",
    "print(importances.sort_values(\"importance\", ascending = False).head(10))"
   ]
  },
  {
   "cell_type": "code",
   "execution_count": 36,
   "metadata": {},
   "outputs": [],
   "source": [
    "# resultados de la cross validation con parameter tunning\n",
    "results=model_result.cv_results_\n",
    "results=pd.DataFrame(results)"
   ]
  },
  {
   "cell_type": "code",
   "execution_count": 37,
   "metadata": {},
   "outputs": [
    {
     "data": {
      "text/html": [
       "<div>\n",
       "<style scoped>\n",
       "    .dataframe tbody tr th:only-of-type {\n",
       "        vertical-align: middle;\n",
       "    }\n",
       "\n",
       "    .dataframe tbody tr th {\n",
       "        vertical-align: top;\n",
       "    }\n",
       "\n",
       "    .dataframe thead th {\n",
       "        text-align: right;\n",
       "    }\n",
       "</style>\n",
       "<table border=\"1\" class=\"dataframe\">\n",
       "  <thead>\n",
       "    <tr style=\"text-align: right;\">\n",
       "      <th></th>\n",
       "      <th>0</th>\n",
       "      <th>1</th>\n",
       "    </tr>\n",
       "  </thead>\n",
       "  <tbody>\n",
       "    <tr>\n",
       "      <th>mean_fit_time</th>\n",
       "      <td>0.014165</td>\n",
       "      <td>0.013561</td>\n",
       "    </tr>\n",
       "    <tr>\n",
       "      <th>std_fit_time</th>\n",
       "      <td>0.001932</td>\n",
       "      <td>0.001952</td>\n",
       "    </tr>\n",
       "    <tr>\n",
       "      <th>mean_score_time</th>\n",
       "      <td>0.012763</td>\n",
       "      <td>0.014055</td>\n",
       "    </tr>\n",
       "    <tr>\n",
       "      <th>std_score_time</th>\n",
       "      <td>0.002309</td>\n",
       "      <td>0.001344</td>\n",
       "    </tr>\n",
       "    <tr>\n",
       "      <th>param_ccp_alpha</th>\n",
       "      <td>0.0</td>\n",
       "      <td>0.0</td>\n",
       "    </tr>\n",
       "    <tr>\n",
       "      <th>param_max_depth</th>\n",
       "      <td>5</td>\n",
       "      <td>5</td>\n",
       "    </tr>\n",
       "    <tr>\n",
       "      <th>param_max_leaf_nodes</th>\n",
       "      <td>10</td>\n",
       "      <td>10</td>\n",
       "    </tr>\n",
       "    <tr>\n",
       "      <th>param_min_impurity_decrease</th>\n",
       "      <td>0.01</td>\n",
       "      <td>0.01</td>\n",
       "    </tr>\n",
       "    <tr>\n",
       "      <th>param_min_samples_split</th>\n",
       "      <td>10</td>\n",
       "      <td>20</td>\n",
       "    </tr>\n",
       "    <tr>\n",
       "      <th>params</th>\n",
       "      <td>{'ccp_alpha': 0.0, 'max_depth': 5, 'max_leaf_n...</td>\n",
       "      <td>{'ccp_alpha': 0.0, 'max_depth': 5, 'max_leaf_n...</td>\n",
       "    </tr>\n",
       "    <tr>\n",
       "      <th>split0_test_accuracy</th>\n",
       "      <td>0.934066</td>\n",
       "      <td>0.956044</td>\n",
       "    </tr>\n",
       "    <tr>\n",
       "      <th>split1_test_accuracy</th>\n",
       "      <td>0.945055</td>\n",
       "      <td>0.945055</td>\n",
       "    </tr>\n",
       "    <tr>\n",
       "      <th>split2_test_accuracy</th>\n",
       "      <td>0.923077</td>\n",
       "      <td>0.923077</td>\n",
       "    </tr>\n",
       "    <tr>\n",
       "      <th>split3_test_accuracy</th>\n",
       "      <td>0.857143</td>\n",
       "      <td>0.857143</td>\n",
       "    </tr>\n",
       "    <tr>\n",
       "      <th>split4_test_accuracy</th>\n",
       "      <td>0.934066</td>\n",
       "      <td>0.901099</td>\n",
       "    </tr>\n",
       "    <tr>\n",
       "      <th>mean_test_accuracy</th>\n",
       "      <td>0.918681</td>\n",
       "      <td>0.916484</td>\n",
       "    </tr>\n",
       "    <tr>\n",
       "      <th>std_test_accuracy</th>\n",
       "      <td>0.031544</td>\n",
       "      <td>0.035165</td>\n",
       "    </tr>\n",
       "    <tr>\n",
       "      <th>rank_test_accuracy</th>\n",
       "      <td>4</td>\n",
       "      <td>6</td>\n",
       "    </tr>\n",
       "    <tr>\n",
       "      <th>split0_test_roc_auc</th>\n",
       "      <td>0.910752</td>\n",
       "      <td>0.952066</td>\n",
       "    </tr>\n",
       "    <tr>\n",
       "      <th>split1_test_roc_auc</th>\n",
       "      <td>0.97884</td>\n",
       "      <td>0.97884</td>\n",
       "    </tr>\n",
       "    <tr>\n",
       "      <th>split2_test_roc_auc</th>\n",
       "      <td>0.92163</td>\n",
       "      <td>0.933386</td>\n",
       "    </tr>\n",
       "    <tr>\n",
       "      <th>split3_test_roc_auc</th>\n",
       "      <td>0.881923</td>\n",
       "      <td>0.881923</td>\n",
       "    </tr>\n",
       "    <tr>\n",
       "      <th>split4_test_roc_auc</th>\n",
       "      <td>0.928945</td>\n",
       "      <td>0.945141</td>\n",
       "    </tr>\n",
       "    <tr>\n",
       "      <th>mean_test_roc_auc</th>\n",
       "      <td>0.924418</td>\n",
       "      <td>0.938271</td>\n",
       "    </tr>\n",
       "    <tr>\n",
       "      <th>std_test_roc_auc</th>\n",
       "      <td>0.031568</td>\n",
       "      <td>0.031882</td>\n",
       "    </tr>\n",
       "    <tr>\n",
       "      <th>rank_test_roc_auc</th>\n",
       "      <td>10</td>\n",
       "      <td>3</td>\n",
       "    </tr>\n",
       "  </tbody>\n",
       "</table>\n",
       "</div>"
      ],
      "text/plain": [
       "                                                                             0  \\\n",
       "mean_fit_time                                                         0.014165   \n",
       "std_fit_time                                                          0.001932   \n",
       "mean_score_time                                                       0.012763   \n",
       "std_score_time                                                        0.002309   \n",
       "param_ccp_alpha                                                            0.0   \n",
       "param_max_depth                                                              5   \n",
       "param_max_leaf_nodes                                                        10   \n",
       "param_min_impurity_decrease                                               0.01   \n",
       "param_min_samples_split                                                     10   \n",
       "params                       {'ccp_alpha': 0.0, 'max_depth': 5, 'max_leaf_n...   \n",
       "split0_test_accuracy                                                  0.934066   \n",
       "split1_test_accuracy                                                  0.945055   \n",
       "split2_test_accuracy                                                  0.923077   \n",
       "split3_test_accuracy                                                  0.857143   \n",
       "split4_test_accuracy                                                  0.934066   \n",
       "mean_test_accuracy                                                    0.918681   \n",
       "std_test_accuracy                                                     0.031544   \n",
       "rank_test_accuracy                                                           4   \n",
       "split0_test_roc_auc                                                   0.910752   \n",
       "split1_test_roc_auc                                                    0.97884   \n",
       "split2_test_roc_auc                                                    0.92163   \n",
       "split3_test_roc_auc                                                   0.881923   \n",
       "split4_test_roc_auc                                                   0.928945   \n",
       "mean_test_roc_auc                                                     0.924418   \n",
       "std_test_roc_auc                                                      0.031568   \n",
       "rank_test_roc_auc                                                           10   \n",
       "\n",
       "                                                                             1  \n",
       "mean_fit_time                                                         0.013561  \n",
       "std_fit_time                                                          0.001952  \n",
       "mean_score_time                                                       0.014055  \n",
       "std_score_time                                                        0.001344  \n",
       "param_ccp_alpha                                                            0.0  \n",
       "param_max_depth                                                              5  \n",
       "param_max_leaf_nodes                                                        10  \n",
       "param_min_impurity_decrease                                               0.01  \n",
       "param_min_samples_split                                                     20  \n",
       "params                       {'ccp_alpha': 0.0, 'max_depth': 5, 'max_leaf_n...  \n",
       "split0_test_accuracy                                                  0.956044  \n",
       "split1_test_accuracy                                                  0.945055  \n",
       "split2_test_accuracy                                                  0.923077  \n",
       "split3_test_accuracy                                                  0.857143  \n",
       "split4_test_accuracy                                                  0.901099  \n",
       "mean_test_accuracy                                                    0.916484  \n",
       "std_test_accuracy                                                     0.035165  \n",
       "rank_test_accuracy                                                           6  \n",
       "split0_test_roc_auc                                                   0.952066  \n",
       "split1_test_roc_auc                                                    0.97884  \n",
       "split2_test_roc_auc                                                   0.933386  \n",
       "split3_test_roc_auc                                                   0.881923  \n",
       "split4_test_roc_auc                                                   0.945141  \n",
       "mean_test_roc_auc                                                     0.938271  \n",
       "std_test_roc_auc                                                      0.031882  \n",
       "rank_test_roc_auc                                                            3  "
      ]
     },
     "execution_count": 37,
     "metadata": {},
     "output_type": "execute_result"
    }
   ],
   "source": [
    "results.head(2).T"
   ]
  },
  {
   "cell_type": "code",
   "execution_count": 51,
   "metadata": {
    "scrolled": true
   },
   "outputs": [
    {
     "name": "stderr",
     "output_type": "stream",
     "text": [
      "e:\\Apps\\ANACONDA\\Lib\\site-packages\\seaborn\\_oldcore.py:1119: FutureWarning: use_inf_as_na option is deprecated and will be removed in a future version. Convert inf values to NaN before operating instead.\n",
      "  with pd.option_context('mode.use_inf_as_na', True):\n",
      "e:\\Apps\\ANACONDA\\Lib\\site-packages\\seaborn\\_oldcore.py:1119: FutureWarning: use_inf_as_na option is deprecated and will be removed in a future version. Convert inf values to NaN before operating instead.\n",
      "  with pd.option_context('mode.use_inf_as_na', True):\n"
     ]
    },
    {
     "data": {
      "text/plain": [
       "<seaborn.axisgrid.FacetGrid at 0x2960cfb7910>"
      ]
     },
     "execution_count": 51,
     "metadata": {},
     "output_type": "execute_result"
    },
    {
     "data": {
      "image/png": "[encoded data removed]",
      "text/plain": [
       "<Figure size 736.347x500 with 1 Axes>"
      ]
     },
     "metadata": {},
     "output_type": "display_data"
    }
   ],
   "source": [
    "sns.relplot(x=\"param_max_leaf_nodes\", \n",
    "            y=\"mean_test_roc_auc\", \n",
    "            hue=\"param_ccp_alpha\", # colores\n",
    "            style=\"param_min_impurity_decrease\",\n",
    "            kind = \"line\", data=results)\n",
    "\n"
   ]
  },
  {
   "cell_type": "code",
   "execution_count": 50,
   "metadata": {},
   "outputs": [],
   "source": [
    "params={'max_depth': [4,6,8],# Maxima pofundidad del arbol\n",
    "        'max_leaf_nodes': [10], # maximo de hojas del arbol\n",
    "        'min_impurity_decrease' : [0.05], # un nuevo nodo se harà si al hacerse se decrece la impurity en un threshold por encima del valor\n",
    "        'min_samples_split': [3,6,9,15], # The minimum number of samples required to split an internal node:\n",
    "        'ccp_alpha': [0.0,0.1]\n",
    "        }"
   ]
  },
  {
   "cell_type": "markdown",
   "metadata": {},
   "source": [
    "# Regresion"
   ]
  },
  {
   "cell_type": "code",
   "execution_count": 40,
   "metadata": {},
   "outputs": [],
   "source": [
    "from sklearn.datasets import load_diabetes\n",
    "from sklearn.tree import DecisionTreeRegressor\n",
    "from sklearn.ensemble import RandomForestRegressor\n",
    "data = load_diabetes()\n",
    "X=pd.DataFrame(data['data'],columns=data['feature_names'])\n",
    "y=data.target"
   ]
  },
  {
   "cell_type": "code",
   "execution_count": 41,
   "metadata": {},
   "outputs": [
    {
     "data": {
      "text/plain": [
       "{'ccp_alpha': 0.0,\n",
       " 'criterion': 'squared_error',\n",
       " 'max_depth': None,\n",
       " 'max_features': None,\n",
       " 'max_leaf_nodes': None,\n",
       " 'min_impurity_decrease': 0.0,\n",
       " 'min_samples_leaf': 1,\n",
       " 'min_samples_split': 2,\n",
       " 'min_weight_fraction_leaf': 0.0,\n",
       " 'random_state': None,\n",
       " 'splitter': 'best'}"
      ]
     },
     "execution_count": 41,
     "metadata": {},
     "output_type": "execute_result"
    }
   ],
   "source": [
    "DecisionTreeRegressor().get_params()"
   ]
  },
  {
   "cell_type": "code",
   "execution_count": 42,
   "metadata": {},
   "outputs": [],
   "source": [
    "model=DecisionTreeRegressor()"
   ]
  },
  {
   "cell_type": "code",
   "execution_count": 43,
   "metadata": {},
   "outputs": [],
   "source": [
    "n_cv=3\n",
    "params={'criterion':['squared_error'],\n",
    "        'max_depth': [10,15],# Maxima pofundidad del arbol\n",
    "        'max_leaf_nodes': [10,30], # maximo de nodos del arbol\n",
    "        'min_impurity_decrease' : [0.05], # un nuevo nodo se harà si al hacerse se decrece la impurity en un threshold por encima del valor\n",
    "        'min_samples_split': [5,10]# The minimum number of samples required to split an internal node:\n",
    "        }\n",
    "\n",
    "# scoring: lista de metricas a obtener\n",
    "scoring = ['neg_mean_squared_error', 'explained_variance', 'r2']\n",
    "\n",
    "\n",
    "# creamos la GridSeacrh\n",
    "grid_solver = GridSearchCV(estimator = model, # model to train\n",
    "                   param_grid = params, # param_grid\n",
    "                   scoring = scoring,\n",
    "                   cv = n_cv,\n",
    "                   refit = 'neg_mean_squared_error',\n",
    "                   verbose = 1) # cuanto va a imprimir por pantalla"
   ]
  },
  {
   "cell_type": "code",
   "execution_count": 44,
   "metadata": {},
   "outputs": [
    {
     "name": "stdout",
     "output_type": "stream",
     "text": [
      "Fitting 3 folds for each of 8 candidates, totalling 24 fits\n"
     ]
    },
    {
     "data": {
      "text/html": [
       "<style>#sk-container-id-5 {color: black;background-color: white;}#sk-container-id-5 pre{padding: 0;}#sk-container-id-5 div.sk-toggleable {background-color: white;}#sk-container-id-5 label.sk-toggleable__label {cursor: pointer;display: block;width: 100%;margin-bottom: 0;padding: 0.3em;box-sizing: border-box;text-align: center;}#sk-container-id-5 label.sk-toggleable__label-arrow:before {content: \"▸\";float: left;margin-right: 0.25em;color: #696969;}#sk-container-id-5 label.sk-toggleable__label-arrow:hover:before {color: black;}#sk-container-id-5 div.sk-estimator:hover label.sk-toggleable__label-arrow:before {color: black;}#sk-container-id-5 div.sk-toggleable__content {max-height: 0;max-width: 0;overflow: hidden;text-align: left;background-color: #f0f8ff;}#sk-container-id-5 div.sk-toggleable__content pre {margin: 0.2em;color: black;border-radius: 0.25em;background-color: #f0f8ff;}#sk-container-id-5 input.sk-toggleable__control:checked~div.sk-toggleable__content {max-height: 200px;max-width: 100%;overflow: auto;}#sk-container-id-5 input.sk-toggleable__control:checked~label.sk-toggleable__label-arrow:before {content: \"▾\";}#sk-container-id-5 div.sk-estimator input.sk-toggleable__control:checked~label.sk-toggleable__label {background-color: #d4ebff;}#sk-container-id-5 div.sk-label input.sk-toggleable__control:checked~label.sk-toggleable__label {background-color: #d4ebff;}#sk-container-id-5 input.sk-hidden--visually {border: 0;clip: rect(1px 1px 1px 1px);clip: rect(1px, 1px, 1px, 1px);height: 1px;margin: -1px;overflow: hidden;padding: 0;position: absolute;width: 1px;}#sk-container-id-5 div.sk-estimator {font-family: monospace;background-color: #f0f8ff;border: 1px dotted black;border-radius: 0.25em;box-sizing: border-box;margin-bottom: 0.5em;}#sk-container-id-5 div.sk-estimator:hover {background-color: #d4ebff;}#sk-container-id-5 div.sk-parallel-item::after {content: \"\";width: 100%;border-bottom: 1px solid gray;flex-grow: 1;}#sk-container-id-5 div.sk-label:hover label.sk-toggleable__label {background-color: #d4ebff;}#sk-container-id-5 div.sk-serial::before {content: \"\";position: absolute;border-left: 1px solid gray;box-sizing: border-box;top: 0;bottom: 0;left: 50%;z-index: 0;}#sk-container-id-5 div.sk-serial {display: flex;flex-direction: column;align-items: center;background-color: white;padding-right: 0.2em;padding-left: 0.2em;position: relative;}#sk-container-id-5 div.sk-item {position: relative;z-index: 1;}#sk-container-id-5 div.sk-parallel {display: flex;align-items: stretch;justify-content: center;background-color: white;position: relative;}#sk-container-id-5 div.sk-item::before, #sk-container-id-5 div.sk-parallel-item::before {content: \"\";position: absolute;border-left: 1px solid gray;box-sizing: border-box;top: 0;bottom: 0;left: 50%;z-index: -1;}#sk-container-id-5 div.sk-parallel-item {display: flex;flex-direction: column;z-index: 1;position: relative;background-color: white;}#sk-container-id-5 div.sk-parallel-item:first-child::after {align-self: flex-end;width: 50%;}#sk-container-id-5 div.sk-parallel-item:last-child::after {align-self: flex-start;width: 50%;}#sk-container-id-5 div.sk-parallel-item:only-child::after {width: 0;}#sk-container-id-5 div.sk-dashed-wrapped {border: 1px dashed gray;margin: 0 0.4em 0.5em 0.4em;box-sizing: border-box;padding-bottom: 0.4em;background-color: white;}#sk-container-id-5 div.sk-label label {font-family: monospace;font-weight: bold;display: inline-block;line-height: 1.2em;}#sk-container-id-5 div.sk-label-container {text-align: center;}#sk-container-id-5 div.sk-container {/* jupyter's `normalize.less` sets `[hidden] { display: none; }` but bootstrap.min.css set `[hidden] { display: none !important; }` so we also need the `!important` here to be able to override the default hidden behavior on the sphinx rendered scikit-learn.org. See: https://github.com/scikit-learn/scikit-learn/issues/21755 */display: inline-block !important;position: relative;}#sk-container-id-5 div.sk-text-repr-fallback {display: none;}</style><div id=\"sk-container-id-5\" class=\"sk-top-container\"><div class=\"sk-text-repr-fallback\"><pre>GridSearchCV(cv=3, estimator=DecisionTreeRegressor(),\n",
       "             param_grid={&#x27;criterion&#x27;: [&#x27;squared_error&#x27;], &#x27;max_depth&#x27;: [10, 15],\n",
       "                         &#x27;max_leaf_nodes&#x27;: [10, 30],\n",
       "                         &#x27;min_impurity_decrease&#x27;: [0.05],\n",
       "                         &#x27;min_samples_split&#x27;: [5, 10]},\n",
       "             refit=&#x27;neg_mean_squared_error&#x27;,\n",
       "             scoring=[&#x27;neg_mean_squared_error&#x27;, &#x27;explained_variance&#x27;, &#x27;r2&#x27;],\n",
       "             verbose=1)</pre><b>In a Jupyter environment, please rerun this cell to show the HTML representation or trust the notebook. <br />On GitHub, the HTML representation is unable to render, please try loading this page with nbviewer.org.</b></div><div class=\"sk-container\" hidden><div class=\"sk-item sk-dashed-wrapped\"><div class=\"sk-label-container\"><div class=\"sk-label sk-toggleable\"><input class=\"sk-toggleable__control sk-hidden--visually\" id=\"sk-estimator-id-5\" type=\"checkbox\" ><label for=\"sk-estimator-id-5\" class=\"sk-toggleable__label sk-toggleable__label-arrow\">GridSearchCV</label><div class=\"sk-toggleable__content\"><pre>GridSearchCV(cv=3, estimator=DecisionTreeRegressor(),\n",
       "             param_grid={&#x27;criterion&#x27;: [&#x27;squared_error&#x27;], &#x27;max_depth&#x27;: [10, 15],\n",
       "                         &#x27;max_leaf_nodes&#x27;: [10, 30],\n",
       "                         &#x27;min_impurity_decrease&#x27;: [0.05],\n",
       "                         &#x27;min_samples_split&#x27;: [5, 10]},\n",
       "             refit=&#x27;neg_mean_squared_error&#x27;,\n",
       "             scoring=[&#x27;neg_mean_squared_error&#x27;, &#x27;explained_variance&#x27;, &#x27;r2&#x27;],\n",
       "             verbose=1)</pre></div></div></div><div class=\"sk-parallel\"><div class=\"sk-parallel-item\"><div class=\"sk-item\"><div class=\"sk-label-container\"><div class=\"sk-label sk-toggleable\"><input class=\"sk-toggleable__control sk-hidden--visually\" id=\"sk-estimator-id-6\" type=\"checkbox\" ><label for=\"sk-estimator-id-6\" class=\"sk-toggleable__label sk-toggleable__label-arrow\">estimator: DecisionTreeRegressor</label><div class=\"sk-toggleable__content\"><pre>DecisionTreeRegressor()</pre></div></div></div><div class=\"sk-serial\"><div class=\"sk-item\"><div class=\"sk-estimator sk-toggleable\"><input class=\"sk-toggleable__control sk-hidden--visually\" id=\"sk-estimator-id-7\" type=\"checkbox\" ><label for=\"sk-estimator-id-7\" class=\"sk-toggleable__label sk-toggleable__label-arrow\">DecisionTreeRegressor</label><div class=\"sk-toggleable__content\"><pre>DecisionTreeRegressor()</pre></div></div></div></div></div></div></div></div></div></div>"
      ],
      "text/plain": [
       "GridSearchCV(cv=3, estimator=DecisionTreeRegressor(),\n",
       "             param_grid={'criterion': ['squared_error'], 'max_depth': [10, 15],\n",
       "                         'max_leaf_nodes': [10, 30],\n",
       "                         'min_impurity_decrease': [0.05],\n",
       "                         'min_samples_split': [5, 10]},\n",
       "             refit='neg_mean_squared_error',\n",
       "             scoring=['neg_mean_squared_error', 'explained_variance', 'r2'],\n",
       "             verbose=1)"
      ]
     },
     "execution_count": 44,
     "metadata": {},
     "output_type": "execute_result"
    }
   ],
   "source": [
    "grid_solver.fit(X,y)"
   ]
  },
  {
   "cell_type": "code",
   "execution_count": 45,
   "metadata": {},
   "outputs": [
    {
     "data": {
      "text/plain": [
       "array([231.34090909,  96.30994152, 167.6       , 174.39534884,\n",
       "        96.30994152,  96.30994152,  96.30994152,  96.30994152,\n",
       "       159.74468085, 167.6       ,  96.30994152, 159.74468085,\n",
       "        96.30994152, 174.39534884,  96.30994152, 174.39534884,\n",
       "       231.34090909, 174.39534884,  96.30994152,  96.30994152,\n",
       "        96.30994152,  96.30994152,  96.30994152, 231.34090909,\n",
       "       159.74468085, 174.39534884,  96.30994152, 159.74468085,\n",
       "       139.94444444, 236.15384615, 159.74468085,  96.30994152,\n",
       "       268.87096774,  96.30994152,  96.30994152, 137.69047619,\n",
       "       231.34090909, 174.39534884, 268.87096774, 174.39534884,\n",
       "       139.94444444,  96.30994152,  96.30994152,  96.30994152,\n",
       "       167.6       ,  96.30994152,  96.30994152,  96.30994152,\n",
       "        96.30994152, 174.39534884,  96.30994152, 231.34090909,\n",
       "        96.30994152,  96.30994152, 159.74468085,  96.30994152,\n",
       "       167.6       ,  96.30994152, 137.69047619, 137.69047619,\n",
       "        96.30994152, 174.39534884,  96.30994152,  96.30994152,\n",
       "        96.30994152, 137.69047619, 139.94444444,  96.30994152,\n",
       "        96.30994152,  96.30994152,  96.30994152, 231.34090909,\n",
       "       174.39534884,  96.30994152, 139.94444444, 137.69047619,\n",
       "       159.74468085,  96.30994152, 137.69047619,  96.30994152,\n",
       "       174.39534884,  96.30994152,  96.30994152, 159.74468085,\n",
       "        96.30994152, 159.74468085,  96.30994152, 174.39534884,\n",
       "        96.30994152,  96.30994152,  96.30994152, 167.6       ,\n",
       "       139.94444444,  96.30994152,  96.30994152, 137.69047619,\n",
       "       174.39534884, 268.87096774,  96.30994152, 137.69047619,\n",
       "       167.6       ,  96.30994152, 159.74468085, 159.74468085,\n",
       "       159.74468085,  96.30994152,  96.30994152, 159.74468085,\n",
       "       231.34090909,  96.30994152,  96.30994152,  96.30994152,\n",
       "       159.74468085, 236.15384615, 268.87096774, 174.39534884,\n",
       "       231.34090909, 236.15384615, 236.15384615, 137.69047619,\n",
       "        96.30994152, 231.34090909, 268.87096774, 167.6       ,\n",
       "       159.74468085, 174.39534884,  96.30994152, 139.94444444,\n",
       "        96.30994152, 284.33333333, 268.87096774,  96.30994152,\n",
       "        96.30994152,  96.30994152, 159.74468085, 167.6       ,\n",
       "        96.30994152, 231.34090909, 268.87096774, 231.34090909,\n",
       "       159.74468085, 284.33333333, 174.39534884,  96.30994152,\n",
       "       167.6       , 159.74468085, 167.6       , 268.87096774,\n",
       "       159.74468085, 174.39534884, 159.74468085,  96.30994152,\n",
       "       236.15384615,  96.30994152, 167.6       , 231.34090909,\n",
       "        96.30994152, 137.69047619,  96.30994152, 231.34090909,\n",
       "        96.30994152, 231.34090909, 159.74468085, 159.74468085,\n",
       "       174.39534884,  96.30994152,  96.30994152, 268.87096774,\n",
       "       284.33333333, 137.69047619,  96.30994152,  96.30994152,\n",
       "       268.87096774,  96.30994152, 174.39534884,  96.30994152,\n",
       "       231.34090909, 167.6       ,  96.30994152, 139.94444444,\n",
       "       174.39534884,  96.30994152, 174.39534884, 137.69047619,\n",
       "       167.6       , 174.39534884, 167.6       ,  96.30994152,\n",
       "       139.94444444,  96.30994152, 174.39534884, 137.69047619,\n",
       "        96.30994152, 174.39534884, 137.69047619, 167.6       ,\n",
       "        96.30994152, 139.94444444, 159.74468085, 137.69047619,\n",
       "        96.30994152,  96.30994152, 174.39534884, 231.34090909,\n",
       "       139.94444444, 167.6       , 167.6       , 231.34090909,\n",
       "       231.34090909,  96.30994152, 159.74468085, 159.74468085,\n",
       "       139.94444444,  96.30994152,  96.30994152, 268.87096774,\n",
       "       231.34090909, 231.34090909, 137.69047619, 137.69047619,\n",
       "        96.30994152, 137.69047619, 137.69047619,  96.30994152,\n",
       "        96.30994152, 231.34090909,  96.30994152,  96.30994152,\n",
       "        96.30994152,  96.30994152, 268.87096774, 137.69047619,\n",
       "       174.39534884, 159.74468085, 231.34090909,  96.30994152,\n",
       "       174.39534884,  96.30994152, 139.94444444, 167.6       ,\n",
       "       268.87096774,  96.30994152,  96.30994152,  96.30994152,\n",
       "       159.74468085,  96.30994152, 137.69047619,  96.30994152,\n",
       "       231.34090909, 231.34090909, 231.34090909, 268.87096774,\n",
       "       159.74468085, 167.6       , 231.34090909, 137.69047619,\n",
       "       268.87096774,  96.30994152,  96.30994152,  96.30994152,\n",
       "        96.30994152,  96.30994152, 268.87096774,  96.30994152,\n",
       "       159.74468085, 137.69047619,  96.30994152, 174.39534884,\n",
       "       268.87096774,  96.30994152, 231.34090909, 159.74468085,\n",
       "       159.74468085, 236.15384615, 137.69047619, 139.94444444,\n",
       "       231.34090909,  96.30994152, 137.69047619,  96.30994152,\n",
       "       231.34090909, 137.69047619,  96.30994152,  96.30994152,\n",
       "       137.69047619, 174.39534884,  96.30994152, 174.39534884,\n",
       "        96.30994152, 167.6       , 268.87096774, 231.34090909,\n",
       "        96.30994152, 159.74468085,  96.30994152, 167.6       ,\n",
       "        96.30994152,  96.30994152,  96.30994152,  96.30994152,\n",
       "       268.87096774,  96.30994152, 231.34090909, 231.34090909,\n",
       "        96.30994152, 137.69047619,  96.30994152, 137.69047619,\n",
       "        96.30994152, 236.15384615, 159.74468085, 167.6       ,\n",
       "        96.30994152, 231.34090909, 159.74468085,  96.30994152,\n",
       "       236.15384615, 137.69047619, 139.94444444, 236.15384615,\n",
       "       167.6       , 231.34090909, 231.34090909, 236.15384615,\n",
       "       174.39534884, 167.6       , 174.39534884, 268.87096774,\n",
       "       167.6       ,  96.30994152, 159.74468085,  96.30994152,\n",
       "       268.87096774, 174.39534884,  96.30994152,  96.30994152,\n",
       "       268.87096774, 139.94444444,  96.30994152, 174.39534884,\n",
       "        96.30994152, 159.74468085, 159.74468085, 159.74468085,\n",
       "       139.94444444, 139.94444444, 231.34090909, 137.69047619,\n",
       "        96.30994152,  96.30994152, 231.34090909,  96.30994152,\n",
       "        96.30994152, 137.69047619, 231.34090909,  96.30994152,\n",
       "        96.30994152, 231.34090909,  96.30994152, 236.15384615,\n",
       "       231.34090909,  96.30994152, 268.87096774, 137.69047619,\n",
       "       236.15384615, 137.69047619, 268.87096774, 268.87096774,\n",
       "       236.15384615, 159.74468085,  96.30994152, 174.39534884,\n",
       "        96.30994152,  96.30994152, 137.69047619, 174.39534884,\n",
       "       167.6       , 139.94444444, 174.39534884,  96.30994152,\n",
       "       159.74468085,  96.30994152, 167.6       ,  96.30994152,\n",
       "       137.69047619,  96.30994152,  96.30994152, 159.74468085,\n",
       "       137.69047619,  96.30994152, 268.87096774,  96.30994152,\n",
       "        96.30994152,  96.30994152, 231.34090909, 174.39534884,\n",
       "        96.30994152, 174.39534884, 167.6       , 231.34090909,\n",
       "       159.74468085,  96.30994152, 137.69047619, 268.87096774,\n",
       "       159.74468085, 268.87096774,  96.30994152, 159.74468085,\n",
       "       137.69047619, 174.39534884, 137.69047619, 159.74468085,\n",
       "       268.87096774,  96.30994152, 174.39534884, 174.39534884,\n",
       "       159.74468085, 159.74468085,  96.30994152,  96.30994152,\n",
       "        96.30994152, 231.34090909, 268.87096774, 137.69047619,\n",
       "       174.39534884,  96.30994152, 137.69047619,  96.30994152,\n",
       "       268.87096774,  96.30994152,  96.30994152,  96.30994152,\n",
       "       167.6       ,  96.30994152,  96.30994152,  96.30994152,\n",
       "        96.30994152, 231.34090909,  96.30994152,  96.30994152,\n",
       "       167.6       ,  96.30994152])"
      ]
     },
     "execution_count": 45,
     "metadata": {},
     "output_type": "execute_result"
    }
   ],
   "source": [
    "grid_solver.predict(X)"
   ]
  },
  {
   "cell_type": "markdown",
   "metadata": {},
   "source": [
    "# Random Forest"
   ]
  },
  {
   "cell_type": "code",
   "execution_count": 46,
   "metadata": {},
   "outputs": [
    {
     "data": {
      "text/plain": [
       "{'bootstrap': True,\n",
       " 'ccp_alpha': 0.0,\n",
       " 'criterion': 'squared_error',\n",
       " 'max_depth': None,\n",
       " 'max_features': 1.0,\n",
       " 'max_leaf_nodes': None,\n",
       " 'max_samples': None,\n",
       " 'min_impurity_decrease': 0.0,\n",
       " 'min_samples_leaf': 1,\n",
       " 'min_samples_split': 2,\n",
       " 'min_weight_fraction_leaf': 0.0,\n",
       " 'n_estimators': 100,\n",
       " 'n_jobs': None,\n",
       " 'oob_score': False,\n",
       " 'random_state': None,\n",
       " 'verbose': 0,\n",
       " 'warm_start': False}"
      ]
     },
     "execution_count": 46,
     "metadata": {},
     "output_type": "execute_result"
    }
   ],
   "source": [
    "RandomForestRegressor().get_params()"
   ]
  },
  {
   "cell_type": "code",
   "execution_count": 47,
   "metadata": {},
   "outputs": [],
   "source": [
    "n_cv=3\n",
    "model = RandomForestRegressor()\n",
    "params={'criterion':['squared_error'],\n",
    "        'max_depth': [5,7],# Maxima pofundidad del arbol\n",
    "        'max_features': [0.3, 0.7], # numero de features a considerar en cada split\n",
    "        'max_samples' : [0.8,0.5],\n",
    "        'max_leaf_nodes': [10,30], # maximo de nodos del arbol\n",
    "        'min_impurity_decrease' : [0.05], # un nuevo nodo se harà si al hacerse se decrece la impurity en un threshold por encima del valor\n",
    "        'min_samples_split': [5,10], # The minimum number of samples required to split an internal node:\n",
    "        'n_estimators': [100] # numero de arboles\n",
    "        }\n",
    "\n",
    "# scoring: lista de metricas a obtener\n",
    "scoring = ['neg_mean_squared_error', 'explained_variance', 'r2']\n",
    "\n",
    "\n",
    "\n",
    "# creamos la GridSeacrh\n",
    "grid_solver = GridSearchCV(estimator = model, # model to train\n",
    "                           param_grid = params, # param_grid\n",
    "                           scoring = scoring,\n",
    "                           cv = n_cv,\n",
    "                           refit = 'neg_mean_squared_error',\n",
    "                           verbose = 1) # cuanto va a imprimir por pantalla"
   ]
  },
  {
   "cell_type": "code",
   "execution_count": 48,
   "metadata": {},
   "outputs": [
    {
     "name": "stdout",
     "output_type": "stream",
     "text": [
      "Fitting 3 folds for each of 32 candidates, totalling 96 fits\n"
     ]
    }
   ],
   "source": [
    "# entrenamos\n",
    "model_result = grid_solver.fit(X,y)"
   ]
  },
  {
   "cell_type": "code",
   "execution_count": 49,
   "metadata": {},
   "outputs": [
    {
     "data": {
      "text/html": [
       "<style>#sk-container-id-6 {color: black;background-color: white;}#sk-container-id-6 pre{padding: 0;}#sk-container-id-6 div.sk-toggleable {background-color: white;}#sk-container-id-6 label.sk-toggleable__label {cursor: pointer;display: block;width: 100%;margin-bottom: 0;padding: 0.3em;box-sizing: border-box;text-align: center;}#sk-container-id-6 label.sk-toggleable__label-arrow:before {content: \"▸\";float: left;margin-right: 0.25em;color: #696969;}#sk-container-id-6 label.sk-toggleable__label-arrow:hover:before {color: black;}#sk-container-id-6 div.sk-estimator:hover label.sk-toggleable__label-arrow:before {color: black;}#sk-container-id-6 div.sk-toggleable__content {max-height: 0;max-width: 0;overflow: hidden;text-align: left;background-color: #f0f8ff;}#sk-container-id-6 div.sk-toggleable__content pre {margin: 0.2em;color: black;border-radius: 0.25em;background-color: #f0f8ff;}#sk-container-id-6 input.sk-toggleable__control:checked~div.sk-toggleable__content {max-height: 200px;max-width: 100%;overflow: auto;}#sk-container-id-6 input.sk-toggleable__control:checked~label.sk-toggleable__label-arrow:before {content: \"▾\";}#sk-container-id-6 div.sk-estimator input.sk-toggleable__control:checked~label.sk-toggleable__label {background-color: #d4ebff;}#sk-container-id-6 div.sk-label input.sk-toggleable__control:checked~label.sk-toggleable__label {background-color: #d4ebff;}#sk-container-id-6 input.sk-hidden--visually {border: 0;clip: rect(1px 1px 1px 1px);clip: rect(1px, 1px, 1px, 1px);height: 1px;margin: -1px;overflow: hidden;padding: 0;position: absolute;width: 1px;}#sk-container-id-6 div.sk-estimator {font-family: monospace;background-color: #f0f8ff;border: 1px dotted black;border-radius: 0.25em;box-sizing: border-box;margin-bottom: 0.5em;}#sk-container-id-6 div.sk-estimator:hover {background-color: #d4ebff;}#sk-container-id-6 div.sk-parallel-item::after {content: \"\";width: 100%;border-bottom: 1px solid gray;flex-grow: 1;}#sk-container-id-6 div.sk-label:hover label.sk-toggleable__label {background-color: #d4ebff;}#sk-container-id-6 div.sk-serial::before {content: \"\";position: absolute;border-left: 1px solid gray;box-sizing: border-box;top: 0;bottom: 0;left: 50%;z-index: 0;}#sk-container-id-6 div.sk-serial {display: flex;flex-direction: column;align-items: center;background-color: white;padding-right: 0.2em;padding-left: 0.2em;position: relative;}#sk-container-id-6 div.sk-item {position: relative;z-index: 1;}#sk-container-id-6 div.sk-parallel {display: flex;align-items: stretch;justify-content: center;background-color: white;position: relative;}#sk-container-id-6 div.sk-item::before, #sk-container-id-6 div.sk-parallel-item::before {content: \"\";position: absolute;border-left: 1px solid gray;box-sizing: border-box;top: 0;bottom: 0;left: 50%;z-index: -1;}#sk-container-id-6 div.sk-parallel-item {display: flex;flex-direction: column;z-index: 1;position: relative;background-color: white;}#sk-container-id-6 div.sk-parallel-item:first-child::after {align-self: flex-end;width: 50%;}#sk-container-id-6 div.sk-parallel-item:last-child::after {align-self: flex-start;width: 50%;}#sk-container-id-6 div.sk-parallel-item:only-child::after {width: 0;}#sk-container-id-6 div.sk-dashed-wrapped {border: 1px dashed gray;margin: 0 0.4em 0.5em 0.4em;box-sizing: border-box;padding-bottom: 0.4em;background-color: white;}#sk-container-id-6 div.sk-label label {font-family: monospace;font-weight: bold;display: inline-block;line-height: 1.2em;}#sk-container-id-6 div.sk-label-container {text-align: center;}#sk-container-id-6 div.sk-container {/* jupyter's `normalize.less` sets `[hidden] { display: none; }` but bootstrap.min.css set `[hidden] { display: none !important; }` so we also need the `!important` here to be able to override the default hidden behavior on the sphinx rendered scikit-learn.org. See: https://github.com/scikit-learn/scikit-learn/issues/21755 */display: inline-block !important;position: relative;}#sk-container-id-6 div.sk-text-repr-fallback {display: none;}</style><div id=\"sk-container-id-6\" class=\"sk-top-container\"><div class=\"sk-text-repr-fallback\"><pre>RandomForestRegressor(max_depth=5, max_features=0.7, max_leaf_nodes=30,\n",
       "                      max_samples=0.5, min_impurity_decrease=0.05,\n",
       "                      min_samples_split=10)</pre><b>In a Jupyter environment, please rerun this cell to show the HTML representation or trust the notebook. <br />On GitHub, the HTML representation is unable to render, please try loading this page with nbviewer.org.</b></div><div class=\"sk-container\" hidden><div class=\"sk-item\"><div class=\"sk-estimator sk-toggleable\"><input class=\"sk-toggleable__control sk-hidden--visually\" id=\"sk-estimator-id-8\" type=\"checkbox\" checked><label for=\"sk-estimator-id-8\" class=\"sk-toggleable__label sk-toggleable__label-arrow\">RandomForestRegressor</label><div class=\"sk-toggleable__content\"><pre>RandomForestRegressor(max_depth=5, max_features=0.7, max_leaf_nodes=30,\n",
       "                      max_samples=0.5, min_impurity_decrease=0.05,\n",
       "                      min_samples_split=10)</pre></div></div></div></div></div>"
      ],
      "text/plain": [
       "RandomForestRegressor(max_depth=5, max_features=0.7, max_leaf_nodes=30,\n",
       "                      max_samples=0.5, min_impurity_decrease=0.05,\n",
       "                      min_samples_split=10)"
      ]
     },
     "execution_count": 49,
     "metadata": {},
     "output_type": "execute_result"
    }
   ],
   "source": [
    "model_result.best_estimator_"
   ]
  }
 ],
 "metadata": {
  "kernelspec": {
   "display_name": "Python 3 (ipykernel)",
   "language": "python",
   "name": "python3"
  },
  "language_info": {
   "codemirror_mode": {
    "name": "ipython",
    "version": 3
   },
   "file_extension": ".py",
   "mimetype": "text/x-python",
   "name": "python",
   "nbconvert_exporter": "python",
   "pygments_lexer": "ipython3",
   "version": "3.11.7"
  }
 },
 "nbformat": 4,
 "nbformat_minor": 4
}
