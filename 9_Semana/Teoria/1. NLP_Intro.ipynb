{
 "cells": [
  {
   "cell_type": "markdown",
   "metadata": {
    "id": "jL93mwbHRuJV"
   },
   "source": [
    "\n",
    "# NLP\n",
    "\n",
    "A lo largo del notebook vamos a trabajar con el siguiente dataset:\n",
    "\n",
    "https://www.kaggle.com/rmisra/news-headlines-dataset-for-sarcasm-detection/\n",
    "\n",
    "\n",
    "La mayoría de las herramientas de NLP pueden ser consideradas como parte del preprocesamiento, llevar el texto a una forma que la computadora pueda entender. En general, esto corresponde a una forma tipo \"tabla\" al estilo de los DataFrames de Pandas.\n"
   ]
  },
  {
   "cell_type": "code",
   "execution_count": 180,
   "metadata": {
    "id": "-u_mu3QLRuJY",
    "outputId": "359f4f50-e041-46b2-9099-1ae2e181bcd3"
   },
   "outputs": [
    {
     "name": "stderr",
     "output_type": "stream",
     "text": [
      "[nltk_data] Downloading package punkt to\n",
      "[nltk_data]     C:\\Users\\garch\\AppData\\Roaming\\nltk_data...\n",
      "[nltk_data]   Package punkt is already up-to-date!\n",
      "[nltk_data] Downloading package stopwords to\n",
      "[nltk_data]     C:\\Users\\garch\\AppData\\Roaming\\nltk_data...\n",
      "[nltk_data]   Package stopwords is already up-to-date!\n"
     ]
    },
    {
     "data": {
      "text/plain": [
       "True"
      ]
     },
     "execution_count": 180,
     "metadata": {},
     "output_type": "execute_result"
    }
   ],
   "source": [
    "import itertools\n",
    "\n",
    "import numpy as np\n",
    "import pandas as pd\n",
    "\n",
    "import matplotlib.pyplot as plt\n",
    "import seaborn as sns\n",
    "sns.set()\n",
    "\n",
    "import nltk\n",
    "\n",
    "# Esto sirve para configurar NLTK. La primera vez puede tardar un poco\n",
    "nltk.download('punkt')\n",
    "nltk.download('stopwords')"
   ]
  },
  {
   "cell_type": "code",
   "execution_count": 181,
   "metadata": {},
   "outputs": [
    {
     "name": "stdout",
     "output_type": "stream",
     "text": [
      "showing info https://raw.githubusercontent.com/nltk/nltk_data/gh-pages/index.xml\n"
     ]
    },
    {
     "data": {
      "text/plain": [
       "True"
      ]
     },
     "execution_count": 181,
     "metadata": {},
     "output_type": "execute_result"
    }
   ],
   "source": [
    "nltk.download()"
   ]
  },
  {
   "cell_type": "code",
   "execution_count": 182,
   "metadata": {
    "id": "3sTu0WZoRuJa",
    "outputId": "33d48aac-bb38-4ff5-d60b-ca2ab8d85795"
   },
   "outputs": [
    {
     "data": {
      "text/html": [
       "<div>\n",
       "<style scoped>\n",
       "    .dataframe tbody tr th:only-of-type {\n",
       "        vertical-align: middle;\n",
       "    }\n",
       "\n",
       "    .dataframe tbody tr th {\n",
       "        vertical-align: top;\n",
       "    }\n",
       "\n",
       "    .dataframe thead th {\n",
       "        text-align: right;\n",
       "    }\n",
       "</style>\n",
       "<table border=\"1\" class=\"dataframe\">\n",
       "  <thead>\n",
       "    <tr style=\"text-align: right;\">\n",
       "      <th></th>\n",
       "      <th>article_link</th>\n",
       "      <th>headline</th>\n",
       "      <th>is_sarcastic</th>\n",
       "    </tr>\n",
       "  </thead>\n",
       "  <tbody>\n",
       "    <tr>\n",
       "      <th>0</th>\n",
       "      <td>https://www.huffingtonpost.com/entry/versace-b...</td>\n",
       "      <td>former versace store clerk sues over secret 'b...</td>\n",
       "      <td>0</td>\n",
       "    </tr>\n",
       "    <tr>\n",
       "      <th>1</th>\n",
       "      <td>https://www.huffingtonpost.com/entry/roseanne-...</td>\n",
       "      <td>the 'roseanne' revival catches up to our thorn...</td>\n",
       "      <td>0</td>\n",
       "    </tr>\n",
       "    <tr>\n",
       "      <th>2</th>\n",
       "      <td>https://local.theonion.com/mom-starting-to-fea...</td>\n",
       "      <td>mom starting to fear son's web series closest ...</td>\n",
       "      <td>1</td>\n",
       "    </tr>\n",
       "    <tr>\n",
       "      <th>3</th>\n",
       "      <td>https://politics.theonion.com/boehner-just-wan...</td>\n",
       "      <td>boehner just wants wife to listen, not come up...</td>\n",
       "      <td>1</td>\n",
       "    </tr>\n",
       "    <tr>\n",
       "      <th>4</th>\n",
       "      <td>https://www.huffingtonpost.com/entry/jk-rowlin...</td>\n",
       "      <td>j.k. rowling wishes snape happy birthday in th...</td>\n",
       "      <td>0</td>\n",
       "    </tr>\n",
       "  </tbody>\n",
       "</table>\n",
       "</div>"
      ],
      "text/plain": [
       "                                        article_link  \\\n",
       "0  https://www.huffingtonpost.com/entry/versace-b...   \n",
       "1  https://www.huffingtonpost.com/entry/roseanne-...   \n",
       "2  https://local.theonion.com/mom-starting-to-fea...   \n",
       "3  https://politics.theonion.com/boehner-just-wan...   \n",
       "4  https://www.huffingtonpost.com/entry/jk-rowlin...   \n",
       "\n",
       "                                            headline  is_sarcastic  \n",
       "0  former versace store clerk sues over secret 'b...             0  \n",
       "1  the 'roseanne' revival catches up to our thorn...             0  \n",
       "2  mom starting to fear son's web series closest ...             1  \n",
       "3  boehner just wants wife to listen, not come up...             1  \n",
       "4  j.k. rowling wishes snape happy birthday in th...             0  "
      ]
     },
     "execution_count": 182,
     "metadata": {},
     "output_type": "execute_result"
    }
   ],
   "source": [
    "dataset = pd.read_json('Sarcasm_Headlines_Dataset.json', lines= True)\n",
    "dataset.head()"
   ]
  },
  {
   "cell_type": "code",
   "execution_count": 183,
   "metadata": {},
   "outputs": [
    {
     "data": {
      "text/plain": [
       "'https://www.huffingtonpost.com/entry/versace-black-code_us_5861fbefe4b0de3a08f600d5'"
      ]
     },
     "execution_count": 183,
     "metadata": {},
     "output_type": "execute_result"
    }
   ],
   "source": [
    "dataset.article_link[0]"
   ]
  },
  {
   "cell_type": "code",
   "execution_count": 184,
   "metadata": {
    "id": "60-IdHIzRuJa",
    "outputId": "3fe472e7-ad9d-454f-e71b-48a4ba0ab8ee"
   },
   "outputs": [
    {
     "data": {
      "image/png": "[encoded data removed]",
      "text/plain": [
       "<Figure size 640x480 with 1 Axes>"
      ]
     },
     "metadata": {},
     "output_type": "display_data"
    }
   ],
   "source": [
    "sns.countplot(data=dataset, x=\"is_sarcastic\")\n",
    "plt.show()"
   ]
  },
  {
   "cell_type": "markdown",
   "metadata": {
    "id": "zM9t0mVSRuJb"
   },
   "source": [
    "## 2. Breve exploración del dataset\n"
   ]
  },
  {
   "cell_type": "code",
   "execution_count": 185,
   "metadata": {
    "id": "d-kxV3eSRuJb",
    "outputId": "10b08b8a-90fb-4f4b-bab0-b4ae1c086102"
   },
   "outputs": [
    {
     "name": "stdout",
     "output_type": "stream",
     "text": [
      "boehner just wants wife to listen, not come up with alternative debt-reduction ideas\n"
     ]
    }
   ],
   "source": [
    "titular = dataset.iloc[3].headline\n",
    "print(titular)"
   ]
  },
  {
   "cell_type": "markdown",
   "metadata": {
    "id": "hd1gb3FyRuJb"
   },
   "source": [
    "¿Te parece que es sarcástico?"
   ]
  },
  {
   "cell_type": "code",
   "execution_count": 186,
   "metadata": {
    "id": "noC217KDRuJb",
    "outputId": "720c2ac2-ea2f-49fe-ee4f-29dc2e77cb13"
   },
   "outputs": [
    {
     "data": {
      "text/plain": [
       "1"
      ]
     },
     "execution_count": 186,
     "metadata": {},
     "output_type": "execute_result"
    }
   ],
   "source": [
    "dataset.iloc[3].is_sarcastic                                                    "
   ]
  },
  {
   "cell_type": "markdown",
   "metadata": {
    "id": "4C8hYbBlRuJb"
   },
   "source": [
    "## 3. NLTK\n",
    "\n",
    "### Tokenización\n",
    "\n",
    "1. `sent_tokenize`: Tokeniza un texto utilizando un unsupervised model y devuelve divido por frases"
   ]
  },
  {
   "cell_type": "code",
   "execution_count": 187,
   "metadata": {},
   "outputs": [
    {
     "data": {
      "text/plain": [
       "'boehner just wants wife to listen, not come up with alternative debt-reduction ideas'"
      ]
     },
     "execution_count": 187,
     "metadata": {},
     "output_type": "execute_result"
    }
   ],
   "source": [
    "titular"
   ]
  },
  {
   "cell_type": "code",
   "execution_count": 188,
   "metadata": {
    "id": "UdWvF8LBRuJc",
    "outputId": "42de75f5-2c29-4283-fd63-84189e05fb0a"
   },
   "outputs": [
    {
     "data": {
      "text/plain": [
       "['boehner just wants wife to listen, not come up with alternative debt-reduction ideas']"
      ]
     },
     "execution_count": 188,
     "metadata": {},
     "output_type": "execute_result"
    }
   ],
   "source": [
    "titular_st = nltk.tokenize.sent_tokenize(titular)\n",
    "titular_st"
   ]
  },
  {
   "cell_type": "code",
   "execution_count": 189,
   "metadata": {},
   "outputs": [
    {
     "data": {
      "text/plain": [
       "['hi, im Miquel.', 'Youre a student']"
      ]
     },
     "execution_count": 189,
     "metadata": {},
     "output_type": "execute_result"
    }
   ],
   "source": [
    "nltk.tokenize.sent_tokenize(\"hi, im Miquel. Youre a student\")"
   ]
  },
  {
   "cell_type": "markdown",
   "metadata": {
    "id": "G0GBvJx-RuJc"
   },
   "source": [
    "2. `word_tokenize`: Por palabras"
   ]
  },
  {
   "cell_type": "code",
   "execution_count": 190,
   "metadata": {
    "id": "TJjNH4mORuJc",
    "outputId": "5cdd83b1-6da2-4420-aa49-28e5b0337561"
   },
   "outputs": [
    {
     "data": {
      "text/plain": [
       "['boehner',\n",
       " 'just',\n",
       " 'wants',\n",
       " 'wife',\n",
       " 'to',\n",
       " 'listen',\n",
       " ',',\n",
       " 'not',\n",
       " 'come',\n",
       " 'up',\n",
       " 'with',\n",
       " 'alternative',\n",
       " 'debt-reduction',\n",
       " 'ideas']"
      ]
     },
     "execution_count": 190,
     "metadata": {},
     "output_type": "execute_result"
    }
   ],
   "source": [
    "titular_wt = nltk.tokenize.word_tokenize(titular)\n",
    "titular_wt"
   ]
  },
  {
   "cell_type": "markdown",
   "metadata": {
    "id": "xD1NqaytRuJc"
   },
   "source": [
    "### Normalización\n",
    "\n",
    "La normalización de texto implica varias tareas, algunas de las cuales son:\n",
    "\n",
    "**Conversión a minúsculas**: Para asegurarnos de que todas las palabras se comparan de manera uniforme, es común convertir todo el texto a minúsculas. De esta manera, «Texto» y «texto» se considerarán iguales. \n",
    "\n",
    "**Eliminación de caracteres especiales**: Los caracteres especiales, como signos de puntuación o caracteres no alfabéticos, a menudo se eliminan o reemplazan por espacios en blanco.\n",
    "\n",
    "**Eliminación de números**: En algunos casos, los números no son relevantes para el análisis de texto y se eliminan.\n",
    "\n",
    "**Tokenización**: La tokenización es el proceso de dividir el texto en palabras o tokens individuales. Esto permite analizar cada palabra por separado y es fundamental en el procesamiento de lenguaje natural.\n",
    "\n",
    "**Eliminación de palabras vacías**: Las palabras vacías, como «a», «de» y «en», a menudo se eliminan, ya que no aportan significado en muchos casos.\n",
    "\n"
   ]
  },
  {
   "cell_type": "markdown",
   "metadata": {},
   "source": [
    "0. El texto ya esta en minúsculas"
   ]
  },
  {
   "cell_type": "markdown",
   "metadata": {},
   "source": [
    "1. Stopwords\n",
    "\n",
    "Importar los `stopwords` del inglés e imprimirlos."
   ]
  },
  {
   "cell_type": "code",
   "execution_count": 191,
   "metadata": {
    "id": "46dweTV3RuJc",
    "outputId": "654f171f-f9c0-4332-8b3a-64c821e80ca5",
    "scrolled": true
   },
   "outputs": [
    {
     "data": {
      "text/plain": [
       "['i',\n",
       " 'me',\n",
       " 'my',\n",
       " 'myself',\n",
       " 'we',\n",
       " 'our',\n",
       " 'ours',\n",
       " 'ourselves',\n",
       " 'you',\n",
       " \"you're\",\n",
       " \"you've\",\n",
       " \"you'll\",\n",
       " \"you'd\",\n",
       " 'your',\n",
       " 'yours',\n",
       " 'yourself',\n",
       " 'yourselves',\n",
       " 'he',\n",
       " 'him',\n",
       " 'his',\n",
       " 'himself',\n",
       " 'she',\n",
       " \"she's\",\n",
       " 'her',\n",
       " 'hers',\n",
       " 'herself',\n",
       " 'it',\n",
       " \"it's\",\n",
       " 'its',\n",
       " 'itself',\n",
       " 'they',\n",
       " 'them',\n",
       " 'their',\n",
       " 'theirs',\n",
       " 'themselves',\n",
       " 'what',\n",
       " 'which',\n",
       " 'who',\n",
       " 'whom',\n",
       " 'this',\n",
       " 'that',\n",
       " \"that'll\",\n",
       " 'these',\n",
       " 'those',\n",
       " 'am',\n",
       " 'is',\n",
       " 'are',\n",
       " 'was',\n",
       " 'were',\n",
       " 'be',\n",
       " 'been',\n",
       " 'being',\n",
       " 'have',\n",
       " 'has',\n",
       " 'had',\n",
       " 'having',\n",
       " 'do',\n",
       " 'does',\n",
       " 'did',\n",
       " 'doing',\n",
       " 'a',\n",
       " 'an',\n",
       " 'the',\n",
       " 'and',\n",
       " 'but',\n",
       " 'if',\n",
       " 'or',\n",
       " 'because',\n",
       " 'as',\n",
       " 'until',\n",
       " 'while',\n",
       " 'of',\n",
       " 'at',\n",
       " 'by',\n",
       " 'for',\n",
       " 'with',\n",
       " 'about',\n",
       " 'against',\n",
       " 'between',\n",
       " 'into',\n",
       " 'through',\n",
       " 'during',\n",
       " 'before',\n",
       " 'after',\n",
       " 'above',\n",
       " 'below',\n",
       " 'to',\n",
       " 'from',\n",
       " 'up',\n",
       " 'down',\n",
       " 'in',\n",
       " 'out',\n",
       " 'on',\n",
       " 'off',\n",
       " 'over',\n",
       " 'under',\n",
       " 'again',\n",
       " 'further',\n",
       " 'then',\n",
       " 'once',\n",
       " 'here',\n",
       " 'there',\n",
       " 'when',\n",
       " 'where',\n",
       " 'why',\n",
       " 'how',\n",
       " 'all',\n",
       " 'any',\n",
       " 'both',\n",
       " 'each',\n",
       " 'few',\n",
       " 'more',\n",
       " 'most',\n",
       " 'other',\n",
       " 'some',\n",
       " 'such',\n",
       " 'no',\n",
       " 'nor',\n",
       " 'not',\n",
       " 'only',\n",
       " 'own',\n",
       " 'same',\n",
       " 'so',\n",
       " 'than',\n",
       " 'too',\n",
       " 'very',\n",
       " 's',\n",
       " 't',\n",
       " 'can',\n",
       " 'will',\n",
       " 'just',\n",
       " 'don',\n",
       " \"don't\",\n",
       " 'should',\n",
       " \"should've\",\n",
       " 'now',\n",
       " 'd',\n",
       " 'll',\n",
       " 'm',\n",
       " 'o',\n",
       " 're',\n",
       " 've',\n",
       " 'y',\n",
       " 'ain',\n",
       " 'aren',\n",
       " \"aren't\",\n",
       " 'couldn',\n",
       " \"couldn't\",\n",
       " 'didn',\n",
       " \"didn't\",\n",
       " 'doesn',\n",
       " \"doesn't\",\n",
       " 'hadn',\n",
       " \"hadn't\",\n",
       " 'hasn',\n",
       " \"hasn't\",\n",
       " 'haven',\n",
       " \"haven't\",\n",
       " 'isn',\n",
       " \"isn't\",\n",
       " 'ma',\n",
       " 'mightn',\n",
       " \"mightn't\",\n",
       " 'mustn',\n",
       " \"mustn't\",\n",
       " 'needn',\n",
       " \"needn't\",\n",
       " 'shan',\n",
       " \"shan't\",\n",
       " 'shouldn',\n",
       " \"shouldn't\",\n",
       " 'wasn',\n",
       " \"wasn't\",\n",
       " 'weren',\n",
       " \"weren't\",\n",
       " 'won',\n",
       " \"won't\",\n",
       " 'wouldn',\n",
       " \"wouldn't\"]"
      ]
     },
     "execution_count": 191,
     "metadata": {},
     "output_type": "execute_result"
    }
   ],
   "source": [
    "stopwords = nltk.corpus.stopwords.words('english')\n",
    "stopwords"
   ]
  },
  {
   "cell_type": "code",
   "execution_count": 192,
   "metadata": {},
   "outputs": [
    {
     "data": {
      "text/plain": [
       "['boehner',\n",
       " 'just',\n",
       " 'wants',\n",
       " 'wife',\n",
       " 'to',\n",
       " 'listen',\n",
       " ',',\n",
       " 'not',\n",
       " 'come',\n",
       " 'up',\n",
       " 'with',\n",
       " 'alternative',\n",
       " 'debt-reduction',\n",
       " 'ideas']"
      ]
     },
     "execution_count": 192,
     "metadata": {},
     "output_type": "execute_result"
    }
   ],
   "source": [
    "titular_wt"
   ]
  },
  {
   "cell_type": "markdown",
   "metadata": {
    "id": "kNm1UXunRuJc"
   },
   "source": [
    "Eliminar del titular elegido los stopwords."
   ]
  },
  {
   "cell_type": "code",
   "execution_count": 193,
   "metadata": {
    "id": "NAGDSD4rRuJd",
    "outputId": "9b6e92ec-37ca-4dc2-c9ad-00a770f48fa2"
   },
   "outputs": [
    {
     "data": {
      "text/plain": [
       "['boehner',\n",
       " 'wants',\n",
       " 'wife',\n",
       " 'listen',\n",
       " ',',\n",
       " 'come',\n",
       " 'alternative',\n",
       " 'debt-reduction',\n",
       " 'ideas']"
      ]
     },
     "execution_count": 193,
     "metadata": {},
     "output_type": "execute_result"
    }
   ],
   "source": [
    "titular_wt_sin_sw = [word for word in titular_wt if word not in stopwords]\n",
    "titular_wt_sin_sw"
   ]
  },
  {
   "cell_type": "markdown",
   "metadata": {
    "id": "BhfGDVIqRuJd"
   },
   "source": [
    "### Frecuencia de palabras\n",
    "\n",
    "Dado el titular ya tokenizado por palabras y sin stopwords, usar `nltk` para extrar la frecuencia con que aparece cada palabras. "
   ]
  },
  {
   "cell_type": "code",
   "execution_count": 194,
   "metadata": {
    "id": "aF2hsMNWRuJd",
    "outputId": "8c9fe034-c156-42a8-da7c-e1e1b4f889e5"
   },
   "outputs": [
    {
     "data": {
      "text/plain": [
       "FreqDist({'boehner': 1, 'wants': 1, 'wife': 1, 'listen': 1, ',': 1, 'come': 1, 'alternative': 1, 'debt-reduction': 1, 'ideas': 1})"
      ]
     },
     "execution_count": 194,
     "metadata": {},
     "output_type": "execute_result"
    }
   ],
   "source": [
    "freq = nltk.FreqDist(titular_wt_sin_sw)\n",
    "freq"
   ]
  },
  {
   "cell_type": "code",
   "execution_count": 195,
   "metadata": {},
   "outputs": [
    {
     "data": {
      "image/png": "[encoded data removed]",
      "text/plain": [
       "<Figure size 640x480 with 1 Axes>"
      ]
     },
     "metadata": {},
     "output_type": "display_data"
    },
    {
     "data": {
      "text/plain": [
       "<Axes: xlabel='Samples', ylabel='Counts'>"
      ]
     },
     "execution_count": 195,
     "metadata": {},
     "output_type": "execute_result"
    }
   ],
   "source": [
    "freq.plot()"
   ]
  },
  {
   "cell_type": "markdown",
   "metadata": {
    "id": "rjg0sXySRuJd"
   },
   "source": [
    "### Dataset Completo\n",
    "\n",
    "Antes de pasar a extraer features de cada instancia del Dataset, podemos hacer un pequeño análisis del **dataset en su conjunto**. Por ejemplo, una opción es agrupar todos los titulares por tipo y extraer de cada clase las palabras más frecuentes. Para ello:\n",
    "\n",
    "1. Agrupar los titulares por tipo. Crear un dataframe para cada uno. Recuerden usar máscaras.\n",
    "2. Crear una lista vacia y agregar en esa lista todos los titulares (por tipo/dataframe creado) ya tokenizados (usar el `RegexpTokenizer`) y filtrado por `stopwords`.\n",
    "3. Usar el `FreqDist` en esa lista que acaban de llenar. Llevar lo que devuelve `FreqDist` a un Dataframe. Ordenar por frecuencia en que aparece cada palabra.\n",
    "4. Hacer un `barplot` o similar para visualizar.\n",
    "#### No-Sarcasmo"
   ]
  },
  {
   "cell_type": "code",
   "execution_count": 196,
   "metadata": {
    "id": "mWKQoq2zRuJe",
    "outputId": "f732e5c2-db97-41be-fd77-7b13951adee0"
   },
   "outputs": [
    {
     "data": {
      "text/html": [
       "<div>\n",
       "<style scoped>\n",
       "    .dataframe tbody tr th:only-of-type {\n",
       "        vertical-align: middle;\n",
       "    }\n",
       "\n",
       "    .dataframe tbody tr th {\n",
       "        vertical-align: top;\n",
       "    }\n",
       "\n",
       "    .dataframe thead th {\n",
       "        text-align: right;\n",
       "    }\n",
       "</style>\n",
       "<table border=\"1\" class=\"dataframe\">\n",
       "  <thead>\n",
       "    <tr style=\"text-align: right;\">\n",
       "      <th></th>\n",
       "      <th>article_link</th>\n",
       "      <th>headline</th>\n",
       "      <th>is_sarcastic</th>\n",
       "    </tr>\n",
       "  </thead>\n",
       "  <tbody>\n",
       "    <tr>\n",
       "      <th>0</th>\n",
       "      <td>https://www.huffingtonpost.com/entry/versace-b...</td>\n",
       "      <td>former versace store clerk sues over secret 'b...</td>\n",
       "      <td>0</td>\n",
       "    </tr>\n",
       "    <tr>\n",
       "      <th>1</th>\n",
       "      <td>https://www.huffingtonpost.com/entry/roseanne-...</td>\n",
       "      <td>the 'roseanne' revival catches up to our thorn...</td>\n",
       "      <td>0</td>\n",
       "    </tr>\n",
       "    <tr>\n",
       "      <th>4</th>\n",
       "      <td>https://www.huffingtonpost.com/entry/jk-rowlin...</td>\n",
       "      <td>j.k. rowling wishes snape happy birthday in th...</td>\n",
       "      <td>0</td>\n",
       "    </tr>\n",
       "    <tr>\n",
       "      <th>5</th>\n",
       "      <td>https://www.huffingtonpost.com/entry/advancing...</td>\n",
       "      <td>advancing the world's women</td>\n",
       "      <td>0</td>\n",
       "    </tr>\n",
       "    <tr>\n",
       "      <th>6</th>\n",
       "      <td>https://www.huffingtonpost.com/entry/how-meat-...</td>\n",
       "      <td>the fascinating case for eating lab-grown meat</td>\n",
       "      <td>0</td>\n",
       "    </tr>\n",
       "  </tbody>\n",
       "</table>\n",
       "</div>"
      ],
      "text/plain": [
       "                                        article_link  \\\n",
       "0  https://www.huffingtonpost.com/entry/versace-b...   \n",
       "1  https://www.huffingtonpost.com/entry/roseanne-...   \n",
       "4  https://www.huffingtonpost.com/entry/jk-rowlin...   \n",
       "5  https://www.huffingtonpost.com/entry/advancing...   \n",
       "6  https://www.huffingtonpost.com/entry/how-meat-...   \n",
       "\n",
       "                                            headline  is_sarcastic  \n",
       "0  former versace store clerk sues over secret 'b...             0  \n",
       "1  the 'roseanne' revival catches up to our thorn...             0  \n",
       "4  j.k. rowling wishes snape happy birthday in th...             0  \n",
       "5                        advancing the world's women             0  \n",
       "6     the fascinating case for eating lab-grown meat             0  "
      ]
     },
     "execution_count": 196,
     "metadata": {},
     "output_type": "execute_result"
    }
   ],
   "source": [
    "dataset_no_sarcasmo = dataset[dataset.is_sarcastic==0]\n",
    "dataset_no_sarcasmo.head()"
   ]
  },
  {
   "cell_type": "code",
   "execution_count": 197,
   "metadata": {},
   "outputs": [],
   "source": [
    "def normaliza(titular):\n",
    "    titular = nltk.tokenize.RegexpTokenizer(\"[\\w]+\").tokenize(titular)\n",
    "    titular = [word for word in titular if word not in stopwords]\n",
    "    return titular"
   ]
  },
  {
   "cell_type": "code",
   "execution_count": 198,
   "metadata": {},
   "outputs": [
    {
     "data": {
      "text/plain": [
       "0        [former, versace, store, clerk, sues, secret, ...\n",
       "1        [roseanne, revival, catches, thorny, political...\n",
       "4        [j, k, rowling, wishes, snape, happy, birthday...\n",
       "5                                [advancing, world, women]\n",
       "6            [fascinating, case, eating, lab, grown, meat]\n",
       "                               ...                        \n",
       "26704              [american, politics, moral, free, fall]\n",
       "26705                           [america, best, 20, hikes]\n",
       "26706                                 [reparations, obama]\n",
       "26707    [israeli, ban, targeting, boycott, supporters,...\n",
       "26708                       [gourmet, gifts, foodie, 2014]\n",
       "Name: headline, Length: 14985, dtype: object"
      ]
     },
     "execution_count": 198,
     "metadata": {},
     "output_type": "execute_result"
    }
   ],
   "source": [
    "dataset_no_sarcasmo.headline.apply(normaliza)"
   ]
  },
  {
   "cell_type": "code",
   "execution_count": 199,
   "metadata": {},
   "outputs": [],
   "source": [
    "todos_titulares_no_sarcasmo=dataset_no_sarcasmo.headline.apply(normaliza)"
   ]
  },
  {
   "cell_type": "markdown",
   "metadata": {},
   "source": [
    "### Vamos a poner todas las palabras juntas para ver su frecuencia"
   ]
  },
  {
   "cell_type": "code",
   "execution_count": 200,
   "metadata": {},
   "outputs": [],
   "source": [
    "L=[[1,2],[3,4]]"
   ]
  },
  {
   "cell_type": "code",
   "execution_count": 201,
   "metadata": {},
   "outputs": [
    {
     "data": {
      "text/plain": [
       "[1, 2, 3, 4]"
      ]
     },
     "execution_count": 201,
     "metadata": {},
     "output_type": "execute_result"
    }
   ],
   "source": [
    "[y for x in L for y in x]"
   ]
  },
  {
   "cell_type": "code",
   "execution_count": 202,
   "metadata": {},
   "outputs": [
    {
     "data": {
      "text/plain": [
       "['former',\n",
       " 'versace',\n",
       " 'store',\n",
       " 'clerk',\n",
       " 'sues',\n",
       " 'secret',\n",
       " 'black',\n",
       " 'code',\n",
       " 'minority',\n",
       " 'shoppers',\n",
       " 'roseanne',\n",
       " 'revival',\n",
       " 'catches',\n",
       " 'thorny',\n",
       " 'political',\n",
       " 'mood',\n",
       " 'better',\n",
       " 'worse',\n",
       " 'j',\n",
       " 'k',\n",
       " 'rowling',\n",
       " 'wishes',\n",
       " 'snape',\n",
       " 'happy',\n",
       " 'birthday',\n",
       " 'magical',\n",
       " 'way',\n",
       " 'advancing',\n",
       " 'world',\n",
       " 'women',\n",
       " 'fascinating',\n",
       " 'case',\n",
       " 'eating',\n",
       " 'lab',\n",
       " 'grown',\n",
       " 'meat',\n",
       " 'ceo',\n",
       " 'send',\n",
       " 'kids',\n",
       " 'school',\n",
       " 'work',\n",
       " 'company',\n",
       " 'friday',\n",
       " 'morning',\n",
       " 'email',\n",
       " 'inside',\n",
       " 'trump',\n",
       " 'presser',\n",
       " 'ages',\n",
       " 'airline',\n",
       " 'passengers',\n",
       " 'tackle',\n",
       " 'man',\n",
       " 'rushes',\n",
       " 'cockpit',\n",
       " 'bomb',\n",
       " 'threat',\n",
       " 'facebook',\n",
       " 'reportedly',\n",
       " 'working',\n",
       " 'healthcare',\n",
       " 'features',\n",
       " 'apps',\n",
       " 'north',\n",
       " 'korea',\n",
       " 'praises',\n",
       " 'trump',\n",
       " 'urges',\n",
       " 'us',\n",
       " 'voters',\n",
       " 'reject',\n",
       " 'dull',\n",
       " 'hillary',\n",
       " 'actually',\n",
       " 'cnn',\n",
       " 'jeffrey',\n",
       " 'lord',\n",
       " 'indefensible',\n",
       " 'barcelona',\n",
       " 'holds',\n",
       " 'huge',\n",
       " 'protest',\n",
       " 'support',\n",
       " 'refugees',\n",
       " 'bloomberg',\n",
       " 'program',\n",
       " 'build',\n",
       " 'better',\n",
       " 'cities',\n",
       " 'got',\n",
       " 'bigger',\n",
       " 'craig',\n",
       " 'hicks',\n",
       " 'indicted',\n",
       " 'qatar',\n",
       " 'deporting',\n",
       " 'dutch',\n",
       " 'woman',\n",
       " 'reported',\n",
       " 'drugged',\n",
       " 'raped',\n",
       " 'go',\n",
       " 'circus',\n",
       " 'ted',\n",
       " 'cruz',\n",
       " 'hits',\n",
       " 'panic',\n",
       " 'button',\n",
       " 'could',\n",
       " 'lose',\n",
       " 'houses',\n",
       " 'congress',\n",
       " 'writers',\n",
       " 'must',\n",
       " 'plan',\n",
       " 'surprised',\n",
       " 'obama',\n",
       " 'visits',\n",
       " 'arlington',\n",
       " 'national',\n",
       " 'cemetery',\n",
       " 'honor',\n",
       " 'veterans',\n",
       " 'remembrance',\n",
       " 'beginning',\n",
       " 'task',\n",
       " 'allies',\n",
       " 'islamist',\n",
       " 'motive',\n",
       " 'killing',\n",
       " 'nemtsov',\n",
       " 'nonsense',\n",
       " 'gillian',\n",
       " 'jacobs',\n",
       " 'like',\n",
       " 'kiss',\n",
       " 'adam',\n",
       " 'brody',\n",
       " 'uber',\n",
       " 'vows',\n",
       " 'repay',\n",
       " 'nyc',\n",
       " 'drivers',\n",
       " 'tens',\n",
       " 'millions',\n",
       " 'tax',\n",
       " 'snafu',\n",
       " 'apple',\n",
       " 'may',\n",
       " 'poached',\n",
       " 'electric',\n",
       " 'motorcycle',\n",
       " 'company',\n",
       " 'death',\n",
       " 'drug',\n",
       " 'resistant',\n",
       " 'bacteria',\n",
       " 'often',\n",
       " 'lurk',\n",
       " 'children',\n",
       " 'dogs',\n",
       " 'sandboxes',\n",
       " 'see',\n",
       " 'muslim',\n",
       " 'airport',\n",
       " 'moana',\n",
       " 'sails',\n",
       " 'straight',\n",
       " 'top',\n",
       " 'box',\n",
       " 'office',\n",
       " 'massive',\n",
       " '81',\n",
       " '1',\n",
       " 'million',\n",
       " 'opening',\n",
       " 'selig',\n",
       " 'counted',\n",
       " 'money',\n",
       " 'baseball',\n",
       " 'lost',\n",
       " 'next',\n",
       " 'generation',\n",
       " 'fans',\n",
       " 'devin',\n",
       " 'nunes',\n",
       " 'vows',\n",
       " 'never',\n",
       " 'reveal',\n",
       " 'source',\n",
       " 'surveillance',\n",
       " 'claims',\n",
       " 'scott',\n",
       " 'used',\n",
       " 'stop',\n",
       " 'breathing',\n",
       " 'nearly',\n",
       " '40',\n",
       " 'times',\n",
       " 'hour',\n",
       " 'device',\n",
       " 'changed',\n",
       " 'life',\n",
       " 'medics',\n",
       " 'drop',\n",
       " 'soccer',\n",
       " 'player',\n",
       " 'stretcher',\n",
       " 'ticked',\n",
       " 'give',\n",
       " 'gift',\n",
       " 'play',\n",
       " 'holiday',\n",
       " 'season',\n",
       " 'spicer',\n",
       " 'denies',\n",
       " 'ending',\n",
       " 'maternity',\n",
       " 'care',\n",
       " 'guarantee',\n",
       " 'would',\n",
       " 'mean',\n",
       " 'women',\n",
       " 'pay',\n",
       " 'health',\n",
       " 'care',\n",
       " 'diy',\n",
       " 'sports',\n",
       " 'equipment',\n",
       " 'closet',\n",
       " '1',\n",
       " 'dead',\n",
       " '3',\n",
       " 'injured',\n",
       " 'shooting',\n",
       " 'concert',\n",
       " 'nyc',\n",
       " 'donald',\n",
       " 'trump',\n",
       " 'heading',\n",
       " 'series',\n",
       " 'wins',\n",
       " 'northeast',\n",
       " 'polls',\n",
       " 'say',\n",
       " 'donald',\n",
       " 'trump',\n",
       " 'ready',\n",
       " 'cash',\n",
       " 'self',\n",
       " 'finance',\n",
       " 'entire',\n",
       " 'campaign',\n",
       " 'analysis',\n",
       " 'un',\n",
       " 'rights',\n",
       " 'chief',\n",
       " 'calls',\n",
       " 'humanitarian',\n",
       " 'situation',\n",
       " 'syria',\n",
       " 'outrage',\n",
       " 'track',\n",
       " 'santa',\n",
       " 'claus',\n",
       " 'flight',\n",
       " 'around',\n",
       " 'world',\n",
       " 'christmas',\n",
       " 'eve',\n",
       " 'one',\n",
       " 'planet',\n",
       " 'powerful',\n",
       " 'forces',\n",
       " 'change',\n",
       " 'adolescent',\n",
       " 'girl',\n",
       " 'draymond',\n",
       " 'green',\n",
       " 'take',\n",
       " 'game',\n",
       " 'next',\n",
       " 'level',\n",
       " 'tuning',\n",
       " 'wnba',\n",
       " 'ryan',\n",
       " 'lochte',\n",
       " 'apologizes',\n",
       " 'behavior',\n",
       " 'rio',\n",
       " '4',\n",
       " 'lessons',\n",
       " 'prison',\n",
       " 'taught',\n",
       " 'power',\n",
       " 'control',\n",
       " 'america',\n",
       " 'first',\n",
       " 'muslim',\n",
       " 'fraternity',\n",
       " 'really',\n",
       " 'like',\n",
       " 'vicious',\n",
       " 'knot',\n",
       " 'syria',\n",
       " 'untangling',\n",
       " 'process',\n",
       " 'contains',\n",
       " 'solutions',\n",
       " 'time',\n",
       " 'congressman',\n",
       " 'thinks',\n",
       " 'fix',\n",
       " 'economy',\n",
       " 'drinking',\n",
       " 'beer',\n",
       " 'trump',\n",
       " 'orders',\n",
       " 'strikes',\n",
       " 'syria',\n",
       " 'retaliation',\n",
       " 'chemical',\n",
       " 'attack',\n",
       " 'year',\n",
       " 'round',\n",
       " 'schooling',\n",
       " 'would',\n",
       " 'help',\n",
       " 'minority',\n",
       " 'students',\n",
       " '90',\n",
       " 'zen',\n",
       " 'teachers',\n",
       " 'pledge',\n",
       " 'change',\n",
       " 'culture',\n",
       " 'fosters',\n",
       " 'abuse',\n",
       " 'nypd',\n",
       " 'weighs',\n",
       " 'allowing',\n",
       " 'chokeholds',\n",
       " 'following',\n",
       " 'eric',\n",
       " 'garner',\n",
       " 'death',\n",
       " 'pope',\n",
       " 'francis',\n",
       " 'reminds',\n",
       " 'world',\n",
       " 'caring',\n",
       " 'earth',\n",
       " 'everyone',\n",
       " 'responsibility',\n",
       " 'gravity',\n",
       " '12',\n",
       " 'years',\n",
       " 'slave',\n",
       " 'tie',\n",
       " '2014',\n",
       " 'pga',\n",
       " 'awards',\n",
       " 'national',\n",
       " 'coming',\n",
       " 'day',\n",
       " '150',\n",
       " 'lgbtq',\n",
       " 'sports',\n",
       " 'people',\n",
       " 'come',\n",
       " 'last',\n",
       " 'year',\n",
       " 'john',\n",
       " 'oliver',\n",
       " 'lays',\n",
       " 'disturbing',\n",
       " 'ways',\n",
       " 'trump',\n",
       " 'impacts',\n",
       " 'america',\n",
       " 'house',\n",
       " 'gop',\n",
       " 'crackdown',\n",
       " 'continues',\n",
       " 'look',\n",
       " 'world',\n",
       " 'cup',\n",
       " 'star',\n",
       " 'attacked',\n",
       " 'giant',\n",
       " 'bug',\n",
       " 'inhofe',\n",
       " 'grand',\n",
       " 'climate',\n",
       " 'conspiracy',\n",
       " 'theory',\n",
       " 'barbra',\n",
       " 'streisand',\n",
       " '5',\n",
       " 'questions',\n",
       " 'wish',\n",
       " 'younger',\n",
       " 'people',\n",
       " 'would',\n",
       " 'stop',\n",
       " 'asking',\n",
       " 'albuquerque',\n",
       " 'shooter',\n",
       " 'loose',\n",
       " 'gunman',\n",
       " 'leaves',\n",
       " '1',\n",
       " 'dead',\n",
       " '3',\n",
       " 'injured',\n",
       " 'like',\n",
       " 'lose',\n",
       " 'everything',\n",
       " 'flood',\n",
       " 'demi',\n",
       " 'lovato',\n",
       " 'drops',\n",
       " 'emotional',\n",
       " 'nightingale',\n",
       " 'music',\n",
       " 'vid',\n",
       " 'miley',\n",
       " 'cyrus',\n",
       " 'liam',\n",
       " 'hemsworth',\n",
       " 'smooch',\n",
       " 'nye',\n",
       " 'world',\n",
       " 'notices',\n",
       " 'parks',\n",
       " 'rec',\n",
       " 'star',\n",
       " 'natalie',\n",
       " 'morales',\n",
       " 'comes',\n",
       " 'queer',\n",
       " 'top',\n",
       " 'italy',\n",
       " 'tours',\n",
       " '2015',\n",
       " 'kaia',\n",
       " 'gerber',\n",
       " 'cindy',\n",
       " 'crawford',\n",
       " 'daughter',\n",
       " 'lands',\n",
       " 'major',\n",
       " 'fashion',\n",
       " 'campaign',\n",
       " 'james',\n",
       " 'corden',\n",
       " 'roasts',\n",
       " 'david',\n",
       " 'beckham',\n",
       " 'matching',\n",
       " 'outfits',\n",
       " 'posh',\n",
       " 'mcdonald',\n",
       " 'says',\n",
       " 'packaging',\n",
       " '100',\n",
       " 'percent',\n",
       " 'green',\n",
       " '2025',\n",
       " 'kris',\n",
       " 'jenner',\n",
       " 'turned',\n",
       " 'way',\n",
       " 'drunken',\n",
       " 'valentine',\n",
       " 'day',\n",
       " 'karaoke',\n",
       " 'texas',\n",
       " 'ebola',\n",
       " 'patient',\n",
       " 'fighting',\n",
       " 'life',\n",
       " 'scott',\n",
       " 'pruitt',\n",
       " 'sort',\n",
       " 'answers',\n",
       " 'whether',\n",
       " 'trump',\n",
       " 'believes',\n",
       " 'climate',\n",
       " 'change',\n",
       " 'accused',\n",
       " 'father',\n",
       " 'son',\n",
       " 'urinal',\n",
       " 'thieves',\n",
       " 'flushed',\n",
       " 'cops',\n",
       " '3',\n",
       " 'libertarians',\n",
       " 'fuel',\n",
       " '7',\n",
       " 'million',\n",
       " 'super',\n",
       " 'pac',\n",
       " 'philadelphia',\n",
       " 'mayoral',\n",
       " 'democratic',\n",
       " 'primary',\n",
       " 'air',\n",
       " 'force',\n",
       " 'longer',\n",
       " 'require',\n",
       " 'help',\n",
       " 'god',\n",
       " 'enlistment',\n",
       " 'oaths',\n",
       " 'explosion',\n",
       " 'fells',\n",
       " 'building',\n",
       " 'outside',\n",
       " 'paris',\n",
       " 'killing',\n",
       " 'least',\n",
       " '2',\n",
       " 'source',\n",
       " 'donald',\n",
       " 'trump',\n",
       " 'military',\n",
       " 'expertise',\n",
       " 'finally',\n",
       " 'revealed',\n",
       " 'union',\n",
       " 'claims',\n",
       " 'sanders',\n",
       " 'campaign',\n",
       " 'staffers',\n",
       " 'posed',\n",
       " 'members',\n",
       " 'influence',\n",
       " 'workers',\n",
       " 'seattle',\n",
       " 'mayor',\n",
       " 'accuser',\n",
       " 'sex',\n",
       " 'abuse',\n",
       " 'lawsuit',\n",
       " 'comes',\n",
       " 'forward',\n",
       " 'swedish',\n",
       " 'police',\n",
       " 'featured',\n",
       " 'film',\n",
       " 'shown',\n",
       " 'fox',\n",
       " 'news',\n",
       " 'say',\n",
       " 'selectively',\n",
       " 'edited',\n",
       " 'chromat',\n",
       " 'features',\n",
       " '1',\n",
       " '2',\n",
       " 'plus',\n",
       " 'size',\n",
       " 'models',\n",
       " 'runway',\n",
       " 'councilman',\n",
       " 'calls',\n",
       " 'baltimore',\n",
       " 'rappers',\n",
       " 'inspire',\n",
       " 'students',\n",
       " '10',\n",
       " 'qualities',\n",
       " 'inner',\n",
       " 'spirit',\n",
       " 'parenting',\n",
       " 'advice',\n",
       " 'dare',\n",
       " 'give',\n",
       " 'celebrities',\n",
       " 'celebrate',\n",
       " 'fourth',\n",
       " 'july',\n",
       " 'fun',\n",
       " 'sun',\n",
       " 'international',\n",
       " 'women',\n",
       " 'day',\n",
       " 'western',\n",
       " 'women',\n",
       " 'save',\n",
       " 'world',\n",
       " 'michelle',\n",
       " 'phan',\n",
       " 'youtube',\n",
       " 'beauty',\n",
       " 'bestie',\n",
       " 'empowers',\n",
       " 'women',\n",
       " 'outside',\n",
       " 'caitlyn',\n",
       " 'jenner',\n",
       " 'responds',\n",
       " 'ricky',\n",
       " 'gervais',\n",
       " 'golden',\n",
       " 'globes',\n",
       " 'jokes',\n",
       " 'joy',\n",
       " 'behar',\n",
       " 'responds',\n",
       " 'michael',\n",
       " 'flynn',\n",
       " 'guilty',\n",
       " 'plea',\n",
       " 'pure',\n",
       " 'joy',\n",
       " '6',\n",
       " 'things',\n",
       " 'one',\n",
       " 'tells',\n",
       " 'women',\n",
       " 'weight',\n",
       " 'loss',\n",
       " 'journey',\n",
       " 'ne',\n",
       " 'yo',\n",
       " 'helps',\n",
       " 'raise',\n",
       " '2',\n",
       " '3',\n",
       " 'million',\n",
       " 'california',\n",
       " 'engineering',\n",
       " 'school',\n",
       " 'elizabeth',\n",
       " 'warren',\n",
       " 'calls',\n",
       " 'donald',\n",
       " 'trump',\n",
       " 'racist',\n",
       " 'bully',\n",
       " 'six',\n",
       " 'dead',\n",
       " '10',\n",
       " 'hurt',\n",
       " 'baltimore',\n",
       " 'commuter',\n",
       " 'school',\n",
       " 'bus',\n",
       " 'crash',\n",
       " 'kim',\n",
       " 'gordon',\n",
       " 'clarifies',\n",
       " 'comments',\n",
       " 'lana',\n",
       " 'del',\n",
       " 'rey',\n",
       " 'feminism',\n",
       " 'niece',\n",
       " 'cancer',\n",
       " 'ticked',\n",
       " 'supermodel',\n",
       " 'stephanie',\n",
       " 'seymour',\n",
       " 'arrested',\n",
       " 'charged',\n",
       " 'drunken',\n",
       " 'driving',\n",
       " 'scoliosis',\n",
       " 'need',\n",
       " 'know',\n",
       " 'controversy',\n",
       " 'erupts',\n",
       " 'uk',\n",
       " 'retailer',\n",
       " 'removes',\n",
       " 'gender',\n",
       " 'labels',\n",
       " 'kids',\n",
       " 'clothes',\n",
       " 'megyn',\n",
       " 'kelly',\n",
       " 'donald',\n",
       " 'trump',\n",
       " 'done',\n",
       " 'level',\n",
       " 'best',\n",
       " 'make',\n",
       " 'story',\n",
       " 'secret',\n",
       " 'behind',\n",
       " 'one',\n",
       " 'day',\n",
       " 'project',\n",
       " 'going',\n",
       " 'viral',\n",
       " 'creating',\n",
       " 'leverage',\n",
       " 'none',\n",
       " 'seems',\n",
       " 'exist',\n",
       " 'lawsuit',\n",
       " 'black',\n",
       " 'lives',\n",
       " 'matter',\n",
       " 'central',\n",
       " 'meaning',\n",
       " 'first',\n",
       " 'amendment',\n",
       " 'wire',\n",
       " 'cast',\n",
       " 'reunited',\n",
       " 'baltimore',\n",
       " 'uplift',\n",
       " 'community',\n",
       " 'obama',\n",
       " 'supreme',\n",
       " 'court',\n",
       " 'nominee',\n",
       " 'bragged',\n",
       " 'sending',\n",
       " 'man',\n",
       " 'prison',\n",
       " 'free',\n",
       " 'death',\n",
       " 'c',\n",
       " 'man',\n",
       " 'security',\n",
       " 'guard',\n",
       " 'custody',\n",
       " 'ruled',\n",
       " 'homicide',\n",
       " 'boehner',\n",
       " 'vows',\n",
       " 'leave',\n",
       " 'successor',\n",
       " 'clean',\n",
       " 'slate',\n",
       " 'facing',\n",
       " 'rising',\n",
       " 'seas',\n",
       " 'remote',\n",
       " 'alaskan',\n",
       " 'village',\n",
       " 'votes',\n",
       " 'move',\n",
       " 'worst',\n",
       " 'place',\n",
       " 'world',\n",
       " 'child',\n",
       " 'mom',\n",
       " 'sentenced',\n",
       " 'encouraging',\n",
       " 'boyfriend',\n",
       " 'sex',\n",
       " 'assault',\n",
       " 'baby',\n",
       " 'donald',\n",
       " 'trump',\n",
       " 'assault',\n",
       " 'values',\n",
       " 'women',\n",
       " 'march',\n",
       " 'inspired',\n",
       " 'run',\n",
       " 'unseating',\n",
       " 'gop',\n",
       " 'men',\n",
       " 'worth',\n",
       " 'america',\n",
       " 'gop',\n",
       " 'senators',\n",
       " 'ready',\n",
       " 'accept',\n",
       " 'trump',\n",
       " 'champion',\n",
       " 'price',\n",
       " 'gouging',\n",
       " 'pharma',\n",
       " 'ceo',\n",
       " 'takes',\n",
       " 'cancer',\n",
       " 'company',\n",
       " 'straight',\n",
       " 'outta',\n",
       " 'compton',\n",
       " 'stunning',\n",
       " 'surprise',\n",
       " 'carly',\n",
       " 'rae',\n",
       " 'jepsen',\n",
       " 'released',\n",
       " 'new',\n",
       " 'single',\n",
       " 'gunman',\n",
       " 'kills',\n",
       " 'one',\n",
       " 'wounds',\n",
       " 'four',\n",
       " 'shooting',\n",
       " 'german',\n",
       " 'nightclub',\n",
       " 'mountain',\n",
       " 'lion',\n",
       " 'tracked',\n",
       " 'scientists',\n",
       " 'found',\n",
       " 'dead',\n",
       " 'near',\n",
       " 'malibu',\n",
       " 'road',\n",
       " 'noah',\n",
       " 'cyrus',\n",
       " 'makes',\n",
       " 'late',\n",
       " 'night',\n",
       " 'debut',\n",
       " 'belting',\n",
       " 'make',\n",
       " 'cry',\n",
       " 'taylor',\n",
       " 'swift',\n",
       " 'used',\n",
       " 'gremlin',\n",
       " 'voice',\n",
       " 'writing',\n",
       " '1989',\n",
       " 'best',\n",
       " 'way',\n",
       " 'eat',\n",
       " 'avocados',\n",
       " 'avocado',\n",
       " 'pasta',\n",
       " 'open',\n",
       " 'letter',\n",
       " 'progressives',\n",
       " 'tpp',\n",
       " 'yet',\n",
       " 'progressive',\n",
       " 'trade',\n",
       " 'agreement',\n",
       " 'history',\n",
       " 'justice',\n",
       " 'thomas',\n",
       " 'wife',\n",
       " 'calls',\n",
       " 'supreme',\n",
       " 'court',\n",
       " 'retirement',\n",
       " 'report',\n",
       " 'bogus',\n",
       " '7',\n",
       " 'ways',\n",
       " 'breakup',\n",
       " 'like',\n",
       " 'boss',\n",
       " 'sure',\n",
       " 'seems',\n",
       " 'like',\n",
       " 'frankie',\n",
       " 'muniz',\n",
       " 'wants',\n",
       " 'malcolm',\n",
       " 'middle',\n",
       " 'reboot',\n",
       " 'using',\n",
       " 'united',\n",
       " 'fiasco',\n",
       " 'flourish',\n",
       " 'future',\n",
       " 'thank',\n",
       " 'teacher',\n",
       " 'thursday',\n",
       " 'dominic',\n",
       " 'casulli',\n",
       " 'power',\n",
       " 'encouragement',\n",
       " 'part',\n",
       " '1',\n",
       " 'toe',\n",
       " 'arctic',\n",
       " 'ocean',\n",
       " 'canada',\n",
       " 'northwest',\n",
       " 'territories',\n",
       " 'looney',\n",
       " 'front',\n",
       " 'part',\n",
       " '2',\n",
       " 'never',\n",
       " 'happen',\n",
       " 'rubio',\n",
       " 'supporters',\n",
       " 'get',\n",
       " 'scuffle',\n",
       " 'rubiobot',\n",
       " 'music',\n",
       " 'strangers',\n",
       " 'film',\n",
       " 'review',\n",
       " 'dr',\n",
       " 'lloyd',\n",
       " 'sederer',\n",
       " 'obama',\n",
       " 'chides',\n",
       " 'darrell',\n",
       " 'issa',\n",
       " 'touting',\n",
       " 'alliance',\n",
       " 'election',\n",
       " 'fight',\n",
       " 'pope',\n",
       " 'francis',\n",
       " 'iraq',\n",
       " 'peace',\n",
       " 'message',\n",
       " 'meets',\n",
       " 'reality',\n",
       " 'war',\n",
       " 'ant',\n",
       " 'man',\n",
       " 'wasp',\n",
       " 'trailer',\n",
       " 'brings',\n",
       " 'fun',\n",
       " 'avengers',\n",
       " 'infinity',\n",
       " 'war',\n",
       " 'moses',\n",
       " 'red',\n",
       " 'sea',\n",
       " 'george',\n",
       " 'takei',\n",
       " 'accused',\n",
       " 'groping',\n",
       " 'former',\n",
       " 'male',\n",
       " 'model',\n",
       " '1981',\n",
       " 'hollywood',\n",
       " 'boys',\n",
       " 'club',\n",
       " 'supports',\n",
       " 'casey',\n",
       " 'affleck',\n",
       " 'total',\n",
       " 'disgrace',\n",
       " '3',\n",
       " 'myths',\n",
       " 'low',\n",
       " 'libido',\n",
       " 'huffpollster',\n",
       " 'americans',\n",
       " 'see',\n",
       " 'progress',\n",
       " 'room',\n",
       " 'improvement',\n",
       " 'voting',\n",
       " 'rights',\n",
       " 'world',\n",
       " 'miss',\n",
       " 'goal',\n",
       " 'universal',\n",
       " 'education',\n",
       " '50',\n",
       " 'years',\n",
       " 'un',\n",
       " 'jennifer',\n",
       " 'lopez',\n",
       " 'name',\n",
       " 'jennifer',\n",
       " 'lopez',\n",
       " 'rebuild',\n",
       " 'credit',\n",
       " 'bankruptcy',\n",
       " 'fast',\n",
       " 'discover',\n",
       " 'climate',\n",
       " 'change',\n",
       " 'rapidly',\n",
       " 'transforming',\n",
       " 'earth',\n",
       " 'google',\n",
       " 'timelapse',\n",
       " 'voting',\n",
       " 'lines',\n",
       " 'shorter',\n",
       " 'mostly',\n",
       " 'whites',\n",
       " 'amanda',\n",
       " 'slavin',\n",
       " 'statistic',\n",
       " 'laurie',\n",
       " 'hernandez',\n",
       " 'val',\n",
       " 'chmerkovskiy',\n",
       " 'already',\n",
       " ...]"
      ]
     },
     "execution_count": 202,
     "metadata": {},
     "output_type": "execute_result"
    }
   ],
   "source": [
    "[y for x in todos_titulares_no_sarcasmo for y in x]\n",
    "# una forma de obtener cada palabra por separado"
   ]
  },
  {
   "cell_type": "code",
   "execution_count": 203,
   "metadata": {
    "id": "Ck_c_x4GRuJe",
    "outputId": "582bce90-6bda-42b5-88d2-8a3228d1fe4e"
   },
   "outputs": [
    {
     "data": {
      "text/plain": [
       "['former',\n",
       " 'versace',\n",
       " 'store',\n",
       " 'clerk',\n",
       " 'sues',\n",
       " 'secret',\n",
       " 'black',\n",
       " 'code',\n",
       " 'minority',\n",
       " 'shoppers']"
      ]
     },
     "execution_count": 203,
     "metadata": {},
     "output_type": "execute_result"
    }
   ],
   "source": [
    "# una forma de iterar mas rapida. \n",
    "todas_las_palabras = list(itertools.chain(*todos_titulares_no_sarcasmo))\n",
    "todas_las_palabras[0:10]"
   ]
  },
  {
   "cell_type": "code",
   "execution_count": 204,
   "metadata": {
    "id": "A_EXxP1GRuJe",
    "outputId": "6228bff0-9589-414c-ccc7-384bbd216cbf"
   },
   "outputs": [
    {
     "data": {
      "text/plain": [
       "FreqDist({'trump': 1446, 'new': 680, 'donald': 458, 'says': 349, 'women': 317, 'one': 268, 'u': 263, 'year': 244, 'first': 242, 'world': 241, ...})"
      ]
     },
     "execution_count": 204,
     "metadata": {},
     "output_type": "execute_result"
    }
   ],
   "source": [
    "freq_no_sarcasmo = nltk.FreqDist(todas_las_palabras)\n",
    "freq_no_sarcasmo"
   ]
  },
  {
   "cell_type": "code",
   "execution_count": 205,
   "metadata": {
    "id": "fJ6scOkqRuJe",
    "outputId": "04780aa3-b220-42a7-8812-22a77d4947e1"
   },
   "outputs": [
    {
     "data": {
      "text/html": [
       "<div>\n",
       "<style scoped>\n",
       "    .dataframe tbody tr th:only-of-type {\n",
       "        vertical-align: middle;\n",
       "    }\n",
       "\n",
       "    .dataframe tbody tr th {\n",
       "        vertical-align: top;\n",
       "    }\n",
       "\n",
       "    .dataframe thead th {\n",
       "        text-align: right;\n",
       "    }\n",
       "</style>\n",
       "<table border=\"1\" class=\"dataframe\">\n",
       "  <thead>\n",
       "    <tr style=\"text-align: right;\">\n",
       "      <th></th>\n",
       "      <th>Word</th>\n",
       "      <th>Frequency</th>\n",
       "    </tr>\n",
       "  </thead>\n",
       "  <tbody>\n",
       "    <tr>\n",
       "      <th>0</th>\n",
       "      <td>former</td>\n",
       "      <td>82</td>\n",
       "    </tr>\n",
       "    <tr>\n",
       "      <th>1</th>\n",
       "      <td>versace</td>\n",
       "      <td>1</td>\n",
       "    </tr>\n",
       "    <tr>\n",
       "      <th>2</th>\n",
       "      <td>store</td>\n",
       "      <td>14</td>\n",
       "    </tr>\n",
       "    <tr>\n",
       "      <th>3</th>\n",
       "      <td>clerk</td>\n",
       "      <td>5</td>\n",
       "    </tr>\n",
       "    <tr>\n",
       "      <th>4</th>\n",
       "      <td>sues</td>\n",
       "      <td>15</td>\n",
       "    </tr>\n",
       "  </tbody>\n",
       "</table>\n",
       "</div>"
      ],
      "text/plain": [
       "      Word  Frequency\n",
       "0   former         82\n",
       "1  versace          1\n",
       "2    store         14\n",
       "3    clerk          5\n",
       "4     sues         15"
      ]
     },
     "execution_count": 205,
     "metadata": {},
     "output_type": "execute_result"
    }
   ],
   "source": [
    "df_no_sarcasmo = pd.DataFrame(freq_no_sarcasmo.items(), columns = [\"Word\",\"Frequency\"])\n",
    "df_no_sarcasmo.head()"
   ]
  },
  {
   "cell_type": "code",
   "execution_count": 206,
   "metadata": {
    "id": "jb2Eyfp-RuJe",
    "outputId": "7813ebc6-ffa1-464d-85db-13d026cf790e"
   },
   "outputs": [
    {
     "data": {
      "text/html": [
       "<div>\n",
       "<style scoped>\n",
       "    .dataframe tbody tr th:only-of-type {\n",
       "        vertical-align: middle;\n",
       "    }\n",
       "\n",
       "    .dataframe tbody tr th {\n",
       "        vertical-align: top;\n",
       "    }\n",
       "\n",
       "    .dataframe thead th {\n",
       "        text-align: right;\n",
       "    }\n",
       "</style>\n",
       "<table border=\"1\" class=\"dataframe\">\n",
       "  <thead>\n",
       "    <tr style=\"text-align: right;\">\n",
       "      <th></th>\n",
       "      <th>Word</th>\n",
       "      <th>Frequency</th>\n",
       "    </tr>\n",
       "  </thead>\n",
       "  <tbody>\n",
       "    <tr>\n",
       "      <th>46</th>\n",
       "      <td>trump</td>\n",
       "      <td>1446</td>\n",
       "    </tr>\n",
       "    <tr>\n",
       "      <th>671</th>\n",
       "      <td>new</td>\n",
       "      <td>680</td>\n",
       "    </tr>\n",
       "    <tr>\n",
       "      <th>229</th>\n",
       "      <td>donald</td>\n",
       "      <td>458</td>\n",
       "    </tr>\n",
       "    <tr>\n",
       "      <th>421</th>\n",
       "      <td>says</td>\n",
       "      <td>349</td>\n",
       "    </tr>\n",
       "    <tr>\n",
       "      <th>29</th>\n",
       "      <td>women</td>\n",
       "      <td>317</td>\n",
       "    </tr>\n",
       "  </tbody>\n",
       "</table>\n",
       "</div>"
      ],
      "text/plain": [
       "       Word  Frequency\n",
       "46    trump       1446\n",
       "671     new        680\n",
       "229  donald        458\n",
       "421    says        349\n",
       "29    women        317"
      ]
     },
     "execution_count": 206,
     "metadata": {},
     "output_type": "execute_result"
    }
   ],
   "source": [
    "df_no_sarcasmo.sort_values('Frequency',ascending=False, inplace = True)\n",
    "df_no_sarcasmo.head()"
   ]
  },
  {
   "cell_type": "code",
   "execution_count": 207,
   "metadata": {
    "id": "2teBmOLKRuJf",
    "outputId": "794649b1-a296-4efd-9c94-5ba36d42fa7d"
   },
   "outputs": [
    {
     "data": {
      "image/png": "[encoded data removed]",
      "text/plain": [
       "<Figure size 1500x800 with 1 Axes>"
      ]
     },
     "metadata": {},
     "output_type": "display_data"
    }
   ],
   "source": [
    "plt.figure(figsize = (15,8))\n",
    "plot = sns.barplot(x  = df_no_sarcasmo.iloc[:30].Word, y = df_no_sarcasmo.iloc[:30].Frequency)\n",
    "plt.xticks(rotation=45)\n",
    "plt.show()"
   ]
  },
  {
   "cell_type": "markdown",
   "metadata": {},
   "source": [
    "## Riqueza lexica"
   ]
  },
  {
   "cell_type": "code",
   "execution_count": 208,
   "metadata": {},
   "outputs": [],
   "source": [
    "conteo_palabras=len(todas_las_palabras)"
   ]
  },
  {
   "cell_type": "code",
   "execution_count": 209,
   "metadata": {},
   "outputs": [
    {
     "data": {
      "text/plain": [
       "103167"
      ]
     },
     "execution_count": 209,
     "metadata": {},
     "output_type": "execute_result"
    }
   ],
   "source": [
    "conteo_palabras"
   ]
  },
  {
   "cell_type": "code",
   "execution_count": 210,
   "metadata": {},
   "outputs": [],
   "source": [
    "conteo_palabras_unicas=len(set(todas_las_palabras))"
   ]
  },
  {
   "cell_type": "code",
   "execution_count": 211,
   "metadata": {},
   "outputs": [
    {
     "data": {
      "text/plain": [
       "17336"
      ]
     },
     "execution_count": 211,
     "metadata": {},
     "output_type": "execute_result"
    }
   ],
   "source": [
    "conteo_palabras_unicas"
   ]
  },
  {
   "cell_type": "markdown",
   "metadata": {},
   "source": [
    "#### cuanto más largo sea el texto, menos riqueza lexica habrá: el vocabulario es limitado, la longitud del texto no"
   ]
  },
  {
   "cell_type": "code",
   "execution_count": 212,
   "metadata": {},
   "outputs": [
    {
     "data": {
      "text/plain": [
       "0.16803822927874223"
      ]
     },
     "execution_count": 212,
     "metadata": {},
     "output_type": "execute_result"
    }
   ],
   "source": [
    "conteo_palabras_unicas/conteo_palabras"
   ]
  },
  {
   "cell_type": "markdown",
   "metadata": {
    "id": "Kig5JLUaRuJf"
   },
   "source": [
    "#### Sarcasmo\n",
    "\n",
    "**Ejercicio 1** Rehacer el punto anterior pero para el dataset de sarcasmo"
   ]
  },
  {
   "cell_type": "code",
   "execution_count": 213,
   "metadata": {
    "id": "ps4C4j_6RuJf",
    "outputId": "8e1fc595-56c5-407e-ad31-a7d708369d4e"
   },
   "outputs": [
    {
     "data": {
      "text/html": [
       "<div>\n",
       "<style scoped>\n",
       "    .dataframe tbody tr th:only-of-type {\n",
       "        vertical-align: middle;\n",
       "    }\n",
       "\n",
       "    .dataframe tbody tr th {\n",
       "        vertical-align: top;\n",
       "    }\n",
       "\n",
       "    .dataframe thead th {\n",
       "        text-align: right;\n",
       "    }\n",
       "</style>\n",
       "<table border=\"1\" class=\"dataframe\">\n",
       "  <thead>\n",
       "    <tr style=\"text-align: right;\">\n",
       "      <th></th>\n",
       "      <th>article_link</th>\n",
       "      <th>headline</th>\n",
       "      <th>is_sarcastic</th>\n",
       "    </tr>\n",
       "  </thead>\n",
       "  <tbody>\n",
       "    <tr>\n",
       "      <th>2</th>\n",
       "      <td>https://local.theonion.com/mom-starting-to-fea...</td>\n",
       "      <td>mom starting to fear son's web series closest ...</td>\n",
       "      <td>1</td>\n",
       "    </tr>\n",
       "    <tr>\n",
       "      <th>3</th>\n",
       "      <td>https://politics.theonion.com/boehner-just-wan...</td>\n",
       "      <td>boehner just wants wife to listen, not come up...</td>\n",
       "      <td>1</td>\n",
       "    </tr>\n",
       "    <tr>\n",
       "      <th>8</th>\n",
       "      <td>https://politics.theonion.com/top-snake-handle...</td>\n",
       "      <td>top snake handler leaves sinking huckabee camp...</td>\n",
       "      <td>1</td>\n",
       "    </tr>\n",
       "    <tr>\n",
       "      <th>15</th>\n",
       "      <td>https://entertainment.theonion.com/nuclear-bom...</td>\n",
       "      <td>nuclear bomb detonates during rehearsal for 's...</td>\n",
       "      <td>1</td>\n",
       "    </tr>\n",
       "    <tr>\n",
       "      <th>16</th>\n",
       "      <td>https://www.theonion.com/cosby-lawyer-asks-why...</td>\n",
       "      <td>cosby lawyer asks why accusers didn't come for...</td>\n",
       "      <td>1</td>\n",
       "    </tr>\n",
       "  </tbody>\n",
       "</table>\n",
       "</div>"
      ],
      "text/plain": [
       "                                         article_link  \\\n",
       "2   https://local.theonion.com/mom-starting-to-fea...   \n",
       "3   https://politics.theonion.com/boehner-just-wan...   \n",
       "8   https://politics.theonion.com/top-snake-handle...   \n",
       "15  https://entertainment.theonion.com/nuclear-bom...   \n",
       "16  https://www.theonion.com/cosby-lawyer-asks-why...   \n",
       "\n",
       "                                             headline  is_sarcastic  \n",
       "2   mom starting to fear son's web series closest ...             1  \n",
       "3   boehner just wants wife to listen, not come up...             1  \n",
       "8   top snake handler leaves sinking huckabee camp...             1  \n",
       "15  nuclear bomb detonates during rehearsal for 's...             1  \n",
       "16  cosby lawyer asks why accusers didn't come for...             1  "
      ]
     },
     "execution_count": 213,
     "metadata": {},
     "output_type": "execute_result"
    }
   ],
   "source": [
    "dataset_sarcasmo = dataset[dataset.is_sarcastic==1]\n",
    "dataset_sarcasmo.head()"
   ]
  },
  {
   "cell_type": "code",
   "execution_count": 214,
   "metadata": {},
   "outputs": [
    {
     "data": {
      "text/plain": [
       "2        [mom, starting, fear, son, web, series, closes...\n",
       "3        [boehner, wants, wife, listen, come, alternati...\n",
       "8        [top, snake, handler, leaves, sinking, huckabe...\n",
       "15       [nuclear, bomb, detonates, rehearsal, spider, ...\n",
       "16       [cosby, lawyer, asks, accusers, come, forward,...\n",
       "                               ...                        \n",
       "26693    [new, bailiff, tired, hearing, old, bailiff, t...\n",
       "26694    [breaking, onion, kill, range, boston, bomber,...\n",
       "26695    [seaworld, crowd, applauds, dolphin, playfully...\n",
       "26702    [pentagon, withhold, budget, figures, respect,...\n",
       "26703    [pope, francis, wearing, sweater, vestments, g...\n",
       "Name: headline, Length: 11724, dtype: object"
      ]
     },
     "execution_count": 214,
     "metadata": {},
     "output_type": "execute_result"
    }
   ],
   "source": [
    "dataset_sarcasmo.headline.apply(normaliza)"
   ]
  },
  {
   "cell_type": "code",
   "execution_count": 215,
   "metadata": {},
   "outputs": [],
   "source": [
    "todos_titulares_sarcasmo=dataset_sarcasmo.headline.apply(normaliza)"
   ]
  },
  {
   "cell_type": "code",
   "execution_count": 216,
   "metadata": {},
   "outputs": [
    {
     "data": {
      "text/plain": [
       "['mom',\n",
       " 'starting',\n",
       " 'fear',\n",
       " 'son',\n",
       " 'web',\n",
       " 'series',\n",
       " 'closest',\n",
       " 'thing',\n",
       " 'grandchild',\n",
       " 'boehner',\n",
       " 'wants',\n",
       " 'wife',\n",
       " 'listen',\n",
       " 'come',\n",
       " 'alternative',\n",
       " 'debt',\n",
       " 'reduction',\n",
       " 'ideas',\n",
       " 'top',\n",
       " 'snake',\n",
       " 'handler',\n",
       " 'leaves',\n",
       " 'sinking',\n",
       " 'huckabee',\n",
       " 'campaign',\n",
       " 'nuclear',\n",
       " 'bomb',\n",
       " 'detonates',\n",
       " 'rehearsal',\n",
       " 'spider',\n",
       " 'man',\n",
       " 'musical',\n",
       " 'cosby',\n",
       " 'lawyer',\n",
       " 'asks',\n",
       " 'accusers',\n",
       " 'come',\n",
       " 'forward',\n",
       " 'smeared',\n",
       " 'legal',\n",
       " 'team',\n",
       " 'years',\n",
       " 'ago',\n",
       " 'stock',\n",
       " 'analysts',\n",
       " 'confused',\n",
       " 'frightened',\n",
       " 'boar',\n",
       " 'market',\n",
       " 'courtroom',\n",
       " 'sketch',\n",
       " 'artist',\n",
       " 'clear',\n",
       " 'manga',\n",
       " 'influences',\n",
       " 'trump',\n",
       " 'assures',\n",
       " 'nation',\n",
       " 'decision',\n",
       " 'syrian',\n",
       " 'airstrikes',\n",
       " 'came',\n",
       " 'carefully',\n",
       " 'considering',\n",
       " 'passing',\n",
       " 'whims',\n",
       " 'ex',\n",
       " 'con',\n",
       " 'back',\n",
       " 'behind',\n",
       " 'bar',\n",
       " 'careful',\n",
       " 'consideration',\n",
       " 'bush',\n",
       " 'recommends',\n",
       " 'oil',\n",
       " 'drilling',\n",
       " 'giant',\n",
       " 'altoid',\n",
       " 'heading',\n",
       " 'toward',\n",
       " 'earth',\n",
       " 'robin',\n",
       " 'williams',\n",
       " 'inflicted',\n",
       " 'holiday',\n",
       " 'moviegoers',\n",
       " 'eighth',\n",
       " 'straight',\n",
       " 'year',\n",
       " 'rescuers',\n",
       " 'heroically',\n",
       " 'help',\n",
       " 'beached',\n",
       " 'garbage',\n",
       " 'back',\n",
       " 'ocean',\n",
       " 'christian',\n",
       " 'bale',\n",
       " 'visits',\n",
       " 'sikh',\n",
       " 'temple',\n",
       " 'victims',\n",
       " 'right',\n",
       " 'live',\n",
       " 'life',\n",
       " 'complete',\n",
       " 'stunned',\n",
       " 'horror',\n",
       " 'added',\n",
       " 'constitution',\n",
       " 'nasa',\n",
       " 'almost',\n",
       " 'positive',\n",
       " 'mars',\n",
       " 'rocky',\n",
       " 'monster',\n",
       " 'undeterred',\n",
       " 'night',\n",
       " 'light',\n",
       " 'longtime',\n",
       " 'teacher',\n",
       " 'retires',\n",
       " 'without',\n",
       " 'changing',\n",
       " 'single',\n",
       " 'student',\n",
       " 'life',\n",
       " 'new',\n",
       " 'star',\n",
       " 'wars',\n",
       " 'film',\n",
       " 'disappoints',\n",
       " 'die',\n",
       " 'hard',\n",
       " 'nien',\n",
       " 'nunb',\n",
       " 'fans',\n",
       " 'bats',\n",
       " 'shooed',\n",
       " 'nation',\n",
       " 'waterslide',\n",
       " 'tunnels',\n",
       " 'preparation',\n",
       " 'summer',\n",
       " 'mobile',\n",
       " 'news',\n",
       " 'crew',\n",
       " 'reports',\n",
       " 'van',\n",
       " 'breaking',\n",
       " 'obama',\n",
       " 'colorado',\n",
       " 'appraised',\n",
       " 'trouble',\n",
       " 'tv',\n",
       " 'africa',\n",
       " 'brita',\n",
       " 'unveils',\n",
       " 'new',\n",
       " 'throat',\n",
       " 'water',\n",
       " 'filters',\n",
       " 'report',\n",
       " 'john',\n",
       " 'grisham',\n",
       " 'slowly',\n",
       " 'surely',\n",
       " 'climbing',\n",
       " 'list',\n",
       " 'greatest',\n",
       " 'living',\n",
       " 'american',\n",
       " 'authors',\n",
       " 'ghost',\n",
       " 'make',\n",
       " 'simple',\n",
       " 'cup',\n",
       " 'coffee',\n",
       " 'without',\n",
       " 'everyone',\n",
       " 'freaking',\n",
       " 'tupperware',\n",
       " 'never',\n",
       " 'truly',\n",
       " 'recover',\n",
       " 'red',\n",
       " 'curry',\n",
       " 'leftovers',\n",
       " 'area',\n",
       " 'woman',\n",
       " 'said',\n",
       " 'sorry',\n",
       " '118',\n",
       " 'times',\n",
       " 'yesterday',\n",
       " 'north',\n",
       " 'dakota',\n",
       " 'heard',\n",
       " '48',\n",
       " 'hours',\n",
       " 'sick',\n",
       " 'fucks',\n",
       " 'line',\n",
       " 'gape',\n",
       " 'dead',\n",
       " 'body',\n",
       " 'breast',\n",
       " 'implants',\n",
       " 'found',\n",
       " 'cause',\n",
       " 'problems',\n",
       " 'laboratory',\n",
       " 'mice',\n",
       " 'ceo',\n",
       " 'funeral',\n",
       " 'networking',\n",
       " 'dream',\n",
       " 'sonny',\n",
       " 'bono',\n",
       " 'foundation',\n",
       " 'prevents',\n",
       " 'risk',\n",
       " 'youths',\n",
       " 'skiing',\n",
       " 'trees',\n",
       " '6',\n",
       " 'year',\n",
       " 'old',\n",
       " 'cries',\n",
       " 'told',\n",
       " 'mtm',\n",
       " 'productions',\n",
       " 'kitten',\n",
       " 'dead',\n",
       " 'ex',\n",
       " 'boyfriend',\n",
       " 'thought',\n",
       " 'check',\n",
       " 'throw',\n",
       " 'entire',\n",
       " 'day',\n",
       " 'doctors',\n",
       " 'restore',\n",
       " 'ken',\n",
       " 'burns',\n",
       " 'full',\n",
       " 'color',\n",
       " 'vision',\n",
       " 'removing',\n",
       " 'massive',\n",
       " 'tumor',\n",
       " 'filmmaker',\n",
       " 'visual',\n",
       " 'cortex',\n",
       " 'must',\n",
       " 'make',\n",
       " 'sure',\n",
       " 'skills',\n",
       " 'please',\n",
       " 'grandson',\n",
       " 'says',\n",
       " 'queen',\n",
       " 'elizabeth',\n",
       " 'disrobing',\n",
       " 'meghan',\n",
       " 'markle',\n",
       " 'man',\n",
       " 'visiting',\n",
       " 'hometown',\n",
       " 'amazed',\n",
       " 'find',\n",
       " 'childhood',\n",
       " 'insecurities',\n",
       " 'still',\n",
       " 'clinton',\n",
       " 'becomes',\n",
       " 'first',\n",
       " 'president',\n",
       " 'clear',\n",
       " '18',\n",
       " 'feet',\n",
       " 'pole',\n",
       " 'vault',\n",
       " 'hunter',\n",
       " 'thompson',\n",
       " 'shoots',\n",
       " 'mouth',\n",
       " 'one',\n",
       " 'last',\n",
       " 'time',\n",
       " 'jealous',\n",
       " 'gps',\n",
       " 'clearly',\n",
       " 'wants',\n",
       " 'man',\n",
       " 'back',\n",
       " 'wife',\n",
       " 'l',\n",
       " 'grants',\n",
       " 'clippers',\n",
       " '12',\n",
       " 'new',\n",
       " 'nets',\n",
       " 'café',\n",
       " 'adds',\n",
       " 'heartbreaking',\n",
       " 'little',\n",
       " 'lunch',\n",
       " 'menu',\n",
       " 'whale',\n",
       " 'regrets',\n",
       " 'eating',\n",
       " '290',\n",
       " '000',\n",
       " 'plastic',\n",
       " 'poker',\n",
       " 'chips',\n",
       " 'fell',\n",
       " 'container',\n",
       " 'ship',\n",
       " 'late',\n",
       " 'audition',\n",
       " 'asks',\n",
       " 'perfect',\n",
       " 'actor',\n",
       " 'role',\n",
       " 'poking',\n",
       " 'head',\n",
       " 'room',\n",
       " 'producers',\n",
       " 'giving',\n",
       " 'hope',\n",
       " 'robert',\n",
       " 'de',\n",
       " 'niro',\n",
       " 'turn',\n",
       " '58',\n",
       " 'movie',\n",
       " 'role',\n",
       " 'take',\n",
       " 'slow',\n",
       " 'fine',\n",
       " 'drunk',\n",
       " 'driver',\n",
       " 'assures',\n",
       " 'self',\n",
       " 'speeding',\n",
       " 'away',\n",
       " 'stolen',\n",
       " 'police',\n",
       " 'car',\n",
       " 'paul',\n",
       " 'newman',\n",
       " 'dies',\n",
       " 'consuming',\n",
       " '51',\n",
       " 'hard',\n",
       " 'boiled',\n",
       " 'eggs',\n",
       " 'yak',\n",
       " 'chews',\n",
       " 'thoughtfully',\n",
       " 'man',\n",
       " 'worried',\n",
       " 'drug',\n",
       " 'dealer',\n",
       " 'picking',\n",
       " 'phone',\n",
       " 'dad',\n",
       " 'recommends',\n",
       " 'hotel',\n",
       " '10',\n",
       " 'miles',\n",
       " 'away',\n",
       " 'city',\n",
       " 'visiting',\n",
       " 'southern',\n",
       " 'comfort',\n",
       " 'comforts',\n",
       " 'southerner',\n",
       " 'chubby',\n",
       " 'jewish',\n",
       " 'boy',\n",
       " 'dreams',\n",
       " 'one',\n",
       " 'day',\n",
       " 'next',\n",
       " 'apatow',\n",
       " 'muse',\n",
       " 'family',\n",
       " 'chooses',\n",
       " 'different',\n",
       " 'dog',\n",
       " 'reincarnated',\n",
       " 'grandfather',\n",
       " 'fan',\n",
       " 'disappointed',\n",
       " 'learn',\n",
       " 'l',\n",
       " 'ron',\n",
       " 'hubbard',\n",
       " 'scientologist',\n",
       " 'marriage',\n",
       " 'breaks',\n",
       " 'procreative',\n",
       " 'differences',\n",
       " 'fox',\n",
       " 'news',\n",
       " 'problem',\n",
       " 'solvers',\n",
       " 'way',\n",
       " 'heads',\n",
       " 'bashar',\n",
       " 'al',\n",
       " 'assad',\n",
       " 'tries',\n",
       " 'tiny',\n",
       " 'bit',\n",
       " 'sarin',\n",
       " 'gas',\n",
       " 'self',\n",
       " 'see',\n",
       " 'like',\n",
       " 'teacher',\n",
       " 'bitches',\n",
       " 'paycheck',\n",
       " 'sixth',\n",
       " 'grade',\n",
       " 'class',\n",
       " 'area',\n",
       " 'insurance',\n",
       " 'salesman',\n",
       " 'celebrates',\n",
       " '14th',\n",
       " 'year',\n",
       " 'quoting',\n",
       " 'fletch',\n",
       " 'friends',\n",
       " 'always',\n",
       " 'best',\n",
       " 'behavior',\n",
       " 'around',\n",
       " 'neil',\n",
       " 'labute',\n",
       " 'man',\n",
       " 'vows',\n",
       " 'never',\n",
       " 'watch',\n",
       " 'another',\n",
       " 'sci',\n",
       " 'fi',\n",
       " 'movie',\n",
       " 'physicist',\n",
       " 'friend',\n",
       " 'biologists',\n",
       " 'announce',\n",
       " 'done',\n",
       " 'rodents',\n",
       " 'new',\n",
       " 'movie',\n",
       " 'taps',\n",
       " 'nation',\n",
       " 'love',\n",
       " 'rapping',\n",
       " 'kangaroos',\n",
       " 'newspaper',\n",
       " 'starting',\n",
       " 'worry',\n",
       " 'spending',\n",
       " 'much',\n",
       " 'time',\n",
       " 'facebook',\n",
       " 'healthy',\n",
       " 'vatican',\n",
       " 'putting',\n",
       " 'feelers',\n",
       " 'public',\n",
       " 'would',\n",
       " 'react',\n",
       " 'another',\n",
       " 'children',\n",
       " 'crusade',\n",
       " 'trump',\n",
       " 'makes',\n",
       " 'last',\n",
       " 'minute',\n",
       " 'push',\n",
       " 'appeal',\n",
       " 'whites',\n",
       " 'child',\n",
       " 'fondest',\n",
       " 'memories',\n",
       " 'times',\n",
       " 'dad',\n",
       " 'trying',\n",
       " 'make',\n",
       " 'things',\n",
       " 'man',\n",
       " 'failing',\n",
       " 'heed',\n",
       " 'harsh',\n",
       " 'lessons',\n",
       " 'past',\n",
       " 'orders',\n",
       " 'sonic',\n",
       " 'bacon',\n",
       " 'cheeseburger',\n",
       " 'toaster',\n",
       " 'ken',\n",
       " 'burns',\n",
       " 'completes',\n",
       " 'documentary',\n",
       " 'fucking',\n",
       " 'liars',\n",
       " 'claimed',\n",
       " 'watched',\n",
       " 'entire',\n",
       " 'jazz',\n",
       " 'series',\n",
       " 'magic',\n",
       " 'markered',\n",
       " 'initials',\n",
       " 'fail',\n",
       " 'deter',\n",
       " 'breakroom',\n",
       " 'rice',\n",
       " 'cake',\n",
       " 'thief',\n",
       " 'god',\n",
       " 'humbled',\n",
       " 'answer',\n",
       " 'jeopardy',\n",
       " 'clue',\n",
       " 'female',\n",
       " 'barista',\n",
       " 'getting',\n",
       " 'lot',\n",
       " 'better',\n",
       " 'avoiding',\n",
       " 'touching',\n",
       " 'male',\n",
       " 'patrons',\n",
       " 'hands',\n",
       " 'pay',\n",
       " 'couple',\n",
       " 'point',\n",
       " 'comfortable',\n",
       " 'using',\n",
       " 'toilet',\n",
       " 'time',\n",
       " 'scalia',\n",
       " 'goes',\n",
       " 'abortion',\n",
       " 'bender',\n",
       " 'passed',\n",
       " 'chief',\n",
       " 'justice',\n",
       " 'campbell',\n",
       " 'unveils',\n",
       " 'one',\n",
       " 'big',\n",
       " 'sized',\n",
       " 'noodle',\n",
       " 'area',\n",
       " 'man',\n",
       " 'going',\n",
       " 'finish',\n",
       " 'fries',\n",
       " 'restaurant',\n",
       " 'eating',\n",
       " 'challenge',\n",
       " 'rewards',\n",
       " 'patron',\n",
       " 'consume',\n",
       " 'reasonably',\n",
       " 'portioned',\n",
       " 'meal',\n",
       " 'fun',\n",
       " 'sticker',\n",
       " 'placed',\n",
       " 'child',\n",
       " 'ventilator',\n",
       " 'one',\n",
       " 'mcdonald',\n",
       " 'plate',\n",
       " '70s',\n",
       " 'holy',\n",
       " 'shit',\n",
       " 'modern',\n",
       " 'day',\n",
       " 'lancelot',\n",
       " 'offers',\n",
       " 'pay',\n",
       " 'abortion',\n",
       " 'united',\n",
       " 'airlines',\n",
       " 'offering',\n",
       " 'immigrants',\n",
       " 'special',\n",
       " 'flights',\n",
       " 'circle',\n",
       " 'u',\n",
       " 'awaiting',\n",
       " 'gaps',\n",
       " 'travel',\n",
       " 'ban',\n",
       " 'sun',\n",
       " 'thinking',\n",
       " 'collapsing',\n",
       " 'getting',\n",
       " 'trump',\n",
       " 'retweets',\n",
       " 'video',\n",
       " 'anti',\n",
       " 'muslim',\n",
       " 'hate',\n",
       " 'group',\n",
       " 'long',\n",
       " 'silent',\n",
       " 'facebook',\n",
       " 'friend',\n",
       " 'comes',\n",
       " 'woodwork',\n",
       " 'post',\n",
       " 'asking',\n",
       " 'insulating',\n",
       " 'windows',\n",
       " 'struggling',\n",
       " 'airline',\n",
       " 'helped',\n",
       " 'friendly',\n",
       " 'giant',\n",
       " 'unemployed',\n",
       " 'sibling',\n",
       " 'makes',\n",
       " 'last',\n",
       " 'push',\n",
       " 'group',\n",
       " 'mother',\n",
       " 'day',\n",
       " 'gift',\n",
       " '3822',\n",
       " 'voted',\n",
       " 'america',\n",
       " 'favorite',\n",
       " 'pin',\n",
       " 'number',\n",
       " 'mark',\n",
       " 'zuckerberg',\n",
       " 'cited',\n",
       " 'contempt',\n",
       " 'congress',\n",
       " 'refusing',\n",
       " 'shut',\n",
       " 'fuck',\n",
       " 'started',\n",
       " 'company',\n",
       " 'dorm',\n",
       " 'room',\n",
       " 'dsm',\n",
       " '5',\n",
       " 'updated',\n",
       " 'accommodate',\n",
       " 'man',\n",
       " 'legitimately',\n",
       " 'ordered',\n",
       " 'kill',\n",
       " 'moon',\n",
       " 'purina',\n",
       " 'debuts',\n",
       " 'new',\n",
       " 'slovenly',\n",
       " 'feast',\n",
       " 'nasty',\n",
       " 'ass',\n",
       " 'shelter',\n",
       " 'cats',\n",
       " 'frontier',\n",
       " 'airlines',\n",
       " 'tells',\n",
       " 'customers',\n",
       " 'fucking',\n",
       " 'deal',\n",
       " 'everyone',\n",
       " 'forgets',\n",
       " 'bring',\n",
       " 'swimsuits',\n",
       " 'coworker',\n",
       " 'party',\n",
       " 'new',\n",
       " 'york',\n",
       " 'times',\n",
       " 'adds',\n",
       " 'color',\n",
       " 'target',\n",
       " '70',\n",
       " 'demographic',\n",
       " 'girl',\n",
       " 'scouts',\n",
       " 'rocked',\n",
       " 'cookies',\n",
       " 'cash',\n",
       " 'fundraising',\n",
       " 'scandal',\n",
       " 'christian',\n",
       " 'juggler',\n",
       " 'regrets',\n",
       " 'years',\n",
       " 'wasted',\n",
       " 'secular',\n",
       " 'juggler',\n",
       " 'man',\n",
       " 'everything',\n",
       " 'last',\n",
       " 'minute',\n",
       " 'wonders',\n",
       " 'conrad',\n",
       " 'bain',\n",
       " 'steps',\n",
       " 'national',\n",
       " 'kitsch',\n",
       " 'reference',\n",
       " 'laureate',\n",
       " 'nasa',\n",
       " 'inadvertently',\n",
       " 'launches',\n",
       " 'unmanned',\n",
       " 'space',\n",
       " 'shuttle',\n",
       " 'new',\n",
       " 'instant',\n",
       " 'lottery',\n",
       " 'game',\n",
       " 'features',\n",
       " 'three',\n",
       " 'ways',\n",
       " 'win',\n",
       " '19',\n",
       " '839',\n",
       " '947',\n",
       " 'ways',\n",
       " 'lose',\n",
       " 'podcast',\n",
       " 'cry',\n",
       " 'help',\n",
       " 'clairvoyant',\n",
       " 'vince',\n",
       " 'vaughn',\n",
       " 'accepts',\n",
       " 'movie',\n",
       " 'role',\n",
       " 'offered',\n",
       " 'melania',\n",
       " 'trump',\n",
       " 'hangs',\n",
       " 'decayed',\n",
       " 'badger',\n",
       " 'carcass',\n",
       " 'white',\n",
       " 'house',\n",
       " 'mantel',\n",
       " 'finish',\n",
       " 'traditional',\n",
       " 'slovenian',\n",
       " 'christmas',\n",
       " 'decor',\n",
       " 'woman',\n",
       " 'admits',\n",
       " 'watched',\n",
       " 'golden',\n",
       " 'globes',\n",
       " 'thinks',\n",
       " 'jodie',\n",
       " 'foster',\n",
       " 'embarrassed',\n",
       " 'bush',\n",
       " 'increasingly',\n",
       " 'focused',\n",
       " 'revisionist',\n",
       " 'history',\n",
       " 'see',\n",
       " 'rest',\n",
       " 'evening',\n",
       " 'spent',\n",
       " 'declaring',\n",
       " 'asshole',\n",
       " 'going',\n",
       " 'ruin',\n",
       " 'evening',\n",
       " 'hooded',\n",
       " 'members',\n",
       " 'congress',\n",
       " 'drown',\n",
       " 'another',\n",
       " 'love',\n",
       " 'child',\n",
       " 'potomac',\n",
       " 'prevent',\n",
       " 'affair',\n",
       " 'getting',\n",
       " 'alcoholic',\n",
       " 'kindergarten',\n",
       " 'teacher',\n",
       " 'stretches',\n",
       " 'naptime',\n",
       " 'three',\n",
       " 'hours',\n",
       " 'report',\n",
       " 'store',\n",
       " 'good',\n",
       " 'kind',\n",
       " 'grandmother',\n",
       " 'palms',\n",
       " 'grandson',\n",
       " '10',\n",
       " 'like',\n",
       " 'fixing',\n",
       " 'boxing',\n",
       " 'match',\n",
       " 'bumper',\n",
       " 'nilla',\n",
       " 'crop',\n",
       " 'spells',\n",
       " 'profit',\n",
       " 'wafer',\n",
       " 'growers',\n",
       " 'national',\n",
       " 'trust',\n",
       " 'historic',\n",
       " 'preservation',\n",
       " 'pay',\n",
       " 'andy',\n",
       " 'rooney',\n",
       " 'upkeep',\n",
       " 'list',\n",
       " 'names',\n",
       " 'gchat',\n",
       " 'sidebar',\n",
       " 'like',\n",
       " 'portal',\n",
       " 'area',\n",
       " 'man',\n",
       " 'past',\n",
       " 'lives',\n",
       " 'study',\n",
       " 'couples',\n",
       " 'delaying',\n",
       " 'divorce',\n",
       " 'kids',\n",
       " 'old',\n",
       " 'enough',\n",
       " 'remember',\n",
       " 'every',\n",
       " 'painful',\n",
       " 'detail',\n",
       " 'never',\n",
       " 'heard',\n",
       " 'buzzword',\n",
       " 'flying',\n",
       " 'around',\n",
       " 'office',\n",
       " 'good',\n",
       " 'man',\n",
       " 'certain',\n",
       " 'coworkers',\n",
       " 'names',\n",
       " 'clinton',\n",
       " 'receives',\n",
       " '400',\n",
       " '000',\n",
       " 'honorary',\n",
       " 'degrees',\n",
       " 'college',\n",
       " 'commencement',\n",
       " 'speech',\n",
       " 'scavenger',\n",
       " 'hunt',\n",
       " 'party',\n",
       " 'leaving',\n",
       " 'without',\n",
       " 'twine',\n",
       " 'final',\n",
       " 'german',\n",
       " 'u',\n",
       " 'boat',\n",
       " 'surrenders',\n",
       " 'allied',\n",
       " 'powers',\n",
       " 'woman',\n",
       " 'head',\n",
       " 'feared',\n",
       " 'lost',\n",
       " 'forever',\n",
       " 'inside',\n",
       " 'infinity',\n",
       " 'scarf',\n",
       " 'fed',\n",
       " 'brookstone',\n",
       " 'body',\n",
       " 'massage',\n",
       " 'chair',\n",
       " 'entertaining',\n",
       " 'serious',\n",
       " 'buyers',\n",
       " 'trump',\n",
       " 'asks',\n",
       " 'entire',\n",
       " 'senate',\n",
       " 'clear',\n",
       " 'chamber',\n",
       " 'speak',\n",
       " 'comey',\n",
       " 'alone',\n",
       " 'new',\n",
       " 'report',\n",
       " 'finds',\n",
       " 'americans',\n",
       " 'interested',\n",
       " 'science',\n",
       " 'moon',\n",
       " 'looks',\n",
       " 'different',\n",
       " 'usual',\n",
       " 'new',\n",
       " 'york',\n",
       " 'times',\n",
       " 'moves',\n",
       " 'content',\n",
       " 'give',\n",
       " 'shit',\n",
       " 'unless',\n",
       " 'make',\n",
       " 'least',\n",
       " '200k',\n",
       " 'year',\n",
       " 'one',\n",
       " 'convenient',\n",
       " 'section',\n",
       " 'chicago',\n",
       " 'police',\n",
       " 'department',\n",
       " 'monitor',\n",
       " 'interactions',\n",
       " 'public',\n",
       " 'using',\n",
       " 'new',\n",
       " 'bullet',\n",
       " 'cams',\n",
       " 'weird',\n",
       " 'black',\n",
       " 'dot',\n",
       " 'actually',\n",
       " 'part',\n",
       " 'bowl',\n",
       " 'fcc',\n",
       " 'sentences',\n",
       " 'artie',\n",
       " 'lange',\n",
       " 'death',\n",
       " 'new',\n",
       " 'job',\n",
       " 'posting',\n",
       " 'craigslist',\n",
       " 'clearly',\n",
       " 'secretary',\n",
       " 'interior',\n",
       " 'fcc',\n",
       " 'assures',\n",
       " 'nation',\n",
       " 'favorite',\n",
       " 'verizon',\n",
       " 'websites',\n",
       " 'affected',\n",
       " 'net',\n",
       " 'neutrality',\n",
       " 'repeal',\n",
       " 'report',\n",
       " 'still',\n",
       " 'nowhere',\n",
       " 'near',\n",
       " 'okay',\n",
       " 'act',\n",
       " 'like',\n",
       " 'donald',\n",
       " 'trump',\n",
       " 'white',\n",
       " 'sprinter',\n",
       " 'finishes',\n",
       " 'fifth',\n",
       " 'obama',\n",
       " 'begins',\n",
       " 'inauguration',\n",
       " 'festivities',\n",
       " 'ceremonial',\n",
       " 'drone',\n",
       " 'flyover',\n",
       " 'lindsay',\n",
       " 'wagner',\n",
       " 'star',\n",
       " ...]"
      ]
     },
     "execution_count": 216,
     "metadata": {},
     "output_type": "execute_result"
    }
   ],
   "source": [
    "[y for x in todos_titulares_sarcasmo for y in x]\n",
    "# una forma de obtener cada palabra por separado"
   ]
  },
  {
   "cell_type": "code",
   "execution_count": 217,
   "metadata": {},
   "outputs": [
    {
     "data": {
      "text/plain": [
       "['mom',\n",
       " 'starting',\n",
       " 'fear',\n",
       " 'son',\n",
       " 'web',\n",
       " 'series',\n",
       " 'closest',\n",
       " 'thing',\n",
       " 'grandchild',\n",
       " 'boehner']"
      ]
     },
     "execution_count": 217,
     "metadata": {},
     "output_type": "execute_result"
    }
   ],
   "source": [
    "# una forma de iterar mas rapida. \n",
    "todas_las_palabras = list(itertools.chain(*todos_titulares_sarcasmo))\n",
    "todas_las_palabras[0:10]"
   ]
  },
  {
   "cell_type": "code",
   "execution_count": 218,
   "metadata": {},
   "outputs": [
    {
     "data": {
      "text/plain": [
       "FreqDist({'man': 1154, 'new': 843, 'area': 480, 'report': 426, 'nation': 339, 'woman': 319, 'year': 308, 'one': 273, 'old': 267, 'time': 252, ...})"
      ]
     },
     "execution_count": 218,
     "metadata": {},
     "output_type": "execute_result"
    }
   ],
   "source": [
    "freq_sarcasmo = nltk.FreqDist(todas_las_palabras)\n",
    "freq_sarcasmo"
   ]
  },
  {
   "cell_type": "code",
   "execution_count": 219,
   "metadata": {},
   "outputs": [
    {
     "data": {
      "text/html": [
       "<div>\n",
       "<style scoped>\n",
       "    .dataframe tbody tr th:only-of-type {\n",
       "        vertical-align: middle;\n",
       "    }\n",
       "\n",
       "    .dataframe tbody tr th {\n",
       "        vertical-align: top;\n",
       "    }\n",
       "\n",
       "    .dataframe thead th {\n",
       "        text-align: right;\n",
       "    }\n",
       "</style>\n",
       "<table border=\"1\" class=\"dataframe\">\n",
       "  <thead>\n",
       "    <tr style=\"text-align: right;\">\n",
       "      <th></th>\n",
       "      <th>Word</th>\n",
       "      <th>Frequency</th>\n",
       "    </tr>\n",
       "  </thead>\n",
       "  <tbody>\n",
       "    <tr>\n",
       "      <th>0</th>\n",
       "      <td>mom</td>\n",
       "      <td>117</td>\n",
       "    </tr>\n",
       "    <tr>\n",
       "      <th>1</th>\n",
       "      <td>starting</td>\n",
       "      <td>32</td>\n",
       "    </tr>\n",
       "    <tr>\n",
       "      <th>2</th>\n",
       "      <td>fear</td>\n",
       "      <td>16</td>\n",
       "    </tr>\n",
       "    <tr>\n",
       "      <th>3</th>\n",
       "      <td>son</td>\n",
       "      <td>71</td>\n",
       "    </tr>\n",
       "    <tr>\n",
       "      <th>4</th>\n",
       "      <td>web</td>\n",
       "      <td>7</td>\n",
       "    </tr>\n",
       "  </tbody>\n",
       "</table>\n",
       "</div>"
      ],
      "text/plain": [
       "       Word  Frequency\n",
       "0       mom        117\n",
       "1  starting         32\n",
       "2      fear         16\n",
       "3       son         71\n",
       "4       web          7"
      ]
     },
     "execution_count": 219,
     "metadata": {},
     "output_type": "execute_result"
    }
   ],
   "source": [
    "df_sarcasmo = pd.DataFrame(freq_sarcasmo.items(), columns = [\"Word\",\"Frequency\"])\n",
    "df_sarcasmo.head()"
   ]
  },
  {
   "cell_type": "code",
   "execution_count": 220,
   "metadata": {},
   "outputs": [
    {
     "data": {
      "text/html": [
       "<div>\n",
       "<style scoped>\n",
       "    .dataframe tbody tr th:only-of-type {\n",
       "        vertical-align: middle;\n",
       "    }\n",
       "\n",
       "    .dataframe tbody tr th {\n",
       "        vertical-align: top;\n",
       "    }\n",
       "\n",
       "    .dataframe thead th {\n",
       "        text-align: right;\n",
       "    }\n",
       "</style>\n",
       "<table border=\"1\" class=\"dataframe\">\n",
       "  <thead>\n",
       "    <tr style=\"text-align: right;\">\n",
       "      <th></th>\n",
       "      <th>Word</th>\n",
       "      <th>Frequency</th>\n",
       "    </tr>\n",
       "  </thead>\n",
       "  <tbody>\n",
       "    <tr>\n",
       "      <th>30</th>\n",
       "      <td>man</td>\n",
       "      <td>1154</td>\n",
       "    </tr>\n",
       "    <tr>\n",
       "      <th>125</th>\n",
       "      <td>new</td>\n",
       "      <td>843</td>\n",
       "    </tr>\n",
       "    <tr>\n",
       "      <th>183</th>\n",
       "      <td>area</td>\n",
       "      <td>480</td>\n",
       "    </tr>\n",
       "    <tr>\n",
       "      <th>158</th>\n",
       "      <td>report</td>\n",
       "      <td>426</td>\n",
       "    </tr>\n",
       "    <tr>\n",
       "      <th>56</th>\n",
       "      <td>nation</td>\n",
       "      <td>339</td>\n",
       "    </tr>\n",
       "  </tbody>\n",
       "</table>\n",
       "</div>"
      ],
      "text/plain": [
       "       Word  Frequency\n",
       "30      man       1154\n",
       "125     new        843\n",
       "183    area        480\n",
       "158  report        426\n",
       "56   nation        339"
      ]
     },
     "execution_count": 220,
     "metadata": {},
     "output_type": "execute_result"
    }
   ],
   "source": [
    "df_sarcasmo.sort_values('Frequency',ascending=False, inplace = True)\n",
    "df_sarcasmo.head()"
   ]
  },
  {
   "cell_type": "code",
   "execution_count": 221,
   "metadata": {},
   "outputs": [
    {
     "data": {
      "image/png": "[encoded data removed]",
      "text/plain": [
       "<Figure size 1500x800 with 1 Axes>"
      ]
     },
     "metadata": {},
     "output_type": "display_data"
    }
   ],
   "source": [
    "plt.figure(figsize = (15,8))\n",
    "plot = sns.barplot(x  = df_sarcasmo.iloc[:30].Word, y = df_sarcasmo.iloc[:30].Frequency)\n",
    "plt.xticks(rotation=45)\n",
    "plt.show()"
   ]
  },
  {
   "cell_type": "code",
   "execution_count": 222,
   "metadata": {},
   "outputs": [],
   "source": [
    "conteo_palabras=len(todas_las_palabras)"
   ]
  },
  {
   "cell_type": "code",
   "execution_count": 223,
   "metadata": {},
   "outputs": [
    {
     "data": {
      "text/plain": [
       "89031"
      ]
     },
     "execution_count": 223,
     "metadata": {},
     "output_type": "execute_result"
    }
   ],
   "source": [
    "conteo_palabras"
   ]
  },
  {
   "cell_type": "code",
   "execution_count": 224,
   "metadata": {},
   "outputs": [],
   "source": [
    "conteo_palabras_unicas=len(set(todas_las_palabras))"
   ]
  },
  {
   "cell_type": "code",
   "execution_count": 225,
   "metadata": {},
   "outputs": [
    {
     "data": {
      "text/plain": [
       "17382"
      ]
     },
     "execution_count": 225,
     "metadata": {},
     "output_type": "execute_result"
    }
   ],
   "source": [
    "conteo_palabras_unicas"
   ]
  },
  {
   "cell_type": "code",
   "execution_count": 226,
   "metadata": {},
   "outputs": [
    {
     "data": {
      "text/plain": [
       "0.19523536745627929"
      ]
     },
     "execution_count": 226,
     "metadata": {},
     "output_type": "execute_result"
    }
   ],
   "source": [
    "conteo_palabras_unicas/conteo_palabras"
   ]
  },
  {
   "cell_type": "markdown",
   "metadata": {
    "id": "zWovpp2ORuJn"
   },
   "source": [
    "## 4. Stemming\n",
    "Por razones gramaticales muchas palabras pueden escribirse de manera distinta (debido a conjugación, género, número) pero tener el mismo significado para el texto. Por ejemplo si decimos \"jugar\", \"jugando\" o \"juega\", debido a como estan conjugadas, la computadora puede tratarlas como palabras distintas. Pero, en términos de significado, todas estan relacionadas al verbo Jugar. Muchas veces nos va a convenir unir todas estos términos en uno solo.\n",
    "\n",
    "Una de las manera de hacer esto es por \"STEMMING\". El Stemming es un proceso eurístico que recorta la terminación de las palabras, agrupándolas por su raiz. Reduzcamos la cantidad de palabras diferentes en nuestro dataset utilizando este proceso.\n",
    "\n",
    "a. Importar nuevamente el dataset completo"
   ]
  },
  {
   "cell_type": "code",
   "execution_count": 227,
   "metadata": {
    "id": "WA_EPczgRuJn",
    "outputId": "1ace8cc4-512f-448f-9cde-e896abcf0463",
    "scrolled": true
   },
   "outputs": [
    {
     "data": {
      "text/html": [
       "<div>\n",
       "<style scoped>\n",
       "    .dataframe tbody tr th:only-of-type {\n",
       "        vertical-align: middle;\n",
       "    }\n",
       "\n",
       "    .dataframe tbody tr th {\n",
       "        vertical-align: top;\n",
       "    }\n",
       "\n",
       "    .dataframe thead th {\n",
       "        text-align: right;\n",
       "    }\n",
       "</style>\n",
       "<table border=\"1\" class=\"dataframe\">\n",
       "  <thead>\n",
       "    <tr style=\"text-align: right;\">\n",
       "      <th></th>\n",
       "      <th>article_link</th>\n",
       "      <th>headline</th>\n",
       "      <th>is_sarcastic</th>\n",
       "    </tr>\n",
       "  </thead>\n",
       "  <tbody>\n",
       "    <tr>\n",
       "      <th>0</th>\n",
       "      <td>https://www.huffingtonpost.com/entry/versace-b...</td>\n",
       "      <td>former versace store clerk sues over secret 'b...</td>\n",
       "      <td>0</td>\n",
       "    </tr>\n",
       "    <tr>\n",
       "      <th>1</th>\n",
       "      <td>https://www.huffingtonpost.com/entry/roseanne-...</td>\n",
       "      <td>the 'roseanne' revival catches up to our thorn...</td>\n",
       "      <td>0</td>\n",
       "    </tr>\n",
       "    <tr>\n",
       "      <th>2</th>\n",
       "      <td>https://local.theonion.com/mom-starting-to-fea...</td>\n",
       "      <td>mom starting to fear son's web series closest ...</td>\n",
       "      <td>1</td>\n",
       "    </tr>\n",
       "    <tr>\n",
       "      <th>3</th>\n",
       "      <td>https://politics.theonion.com/boehner-just-wan...</td>\n",
       "      <td>boehner just wants wife to listen, not come up...</td>\n",
       "      <td>1</td>\n",
       "    </tr>\n",
       "    <tr>\n",
       "      <th>4</th>\n",
       "      <td>https://www.huffingtonpost.com/entry/jk-rowlin...</td>\n",
       "      <td>j.k. rowling wishes snape happy birthday in th...</td>\n",
       "      <td>0</td>\n",
       "    </tr>\n",
       "  </tbody>\n",
       "</table>\n",
       "</div>"
      ],
      "text/plain": [
       "                                        article_link  \\\n",
       "0  https://www.huffingtonpost.com/entry/versace-b...   \n",
       "1  https://www.huffingtonpost.com/entry/roseanne-...   \n",
       "2  https://local.theonion.com/mom-starting-to-fea...   \n",
       "3  https://politics.theonion.com/boehner-just-wan...   \n",
       "4  https://www.huffingtonpost.com/entry/jk-rowlin...   \n",
       "\n",
       "                                            headline  is_sarcastic  \n",
       "0  former versace store clerk sues over secret 'b...             0  \n",
       "1  the 'roseanne' revival catches up to our thorn...             0  \n",
       "2  mom starting to fear son's web series closest ...             1  \n",
       "3  boehner just wants wife to listen, not come up...             1  \n",
       "4  j.k. rowling wishes snape happy birthday in th...             0  "
      ]
     },
     "execution_count": 227,
     "metadata": {},
     "output_type": "execute_result"
    }
   ],
   "source": [
    "dataset = pd.read_json('Sarcasm_Headlines_Dataset.json', lines= True)\n",
    "dataset.head()"
   ]
  },
  {
   "cell_type": "markdown",
   "metadata": {
    "id": "hSvutQqzRuJn"
   },
   "source": [
    "b. Tomar del `dataset` solo las columnas de interes"
   ]
  },
  {
   "cell_type": "code",
   "execution_count": 228,
   "metadata": {},
   "outputs": [],
   "source": [
    "dataset.drop(columns=\"article_link\",inplace=True)"
   ]
  },
  {
   "cell_type": "markdown",
   "metadata": {
    "id": "AQUoLCZ1RuJn"
   },
   "source": [
    "c. Antes de realizar el proceso de Stemming, vamos a normalizar el texto de la manera que ya estuvimos viendo. Le agregamos en este caso el uso de la libreria `re`, que nos permite sacar del texto todos los caracteres que no sean palabras. Notemos que hay veces que no conviene quitar estos caracteres ya que, por ejemplo, no podremos distiguir preguntas (?) o exclamaciones (!)."
   ]
  },
  {
   "cell_type": "code",
   "execution_count": 229,
   "metadata": {
    "id": "u6KlBsWpRuJn"
   },
   "outputs": [],
   "source": [
    "# Importamos esta libreria que nos permite reemplzar caracteres\n",
    "import re\n",
    "\n",
    "# Importamos la función que nos permite Stemmizar de nltk y definimos el stemmer\n",
    "from nltk.stem import PorterStemmer\n",
    "stemmer = PorterStemmer()\n",
    "\n",
    "# Traemos nuevamente las stopwords\n",
    "stopwords = nltk.corpus.stopwords.words('english')"
   ]
  },
  {
   "cell_type": "code",
   "execution_count": 230,
   "metadata": {},
   "outputs": [],
   "source": [
    "def normalizar_y_stemmizar(titular):\n",
    "    # Vamos a reemplzar los caracteres que no sean letras por espacios\n",
    "    titular = re.sub(\"[^a-zA-Z]\",\" \",str(titular))\n",
    "    # Pasamos todo a minúsculas\n",
    "    titular = titular.lower()\n",
    "    titular = nltk.tokenize.RegexpTokenizer(\"[\\w]+\").tokenize(titular)\n",
    "    # Eliminamos las palabras de menos de 3 letras\n",
    "    titular = [palabra for palabra in titular if len(palabra)>3]\n",
    "    # Sacamos las Stopwords\n",
    "    titular = [word for word in titular if word not in stopwords]\n",
    "    ## Hasta aqui Normalizamos, ahora a stemmizar\n",
    "    \n",
    "    # Aplicamos la funcion para buscar la raiz de las palabras\n",
    "    titular=[stemmer.stem(palabra) for palabra in titular]\n",
    "    # Por ultimo volvemos a unir el titular\n",
    "    titular=\" \".join(titular)\n",
    "    return titular"
   ]
  },
  {
   "cell_type": "code",
   "execution_count": 231,
   "metadata": {},
   "outputs": [
    {
     "data": {
      "text/plain": [
       "0        former versac store clerk sue secret black cod...\n",
       "1        roseann reviv catch thorni polit mood better wors\n",
       "2                 start fear seri closest thing grandchild\n",
       "3        boehner want wife listen come altern debt redu...\n",
       "4                     rowl wish snape happi birthday magic\n",
       "                               ...                        \n",
       "26704                       american polit moral free fall\n",
       "26705                                    america best hike\n",
       "26706                                          repar obama\n",
       "26707        isra target boycott support rais alarm abroad\n",
       "26708                                   gourmet gift foodi\n",
       "Name: headline, Length: 26709, dtype: object"
      ]
     },
     "execution_count": 231,
     "metadata": {},
     "output_type": "execute_result"
    }
   ],
   "source": [
    "dataset.headline.apply(normalizar_y_stemmizar)"
   ]
  },
  {
   "cell_type": "markdown",
   "metadata": {
    "id": "UeBAUrRIRuJo"
   },
   "source": [
    "d. Agregamos al dataset una columna llamado `titular_stem` que contenga los titulares stemmizados"
   ]
  },
  {
   "cell_type": "code",
   "execution_count": 232,
   "metadata": {
    "id": "1d2X6N7LRuJo",
    "outputId": "6dd3a5ef-96e8-441d-ba55-560d27566b76"
   },
   "outputs": [
    {
     "data": {
      "text/html": [
       "<div>\n",
       "<style scoped>\n",
       "    .dataframe tbody tr th:only-of-type {\n",
       "        vertical-align: middle;\n",
       "    }\n",
       "\n",
       "    .dataframe tbody tr th {\n",
       "        vertical-align: top;\n",
       "    }\n",
       "\n",
       "    .dataframe thead th {\n",
       "        text-align: right;\n",
       "    }\n",
       "</style>\n",
       "<table border=\"1\" class=\"dataframe\">\n",
       "  <thead>\n",
       "    <tr style=\"text-align: right;\">\n",
       "      <th></th>\n",
       "      <th>headline</th>\n",
       "      <th>is_sarcastic</th>\n",
       "      <th>titular_stem</th>\n",
       "    </tr>\n",
       "  </thead>\n",
       "  <tbody>\n",
       "    <tr>\n",
       "      <th>26704</th>\n",
       "      <td>american politics in moral free-fall</td>\n",
       "      <td>0</td>\n",
       "      <td>american polit moral free fall</td>\n",
       "    </tr>\n",
       "    <tr>\n",
       "      <th>26705</th>\n",
       "      <td>america's best 20 hikes</td>\n",
       "      <td>0</td>\n",
       "      <td>america best hike</td>\n",
       "    </tr>\n",
       "    <tr>\n",
       "      <th>26706</th>\n",
       "      <td>reparations and obama</td>\n",
       "      <td>0</td>\n",
       "      <td>repar obama</td>\n",
       "    </tr>\n",
       "    <tr>\n",
       "      <th>26707</th>\n",
       "      <td>israeli ban targeting boycott supporters raise...</td>\n",
       "      <td>0</td>\n",
       "      <td>isra target boycott support rais alarm abroad</td>\n",
       "    </tr>\n",
       "    <tr>\n",
       "      <th>26708</th>\n",
       "      <td>gourmet gifts for the foodie 2014</td>\n",
       "      <td>0</td>\n",
       "      <td>gourmet gift foodi</td>\n",
       "    </tr>\n",
       "  </tbody>\n",
       "</table>\n",
       "</div>"
      ],
      "text/plain": [
       "                                                headline  is_sarcastic  \\\n",
       "26704               american politics in moral free-fall             0   \n",
       "26705                            america's best 20 hikes             0   \n",
       "26706                              reparations and obama             0   \n",
       "26707  israeli ban targeting boycott supporters raise...             0   \n",
       "26708                  gourmet gifts for the foodie 2014             0   \n",
       "\n",
       "                                        titular_stem  \n",
       "26704                 american polit moral free fall  \n",
       "26705                              america best hike  \n",
       "26706                                    repar obama  \n",
       "26707  isra target boycott support rais alarm abroad  \n",
       "26708                             gourmet gift foodi  "
      ]
     },
     "execution_count": 232,
     "metadata": {},
     "output_type": "execute_result"
    }
   ],
   "source": [
    "dataset[\"titular_stem\"] = dataset.headline.apply(normalizar_y_stemmizar)\n",
    "dataset.tail()"
   ]
  },
  {
   "cell_type": "markdown",
   "metadata": {
    "id": "yDOeYk30RuJo"
   },
   "source": [
    "e. Armamos un nuevo dataset llamado `dataset_stem` que contenga solo las columnas `titular_stem` e `is_sarcastic`"
   ]
  },
  {
   "cell_type": "code",
   "execution_count": 233,
   "metadata": {
    "id": "Bcr0qIxcRuJo",
    "outputId": "125a1e63-cd4d-4327-89c8-3e5ae4013efc",
    "scrolled": true
   },
   "outputs": [
    {
     "data": {
      "text/html": [
       "<div>\n",
       "<style scoped>\n",
       "    .dataframe tbody tr th:only-of-type {\n",
       "        vertical-align: middle;\n",
       "    }\n",
       "\n",
       "    .dataframe tbody tr th {\n",
       "        vertical-align: top;\n",
       "    }\n",
       "\n",
       "    .dataframe thead th {\n",
       "        text-align: right;\n",
       "    }\n",
       "</style>\n",
       "<table border=\"1\" class=\"dataframe\">\n",
       "  <thead>\n",
       "    <tr style=\"text-align: right;\">\n",
       "      <th></th>\n",
       "      <th>is_sarcastic</th>\n",
       "      <th>titular_stem</th>\n",
       "    </tr>\n",
       "  </thead>\n",
       "  <tbody>\n",
       "    <tr>\n",
       "      <th>0</th>\n",
       "      <td>0</td>\n",
       "      <td>former versac store clerk sue secret black cod...</td>\n",
       "    </tr>\n",
       "    <tr>\n",
       "      <th>1</th>\n",
       "      <td>0</td>\n",
       "      <td>roseann reviv catch thorni polit mood better wors</td>\n",
       "    </tr>\n",
       "    <tr>\n",
       "      <th>2</th>\n",
       "      <td>1</td>\n",
       "      <td>start fear seri closest thing grandchild</td>\n",
       "    </tr>\n",
       "    <tr>\n",
       "      <th>3</th>\n",
       "      <td>1</td>\n",
       "      <td>boehner want wife listen come altern debt redu...</td>\n",
       "    </tr>\n",
       "    <tr>\n",
       "      <th>4</th>\n",
       "      <td>0</td>\n",
       "      <td>rowl wish snape happi birthday magic</td>\n",
       "    </tr>\n",
       "  </tbody>\n",
       "</table>\n",
       "</div>"
      ],
      "text/plain": [
       "   is_sarcastic                                       titular_stem\n",
       "0             0  former versac store clerk sue secret black cod...\n",
       "1             0  roseann reviv catch thorni polit mood better wors\n",
       "2             1           start fear seri closest thing grandchild\n",
       "3             1  boehner want wife listen come altern debt redu...\n",
       "4             0               rowl wish snape happi birthday magic"
      ]
     },
     "execution_count": 233,
     "metadata": {},
     "output_type": "execute_result"
    }
   ],
   "source": [
    "dataset_stem=dataset.drop(columns=[\"headline\"])\n",
    "dataset_stem.head()"
   ]
  },
  {
   "cell_type": "markdown",
   "metadata": {
    "id": "aymVZcYCRuJo"
   },
   "source": [
    "## 5. Lemmatization\n",
    "\n",
    "Otra manera de llevar distintas palabras a un raíz común en la que comparten un significado es mediante el procezo de 'Lemmatizar' el texto. Es similar al 'Stemming' pero un poco más educado, ya que intenta realizar el proceso teniendo en cuenta cuál es el rol que la palabra cumple en el texto. Esto quiere decir que su accionar será distinto si la palabra a lemmantizar está actuando como verbo, sustantivo, etc. \n",
    "\n",
    "Para usar las funciones que ofrece `nltk` para lemmantizar, tendremos primero que descargar la libreria `Wordnet`. Para eso ejecute la siguiente celda:\n",
    "https://www.nltk.org/api/nltk.stem.wordnet.html"
   ]
  },
  {
   "attachments": {
    "image.png": {
     "image/png": "[encoded data removed]"
    }
   },
   "cell_type": "markdown",
   "metadata": {},
   "source": [
    "![image.png](attachment:image.png)"
   ]
  },
  {
   "cell_type": "code",
   "execution_count": 234,
   "metadata": {
    "id": "x6n7qj8aRuJo",
    "outputId": "24fb060b-17e0-4f5b-e334-65f9459784ce"
   },
   "outputs": [
    {
     "name": "stdout",
     "output_type": "stream",
     "text": [
      "showing info https://raw.githubusercontent.com/nltk/nltk_data/gh-pages/index.xml\n"
     ]
    },
    {
     "data": {
      "text/plain": [
       "True"
      ]
     },
     "execution_count": 234,
     "metadata": {},
     "output_type": "execute_result"
    }
   ],
   "source": [
    "nltk.download()\n",
    "# se abre una pestaña, buscadla en las ventans del pc aunque no os salga"
   ]
  },
  {
   "cell_type": "code",
   "execution_count": 235,
   "metadata": {
    "id": "BcDvPDnhRuJo"
   },
   "outputs": [],
   "source": [
    "# Importamos esta libreria que nos permite reemplzar caracteres\n",
    "import re\n",
    "\n",
    "# Importamos el lemmatizar de NLTK, y creamos el objeto\n",
    "from nltk.stem import WordNetLemmatizer\n",
    "wordnet_lemmatizer = WordNetLemmatizer()"
   ]
  },
  {
   "cell_type": "markdown",
   "metadata": {
    "id": "UClxVJ1RRuJo"
   },
   "source": [
    "### Veamos cómo actúa el lemmatizer sobre una frase de ejemplo."
   ]
  },
  {
   "cell_type": "code",
   "execution_count": 236,
   "metadata": {},
   "outputs": [
    {
     "name": "stderr",
     "output_type": "stream",
     "text": [
      "[nltk_data] Downloading package wordnet to\n",
      "[nltk_data]     C:\\Users\\garch\\AppData\\Roaming\\nltk_data...\n",
      "[nltk_data]   Package wordnet is already up-to-date!\n"
     ]
    },
    {
     "data": {
      "text/plain": [
       "True"
      ]
     },
     "execution_count": 236,
     "metadata": {},
     "output_type": "execute_result"
    }
   ],
   "source": [
    "import nltk\n",
    "nltk.download('wordnet')"
   ]
  },
  {
   "cell_type": "code",
   "execution_count": 237,
   "metadata": {
    "id": "KbAx6rn4RuJo",
    "outputId": "40494afa-10a0-4ab6-9cbf-361f9cf29c9e"
   },
   "outputs": [
    {
     "name": "stdout",
     "output_type": "stream",
     "text": [
      "Word                Lemma               \n",
      "he                  he                  \n",
      "was                 wa                  \n",
      "running             running             \n",
      "and                 and                 \n",
      "eating              eating              \n",
      "at                  at                  \n",
      "same                same                \n",
      "time                time                \n",
      "he                  he                  \n",
      "has                 ha                  \n",
      "bad                 bad                 \n",
      "habit               habit               \n",
      "of                  of                  \n",
      "swimming            swimming            \n",
      "after               after               \n",
      "playing             playing             \n",
      "long                long                \n",
      "hours               hour                \n",
      "in                  in                  \n",
      "the                 the                 \n",
      "sun                 sun                 \n"
     ]
    }
   ],
   "source": [
    "# Oracion que usaremos como ejemplo\n",
    "frase = \"He was running and eating at same time. He has bad habit of swimming after playing long hours in the Sun.\"\n",
    "\n",
    "# Hay que regularizar el texto. Dejar solo letra, pasar a minúsculas y tokenizar:\n",
    "\n",
    "# Sacamos todo lo que no sean letras\n",
    "frase = re.sub(\"[^a-zA-Z]\",\" \",str(frase))\n",
    "# Pasamos a minúsculas\n",
    "frase = frase.lower()\n",
    "# Tokenizamos\n",
    "frase_tokens = nltk.word_tokenize(frase)\n",
    "\n",
    "# Veamos como cambians las palabras al lemmatizar\n",
    "print(\"{0:20}{1:20}\".format(\"Word\",\"Lemma\"))\n",
    "# Esto es un ejemplo de como formatear palabras con espacios\n",
    "\n",
    "for palabra in frase_tokens:\n",
    "    print (\"{0:20}{1:20}\".format(palabra, wordnet_lemmatizer.lemmatize(palabra)))"
   ]
  },
  {
   "cell_type": "markdown",
   "metadata": {
    "id": "n_gS9RFoRuJp"
   },
   "source": [
    "¿Te sorprende lo que paso? No cambiaron casi nada (solo se fueron las \"s\" del final). El problema es que precisamos darle información extra al Lemmatizer, decirle qué rol está cumpliendo la palabra en la oración. Si os fijais en la documentación, esto se hace pasandole un argumento extra a la función llamado POS (Part Of Speech).\n",
    "\n",
    "Hay distintos metodos que intentan averiguar el rol que cumple una palabra en una oración. Nosotros vamos a utilizar uno que viene incorporado en NLTK llamado pos_tag."
   ]
  },
  {
   "cell_type": "markdown",
   "metadata": {},
   "source": [
    "https://www.guru99.com/pos-tagging-chunking-nltk.html"
   ]
  },
  {
   "cell_type": "markdown",
   "metadata": {},
   "source": [
    "https://www.nltk.org/api/nltk.stem.wordnet.html"
   ]
  },
  {
   "cell_type": "code",
   "execution_count": 238,
   "metadata": {},
   "outputs": [
    {
     "data": {
      "text/plain": [
       "'swimming'"
      ]
     },
     "execution_count": 238,
     "metadata": {},
     "output_type": "execute_result"
    }
   ],
   "source": [
    "wordnet_lemmatizer.lemmatize('swimming', 'n') # n de nombre"
   ]
  },
  {
   "cell_type": "code",
   "execution_count": 239,
   "metadata": {},
   "outputs": [
    {
     "data": {
      "text/plain": [
       "'swim'"
      ]
     },
     "execution_count": 239,
     "metadata": {},
     "output_type": "execute_result"
    }
   ],
   "source": [
    "wordnet_lemmatizer.lemmatize('swimming', 'v') # v de verbo"
   ]
  },
  {
   "cell_type": "code",
   "execution_count": 241,
   "metadata": {},
   "outputs": [
    {
     "name": "stderr",
     "output_type": "stream",
     "text": [
      "[nltk_data] Downloading package averaged_perceptron_tagger to\n",
      "[nltk_data]     C:\\Users\\garch\\AppData\\Roaming\\nltk_data...\n",
      "[nltk_data]   Unzipping taggers\\averaged_perceptron_tagger.zip.\n"
     ]
    },
    {
     "data": {
      "text/plain": [
       "True"
      ]
     },
     "execution_count": 241,
     "metadata": {},
     "output_type": "execute_result"
    }
   ],
   "source": [
    "import nltk\n",
    "nltk.download('averaged_perceptron_tagger')"
   ]
  },
  {
   "cell_type": "code",
   "execution_count": 242,
   "metadata": {
    "id": "rWzrQuo2RuJp",
    "outputId": "7efb79e5-4630-4a74-fa2d-c8c3fe34d631"
   },
   "outputs": [
    {
     "name": "stdout",
     "output_type": "stream",
     "text": [
      "[('he', 'PRP'), ('was', 'VBD'), ('running', 'VBG'), ('and', 'CC'), ('eating', 'VBG'), ('at', 'IN'), ('same', 'JJ'), ('time', 'NN'), ('he', 'PRP'), ('has', 'VBZ'), ('bad', 'JJ'), ('habit', 'NN'), ('of', 'IN'), ('swimming', 'NN'), ('after', 'IN'), ('playing', 'VBG'), ('long', 'JJ'), ('hours', 'NNS'), ('in', 'IN'), ('the', 'DT'), ('sun', 'NN')]\n"
     ]
    }
   ],
   "source": [
    "print(nltk.pos_tag(frase_tokens))"
   ]
  },
  {
   "cell_type": "code",
   "execution_count": 243,
   "metadata": {},
   "outputs": [
    {
     "name": "stdout",
     "output_type": "stream",
     "text": [
      "[('Laura', 'NNP'), ('teachs', 'VBZ'), ('math', 'NN')]\n",
      "('teachs', 'VBZ')\n",
      "VBZ\n",
      "V\n"
     ]
    }
   ],
   "source": [
    "print(nltk.pos_tag([\"Laura\",\"teachs\",\"math\"])) # le pasamos una lista de palabras y nos devuelve una lista de tuplas\n",
    "i = 1 # es el numero de la palabra en la frase\n",
    "print(nltk.pos_tag([\"Laura\",\"teachs\",\"math\"])[i]) # escogemos la primera tupla(la de 'teachs')\n",
    "print(nltk.pos_tag([\"Laura\",\"teachs\",\"math\"])[i][1]) # escogemos el segundo elemento de la tupla\n",
    "print(nltk.pos_tag([\"Laura\",\"teachs\",\"math\"])[i][1][0]) # solo nos interesará una letra para decidir que tipo de palabra es"
   ]
  },
  {
   "cell_type": "code",
   "execution_count": 244,
   "metadata": {},
   "outputs": [
    {
     "data": {
      "text/plain": [
       "'a'"
      ]
     },
     "execution_count": 244,
     "metadata": {},
     "output_type": "execute_result"
    }
   ],
   "source": [
    "from nltk.corpus import wordnet\n",
    "wordnet.ADJ"
   ]
  },
  {
   "cell_type": "markdown",
   "metadata": {
    "id": "OL-6bqPLRuJp"
   },
   "source": [
    "Las etiquetas refieren al tipo de palabra. Vamos a definir una función para traducir estas etiquetas a los valores de POS que entiende `wordnet_lemmatizer`."
   ]
  },
  {
   "cell_type": "code",
   "execution_count": 245,
   "metadata": {},
   "outputs": [
    {
     "data": {
      "text/plain": [
       "(['he',\n",
       "  'be',\n",
       "  'run',\n",
       "  'and',\n",
       "  'eat',\n",
       "  'at',\n",
       "  'same',\n",
       "  'time',\n",
       "  'he',\n",
       "  'have',\n",
       "  'bad',\n",
       "  'habit',\n",
       "  'of',\n",
       "  'swimming',\n",
       "  'after',\n",
       "  'play',\n",
       "  'long',\n",
       "  'hour',\n",
       "  'in',\n",
       "  'the',\n",
       "  'sun'],\n",
       " ['n',\n",
       "  'v',\n",
       "  'v',\n",
       "  'n',\n",
       "  'v',\n",
       "  'n',\n",
       "  'a',\n",
       "  'n',\n",
       "  'n',\n",
       "  'v',\n",
       "  'a',\n",
       "  'n',\n",
       "  'n',\n",
       "  'n',\n",
       "  'n',\n",
       "  'v',\n",
       "  'a',\n",
       "  'n',\n",
       "  'n',\n",
       "  'n',\n",
       "  'n'])"
      ]
     },
     "execution_count": 245,
     "metadata": {},
     "output_type": "execute_result"
    }
   ],
   "source": [
    "# for items in nltk.pos_tag(frase_tokens):\n",
    "#     print(items[0], \"->\", items[1][0].lower())\n",
    "\n",
    "from nltk.corpus import wordnet\n",
    "\n",
    "def lemmatizer_get_wordnet_pos_phrase(frase_tokens):\n",
    "\n",
    "    new_tokens=[]\n",
    "    pos_tokens=[]\n",
    "    tag_dict = {\"J\": wordnet.ADJ, # Adjetivo\n",
    "                \"N\": wordnet.NOUN, # Nombre\n",
    "                \"V\": wordnet.VERB, # Verbo\n",
    "                \"R\": wordnet.ADV} # adverbio\n",
    "    \n",
    "    tags=nltk.pos_tag(frase_tokens)\n",
    "    for items in tags:\n",
    "        pos = tag_dict.get(items[1][0], wordnet.NOUN)\n",
    "        new_tokens.append(wordnet_lemmatizer.lemmatize(items[0],pos))\n",
    "        pos_tokens.append(pos)\n",
    "\n",
    "    return new_tokens, pos_tokens\n",
    "\n",
    "lemmatizer_get_wordnet_pos_phrase(frase_tokens)"
   ]
  },
  {
   "cell_type": "markdown",
   "metadata": {
    "id": "1XTsmDB7RuJp"
   },
   "source": [
    "Veamos finalmente como funciona en nuestro ejemplo."
   ]
  },
  {
   "cell_type": "code",
   "execution_count": 246,
   "metadata": {
    "id": "tJ3HVMfBRuJp",
    "outputId": "27a976ef-7a3c-4f80-e902-bd322428ff96"
   },
   "outputs": [
    {
     "name": "stdout",
     "output_type": "stream",
     "text": [
      "Palabra:            Tipo:               Lemma:              \n",
      "he                  n                   he                  \n",
      "was                 v                   be                  \n",
      "running             v                   run                 \n",
      "and                 n                   and                 \n",
      "eating              v                   eat                 \n",
      "at                  n                   at                  \n",
      "same                a                   same                \n",
      "time                n                   time                \n",
      "he                  n                   he                  \n",
      "has                 v                   have                \n",
      "bad                 a                   bad                 \n",
      "habit               n                   habit               \n",
      "of                  n                   of                  \n",
      "swimming            n                   swimming            \n",
      "after               n                   after               \n",
      "playing             v                   play                \n",
      "long                a                   long                \n",
      "hours               n                   hour                \n",
      "in                  n                   in                  \n",
      "the                 n                   the                 \n",
      "sun                 n                   sun                 \n"
     ]
    }
   ],
   "source": [
    "frase_lemma, tipo_palabra = lemmatizer_get_wordnet_pos_phrase(frase_tokens)\n",
    "\n",
    "# Veamos como cambiaron las palabras\n",
    "print(\"{0:20}{1:20}{2:20}\".format(\"Palabra:\",\"Tipo:\",\"Lemma:\"))\n",
    "for i in range(len(frase_tokens)):\n",
    "    print (\"{0:20}{1:20}{2:20}\".format(frase_tokens[i],tipo_palabra[i],frase_lemma[i]))"
   ]
  },
  {
   "cell_type": "markdown",
   "metadata": {
    "id": "QE2srEdFRuJp"
   },
   "source": [
    "a. Ahora te toca aplicar todo esto a nuestro dataset. Vamos a volver a importarlo y hacer un procedimiento análogo al que hicimos para la parte de Stemming."
   ]
  },
  {
   "cell_type": "code",
   "execution_count": 247,
   "metadata": {
    "id": "zyWCIHjnRuJp"
   },
   "outputs": [],
   "source": [
    "# Importamos el lemmatizar de NLTK, y creamos el objeto\n",
    "from nltk.stem import WordNetLemmatizer\n",
    "wordnet_lemmatizer = WordNetLemmatizer()\n",
    "\n",
    "# Importamos esta libreria que nos permite reemplzar caracteres\n",
    "import re\n",
    "\n",
    "dataset = pd.read_json('Sarcasm_Headlines_Dataset.json', lines= True)\n",
    "dataset = dataset.drop(columns=[\"article_link\"])\n",
    "dataset.dropna(axis=0,inplace=True)\n",
    "\n",
    "# Traemos nuevamente las stopwords\n",
    "stopwords = nltk.corpus.stopwords.words('english')"
   ]
  },
  {
   "cell_type": "code",
   "execution_count": 248,
   "metadata": {},
   "outputs": [],
   "source": [
    "def normalizar_lemmatizar(titular):\n",
    "    # Vamos a reemplzar los caracteres que no sean letras por espacios\n",
    "    titular=re.sub(\"[^a-zA-Z]\",\" \",str(titular))\n",
    "    # Pasamos todo a minúsculas\n",
    "    titular=titular.lower()\n",
    "     # Tokenizamos para separar las palabras\n",
    "    titular=nltk.word_tokenize(titular)\n",
    "    \n",
    "     # Aplicamos el Lemmatizer (Esto puede tardar un ratito)\n",
    "    titular, tipo_palabra = lemmatizer_get_wordnet_pos_phrase(titular)\n",
    "    # tipo_palabra no lo utilizamos\n",
    "    \n",
    "    # Eliminamos las palabras de menos de 3 letras\n",
    "    titular = [palabra for palabra in titular if len(palabra)>3]\n",
    "    # Sacamos las Stopwords\n",
    "    titular = [word for word in titular if word not in stopwords]\n",
    "    ## Hasta aqui Normalizamos\n",
    "\n",
    "    # Por ultimo volvemos a unir el titular\n",
    "    titular=\" \".join(titular)\n",
    "    return titular"
   ]
  },
  {
   "cell_type": "code",
   "execution_count": 249,
   "metadata": {
    "id": "oTqZ-RIPRuJq",
    "outputId": "08529231-c7b2-447f-9dba-c24831cdc5d0"
   },
   "outputs": [
    {
     "data": {
      "text/html": [
       "<div>\n",
       "<style scoped>\n",
       "    .dataframe tbody tr th:only-of-type {\n",
       "        vertical-align: middle;\n",
       "    }\n",
       "\n",
       "    .dataframe tbody tr th {\n",
       "        vertical-align: top;\n",
       "    }\n",
       "\n",
       "    .dataframe thead th {\n",
       "        text-align: right;\n",
       "    }\n",
       "</style>\n",
       "<table border=\"1\" class=\"dataframe\">\n",
       "  <thead>\n",
       "    <tr style=\"text-align: right;\">\n",
       "      <th></th>\n",
       "      <th>headline</th>\n",
       "      <th>is_sarcastic</th>\n",
       "      <th>titular_lemm</th>\n",
       "    </tr>\n",
       "  </thead>\n",
       "  <tbody>\n",
       "    <tr>\n",
       "      <th>26704</th>\n",
       "      <td>american politics in moral free-fall</td>\n",
       "      <td>0</td>\n",
       "      <td>american politics moral free fall</td>\n",
       "    </tr>\n",
       "    <tr>\n",
       "      <th>26705</th>\n",
       "      <td>america's best 20 hikes</td>\n",
       "      <td>0</td>\n",
       "      <td>america best hike</td>\n",
       "    </tr>\n",
       "    <tr>\n",
       "      <th>26706</th>\n",
       "      <td>reparations and obama</td>\n",
       "      <td>0</td>\n",
       "      <td>reparation obama</td>\n",
       "    </tr>\n",
       "    <tr>\n",
       "      <th>26707</th>\n",
       "      <td>israeli ban targeting boycott supporters raise...</td>\n",
       "      <td>0</td>\n",
       "      <td>israeli target boycott supporter raise alarm a...</td>\n",
       "    </tr>\n",
       "    <tr>\n",
       "      <th>26708</th>\n",
       "      <td>gourmet gifts for the foodie 2014</td>\n",
       "      <td>0</td>\n",
       "      <td>gourmet gift foodie</td>\n",
       "    </tr>\n",
       "  </tbody>\n",
       "</table>\n",
       "</div>"
      ],
      "text/plain": [
       "                                                headline  is_sarcastic  \\\n",
       "26704               american politics in moral free-fall             0   \n",
       "26705                            america's best 20 hikes             0   \n",
       "26706                              reparations and obama             0   \n",
       "26707  israeli ban targeting boycott supporters raise...             0   \n",
       "26708                  gourmet gifts for the foodie 2014             0   \n",
       "\n",
       "                                            titular_lemm  \n",
       "26704                  american politics moral free fall  \n",
       "26705                                  america best hike  \n",
       "26706                                   reparation obama  \n",
       "26707  israeli target boycott supporter raise alarm a...  \n",
       "26708                                gourmet gift foodie  "
      ]
     },
     "execution_count": 249,
     "metadata": {},
     "output_type": "execute_result"
    }
   ],
   "source": [
    "dataset[\"titular_lemm\"] = dataset.headline.apply(normalizar_lemmatizar)\n",
    "dataset.tail()"
   ]
  },
  {
   "cell_type": "markdown",
   "metadata": {
    "id": "h24EsshmRuJq"
   },
   "source": [
    "b. Por último nos armamos un nuevo datasate llamado `dataset_lem` que tenga solo las columnas `titular_lemm` y `is_sarcastic`."
   ]
  },
  {
   "cell_type": "code",
   "execution_count": 250,
   "metadata": {
    "id": "W40yEZF8RuJq",
    "outputId": "e26bb9d5-9f3c-402c-808c-16c3a931a25c"
   },
   "outputs": [
    {
     "data": {
      "text/html": [
       "<div>\n",
       "<style scoped>\n",
       "    .dataframe tbody tr th:only-of-type {\n",
       "        vertical-align: middle;\n",
       "    }\n",
       "\n",
       "    .dataframe tbody tr th {\n",
       "        vertical-align: top;\n",
       "    }\n",
       "\n",
       "    .dataframe thead th {\n",
       "        text-align: right;\n",
       "    }\n",
       "</style>\n",
       "<table border=\"1\" class=\"dataframe\">\n",
       "  <thead>\n",
       "    <tr style=\"text-align: right;\">\n",
       "      <th></th>\n",
       "      <th>is_sarcastic</th>\n",
       "      <th>titular_lemm</th>\n",
       "    </tr>\n",
       "  </thead>\n",
       "  <tbody>\n",
       "    <tr>\n",
       "      <th>0</th>\n",
       "      <td>0</td>\n",
       "      <td>former versace store clerk secret black code m...</td>\n",
       "    </tr>\n",
       "    <tr>\n",
       "      <th>1</th>\n",
       "      <td>0</td>\n",
       "      <td>roseanne revival catch thorny political mood good</td>\n",
       "    </tr>\n",
       "    <tr>\n",
       "      <th>2</th>\n",
       "      <td>1</td>\n",
       "      <td>start fear series closest thing grandchild</td>\n",
       "    </tr>\n",
       "    <tr>\n",
       "      <th>3</th>\n",
       "      <td>1</td>\n",
       "      <td>boehner want wife listen come alternative debt...</td>\n",
       "    </tr>\n",
       "    <tr>\n",
       "      <th>4</th>\n",
       "      <td>0</td>\n",
       "      <td>rowling wish snape happy birthday magical</td>\n",
       "    </tr>\n",
       "  </tbody>\n",
       "</table>\n",
       "</div>"
      ],
      "text/plain": [
       "   is_sarcastic                                       titular_lemm\n",
       "0             0  former versace store clerk secret black code m...\n",
       "1             0  roseanne revival catch thorny political mood good\n",
       "2             1         start fear series closest thing grandchild\n",
       "3             1  boehner want wife listen come alternative debt...\n",
       "4             0          rowling wish snape happy birthday magical"
      ]
     },
     "execution_count": 250,
     "metadata": {},
     "output_type": "execute_result"
    }
   ],
   "source": [
    "dataset_lemm = dataset.drop(columns=[\"headline\"])\n",
    "dataset_lemm.head()"
   ]
  },
  {
   "cell_type": "markdown",
   "metadata": {
    "id": "HpNgq2iXRuJq"
   },
   "source": [
    "\n",
    "## 6. Vectorizar\n",
    "\n",
    "Hasta ahora, tenemos un grupo de palabras por cada titular (bag of words). La idea ahora es representar esta lista de palabras como un vector. Para esto vamos a utilizar la función `CountVectorizer` de Scikit-Learn. Esta función nos permite representar cada título por un vector con un `1` en las palabras que contiene y un `0` en las que no. Además, vamos a trabajar únicamente con las palabras que aparecen más veces en el texto, ya que las que aparecen una única vez o pocas veces no nos van a brindar información que se pueda generalizar.\n"
   ]
  },
  {
   "cell_type": "markdown",
   "metadata": {
    "id": "KYof4M3bRuJq"
   },
   "source": [
    "a. Preparamos el conversor de bag of words a vectores que traemos de sklearn. `CountVectorizer` posee varias funcionalidades que pueden determinarse a partir de parámetros. Les recomendamos fuertemente leer su documentación."
   ]
  },
  {
   "cell_type": "code",
   "execution_count": 251,
   "metadata": {
    "id": "hc0n_jXyRuJq"
   },
   "outputs": [],
   "source": [
    "from sklearn.feature_extraction.text import CountVectorizer\n",
    "\n",
    "# Usaremos solo las 1000 palabras con mas frecuencia en todo el corpus para generar los vectores\n",
    "max_features=1000\n",
    "\n",
    "# Es decir que cada instancia tendrá 1000 features\n",
    "cou_vec=CountVectorizer(max_features=max_features) # stop_words=\"english\" , ngram_range=(1, 2)"
   ]
  },
  {
   "attachments": {
    "image.png": {
     "image/png": "[encoded data removed]"
    }
   },
   "cell_type": "markdown",
   "metadata": {
    "id": "4SHu17oURuJq"
   },
   "source": [
    "Notemos que desde `CountVectorizer` se pueden quitar las stopwords (algo que ya hicimos con `nltk`) e incluir los n_gramas automáticamente.\n",
    "![image.png](attachment:image.png)\n",
    "\n",
    "c. Ahora sí, vamos generarnos los vectores para cada título a partir del corpus total."
   ]
  },
  {
   "cell_type": "code",
   "execution_count": 252,
   "metadata": {
    "id": "mIS63E9LRuJr",
    "outputId": "25fbd960-ac61-4508-e47a-f007e4154997"
   },
   "outputs": [
    {
     "name": "stdout",
     "output_type": "stream",
     "text": [
      "50 primeras palabras:  ['abortion' 'abuse' 'accept' 'accidentally' 'accord' 'accuse' 'across'\n",
      " 'action' 'activist' 'actor' 'actually' 'address' 'administration' 'admit'\n",
      " 'admits' 'adorable' 'advice' 'afghanistan' 'agent' 'agree' 'ahead'\n",
      " 'airline' 'airport' 'album' 'allegation' 'allow' 'almost' 'already'\n",
      " 'also' 'always' 'amazon' 'america' 'american' 'amid' 'among' 'animal'\n",
      " 'anniversary' 'announce' 'announces' 'another' 'answer' 'anti' 'anyone'\n",
      " 'anything' 'apartment' 'apologize' 'apparently' 'appear' 'apple'\n",
      " 'archive']\n"
     ]
    }
   ],
   "source": [
    "matriz_titulos = cou_vec.fit_transform(dataset_lemm['titular_lemm'])\n",
    "\n",
    "# Tomamos las palabras\n",
    "all_words = cou_vec.get_feature_names_out()\n",
    "\n",
    "# Vizualizamos las 50 primeras palabras\n",
    "print(\"50 primeras palabras: \", all_words[0:50])"
   ]
  },
  {
   "cell_type": "code",
   "execution_count": 253,
   "metadata": {},
   "outputs": [
    {
     "data": {
      "text/plain": [
       "1000"
      ]
     },
     "execution_count": 253,
     "metadata": {},
     "output_type": "execute_result"
    }
   ],
   "source": [
    "len(all_words)"
   ]
  },
  {
   "cell_type": "markdown",
   "metadata": {
    "id": "0wOIFDYURuJr"
   },
   "source": [
    "## 7. Modelar\n",
    "\n",
    "Ahora sí estamos listos para usar todo nuestro conocimiento de modelos en este set de datos. Tengamos en cuenta que, dependiendo el número de palabras (features) que hayamos elegido, los modelos pueden tardar un rato en entrenarse.\n",
    "\n",
    "a. Primero, como siempre, separamos en test y train."
   ]
  },
  {
   "cell_type": "code",
   "execution_count": 254,
   "metadata": {},
   "outputs": [
    {
     "name": "stdout",
     "output_type": "stream",
     "text": [
      "  (0, 340)\t1\n",
      "  (0, 844)\t1\n",
      "  (0, 775)\t1\n",
      "  (0, 92)\t1\n",
      "  (1, 131)\t1\n",
      "  (1, 647)\t1\n",
      "  (1, 367)\t1\n",
      "  (2, 834)\t1\n",
      "  (2, 311)\t1\n",
      "  (2, 787)\t1\n",
      "  (2, 896)\t1\n",
      "  (3, 956)\t1\n",
      "  (3, 976)\t1\n",
      "  (3, 500)\t1\n",
      "  (3, 172)\t1\n",
      "  (3, 426)\t1\n",
      "  (4, 982)\t1\n",
      "  (4, 386)\t1\n",
      "  (4, 91)\t1\n",
      "  (5, 989)\t1\n",
      "  (5, 984)\t1\n",
      "  (6, 129)\t1\n",
      "  (7, 784)\t1\n",
      "  (7, 766)\t1\n",
      "  (7, 987)\t1\n",
      "  :\t:\n",
      "  (26699, 347)\t1\n",
      "  (26699, 4)\t1\n",
      "  (26700, 172)\t1\n",
      "  (26701, 758)\t1\n",
      "  (26701, 620)\t1\n",
      "  (26701, 288)\t1\n",
      "  (26702, 32)\t1\n",
      "  (26702, 306)\t1\n",
      "  (26702, 319)\t1\n",
      "  (26702, 110)\t1\n",
      "  (26703, 153)\t1\n",
      "  (26703, 651)\t1\n",
      "  (26703, 343)\t1\n",
      "  (26703, 963)\t1\n",
      "  (26704, 32)\t1\n",
      "  (26704, 345)\t1\n",
      "  (26704, 305)\t1\n",
      "  (26704, 648)\t1\n",
      "  (26705, 31)\t1\n",
      "  (26705, 85)\t1\n",
      "  (26706, 593)\t1\n",
      "  (26707, 693)\t1\n",
      "  (26707, 864)\t1\n",
      "  (26707, 878)\t1\n",
      "  (26708, 359)\t1\n"
     ]
    }
   ],
   "source": [
    "print(matriz_titulos)"
   ]
  },
  {
   "cell_type": "code",
   "execution_count": 255,
   "metadata": {
    "scrolled": true
   },
   "outputs": [
    {
     "data": {
      "text/html": [
       "<div>\n",
       "<style scoped>\n",
       "    .dataframe tbody tr th:only-of-type {\n",
       "        vertical-align: middle;\n",
       "    }\n",
       "\n",
       "    .dataframe tbody tr th {\n",
       "        vertical-align: top;\n",
       "    }\n",
       "\n",
       "    .dataframe thead th {\n",
       "        text-align: right;\n",
       "    }\n",
       "</style>\n",
       "<table border=\"1\" class=\"dataframe\">\n",
       "  <thead>\n",
       "    <tr style=\"text-align: right;\">\n",
       "      <th></th>\n",
       "      <th>abortion</th>\n",
       "      <th>abuse</th>\n",
       "      <th>accept</th>\n",
       "      <th>accidentally</th>\n",
       "      <th>accord</th>\n",
       "      <th>accuse</th>\n",
       "      <th>across</th>\n",
       "      <th>action</th>\n",
       "      <th>activist</th>\n",
       "      <th>actor</th>\n",
       "      <th>...</th>\n",
       "      <th>worry</th>\n",
       "      <th>worth</th>\n",
       "      <th>would</th>\n",
       "      <th>write</th>\n",
       "      <th>writer</th>\n",
       "      <th>wrong</th>\n",
       "      <th>year</th>\n",
       "      <th>york</th>\n",
       "      <th>young</th>\n",
       "      <th>youth</th>\n",
       "    </tr>\n",
       "  </thead>\n",
       "  <tbody>\n",
       "    <tr>\n",
       "      <th>0</th>\n",
       "      <td>0</td>\n",
       "      <td>0</td>\n",
       "      <td>0</td>\n",
       "      <td>0</td>\n",
       "      <td>0</td>\n",
       "      <td>0</td>\n",
       "      <td>0</td>\n",
       "      <td>0</td>\n",
       "      <td>0</td>\n",
       "      <td>0</td>\n",
       "      <td>...</td>\n",
       "      <td>0</td>\n",
       "      <td>0</td>\n",
       "      <td>0</td>\n",
       "      <td>0</td>\n",
       "      <td>0</td>\n",
       "      <td>0</td>\n",
       "      <td>0</td>\n",
       "      <td>0</td>\n",
       "      <td>0</td>\n",
       "      <td>0</td>\n",
       "    </tr>\n",
       "    <tr>\n",
       "      <th>1</th>\n",
       "      <td>0</td>\n",
       "      <td>0</td>\n",
       "      <td>0</td>\n",
       "      <td>0</td>\n",
       "      <td>0</td>\n",
       "      <td>0</td>\n",
       "      <td>0</td>\n",
       "      <td>0</td>\n",
       "      <td>0</td>\n",
       "      <td>0</td>\n",
       "      <td>...</td>\n",
       "      <td>0</td>\n",
       "      <td>0</td>\n",
       "      <td>0</td>\n",
       "      <td>0</td>\n",
       "      <td>0</td>\n",
       "      <td>0</td>\n",
       "      <td>0</td>\n",
       "      <td>0</td>\n",
       "      <td>0</td>\n",
       "      <td>0</td>\n",
       "    </tr>\n",
       "    <tr>\n",
       "      <th>2</th>\n",
       "      <td>0</td>\n",
       "      <td>0</td>\n",
       "      <td>0</td>\n",
       "      <td>0</td>\n",
       "      <td>0</td>\n",
       "      <td>0</td>\n",
       "      <td>0</td>\n",
       "      <td>0</td>\n",
       "      <td>0</td>\n",
       "      <td>0</td>\n",
       "      <td>...</td>\n",
       "      <td>0</td>\n",
       "      <td>0</td>\n",
       "      <td>0</td>\n",
       "      <td>0</td>\n",
       "      <td>0</td>\n",
       "      <td>0</td>\n",
       "      <td>0</td>\n",
       "      <td>0</td>\n",
       "      <td>0</td>\n",
       "      <td>0</td>\n",
       "    </tr>\n",
       "    <tr>\n",
       "      <th>3</th>\n",
       "      <td>0</td>\n",
       "      <td>0</td>\n",
       "      <td>0</td>\n",
       "      <td>0</td>\n",
       "      <td>0</td>\n",
       "      <td>0</td>\n",
       "      <td>0</td>\n",
       "      <td>0</td>\n",
       "      <td>0</td>\n",
       "      <td>0</td>\n",
       "      <td>...</td>\n",
       "      <td>0</td>\n",
       "      <td>0</td>\n",
       "      <td>0</td>\n",
       "      <td>0</td>\n",
       "      <td>0</td>\n",
       "      <td>0</td>\n",
       "      <td>0</td>\n",
       "      <td>0</td>\n",
       "      <td>0</td>\n",
       "      <td>0</td>\n",
       "    </tr>\n",
       "    <tr>\n",
       "      <th>4</th>\n",
       "      <td>0</td>\n",
       "      <td>0</td>\n",
       "      <td>0</td>\n",
       "      <td>0</td>\n",
       "      <td>0</td>\n",
       "      <td>0</td>\n",
       "      <td>0</td>\n",
       "      <td>0</td>\n",
       "      <td>0</td>\n",
       "      <td>0</td>\n",
       "      <td>...</td>\n",
       "      <td>0</td>\n",
       "      <td>0</td>\n",
       "      <td>0</td>\n",
       "      <td>0</td>\n",
       "      <td>0</td>\n",
       "      <td>0</td>\n",
       "      <td>0</td>\n",
       "      <td>0</td>\n",
       "      <td>0</td>\n",
       "      <td>0</td>\n",
       "    </tr>\n",
       "  </tbody>\n",
       "</table>\n",
       "<p>5 rows × 1000 columns</p>\n",
       "</div>"
      ],
      "text/plain": [
       "   abortion  abuse  accept  accidentally  accord  accuse  across  action  \\\n",
       "0         0      0       0             0       0       0       0       0   \n",
       "1         0      0       0             0       0       0       0       0   \n",
       "2         0      0       0             0       0       0       0       0   \n",
       "3         0      0       0             0       0       0       0       0   \n",
       "4         0      0       0             0       0       0       0       0   \n",
       "\n",
       "   activist  actor  ...  worry  worth  would  write  writer  wrong  year  \\\n",
       "0         0      0  ...      0      0      0      0       0      0     0   \n",
       "1         0      0  ...      0      0      0      0       0      0     0   \n",
       "2         0      0  ...      0      0      0      0       0      0     0   \n",
       "3         0      0  ...      0      0      0      0       0      0     0   \n",
       "4         0      0  ...      0      0      0      0       0      0     0   \n",
       "\n",
       "   york  young  youth  \n",
       "0     0      0      0  \n",
       "1     0      0      0  \n",
       "2     0      0      0  \n",
       "3     0      0      0  \n",
       "4     0      0      0  \n",
       "\n",
       "[5 rows x 1000 columns]"
      ]
     },
     "execution_count": 255,
     "metadata": {},
     "output_type": "execute_result"
    }
   ],
   "source": [
    "pd.DataFrame(matriz_titulos.toarray(), columns=all_words).head()"
   ]
  },
  {
   "cell_type": "code",
   "execution_count": 256,
   "metadata": {
    "id": "rAZrBuLORuJr"
   },
   "outputs": [],
   "source": [
    "x = matriz_titulos.toarray()\n",
    "y = dataset_lemm['is_sarcastic']\n",
    "\n",
    "from sklearn.model_selection import train_test_split\n",
    "xtrain, xtest, ytrain, ytest = train_test_split(x,y,test_size=0.2,random_state=42,stratify=y)"
   ]
  },
  {
   "cell_type": "markdown",
   "metadata": {
    "id": "EZ3ATxWTRuJr"
   },
   "source": [
    "Tambien definimos una función que nos permite plotear los resultados en una matriz de confusión."
   ]
  },
  {
   "cell_type": "code",
   "execution_count": 257,
   "metadata": {
    "id": "xZms0qAMRuJr"
   },
   "outputs": [],
   "source": [
    "from sklearn.metrics import confusion_matrix\n",
    "import seaborn as sns\n",
    "\n",
    "def confusion(ytest,y_pred):\n",
    "    names=[\"No Sarcastico\",\"Sarcastico\"]\n",
    "    cm=confusion_matrix(ytest,y_pred)\n",
    "    f,ax=plt.subplots(figsize=(5,5))\n",
    "    sns.heatmap(cm,annot=True,linewidth=.5,linecolor=\"r\",fmt=\".0f\",ax=ax)\n",
    "    plt.xlabel(\"y_pred\")\n",
    "    plt.ylabel(\"y_true\")\n",
    "    ax.set_xticklabels(names)\n",
    "    ax.set_yticklabels(names)\n",
    "    plt.show()\n",
    "\n",
    "    return"
   ]
  },
  {
   "cell_type": "code",
   "execution_count": 258,
   "metadata": {},
   "outputs": [
    {
     "data": {
      "image/png": "[encoded data removed]",
      "text/plain": [
       "<Figure size 500x500 with 2 Axes>"
      ]
     },
     "metadata": {},
     "output_type": "display_data"
    }
   ],
   "source": [
    "confusion(ytest,ytest) # esto es solo un ejemplo"
   ]
  },
  {
   "cell_type": "markdown",
   "metadata": {
    "id": "ldsVaiDpRuJr"
   },
   "source": [
    "### Naive Bayes\n",
    "a. Empecemos por un Naive Bayes para tener un benchmark de referencia para el accuracy."
   ]
  },
  {
   "cell_type": "code",
   "execution_count": 259,
   "metadata": {
    "id": "rNmNNEhISi2g"
   },
   "outputs": [
    {
     "data": {
      "text/html": [
       "<style>#sk-container-id-1 {\n",
       "  /* Definition of color scheme common for light and dark mode */\n",
       "  --sklearn-color-text: black;\n",
       "  --sklearn-color-line: gray;\n",
       "  /* Definition of color scheme for unfitted estimators */\n",
       "  --sklearn-color-unfitted-level-0: #fff5e6;\n",
       "  --sklearn-color-unfitted-level-1: #f6e4d2;\n",
       "  --sklearn-color-unfitted-level-2: #ffe0b3;\n",
       "  --sklearn-color-unfitted-level-3: chocolate;\n",
       "  /* Definition of color scheme for fitted estimators */\n",
       "  --sklearn-color-fitted-level-0: #f0f8ff;\n",
       "  --sklearn-color-fitted-level-1: #d4ebff;\n",
       "  --sklearn-color-fitted-level-2: #b3dbfd;\n",
       "  --sklearn-color-fitted-level-3: cornflowerblue;\n",
       "\n",
       "  /* Specific color for light theme */\n",
       "  --sklearn-color-text-on-default-background: var(--sg-text-color, var(--theme-code-foreground, var(--jp-content-font-color1, black)));\n",
       "  --sklearn-color-background: var(--sg-background-color, var(--theme-background, var(--jp-layout-color0, white)));\n",
       "  --sklearn-color-border-box: var(--sg-text-color, var(--theme-code-foreground, var(--jp-content-font-color1, black)));\n",
       "  --sklearn-color-icon: #696969;\n",
       "\n",
       "  @media (prefers-color-scheme: dark) {\n",
       "    /* Redefinition of color scheme for dark theme */\n",
       "    --sklearn-color-text-on-default-background: var(--sg-text-color, var(--theme-code-foreground, var(--jp-content-font-color1, white)));\n",
       "    --sklearn-color-background: var(--sg-background-color, var(--theme-background, var(--jp-layout-color0, #111)));\n",
       "    --sklearn-color-border-box: var(--sg-text-color, var(--theme-code-foreground, var(--jp-content-font-color1, white)));\n",
       "    --sklearn-color-icon: #878787;\n",
       "  }\n",
       "}\n",
       "\n",
       "#sk-container-id-1 {\n",
       "  color: var(--sklearn-color-text);\n",
       "}\n",
       "\n",
       "#sk-container-id-1 pre {\n",
       "  padding: 0;\n",
       "}\n",
       "\n",
       "#sk-container-id-1 input.sk-hidden--visually {\n",
       "  border: 0;\n",
       "  clip: rect(1px 1px 1px 1px);\n",
       "  clip: rect(1px, 1px, 1px, 1px);\n",
       "  height: 1px;\n",
       "  margin: -1px;\n",
       "  overflow: hidden;\n",
       "  padding: 0;\n",
       "  position: absolute;\n",
       "  width: 1px;\n",
       "}\n",
       "\n",
       "#sk-container-id-1 div.sk-dashed-wrapped {\n",
       "  border: 1px dashed var(--sklearn-color-line);\n",
       "  margin: 0 0.4em 0.5em 0.4em;\n",
       "  box-sizing: border-box;\n",
       "  padding-bottom: 0.4em;\n",
       "  background-color: var(--sklearn-color-background);\n",
       "}\n",
       "\n",
       "#sk-container-id-1 div.sk-container {\n",
       "  /* jupyter's `normalize.less` sets `[hidden] { display: none; }`\n",
       "     but bootstrap.min.css set `[hidden] { display: none !important; }`\n",
       "     so we also need the `!important` here to be able to override the\n",
       "     default hidden behavior on the sphinx rendered scikit-learn.org.\n",
       "     See: https://github.com/scikit-learn/scikit-learn/issues/21755 */\n",
       "  display: inline-block !important;\n",
       "  position: relative;\n",
       "}\n",
       "\n",
       "#sk-container-id-1 div.sk-text-repr-fallback {\n",
       "  display: none;\n",
       "}\n",
       "\n",
       "div.sk-parallel-item,\n",
       "div.sk-serial,\n",
       "div.sk-item {\n",
       "  /* draw centered vertical line to link estimators */\n",
       "  background-image: linear-gradient(var(--sklearn-color-text-on-default-background), var(--sklearn-color-text-on-default-background));\n",
       "  background-size: 2px 100%;\n",
       "  background-repeat: no-repeat;\n",
       "  background-position: center center;\n",
       "}\n",
       "\n",
       "/* Parallel-specific style estimator block */\n",
       "\n",
       "#sk-container-id-1 div.sk-parallel-item::after {\n",
       "  content: \"\";\n",
       "  width: 100%;\n",
       "  border-bottom: 2px solid var(--sklearn-color-text-on-default-background);\n",
       "  flex-grow: 1;\n",
       "}\n",
       "\n",
       "#sk-container-id-1 div.sk-parallel {\n",
       "  display: flex;\n",
       "  align-items: stretch;\n",
       "  justify-content: center;\n",
       "  background-color: var(--sklearn-color-background);\n",
       "  position: relative;\n",
       "}\n",
       "\n",
       "#sk-container-id-1 div.sk-parallel-item {\n",
       "  display: flex;\n",
       "  flex-direction: column;\n",
       "}\n",
       "\n",
       "#sk-container-id-1 div.sk-parallel-item:first-child::after {\n",
       "  align-self: flex-end;\n",
       "  width: 50%;\n",
       "}\n",
       "\n",
       "#sk-container-id-1 div.sk-parallel-item:last-child::after {\n",
       "  align-self: flex-start;\n",
       "  width: 50%;\n",
       "}\n",
       "\n",
       "#sk-container-id-1 div.sk-parallel-item:only-child::after {\n",
       "  width: 0;\n",
       "}\n",
       "\n",
       "/* Serial-specific style estimator block */\n",
       "\n",
       "#sk-container-id-1 div.sk-serial {\n",
       "  display: flex;\n",
       "  flex-direction: column;\n",
       "  align-items: center;\n",
       "  background-color: var(--sklearn-color-background);\n",
       "  padding-right: 1em;\n",
       "  padding-left: 1em;\n",
       "}\n",
       "\n",
       "\n",
       "/* Toggleable style: style used for estimator/Pipeline/ColumnTransformer box that is\n",
       "clickable and can be expanded/collapsed.\n",
       "- Pipeline and ColumnTransformer use this feature and define the default style\n",
       "- Estimators will overwrite some part of the style using the `sk-estimator` class\n",
       "*/\n",
       "\n",
       "/* Pipeline and ColumnTransformer style (default) */\n",
       "\n",
       "#sk-container-id-1 div.sk-toggleable {\n",
       "  /* Default theme specific background. It is overwritten whether we have a\n",
       "  specific estimator or a Pipeline/ColumnTransformer */\n",
       "  background-color: var(--sklearn-color-background);\n",
       "}\n",
       "\n",
       "/* Toggleable label */\n",
       "#sk-container-id-1 label.sk-toggleable__label {\n",
       "  cursor: pointer;\n",
       "  display: block;\n",
       "  width: 100%;\n",
       "  margin-bottom: 0;\n",
       "  padding: 0.5em;\n",
       "  box-sizing: border-box;\n",
       "  text-align: center;\n",
       "}\n",
       "\n",
       "#sk-container-id-1 label.sk-toggleable__label-arrow:before {\n",
       "  /* Arrow on the left of the label */\n",
       "  content: \"▸\";\n",
       "  float: left;\n",
       "  margin-right: 0.25em;\n",
       "  color: var(--sklearn-color-icon);\n",
       "}\n",
       "\n",
       "#sk-container-id-1 label.sk-toggleable__label-arrow:hover:before {\n",
       "  color: var(--sklearn-color-text);\n",
       "}\n",
       "\n",
       "/* Toggleable content - dropdown */\n",
       "\n",
       "#sk-container-id-1 div.sk-toggleable__content {\n",
       "  max-height: 0;\n",
       "  max-width: 0;\n",
       "  overflow: hidden;\n",
       "  text-align: left;\n",
       "  /* unfitted */\n",
       "  background-color: var(--sklearn-color-unfitted-level-0);\n",
       "}\n",
       "\n",
       "#sk-container-id-1 div.sk-toggleable__content.fitted {\n",
       "  /* fitted */\n",
       "  background-color: var(--sklearn-color-fitted-level-0);\n",
       "}\n",
       "\n",
       "#sk-container-id-1 div.sk-toggleable__content pre {\n",
       "  margin: 0.2em;\n",
       "  border-radius: 0.25em;\n",
       "  color: var(--sklearn-color-text);\n",
       "  /* unfitted */\n",
       "  background-color: var(--sklearn-color-unfitted-level-0);\n",
       "}\n",
       "\n",
       "#sk-container-id-1 div.sk-toggleable__content.fitted pre {\n",
       "  /* unfitted */\n",
       "  background-color: var(--sklearn-color-fitted-level-0);\n",
       "}\n",
       "\n",
       "#sk-container-id-1 input.sk-toggleable__control:checked~div.sk-toggleable__content {\n",
       "  /* Expand drop-down */\n",
       "  max-height: 200px;\n",
       "  max-width: 100%;\n",
       "  overflow: auto;\n",
       "}\n",
       "\n",
       "#sk-container-id-1 input.sk-toggleable__control:checked~label.sk-toggleable__label-arrow:before {\n",
       "  content: \"▾\";\n",
       "}\n",
       "\n",
       "/* Pipeline/ColumnTransformer-specific style */\n",
       "\n",
       "#sk-container-id-1 div.sk-label input.sk-toggleable__control:checked~label.sk-toggleable__label {\n",
       "  color: var(--sklearn-color-text);\n",
       "  background-color: var(--sklearn-color-unfitted-level-2);\n",
       "}\n",
       "\n",
       "#sk-container-id-1 div.sk-label.fitted input.sk-toggleable__control:checked~label.sk-toggleable__label {\n",
       "  background-color: var(--sklearn-color-fitted-level-2);\n",
       "}\n",
       "\n",
       "/* Estimator-specific style */\n",
       "\n",
       "/* Colorize estimator box */\n",
       "#sk-container-id-1 div.sk-estimator input.sk-toggleable__control:checked~label.sk-toggleable__label {\n",
       "  /* unfitted */\n",
       "  background-color: var(--sklearn-color-unfitted-level-2);\n",
       "}\n",
       "\n",
       "#sk-container-id-1 div.sk-estimator.fitted input.sk-toggleable__control:checked~label.sk-toggleable__label {\n",
       "  /* fitted */\n",
       "  background-color: var(--sklearn-color-fitted-level-2);\n",
       "}\n",
       "\n",
       "#sk-container-id-1 div.sk-label label.sk-toggleable__label,\n",
       "#sk-container-id-1 div.sk-label label {\n",
       "  /* The background is the default theme color */\n",
       "  color: var(--sklearn-color-text-on-default-background);\n",
       "}\n",
       "\n",
       "/* On hover, darken the color of the background */\n",
       "#sk-container-id-1 div.sk-label:hover label.sk-toggleable__label {\n",
       "  color: var(--sklearn-color-text);\n",
       "  background-color: var(--sklearn-color-unfitted-level-2);\n",
       "}\n",
       "\n",
       "/* Label box, darken color on hover, fitted */\n",
       "#sk-container-id-1 div.sk-label.fitted:hover label.sk-toggleable__label.fitted {\n",
       "  color: var(--sklearn-color-text);\n",
       "  background-color: var(--sklearn-color-fitted-level-2);\n",
       "}\n",
       "\n",
       "/* Estimator label */\n",
       "\n",
       "#sk-container-id-1 div.sk-label label {\n",
       "  font-family: monospace;\n",
       "  font-weight: bold;\n",
       "  display: inline-block;\n",
       "  line-height: 1.2em;\n",
       "}\n",
       "\n",
       "#sk-container-id-1 div.sk-label-container {\n",
       "  text-align: center;\n",
       "}\n",
       "\n",
       "/* Estimator-specific */\n",
       "#sk-container-id-1 div.sk-estimator {\n",
       "  font-family: monospace;\n",
       "  border: 1px dotted var(--sklearn-color-border-box);\n",
       "  border-radius: 0.25em;\n",
       "  box-sizing: border-box;\n",
       "  margin-bottom: 0.5em;\n",
       "  /* unfitted */\n",
       "  background-color: var(--sklearn-color-unfitted-level-0);\n",
       "}\n",
       "\n",
       "#sk-container-id-1 div.sk-estimator.fitted {\n",
       "  /* fitted */\n",
       "  background-color: var(--sklearn-color-fitted-level-0);\n",
       "}\n",
       "\n",
       "/* on hover */\n",
       "#sk-container-id-1 div.sk-estimator:hover {\n",
       "  /* unfitted */\n",
       "  background-color: var(--sklearn-color-unfitted-level-2);\n",
       "}\n",
       "\n",
       "#sk-container-id-1 div.sk-estimator.fitted:hover {\n",
       "  /* fitted */\n",
       "  background-color: var(--sklearn-color-fitted-level-2);\n",
       "}\n",
       "\n",
       "/* Specification for estimator info (e.g. \"i\" and \"?\") */\n",
       "\n",
       "/* Common style for \"i\" and \"?\" */\n",
       "\n",
       ".sk-estimator-doc-link,\n",
       "a:link.sk-estimator-doc-link,\n",
       "a:visited.sk-estimator-doc-link {\n",
       "  float: right;\n",
       "  font-size: smaller;\n",
       "  line-height: 1em;\n",
       "  font-family: monospace;\n",
       "  background-color: var(--sklearn-color-background);\n",
       "  border-radius: 1em;\n",
       "  height: 1em;\n",
       "  width: 1em;\n",
       "  text-decoration: none !important;\n",
       "  margin-left: 1ex;\n",
       "  /* unfitted */\n",
       "  border: var(--sklearn-color-unfitted-level-1) 1pt solid;\n",
       "  color: var(--sklearn-color-unfitted-level-1);\n",
       "}\n",
       "\n",
       ".sk-estimator-doc-link.fitted,\n",
       "a:link.sk-estimator-doc-link.fitted,\n",
       "a:visited.sk-estimator-doc-link.fitted {\n",
       "  /* fitted */\n",
       "  border: var(--sklearn-color-fitted-level-1) 1pt solid;\n",
       "  color: var(--sklearn-color-fitted-level-1);\n",
       "}\n",
       "\n",
       "/* On hover */\n",
       "div.sk-estimator:hover .sk-estimator-doc-link:hover,\n",
       ".sk-estimator-doc-link:hover,\n",
       "div.sk-label-container:hover .sk-estimator-doc-link:hover,\n",
       ".sk-estimator-doc-link:hover {\n",
       "  /* unfitted */\n",
       "  background-color: var(--sklearn-color-unfitted-level-3);\n",
       "  color: var(--sklearn-color-background);\n",
       "  text-decoration: none;\n",
       "}\n",
       "\n",
       "div.sk-estimator.fitted:hover .sk-estimator-doc-link.fitted:hover,\n",
       ".sk-estimator-doc-link.fitted:hover,\n",
       "div.sk-label-container:hover .sk-estimator-doc-link.fitted:hover,\n",
       ".sk-estimator-doc-link.fitted:hover {\n",
       "  /* fitted */\n",
       "  background-color: var(--sklearn-color-fitted-level-3);\n",
       "  color: var(--sklearn-color-background);\n",
       "  text-decoration: none;\n",
       "}\n",
       "\n",
       "/* Span, style for the box shown on hovering the info icon */\n",
       ".sk-estimator-doc-link span {\n",
       "  display: none;\n",
       "  z-index: 9999;\n",
       "  position: relative;\n",
       "  font-weight: normal;\n",
       "  right: .2ex;\n",
       "  padding: .5ex;\n",
       "  margin: .5ex;\n",
       "  width: min-content;\n",
       "  min-width: 20ex;\n",
       "  max-width: 50ex;\n",
       "  color: var(--sklearn-color-text);\n",
       "  box-shadow: 2pt 2pt 4pt #999;\n",
       "  /* unfitted */\n",
       "  background: var(--sklearn-color-unfitted-level-0);\n",
       "  border: .5pt solid var(--sklearn-color-unfitted-level-3);\n",
       "}\n",
       "\n",
       ".sk-estimator-doc-link.fitted span {\n",
       "  /* fitted */\n",
       "  background: var(--sklearn-color-fitted-level-0);\n",
       "  border: var(--sklearn-color-fitted-level-3);\n",
       "}\n",
       "\n",
       ".sk-estimator-doc-link:hover span {\n",
       "  display: block;\n",
       "}\n",
       "\n",
       "/* \"?\"-specific style due to the `<a>` HTML tag */\n",
       "\n",
       "#sk-container-id-1 a.estimator_doc_link {\n",
       "  float: right;\n",
       "  font-size: 1rem;\n",
       "  line-height: 1em;\n",
       "  font-family: monospace;\n",
       "  background-color: var(--sklearn-color-background);\n",
       "  border-radius: 1rem;\n",
       "  height: 1rem;\n",
       "  width: 1rem;\n",
       "  text-decoration: none;\n",
       "  /* unfitted */\n",
       "  color: var(--sklearn-color-unfitted-level-1);\n",
       "  border: var(--sklearn-color-unfitted-level-1) 1pt solid;\n",
       "}\n",
       "\n",
       "#sk-container-id-1 a.estimator_doc_link.fitted {\n",
       "  /* fitted */\n",
       "  border: var(--sklearn-color-fitted-level-1) 1pt solid;\n",
       "  color: var(--sklearn-color-fitted-level-1);\n",
       "}\n",
       "\n",
       "/* On hover */\n",
       "#sk-container-id-1 a.estimator_doc_link:hover {\n",
       "  /* unfitted */\n",
       "  background-color: var(--sklearn-color-unfitted-level-3);\n",
       "  color: var(--sklearn-color-background);\n",
       "  text-decoration: none;\n",
       "}\n",
       "\n",
       "#sk-container-id-1 a.estimator_doc_link.fitted:hover {\n",
       "  /* fitted */\n",
       "  background-color: var(--sklearn-color-fitted-level-3);\n",
       "}\n",
       "</style><div id=\"sk-container-id-1\" class=\"sk-top-container\"><div class=\"sk-text-repr-fallback\"><pre>GaussianNB()</pre><b>In a Jupyter environment, please rerun this cell to show the HTML representation or trust the notebook. <br />On GitHub, the HTML representation is unable to render, please try loading this page with nbviewer.org.</b></div><div class=\"sk-container\" hidden><div class=\"sk-item\"><div class=\"sk-estimator fitted sk-toggleable\"><input class=\"sk-toggleable__control sk-hidden--visually\" id=\"sk-estimator-id-1\" type=\"checkbox\" checked><label for=\"sk-estimator-id-1\" class=\"sk-toggleable__label fitted sk-toggleable__label-arrow fitted\">&nbsp;&nbsp;GaussianNB<a class=\"sk-estimator-doc-link fitted\" rel=\"noreferrer\" target=\"_blank\" href=\"https://scikit-learn.org/1.4/modules/generated/sklearn.naive_bayes.GaussianNB.html\">?<span>Documentation for GaussianNB</span></a><span class=\"sk-estimator-doc-link fitted\">i<span>Fitted</span></span></label><div class=\"sk-toggleable__content fitted\"><pre>GaussianNB()</pre></div> </div></div></div></div>"
      ],
      "text/plain": [
       "GaussianNB()"
      ]
     },
     "execution_count": 259,
     "metadata": {},
     "output_type": "execute_result"
    }
   ],
   "source": [
    "from sklearn.naive_bayes import GaussianNB\n",
    "nb = GaussianNB()\n",
    "nb.fit(xtrain, ytrain)"
   ]
  },
  {
   "cell_type": "code",
   "execution_count": 260,
   "metadata": {},
   "outputs": [],
   "source": [
    "yhat=nb.predict(xtest)"
   ]
  },
  {
   "cell_type": "markdown",
   "metadata": {
    "id": "pzqAQ-fyRuJr"
   },
   "source": [
    "b. Veamos cómo queda graficada la matriz de confusión:"
   ]
  },
  {
   "cell_type": "code",
   "execution_count": 261,
   "metadata": {
    "id": "pMUKZgWDSj4q"
   },
   "outputs": [
    {
     "data": {
      "image/png": "[encoded data removed]",
      "text/plain": [
       "<Figure size 500x500 with 2 Axes>"
      ]
     },
     "metadata": {},
     "output_type": "display_data"
    }
   ],
   "source": [
    "confusion(ytest,yhat)"
   ]
  },
  {
   "cell_type": "code",
   "execution_count": 262,
   "metadata": {},
   "outputs": [
    {
     "data": {
      "text/plain": [
       "0.6761512542119057"
      ]
     },
     "execution_count": 262,
     "metadata": {},
     "output_type": "execute_result"
    }
   ],
   "source": [
    "from sklearn.metrics import accuracy_score\n",
    "accuracy_score(ytest,yhat)"
   ]
  },
  {
   "cell_type": "markdown",
   "metadata": {
    "id": "q_e9GEjRRuJs"
   },
   "source": [
    "### Random Forest\n",
    "a. Veamos cómo funciona un random forest para predecir el sarcasmo de una nota en base a su titular."
   ]
  },
  {
   "cell_type": "code",
   "execution_count": 266,
   "metadata": {
    "id": "_iIbIm3tSlAz"
   },
   "outputs": [],
   "source": [
    "from sklearn.ensemble import RandomForestRegressor\n",
    "from sklearn.model_selection import GridSearchCV\n",
    "\n",
    "\n",
    "n_cv=3\n",
    "model = RandomForestRegressor()\n",
    "params={'criterion':['squared_error'],\n",
    "        'max_depth': [5,7],# Maxima pofundidad del arbol\n",
    "        'max_features': [0.3, 0.7], # numero de features a considerar en cada split\n",
    "        'max_samples' : [0.8,0.5],\n",
    "        'max_leaf_nodes': [10,30], # maximo de nodos del arbol\n",
    "        'min_impurity_decrease' : [0.05], # un nuevo nodo se harà si al hacerse se decrece la impurity en un threshold por encima del valor\n",
    "        'min_samples_split': [5,10], # The minimum number of samples required to split an internal node:\n",
    "        'n_estimators': [100] # numero de arboles\n",
    "        }\n",
    "\n",
    "# scoring: lista de metricas a obtener\n",
    "scoring = ['neg_mean_squared_error', 'explained_variance', 'r2']\n",
    "\n",
    "\n",
    "\n",
    "# creamos la GridSeacrh\n",
    "grid_solver = GridSearchCV(estimator = model, # model to train\n",
    "                           param_grid = params, # param_grid\n",
    "                           scoring = scoring,\n",
    "                           cv = n_cv,\n",
    "                           refit = 'neg_mean_squared_error',\n",
    "                           verbose = 1) # cuanto va a imprimir por pantalla"
   ]
  },
  {
   "cell_type": "code",
   "execution_count": null,
   "metadata": {},
   "outputs": [],
   "source": []
  },
  {
   "cell_type": "markdown",
   "metadata": {
    "id": "47NQGawURuJs"
   },
   "source": [
    "b. Grafica la matriz de confusión:"
   ]
  },
  {
   "cell_type": "code",
   "execution_count": null,
   "metadata": {
    "id": "2WgaeUDfSmG0"
   },
   "outputs": [],
   "source": []
  },
  {
   "cell_type": "markdown",
   "metadata": {
    "id": "vYS1JxWYRuJs"
   },
   "source": [
    "c. Habíamos dicho que algo muy bueno de Random Forest era poder preguntarle por la importancia de los features que uso para clasificar. Veamos en este caso cuales son las palabras que mayormente determinan el sarcasmo de una nota para este clasificador."
   ]
  },
  {
   "cell_type": "code",
   "execution_count": null,
   "metadata": {
    "id": "znR3h5SeSnvh"
   },
   "outputs": [],
   "source": []
  },
  {
   "cell_type": "markdown",
   "metadata": {
    "id": "9daN2pLwRuJt"
   },
   "source": [
    "## 7. Explora las posibilidades\n",
    "\n",
    "Algunas sugerencias para explorar son las siguientes:\n",
    "\n",
    "1. Prueba con Stemmizar en vez de lemmantizar\n",
    "1. Cambia el numero de features que esta tomando.\n",
    "1. Incluye los 2-gramas. ¿Qué era eso?\n",
    "1. Conserve los signos de exclamación y pregunta del texto.\n"
   ]
  },
  {
   "cell_type": "code",
   "execution_count": null,
   "metadata": {
    "id": "iEUyPnoTRuJt"
   },
   "outputs": [],
   "source": []
  }
 ],
 "metadata": {
  "colab": {
   "provenance": []
  },
  "kernelspec": {
   "display_name": "Python 3 (ipykernel)",
   "language": "python",
   "name": "python3"
  },
  "language_info": {
   "codemirror_mode": {
    "name": "ipython",
    "version": 3
   },
   "file_extension": ".py",
   "mimetype": "text/x-python",
   "name": "python",
   "nbconvert_exporter": "python",
   "pygments_lexer": "ipython3",
   "version": "3.11.7"
  }
 },
 "nbformat": 4,
 "nbformat_minor": 4
}
