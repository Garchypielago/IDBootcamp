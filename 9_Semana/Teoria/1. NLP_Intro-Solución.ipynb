{
 "cells": [
  {
   "cell_type": "markdown",
   "metadata": {
    "id": "jL93mwbHRuJV"
   },
   "source": [
    "\n",
    "# NLP\n",
    "\n",
    "A lo largo del notebook vamos a trabajar con el siguiente dataset:\n",
    "\n",
    "https://www.kaggle.com/rmisra/news-headlines-dataset-for-sarcasm-detection/\n",
    "\n",
    "\n",
    "La mayoría de las herramientas de NLP pueden ser consideradas como parte del preprocesamiento, llevar el texto a una forma que la computadora pueda entender. En general, esto corresponde a una forma tipo \"tabla\" al estilo de los DataFrames de Pandas.\n"
   ]
  },
  {
   "cell_type": "code",
   "execution_count": 1,
   "metadata": {
    "id": "-u_mu3QLRuJY",
    "outputId": "359f4f50-e041-46b2-9099-1ae2e181bcd3"
   },
   "outputs": [
    {
     "name": "stderr",
     "output_type": "stream",
     "text": [
      "[nltk_data] Downloading package punkt to\n",
      "[nltk_data]     C:\\Users\\Propietario\\AppData\\Roaming\\nltk_data...\n",
      "[nltk_data]   Package punkt is already up-to-date!\n",
      "[nltk_data] Downloading package stopwords to\n",
      "[nltk_data]     C:\\Users\\Propietario\\AppData\\Roaming\\nltk_data...\n",
      "[nltk_data]   Package stopwords is already up-to-date!\n"
     ]
    },
    {
     "data": {
      "text/plain": [
       "True"
      ]
     },
     "execution_count": 1,
     "metadata": {},
     "output_type": "execute_result"
    }
   ],
   "source": [
    "import itertools\n",
    "\n",
    "import numpy as np\n",
    "import pandas as pd\n",
    "\n",
    "import matplotlib.pyplot as plt\n",
    "import seaborn as sns\n",
    "sns.set()\n",
    "\n",
    "import nltk\n",
    "\n",
    "# Esto sirve para configurar NLTK. La primera vez puede tardar un poco\n",
    "nltk.download('punkt')\n",
    "nltk.download('stopwords')"
   ]
  },
  {
   "cell_type": "code",
   "execution_count": 2,
   "metadata": {},
   "outputs": [
    {
     "name": "stdout",
     "output_type": "stream",
     "text": [
      "showing info https://raw.githubusercontent.com/nltk/nltk_data/gh-pages/index.xml\n"
     ]
    },
    {
     "data": {
      "text/plain": [
       "True"
      ]
     },
     "execution_count": 2,
     "metadata": {},
     "output_type": "execute_result"
    }
   ],
   "source": [
    "nltk.download()"
   ]
  },
  {
   "cell_type": "code",
   "execution_count": 2,
   "metadata": {
    "id": "3sTu0WZoRuJa",
    "outputId": "33d48aac-bb38-4ff5-d60b-ca2ab8d85795"
   },
   "outputs": [
    {
     "data": {
      "text/html": [
       "<div>\n",
       "<style scoped>\n",
       "    .dataframe tbody tr th:only-of-type {\n",
       "        vertical-align: middle;\n",
       "    }\n",
       "\n",
       "    .dataframe tbody tr th {\n",
       "        vertical-align: top;\n",
       "    }\n",
       "\n",
       "    .dataframe thead th {\n",
       "        text-align: right;\n",
       "    }\n",
       "</style>\n",
       "<table border=\"1\" class=\"dataframe\">\n",
       "  <thead>\n",
       "    <tr style=\"text-align: right;\">\n",
       "      <th></th>\n",
       "      <th>article_link</th>\n",
       "      <th>headline</th>\n",
       "      <th>is_sarcastic</th>\n",
       "    </tr>\n",
       "  </thead>\n",
       "  <tbody>\n",
       "    <tr>\n",
       "      <th>0</th>\n",
       "      <td>https://www.huffingtonpost.com/entry/versace-b...</td>\n",
       "      <td>former versace store clerk sues over secret 'b...</td>\n",
       "      <td>0</td>\n",
       "    </tr>\n",
       "    <tr>\n",
       "      <th>1</th>\n",
       "      <td>https://www.huffingtonpost.com/entry/roseanne-...</td>\n",
       "      <td>the 'roseanne' revival catches up to our thorn...</td>\n",
       "      <td>0</td>\n",
       "    </tr>\n",
       "    <tr>\n",
       "      <th>2</th>\n",
       "      <td>https://local.theonion.com/mom-starting-to-fea...</td>\n",
       "      <td>mom starting to fear son's web series closest ...</td>\n",
       "      <td>1</td>\n",
       "    </tr>\n",
       "    <tr>\n",
       "      <th>3</th>\n",
       "      <td>https://politics.theonion.com/boehner-just-wan...</td>\n",
       "      <td>boehner just wants wife to listen, not come up...</td>\n",
       "      <td>1</td>\n",
       "    </tr>\n",
       "    <tr>\n",
       "      <th>4</th>\n",
       "      <td>https://www.huffingtonpost.com/entry/jk-rowlin...</td>\n",
       "      <td>j.k. rowling wishes snape happy birthday in th...</td>\n",
       "      <td>0</td>\n",
       "    </tr>\n",
       "  </tbody>\n",
       "</table>\n",
       "</div>"
      ],
      "text/plain": [
       "                                        article_link  \\\n",
       "0  https://www.huffingtonpost.com/entry/versace-b...   \n",
       "1  https://www.huffingtonpost.com/entry/roseanne-...   \n",
       "2  https://local.theonion.com/mom-starting-to-fea...   \n",
       "3  https://politics.theonion.com/boehner-just-wan...   \n",
       "4  https://www.huffingtonpost.com/entry/jk-rowlin...   \n",
       "\n",
       "                                            headline  is_sarcastic  \n",
       "0  former versace store clerk sues over secret 'b...             0  \n",
       "1  the 'roseanne' revival catches up to our thorn...             0  \n",
       "2  mom starting to fear son's web series closest ...             1  \n",
       "3  boehner just wants wife to listen, not come up...             1  \n",
       "4  j.k. rowling wishes snape happy birthday in th...             0  "
      ]
     },
     "execution_count": 2,
     "metadata": {},
     "output_type": "execute_result"
    }
   ],
   "source": [
    "dataset = pd.read_json('Sarcasm_Headlines_Dataset.json', lines= True)\n",
    "dataset.head()"
   ]
  },
  {
   "cell_type": "code",
   "execution_count": 3,
   "metadata": {},
   "outputs": [
    {
     "data": {
      "text/plain": [
       "'https://www.huffingtonpost.com/entry/versace-black-code_us_5861fbefe4b0de3a08f600d5'"
      ]
     },
     "execution_count": 3,
     "metadata": {},
     "output_type": "execute_result"
    }
   ],
   "source": [
    "dataset.article_link[0]"
   ]
  },
  {
   "cell_type": "code",
   "execution_count": 4,
   "metadata": {
    "id": "60-IdHIzRuJa",
    "outputId": "3fe472e7-ad9d-454f-e71b-48a4ba0ab8ee"
   },
   "outputs": [
    {
     "data": {
      "image/png": "[encoded data removed]",
      "text/plain": [
       "<Figure size 640x480 with 1 Axes>"
      ]
     },
     "metadata": {},
     "output_type": "display_data"
    }
   ],
   "source": [
    "sns.countplot(data=dataset, x=\"is_sarcastic\")\n",
    "plt.show()"
   ]
  },
  {
   "cell_type": "markdown",
   "metadata": {
    "id": "zM9t0mVSRuJb"
   },
   "source": [
    "## 2. Breve exploración del dataset\n"
   ]
  },
  {
   "cell_type": "code",
   "execution_count": 5,
   "metadata": {
    "id": "d-kxV3eSRuJb",
    "outputId": "10b08b8a-90fb-4f4b-bab0-b4ae1c086102"
   },
   "outputs": [
    {
     "name": "stdout",
     "output_type": "stream",
     "text": [
      "boehner just wants wife to listen, not come up with alternative debt-reduction ideas\n"
     ]
    }
   ],
   "source": [
    "titular = dataset.iloc[3].headline\n",
    "print(titular)"
   ]
  },
  {
   "cell_type": "markdown",
   "metadata": {
    "id": "hd1gb3FyRuJb"
   },
   "source": [
    "¿Te parece que es sarcástico?"
   ]
  },
  {
   "cell_type": "code",
   "execution_count": 6,
   "metadata": {
    "id": "noC217KDRuJb",
    "outputId": "720c2ac2-ea2f-49fe-ee4f-29dc2e77cb13"
   },
   "outputs": [
    {
     "data": {
      "text/plain": [
       "1"
      ]
     },
     "execution_count": 6,
     "metadata": {},
     "output_type": "execute_result"
    }
   ],
   "source": [
    "dataset.iloc[3].is_sarcastic"
   ]
  },
  {
   "cell_type": "markdown",
   "metadata": {
    "id": "4C8hYbBlRuJb"
   },
   "source": [
    "## 3. NLTK\n",
    "\n",
    "### Tokenización\n",
    "\n",
    "1. `sent_tokenize`: Tokeniza un texto utilizando un unsupervised model y devuelve divido por frases"
   ]
  },
  {
   "cell_type": "code",
   "execution_count": 7,
   "metadata": {},
   "outputs": [
    {
     "data": {
      "text/plain": [
       "'boehner just wants wife to listen, not come up with alternative debt-reduction ideas'"
      ]
     },
     "execution_count": 7,
     "metadata": {},
     "output_type": "execute_result"
    }
   ],
   "source": [
    "titular"
   ]
  },
  {
   "cell_type": "code",
   "execution_count": 8,
   "metadata": {
    "id": "UdWvF8LBRuJc",
    "outputId": "42de75f5-2c29-4283-fd63-84189e05fb0a"
   },
   "outputs": [
    {
     "data": {
      "text/plain": [
       "['boehner just wants wife to listen, not come up with alternative debt-reduction ideas']"
      ]
     },
     "execution_count": 8,
     "metadata": {},
     "output_type": "execute_result"
    }
   ],
   "source": [
    "titular_st = nltk.tokenize.sent_tokenize(titular)\n",
    "titular_st"
   ]
  },
  {
   "cell_type": "code",
   "execution_count": 9,
   "metadata": {},
   "outputs": [
    {
     "data": {
      "text/plain": [
       "['hi, im Miquel.', 'Youre a student']"
      ]
     },
     "execution_count": 9,
     "metadata": {},
     "output_type": "execute_result"
    }
   ],
   "source": [
    "nltk.tokenize.sent_tokenize(\"hi, im Miquel. Youre a student\")"
   ]
  },
  {
   "cell_type": "markdown",
   "metadata": {
    "id": "G0GBvJx-RuJc"
   },
   "source": [
    "2. `word_tokenize`: Por palabras"
   ]
  },
  {
   "cell_type": "code",
   "execution_count": 10,
   "metadata": {
    "id": "TJjNH4mORuJc",
    "outputId": "5cdd83b1-6da2-4420-aa49-28e5b0337561"
   },
   "outputs": [
    {
     "data": {
      "text/plain": [
       "['boehner',\n",
       " 'just',\n",
       " 'wants',\n",
       " 'wife',\n",
       " 'to',\n",
       " 'listen',\n",
       " ',',\n",
       " 'not',\n",
       " 'come',\n",
       " 'up',\n",
       " 'with',\n",
       " 'alternative',\n",
       " 'debt-reduction',\n",
       " 'ideas']"
      ]
     },
     "execution_count": 10,
     "metadata": {},
     "output_type": "execute_result"
    }
   ],
   "source": [
    "titular_wt = nltk.tokenize.word_tokenize(titular)\n",
    "titular_wt"
   ]
  },
  {
   "cell_type": "code",
   "execution_count": 11,
   "metadata": {},
   "outputs": [
    {
     "data": {
      "text/plain": [
       "['boehner',\n",
       " 'just',\n",
       " 'wants',\n",
       " 'wife',\n",
       " 'to',\n",
       " 'listen',\n",
       " 'not',\n",
       " 'come',\n",
       " 'up',\n",
       " 'with',\n",
       " 'alternative',\n",
       " 'debt',\n",
       " 'reduction',\n",
       " 'ideas']"
      ]
     },
     "execution_count": 11,
     "metadata": {},
     "output_type": "execute_result"
    }
   ],
   "source": [
    "nltk.tokenize.RegexpTokenizer(\"[\\w]+\").tokenize(titular)"
   ]
  },
  {
   "cell_type": "markdown",
   "metadata": {
    "id": "xD1NqaytRuJc"
   },
   "source": [
    "### Normalización\n",
    "\n",
    "La normalización de texto implica varias tareas, algunas de las cuales son:\n",
    "\n",
    "**Conversión a minúsculas**: Para asegurarnos de que todas las palabras se comparan de manera uniforme, es común convertir todo el texto a minúsculas. De esta manera, «Texto» y «texto» se considerarán iguales. \n",
    "\n",
    "**Eliminación de caracteres especiales**: Los caracteres especiales, como signos de puntuación o caracteres no alfabéticos, a menudo se eliminan o reemplazan por espacios en blanco.\n",
    "\n",
    "**Eliminación de números**: En algunos casos, los números no son relevantes para el análisis de texto y se eliminan.\n",
    "\n",
    "**Tokenización**: La tokenización es el proceso de dividir el texto en palabras o tokens individuales. Esto permite analizar cada palabra por separado y es fundamental en el procesamiento de lenguaje natural.\n",
    "\n",
    "**Eliminación de palabras vacías**: Las palabras vacías, como «a», «de» y «en», a menudo se eliminan, ya que no aportan significado en muchos casos.\n",
    "\n"
   ]
  },
  {
   "cell_type": "markdown",
   "metadata": {},
   "source": [
    "0. El texto ya esta en minúsculas"
   ]
  },
  {
   "cell_type": "markdown",
   "metadata": {},
   "source": [
    "1. Stopwords\n",
    "\n",
    "Importar los `stopwords` del inglés e imprimirlos."
   ]
  },
  {
   "cell_type": "code",
   "execution_count": 12,
   "metadata": {
    "id": "46dweTV3RuJc",
    "outputId": "654f171f-f9c0-4332-8b3a-64c821e80ca5",
    "scrolled": true
   },
   "outputs": [
    {
     "data": {
      "text/plain": [
       "['i',\n",
       " 'me',\n",
       " 'my',\n",
       " 'myself',\n",
       " 'we',\n",
       " 'our',\n",
       " 'ours',\n",
       " 'ourselves',\n",
       " 'you',\n",
       " \"you're\",\n",
       " \"you've\",\n",
       " \"you'll\",\n",
       " \"you'd\",\n",
       " 'your',\n",
       " 'yours',\n",
       " 'yourself',\n",
       " 'yourselves',\n",
       " 'he',\n",
       " 'him',\n",
       " 'his',\n",
       " 'himself',\n",
       " 'she',\n",
       " \"she's\",\n",
       " 'her',\n",
       " 'hers',\n",
       " 'herself',\n",
       " 'it',\n",
       " \"it's\",\n",
       " 'its',\n",
       " 'itself',\n",
       " 'they',\n",
       " 'them',\n",
       " 'their',\n",
       " 'theirs',\n",
       " 'themselves',\n",
       " 'what',\n",
       " 'which',\n",
       " 'who',\n",
       " 'whom',\n",
       " 'this',\n",
       " 'that',\n",
       " \"that'll\",\n",
       " 'these',\n",
       " 'those',\n",
       " 'am',\n",
       " 'is',\n",
       " 'are',\n",
       " 'was',\n",
       " 'were',\n",
       " 'be',\n",
       " 'been',\n",
       " 'being',\n",
       " 'have',\n",
       " 'has',\n",
       " 'had',\n",
       " 'having',\n",
       " 'do',\n",
       " 'does',\n",
       " 'did',\n",
       " 'doing',\n",
       " 'a',\n",
       " 'an',\n",
       " 'the',\n",
       " 'and',\n",
       " 'but',\n",
       " 'if',\n",
       " 'or',\n",
       " 'because',\n",
       " 'as',\n",
       " 'until',\n",
       " 'while',\n",
       " 'of',\n",
       " 'at',\n",
       " 'by',\n",
       " 'for',\n",
       " 'with',\n",
       " 'about',\n",
       " 'against',\n",
       " 'between',\n",
       " 'into',\n",
       " 'through',\n",
       " 'during',\n",
       " 'before',\n",
       " 'after',\n",
       " 'above',\n",
       " 'below',\n",
       " 'to',\n",
       " 'from',\n",
       " 'up',\n",
       " 'down',\n",
       " 'in',\n",
       " 'out',\n",
       " 'on',\n",
       " 'off',\n",
       " 'over',\n",
       " 'under',\n",
       " 'again',\n",
       " 'further',\n",
       " 'then',\n",
       " 'once',\n",
       " 'here',\n",
       " 'there',\n",
       " 'when',\n",
       " 'where',\n",
       " 'why',\n",
       " 'how',\n",
       " 'all',\n",
       " 'any',\n",
       " 'both',\n",
       " 'each',\n",
       " 'few',\n",
       " 'more',\n",
       " 'most',\n",
       " 'other',\n",
       " 'some',\n",
       " 'such',\n",
       " 'no',\n",
       " 'nor',\n",
       " 'not',\n",
       " 'only',\n",
       " 'own',\n",
       " 'same',\n",
       " 'so',\n",
       " 'than',\n",
       " 'too',\n",
       " 'very',\n",
       " 's',\n",
       " 't',\n",
       " 'can',\n",
       " 'will',\n",
       " 'just',\n",
       " 'don',\n",
       " \"don't\",\n",
       " 'should',\n",
       " \"should've\",\n",
       " 'now',\n",
       " 'd',\n",
       " 'll',\n",
       " 'm',\n",
       " 'o',\n",
       " 're',\n",
       " 've',\n",
       " 'y',\n",
       " 'ain',\n",
       " 'aren',\n",
       " \"aren't\",\n",
       " 'couldn',\n",
       " \"couldn't\",\n",
       " 'didn',\n",
       " \"didn't\",\n",
       " 'doesn',\n",
       " \"doesn't\",\n",
       " 'hadn',\n",
       " \"hadn't\",\n",
       " 'hasn',\n",
       " \"hasn't\",\n",
       " 'haven',\n",
       " \"haven't\",\n",
       " 'isn',\n",
       " \"isn't\",\n",
       " 'ma',\n",
       " 'mightn',\n",
       " \"mightn't\",\n",
       " 'mustn',\n",
       " \"mustn't\",\n",
       " 'needn',\n",
       " \"needn't\",\n",
       " 'shan',\n",
       " \"shan't\",\n",
       " 'shouldn',\n",
       " \"shouldn't\",\n",
       " 'wasn',\n",
       " \"wasn't\",\n",
       " 'weren',\n",
       " \"weren't\",\n",
       " 'won',\n",
       " \"won't\",\n",
       " 'wouldn',\n",
       " \"wouldn't\"]"
      ]
     },
     "execution_count": 12,
     "metadata": {},
     "output_type": "execute_result"
    }
   ],
   "source": [
    "stopwords = nltk.corpus.stopwords.words('english')\n",
    "stopwords"
   ]
  },
  {
   "cell_type": "code",
   "execution_count": 13,
   "metadata": {},
   "outputs": [
    {
     "data": {
      "text/plain": [
       "['boehner',\n",
       " 'just',\n",
       " 'wants',\n",
       " 'wife',\n",
       " 'to',\n",
       " 'listen',\n",
       " ',',\n",
       " 'not',\n",
       " 'come',\n",
       " 'up',\n",
       " 'with',\n",
       " 'alternative',\n",
       " 'debt-reduction',\n",
       " 'ideas']"
      ]
     },
     "execution_count": 13,
     "metadata": {},
     "output_type": "execute_result"
    }
   ],
   "source": [
    "titular_wt"
   ]
  },
  {
   "cell_type": "markdown",
   "metadata": {
    "id": "kNm1UXunRuJc"
   },
   "source": [
    "Eliminar del titular elegido los stopwords."
   ]
  },
  {
   "cell_type": "code",
   "execution_count": 14,
   "metadata": {
    "id": "NAGDSD4rRuJd",
    "outputId": "9b6e92ec-37ca-4dc2-c9ad-00a770f48fa2"
   },
   "outputs": [
    {
     "data": {
      "text/plain": [
       "['boehner',\n",
       " 'wants',\n",
       " 'wife',\n",
       " 'listen',\n",
       " ',',\n",
       " 'come',\n",
       " 'alternative',\n",
       " 'debt-reduction',\n",
       " 'ideas']"
      ]
     },
     "execution_count": 14,
     "metadata": {},
     "output_type": "execute_result"
    }
   ],
   "source": [
    "titular_wt_sin_sw = [word for word in titular_wt if word not in stopwords]\n",
    "titular_wt_sin_sw"
   ]
  },
  {
   "cell_type": "markdown",
   "metadata": {
    "id": "BhfGDVIqRuJd"
   },
   "source": [
    "### Frecuencia de palabras\n",
    "\n",
    "Dado el titular ya tokenizado por palabras y sin stopwords, usar `nltk` para extrar la frecuencia con que aparece cada palabras. "
   ]
  },
  {
   "cell_type": "code",
   "execution_count": 15,
   "metadata": {
    "id": "aF2hsMNWRuJd",
    "outputId": "8c9fe034-c156-42a8-da7c-e1e1b4f889e5"
   },
   "outputs": [
    {
     "data": {
      "text/plain": [
       "FreqDist({'boehner': 1, 'wants': 1, 'wife': 1, 'listen': 1, ',': 1, 'come': 1, 'alternative': 1, 'debt-reduction': 1, 'ideas': 1})"
      ]
     },
     "execution_count": 15,
     "metadata": {},
     "output_type": "execute_result"
    }
   ],
   "source": [
    "freq = nltk.FreqDist(titular_wt_sin_sw)\n",
    "freq"
   ]
  },
  {
   "cell_type": "code",
   "execution_count": 16,
   "metadata": {},
   "outputs": [
    {
     "data": {
      "image/png": "[encoded data removed]",
      "text/plain": [
       "<Figure size 640x480 with 1 Axes>"
      ]
     },
     "metadata": {},
     "output_type": "display_data"
    },
    {
     "data": {
      "text/plain": [
       "<Axes: xlabel='Samples', ylabel='Counts'>"
      ]
     },
     "execution_count": 16,
     "metadata": {},
     "output_type": "execute_result"
    }
   ],
   "source": [
    "freq.plot() "
   ]
  },
  {
   "cell_type": "markdown",
   "metadata": {
    "id": "rjg0sXySRuJd"
   },
   "source": [
    "### Dataset Completo\n",
    "\n",
    "Antes de pasar a extraer features de cada instancia del Dataset, podemos hacer un pequeño análisis del **dataset en su conjunto**. Por ejemplo, una opción es agrupar todos los titulares por tipo y extraer de cada clase las palabras más frecuentes. Para ello:\n",
    "\n",
    "1. Agrupar los titulares por tipo. Crear un dataframe para cada uno. Recuerden usar máscaras.\n",
    "2. Crear una lista vacia y agregar en esa lista todos los titulares (por tipo/dataframe creado) ya tokenizados (usar el `RegexpTokenizer`) y filtrado por `stopwords`.\n",
    "3. Usar el `FreqDist` en esa lista que acaban de llenar. Llevar lo que devuelve `FreqDist` a un Dataframe. Ordenar por frecuencia en que aparece cada palabra.\n",
    "4. Hacer un `barplot` o similar para visualizar.\n",
    "#### No-Sarcasmo"
   ]
  },
  {
   "cell_type": "code",
   "execution_count": 17,
   "metadata": {
    "id": "mWKQoq2zRuJe",
    "outputId": "f732e5c2-db97-41be-fd77-7b13951adee0"
   },
   "outputs": [
    {
     "data": {
      "text/html": [
       "<div>\n",
       "<style scoped>\n",
       "    .dataframe tbody tr th:only-of-type {\n",
       "        vertical-align: middle;\n",
       "    }\n",
       "\n",
       "    .dataframe tbody tr th {\n",
       "        vertical-align: top;\n",
       "    }\n",
       "\n",
       "    .dataframe thead th {\n",
       "        text-align: right;\n",
       "    }\n",
       "</style>\n",
       "<table border=\"1\" class=\"dataframe\">\n",
       "  <thead>\n",
       "    <tr style=\"text-align: right;\">\n",
       "      <th></th>\n",
       "      <th>article_link</th>\n",
       "      <th>headline</th>\n",
       "      <th>is_sarcastic</th>\n",
       "    </tr>\n",
       "  </thead>\n",
       "  <tbody>\n",
       "    <tr>\n",
       "      <th>0</th>\n",
       "      <td>https://www.huffingtonpost.com/entry/versace-b...</td>\n",
       "      <td>former versace store clerk sues over secret 'b...</td>\n",
       "      <td>0</td>\n",
       "    </tr>\n",
       "    <tr>\n",
       "      <th>1</th>\n",
       "      <td>https://www.huffingtonpost.com/entry/roseanne-...</td>\n",
       "      <td>the 'roseanne' revival catches up to our thorn...</td>\n",
       "      <td>0</td>\n",
       "    </tr>\n",
       "    <tr>\n",
       "      <th>4</th>\n",
       "      <td>https://www.huffingtonpost.com/entry/jk-rowlin...</td>\n",
       "      <td>j.k. rowling wishes snape happy birthday in th...</td>\n",
       "      <td>0</td>\n",
       "    </tr>\n",
       "    <tr>\n",
       "      <th>5</th>\n",
       "      <td>https://www.huffingtonpost.com/entry/advancing...</td>\n",
       "      <td>advancing the world's women</td>\n",
       "      <td>0</td>\n",
       "    </tr>\n",
       "    <tr>\n",
       "      <th>6</th>\n",
       "      <td>https://www.huffingtonpost.com/entry/how-meat-...</td>\n",
       "      <td>the fascinating case for eating lab-grown meat</td>\n",
       "      <td>0</td>\n",
       "    </tr>\n",
       "  </tbody>\n",
       "</table>\n",
       "</div>"
      ],
      "text/plain": [
       "                                        article_link  \\\n",
       "0  https://www.huffingtonpost.com/entry/versace-b...   \n",
       "1  https://www.huffingtonpost.com/entry/roseanne-...   \n",
       "4  https://www.huffingtonpost.com/entry/jk-rowlin...   \n",
       "5  https://www.huffingtonpost.com/entry/advancing...   \n",
       "6  https://www.huffingtonpost.com/entry/how-meat-...   \n",
       "\n",
       "                                            headline  is_sarcastic  \n",
       "0  former versace store clerk sues over secret 'b...             0  \n",
       "1  the 'roseanne' revival catches up to our thorn...             0  \n",
       "4  j.k. rowling wishes snape happy birthday in th...             0  \n",
       "5                        advancing the world's women             0  \n",
       "6     the fascinating case for eating lab-grown meat             0  "
      ]
     },
     "execution_count": 17,
     "metadata": {},
     "output_type": "execute_result"
    }
   ],
   "source": [
    "dataset_no_sarcasmo = dataset[dataset.is_sarcastic==0]\n",
    "dataset_no_sarcasmo.head()"
   ]
  },
  {
   "cell_type": "code",
   "execution_count": 18,
   "metadata": {},
   "outputs": [],
   "source": [
    "def normaliza(titular):\n",
    "    titular = nltk.tokenize.RegexpTokenizer(\"[\\w]+\").tokenize(titular)\n",
    "    # ahora titular es una lista\n",
    "    titular = [word for word in titular if word not in stopwords]\n",
    "    return titular"
   ]
  },
  {
   "cell_type": "code",
   "execution_count": 19,
   "metadata": {},
   "outputs": [
    {
     "data": {
      "text/plain": [
       "['Hi', 'Miquel']"
      ]
     },
     "execution_count": 19,
     "metadata": {},
     "output_type": "execute_result"
    }
   ],
   "source": [
    "normaliza(\"Hi, i'm Miquel\")"
   ]
  },
  {
   "cell_type": "code",
   "execution_count": 20,
   "metadata": {},
   "outputs": [
    {
     "data": {
      "text/plain": [
       "0        [former, versace, store, clerk, sues, secret, ...\n",
       "1        [roseanne, revival, catches, thorny, political...\n",
       "4        [j, k, rowling, wishes, snape, happy, birthday...\n",
       "5                                [advancing, world, women]\n",
       "6            [fascinating, case, eating, lab, grown, meat]\n",
       "                               ...                        \n",
       "26704              [american, politics, moral, free, fall]\n",
       "26705                           [america, best, 20, hikes]\n",
       "26706                                 [reparations, obama]\n",
       "26707    [israeli, ban, targeting, boycott, supporters,...\n",
       "26708                       [gourmet, gifts, foodie, 2014]\n",
       "Name: headline, Length: 14985, dtype: object"
      ]
     },
     "execution_count": 20,
     "metadata": {},
     "output_type": "execute_result"
    }
   ],
   "source": [
    "dataset_no_sarcasmo.headline.apply(normaliza)"
   ]
  },
  {
   "cell_type": "code",
   "execution_count": 21,
   "metadata": {},
   "outputs": [],
   "source": [
    "todos_titulares_no_sarcasmo = dataset_no_sarcasmo.headline.apply(normaliza)"
   ]
  },
  {
   "cell_type": "markdown",
   "metadata": {},
   "source": [
    "### Vamos a poner todas las palabras juntas para ver su frecuencia"
   ]
  },
  {
   "cell_type": "code",
   "execution_count": 22,
   "metadata": {},
   "outputs": [],
   "source": [
    "L=[[1,2],\n",
    "   [3,4]]"
   ]
  },
  {
   "cell_type": "code",
   "execution_count": 23,
   "metadata": {},
   "outputs": [
    {
     "data": {
      "text/plain": [
       "[1, 2, 3, 4]"
      ]
     },
     "execution_count": 23,
     "metadata": {},
     "output_type": "execute_result"
    }
   ],
   "source": [
    "[y for x in L for y in x]"
   ]
  },
  {
   "cell_type": "code",
   "execution_count": 24,
   "metadata": {},
   "outputs": [
    {
     "data": {
      "text/plain": [
       "[1, 2, 3, 4]"
      ]
     },
     "execution_count": 24,
     "metadata": {},
     "output_type": "execute_result"
    }
   ],
   "source": [
    "total_numeros=[]\n",
    "for lista in L:\n",
    "    for numero in lista:\n",
    "        total_numeros.append(numero)\n",
    "total_numeros"
   ]
  },
  {
   "cell_type": "code",
   "execution_count": 25,
   "metadata": {},
   "outputs": [
    {
     "data": {
      "text/plain": [
       "['former',\n",
       " 'versace',\n",
       " 'store',\n",
       " 'clerk',\n",
       " 'sues',\n",
       " 'secret',\n",
       " 'black',\n",
       " 'code',\n",
       " 'minority',\n",
       " 'shoppers',\n",
       " 'roseanne',\n",
       " 'revival',\n",
       " 'catches',\n",
       " 'thorny',\n",
       " 'political',\n",
       " 'mood',\n",
       " 'better',\n",
       " 'worse',\n",
       " 'j',\n",
       " 'k',\n",
       " 'rowling',\n",
       " 'wishes',\n",
       " 'snape',\n",
       " 'happy',\n",
       " 'birthday',\n",
       " 'magical',\n",
       " 'way',\n",
       " 'advancing',\n",
       " 'world',\n",
       " 'women',\n",
       " 'fascinating',\n",
       " 'case',\n",
       " 'eating',\n",
       " 'lab',\n",
       " 'grown',\n",
       " 'meat',\n",
       " 'ceo',\n",
       " 'send',\n",
       " 'kids',\n",
       " 'school',\n",
       " 'work',\n",
       " 'company',\n",
       " 'friday',\n",
       " 'morning',\n",
       " 'email',\n",
       " 'inside',\n",
       " 'trump',\n",
       " 'presser',\n",
       " 'ages',\n",
       " 'airline',\n",
       " 'passengers',\n",
       " 'tackle',\n",
       " 'man',\n",
       " 'rushes',\n",
       " 'cockpit',\n",
       " 'bomb',\n",
       " 'threat',\n",
       " 'facebook',\n",
       " 'reportedly',\n",
       " 'working',\n",
       " 'healthcare',\n",
       " 'features',\n",
       " 'apps',\n",
       " 'north',\n",
       " 'korea',\n",
       " 'praises',\n",
       " 'trump',\n",
       " 'urges',\n",
       " 'us',\n",
       " 'voters',\n",
       " 'reject',\n",
       " 'dull',\n",
       " 'hillary',\n",
       " 'actually',\n",
       " 'cnn',\n",
       " 'jeffrey',\n",
       " 'lord',\n",
       " 'indefensible',\n",
       " 'barcelona',\n",
       " 'holds',\n",
       " 'huge',\n",
       " 'protest',\n",
       " 'support',\n",
       " 'refugees',\n",
       " 'bloomberg',\n",
       " 'program',\n",
       " 'build',\n",
       " 'better',\n",
       " 'cities',\n",
       " 'got',\n",
       " 'bigger',\n",
       " 'craig',\n",
       " 'hicks',\n",
       " 'indicted',\n",
       " 'qatar',\n",
       " 'deporting',\n",
       " 'dutch',\n",
       " 'woman',\n",
       " 'reported',\n",
       " 'drugged',\n",
       " 'raped',\n",
       " 'go',\n",
       " 'circus',\n",
       " 'ted',\n",
       " 'cruz',\n",
       " 'hits',\n",
       " 'panic',\n",
       " 'button',\n",
       " 'could',\n",
       " 'lose',\n",
       " 'houses',\n",
       " 'congress',\n",
       " 'writers',\n",
       " 'must',\n",
       " 'plan',\n",
       " 'surprised',\n",
       " 'obama',\n",
       " 'visits',\n",
       " 'arlington',\n",
       " 'national',\n",
       " 'cemetery',\n",
       " 'honor',\n",
       " 'veterans',\n",
       " 'remembrance',\n",
       " 'beginning',\n",
       " 'task',\n",
       " 'allies',\n",
       " 'islamist',\n",
       " 'motive',\n",
       " 'killing',\n",
       " 'nemtsov',\n",
       " 'nonsense',\n",
       " 'gillian',\n",
       " 'jacobs',\n",
       " 'like',\n",
       " 'kiss',\n",
       " 'adam',\n",
       " 'brody',\n",
       " 'uber',\n",
       " 'vows',\n",
       " 'repay',\n",
       " 'nyc',\n",
       " 'drivers',\n",
       " 'tens',\n",
       " 'millions',\n",
       " 'tax',\n",
       " 'snafu',\n",
       " 'apple',\n",
       " 'may',\n",
       " 'poached',\n",
       " 'electric',\n",
       " 'motorcycle',\n",
       " 'company',\n",
       " 'death',\n",
       " 'drug',\n",
       " 'resistant',\n",
       " 'bacteria',\n",
       " 'often',\n",
       " 'lurk',\n",
       " 'children',\n",
       " 'dogs',\n",
       " 'sandboxes',\n",
       " 'see',\n",
       " 'muslim',\n",
       " 'airport',\n",
       " 'moana',\n",
       " 'sails',\n",
       " 'straight',\n",
       " 'top',\n",
       " 'box',\n",
       " 'office',\n",
       " 'massive',\n",
       " '81',\n",
       " '1',\n",
       " 'million',\n",
       " 'opening',\n",
       " 'selig',\n",
       " 'counted',\n",
       " 'money',\n",
       " 'baseball',\n",
       " 'lost',\n",
       " 'next',\n",
       " 'generation',\n",
       " 'fans',\n",
       " 'devin',\n",
       " 'nunes',\n",
       " 'vows',\n",
       " 'never',\n",
       " 'reveal',\n",
       " 'source',\n",
       " 'surveillance',\n",
       " 'claims',\n",
       " 'scott',\n",
       " 'used',\n",
       " 'stop',\n",
       " 'breathing',\n",
       " 'nearly',\n",
       " '40',\n",
       " 'times',\n",
       " 'hour',\n",
       " 'device',\n",
       " 'changed',\n",
       " 'life',\n",
       " 'medics',\n",
       " 'drop',\n",
       " 'soccer',\n",
       " 'player',\n",
       " 'stretcher',\n",
       " 'ticked',\n",
       " 'give',\n",
       " 'gift',\n",
       " 'play',\n",
       " 'holiday',\n",
       " 'season',\n",
       " 'spicer',\n",
       " 'denies',\n",
       " 'ending',\n",
       " 'maternity',\n",
       " 'care',\n",
       " 'guarantee',\n",
       " 'would',\n",
       " 'mean',\n",
       " 'women',\n",
       " 'pay',\n",
       " 'health',\n",
       " 'care',\n",
       " 'diy',\n",
       " 'sports',\n",
       " 'equipment',\n",
       " 'closet',\n",
       " '1',\n",
       " 'dead',\n",
       " '3',\n",
       " 'injured',\n",
       " 'shooting',\n",
       " 'concert',\n",
       " 'nyc',\n",
       " 'donald',\n",
       " 'trump',\n",
       " 'heading',\n",
       " 'series',\n",
       " 'wins',\n",
       " 'northeast',\n",
       " 'polls',\n",
       " 'say',\n",
       " 'donald',\n",
       " 'trump',\n",
       " 'ready',\n",
       " 'cash',\n",
       " 'self',\n",
       " 'finance',\n",
       " 'entire',\n",
       " 'campaign',\n",
       " 'analysis',\n",
       " 'un',\n",
       " 'rights',\n",
       " 'chief',\n",
       " 'calls',\n",
       " 'humanitarian',\n",
       " 'situation',\n",
       " 'syria',\n",
       " 'outrage',\n",
       " 'track',\n",
       " 'santa',\n",
       " 'claus',\n",
       " 'flight',\n",
       " 'around',\n",
       " 'world',\n",
       " 'christmas',\n",
       " 'eve',\n",
       " 'one',\n",
       " 'planet',\n",
       " 'powerful',\n",
       " 'forces',\n",
       " 'change',\n",
       " 'adolescent',\n",
       " 'girl',\n",
       " 'draymond',\n",
       " 'green',\n",
       " 'take',\n",
       " 'game',\n",
       " 'next',\n",
       " 'level',\n",
       " 'tuning',\n",
       " 'wnba',\n",
       " 'ryan',\n",
       " 'lochte',\n",
       " 'apologizes',\n",
       " 'behavior',\n",
       " 'rio',\n",
       " '4',\n",
       " 'lessons',\n",
       " 'prison',\n",
       " 'taught',\n",
       " 'power',\n",
       " 'control',\n",
       " 'america',\n",
       " 'first',\n",
       " 'muslim',\n",
       " 'fraternity',\n",
       " 'really',\n",
       " 'like',\n",
       " 'vicious',\n",
       " 'knot',\n",
       " 'syria',\n",
       " 'untangling',\n",
       " 'process',\n",
       " 'contains',\n",
       " 'solutions',\n",
       " 'time',\n",
       " 'congressman',\n",
       " 'thinks',\n",
       " 'fix',\n",
       " 'economy',\n",
       " 'drinking',\n",
       " 'beer',\n",
       " 'trump',\n",
       " 'orders',\n",
       " 'strikes',\n",
       " 'syria',\n",
       " 'retaliation',\n",
       " 'chemical',\n",
       " 'attack',\n",
       " 'year',\n",
       " 'round',\n",
       " 'schooling',\n",
       " 'would',\n",
       " 'help',\n",
       " 'minority',\n",
       " 'students',\n",
       " '90',\n",
       " 'zen',\n",
       " 'teachers',\n",
       " 'pledge',\n",
       " 'change',\n",
       " 'culture',\n",
       " 'fosters',\n",
       " 'abuse',\n",
       " 'nypd',\n",
       " 'weighs',\n",
       " 'allowing',\n",
       " 'chokeholds',\n",
       " 'following',\n",
       " 'eric',\n",
       " 'garner',\n",
       " 'death',\n",
       " 'pope',\n",
       " 'francis',\n",
       " 'reminds',\n",
       " 'world',\n",
       " 'caring',\n",
       " 'earth',\n",
       " 'everyone',\n",
       " 'responsibility',\n",
       " 'gravity',\n",
       " '12',\n",
       " 'years',\n",
       " 'slave',\n",
       " 'tie',\n",
       " '2014',\n",
       " 'pga',\n",
       " 'awards',\n",
       " 'national',\n",
       " 'coming',\n",
       " 'day',\n",
       " '150',\n",
       " 'lgbtq',\n",
       " 'sports',\n",
       " 'people',\n",
       " 'come',\n",
       " 'last',\n",
       " 'year',\n",
       " 'john',\n",
       " 'oliver',\n",
       " 'lays',\n",
       " 'disturbing',\n",
       " 'ways',\n",
       " 'trump',\n",
       " 'impacts',\n",
       " 'america',\n",
       " 'house',\n",
       " 'gop',\n",
       " 'crackdown',\n",
       " 'continues',\n",
       " 'look',\n",
       " 'world',\n",
       " 'cup',\n",
       " 'star',\n",
       " 'attacked',\n",
       " 'giant',\n",
       " 'bug',\n",
       " 'inhofe',\n",
       " 'grand',\n",
       " 'climate',\n",
       " 'conspiracy',\n",
       " 'theory',\n",
       " 'barbra',\n",
       " 'streisand',\n",
       " '5',\n",
       " 'questions',\n",
       " 'wish',\n",
       " 'younger',\n",
       " 'people',\n",
       " 'would',\n",
       " 'stop',\n",
       " 'asking',\n",
       " 'albuquerque',\n",
       " 'shooter',\n",
       " 'loose',\n",
       " 'gunman',\n",
       " 'leaves',\n",
       " '1',\n",
       " 'dead',\n",
       " '3',\n",
       " 'injured',\n",
       " 'like',\n",
       " 'lose',\n",
       " 'everything',\n",
       " 'flood',\n",
       " 'demi',\n",
       " 'lovato',\n",
       " 'drops',\n",
       " 'emotional',\n",
       " 'nightingale',\n",
       " 'music',\n",
       " 'vid',\n",
       " 'miley',\n",
       " 'cyrus',\n",
       " 'liam',\n",
       " 'hemsworth',\n",
       " 'smooch',\n",
       " 'nye',\n",
       " 'world',\n",
       " 'notices',\n",
       " 'parks',\n",
       " 'rec',\n",
       " 'star',\n",
       " 'natalie',\n",
       " 'morales',\n",
       " 'comes',\n",
       " 'queer',\n",
       " 'top',\n",
       " 'italy',\n",
       " 'tours',\n",
       " '2015',\n",
       " 'kaia',\n",
       " 'gerber',\n",
       " 'cindy',\n",
       " 'crawford',\n",
       " 'daughter',\n",
       " 'lands',\n",
       " 'major',\n",
       " 'fashion',\n",
       " 'campaign',\n",
       " 'james',\n",
       " 'corden',\n",
       " 'roasts',\n",
       " 'david',\n",
       " 'beckham',\n",
       " 'matching',\n",
       " 'outfits',\n",
       " 'posh',\n",
       " 'mcdonald',\n",
       " 'says',\n",
       " 'packaging',\n",
       " '100',\n",
       " 'percent',\n",
       " 'green',\n",
       " '2025',\n",
       " 'kris',\n",
       " 'jenner',\n",
       " 'turned',\n",
       " 'way',\n",
       " 'drunken',\n",
       " 'valentine',\n",
       " 'day',\n",
       " 'karaoke',\n",
       " 'texas',\n",
       " 'ebola',\n",
       " 'patient',\n",
       " 'fighting',\n",
       " 'life',\n",
       " 'scott',\n",
       " 'pruitt',\n",
       " 'sort',\n",
       " 'answers',\n",
       " 'whether',\n",
       " 'trump',\n",
       " 'believes',\n",
       " 'climate',\n",
       " 'change',\n",
       " 'accused',\n",
       " 'father',\n",
       " 'son',\n",
       " 'urinal',\n",
       " 'thieves',\n",
       " 'flushed',\n",
       " 'cops',\n",
       " '3',\n",
       " 'libertarians',\n",
       " 'fuel',\n",
       " '7',\n",
       " 'million',\n",
       " 'super',\n",
       " 'pac',\n",
       " 'philadelphia',\n",
       " 'mayoral',\n",
       " 'democratic',\n",
       " 'primary',\n",
       " 'air',\n",
       " 'force',\n",
       " 'longer',\n",
       " 'require',\n",
       " 'help',\n",
       " 'god',\n",
       " 'enlistment',\n",
       " 'oaths',\n",
       " 'explosion',\n",
       " 'fells',\n",
       " 'building',\n",
       " 'outside',\n",
       " 'paris',\n",
       " 'killing',\n",
       " 'least',\n",
       " '2',\n",
       " 'source',\n",
       " 'donald',\n",
       " 'trump',\n",
       " 'military',\n",
       " 'expertise',\n",
       " 'finally',\n",
       " 'revealed',\n",
       " 'union',\n",
       " 'claims',\n",
       " 'sanders',\n",
       " 'campaign',\n",
       " 'staffers',\n",
       " 'posed',\n",
       " 'members',\n",
       " 'influence',\n",
       " 'workers',\n",
       " 'seattle',\n",
       " 'mayor',\n",
       " 'accuser',\n",
       " 'sex',\n",
       " 'abuse',\n",
       " 'lawsuit',\n",
       " 'comes',\n",
       " 'forward',\n",
       " 'swedish',\n",
       " 'police',\n",
       " 'featured',\n",
       " 'film',\n",
       " 'shown',\n",
       " 'fox',\n",
       " 'news',\n",
       " 'say',\n",
       " 'selectively',\n",
       " 'edited',\n",
       " 'chromat',\n",
       " 'features',\n",
       " '1',\n",
       " '2',\n",
       " 'plus',\n",
       " 'size',\n",
       " 'models',\n",
       " 'runway',\n",
       " 'councilman',\n",
       " 'calls',\n",
       " 'baltimore',\n",
       " 'rappers',\n",
       " 'inspire',\n",
       " 'students',\n",
       " '10',\n",
       " 'qualities',\n",
       " 'inner',\n",
       " 'spirit',\n",
       " 'parenting',\n",
       " 'advice',\n",
       " 'dare',\n",
       " 'give',\n",
       " 'celebrities',\n",
       " 'celebrate',\n",
       " 'fourth',\n",
       " 'july',\n",
       " 'fun',\n",
       " 'sun',\n",
       " 'international',\n",
       " 'women',\n",
       " 'day',\n",
       " 'western',\n",
       " 'women',\n",
       " 'save',\n",
       " 'world',\n",
       " 'michelle',\n",
       " 'phan',\n",
       " 'youtube',\n",
       " 'beauty',\n",
       " 'bestie',\n",
       " 'empowers',\n",
       " 'women',\n",
       " 'outside',\n",
       " 'caitlyn',\n",
       " 'jenner',\n",
       " 'responds',\n",
       " 'ricky',\n",
       " 'gervais',\n",
       " 'golden',\n",
       " 'globes',\n",
       " 'jokes',\n",
       " 'joy',\n",
       " 'behar',\n",
       " 'responds',\n",
       " 'michael',\n",
       " 'flynn',\n",
       " 'guilty',\n",
       " 'plea',\n",
       " 'pure',\n",
       " 'joy',\n",
       " '6',\n",
       " 'things',\n",
       " 'one',\n",
       " 'tells',\n",
       " 'women',\n",
       " 'weight',\n",
       " 'loss',\n",
       " 'journey',\n",
       " 'ne',\n",
       " 'yo',\n",
       " 'helps',\n",
       " 'raise',\n",
       " '2',\n",
       " '3',\n",
       " 'million',\n",
       " 'california',\n",
       " 'engineering',\n",
       " 'school',\n",
       " 'elizabeth',\n",
       " 'warren',\n",
       " 'calls',\n",
       " 'donald',\n",
       " 'trump',\n",
       " 'racist',\n",
       " 'bully',\n",
       " 'six',\n",
       " 'dead',\n",
       " '10',\n",
       " 'hurt',\n",
       " 'baltimore',\n",
       " 'commuter',\n",
       " 'school',\n",
       " 'bus',\n",
       " 'crash',\n",
       " 'kim',\n",
       " 'gordon',\n",
       " 'clarifies',\n",
       " 'comments',\n",
       " 'lana',\n",
       " 'del',\n",
       " 'rey',\n",
       " 'feminism',\n",
       " 'niece',\n",
       " 'cancer',\n",
       " 'ticked',\n",
       " 'supermodel',\n",
       " 'stephanie',\n",
       " 'seymour',\n",
       " 'arrested',\n",
       " 'charged',\n",
       " 'drunken',\n",
       " 'driving',\n",
       " 'scoliosis',\n",
       " 'need',\n",
       " 'know',\n",
       " 'controversy',\n",
       " 'erupts',\n",
       " 'uk',\n",
       " 'retailer',\n",
       " 'removes',\n",
       " 'gender',\n",
       " 'labels',\n",
       " 'kids',\n",
       " 'clothes',\n",
       " 'megyn',\n",
       " 'kelly',\n",
       " 'donald',\n",
       " 'trump',\n",
       " 'done',\n",
       " 'level',\n",
       " 'best',\n",
       " 'make',\n",
       " 'story',\n",
       " 'secret',\n",
       " 'behind',\n",
       " 'one',\n",
       " 'day',\n",
       " 'project',\n",
       " 'going',\n",
       " 'viral',\n",
       " 'creating',\n",
       " 'leverage',\n",
       " 'none',\n",
       " 'seems',\n",
       " 'exist',\n",
       " 'lawsuit',\n",
       " 'black',\n",
       " 'lives',\n",
       " 'matter',\n",
       " 'central',\n",
       " 'meaning',\n",
       " 'first',\n",
       " 'amendment',\n",
       " 'wire',\n",
       " 'cast',\n",
       " 'reunited',\n",
       " 'baltimore',\n",
       " 'uplift',\n",
       " 'community',\n",
       " 'obama',\n",
       " 'supreme',\n",
       " 'court',\n",
       " 'nominee',\n",
       " 'bragged',\n",
       " 'sending',\n",
       " 'man',\n",
       " 'prison',\n",
       " 'free',\n",
       " 'death',\n",
       " 'c',\n",
       " 'man',\n",
       " 'security',\n",
       " 'guard',\n",
       " 'custody',\n",
       " 'ruled',\n",
       " 'homicide',\n",
       " 'boehner',\n",
       " 'vows',\n",
       " 'leave',\n",
       " 'successor',\n",
       " 'clean',\n",
       " 'slate',\n",
       " 'facing',\n",
       " 'rising',\n",
       " 'seas',\n",
       " 'remote',\n",
       " 'alaskan',\n",
       " 'village',\n",
       " 'votes',\n",
       " 'move',\n",
       " 'worst',\n",
       " 'place',\n",
       " 'world',\n",
       " 'child',\n",
       " 'mom',\n",
       " 'sentenced',\n",
       " 'encouraging',\n",
       " 'boyfriend',\n",
       " 'sex',\n",
       " 'assault',\n",
       " 'baby',\n",
       " 'donald',\n",
       " 'trump',\n",
       " 'assault',\n",
       " 'values',\n",
       " 'women',\n",
       " 'march',\n",
       " 'inspired',\n",
       " 'run',\n",
       " 'unseating',\n",
       " 'gop',\n",
       " 'men',\n",
       " 'worth',\n",
       " 'america',\n",
       " 'gop',\n",
       " 'senators',\n",
       " 'ready',\n",
       " 'accept',\n",
       " 'trump',\n",
       " 'champion',\n",
       " 'price',\n",
       " 'gouging',\n",
       " 'pharma',\n",
       " 'ceo',\n",
       " 'takes',\n",
       " 'cancer',\n",
       " 'company',\n",
       " 'straight',\n",
       " 'outta',\n",
       " 'compton',\n",
       " 'stunning',\n",
       " 'surprise',\n",
       " 'carly',\n",
       " 'rae',\n",
       " 'jepsen',\n",
       " 'released',\n",
       " 'new',\n",
       " 'single',\n",
       " 'gunman',\n",
       " 'kills',\n",
       " 'one',\n",
       " 'wounds',\n",
       " 'four',\n",
       " 'shooting',\n",
       " 'german',\n",
       " 'nightclub',\n",
       " 'mountain',\n",
       " 'lion',\n",
       " 'tracked',\n",
       " 'scientists',\n",
       " 'found',\n",
       " 'dead',\n",
       " 'near',\n",
       " 'malibu',\n",
       " 'road',\n",
       " 'noah',\n",
       " 'cyrus',\n",
       " 'makes',\n",
       " 'late',\n",
       " 'night',\n",
       " 'debut',\n",
       " 'belting',\n",
       " 'make',\n",
       " 'cry',\n",
       " 'taylor',\n",
       " 'swift',\n",
       " 'used',\n",
       " 'gremlin',\n",
       " 'voice',\n",
       " 'writing',\n",
       " '1989',\n",
       " 'best',\n",
       " 'way',\n",
       " 'eat',\n",
       " 'avocados',\n",
       " 'avocado',\n",
       " 'pasta',\n",
       " 'open',\n",
       " 'letter',\n",
       " 'progressives',\n",
       " 'tpp',\n",
       " 'yet',\n",
       " 'progressive',\n",
       " 'trade',\n",
       " 'agreement',\n",
       " 'history',\n",
       " 'justice',\n",
       " 'thomas',\n",
       " 'wife',\n",
       " 'calls',\n",
       " 'supreme',\n",
       " 'court',\n",
       " 'retirement',\n",
       " 'report',\n",
       " 'bogus',\n",
       " '7',\n",
       " 'ways',\n",
       " 'breakup',\n",
       " 'like',\n",
       " 'boss',\n",
       " 'sure',\n",
       " 'seems',\n",
       " 'like',\n",
       " 'frankie',\n",
       " 'muniz',\n",
       " 'wants',\n",
       " 'malcolm',\n",
       " 'middle',\n",
       " 'reboot',\n",
       " 'using',\n",
       " 'united',\n",
       " 'fiasco',\n",
       " 'flourish',\n",
       " 'future',\n",
       " 'thank',\n",
       " 'teacher',\n",
       " 'thursday',\n",
       " 'dominic',\n",
       " 'casulli',\n",
       " 'power',\n",
       " 'encouragement',\n",
       " 'part',\n",
       " '1',\n",
       " 'toe',\n",
       " 'arctic',\n",
       " 'ocean',\n",
       " 'canada',\n",
       " 'northwest',\n",
       " 'territories',\n",
       " 'looney',\n",
       " 'front',\n",
       " 'part',\n",
       " '2',\n",
       " 'never',\n",
       " 'happen',\n",
       " 'rubio',\n",
       " 'supporters',\n",
       " 'get',\n",
       " 'scuffle',\n",
       " 'rubiobot',\n",
       " 'music',\n",
       " 'strangers',\n",
       " 'film',\n",
       " 'review',\n",
       " 'dr',\n",
       " 'lloyd',\n",
       " 'sederer',\n",
       " 'obama',\n",
       " 'chides',\n",
       " 'darrell',\n",
       " 'issa',\n",
       " 'touting',\n",
       " 'alliance',\n",
       " 'election',\n",
       " 'fight',\n",
       " 'pope',\n",
       " 'francis',\n",
       " 'iraq',\n",
       " 'peace',\n",
       " 'message',\n",
       " 'meets',\n",
       " 'reality',\n",
       " 'war',\n",
       " 'ant',\n",
       " 'man',\n",
       " 'wasp',\n",
       " 'trailer',\n",
       " 'brings',\n",
       " 'fun',\n",
       " 'avengers',\n",
       " 'infinity',\n",
       " 'war',\n",
       " 'moses',\n",
       " 'red',\n",
       " 'sea',\n",
       " 'george',\n",
       " 'takei',\n",
       " 'accused',\n",
       " 'groping',\n",
       " 'former',\n",
       " 'male',\n",
       " 'model',\n",
       " '1981',\n",
       " 'hollywood',\n",
       " 'boys',\n",
       " 'club',\n",
       " 'supports',\n",
       " 'casey',\n",
       " 'affleck',\n",
       " 'total',\n",
       " 'disgrace',\n",
       " '3',\n",
       " 'myths',\n",
       " 'low',\n",
       " 'libido',\n",
       " 'huffpollster',\n",
       " 'americans',\n",
       " 'see',\n",
       " 'progress',\n",
       " 'room',\n",
       " 'improvement',\n",
       " 'voting',\n",
       " 'rights',\n",
       " 'world',\n",
       " 'miss',\n",
       " 'goal',\n",
       " 'universal',\n",
       " 'education',\n",
       " '50',\n",
       " 'years',\n",
       " 'un',\n",
       " 'jennifer',\n",
       " 'lopez',\n",
       " 'name',\n",
       " 'jennifer',\n",
       " 'lopez',\n",
       " 'rebuild',\n",
       " 'credit',\n",
       " 'bankruptcy',\n",
       " 'fast',\n",
       " 'discover',\n",
       " 'climate',\n",
       " 'change',\n",
       " 'rapidly',\n",
       " 'transforming',\n",
       " 'earth',\n",
       " 'google',\n",
       " 'timelapse',\n",
       " 'voting',\n",
       " 'lines',\n",
       " 'shorter',\n",
       " 'mostly',\n",
       " 'whites',\n",
       " 'amanda',\n",
       " 'slavin',\n",
       " 'statistic',\n",
       " 'laurie',\n",
       " 'hernandez',\n",
       " 'val',\n",
       " 'chmerkovskiy',\n",
       " 'already',\n",
       " ...]"
      ]
     },
     "execution_count": 25,
     "metadata": {},
     "output_type": "execute_result"
    }
   ],
   "source": [
    "[y for titular_tok in todos_titulares_no_sarcasmo for y in titular_tok]\n",
    "# una forma de obtener cada palabra por separado"
   ]
  },
  {
   "cell_type": "code",
   "execution_count": 26,
   "metadata": {
    "id": "Ck_c_x4GRuJe",
    "outputId": "582bce90-6bda-42b5-88d2-8a3228d1fe4e"
   },
   "outputs": [
    {
     "data": {
      "text/plain": [
       "['former',\n",
       " 'versace',\n",
       " 'store',\n",
       " 'clerk',\n",
       " 'sues',\n",
       " 'secret',\n",
       " 'black',\n",
       " 'code',\n",
       " 'minority',\n",
       " 'shoppers']"
      ]
     },
     "execution_count": 26,
     "metadata": {},
     "output_type": "execute_result"
    }
   ],
   "source": [
    "# una forma de iterar mas rapida. \n",
    "todas_las_palabras = list(itertools.chain(*todos_titulares_no_sarcasmo))\n",
    "todas_las_palabras[0:10]"
   ]
  },
  {
   "cell_type": "code",
   "execution_count": 27,
   "metadata": {
    "id": "A_EXxP1GRuJe",
    "outputId": "6228bff0-9589-414c-ccc7-384bbd216cbf"
   },
   "outputs": [
    {
     "data": {
      "text/plain": [
       "FreqDist({'trump': 1446, 'new': 680, 'donald': 458, 'says': 349, 'women': 317, 'one': 268, 'u': 263, 'year': 244, 'first': 242, 'world': 241, ...})"
      ]
     },
     "execution_count": 27,
     "metadata": {},
     "output_type": "execute_result"
    }
   ],
   "source": [
    "freq_no_sarcasmo = nltk.FreqDist(todas_las_palabras)\n",
    "freq_no_sarcasmo"
   ]
  },
  {
   "cell_type": "code",
   "execution_count": 28,
   "metadata": {
    "id": "fJ6scOkqRuJe",
    "outputId": "04780aa3-b220-42a7-8812-22a77d4947e1"
   },
   "outputs": [
    {
     "data": {
      "text/html": [
       "<div>\n",
       "<style scoped>\n",
       "    .dataframe tbody tr th:only-of-type {\n",
       "        vertical-align: middle;\n",
       "    }\n",
       "\n",
       "    .dataframe tbody tr th {\n",
       "        vertical-align: top;\n",
       "    }\n",
       "\n",
       "    .dataframe thead th {\n",
       "        text-align: right;\n",
       "    }\n",
       "</style>\n",
       "<table border=\"1\" class=\"dataframe\">\n",
       "  <thead>\n",
       "    <tr style=\"text-align: right;\">\n",
       "      <th></th>\n",
       "      <th>Word</th>\n",
       "      <th>Frequency</th>\n",
       "    </tr>\n",
       "  </thead>\n",
       "  <tbody>\n",
       "    <tr>\n",
       "      <th>0</th>\n",
       "      <td>former</td>\n",
       "      <td>82</td>\n",
       "    </tr>\n",
       "    <tr>\n",
       "      <th>1</th>\n",
       "      <td>versace</td>\n",
       "      <td>1</td>\n",
       "    </tr>\n",
       "    <tr>\n",
       "      <th>2</th>\n",
       "      <td>store</td>\n",
       "      <td>14</td>\n",
       "    </tr>\n",
       "    <tr>\n",
       "      <th>3</th>\n",
       "      <td>clerk</td>\n",
       "      <td>5</td>\n",
       "    </tr>\n",
       "    <tr>\n",
       "      <th>4</th>\n",
       "      <td>sues</td>\n",
       "      <td>15</td>\n",
       "    </tr>\n",
       "  </tbody>\n",
       "</table>\n",
       "</div>"
      ],
      "text/plain": [
       "      Word  Frequency\n",
       "0   former         82\n",
       "1  versace          1\n",
       "2    store         14\n",
       "3    clerk          5\n",
       "4     sues         15"
      ]
     },
     "execution_count": 28,
     "metadata": {},
     "output_type": "execute_result"
    }
   ],
   "source": [
    "df_no_sarcasmo = pd.DataFrame(freq_no_sarcasmo.items(), columns = [\"Word\",\"Frequency\"])\n",
    "df_no_sarcasmo.head()"
   ]
  },
  {
   "cell_type": "code",
   "execution_count": 29,
   "metadata": {
    "id": "jb2Eyfp-RuJe",
    "outputId": "7813ebc6-ffa1-464d-85db-13d026cf790e"
   },
   "outputs": [
    {
     "data": {
      "text/html": [
       "<div>\n",
       "<style scoped>\n",
       "    .dataframe tbody tr th:only-of-type {\n",
       "        vertical-align: middle;\n",
       "    }\n",
       "\n",
       "    .dataframe tbody tr th {\n",
       "        vertical-align: top;\n",
       "    }\n",
       "\n",
       "    .dataframe thead th {\n",
       "        text-align: right;\n",
       "    }\n",
       "</style>\n",
       "<table border=\"1\" class=\"dataframe\">\n",
       "  <thead>\n",
       "    <tr style=\"text-align: right;\">\n",
       "      <th></th>\n",
       "      <th>Word</th>\n",
       "      <th>Frequency</th>\n",
       "    </tr>\n",
       "  </thead>\n",
       "  <tbody>\n",
       "    <tr>\n",
       "      <th>46</th>\n",
       "      <td>trump</td>\n",
       "      <td>1446</td>\n",
       "    </tr>\n",
       "    <tr>\n",
       "      <th>671</th>\n",
       "      <td>new</td>\n",
       "      <td>680</td>\n",
       "    </tr>\n",
       "    <tr>\n",
       "      <th>229</th>\n",
       "      <td>donald</td>\n",
       "      <td>458</td>\n",
       "    </tr>\n",
       "    <tr>\n",
       "      <th>421</th>\n",
       "      <td>says</td>\n",
       "      <td>349</td>\n",
       "    </tr>\n",
       "    <tr>\n",
       "      <th>29</th>\n",
       "      <td>women</td>\n",
       "      <td>317</td>\n",
       "    </tr>\n",
       "  </tbody>\n",
       "</table>\n",
       "</div>"
      ],
      "text/plain": [
       "       Word  Frequency\n",
       "46    trump       1446\n",
       "671     new        680\n",
       "229  donald        458\n",
       "421    says        349\n",
       "29    women        317"
      ]
     },
     "execution_count": 29,
     "metadata": {},
     "output_type": "execute_result"
    }
   ],
   "source": [
    "df_no_sarcasmo.sort_values('Frequency', ascending=False, inplace = True)\n",
    "df_no_sarcasmo.head()"
   ]
  },
  {
   "cell_type": "code",
   "execution_count": 30,
   "metadata": {
    "id": "2teBmOLKRuJf",
    "outputId": "794649b1-a296-4efd-9c94-5ba36d42fa7d"
   },
   "outputs": [
    {
     "data": {
      "image/png": "[encoded data removed]",
      "text/plain": [
       "<Figure size 1500x800 with 1 Axes>"
      ]
     },
     "metadata": {},
     "output_type": "display_data"
    }
   ],
   "source": [
    "plt.figure(figsize = (15,8))\n",
    "plot = sns.barplot(x  = df_no_sarcasmo.iloc[:30].Word, y = df_no_sarcasmo.iloc[:30].Frequency)\n",
    "plt.xticks(rotation=45)\n",
    "plt.show()"
   ]
  },
  {
   "cell_type": "markdown",
   "metadata": {},
   "source": [
    "## Riqueza lexica"
   ]
  },
  {
   "cell_type": "code",
   "execution_count": 31,
   "metadata": {},
   "outputs": [],
   "source": [
    "conteo_palabras = len(todas_las_palabras)"
   ]
  },
  {
   "cell_type": "code",
   "execution_count": 32,
   "metadata": {},
   "outputs": [
    {
     "data": {
      "text/plain": [
       "103167"
      ]
     },
     "execution_count": 32,
     "metadata": {},
     "output_type": "execute_result"
    }
   ],
   "source": [
    "conteo_palabras"
   ]
  },
  {
   "cell_type": "code",
   "execution_count": 33,
   "metadata": {},
   "outputs": [],
   "source": [
    "conteo_palabras_unicas=len(set(todas_las_palabras))"
   ]
  },
  {
   "cell_type": "code",
   "execution_count": 34,
   "metadata": {},
   "outputs": [
    {
     "data": {
      "text/plain": [
       "17336"
      ]
     },
     "execution_count": 34,
     "metadata": {},
     "output_type": "execute_result"
    }
   ],
   "source": [
    "conteo_palabras_unicas"
   ]
  },
  {
   "cell_type": "markdown",
   "metadata": {},
   "source": [
    "#### cuanto más largo sea el texto, menos riqueza lexica habrá: el vocabulario es limitado, la longitud del texto no"
   ]
  },
  {
   "cell_type": "code",
   "execution_count": 35,
   "metadata": {},
   "outputs": [
    {
     "data": {
      "text/plain": [
       "0.16803822927874223"
      ]
     },
     "execution_count": 35,
     "metadata": {},
     "output_type": "execute_result"
    }
   ],
   "source": [
    "conteo_palabras_unicas/conteo_palabras"
   ]
  },
  {
   "cell_type": "markdown",
   "metadata": {
    "id": "Kig5JLUaRuJf"
   },
   "source": [
    "#### Sarcasmo\n",
    "\n",
    "**Ejercicio 1** Rehacer el punto anterior pero para el dataset de sarcasmo"
   ]
  },
  {
   "cell_type": "code",
   "execution_count": 36,
   "metadata": {
    "id": "ps4C4j_6RuJf",
    "outputId": "8e1fc595-56c5-407e-ad31-a7d708369d4e"
   },
   "outputs": [
    {
     "data": {
      "text/html": [
       "<div>\n",
       "<style scoped>\n",
       "    .dataframe tbody tr th:only-of-type {\n",
       "        vertical-align: middle;\n",
       "    }\n",
       "\n",
       "    .dataframe tbody tr th {\n",
       "        vertical-align: top;\n",
       "    }\n",
       "\n",
       "    .dataframe thead th {\n",
       "        text-align: right;\n",
       "    }\n",
       "</style>\n",
       "<table border=\"1\" class=\"dataframe\">\n",
       "  <thead>\n",
       "    <tr style=\"text-align: right;\">\n",
       "      <th></th>\n",
       "      <th>article_link</th>\n",
       "      <th>headline</th>\n",
       "      <th>is_sarcastic</th>\n",
       "    </tr>\n",
       "  </thead>\n",
       "  <tbody>\n",
       "    <tr>\n",
       "      <th>2</th>\n",
       "      <td>https://local.theonion.com/mom-starting-to-fea...</td>\n",
       "      <td>mom starting to fear son's web series closest ...</td>\n",
       "      <td>1</td>\n",
       "    </tr>\n",
       "    <tr>\n",
       "      <th>3</th>\n",
       "      <td>https://politics.theonion.com/boehner-just-wan...</td>\n",
       "      <td>boehner just wants wife to listen, not come up...</td>\n",
       "      <td>1</td>\n",
       "    </tr>\n",
       "    <tr>\n",
       "      <th>8</th>\n",
       "      <td>https://politics.theonion.com/top-snake-handle...</td>\n",
       "      <td>top snake handler leaves sinking huckabee camp...</td>\n",
       "      <td>1</td>\n",
       "    </tr>\n",
       "    <tr>\n",
       "      <th>15</th>\n",
       "      <td>https://entertainment.theonion.com/nuclear-bom...</td>\n",
       "      <td>nuclear bomb detonates during rehearsal for 's...</td>\n",
       "      <td>1</td>\n",
       "    </tr>\n",
       "    <tr>\n",
       "      <th>16</th>\n",
       "      <td>https://www.theonion.com/cosby-lawyer-asks-why...</td>\n",
       "      <td>cosby lawyer asks why accusers didn't come for...</td>\n",
       "      <td>1</td>\n",
       "    </tr>\n",
       "  </tbody>\n",
       "</table>\n",
       "</div>"
      ],
      "text/plain": [
       "                                         article_link  \\\n",
       "2   https://local.theonion.com/mom-starting-to-fea...   \n",
       "3   https://politics.theonion.com/boehner-just-wan...   \n",
       "8   https://politics.theonion.com/top-snake-handle...   \n",
       "15  https://entertainment.theonion.com/nuclear-bom...   \n",
       "16  https://www.theonion.com/cosby-lawyer-asks-why...   \n",
       "\n",
       "                                             headline  is_sarcastic  \n",
       "2   mom starting to fear son's web series closest ...             1  \n",
       "3   boehner just wants wife to listen, not come up...             1  \n",
       "8   top snake handler leaves sinking huckabee camp...             1  \n",
       "15  nuclear bomb detonates during rehearsal for 's...             1  \n",
       "16  cosby lawyer asks why accusers didn't come for...             1  "
      ]
     },
     "execution_count": 36,
     "metadata": {},
     "output_type": "execute_result"
    }
   ],
   "source": [
    "dataset_sarcasmo = dataset[dataset.is_sarcastic==1]\n",
    "dataset_sarcasmo.head()"
   ]
  },
  {
   "cell_type": "markdown",
   "metadata": {
    "id": "zWovpp2ORuJn"
   },
   "source": [
    "## 4. Stemming\n",
    "Por razones gramaticales muchas palabras pueden escribirse de manera distinta (debido a conjugación, género, número) pero tener el mismo significado para el texto. Por ejemplo si decimos \"jugar\", \"jugando\" o \"juega\", debido a como estan conjugadas, la computadora puede tratarlas como palabras distintas. Pero, en términos de significado, todas estan relacionadas al verbo Jugar. Muchas veces nos va a convenir unir todas estos términos en uno solo.\n",
    "\n",
    "Una de las manera de hacer esto es por \"STEMMING\". El Stemming es un proceso eurístico que recorta la terminación de las palabras, agrupándolas por su raiz. Reduzcamos la cantidad de palabras diferentes en nuestro dataset utilizando este proceso.\n",
    "\n",
    "a. Importar nuevamente el dataset completo"
   ]
  },
  {
   "cell_type": "code",
   "execution_count": 37,
   "metadata": {
    "id": "WA_EPczgRuJn",
    "outputId": "1ace8cc4-512f-448f-9cde-e896abcf0463",
    "scrolled": true
   },
   "outputs": [
    {
     "data": {
      "text/html": [
       "<div>\n",
       "<style scoped>\n",
       "    .dataframe tbody tr th:only-of-type {\n",
       "        vertical-align: middle;\n",
       "    }\n",
       "\n",
       "    .dataframe tbody tr th {\n",
       "        vertical-align: top;\n",
       "    }\n",
       "\n",
       "    .dataframe thead th {\n",
       "        text-align: right;\n",
       "    }\n",
       "</style>\n",
       "<table border=\"1\" class=\"dataframe\">\n",
       "  <thead>\n",
       "    <tr style=\"text-align: right;\">\n",
       "      <th></th>\n",
       "      <th>article_link</th>\n",
       "      <th>headline</th>\n",
       "      <th>is_sarcastic</th>\n",
       "    </tr>\n",
       "  </thead>\n",
       "  <tbody>\n",
       "    <tr>\n",
       "      <th>0</th>\n",
       "      <td>https://www.huffingtonpost.com/entry/versace-b...</td>\n",
       "      <td>former versace store clerk sues over secret 'b...</td>\n",
       "      <td>0</td>\n",
       "    </tr>\n",
       "    <tr>\n",
       "      <th>1</th>\n",
       "      <td>https://www.huffingtonpost.com/entry/roseanne-...</td>\n",
       "      <td>the 'roseanne' revival catches up to our thorn...</td>\n",
       "      <td>0</td>\n",
       "    </tr>\n",
       "    <tr>\n",
       "      <th>2</th>\n",
       "      <td>https://local.theonion.com/mom-starting-to-fea...</td>\n",
       "      <td>mom starting to fear son's web series closest ...</td>\n",
       "      <td>1</td>\n",
       "    </tr>\n",
       "    <tr>\n",
       "      <th>3</th>\n",
       "      <td>https://politics.theonion.com/boehner-just-wan...</td>\n",
       "      <td>boehner just wants wife to listen, not come up...</td>\n",
       "      <td>1</td>\n",
       "    </tr>\n",
       "    <tr>\n",
       "      <th>4</th>\n",
       "      <td>https://www.huffingtonpost.com/entry/jk-rowlin...</td>\n",
       "      <td>j.k. rowling wishes snape happy birthday in th...</td>\n",
       "      <td>0</td>\n",
       "    </tr>\n",
       "  </tbody>\n",
       "</table>\n",
       "</div>"
      ],
      "text/plain": [
       "                                        article_link  \\\n",
       "0  https://www.huffingtonpost.com/entry/versace-b...   \n",
       "1  https://www.huffingtonpost.com/entry/roseanne-...   \n",
       "2  https://local.theonion.com/mom-starting-to-fea...   \n",
       "3  https://politics.theonion.com/boehner-just-wan...   \n",
       "4  https://www.huffingtonpost.com/entry/jk-rowlin...   \n",
       "\n",
       "                                            headline  is_sarcastic  \n",
       "0  former versace store clerk sues over secret 'b...             0  \n",
       "1  the 'roseanne' revival catches up to our thorn...             0  \n",
       "2  mom starting to fear son's web series closest ...             1  \n",
       "3  boehner just wants wife to listen, not come up...             1  \n",
       "4  j.k. rowling wishes snape happy birthday in th...             0  "
      ]
     },
     "execution_count": 37,
     "metadata": {},
     "output_type": "execute_result"
    }
   ],
   "source": [
    "dataset = pd.read_json('Sarcasm_Headlines_Dataset.json', lines= True)\n",
    "dataset.head()"
   ]
  },
  {
   "cell_type": "markdown",
   "metadata": {
    "id": "hSvutQqzRuJn"
   },
   "source": [
    "b. Tomar del `dataset` solo las columnas de interes"
   ]
  },
  {
   "cell_type": "code",
   "execution_count": 38,
   "metadata": {},
   "outputs": [],
   "source": [
    "dataset.drop(columns=\"article_link\",inplace=True)"
   ]
  },
  {
   "cell_type": "markdown",
   "metadata": {
    "id": "AQUoLCZ1RuJn"
   },
   "source": [
    "c. Antes de realizar el proceso de Stemming, vamos a normalizar el texto de la manera que ya estuvimos viendo. Le agregamos en este caso el uso de la libreria `re`, que nos permite sacar del texto todos los caracteres que no sean palabras. Notemos que hay veces que no conviene quitar estos caracteres ya que, por ejemplo, no podremos distiguir preguntas (?) o exclamaciones (!)."
   ]
  },
  {
   "cell_type": "code",
   "execution_count": 39,
   "metadata": {
    "id": "u6KlBsWpRuJn"
   },
   "outputs": [],
   "source": [
    "# Importamos esta libreria que nos permite reemplzar caracteres\n",
    "import re\n",
    "\n",
    "# Importamos la función que nos permite Stemmizar de nltk y definimos el stemmer\n",
    "from nltk.stem import PorterStemmer\n",
    "stemmer = PorterStemmer()\n",
    "\n",
    "# Traemos nuevamente las stopwords\n",
    "stopwords = nltk.corpus.stopwords.words('english')"
   ]
  },
  {
   "cell_type": "code",
   "execution_count": 40,
   "metadata": {},
   "outputs": [],
   "source": [
    "def normalizar_y_stemmizar(titular):\n",
    "    # Vamos a reemplzar los caracteres que no sean letras por espacios\n",
    "    titular = re.sub(\"[^a-zA-Z]\",\" \",str(titular))\n",
    "    # Pasamos todo a minúsculas\n",
    "    titular = titular.lower()\n",
    "    titular = nltk.tokenize.RegexpTokenizer(\"[\\w]+\").tokenize(titular)\n",
    "    # Eliminamos las palabras de menos de 3 letras\n",
    "    titular = [palabra for palabra in titular if len(palabra)>3]\n",
    "    # Sacamos las Stopwords\n",
    "    titular = [word for word in titular if word not in stopwords]\n",
    "    ## Hasta aqui Normalizamos, ahora a stemmizar\n",
    "    \n",
    "    # Aplicamos la funcion para buscar la raiz de las palabras\n",
    "    titular=[stemmer.stem(palabra) for palabra in titular]\n",
    "    # Por ultimo volvemos a unir el titular\n",
    "    titular=\" \".join(titular)\n",
    "    return titular"
   ]
  },
  {
   "cell_type": "code",
   "execution_count": 41,
   "metadata": {},
   "outputs": [
    {
     "data": {
      "text/plain": [
       "0        former versac store clerk sue secret black cod...\n",
       "1        roseann reviv catch thorni polit mood better wors\n",
       "2                 start fear seri closest thing grandchild\n",
       "3        boehner want wife listen come altern debt redu...\n",
       "4                     rowl wish snape happi birthday magic\n",
       "                               ...                        \n",
       "26704                       american polit moral free fall\n",
       "26705                                    america best hike\n",
       "26706                                          repar obama\n",
       "26707        isra target boycott support rais alarm abroad\n",
       "26708                                   gourmet gift foodi\n",
       "Name: headline, Length: 26709, dtype: object"
      ]
     },
     "execution_count": 41,
     "metadata": {},
     "output_type": "execute_result"
    }
   ],
   "source": [
    "dataset.headline.apply(normalizar_y_stemmizar)"
   ]
  },
  {
   "cell_type": "markdown",
   "metadata": {
    "id": "UeBAUrRIRuJo"
   },
   "source": [
    "d. Agregamos al dataset una columna llamado `titular_stem` que contenga los titulares stemmizados"
   ]
  },
  {
   "cell_type": "code",
   "execution_count": 42,
   "metadata": {
    "id": "1d2X6N7LRuJo",
    "outputId": "6dd3a5ef-96e8-441d-ba55-560d27566b76"
   },
   "outputs": [
    {
     "data": {
      "text/html": [
       "<div>\n",
       "<style scoped>\n",
       "    .dataframe tbody tr th:only-of-type {\n",
       "        vertical-align: middle;\n",
       "    }\n",
       "\n",
       "    .dataframe tbody tr th {\n",
       "        vertical-align: top;\n",
       "    }\n",
       "\n",
       "    .dataframe thead th {\n",
       "        text-align: right;\n",
       "    }\n",
       "</style>\n",
       "<table border=\"1\" class=\"dataframe\">\n",
       "  <thead>\n",
       "    <tr style=\"text-align: right;\">\n",
       "      <th></th>\n",
       "      <th>headline</th>\n",
       "      <th>is_sarcastic</th>\n",
       "      <th>titular_stem</th>\n",
       "    </tr>\n",
       "  </thead>\n",
       "  <tbody>\n",
       "    <tr>\n",
       "      <th>26704</th>\n",
       "      <td>american politics in moral free-fall</td>\n",
       "      <td>0</td>\n",
       "      <td>american polit moral free fall</td>\n",
       "    </tr>\n",
       "    <tr>\n",
       "      <th>26705</th>\n",
       "      <td>america's best 20 hikes</td>\n",
       "      <td>0</td>\n",
       "      <td>america best hike</td>\n",
       "    </tr>\n",
       "    <tr>\n",
       "      <th>26706</th>\n",
       "      <td>reparations and obama</td>\n",
       "      <td>0</td>\n",
       "      <td>repar obama</td>\n",
       "    </tr>\n",
       "    <tr>\n",
       "      <th>26707</th>\n",
       "      <td>israeli ban targeting boycott supporters raise...</td>\n",
       "      <td>0</td>\n",
       "      <td>isra target boycott support rais alarm abroad</td>\n",
       "    </tr>\n",
       "    <tr>\n",
       "      <th>26708</th>\n",
       "      <td>gourmet gifts for the foodie 2014</td>\n",
       "      <td>0</td>\n",
       "      <td>gourmet gift foodi</td>\n",
       "    </tr>\n",
       "  </tbody>\n",
       "</table>\n",
       "</div>"
      ],
      "text/plain": [
       "                                                headline  is_sarcastic  \\\n",
       "26704               american politics in moral free-fall             0   \n",
       "26705                            america's best 20 hikes             0   \n",
       "26706                              reparations and obama             0   \n",
       "26707  israeli ban targeting boycott supporters raise...             0   \n",
       "26708                  gourmet gifts for the foodie 2014             0   \n",
       "\n",
       "                                        titular_stem  \n",
       "26704                 american polit moral free fall  \n",
       "26705                              america best hike  \n",
       "26706                                    repar obama  \n",
       "26707  isra target boycott support rais alarm abroad  \n",
       "26708                             gourmet gift foodi  "
      ]
     },
     "execution_count": 42,
     "metadata": {},
     "output_type": "execute_result"
    }
   ],
   "source": [
    "dataset[\"titular_stem\"] = dataset.headline.apply(normalizar_y_stemmizar)\n",
    "dataset.tail()"
   ]
  },
  {
   "cell_type": "markdown",
   "metadata": {
    "id": "yDOeYk30RuJo"
   },
   "source": [
    "e. Armamos un nuevo dataset llamado `dataset_stem` que contenga solo las columnas `titular_stem` e `is_sarcastic`"
   ]
  },
  {
   "cell_type": "code",
   "execution_count": 43,
   "metadata": {
    "id": "Bcr0qIxcRuJo",
    "outputId": "125a1e63-cd4d-4327-89c8-3e5ae4013efc",
    "scrolled": true
   },
   "outputs": [
    {
     "data": {
      "text/html": [
       "<div>\n",
       "<style scoped>\n",
       "    .dataframe tbody tr th:only-of-type {\n",
       "        vertical-align: middle;\n",
       "    }\n",
       "\n",
       "    .dataframe tbody tr th {\n",
       "        vertical-align: top;\n",
       "    }\n",
       "\n",
       "    .dataframe thead th {\n",
       "        text-align: right;\n",
       "    }\n",
       "</style>\n",
       "<table border=\"1\" class=\"dataframe\">\n",
       "  <thead>\n",
       "    <tr style=\"text-align: right;\">\n",
       "      <th></th>\n",
       "      <th>is_sarcastic</th>\n",
       "      <th>titular_stem</th>\n",
       "    </tr>\n",
       "  </thead>\n",
       "  <tbody>\n",
       "    <tr>\n",
       "      <th>0</th>\n",
       "      <td>0</td>\n",
       "      <td>former versac store clerk sue secret black cod...</td>\n",
       "    </tr>\n",
       "    <tr>\n",
       "      <th>1</th>\n",
       "      <td>0</td>\n",
       "      <td>roseann reviv catch thorni polit mood better wors</td>\n",
       "    </tr>\n",
       "    <tr>\n",
       "      <th>2</th>\n",
       "      <td>1</td>\n",
       "      <td>start fear seri closest thing grandchild</td>\n",
       "    </tr>\n",
       "    <tr>\n",
       "      <th>3</th>\n",
       "      <td>1</td>\n",
       "      <td>boehner want wife listen come altern debt redu...</td>\n",
       "    </tr>\n",
       "    <tr>\n",
       "      <th>4</th>\n",
       "      <td>0</td>\n",
       "      <td>rowl wish snape happi birthday magic</td>\n",
       "    </tr>\n",
       "  </tbody>\n",
       "</table>\n",
       "</div>"
      ],
      "text/plain": [
       "   is_sarcastic                                       titular_stem\n",
       "0             0  former versac store clerk sue secret black cod...\n",
       "1             0  roseann reviv catch thorni polit mood better wors\n",
       "2             1           start fear seri closest thing grandchild\n",
       "3             1  boehner want wife listen come altern debt redu...\n",
       "4             0               rowl wish snape happi birthday magic"
      ]
     },
     "execution_count": 43,
     "metadata": {},
     "output_type": "execute_result"
    }
   ],
   "source": [
    "dataset_stem=dataset.drop(columns=[\"headline\"])\n",
    "dataset_stem.head()"
   ]
  },
  {
   "cell_type": "markdown",
   "metadata": {
    "id": "aymVZcYCRuJo"
   },
   "source": [
    "## 5. Lemmatization\n",
    "\n",
    "Otra manera de llevar distintas palabras a un raíz común en la que comparten un significado es mediante el procezo de 'Lemmatizar' el texto. Es similar al 'Stemming' pero un poco más educado, ya que intenta realizar el proceso teniendo en cuenta cuál es el rol que la palabra cumple en el texto. Esto quiere decir que su accionar será distinto si la palabra a lemmantizar está actuando como verbo, sustantivo, etc. \n",
    "\n",
    "Para usar las funciones que ofrece `nltk` para lemmantizar, tendremos primero que descargar la libreria `Wordnet`. Para eso ejecute la siguiente celda:\n",
    "https://www.nltk.org/api/nltk.stem.wordnet.html"
   ]
  },
  {
   "attachments": {
    "image.png": {
     "image/png": "[encoded data removed]"
    }
   },
   "cell_type": "markdown",
   "metadata": {},
   "source": [
    "![image.png](attachment:image.png)"
   ]
  },
  {
   "cell_type": "code",
   "execution_count": 44,
   "metadata": {
    "id": "x6n7qj8aRuJo",
    "outputId": "24fb060b-17e0-4f5b-e334-65f9459784ce"
   },
   "outputs": [
    {
     "name": "stdout",
     "output_type": "stream",
     "text": [
      "showing info https://raw.githubusercontent.com/nltk/nltk_data/gh-pages/index.xml\n"
     ]
    },
    {
     "data": {
      "text/plain": [
       "True"
      ]
     },
     "execution_count": 44,
     "metadata": {},
     "output_type": "execute_result"
    }
   ],
   "source": [
    "nltk.download()\n",
    "# se abre una pestaña, buscadla en las ventans del pc aunque no os salga"
   ]
  },
  {
   "cell_type": "code",
   "execution_count": 45,
   "metadata": {
    "id": "BcDvPDnhRuJo"
   },
   "outputs": [],
   "source": [
    "# Importamos esta libreria que nos permite reemplzar caracteres\n",
    "import re\n",
    "\n",
    "# Importamos el lemmatizar de NLTK, y creamos el objeto\n",
    "from nltk.stem import WordNetLemmatizer\n",
    "wordnet_lemmatizer = WordNetLemmatizer()"
   ]
  },
  {
   "cell_type": "markdown",
   "metadata": {
    "id": "UClxVJ1RRuJo"
   },
   "source": [
    "### Veamos cómo actúa el lemmatizer sobre una frase de ejemplo."
   ]
  },
  {
   "cell_type": "code",
   "execution_count": 46,
   "metadata": {
    "id": "KbAx6rn4RuJo",
    "outputId": "40494afa-10a0-4ab6-9cbf-361f9cf29c9e"
   },
   "outputs": [
    {
     "name": "stdout",
     "output_type": "stream",
     "text": [
      "Word                Lemma               \n",
      "he                  he                  \n",
      "was                 wa                  \n",
      "running             running             \n",
      "and                 and                 \n",
      "eating              eating              \n",
      "at                  at                  \n",
      "same                same                \n",
      "time                time                \n",
      "he                  he                  \n",
      "has                 ha                  \n",
      "bad                 bad                 \n",
      "habit               habit               \n",
      "of                  of                  \n",
      "swimming            swimming            \n",
      "after               after               \n",
      "playing             playing             \n",
      "long                long                \n",
      "hours               hour                \n",
      "in                  in                  \n",
      "the                 the                 \n",
      "sun                 sun                 \n"
     ]
    }
   ],
   "source": [
    "# Oracion que usaremos como ejemplo\n",
    "frase = \"He was running and eating at same time. He has bad habit of swimming after playing long hours in the Sun.\"\n",
    "\n",
    "# Hay que regularizar el texto. Dejar solo letra, pasar a minúsculas y tokenizar:\n",
    "\n",
    "# Sacamos todo lo que no sean letras\n",
    "frase = re.sub(\"[^a-zA-Z]\",\" \",str(frase))\n",
    "# Pasamos a minúsculas\n",
    "frase = frase.lower()\n",
    "# Tokenizamos\n",
    "frase_tokens = nltk.word_tokenize(frase)\n",
    "\n",
    "# Veamos como cambians las palabras al lemmatizar\n",
    "print(\"{0:20}{1:20}\".format(\"Word\",\"Lemma\"))\n",
    "# Esto es un ejemplo de como formatear palabras con espacios\n",
    "\n",
    "for palabra in frase_tokens:\n",
    "    print (\"{0:20}{1:20}\".format(palabra, wordnet_lemmatizer.lemmatize(palabra)))"
   ]
  },
  {
   "cell_type": "markdown",
   "metadata": {
    "id": "n_gS9RFoRuJp"
   },
   "source": [
    "¿Te sorprende lo que paso? No cambiaron casi nada (solo se fueron las \"s\" del final). El problema es que precisamos darle información extra al Lemmatizer, decirle qué rol está cumpliendo la palabra en la oración. Si os fijais en la documentación, esto se hace pasandole un argumento extra a la función llamado POS (Part Of Speech).\n",
    "\n",
    "Hay distintos metodos que intentan averiguar el rol que cumple una palabra en una oración. Nosotros vamos a utilizar uno que viene incorporado en NLTK llamado pos_tag."
   ]
  },
  {
   "cell_type": "markdown",
   "metadata": {},
   "source": [
    "https://www.guru99.com/pos-tagging-chunking-nltk.html"
   ]
  },
  {
   "cell_type": "markdown",
   "metadata": {},
   "source": [
    "https://www.nltk.org/api/nltk.stem.wordnet.html"
   ]
  },
  {
   "cell_type": "code",
   "execution_count": 47,
   "metadata": {},
   "outputs": [
    {
     "data": {
      "text/plain": [
       "'swimming'"
      ]
     },
     "execution_count": 47,
     "metadata": {},
     "output_type": "execute_result"
    }
   ],
   "source": [
    "wordnet_lemmatizer.lemmatize('swimming', 'n') # n de nombre"
   ]
  },
  {
   "cell_type": "code",
   "execution_count": 48,
   "metadata": {},
   "outputs": [
    {
     "data": {
      "text/plain": [
       "'swim'"
      ]
     },
     "execution_count": 48,
     "metadata": {},
     "output_type": "execute_result"
    }
   ],
   "source": [
    "wordnet_lemmatizer.lemmatize('swimming', 'v') # v de verbo"
   ]
  },
  {
   "cell_type": "code",
   "execution_count": 49,
   "metadata": {
    "id": "rWzrQuo2RuJp",
    "outputId": "7efb79e5-4630-4a74-fa2d-c8c3fe34d631"
   },
   "outputs": [
    {
     "name": "stdout",
     "output_type": "stream",
     "text": [
      "[('he', 'PRP'), ('was', 'VBD'), ('running', 'VBG'), ('and', 'CC'), ('eating', 'VBG'), ('at', 'IN'), ('same', 'JJ'), ('time', 'NN'), ('he', 'PRP'), ('has', 'VBZ'), ('bad', 'JJ'), ('habit', 'NN'), ('of', 'IN'), ('swimming', 'NN'), ('after', 'IN'), ('playing', 'VBG'), ('long', 'JJ'), ('hours', 'NNS'), ('in', 'IN'), ('the', 'DT'), ('sun', 'NN')]\n"
     ]
    }
   ],
   "source": [
    "print(nltk.pos_tag(frase_tokens))"
   ]
  },
  {
   "cell_type": "code",
   "execution_count": 50,
   "metadata": {},
   "outputs": [
    {
     "name": "stdout",
     "output_type": "stream",
     "text": [
      "[('Laura', 'NNP'), ('teachs', 'VBZ'), ('math', 'NN')]\n",
      "('Laura', 'NNP')\n",
      "NNP\n",
      "n\n"
     ]
    }
   ],
   "source": [
    "print(nltk.pos_tag([\"Laura\",\"teachs\",\"math\"])) # le pasamos una lista de palabras y nos devuelve una lista de tuplas\n",
    "i = 0 # es el numero de la palabra en la frase\n",
    "print(nltk.pos_tag([\"Laura\",\"teachs\",\"math\"])[i]) # escogemos la primera tupla(la de 'teachs')\n",
    "print(nltk.pos_tag([\"Laura\",\"teachs\",\"math\"])[i][1]) # escogemos el segundo elemento de la tupla\n",
    "print(nltk.pos_tag([\"Laura\",\"teachs\",\"math\"])[i][1][0].lower()) # solo nos interesará una letra para decidir que tipo de palabra es"
   ]
  },
  {
   "cell_type": "code",
   "execution_count": 51,
   "metadata": {},
   "outputs": [
    {
     "data": {
      "text/plain": [
       "'r'"
      ]
     },
     "execution_count": 51,
     "metadata": {},
     "output_type": "execute_result"
    }
   ],
   "source": [
    "from nltk.corpus import wordnet\n",
    "wordnet.ADV"
   ]
  },
  {
   "cell_type": "markdown",
   "metadata": {
    "id": "OL-6bqPLRuJp"
   },
   "source": [
    "Las etiquetas refieren al tipo de palabra. Vamos a definir una función para traducir estas etiquetas a los valores de POS que entiende `wordnet_lemmatizer`."
   ]
  },
  {
   "cell_type": "code",
   "execution_count": 52,
   "metadata": {},
   "outputs": [
    {
     "data": {
      "text/plain": [
       "'n'"
      ]
     },
     "execution_count": 52,
     "metadata": {},
     "output_type": "execute_result"
    }
   ],
   "source": [
    "tag_dict = {\"J\": wordnet.ADJ, # Adjetivo\n",
    "                \"N\": wordnet.NOUN, # Nombre\n",
    "                \"V\": wordnet.VERB, # Verbo\n",
    "                \"R\": wordnet.ADV} # adverbio\n",
    "tag_dict.get(\"uuuu\", wordnet.NOUN)"
   ]
  },
  {
   "cell_type": "code",
   "execution_count": 53,
   "metadata": {},
   "outputs": [
    {
     "data": {
      "text/plain": [
       "(['Laura', 'teach', 'math'], ['n', 'v', 'n'])"
      ]
     },
     "execution_count": 53,
     "metadata": {},
     "output_type": "execute_result"
    }
   ],
   "source": [
    "# for items in nltk.pos_tag(frase_tokens):\n",
    "#     print(items[0], \"->\", items[1][0].lower())\n",
    "\n",
    "from nltk.corpus import wordnet\n",
    "\n",
    "def lemmatizer_get_wordnet_pos_phrase(frase_tokens):\n",
    "\n",
    "    new_tokens=[] # esto estará lematizado\n",
    "    pos_tokens=[]\n",
    "    \n",
    "    tag_dict = {\"J\": wordnet.ADJ, # Adjetivo (a)\n",
    "                \"N\": wordnet.NOUN, # Nombre (n)\n",
    "                \"V\": wordnet.VERB, # Verbo (v)\n",
    "                \"R\": wordnet.ADV} # adverbio (r)\n",
    "    # esta función devuelve la lista de tuplas \n",
    "    words_and_pos=nltk.pos_tag(frase_tokens)\n",
    "    # [('Laura', 'NNP'), ('teachs', 'VBZ'), ('math', 'NN')]\n",
    "    \n",
    "    for items in words_and_pos:\n",
    "        pos = tag_dict.get(items[1][0], wordnet.NOUN)\n",
    "        new_tokens.append(wordnet_lemmatizer.lemmatize(items[0], pos))\n",
    "        pos_tokens.append(pos)\n",
    "\n",
    "    return new_tokens, pos_tokens\n",
    "\n",
    "lemmatizer_get_wordnet_pos_phrase([\"Laura\",\"teachs\",\"math\"])"
   ]
  },
  {
   "cell_type": "markdown",
   "metadata": {
    "id": "1XTsmDB7RuJp"
   },
   "source": [
    "Veamos finalmente como funciona en nuestro ejemplo."
   ]
  },
  {
   "cell_type": "code",
   "execution_count": 54,
   "metadata": {
    "id": "tJ3HVMfBRuJp",
    "outputId": "27a976ef-7a3c-4f80-e902-bd322428ff96"
   },
   "outputs": [
    {
     "name": "stdout",
     "output_type": "stream",
     "text": [
      "Palabra:            Tipo:               Lemma:              \n",
      "he                  n                   he                  \n",
      "was                 v                   be                  \n",
      "running             v                   run                 \n",
      "and                 n                   and                 \n",
      "eating              v                   eat                 \n",
      "at                  n                   at                  \n",
      "same                a                   same                \n",
      "time                n                   time                \n",
      "he                  n                   he                  \n",
      "has                 v                   have                \n",
      "bad                 a                   bad                 \n",
      "habit               n                   habit               \n",
      "of                  n                   of                  \n",
      "swimming            n                   swimming            \n",
      "after               n                   after               \n",
      "playing             v                   play                \n",
      "long                a                   long                \n",
      "hours               n                   hour                \n",
      "in                  n                   in                  \n",
      "the                 n                   the                 \n",
      "sun                 n                   sun                 \n"
     ]
    }
   ],
   "source": [
    "frase_lemma, tipo_palabra = lemmatizer_get_wordnet_pos_phrase(frase_tokens)\n",
    "\n",
    "# Veamos como cambiaron las palabras\n",
    "print(\"{0:20}{1:20}{2:20}\".format(\"Palabra:\",\"Tipo:\",\"Lemma:\"))\n",
    "for i in range(len(frase_tokens)):\n",
    "    print (\"{0:20}{1:20}{2:20}\".format(frase_tokens[i],tipo_palabra[i],frase_lemma[i]))"
   ]
  },
  {
   "cell_type": "markdown",
   "metadata": {
    "id": "QE2srEdFRuJp"
   },
   "source": [
    "a. Ahora te toca aplicar todo esto a nuestro dataset. Vamos a volver a importarlo y hacer un procedimiento análogo al que hicimos para la parte de Stemming."
   ]
  },
  {
   "cell_type": "code",
   "execution_count": 55,
   "metadata": {
    "id": "zyWCIHjnRuJp"
   },
   "outputs": [],
   "source": [
    "# Importamos el lemmatizar de NLTK, y creamos el objeto\n",
    "from nltk.stem import WordNetLemmatizer\n",
    "wordnet_lemmatizer = WordNetLemmatizer()\n",
    "\n",
    "# Importamos esta libreria que nos permite reemplzar caracteres\n",
    "import re\n",
    "\n",
    "dataset = pd.read_json('Sarcasm_Headlines_Dataset.json', lines= True)\n",
    "dataset = dataset.drop(columns=[\"article_link\"])\n",
    "dataset.dropna(axis=0,inplace=True)\n",
    "\n",
    "# Traemos nuevamente las stopwords\n",
    "stopwords = nltk.corpus.stopwords.words('english')"
   ]
  },
  {
   "cell_type": "code",
   "execution_count": 56,
   "metadata": {},
   "outputs": [],
   "source": [
    "def normalizar_lemmatizar(titular):\n",
    "    # Vamos a reemplzar los caracteres que no sean letras por espacios\n",
    "    titular=re.sub(\"[^a-zA-Z]\",\" \",str(titular))\n",
    "    # Pasamos todo a minúsculas\n",
    "    titular=titular.lower()\n",
    "     # Tokenizamos para separar las palabras\n",
    "    titular=nltk.word_tokenize(titular)\n",
    "    \n",
    "     # Aplicamos el Lemmatizer (Esto puede tardar un ratito)\n",
    "    titular, tipo_palabra = lemmatizer_get_wordnet_pos_phrase(titular)\n",
    "    # tipo_palabra no lo utilizamos\n",
    "    \n",
    "    # Eliminamos las palabras de menos de 3 letras\n",
    "    titular = [palabra for palabra in titular if len(palabra)>3]\n",
    "    # Sacamos las Stopwords\n",
    "    titular = [word for word in titular if word not in stopwords]\n",
    "    ## Hasta aqui Normalizamos\n",
    "\n",
    "    # Por ultimo volvemos a unir el titular\n",
    "    titular = \" \".join(titular)\n",
    "    return titular"
   ]
  },
  {
   "cell_type": "code",
   "execution_count": 57,
   "metadata": {
    "id": "oTqZ-RIPRuJq",
    "outputId": "08529231-c7b2-447f-9dba-c24831cdc5d0"
   },
   "outputs": [
    {
     "data": {
      "text/html": [
       "<div>\n",
       "<style scoped>\n",
       "    .dataframe tbody tr th:only-of-type {\n",
       "        vertical-align: middle;\n",
       "    }\n",
       "\n",
       "    .dataframe tbody tr th {\n",
       "        vertical-align: top;\n",
       "    }\n",
       "\n",
       "    .dataframe thead th {\n",
       "        text-align: right;\n",
       "    }\n",
       "</style>\n",
       "<table border=\"1\" class=\"dataframe\">\n",
       "  <thead>\n",
       "    <tr style=\"text-align: right;\">\n",
       "      <th></th>\n",
       "      <th>headline</th>\n",
       "      <th>is_sarcastic</th>\n",
       "      <th>titular_lemm</th>\n",
       "    </tr>\n",
       "  </thead>\n",
       "  <tbody>\n",
       "    <tr>\n",
       "      <th>26704</th>\n",
       "      <td>american politics in moral free-fall</td>\n",
       "      <td>0</td>\n",
       "      <td>american politics moral free fall</td>\n",
       "    </tr>\n",
       "    <tr>\n",
       "      <th>26705</th>\n",
       "      <td>america's best 20 hikes</td>\n",
       "      <td>0</td>\n",
       "      <td>america best hike</td>\n",
       "    </tr>\n",
       "    <tr>\n",
       "      <th>26706</th>\n",
       "      <td>reparations and obama</td>\n",
       "      <td>0</td>\n",
       "      <td>reparation obama</td>\n",
       "    </tr>\n",
       "    <tr>\n",
       "      <th>26707</th>\n",
       "      <td>israeli ban targeting boycott supporters raise...</td>\n",
       "      <td>0</td>\n",
       "      <td>israeli target boycott supporter raise alarm a...</td>\n",
       "    </tr>\n",
       "    <tr>\n",
       "      <th>26708</th>\n",
       "      <td>gourmet gifts for the foodie 2014</td>\n",
       "      <td>0</td>\n",
       "      <td>gourmet gift foodie</td>\n",
       "    </tr>\n",
       "  </tbody>\n",
       "</table>\n",
       "</div>"
      ],
      "text/plain": [
       "                                                headline  is_sarcastic  \\\n",
       "26704               american politics in moral free-fall             0   \n",
       "26705                            america's best 20 hikes             0   \n",
       "26706                              reparations and obama             0   \n",
       "26707  israeli ban targeting boycott supporters raise...             0   \n",
       "26708                  gourmet gifts for the foodie 2014             0   \n",
       "\n",
       "                                            titular_lemm  \n",
       "26704                  american politics moral free fall  \n",
       "26705                                  america best hike  \n",
       "26706                                   reparation obama  \n",
       "26707  israeli target boycott supporter raise alarm a...  \n",
       "26708                                gourmet gift foodie  "
      ]
     },
     "execution_count": 57,
     "metadata": {},
     "output_type": "execute_result"
    }
   ],
   "source": [
    "dataset[\"titular_lemm\"] = dataset.headline.apply(normalizar_lemmatizar)\n",
    "dataset.tail()"
   ]
  },
  {
   "cell_type": "markdown",
   "metadata": {
    "id": "h24EsshmRuJq"
   },
   "source": [
    "b. Por último nos armamos un nuevo datasate llamado `dataset_lem` que tenga solo las columnas `titular_lemm` y `is_sarcastic`."
   ]
  },
  {
   "cell_type": "code",
   "execution_count": 58,
   "metadata": {
    "id": "W40yEZF8RuJq",
    "outputId": "e26bb9d5-9f3c-402c-808c-16c3a931a25c"
   },
   "outputs": [
    {
     "data": {
      "text/html": [
       "<div>\n",
       "<style scoped>\n",
       "    .dataframe tbody tr th:only-of-type {\n",
       "        vertical-align: middle;\n",
       "    }\n",
       "\n",
       "    .dataframe tbody tr th {\n",
       "        vertical-align: top;\n",
       "    }\n",
       "\n",
       "    .dataframe thead th {\n",
       "        text-align: right;\n",
       "    }\n",
       "</style>\n",
       "<table border=\"1\" class=\"dataframe\">\n",
       "  <thead>\n",
       "    <tr style=\"text-align: right;\">\n",
       "      <th></th>\n",
       "      <th>is_sarcastic</th>\n",
       "      <th>titular_lemm</th>\n",
       "    </tr>\n",
       "  </thead>\n",
       "  <tbody>\n",
       "    <tr>\n",
       "      <th>0</th>\n",
       "      <td>0</td>\n",
       "      <td>former versace store clerk secret black code m...</td>\n",
       "    </tr>\n",
       "    <tr>\n",
       "      <th>1</th>\n",
       "      <td>0</td>\n",
       "      <td>roseanne revival catch thorny political mood good</td>\n",
       "    </tr>\n",
       "    <tr>\n",
       "      <th>2</th>\n",
       "      <td>1</td>\n",
       "      <td>start fear series closest thing grandchild</td>\n",
       "    </tr>\n",
       "    <tr>\n",
       "      <th>3</th>\n",
       "      <td>1</td>\n",
       "      <td>boehner want wife listen come alternative debt...</td>\n",
       "    </tr>\n",
       "    <tr>\n",
       "      <th>4</th>\n",
       "      <td>0</td>\n",
       "      <td>rowling wish snape happy birthday magical</td>\n",
       "    </tr>\n",
       "  </tbody>\n",
       "</table>\n",
       "</div>"
      ],
      "text/plain": [
       "   is_sarcastic                                       titular_lemm\n",
       "0             0  former versace store clerk secret black code m...\n",
       "1             0  roseanne revival catch thorny political mood good\n",
       "2             1         start fear series closest thing grandchild\n",
       "3             1  boehner want wife listen come alternative debt...\n",
       "4             0          rowling wish snape happy birthday magical"
      ]
     },
     "execution_count": 58,
     "metadata": {},
     "output_type": "execute_result"
    }
   ],
   "source": [
    "dataset_lemm = dataset.drop(columns=[\"headline\"])\n",
    "dataset_lemm.head()"
   ]
  },
  {
   "cell_type": "markdown",
   "metadata": {
    "id": "HpNgq2iXRuJq"
   },
   "source": [
    "\n",
    "## 6. Vectorizar\n",
    "\n",
    "Hasta ahora, tenemos un grupo de palabras por cada titular (bag of words). La idea ahora es representar esta lista de palabras como un vector. Para esto vamos a utilizar la función `CountVectorizer` de Scikit-Learn. Esta función nos permite representar cada título por un vector con un `1` en las palabras que contiene y un `0` en las que no. Además, vamos a trabajar únicamente con las palabras que aparecen más veces en el texto, ya que las que aparecen una única vez o pocas veces no nos van a brindar información que se pueda generalizar.\n"
   ]
  },
  {
   "cell_type": "markdown",
   "metadata": {
    "id": "KYof4M3bRuJq"
   },
   "source": [
    "a. Preparamos el conversor de bag of words a vectores que traemos de sklearn. `CountVectorizer` posee varias funcionalidades que pueden determinarse a partir de parámetros. Les recomendamos fuertemente leer su documentación."
   ]
  },
  {
   "cell_type": "code",
   "execution_count": 59,
   "metadata": {
    "id": "hc0n_jXyRuJq"
   },
   "outputs": [],
   "source": [
    "from sklearn.feature_extraction.text import CountVectorizer\n",
    "\n",
    "# Usaremos solo las 1000 palabras con mas frecuencia en todo el corpus para generar los vectores\n",
    "max_features=1000\n",
    "\n",
    "# Es decir que cada instancia tendrá 1000 features\n",
    "cou_vec = CountVectorizer(max_features=max_features) # stop_words=\"english\" , ngram_range=(1, 2)"
   ]
  },
  {
   "attachments": {
    "image.png": {
     "image/png": "[encoded data removed]"
    }
   },
   "cell_type": "markdown",
   "metadata": {
    "id": "4SHu17oURuJq"
   },
   "source": [
    "Notemos que desde `CountVectorizer` se pueden quitar las stopwords (algo que ya hicimos con `nltk`) e incluir los n_gramas automáticamente.\n",
    "![image.png](attachment:image.png)\n",
    "\n",
    "c. Ahora sí, vamos generarnos los vectores para cada título a partir del corpus total."
   ]
  },
  {
   "cell_type": "code",
   "execution_count": 60,
   "metadata": {
    "id": "mIS63E9LRuJr",
    "outputId": "25fbd960-ac61-4508-e47a-f007e4154997"
   },
   "outputs": [
    {
     "name": "stdout",
     "output_type": "stream",
     "text": [
      "50 primeras palabras:  ['abortion' 'abuse' 'accept' 'accidentally' 'accord' 'accuse' 'across'\n",
      " 'action' 'activist' 'actor' 'actually' 'address' 'administration' 'admit'\n",
      " 'admits' 'adorable' 'advice' 'afghanistan' 'agent' 'agree' 'ahead'\n",
      " 'airline' 'airport' 'album' 'allegation' 'allow' 'almost' 'already'\n",
      " 'also' 'always' 'amazon' 'america' 'american' 'amid' 'among' 'animal'\n",
      " 'anniversary' 'announce' 'announces' 'another' 'answer' 'anti' 'anyone'\n",
      " 'anything' 'apartment' 'apologize' 'apparently' 'appear' 'apple'\n",
      " 'archive']\n"
     ]
    }
   ],
   "source": [
    "matriz_titulos = cou_vec.fit_transform(dataset_lemm['titular_lemm'])\n",
    "\n",
    "# Tomamos las palabras\n",
    "all_words = cou_vec.get_feature_names_out()\n",
    "\n",
    "# Vizualizamos las 50 primeras palabras\n",
    "print(\"50 primeras palabras: \", all_words[0:50])"
   ]
  },
  {
   "cell_type": "code",
   "execution_count": 61,
   "metadata": {},
   "outputs": [
    {
     "data": {
      "text/plain": [
       "1000"
      ]
     },
     "execution_count": 61,
     "metadata": {},
     "output_type": "execute_result"
    }
   ],
   "source": [
    "len(all_words)"
   ]
  },
  {
   "cell_type": "code",
   "execution_count": 62,
   "metadata": {},
   "outputs": [
    {
     "data": {
      "text/plain": [
       "{'former': 340,\n",
       " 'store': 844,\n",
       " 'secret': 775,\n",
       " 'black': 92,\n",
       " 'catch': 131,\n",
       " 'political': 647,\n",
       " 'good': 367,\n",
       " 'start': 834,\n",
       " 'fear': 311,\n",
       " 'series': 787,\n",
       " 'thing': 896,\n",
       " 'want': 956,\n",
       " 'wife': 976,\n",
       " 'listen': 500,\n",
       " 'come': 172,\n",
       " 'idea': 426,\n",
       " 'wish': 982,\n",
       " 'happy': 386,\n",
       " 'birthday': 91,\n",
       " 'world': 989,\n",
       " 'woman': 984,\n",
       " 'case': 129,\n",
       " 'send': 784,\n",
       " 'school': 766,\n",
       " 'work': 987,\n",
       " 'company': 178,\n",
       " 'leave': 485,\n",
       " 'campaign': 118,\n",
       " 'friday': 346,\n",
       " 'morning': 558,\n",
       " 'email': 276,\n",
       " 'inside': 434,\n",
       " 'trump': 927,\n",
       " 'airline': 21,\n",
       " 'passenger': 617,\n",
       " 'bomb': 101,\n",
       " 'threat': 901,\n",
       " 'facebook': 300,\n",
       " 'reportedly': 724,\n",
       " 'feature': 312,\n",
       " 'north': 588,\n",
       " 'korea': 470,\n",
       " 'urge': 939,\n",
       " 'voter': 951,\n",
       " 'hillary': 402,\n",
       " 'actually': 10,\n",
       " 'hold': 406,\n",
       " 'huge': 420,\n",
       " 'protest': 678,\n",
       " 'support': 863,\n",
       " 'refugee': 711,\n",
       " 'nuclear': 591,\n",
       " 'lawyer': 480,\n",
       " 'forward': 341,\n",
       " 'legal': 486,\n",
       " 'team': 882,\n",
       " 'year': 996,\n",
       " 'market': 524,\n",
       " 'program': 674,\n",
       " 'build': 111,\n",
       " 'city': 156,\n",
       " 'artist': 53,\n",
       " 'clear': 161,\n",
       " 'assure': 56,\n",
       " 'nation': 573,\n",
       " 'decision': 228,\n",
       " 'syrian': 873,\n",
       " 'consider': 187,\n",
       " 'report': 723,\n",
       " 'drug': 263,\n",
       " 'cruz': 210,\n",
       " 'panic': 609,\n",
       " 'could': 195,\n",
       " 'lose': 508,\n",
       " 'house': 418,\n",
       " 'congress': 183,\n",
       " 'writer': 994,\n",
       " 'must': 570,\n",
       " 'plan': 637,\n",
       " 'obama': 593,\n",
       " 'visit': 948,\n",
       " 'national': 574,\n",
       " 'honor': 411,\n",
       " 'veteran': 943,\n",
       " 'back': 66,\n",
       " 'behind': 81,\n",
       " 'bush': 113,\n",
       " 'recommend': 708,\n",
       " 'kill': 465,\n",
       " 'like': 495,\n",
       " 'driver': 261,\n",
       " 'million': 548,\n",
       " 'apple': 48,\n",
       " 'death': 223,\n",
       " 'child': 147,\n",
       " 'muslim': 569,\n",
       " 'airport': 22,\n",
       " 'giant': 358,\n",
       " 'head': 392,\n",
       " 'toward': 913,\n",
       " 'earth': 266,\n",
       " 'straight': 847,\n",
       " 'office': 596,\n",
       " 'massive': 528,\n",
       " 'money': 555,\n",
       " 'next': 583,\n",
       " 'generation': 356,\n",
       " 'williams': 978,\n",
       " 'holiday': 407,\n",
       " 'never': 581,\n",
       " 'reveal': 736,\n",
       " 'source': 820,\n",
       " 'claim': 158,\n",
       " 'scott': 769,\n",
       " 'stop': 843,\n",
       " 'nearly': 576,\n",
       " 'time': 905,\n",
       " 'hour': 417,\n",
       " 'change': 139,\n",
       " 'life': 493,\n",
       " 'help': 398,\n",
       " 'beach': 73,\n",
       " 'drop': 262,\n",
       " 'player': 641,\n",
       " 'give': 362,\n",
       " 'gift': 359,\n",
       " 'play': 640,\n",
       " 'season': 772,\n",
       " 'christian': 152,\n",
       " 'victim': 944,\n",
       " 'care': 124,\n",
       " 'would': 992,\n",
       " 'mean': 533,\n",
       " 'health': 393,\n",
       " 'right': 741,\n",
       " 'live': 502,\n",
       " 'complete': 179,\n",
       " 'nasa': 572,\n",
       " 'almost': 26,\n",
       " 'night': 585,\n",
       " 'light': 494,\n",
       " 'sport': 827,\n",
       " 'dead': 220,\n",
       " 'shoot': 796,\n",
       " 'teacher': 881,\n",
       " 'without': 983,\n",
       " 'single': 808,\n",
       " 'student': 853,\n",
       " 'donald': 251,\n",
       " 'poll': 649,\n",
       " 'ready': 699,\n",
       " 'self': 780,\n",
       " 'entire': 282,\n",
       " 'star': 833,\n",
       " 'film': 321,\n",
       " 'hard': 388,\n",
       " 'summer': 861,\n",
       " 'news': 582,\n",
       " 'break': 106,\n",
       " 'chief': 146,\n",
       " 'call': 116,\n",
       " 'syria': 872,\n",
       " 'track': 915,\n",
       " 'flight': 329,\n",
       " 'around': 51,\n",
       " 'christmas': 153,\n",
       " 'trouble': 925,\n",
       " 'unveil': 936,\n",
       " 'water': 961,\n",
       " 'john': 453,\n",
       " 'list': 499,\n",
       " 'great': 373,\n",
       " 'american': 32,\n",
       " 'make': 517,\n",
       " 'simple': 806,\n",
       " 'coffee': 167,\n",
       " 'everyone': 290,\n",
       " 'freak': 344,\n",
       " 'planet': 639,\n",
       " 'powerful': 657,\n",
       " 'force': 336,\n",
       " 'girl': 360,\n",
       " 'green': 374,\n",
       " 'take': 876,\n",
       " 'game': 354,\n",
       " 'level': 490,\n",
       " 'area': 50,\n",
       " 'ryan': 758,\n",
       " 'hear': 395,\n",
       " 'lesson': 488,\n",
       " 'prison': 668,\n",
       " 'teach': 880,\n",
       " 'power': 656,\n",
       " 'control': 189,\n",
       " 'sick': 803,\n",
       " 'fuck': 349,\n",
       " 'line': 497,\n",
       " 'body': 100,\n",
       " 'america': 31,\n",
       " 'first': 327,\n",
       " 'really': 703,\n",
       " 'congressman': 185,\n",
       " 'think': 897,\n",
       " 'economy': 270,\n",
       " 'drink': 259,\n",
       " 'beer': 79,\n",
       " 'find': 324,\n",
       " 'cause': 132,\n",
       " 'problem': 672,\n",
       " 'order': 603,\n",
       " 'strike': 851,\n",
       " 'attack': 57,\n",
       " 'dream': 257,\n",
       " 'pledge': 643,\n",
       " 'culture': 211,\n",
       " 'abuse': 1,\n",
       " 'allow': 25,\n",
       " 'follow': 332,\n",
       " 'eric': 284,\n",
       " 'risk': 744,\n",
       " 'youth': 999,\n",
       " 'tree': 923,\n",
       " 'pope': 651,\n",
       " 'francis': 343,\n",
       " 'remind': 719,\n",
       " 'tell': 886,\n",
       " 'boyfriend': 105,\n",
       " 'check': 143,\n",
       " 'throw': 904,\n",
       " 'doctor': 249,\n",
       " 'burn': 112,\n",
       " 'full': 350,\n",
       " 'color': 171,\n",
       " 'remove': 720,\n",
       " 'award': 63,\n",
       " 'lgbtq': 492,\n",
       " 'people': 623,\n",
       " 'last': 475,\n",
       " 'continue': 188,\n",
       " 'sure': 866,\n",
       " 'please': 642,\n",
       " 'queen': 687,\n",
       " 'elizabeth': 275,\n",
       " 'still': 842,\n",
       " 'look': 507,\n",
       " 'clinton': 164,\n",
       " 'become': 78,\n",
       " 'president': 660,\n",
       " 'foot': 334,\n",
       " 'mouth': 560,\n",
       " 'climate': 163,\n",
       " 'question': 689,\n",
       " 'young': 998,\n",
       " 'everything': 291,\n",
       " 'emotional': 277,\n",
       " 'music': 568,\n",
       " 'clearly': 162,\n",
       " 'park': 613,\n",
       " 'queer': 688,\n",
       " 'tour': 912,\n",
       " 'daughter': 218,\n",
       " 'land': 473,\n",
       " 'major': 515,\n",
       " 'fashion': 307,\n",
       " 'james': 447,\n",
       " 'david': 219,\n",
       " 'little': 501,\n",
       " 'lunch': 512,\n",
       " 'percent': 624,\n",
       " 'jenner': 449,\n",
       " 'turn': 930,\n",
       " 'valentine': 942,\n",
       " 'regret': 713,\n",
       " 'texas': 891,\n",
       " 'ebola': 269,\n",
       " 'patient': 619,\n",
       " 'late': 476,\n",
       " 'perfect': 625,\n",
       " 'actor': 9,\n",
       " 'role': 748,\n",
       " 'room': 751,\n",
       " 'hope': 412,\n",
       " 'robert': 746,\n",
       " 'movie': 563,\n",
       " 'answer': 40,\n",
       " 'whether': 973,\n",
       " 'believe': 82,\n",
       " 'accuse': 5,\n",
       " 'father': 309,\n",
       " 'drunk': 264,\n",
       " 'away': 64,\n",
       " 'steal': 837,\n",
       " 'police': 645,\n",
       " 'super': 862,\n",
       " 'democratic': 235,\n",
       " 'primary': 666,\n",
       " 'longer': 506,\n",
       " 'paul': 620,\n",
       " 'worry': 990,\n",
       " 'pick': 632,\n",
       " 'phone': 630,\n",
       " 'hotel': 416,\n",
       " 'outside': 605,\n",
       " 'paris': 612,\n",
       " 'least': 484,\n",
       " 'military': 547,\n",
       " 'finally': 323,\n",
       " 'union': 933,\n",
       " 'sander': 761,\n",
       " 'member': 538,\n",
       " 'worker': 988,\n",
       " 'mayor': 530,\n",
       " 'lawsuit': 479,\n",
       " 'show': 801,\n",
       " 'model': 552,\n",
       " 'inspire': 435,\n",
       " 'advice': 16,\n",
       " 'family': 306,\n",
       " 'different': 243,\n",
       " 'celebrity': 134,\n",
       " 'celebrate': 133,\n",
       " 'save': 763,\n",
       " 'michelle': 543,\n",
       " 'beauty': 77,\n",
       " 'respond': 729,\n",
       " 'golden': 366,\n",
       " 'joke': 455,\n",
       " 'michael': 542,\n",
       " 'weight': 968,\n",
       " 'loss': 509,\n",
       " 'learn': 483,\n",
       " 'marriage': 525,\n",
       " 'raise': 693,\n",
       " 'california': 115,\n",
       " 'racist': 692,\n",
       " 'hurt': 424,\n",
       " 'crash': 203,\n",
       " 'comment': 174,\n",
       " 'cancer': 120,\n",
       " 'arrest': 52,\n",
       " 'charge': 142,\n",
       " 'need': 577,\n",
       " 'know': 469,\n",
       " 'class': 159,\n",
       " 'friend': 347,\n",
       " 'always': 29,\n",
       " 'best': 85,\n",
       " 'watch': 960,\n",
       " 'another': 39,\n",
       " 'announce': 37,\n",
       " 'kelly': 462,\n",
       " 'story': 846,\n",
       " 'project': 675,\n",
       " 'create': 204,\n",
       " 'seem': 779,\n",
       " 'love': 511,\n",
       " 'spend': 826,\n",
       " 'much': 564,\n",
       " 'healthy': 394,\n",
       " 'matter': 529,\n",
       " 'public': 682,\n",
       " 'cast': 130,\n",
       " 'community': 177,\n",
       " 'supreme': 865,\n",
       " 'court': 199,\n",
       " 'nominee': 587,\n",
       " 'free': 345,\n",
       " 'security': 777,\n",
       " 'rule': 755,\n",
       " 'clean': 160,\n",
       " 'minute': 550,\n",
       " 'push': 685,\n",
       " 'white': 974,\n",
       " 'face': 299,\n",
       " 'rise': 743,\n",
       " 'vote': 950,\n",
       " 'move': 561,\n",
       " 'place': 636,\n",
       " 'sentence': 786,\n",
       " 'assault': 55,\n",
       " 'baby': 65,\n",
       " 'march': 521,\n",
       " 'worth': 991,\n",
       " 'senator': 783,\n",
       " 'accept': 2,\n",
       " 'price': 665,\n",
       " 'fail': 302,\n",
       " 'past': 618,\n",
       " 'documentary': 250,\n",
       " 'surprise': 867,\n",
       " 'release': 715,\n",
       " 'female': 315,\n",
       " 'avoid': 62,\n",
       " 'touch': 911,\n",
       " 'male': 518,\n",
       " 'hand': 384,\n",
       " 'four': 342,\n",
       " 'couple': 197,\n",
       " 'point': 644,\n",
       " 'scientist': 768,\n",
       " 'near': 575,\n",
       " 'road': 745,\n",
       " 'debut': 225,\n",
       " 'abortion': 0,\n",
       " 'pass': 616,\n",
       " 'justice': 459,\n",
       " 'finish': 325,\n",
       " 'taylor': 879,\n",
       " 'swift': 871,\n",
       " 'voice': 949,\n",
       " 'write': 993,\n",
       " 'restaurant': 732,\n",
       " 'challenge': 137,\n",
       " 'meal': 532,\n",
       " 'shit': 794,\n",
       " 'open': 602,\n",
       " 'letter': 489,\n",
       " 'trade': 916,\n",
       " 'history': 405,\n",
       " 'offer': 595,\n",
       " 'united': 934,\n",
       " 'immigrant': 428,\n",
       " 'special': 824,\n",
       " 'travel': 921,\n",
       " 'retirement': 734,\n",
       " 'video': 945,\n",
       " 'anti': 41,\n",
       " 'hate': 391,\n",
       " 'group': 376,\n",
       " 'long': 505,\n",
       " 'post': 654,\n",
       " 'window': 979,\n",
       " 'struggle': 852,\n",
       " 'middle': 544,\n",
       " 'future': 353,\n",
       " 'mother': 559,\n",
       " 'favorite': 310,\n",
       " 'number': 592,\n",
       " 'thank': 892,\n",
       " 'part': 614,\n",
       " 'front': 348,\n",
       " 'happen': 385,\n",
       " 'mark': 523,\n",
       " 'refuse': 712,\n",
       " 'shut': 802,\n",
       " 'rubio': 753,\n",
       " 'supporter': 864,\n",
       " 'stranger': 848,\n",
       " 'review': 738,\n",
       " 'update': 938,\n",
       " 'election': 274,\n",
       " 'fight': 318,\n",
       " 'iraq': 444,\n",
       " 'peace': 621,\n",
       " 'message': 540,\n",
       " 'meet': 536,\n",
       " 'reality': 701,\n",
       " 'trailer': 917,\n",
       " 'bring': 107,\n",
       " 'customer': 212,\n",
       " 'deal': 222,\n",
       " 'coworker': 201,\n",
       " 'party': 615,\n",
       " 'george': 357,\n",
       " 'york': 997,\n",
       " 'target': 878,\n",
       " 'hollywood': 408,\n",
       " 'club': 166,\n",
       " 'rock': 747,\n",
       " 'scandal': 764,\n",
       " 'waste': 959,\n",
       " 'miss': 551,\n",
       " 'education': 271,\n",
       " 'jennifer': 450,\n",
       " 'name': 571,\n",
       " 'fast': 308,\n",
       " 'discover': 246,\n",
       " 'google': 368,\n",
       " 'wonder': 985,\n",
       " 'short': 799,\n",
       " 'step': 838,\n",
       " 'already': 27,\n",
       " 'photo': 631,\n",
       " 'hurricane': 423,\n",
       " 'florida': 330,\n",
       " 'lawmaker': 478,\n",
       " 'launch': 477,\n",
       " 'space': 822,\n",
       " 'three': 903,\n",
       " 'recipe': 707,\n",
       " 'prove': 681,\n",
       " 'fake': 304,\n",
       " 'admit': 13,\n",
       " 'defend': 231,\n",
       " 'address': 11,\n",
       " 'focus': 331,\n",
       " 'human': 421,\n",
       " 'leader': 482,\n",
       " 'appear': 47,\n",
       " 'religious': 716,\n",
       " 'moore': 557,\n",
       " 'bernie': 84,\n",
       " 'rest': 731,\n",
       " 'even': 286,\n",
       " 'declare': 229,\n",
       " 'ruin': 754,\n",
       " 'carolina': 126,\n",
       " 'department': 236,\n",
       " 'transgender': 920,\n",
       " 'experience': 296,\n",
       " 'bathroom': 71,\n",
       " 'prevent': 664,\n",
       " 'kind': 467,\n",
       " 'west': 972,\n",
       " 'performance': 627,\n",
       " 'album': 23,\n",
       " 'blue': 98,\n",
       " 'allegation': 24,\n",
       " 'scene': 765,\n",
       " 'explain': 298,\n",
       " 'study': 854,\n",
       " 'divorce': 248,\n",
       " 'enough': 281,\n",
       " 'remember': 718,\n",
       " 'every': 289,\n",
       " 'receive': 706,\n",
       " 'college': 170,\n",
       " 'speech': 825,\n",
       " 'republican': 726,\n",
       " 'obamacare': 594,\n",
       " 'mass': 527,\n",
       " 'suggest': 858,\n",
       " 'final': 322,\n",
       " 'private': 669,\n",
       " 'despite': 240,\n",
       " 'chair': 136,\n",
       " 'senate': 782,\n",
       " 'speak': 823,\n",
       " 'comey': 173,\n",
       " 'internet': 437,\n",
       " 'science': 767,\n",
       " 'perfectly': 626,\n",
       " 'chicago': 144,\n",
       " 'amid': 33,\n",
       " 'global': 364,\n",
       " 'issue': 446,\n",
       " 'weird': 969,\n",
       " 'bowl': 104,\n",
       " 'well': 971,\n",
       " 'song': 817,\n",
       " 'real': 700,\n",
       " 'piece': 634,\n",
       " 'wear': 963,\n",
       " 'spring': 829,\n",
       " 'football': 335,\n",
       " 'secretary': 776,\n",
       " 'thanksgiving': 893,\n",
       " 'parent': 611,\n",
       " 'website': 964,\n",
       " 'repeal': 721,\n",
       " 'second': 774,\n",
       " 'wrong': 995,\n",
       " 'church': 154,\n",
       " 'fifth': 317,\n",
       " 'begin': 80,\n",
       " 'anything': 43,\n",
       " 'door': 252,\n",
       " 'fire': 326,\n",
       " 'dance': 214,\n",
       " 'easy': 268,\n",
       " 'kick': 464,\n",
       " 'date': 217,\n",
       " 'high': 400,\n",
       " 'depression': 237,\n",
       " 'ever': 288,\n",
       " 'halloween': 383,\n",
       " 'career': 125,\n",
       " 'local': 504,\n",
       " 'social': 814,\n",
       " 'medium': 535,\n",
       " 'deadly': 221,\n",
       " 'oscar': 604,\n",
       " 'billion': 88,\n",
       " 'washington': 958,\n",
       " 'officer': 597,\n",
       " 'carry': 128,\n",
       " 'blood': 96,\n",
       " 'choice': 150,\n",
       " 'destroy': 241,\n",
       " 'netflix': 579,\n",
       " 'louis': 510,\n",
       " 'bill': 87,\n",
       " 'note': 589,\n",
       " 'lead': 481,\n",
       " 'guest': 378,\n",
       " 'excite': 293,\n",
       " 'employee': 278,\n",
       " 'shot': 800,\n",
       " 'month': 556,\n",
       " 'fall': 305,\n",
       " 'brother': 108,\n",
       " 'across': 6,\n",
       " 'style': 856,\n",
       " 'investigation': 441,\n",
       " 'presidential': 661,\n",
       " 'course': 198,\n",
       " 'cancel': 119,\n",
       " 'drag': 255,\n",
       " 'whole': 975,\n",
       " 'return': 735,\n",
       " 'tire': 906,\n",
       " 'character': 141,\n",
       " 'record': 709,\n",
       " 'mike': 546,\n",
       " 'feel': 314,\n",
       " 'probably': 670,\n",
       " 'large': 474,\n",
       " 'rescue': 727,\n",
       " 'since': 807,\n",
       " 'judge': 458,\n",
       " 'blow': 97,\n",
       " 'shop': 798,\n",
       " 'staff': 830,\n",
       " 'kardashian': 460,\n",
       " 'join': 454,\n",
       " 'week': 966,\n",
       " 'debate': 224,\n",
       " 'beautiful': 76,\n",
       " 'bear': 74,\n",
       " 'interview': 438,\n",
       " 'storm': 845,\n",
       " 'figure': 319,\n",
       " 'russia': 756,\n",
       " 'fact': 301,\n",
       " 'book': 102,\n",
       " 'guide': 379,\n",
       " 'monday': 554,\n",
       " 'crisis': 206,\n",
       " 'machine': 513,\n",
       " 'base': 70,\n",
       " 'shooting': 797,\n",
       " 'government': 369,\n",
       " 'business': 114,\n",
       " 'home': 409,\n",
       " 'manager': 519,\n",
       " 'meeting': 537,\n",
       " 'walk': 954,\n",
       " 'purchase': 684,\n",
       " 'service': 788,\n",
       " 'site': 809,\n",
       " 'possible': 653,\n",
       " 'system': 874,\n",
       " 'ground': 375,\n",
       " 'capture': 122,\n",
       " 'incredible': 432,\n",
       " 'moment': 553,\n",
       " 'homeless': 410,\n",
       " 'anniversary': 36,\n",
       " 'race': 691,\n",
       " 'average': 61,\n",
       " 'poor': 650,\n",
       " 'protect': 677,\n",
       " 'convention': 190,\n",
       " 'romney': 750,\n",
       " 'warn': 957,\n",
       " 'china': 148,\n",
       " 'shock': 795,\n",
       " 'cover': 200,\n",
       " 'desperate': 239,\n",
       " 'promise': 676,\n",
       " 'drive': 260,\n",
       " 'test': 890,\n",
       " 'asian': 54,\n",
       " 'state': 835,\n",
       " 'enjoy': 280,\n",
       " 'chinese': 149,\n",
       " 'theater': 894,\n",
       " 'official': 598,\n",
       " 'teen': 885,\n",
       " 'audience': 60,\n",
       " 'nomination': 586,\n",
       " 'girlfriend': 361,\n",
       " 'mccain': 531,\n",
       " 'word': 986,\n",
       " 'murder': 566,\n",
       " 'true': 926,\n",
       " 'crime': 205,\n",
       " 'apartment': 44,\n",
       " 'relationship': 714,\n",
       " 'thousand': 900,\n",
       " 'jeff': 448,\n",
       " 'might': 545,\n",
       " 'today': 907,\n",
       " 'trip': 924,\n",
       " 'five': 328,\n",
       " 'personal': 629,\n",
       " 'plane': 638,\n",
       " 'cook': 192,\n",
       " 'realize': 702,\n",
       " 'small': 813,\n",
       " 'town': 914,\n",
       " 'survivor': 868,\n",
       " 'grandma': 372,\n",
       " 'conversation': 191,\n",
       " 'lgbt': 491,\n",
       " 'cost': 194,\n",
       " 'killer': 466,\n",
       " 'completely': 180,\n",
       " 'probe': 671,\n",
       " 'introduces': 440,\n",
       " 'hero': 399,\n",
       " 'talk': 877,\n",
       " 'important': 430,\n",
       " 'keep': 461,\n",
       " 'safe': 759,\n",
       " 'twitter': 932,\n",
       " 'candidate': 121,\n",
       " 'third': 898,\n",
       " 'steve': 840,\n",
       " 'beat': 75,\n",
       " 'administration': 12,\n",
       " 'adorable': 15,\n",
       " 'sexual': 789,\n",
       " 'harassment': 387,\n",
       " 'gold': 365,\n",
       " 'card': 123,\n",
       " 'network': 580,\n",
       " 'university': 935,\n",
       " 'hell': 397,\n",
       " 'afghanistan': 17,\n",
       " 'forget': 338,\n",
       " 'channel': 140,\n",
       " 'jesus': 451,\n",
       " 'border': 103,\n",
       " 'wall': 955,\n",
       " 'rich': 739,\n",
       " 'grader': 371,\n",
       " 'governor': 370,\n",
       " 'side': 804,\n",
       " 'blame': 93,\n",
       " 'violence': 947,\n",
       " 'democrat': 234,\n",
       " 'wild': 977,\n",
       " 'journalist': 457,\n",
       " 'agree': 19,\n",
       " 'attend': 59,\n",
       " 'stand': 832,\n",
       " 'response': 730,\n",
       " 'birth': 90,\n",
       " 'food': 333,\n",
       " 'huffpost': 419,\n",
       " 'kerry': 463,\n",
       " 'israel': 445,\n",
       " 'picture': 633,\n",
       " 'policy': 646,\n",
       " 'living': 503,\n",
       " 'wait': 952,\n",
       " 'recall': 705,\n",
       " 'read': 698,\n",
       " 'iowa': 442,\n",
       " 'executive': 294,\n",
       " 'success': 857,\n",
       " 'wake': 953,\n",
       " 'civil': 157,\n",
       " 'museum': 567,\n",
       " 'ahead': 20,\n",
       " 'congressional': 184,\n",
       " 'agent': 18,\n",
       " 'dark': 215,\n",
       " 'ring': 742,\n",
       " 'among': 34,\n",
       " 'many': 520,\n",
       " 'threaten': 902,\n",
       " 'sign': 805,\n",
       " 'stress': 850,\n",
       " 'concern': 181,\n",
       " 'politics': 648,\n",
       " 'decide': 227,\n",
       " 'general': 355,\n",
       " 'also': 28,\n",
       " 'reform': 710,\n",
       " 'confirm': 182,\n",
       " 'draw': 256,\n",
       " 'marijuana': 522,\n",
       " 'king': 468,\n",
       " 'owner': 606,\n",
       " 'russian': 757,\n",
       " 'tweet': 931,\n",
       " 'stage': 831,\n",
       " 'likely': 496,\n",
       " 'pretty': 663,\n",
       " 'quietly': 690,\n",
       " 'east': 267,\n",
       " 'ball': 67,\n",
       " 'sleep': 812,\n",
       " 'cool': 193,\n",
       " 'hundred': 422,\n",
       " 'sean': 770,\n",
       " 'iran': 443,\n",
       " 'data': 216,\n",
       " 'image': 427,\n",
       " 'product': 673,\n",
       " 'less': 487,\n",
       " 'disney': 247,\n",
       " 'elect': 273,\n",
       " 'commercial': 175,\n",
       " 'unveils': 937,\n",
       " 'nice': 584,\n",
       " 'mental': 539,\n",
       " 'country': 196,\n",
       " 'terrible': 888,\n",
       " 'ride': 740,\n",
       " 'something': 816,\n",
       " 'weekend': 967,\n",
       " 'accidentally': 3,\n",
       " 'nothing': 590,\n",
       " 'conservative': 186,\n",
       " 'blast': 94,\n",
       " 'admits': 14,\n",
       " 'suspect': 869,\n",
       " 'fill': 320,\n",
       " 'event': 287,\n",
       " 'dozen': 254,\n",
       " 'announces': 38,\n",
       " 'tear': 883,\n",
       " 'grow': 377,\n",
       " 'horse': 413,\n",
       " 'demand': 233,\n",
       " 'action': 7,\n",
       " 'director': 245,\n",
       " 'proud': 680,\n",
       " 'south': 821,\n",
       " 'together': 909,\n",
       " 'reason': 704,\n",
       " 'biden': 86,\n",
       " 'sell': 781,\n",
       " 'shirt': 793,\n",
       " 'person': 628,\n",
       " 'link': 498,\n",
       " 'host': 415,\n",
       " 'camp': 117,\n",
       " 'stay': 836,\n",
       " 'crack': 202,\n",
       " 'half': 381,\n",
       " 'dress': 258,\n",
       " 'tech': 884,\n",
       " 'immigration': 429,\n",
       " 'someone': 815,\n",
       " 'train': 918,\n",
       " 'wedding': 965,\n",
       " 'seek': 778,\n",
       " 'block': 95,\n",
       " 'welcome': 970,\n",
       " 'jimmy': 452,\n",
       " 'shake': 790,\n",
       " 'harry': 389,\n",
       " 'penny': 622,\n",
       " 'husband': 425,\n",
       " 'term': 887,\n",
       " 'benefit': 83,\n",
       " 'expert': 297,\n",
       " 'expect': 295,\n",
       " 'mind': 549,\n",
       " 'battle': 72,\n",
       " 'spot': 828,\n",
       " 'toddler': 908,\n",
       " 'ohio': 599,\n",
       " 'terrify': 889,\n",
       " 'theme': 895,\n",
       " 'board': 99,\n",
       " 'close': 165,\n",
       " 'turkey': 929,\n",
       " 'deep': 230,\n",
       " 'reporter': 725,\n",
       " 'harvey': 390,\n",
       " 'form': 339,\n",
       " 'majority': 516,\n",
       " 'jones': 456,\n",
       " 'animal': 35,\n",
       " 'online': 601,\n",
       " 'street': 849,\n",
       " 'vacation': 941,\n",
       " 'winter': 981,\n",
       " 'search': 771,\n",
       " 'attempt': 58,\n",
       " 'pound': 655,\n",
       " 'pack': 607,\n",
       " 'activist': 8,\n",
       " 'magazine': 514,\n",
       " 'prince': 667,\n",
       " 'defense': 232,\n",
       " 'historical': 404,\n",
       " 'archive': 49,\n",
       " 'labor': 471,\n",
       " 'develop': 242,\n",
       " 'federal': 313,\n",
       " 'share': 792,\n",
       " 'chance': 138,\n",
       " 'table': 875,\n",
       " 'mexican': 541,\n",
       " 'energy': 279,\n",
       " 'slam': 811,\n",
       " 'citizen': 155,\n",
       " 'user': 940,\n",
       " 'palestinian': 608,\n",
       " 'olympic': 600,\n",
       " 'hilarious': 401,\n",
       " 'bird': 89,\n",
       " 'introduce': 439,\n",
       " 'band': 68,\n",
       " 'pregnant': 659,\n",
       " 'pizza': 635,\n",
       " 'fund': 351,\n",
       " 'martin': 526,\n",
       " 'resident': 728,\n",
       " 'movement': 562,\n",
       " 'mueller': 565,\n",
       " 'anyone': 42,\n",
       " 'pull': 683,\n",
       " 'hospital': 414,\n",
       " 'cross': 208,\n",
       " 'reach': 697,\n",
       " 'committee': 176,\n",
       " 'ferguson': 316,\n",
       " 'apologize': 45,\n",
       " 'early': 265,\n",
       " 'press': 662,\n",
       " 'foreign': 337,\n",
       " 'stephen': 839,\n",
       " 'weapon': 962,\n",
       " 'industry': 433,\n",
       " 'popular': 652,\n",
       " 'bank': 69,\n",
       " 'shape': 791,\n",
       " 'evidence': 292,\n",
       " 'treat': 922,\n",
       " 'amazon': 30,\n",
       " 'lady': 472,\n",
       " 'chris': 151,\n",
       " 'crowd': 209,\n",
       " 'thought': 899,\n",
       " 'interest': 436,\n",
       " 'rally': 694,\n",
       " 'trans': 919,\n",
       " 'critic': 207,\n",
       " 'hire': 403,\n",
       " 'totally': 910,\n",
       " 'sale': 760,\n",
       " 'soon': 818,\n",
       " 'colbert': 168,\n",
       " 'neighbor': 578,\n",
       " 'heart': 396,\n",
       " 'carpet': 127,\n",
       " 'design': 238,\n",
       " 'paper': 610,\n",
       " 'view': 946,\n",
       " 'failure': 303,\n",
       " 'apparently': 46,\n",
       " 'skin': 810,\n",
       " 'protester': 679,\n",
       " 'glass': 363,\n",
       " 'hall': 382,\n",
       " 'pregnancy': 658,\n",
       " 'reveals': 737,\n",
       " 'royal': 752,\n",
       " 'increase': 431,\n",
       " 'cold': 169,\n",
       " 'sweet': 870,\n",
       " 'daily': 213,\n",
       " 'stick': 841,\n",
       " 'decade': 226,\n",
       " 'remain': 717,\n",
       " 'chicken': 145,\n",
       " 'suicide': 859,\n",
       " 'roll': 749,\n",
       " 'dinner': 244,\n",
       " 'sound': 819,\n",
       " 'replace': 722,\n",
       " 'suit': 860,\n",
       " 'result': 733,\n",
       " 'truth': 928,\n",
       " 'winner': 980,\n",
       " 'hair': 380,\n",
       " 'budget': 110,\n",
       " 'effort': 272,\n",
       " 'escape': 285,\n",
       " 'double': 253,\n",
       " 'sandwich': 762,\n",
       " 'funny': 352,\n",
       " 'episode': 283,\n",
       " 'stuff': 855,\n",
       " 'senior': 785,\n",
       " 'brown': 109,\n",
       " 'rate': 696,\n",
       " 'center': 135,\n",
       " 'accord': 4,\n",
       " 'rape': 695,\n",
       " 'medical': 534,\n",
       " 'putin': 686,\n",
       " 'seat': 773}"
      ]
     },
     "execution_count": 62,
     "metadata": {},
     "output_type": "execute_result"
    }
   ],
   "source": [
    "cou_vec.vocabulary_"
   ]
  },
  {
   "cell_type": "markdown",
   "metadata": {
    "id": "0wOIFDYURuJr"
   },
   "source": [
    "## 7. Modelar\n",
    "\n",
    "Ahora sí estamos listos para usar todo nuestro conocimiento de modelos en este set de datos. Tengamos en cuenta que, dependiendo el número de palabras (features) que hayamos elegido, los modelos pueden tardar un rato en entrenarse.\n",
    "\n",
    "a. Primero, como siempre, separamos en test y train."
   ]
  },
  {
   "cell_type": "code",
   "execution_count": 63,
   "metadata": {},
   "outputs": [
    {
     "name": "stdout",
     "output_type": "stream",
     "text": [
      "  (0, 340)\t1\n",
      "  (0, 844)\t1\n",
      "  (0, 775)\t1\n",
      "  (0, 92)\t1\n",
      "  (1, 131)\t1\n",
      "  (1, 647)\t1\n",
      "  (1, 367)\t1\n",
      "  (2, 834)\t1\n",
      "  (2, 311)\t1\n",
      "  (2, 787)\t1\n",
      "  (2, 896)\t1\n",
      "  (3, 956)\t1\n",
      "  (3, 976)\t1\n",
      "  (3, 500)\t1\n",
      "  (3, 172)\t1\n",
      "  (3, 426)\t1\n",
      "  (4, 982)\t1\n",
      "  (4, 386)\t1\n",
      "  (4, 91)\t1\n",
      "  (5, 989)\t1\n",
      "  (5, 984)\t1\n",
      "  (6, 129)\t1\n",
      "  (7, 784)\t1\n",
      "  (7, 766)\t1\n",
      "  (7, 987)\t1\n",
      "  :\t:\n",
      "  (26699, 347)\t1\n",
      "  (26699, 4)\t1\n",
      "  (26700, 172)\t1\n",
      "  (26701, 758)\t1\n",
      "  (26701, 620)\t1\n",
      "  (26701, 288)\t1\n",
      "  (26702, 32)\t1\n",
      "  (26702, 306)\t1\n",
      "  (26702, 319)\t1\n",
      "  (26702, 110)\t1\n",
      "  (26703, 153)\t1\n",
      "  (26703, 651)\t1\n",
      "  (26703, 343)\t1\n",
      "  (26703, 963)\t1\n",
      "  (26704, 32)\t1\n",
      "  (26704, 345)\t1\n",
      "  (26704, 305)\t1\n",
      "  (26704, 648)\t1\n",
      "  (26705, 31)\t1\n",
      "  (26705, 85)\t1\n",
      "  (26706, 593)\t1\n",
      "  (26707, 693)\t1\n",
      "  (26707, 864)\t1\n",
      "  (26707, 878)\t1\n",
      "  (26708, 359)\t1\n"
     ]
    }
   ],
   "source": [
    "print(matriz_titulos)"
   ]
  },
  {
   "cell_type": "code",
   "execution_count": 64,
   "metadata": {
    "scrolled": true
   },
   "outputs": [
    {
     "data": {
      "text/html": [
       "<div>\n",
       "<style scoped>\n",
       "    .dataframe tbody tr th:only-of-type {\n",
       "        vertical-align: middle;\n",
       "    }\n",
       "\n",
       "    .dataframe tbody tr th {\n",
       "        vertical-align: top;\n",
       "    }\n",
       "\n",
       "    .dataframe thead th {\n",
       "        text-align: right;\n",
       "    }\n",
       "</style>\n",
       "<table border=\"1\" class=\"dataframe\">\n",
       "  <thead>\n",
       "    <tr style=\"text-align: right;\">\n",
       "      <th></th>\n",
       "      <th>abortion</th>\n",
       "      <th>abuse</th>\n",
       "      <th>accept</th>\n",
       "      <th>accidentally</th>\n",
       "      <th>accord</th>\n",
       "      <th>accuse</th>\n",
       "      <th>across</th>\n",
       "      <th>action</th>\n",
       "      <th>activist</th>\n",
       "      <th>actor</th>\n",
       "      <th>...</th>\n",
       "      <th>worry</th>\n",
       "      <th>worth</th>\n",
       "      <th>would</th>\n",
       "      <th>write</th>\n",
       "      <th>writer</th>\n",
       "      <th>wrong</th>\n",
       "      <th>year</th>\n",
       "      <th>york</th>\n",
       "      <th>young</th>\n",
       "      <th>youth</th>\n",
       "    </tr>\n",
       "  </thead>\n",
       "  <tbody>\n",
       "    <tr>\n",
       "      <th>0</th>\n",
       "      <td>0</td>\n",
       "      <td>0</td>\n",
       "      <td>0</td>\n",
       "      <td>0</td>\n",
       "      <td>0</td>\n",
       "      <td>0</td>\n",
       "      <td>0</td>\n",
       "      <td>0</td>\n",
       "      <td>0</td>\n",
       "      <td>0</td>\n",
       "      <td>...</td>\n",
       "      <td>0</td>\n",
       "      <td>0</td>\n",
       "      <td>0</td>\n",
       "      <td>0</td>\n",
       "      <td>0</td>\n",
       "      <td>0</td>\n",
       "      <td>0</td>\n",
       "      <td>0</td>\n",
       "      <td>0</td>\n",
       "      <td>0</td>\n",
       "    </tr>\n",
       "    <tr>\n",
       "      <th>1</th>\n",
       "      <td>0</td>\n",
       "      <td>0</td>\n",
       "      <td>0</td>\n",
       "      <td>0</td>\n",
       "      <td>0</td>\n",
       "      <td>0</td>\n",
       "      <td>0</td>\n",
       "      <td>0</td>\n",
       "      <td>0</td>\n",
       "      <td>0</td>\n",
       "      <td>...</td>\n",
       "      <td>0</td>\n",
       "      <td>0</td>\n",
       "      <td>0</td>\n",
       "      <td>0</td>\n",
       "      <td>0</td>\n",
       "      <td>0</td>\n",
       "      <td>0</td>\n",
       "      <td>0</td>\n",
       "      <td>0</td>\n",
       "      <td>0</td>\n",
       "    </tr>\n",
       "    <tr>\n",
       "      <th>2</th>\n",
       "      <td>0</td>\n",
       "      <td>0</td>\n",
       "      <td>0</td>\n",
       "      <td>0</td>\n",
       "      <td>0</td>\n",
       "      <td>0</td>\n",
       "      <td>0</td>\n",
       "      <td>0</td>\n",
       "      <td>0</td>\n",
       "      <td>0</td>\n",
       "      <td>...</td>\n",
       "      <td>0</td>\n",
       "      <td>0</td>\n",
       "      <td>0</td>\n",
       "      <td>0</td>\n",
       "      <td>0</td>\n",
       "      <td>0</td>\n",
       "      <td>0</td>\n",
       "      <td>0</td>\n",
       "      <td>0</td>\n",
       "      <td>0</td>\n",
       "    </tr>\n",
       "    <tr>\n",
       "      <th>3</th>\n",
       "      <td>0</td>\n",
       "      <td>0</td>\n",
       "      <td>0</td>\n",
       "      <td>0</td>\n",
       "      <td>0</td>\n",
       "      <td>0</td>\n",
       "      <td>0</td>\n",
       "      <td>0</td>\n",
       "      <td>0</td>\n",
       "      <td>0</td>\n",
       "      <td>...</td>\n",
       "      <td>0</td>\n",
       "      <td>0</td>\n",
       "      <td>0</td>\n",
       "      <td>0</td>\n",
       "      <td>0</td>\n",
       "      <td>0</td>\n",
       "      <td>0</td>\n",
       "      <td>0</td>\n",
       "      <td>0</td>\n",
       "      <td>0</td>\n",
       "    </tr>\n",
       "    <tr>\n",
       "      <th>4</th>\n",
       "      <td>0</td>\n",
       "      <td>0</td>\n",
       "      <td>0</td>\n",
       "      <td>0</td>\n",
       "      <td>0</td>\n",
       "      <td>0</td>\n",
       "      <td>0</td>\n",
       "      <td>0</td>\n",
       "      <td>0</td>\n",
       "      <td>0</td>\n",
       "      <td>...</td>\n",
       "      <td>0</td>\n",
       "      <td>0</td>\n",
       "      <td>0</td>\n",
       "      <td>0</td>\n",
       "      <td>0</td>\n",
       "      <td>0</td>\n",
       "      <td>0</td>\n",
       "      <td>0</td>\n",
       "      <td>0</td>\n",
       "      <td>0</td>\n",
       "    </tr>\n",
       "  </tbody>\n",
       "</table>\n",
       "<p>5 rows × 1000 columns</p>\n",
       "</div>"
      ],
      "text/plain": [
       "   abortion  abuse  accept  accidentally  accord  accuse  across  action  \\\n",
       "0         0      0       0             0       0       0       0       0   \n",
       "1         0      0       0             0       0       0       0       0   \n",
       "2         0      0       0             0       0       0       0       0   \n",
       "3         0      0       0             0       0       0       0       0   \n",
       "4         0      0       0             0       0       0       0       0   \n",
       "\n",
       "   activist  actor  ...  worry  worth  would  write  writer  wrong  year  \\\n",
       "0         0      0  ...      0      0      0      0       0      0     0   \n",
       "1         0      0  ...      0      0      0      0       0      0     0   \n",
       "2         0      0  ...      0      0      0      0       0      0     0   \n",
       "3         0      0  ...      0      0      0      0       0      0     0   \n",
       "4         0      0  ...      0      0      0      0       0      0     0   \n",
       "\n",
       "   york  young  youth  \n",
       "0     0      0      0  \n",
       "1     0      0      0  \n",
       "2     0      0      0  \n",
       "3     0      0      0  \n",
       "4     0      0      0  \n",
       "\n",
       "[5 rows x 1000 columns]"
      ]
     },
     "execution_count": 64,
     "metadata": {},
     "output_type": "execute_result"
    }
   ],
   "source": [
    "pd.DataFrame(matriz_titulos.toarray(), columns=all_words).head()"
   ]
  },
  {
   "cell_type": "code",
   "execution_count": 65,
   "metadata": {
    "id": "rAZrBuLORuJr"
   },
   "outputs": [],
   "source": [
    "x = matriz_titulos.toarray()\n",
    "y = dataset_lemm['is_sarcastic']\n",
    "\n",
    "from sklearn.model_selection import train_test_split\n",
    "xtrain, xtest, ytrain, ytest = train_test_split(x, y, test_size=0.2,random_state=42,stratify=y)"
   ]
  },
  {
   "cell_type": "markdown",
   "metadata": {
    "id": "EZ3ATxWTRuJr"
   },
   "source": [
    "Tambien definimos una función que nos permite plotear los resultados en una matriz de confusión."
   ]
  },
  {
   "cell_type": "code",
   "execution_count": 66,
   "metadata": {
    "id": "xZms0qAMRuJr"
   },
   "outputs": [],
   "source": [
    "from sklearn.metrics import confusion_matrix\n",
    "import seaborn as sns\n",
    "\n",
    "def confusion(ytest,y_pred):\n",
    "    names=[\"No Sarcastico\",\"Sarcastico\"]\n",
    "    cm=confusion_matrix(ytest,y_pred)\n",
    "    f,ax=plt.subplots(figsize=(5,5))\n",
    "    sns.heatmap(cm,annot=True,linewidth=.5,linecolor=\"r\",fmt=\".0f\",ax=ax)\n",
    "    plt.xlabel(\"y_pred\")\n",
    "    plt.ylabel(\"y_true\")\n",
    "    ax.set_xticklabels(names)\n",
    "    ax.set_yticklabels(names)\n",
    "    plt.show()\n",
    "\n",
    "    return"
   ]
  },
  {
   "cell_type": "code",
   "execution_count": 67,
   "metadata": {},
   "outputs": [
    {
     "data": {
      "image/png": "[encoded data removed]",
      "text/plain": [
       "<Figure size 500x500 with 2 Axes>"
      ]
     },
     "metadata": {},
     "output_type": "display_data"
    }
   ],
   "source": [
    "confusion(ytest,ytest) # esto es solo un ejemplo"
   ]
  },
  {
   "cell_type": "markdown",
   "metadata": {
    "id": "ldsVaiDpRuJr"
   },
   "source": [
    "### Naive Bayes\n",
    "a. Empecemos por un Naive Bayes para tener un benchmark de referencia para el accuracy."
   ]
  },
  {
   "cell_type": "code",
   "execution_count": 68,
   "metadata": {
    "id": "rNmNNEhISi2g"
   },
   "outputs": [
    {
     "data": {
      "text/html": [
       "<style>#sk-container-id-1 {color: black;}#sk-container-id-1 pre{padding: 0;}#sk-container-id-1 div.sk-toggleable {background-color: white;}#sk-container-id-1 label.sk-toggleable__label {cursor: pointer;display: block;width: 100%;margin-bottom: 0;padding: 0.3em;box-sizing: border-box;text-align: center;}#sk-container-id-1 label.sk-toggleable__label-arrow:before {content: \"▸\";float: left;margin-right: 0.25em;color: #696969;}#sk-container-id-1 label.sk-toggleable__label-arrow:hover:before {color: black;}#sk-container-id-1 div.sk-estimator:hover label.sk-toggleable__label-arrow:before {color: black;}#sk-container-id-1 div.sk-toggleable__content {max-height: 0;max-width: 0;overflow: hidden;text-align: left;background-color: #f0f8ff;}#sk-container-id-1 div.sk-toggleable__content pre {margin: 0.2em;color: black;border-radius: 0.25em;background-color: #f0f8ff;}#sk-container-id-1 input.sk-toggleable__control:checked~div.sk-toggleable__content {max-height: 200px;max-width: 100%;overflow: auto;}#sk-container-id-1 input.sk-toggleable__control:checked~label.sk-toggleable__label-arrow:before {content: \"▾\";}#sk-container-id-1 div.sk-estimator input.sk-toggleable__control:checked~label.sk-toggleable__label {background-color: #d4ebff;}#sk-container-id-1 div.sk-label input.sk-toggleable__control:checked~label.sk-toggleable__label {background-color: #d4ebff;}#sk-container-id-1 input.sk-hidden--visually {border: 0;clip: rect(1px 1px 1px 1px);clip: rect(1px, 1px, 1px, 1px);height: 1px;margin: -1px;overflow: hidden;padding: 0;position: absolute;width: 1px;}#sk-container-id-1 div.sk-estimator {font-family: monospace;background-color: #f0f8ff;border: 1px dotted black;border-radius: 0.25em;box-sizing: border-box;margin-bottom: 0.5em;}#sk-container-id-1 div.sk-estimator:hover {background-color: #d4ebff;}#sk-container-id-1 div.sk-parallel-item::after {content: \"\";width: 100%;border-bottom: 1px solid gray;flex-grow: 1;}#sk-container-id-1 div.sk-label:hover label.sk-toggleable__label {background-color: #d4ebff;}#sk-container-id-1 div.sk-serial::before {content: \"\";position: absolute;border-left: 1px solid gray;box-sizing: border-box;top: 0;bottom: 0;left: 50%;z-index: 0;}#sk-container-id-1 div.sk-serial {display: flex;flex-direction: column;align-items: center;background-color: white;padding-right: 0.2em;padding-left: 0.2em;position: relative;}#sk-container-id-1 div.sk-item {position: relative;z-index: 1;}#sk-container-id-1 div.sk-parallel {display: flex;align-items: stretch;justify-content: center;background-color: white;position: relative;}#sk-container-id-1 div.sk-item::before, #sk-container-id-1 div.sk-parallel-item::before {content: \"\";position: absolute;border-left: 1px solid gray;box-sizing: border-box;top: 0;bottom: 0;left: 50%;z-index: -1;}#sk-container-id-1 div.sk-parallel-item {display: flex;flex-direction: column;z-index: 1;position: relative;background-color: white;}#sk-container-id-1 div.sk-parallel-item:first-child::after {align-self: flex-end;width: 50%;}#sk-container-id-1 div.sk-parallel-item:last-child::after {align-self: flex-start;width: 50%;}#sk-container-id-1 div.sk-parallel-item:only-child::after {width: 0;}#sk-container-id-1 div.sk-dashed-wrapped {border: 1px dashed gray;margin: 0 0.4em 0.5em 0.4em;box-sizing: border-box;padding-bottom: 0.4em;background-color: white;}#sk-container-id-1 div.sk-label label {font-family: monospace;font-weight: bold;display: inline-block;line-height: 1.2em;}#sk-container-id-1 div.sk-label-container {text-align: center;}#sk-container-id-1 div.sk-container {/* jupyter's `normalize.less` sets `[hidden] { display: none; }` but bootstrap.min.css set `[hidden] { display: none !important; }` so we also need the `!important` here to be able to override the default hidden behavior on the sphinx rendered scikit-learn.org. See: https://github.com/scikit-learn/scikit-learn/issues/21755 */display: inline-block !important;position: relative;}#sk-container-id-1 div.sk-text-repr-fallback {display: none;}</style><div id=\"sk-container-id-1\" class=\"sk-top-container\"><div class=\"sk-text-repr-fallback\"><pre>GaussianNB()</pre><b>In a Jupyter environment, please rerun this cell to show the HTML representation or trust the notebook. <br />On GitHub, the HTML representation is unable to render, please try loading this page with nbviewer.org.</b></div><div class=\"sk-container\" hidden><div class=\"sk-item\"><div class=\"sk-estimator sk-toggleable\"><input class=\"sk-toggleable__control sk-hidden--visually\" id=\"sk-estimator-id-1\" type=\"checkbox\" checked><label for=\"sk-estimator-id-1\" class=\"sk-toggleable__label sk-toggleable__label-arrow\">GaussianNB</label><div class=\"sk-toggleable__content\"><pre>GaussianNB()</pre></div></div></div></div></div>"
      ],
      "text/plain": [
       "GaussianNB()"
      ]
     },
     "execution_count": 68,
     "metadata": {},
     "output_type": "execute_result"
    }
   ],
   "source": [
    "from sklearn.naive_bayes import GaussianNB\n",
    "nb = GaussianNB()\n",
    "nb.fit(xtrain, ytrain)"
   ]
  },
  {
   "cell_type": "code",
   "execution_count": 69,
   "metadata": {},
   "outputs": [],
   "source": [
    "yhat = nb.predict(xtest) # > 0.5"
   ]
  },
  {
   "cell_type": "markdown",
   "metadata": {
    "id": "pzqAQ-fyRuJr"
   },
   "source": [
    "b. Veamos cómo queda graficada la matriz de confusión:"
   ]
  },
  {
   "cell_type": "code",
   "execution_count": 70,
   "metadata": {
    "id": "pMUKZgWDSj4q"
   },
   "outputs": [
    {
     "data": {
      "image/png": "[encoded data removed]",
      "text/plain": [
       "<Figure size 500x500 with 2 Axes>"
      ]
     },
     "metadata": {},
     "output_type": "display_data"
    }
   ],
   "source": [
    "confusion(ytest, yhat)"
   ]
  },
  {
   "cell_type": "code",
   "execution_count": 71,
   "metadata": {},
   "outputs": [
    {
     "data": {
      "text/plain": [
       "0.6761512542119057"
      ]
     },
     "execution_count": 71,
     "metadata": {},
     "output_type": "execute_result"
    }
   ],
   "source": [
    "from sklearn.metrics import accuracy_score\n",
    "accuracy_score(ytest,yhat)"
   ]
  },
  {
   "cell_type": "markdown",
   "metadata": {
    "id": "q_e9GEjRRuJs"
   },
   "source": [
    "### Random Forest\n",
    "a. Veamos cómo funciona un random forest para predecir el sarcasmo de una nota en base a su titular."
   ]
  },
  {
   "cell_type": "code",
   "execution_count": 105,
   "metadata": {
    "id": "_iIbIm3tSlAz"
   },
   "outputs": [
    {
     "data": {
      "text/html": [
       "<style>#sk-container-id-5 {color: black;}#sk-container-id-5 pre{padding: 0;}#sk-container-id-5 div.sk-toggleable {background-color: white;}#sk-container-id-5 label.sk-toggleable__label {cursor: pointer;display: block;width: 100%;margin-bottom: 0;padding: 0.3em;box-sizing: border-box;text-align: center;}#sk-container-id-5 label.sk-toggleable__label-arrow:before {content: \"▸\";float: left;margin-right: 0.25em;color: #696969;}#sk-container-id-5 label.sk-toggleable__label-arrow:hover:before {color: black;}#sk-container-id-5 div.sk-estimator:hover label.sk-toggleable__label-arrow:before {color: black;}#sk-container-id-5 div.sk-toggleable__content {max-height: 0;max-width: 0;overflow: hidden;text-align: left;background-color: #f0f8ff;}#sk-container-id-5 div.sk-toggleable__content pre {margin: 0.2em;color: black;border-radius: 0.25em;background-color: #f0f8ff;}#sk-container-id-5 input.sk-toggleable__control:checked~div.sk-toggleable__content {max-height: 200px;max-width: 100%;overflow: auto;}#sk-container-id-5 input.sk-toggleable__control:checked~label.sk-toggleable__label-arrow:before {content: \"▾\";}#sk-container-id-5 div.sk-estimator input.sk-toggleable__control:checked~label.sk-toggleable__label {background-color: #d4ebff;}#sk-container-id-5 div.sk-label input.sk-toggleable__control:checked~label.sk-toggleable__label {background-color: #d4ebff;}#sk-container-id-5 input.sk-hidden--visually {border: 0;clip: rect(1px 1px 1px 1px);clip: rect(1px, 1px, 1px, 1px);height: 1px;margin: -1px;overflow: hidden;padding: 0;position: absolute;width: 1px;}#sk-container-id-5 div.sk-estimator {font-family: monospace;background-color: #f0f8ff;border: 1px dotted black;border-radius: 0.25em;box-sizing: border-box;margin-bottom: 0.5em;}#sk-container-id-5 div.sk-estimator:hover {background-color: #d4ebff;}#sk-container-id-5 div.sk-parallel-item::after {content: \"\";width: 100%;border-bottom: 1px solid gray;flex-grow: 1;}#sk-container-id-5 div.sk-label:hover label.sk-toggleable__label {background-color: #d4ebff;}#sk-container-id-5 div.sk-serial::before {content: \"\";position: absolute;border-left: 1px solid gray;box-sizing: border-box;top: 0;bottom: 0;left: 50%;z-index: 0;}#sk-container-id-5 div.sk-serial {display: flex;flex-direction: column;align-items: center;background-color: white;padding-right: 0.2em;padding-left: 0.2em;position: relative;}#sk-container-id-5 div.sk-item {position: relative;z-index: 1;}#sk-container-id-5 div.sk-parallel {display: flex;align-items: stretch;justify-content: center;background-color: white;position: relative;}#sk-container-id-5 div.sk-item::before, #sk-container-id-5 div.sk-parallel-item::before {content: \"\";position: absolute;border-left: 1px solid gray;box-sizing: border-box;top: 0;bottom: 0;left: 50%;z-index: -1;}#sk-container-id-5 div.sk-parallel-item {display: flex;flex-direction: column;z-index: 1;position: relative;background-color: white;}#sk-container-id-5 div.sk-parallel-item:first-child::after {align-self: flex-end;width: 50%;}#sk-container-id-5 div.sk-parallel-item:last-child::after {align-self: flex-start;width: 50%;}#sk-container-id-5 div.sk-parallel-item:only-child::after {width: 0;}#sk-container-id-5 div.sk-dashed-wrapped {border: 1px dashed gray;margin: 0 0.4em 0.5em 0.4em;box-sizing: border-box;padding-bottom: 0.4em;background-color: white;}#sk-container-id-5 div.sk-label label {font-family: monospace;font-weight: bold;display: inline-block;line-height: 1.2em;}#sk-container-id-5 div.sk-label-container {text-align: center;}#sk-container-id-5 div.sk-container {/* jupyter's `normalize.less` sets `[hidden] { display: none; }` but bootstrap.min.css set `[hidden] { display: none !important; }` so we also need the `!important` here to be able to override the default hidden behavior on the sphinx rendered scikit-learn.org. See: https://github.com/scikit-learn/scikit-learn/issues/21755 */display: inline-block !important;position: relative;}#sk-container-id-5 div.sk-text-repr-fallback {display: none;}</style><div id=\"sk-container-id-5\" class=\"sk-top-container\"><div class=\"sk-text-repr-fallback\"><pre>RandomForestClassifier(max_depth=20, min_samples_split=20)</pre><b>In a Jupyter environment, please rerun this cell to show the HTML representation or trust the notebook. <br />On GitHub, the HTML representation is unable to render, please try loading this page with nbviewer.org.</b></div><div class=\"sk-container\" hidden><div class=\"sk-item\"><div class=\"sk-estimator sk-toggleable\"><input class=\"sk-toggleable__control sk-hidden--visually\" id=\"sk-estimator-id-5\" type=\"checkbox\" checked><label for=\"sk-estimator-id-5\" class=\"sk-toggleable__label sk-toggleable__label-arrow\">RandomForestClassifier</label><div class=\"sk-toggleable__content\"><pre>RandomForestClassifier(max_depth=20, min_samples_split=20)</pre></div></div></div></div></div>"
      ],
      "text/plain": [
       "RandomForestClassifier(max_depth=20, min_samples_split=20)"
      ]
     },
     "execution_count": 105,
     "metadata": {},
     "output_type": "execute_result"
    }
   ],
   "source": [
    "from sklearn.ensemble import RandomForestClassifier\n",
    "rf=RandomForestClassifier(max_depth=20,min_samples_split=20)\n",
    "rf.fit(xtrain,ytrain)\n"
   ]
  },
  {
   "cell_type": "code",
   "execution_count": 106,
   "metadata": {},
   "outputs": [],
   "source": [
    "yhat = rf.predict(xtest)"
   ]
  },
  {
   "cell_type": "code",
   "execution_count": 107,
   "metadata": {},
   "outputs": [
    {
     "data": {
      "text/plain": [
       "0.6666042680643953"
      ]
     },
     "execution_count": 107,
     "metadata": {},
     "output_type": "execute_result"
    }
   ],
   "source": [
    "accuracy_score(ytest,yhat)"
   ]
  },
  {
   "cell_type": "markdown",
   "metadata": {
    "id": "47NQGawURuJs"
   },
   "source": [
    "b. Grafica la matriz de confusión:"
   ]
  },
  {
   "cell_type": "code",
   "execution_count": 108,
   "metadata": {
    "id": "2WgaeUDfSmG0"
   },
   "outputs": [
    {
     "data": {
      "image/png": "[encoded data removed]",
      "text/plain": [
       "<Figure size 500x500 with 2 Axes>"
      ]
     },
     "metadata": {},
     "output_type": "display_data"
    }
   ],
   "source": [
    "confusion(ytest, yhat)"
   ]
  },
  {
   "cell_type": "markdown",
   "metadata": {
    "id": "vYS1JxWYRuJs"
   },
   "source": [
    "c. Habíamos dicho que algo muy bueno de Random Forest era poder preguntarle por la importancia de los features que uso para clasificar. Veamos en este caso cuales son las palabras que mayormente determinan el sarcasmo de una nota para este clasificador."
   ]
  },
  {
   "cell_type": "code",
   "execution_count": 109,
   "metadata": {
    "id": "znR3h5SeSnvh"
   },
   "outputs": [
    {
     "name": "stdout",
     "output_type": "stream",
     "text": [
      "         feature importance\n",
      "50          area   0.083888\n",
      "920  transgender   0.076721\n",
      "721       repeal   0.042198\n",
      "576       nearly   0.041718\n",
      "252         door   0.041358\n",
      "251       donald   0.030562\n",
      "509         loss   0.023514\n",
      "846        story    0.02344\n",
      "351         fund   0.022068\n",
      "445       israel   0.021467\n"
     ]
    }
   ],
   "source": [
    "importances=pd.DataFrame([all_words,rf.feature_importances_], index=[\"feature\",\"importance\"]).T\n",
    "print(importances.sort_values(\"importance\", ascending = False).head(10))"
   ]
  },
  {
   "cell_type": "markdown",
   "metadata": {
    "id": "9daN2pLwRuJt"
   },
   "source": [
    "## 7. Explora las posibilidades\n",
    "\n",
    "Algunas sugerencias para explorar son las siguientes:\n",
    "\n",
    "1. Prueba con Stemmizar en vez de lemmantizar\n",
    "1. Cambia el numero de features que esta tomando.\n",
    "1. Incluye los 2-gramas. ¿Qué era eso?\n"
   ]
  },
  {
   "cell_type": "code",
   "execution_count": 82,
   "metadata": {
    "id": "iEUyPnoTRuJt"
   },
   "outputs": [],
   "source": [
    "def normalizar_y_stemmizar(titular):\n",
    "    # Vamos a reemplzar los caracteres que no sean letras por espacios\n",
    "    titular = re.sub(\"[^a-zA-Z]\",\" \",str(titular))\n",
    "    # Pasamos todo a minúsculas\n",
    "    titular = titular.lower()\n",
    "    titular = nltk.tokenize.RegexpTokenizer(\"[\\w]+\").tokenize(titular)\n",
    "    # Eliminamos las palabras de menos de 3 letras\n",
    "    titular = [palabra for palabra in titular if len(palabra)>3]\n",
    "    # Sacamos las Stopwords\n",
    "    titular = [word for word in titular if word not in stopwords]\n",
    "    ## Hasta aqui Normalizamos, ahora a stemmizar\n",
    "    \n",
    "    # Aplicamos la funcion para buscar la raiz de las palabras\n",
    "    titular=[stemmer.stem(palabra) for palabra in titular]\n",
    "    # Por ultimo volvemos a unir el titular\n",
    "    titular=\" \".join(titular)\n",
    "    return titular"
   ]
  },
  {
   "cell_type": "code",
   "execution_count": 84,
   "metadata": {},
   "outputs": [
    {
     "data": {
      "text/html": [
       "<div>\n",
       "<style scoped>\n",
       "    .dataframe tbody tr th:only-of-type {\n",
       "        vertical-align: middle;\n",
       "    }\n",
       "\n",
       "    .dataframe tbody tr th {\n",
       "        vertical-align: top;\n",
       "    }\n",
       "\n",
       "    .dataframe thead th {\n",
       "        text-align: right;\n",
       "    }\n",
       "</style>\n",
       "<table border=\"1\" class=\"dataframe\">\n",
       "  <thead>\n",
       "    <tr style=\"text-align: right;\">\n",
       "      <th></th>\n",
       "      <th>headline</th>\n",
       "      <th>is_sarcastic</th>\n",
       "      <th>titular_lemm</th>\n",
       "    </tr>\n",
       "  </thead>\n",
       "  <tbody>\n",
       "    <tr>\n",
       "      <th>0</th>\n",
       "      <td>former versace store clerk sues over secret 'b...</td>\n",
       "      <td>0</td>\n",
       "      <td>former versace store clerk secret black code m...</td>\n",
       "    </tr>\n",
       "    <tr>\n",
       "      <th>1</th>\n",
       "      <td>the 'roseanne' revival catches up to our thorn...</td>\n",
       "      <td>0</td>\n",
       "      <td>roseanne revival catch thorny political mood good</td>\n",
       "    </tr>\n",
       "    <tr>\n",
       "      <th>2</th>\n",
       "      <td>mom starting to fear son's web series closest ...</td>\n",
       "      <td>1</td>\n",
       "      <td>start fear series closest thing grandchild</td>\n",
       "    </tr>\n",
       "    <tr>\n",
       "      <th>3</th>\n",
       "      <td>boehner just wants wife to listen, not come up...</td>\n",
       "      <td>1</td>\n",
       "      <td>boehner want wife listen come alternative debt...</td>\n",
       "    </tr>\n",
       "    <tr>\n",
       "      <th>4</th>\n",
       "      <td>j.k. rowling wishes snape happy birthday in th...</td>\n",
       "      <td>0</td>\n",
       "      <td>rowling wish snape happy birthday magical</td>\n",
       "    </tr>\n",
       "  </tbody>\n",
       "</table>\n",
       "</div>"
      ],
      "text/plain": [
       "                                            headline  is_sarcastic  \\\n",
       "0  former versace store clerk sues over secret 'b...             0   \n",
       "1  the 'roseanne' revival catches up to our thorn...             0   \n",
       "2  mom starting to fear son's web series closest ...             1   \n",
       "3  boehner just wants wife to listen, not come up...             1   \n",
       "4  j.k. rowling wishes snape happy birthday in th...             0   \n",
       "\n",
       "                                        titular_lemm  \n",
       "0  former versace store clerk secret black code m...  \n",
       "1  roseanne revival catch thorny political mood good  \n",
       "2         start fear series closest thing grandchild  \n",
       "3  boehner want wife listen come alternative debt...  \n",
       "4          rowling wish snape happy birthday magical  "
      ]
     },
     "execution_count": 84,
     "metadata": {},
     "output_type": "execute_result"
    }
   ],
   "source": [
    "dataset.head()"
   ]
  },
  {
   "cell_type": "code",
   "execution_count": 87,
   "metadata": {},
   "outputs": [],
   "source": [
    "dataset['titular_stem']=dataset.headline.apply(normalizar_y_stemmizar)"
   ]
  },
  {
   "cell_type": "code",
   "execution_count": 95,
   "metadata": {},
   "outputs": [],
   "source": [
    "cou_vec = CountVectorizer(max_features=1000, max_df=0.9,ngram_range=(1, 2))"
   ]
  },
  {
   "cell_type": "code",
   "execution_count": 96,
   "metadata": {},
   "outputs": [],
   "source": [
    "X=cou_vec.fit_transform(dataset['titular_stem'])"
   ]
  },
  {
   "cell_type": "code",
   "execution_count": 110,
   "metadata": {},
   "outputs": [
    {
     "ename": "AttributeError",
     "evalue": "'numpy.ndarray' object has no attribute 'toarray'",
     "output_type": "error",
     "traceback": [
      "\u001b[1;31m---------------------------------------------------------------------------\u001b[0m",
      "\u001b[1;31mAttributeError\u001b[0m                            Traceback (most recent call last)",
      "Cell \u001b[1;32mIn[110], line 1\u001b[0m\n\u001b[1;32m----> 1\u001b[0m X \u001b[38;5;241m=\u001b[39m \u001b[43mX\u001b[49m\u001b[38;5;241;43m.\u001b[39;49m\u001b[43mtoarray\u001b[49m()\n\u001b[0;32m      2\u001b[0m y \u001b[38;5;241m=\u001b[39m dataset_lemm[\u001b[38;5;124m'\u001b[39m\u001b[38;5;124mis_sarcastic\u001b[39m\u001b[38;5;124m'\u001b[39m]\n\u001b[0;32m      4\u001b[0m \u001b[38;5;28;01mfrom\u001b[39;00m \u001b[38;5;21;01msklearn\u001b[39;00m\u001b[38;5;21;01m.\u001b[39;00m\u001b[38;5;21;01mmodel_selection\u001b[39;00m \u001b[38;5;28;01mimport\u001b[39;00m train_test_split\n",
      "\u001b[1;31mAttributeError\u001b[0m: 'numpy.ndarray' object has no attribute 'toarray'"
     ]
    }
   ],
   "source": [
    "X = X.toarray()\n",
    "y = dataset_lemm['is_sarcastic']\n",
    "\n",
    "from sklearn.model_selection import train_test_split\n",
    "xtrain, xtest, ytrain, ytest = train_test_split(X, y, test_size=0.2,random_state=42,stratify=y)"
   ]
  },
  {
   "cell_type": "code",
   "execution_count": 111,
   "metadata": {
    "id": "_iIbIm3tSlAz"
   },
   "outputs": [
    {
     "data": {
      "text/html": [
       "<style>#sk-container-id-6 {color: black;}#sk-container-id-6 pre{padding: 0;}#sk-container-id-6 div.sk-toggleable {background-color: white;}#sk-container-id-6 label.sk-toggleable__label {cursor: pointer;display: block;width: 100%;margin-bottom: 0;padding: 0.3em;box-sizing: border-box;text-align: center;}#sk-container-id-6 label.sk-toggleable__label-arrow:before {content: \"▸\";float: left;margin-right: 0.25em;color: #696969;}#sk-container-id-6 label.sk-toggleable__label-arrow:hover:before {color: black;}#sk-container-id-6 div.sk-estimator:hover label.sk-toggleable__label-arrow:before {color: black;}#sk-container-id-6 div.sk-toggleable__content {max-height: 0;max-width: 0;overflow: hidden;text-align: left;background-color: #f0f8ff;}#sk-container-id-6 div.sk-toggleable__content pre {margin: 0.2em;color: black;border-radius: 0.25em;background-color: #f0f8ff;}#sk-container-id-6 input.sk-toggleable__control:checked~div.sk-toggleable__content {max-height: 200px;max-width: 100%;overflow: auto;}#sk-container-id-6 input.sk-toggleable__control:checked~label.sk-toggleable__label-arrow:before {content: \"▾\";}#sk-container-id-6 div.sk-estimator input.sk-toggleable__control:checked~label.sk-toggleable__label {background-color: #d4ebff;}#sk-container-id-6 div.sk-label input.sk-toggleable__control:checked~label.sk-toggleable__label {background-color: #d4ebff;}#sk-container-id-6 input.sk-hidden--visually {border: 0;clip: rect(1px 1px 1px 1px);clip: rect(1px, 1px, 1px, 1px);height: 1px;margin: -1px;overflow: hidden;padding: 0;position: absolute;width: 1px;}#sk-container-id-6 div.sk-estimator {font-family: monospace;background-color: #f0f8ff;border: 1px dotted black;border-radius: 0.25em;box-sizing: border-box;margin-bottom: 0.5em;}#sk-container-id-6 div.sk-estimator:hover {background-color: #d4ebff;}#sk-container-id-6 div.sk-parallel-item::after {content: \"\";width: 100%;border-bottom: 1px solid gray;flex-grow: 1;}#sk-container-id-6 div.sk-label:hover label.sk-toggleable__label {background-color: #d4ebff;}#sk-container-id-6 div.sk-serial::before {content: \"\";position: absolute;border-left: 1px solid gray;box-sizing: border-box;top: 0;bottom: 0;left: 50%;z-index: 0;}#sk-container-id-6 div.sk-serial {display: flex;flex-direction: column;align-items: center;background-color: white;padding-right: 0.2em;padding-left: 0.2em;position: relative;}#sk-container-id-6 div.sk-item {position: relative;z-index: 1;}#sk-container-id-6 div.sk-parallel {display: flex;align-items: stretch;justify-content: center;background-color: white;position: relative;}#sk-container-id-6 div.sk-item::before, #sk-container-id-6 div.sk-parallel-item::before {content: \"\";position: absolute;border-left: 1px solid gray;box-sizing: border-box;top: 0;bottom: 0;left: 50%;z-index: -1;}#sk-container-id-6 div.sk-parallel-item {display: flex;flex-direction: column;z-index: 1;position: relative;background-color: white;}#sk-container-id-6 div.sk-parallel-item:first-child::after {align-self: flex-end;width: 50%;}#sk-container-id-6 div.sk-parallel-item:last-child::after {align-self: flex-start;width: 50%;}#sk-container-id-6 div.sk-parallel-item:only-child::after {width: 0;}#sk-container-id-6 div.sk-dashed-wrapped {border: 1px dashed gray;margin: 0 0.4em 0.5em 0.4em;box-sizing: border-box;padding-bottom: 0.4em;background-color: white;}#sk-container-id-6 div.sk-label label {font-family: monospace;font-weight: bold;display: inline-block;line-height: 1.2em;}#sk-container-id-6 div.sk-label-container {text-align: center;}#sk-container-id-6 div.sk-container {/* jupyter's `normalize.less` sets `[hidden] { display: none; }` but bootstrap.min.css set `[hidden] { display: none !important; }` so we also need the `!important` here to be able to override the default hidden behavior on the sphinx rendered scikit-learn.org. See: https://github.com/scikit-learn/scikit-learn/issues/21755 */display: inline-block !important;position: relative;}#sk-container-id-6 div.sk-text-repr-fallback {display: none;}</style><div id=\"sk-container-id-6\" class=\"sk-top-container\"><div class=\"sk-text-repr-fallback\"><pre>RandomForestClassifier(max_depth=20, min_samples_split=30)</pre><b>In a Jupyter environment, please rerun this cell to show the HTML representation or trust the notebook. <br />On GitHub, the HTML representation is unable to render, please try loading this page with nbviewer.org.</b></div><div class=\"sk-container\" hidden><div class=\"sk-item\"><div class=\"sk-estimator sk-toggleable\"><input class=\"sk-toggleable__control sk-hidden--visually\" id=\"sk-estimator-id-6\" type=\"checkbox\" checked><label for=\"sk-estimator-id-6\" class=\"sk-toggleable__label sk-toggleable__label-arrow\">RandomForestClassifier</label><div class=\"sk-toggleable__content\"><pre>RandomForestClassifier(max_depth=20, min_samples_split=30)</pre></div></div></div></div></div>"
      ],
      "text/plain": [
       "RandomForestClassifier(max_depth=20, min_samples_split=30)"
      ]
     },
     "execution_count": 111,
     "metadata": {},
     "output_type": "execute_result"
    }
   ],
   "source": [
    "\n",
    "rf=RandomForestClassifier(max_depth=20, min_samples_split=30)\n",
    "rf.fit(xtrain,ytrain)\n"
   ]
  },
  {
   "cell_type": "code",
   "execution_count": 112,
   "metadata": {},
   "outputs": [],
   "source": [
    "yhat = rf.predict(xtest)"
   ]
  },
  {
   "cell_type": "code",
   "execution_count": 113,
   "metadata": {},
   "outputs": [
    {
     "data": {
      "text/plain": [
       "0.667353051291651"
      ]
     },
     "execution_count": 113,
     "metadata": {},
     "output_type": "execute_result"
    }
   ],
   "source": [
    "accuracy_score(ytest,yhat)"
   ]
  },
  {
   "cell_type": "markdown",
   "metadata": {
    "id": "47NQGawURuJs"
   },
   "source": [
    "b. Grafica la matriz de confusión:"
   ]
  },
  {
   "cell_type": "code",
   "execution_count": 114,
   "metadata": {
    "id": "2WgaeUDfSmG0"
   },
   "outputs": [
    {
     "data": {
      "image/png": "[encoded data removed]",
      "text/plain": [
       "<Figure size 500x500 with 2 Axes>"
      ]
     },
     "metadata": {},
     "output_type": "display_data"
    }
   ],
   "source": [
    "confusion(ytest, yhat)"
   ]
  },
  {
   "cell_type": "markdown",
   "metadata": {},
   "source": [
    "### El modelo no sale muy bién, casi todo lo clasifica en no sarcastico, podríamos seguir investigando para ver como corregir esto"
   ]
  }
 ],
 "metadata": {
  "colab": {
   "provenance": []
  },
  "kernelspec": {
   "display_name": "Python 3 (ipykernel)",
   "language": "python",
   "name": "python3"
  },
  "language_info": {
   "codemirror_mode": {
    "name": "ipython",
    "version": 3
   },
   "file_extension": ".py",
   "mimetype": "text/x-python",
   "name": "python",
   "nbconvert_exporter": "python",
   "pygments_lexer": "ipython3",
   "version": "3.10.13"
  }
 },
 "nbformat": 4,
 "nbformat_minor": 4
}
