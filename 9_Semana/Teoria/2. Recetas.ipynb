{
 "cells": [
  {
   "cell_type": "markdown",
   "metadata": {},
   "source": [
    "# Ejercicio de obtener las recetas de ensaladas de recetasgratis.net"
   ]
  },
  {
   "cell_type": "code",
   "execution_count": 1,
   "metadata": {},
   "outputs": [],
   "source": [
    "import requests\n",
    "from bs4 import BeautifulSoup\n",
    "import pandas as pd\n",
    "import numpy as np\n",
    "import re"
   ]
  },
  {
   "cell_type": "code",
   "execution_count": 2,
   "metadata": {},
   "outputs": [],
   "source": [
    "url = \"https://www.recetasgratis.net/Recetas-de-Ensaladas-listado_receta-4_1.html\"\n",
    "response = requests.get(url)\n",
    "bool(response)\n",
    "soup = BeautifulSoup(response.text, \"html.parser\")"
   ]
  },
  {
   "cell_type": "code",
   "execution_count": 6,
   "metadata": {},
   "outputs": [
    {
     "data": {
      "text/plain": [
       "50"
      ]
     },
     "execution_count": 6,
     "metadata": {},
     "output_type": "execute_result"
    }
   ],
   "source": [
    "\n",
    "recetas = soup.find(\"div\", attrs = {'class':'clear padding-left-1'}).find_all(\"div\", class_=\"resultado link\")\n",
    "\n",
    "len(recetas)"
   ]
  },
  {
   "cell_type": "code",
   "execution_count": 7,
   "metadata": {},
   "outputs": [
    {
     "data": {
      "text/plain": [
       "'Receta de Ensalada coleslaw'"
      ]
     },
     "execution_count": 7,
     "metadata": {},
     "output_type": "execute_result"
    }
   ],
   "source": [
    "recetas[0].find(\"a\").text"
   ]
  },
  {
   "cell_type": "code",
   "execution_count": 8,
   "metadata": {},
   "outputs": [
    {
     "data": {
      "text/plain": [
       "['Receta de Ensalada coleslaw',\n",
       " 'Receta de Ensalada de quinoa y verduras',\n",
       " 'Ensaladas especiales para fiestas',\n",
       " 'Receta de Ensalada navideña peruana']"
      ]
     },
     "execution_count": 8,
     "metadata": {},
     "output_type": "execute_result"
    }
   ],
   "source": [
    "titulos = [i.find(\"a\").text for i in recetas]\n",
    "titulos[:4]"
   ]
  },
  {
   "cell_type": "code",
   "execution_count": 9,
   "metadata": {},
   "outputs": [
    {
     "data": {
      "text/plain": [
       "['https://www.recetasgratis.net/receta-de-ensalada-coleslaw-77205.html',\n",
       " 'https://www.recetasgratis.net/receta-de-ensalada-de-quinoa-y-verduras-77158.html',\n",
       " 'https://www.recetasgratis.net/articulo-ensaladas-especiales-para-fiestas-77062.html',\n",
       " 'https://www.recetasgratis.net/receta-de-ensalada-navidena-peruana-76980.html']"
      ]
     },
     "execution_count": 9,
     "metadata": {},
     "output_type": "execute_result"
    }
   ],
   "source": [
    "links = [i.find(\"a\")[\"href\"] for i in recetas]\n",
    "links[:4]"
   ]
  },
  {
   "cell_type": "markdown",
   "metadata": {},
   "source": [
    "### Hasta este punto se obtuvieron los links y titulos de las 50 recetas de la primera página, ahora se obtendran todos los titulos y links de los 850 recetas"
   ]
  },
  {
   "cell_type": "code",
   "execution_count": 10,
   "metadata": {},
   "outputs": [
    {
     "data": {
      "text/plain": [
       "50"
      ]
     },
     "execution_count": 10,
     "metadata": {},
     "output_type": "execute_result"
    }
   ],
   "source": [
    "len(links)"
   ]
  },
  {
   "cell_type": "code",
   "execution_count": 11,
   "metadata": {},
   "outputs": [
    {
     "data": {
      "text/plain": [
       "15.0"
      ]
     },
     "execution_count": 11,
     "metadata": {},
     "output_type": "execute_result"
    }
   ],
   "source": [
    "np.ceil(701/50)"
   ]
  },
  {
   "cell_type": "code",
   "execution_count": 14,
   "metadata": {},
   "outputs": [
    {
     "name": "stdout",
     "output_type": "stream",
     "text": [
      "1\n",
      "2\n",
      "3\n",
      "4\n",
      "5\n",
      "6\n",
      "7\n",
      "8\n",
      "9\n",
      "10\n",
      "11\n",
      "12\n",
      "13\n",
      "14\n",
      "15\n"
     ]
    }
   ],
   "source": [
    "links_all = []\n",
    "titulos_all = []\n",
    "for i in range(1,15+1):\n",
    "    print(i)\n",
    "    url = \"https://www.recetasgratis.net/Recetas-de-Ensaladas-listado_receta-4_{}.html\".format(i)\n",
    "    response = requests.get(url)\n",
    "    soup = BeautifulSoup(response.text, \"html.parser\")\n",
    "    recetas = soup.find(\"div\", attrs = {'class':'clear padding-left-1'}).find_all(\"div\", class_=\"resultado link\")\n",
    "    titulos = [i.find(\"a\",{\"class\":\"titulo titulo--resultado\"}).text for i in recetas]\n",
    "    links = [i.find(\"a\",{\"class\":\"titulo titulo--resultado\"})[\"href\"] for i in recetas]\n",
    "    links_all.extend(links)\n",
    "    titulos_all.extend(titulos)\n"
   ]
  },
  {
   "cell_type": "code",
   "execution_count": 15,
   "metadata": {},
   "outputs": [
    {
     "data": {
      "text/plain": [
       "701"
      ]
     },
     "execution_count": 15,
     "metadata": {},
     "output_type": "execute_result"
    }
   ],
   "source": [
    "len(links_all)"
   ]
  },
  {
   "cell_type": "code",
   "execution_count": 16,
   "metadata": {},
   "outputs": [
    {
     "data": {
      "text/plain": [
       "701"
      ]
     },
     "execution_count": 16,
     "metadata": {},
     "output_type": "execute_result"
    }
   ],
   "source": [
    "len(titulos_all)"
   ]
  },
  {
   "cell_type": "markdown",
   "metadata": {},
   "source": [
    "### En la siguiente sección se obtene la info de una sola receta que se quiere"
   ]
  },
  {
   "cell_type": "code",
   "execution_count": 17,
   "metadata": {},
   "outputs": [],
   "source": [
    "url = links[0]\n",
    "response = requests.get(url)\n",
    "bool(response)\n",
    "soup = BeautifulSoup(response.text, \"html.parser\")"
   ]
  },
  {
   "cell_type": "code",
   "execution_count": 18,
   "metadata": {},
   "outputs": [
    {
     "data": {
      "text/plain": [
       "'https://www.recetasgratis.net/receta-de-ensalada-azteca-6623.html'"
      ]
     },
     "execution_count": 18,
     "metadata": {},
     "output_type": "execute_result"
    }
   ],
   "source": [
    "url"
   ]
  },
  {
   "cell_type": "code",
   "execution_count": 19,
   "metadata": {},
   "outputs": [
    {
     "data": {
      "text/plain": [
       "('1 Lechuga Romana, Queso ranchero, Chile negro frito, 1 Aguacate, 1 Tortilla frita en juliana., Para la Vinagreta, 1 diente de ajo picado muy fino, 1 cucharadita de cebolla morada muy finita, 1 pizca de chile de árbol molido, Zumo de un limón, 1 shot de vainilla, Aceite de olivo, el necesario, Sal, pimienta al gusto.',\n",
       " None)"
      ]
     },
     "execution_count": 19,
     "metadata": {},
     "output_type": "execute_result"
    }
   ],
   "source": [
    "recipe_info  = soup.find(\"div\", class_=\"recipe-info\")\n",
    "ingredientes = \", \".join([i.text.strip() for i in recipe_info.find_all(\"li\", class_=\"ingrediente\")])\n",
    "if soup.find(class_ = \"properties\") is not None:\n",
    "    propiedades = [i.text for i in soup.find(class_ = \"properties\").find_all(\"span\")]\n",
    "else:\n",
    "    propiedades = None\n",
    "ingredientes, propiedades"
   ]
  },
  {
   "cell_type": "markdown",
   "metadata": {},
   "source": [
    "### Se crea una función para automatizar"
   ]
  },
  {
   "cell_type": "code",
   "execution_count": 20,
   "metadata": {},
   "outputs": [],
   "source": [
    "def obtener_info_receta(link_receta):\n",
    "    response = requests.get(link_receta)\n",
    "    soup = BeautifulSoup(response.text, \"html.parser\")\n",
    "    recipe_info  = soup.find(\"div\", class_=\"recipe-info\")\n",
    "    ingredientes = \", \".join([i.text.strip() for i in recipe_info.find_all(\"li\", class_=\"ingrediente\")])\n",
    "    if soup.find(class_ = \"properties\") is not None:\n",
    "        propiedades = [i.text for i in soup.find(class_ = \"properties\").find_all(\"span\")]\n",
    "    else:\n",
    "        propiedades = None\n",
    "    return [ingredientes, propiedades]"
   ]
  },
  {
   "cell_type": "markdown",
   "metadata": {},
   "source": [
    "# Se recorren todos los links con la función anterior "
   ]
  },
  {
   "cell_type": "code",
   "execution_count": 21,
   "metadata": {},
   "outputs": [
    {
     "name": "stdout",
     "output_type": "stream",
     "text": [
      "https://www.recetasgratis.net/articulo-ensaladas-especiales-para-fiestas-77062.html\n",
      "https://www.recetasgratis.net/articulo-recetas-de-ensaladas-proteicas-75344.html\n",
      "https://www.recetasgratis.net/articulo-ensaladas-para-navidad-originales-74827.html\n",
      "https://www.recetasgratis.net/video-receta-de-ensalada-cesar-para-tupper-58655.html\n"
     ]
    }
   ],
   "source": [
    "# Este for tarda unos 5 minutos\n",
    "# Algunas recetas no tienen el formato adecuado, pasamos de ellas\n",
    "info_receta=[]\n",
    "for link in links_all:\n",
    "    try:\n",
    "        info_receta.append(obtener_info_receta(link))\n",
    "    except:\n",
    "        print(link)"
   ]
  },
  {
   "cell_type": "code",
   "execution_count": 14,
   "metadata": {},
   "outputs": [],
   "source": [
    "df = pd.DataFrame(info_receta, columns =[\"Ingredientes\",\"propiedades\"])\n"
   ]
  },
  {
   "cell_type": "code",
   "execution_count": 15,
   "metadata": {},
   "outputs": [
    {
     "data": {
      "text/html": [
       "<div>\n",
       "<style scoped>\n",
       "    .dataframe tbody tr th:only-of-type {\n",
       "        vertical-align: middle;\n",
       "    }\n",
       "\n",
       "    .dataframe tbody tr th {\n",
       "        vertical-align: top;\n",
       "    }\n",
       "\n",
       "    .dataframe thead th {\n",
       "        text-align: right;\n",
       "    }\n",
       "</style>\n",
       "<table border=\"1\" class=\"dataframe\">\n",
       "  <thead>\n",
       "    <tr style=\"text-align: right;\">\n",
       "      <th></th>\n",
       "      <th>Ingredientes</th>\n",
       "      <th>propiedades</th>\n",
       "    </tr>\n",
       "  </thead>\n",
       "  <tbody>\n",
       "    <tr>\n",
       "      <th>0</th>\n",
       "      <td>4 papas blancas o rosadas, 2 zanahorias, 200 g...</td>\n",
       "      <td>[10 comensales, 30m, Dificultad baja]</td>\n",
       "    </tr>\n",
       "    <tr>\n",
       "      <th>1</th>\n",
       "      <td>250 gramos de pasta corta (canuto, tornillitos...</td>\n",
       "      <td>[5 comensales, 30m, Dificultad baja]</td>\n",
       "    </tr>\n",
       "    <tr>\n",
       "      <th>2</th>\n",
       "      <td>4 patatas, 2 zanahorias, 100 gramos de guisant...</td>\n",
       "      <td>[4 comensales, 45m, Dificultad media]</td>\n",
       "    </tr>\n",
       "    <tr>\n",
       "      <th>3</th>\n",
       "      <td>500 gramos de garbanzos cocidos, 1 cebolleta, ...</td>\n",
       "      <td>[4 comensales, 15m, Dificultad baja]</td>\n",
       "    </tr>\n",
       "    <tr>\n",
       "      <th>4</th>\n",
       "      <td>1 lata de de 800 gr. de tomates enteros, 2 lat...</td>\n",
       "      <td>[4 comensales, 15m, Dificultad baja]</td>\n",
       "    </tr>\n",
       "    <tr>\n",
       "      <th>...</th>\n",
       "      <td>...</td>\n",
       "      <td>...</td>\n",
       "    </tr>\n",
       "    <tr>\n",
       "      <th>676</th>\n",
       "      <td>1 paquete de Surimi, 1 lata de Media crema, 1 ...</td>\n",
       "      <td>[2 comensales, 15m, Entrante, Dificultad baja]</td>\n",
       "    </tr>\n",
       "    <tr>\n",
       "      <th>677</th>\n",
       "      <td>100 gramos de Palitos de cangrejo o Surimir, 1...</td>\n",
       "      <td>[6 comensales, 10m, Entrante, Dificultad baja]</td>\n",
       "    </tr>\n",
       "    <tr>\n",
       "      <th>678</th>\n",
       "      <td>4 hojas de Lechuga, 1 unidad de Manzana roja, ...</td>\n",
       "      <td>[2 comensales, 10m, Entrante, Dificultad baja]</td>\n",
       "    </tr>\n",
       "    <tr>\n",
       "      <th>679</th>\n",
       "      <td>1 lata de Garbanzos, 1 lata de Habichuelas Col...</td>\n",
       "      <td>[4 comensales, 30m, Entrante, Dificultad baja]</td>\n",
       "    </tr>\n",
       "    <tr>\n",
       "      <th>680</th>\n",
       "      <td>300 gramos de Codito, 100 gramos de Queso Crem...</td>\n",
       "      <td>[2 comensales, 30m, Dificultad baja]</td>\n",
       "    </tr>\n",
       "  </tbody>\n",
       "</table>\n",
       "<p>681 rows × 2 columns</p>\n",
       "</div>"
      ],
      "text/plain": [
       "                                          Ingredientes  \\\n",
       "0    4 papas blancas o rosadas, 2 zanahorias, 200 g...   \n",
       "1    250 gramos de pasta corta (canuto, tornillitos...   \n",
       "2    4 patatas, 2 zanahorias, 100 gramos de guisant...   \n",
       "3    500 gramos de garbanzos cocidos, 1 cebolleta, ...   \n",
       "4    1 lata de de 800 gr. de tomates enteros, 2 lat...   \n",
       "..                                                 ...   \n",
       "676  1 paquete de Surimi, 1 lata de Media crema, 1 ...   \n",
       "677  100 gramos de Palitos de cangrejo o Surimir, 1...   \n",
       "678  4 hojas de Lechuga, 1 unidad de Manzana roja, ...   \n",
       "679  1 lata de Garbanzos, 1 lata de Habichuelas Col...   \n",
       "680  300 gramos de Codito, 100 gramos de Queso Crem...   \n",
       "\n",
       "                                        propiedades  \n",
       "0             [10 comensales, 30m, Dificultad baja]  \n",
       "1              [5 comensales, 30m, Dificultad baja]  \n",
       "2             [4 comensales, 45m, Dificultad media]  \n",
       "3              [4 comensales, 15m, Dificultad baja]  \n",
       "4              [4 comensales, 15m, Dificultad baja]  \n",
       "..                                              ...  \n",
       "676  [2 comensales, 15m, Entrante, Dificultad baja]  \n",
       "677  [6 comensales, 10m, Entrante, Dificultad baja]  \n",
       "678  [2 comensales, 10m, Entrante, Dificultad baja]  \n",
       "679  [4 comensales, 30m, Entrante, Dificultad baja]  \n",
       "680            [2 comensales, 30m, Dificultad baja]  \n",
       "\n",
       "[681 rows x 2 columns]"
      ]
     },
     "execution_count": 15,
     "metadata": {},
     "output_type": "execute_result"
    }
   ],
   "source": [
    "df"
   ]
  },
  {
   "cell_type": "code",
   "execution_count": null,
   "metadata": {},
   "outputs": [],
   "source": []
  }
 ],
 "metadata": {
  "kernelspec": {
   "display_name": "Python 3 (ipykernel)",
   "language": "python",
   "name": "python3"
  },
  "language_info": {
   "codemirror_mode": {
    "name": "ipython",
    "version": 3
   },
   "file_extension": ".py",
   "mimetype": "text/x-python",
   "name": "python",
   "nbconvert_exporter": "python",
   "pygments_lexer": "ipython3",
   "version": "3.10.13"
  }
 },
 "nbformat": 4,
 "nbformat_minor": 4
}
