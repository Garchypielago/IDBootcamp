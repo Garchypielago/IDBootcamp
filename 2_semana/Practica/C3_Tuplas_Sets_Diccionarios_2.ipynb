{
  "cells": [
    {
      "cell_type": "markdown",
      "metadata": {
        "id": "gNTaM7lVBr8y"
      },
      "source": [
        "# Tuplas\n",
        "* Son más ràpidas y ocupan menos memoria que las listas\n",
        "* No se pueden modificar => seguridad"
      ]
    },
    {
      "cell_type": "code",
      "execution_count": null,
      "metadata": {
        "id": "snzRzpp3Br8z"
      },
      "outputs": [],
      "source": [
        "t = (1,2,3,4)\n",
        "# con parentesis\n",
        "# es no mutable"
      ]
    },
    {
      "cell_type": "code",
      "execution_count": null,
      "metadata": {
        "id": "dvTeU9RtBr80",
        "outputId": "6ae83697-17ba-475b-ae78-a67dc16f435e"
      },
      "outputs": [
        {
          "ename": "TypeError",
          "evalue": "'tuple' object does not support item assignment",
          "output_type": "error",
          "traceback": [
            "\u001b[1;31m---------------------------------------------------------------------------\u001b[0m",
            "\u001b[1;31mTypeError\u001b[0m                                 Traceback (most recent call last)",
            "Cell \u001b[1;32mIn[4], line 1\u001b[0m\n\u001b[1;32m----> 1\u001b[0m t[\u001b[38;5;241m3\u001b[39m]\u001b[38;5;241m=\u001b[39m\u001b[38;5;241m2\u001b[39m\n",
            "\u001b[1;31mTypeError\u001b[0m: 'tuple' object does not support item assignment"
          ]
        }
      ],
      "source": [
        "t[3]=2"
      ]
    },
    {
      "cell_type": "code",
      "execution_count": null,
      "metadata": {
        "id": "Q6oJW0rABr81",
        "outputId": "5c06c3ca-cbb0-4a8f-92f3-231080e19336"
      },
      "outputs": [
        {
          "data": {
            "text/plain": [
              "(1, 2, 3, 4, 1, 2, 3, 4)"
            ]
          },
          "execution_count": 8,
          "metadata": {},
          "output_type": "execute_result"
        }
      ],
      "source": [
        "t+t # las listas y las tuplas se pueden sumar con otras listas/tuplas"
      ]
    },
    {
      "cell_type": "code",
      "execution_count": null,
      "metadata": {
        "id": "8UDKf7GVBr81",
        "outputId": "cea16e1f-a445-4a90-8f3b-1e9a1106c6de"
      },
      "outputs": [
        {
          "data": {
            "text/plain": [
              "(1, 2, 3, 4, 1, 2, 3, 4)"
            ]
          },
          "execution_count": 9,
          "metadata": {},
          "output_type": "execute_result"
        }
      ],
      "source": [
        "2*t # las listas y las tuplas se pueden multiplicar por un numero"
      ]
    },
    {
      "cell_type": "code",
      "execution_count": null,
      "metadata": {
        "id": "U9tQ_w9dBr81"
      },
      "outputs": [],
      "source": [
        "t=2*t #no se modifica la tupla, aqui se sobreescrive\n",
        "# primero se ejecuta 2*t y se asigna a una 'nueva' variable t"
      ]
    },
    {
      "cell_type": "code",
      "execution_count": null,
      "metadata": {
        "id": "7TQQWovgBr81",
        "outputId": "eb020260-6956-41f9-b7f2-22c90174578d"
      },
      "outputs": [
        {
          "ename": "TypeError",
          "evalue": "can only concatenate list (not \"tuple\") to list",
          "output_type": "error",
          "traceback": [
            "\u001b[1;31m---------------------------------------------------------------------------\u001b[0m",
            "\u001b[1;31mTypeError\u001b[0m                                 Traceback (most recent call last)",
            "Cell \u001b[1;32mIn[11], line 1\u001b[0m\n\u001b[1;32m----> 1\u001b[0m \u001b[43m[\u001b[49m\u001b[38;5;241;43m1\u001b[39;49m\u001b[43m,\u001b[49m\u001b[38;5;241;43m2\u001b[39;49m\u001b[43m,\u001b[49m\u001b[38;5;241;43m3\u001b[39;49m\u001b[43m]\u001b[49m\u001b[38;5;241;43m+\u001b[39;49m\u001b[43m(\u001b[49m\u001b[38;5;241;43m3\u001b[39;49m\u001b[43m,\u001b[49m\u001b[38;5;241;43m4\u001b[39;49m\u001b[43m,\u001b[49m\u001b[38;5;241;43m5\u001b[39;49m\u001b[43m)\u001b[49m\n",
            "\u001b[1;31mTypeError\u001b[0m: can only concatenate list (not \"tuple\") to list"
          ]
        }
      ],
      "source": [
        "[1,2,3]+(3,4,5)"
      ]
    },
    {
      "cell_type": "code",
      "execution_count": null,
      "metadata": {
        "id": "LOksUdc-Br81",
        "outputId": "c91436ec-c410-4bb2-9bc6-cb38c0d71c2d"
      },
      "outputs": [
        {
          "data": {
            "text/plain": [
              "(1, 2)"
            ]
          },
          "execution_count": 13,
          "metadata": {},
          "output_type": "execute_result"
        }
      ],
      "source": [
        "tup[0]"
      ]
    },
    {
      "cell_type": "code",
      "execution_count": null,
      "metadata": {
        "id": "gG1nvftMBr82",
        "outputId": "eff94113-793c-40b2-d6eb-464ac2427532"
      },
      "outputs": [
        {
          "data": {
            "text/plain": [
              "8"
            ]
          },
          "execution_count": 14,
          "metadata": {},
          "output_type": "execute_result"
        }
      ],
      "source": [
        "len(tup)"
      ]
    },
    {
      "cell_type": "code",
      "execution_count": null,
      "metadata": {
        "id": "PYvji9eABr82",
        "outputId": "9f00d002-0125-41af-b409-5e38657b7c5a"
      },
      "outputs": [
        {
          "data": {
            "text/plain": [
              "(2,)"
            ]
          },
          "execution_count": 17,
          "metadata": {},
          "output_type": "execute_result"
        }
      ],
      "source": [
        "# slicing\n",
        "tup[1:3:2]"
      ]
    },
    {
      "cell_type": "code",
      "execution_count": null,
      "metadata": {
        "id": "H5UCwE_2Br82",
        "outputId": "ef0402bf-6957-440b-e810-61542e6af767"
      },
      "outputs": [
        {
          "data": {
            "text/plain": [
              "4"
            ]
          },
          "execution_count": 19,
          "metadata": {},
          "output_type": "execute_result"
        }
      ],
      "source": [
        "tup[-1]"
      ]
    },
    {
      "cell_type": "code",
      "execution_count": null,
      "metadata": {
        "id": "bFCHtEhkBr82",
        "outputId": "68a2abac-8502-4f2f-ea77-66dafe5ed530"
      },
      "outputs": [
        {
          "data": {
            "text/plain": [
              "(2, 3, 4, 1, 2, 3)"
            ]
          },
          "execution_count": 20,
          "metadata": {},
          "output_type": "execute_result"
        }
      ],
      "source": [
        "tup[1:-1]"
      ]
    },
    {
      "cell_type": "code",
      "execution_count": null,
      "metadata": {
        "id": "pHdvDkn5Br82",
        "outputId": "b49d94ad-ca77-4cd6-d490-18ae8a7df24a"
      },
      "outputs": [
        {
          "data": {
            "text/plain": [
              "2"
            ]
          },
          "execution_count": 21,
          "metadata": {},
          "output_type": "execute_result"
        }
      ],
      "source": [
        "tup.count(1)"
      ]
    },
    {
      "cell_type": "code",
      "execution_count": null,
      "metadata": {
        "scrolled": true,
        "id": "Q2wKDaTpBr83",
        "outputId": "d21d6843-e8bc-4ff0-db14-2ebade1ab0ea"
      },
      "outputs": [
        {
          "data": {
            "text/plain": [
              "(1, 2, 3, 4, 1, 2, 3, 4)"
            ]
          },
          "execution_count": 22,
          "metadata": {},
          "output_type": "execute_result"
        }
      ],
      "source": [
        "tup\n"
      ]
    },
    {
      "cell_type": "code",
      "execution_count": null,
      "metadata": {
        "id": "yuemwgVaBr83",
        "outputId": "1631f54d-0928-491f-854d-18a5c641c1e7"
      },
      "outputs": [
        {
          "data": {
            "text/plain": [
              "5"
            ]
          },
          "execution_count": 32,
          "metadata": {},
          "output_type": "execute_result"
        }
      ],
      "source": [
        "tup.index(2,3,8) #index(numero_a_buscar, indice_start, indice_final_busqueda)"
      ]
    },
    {
      "cell_type": "code",
      "execution_count": null,
      "metadata": {
        "id": "DG_6f57xBr83"
      },
      "outputs": [],
      "source": [
        "l=[1,2,3,4]"
      ]
    },
    {
      "cell_type": "code",
      "execution_count": null,
      "metadata": {
        "id": "ity8GcOfBr83",
        "outputId": "14f7c52f-4a39-4acd-83ca-ac0e59086627"
      },
      "outputs": [
        {
          "data": {
            "text/plain": [
              "1"
            ]
          },
          "execution_count": 34,
          "metadata": {},
          "output_type": "execute_result"
        }
      ],
      "source": [
        "l.index(2)\n",
        "# objetos tienen metodos\n",
        "# OBJ."
      ]
    },
    {
      "cell_type": "code",
      "execution_count": null,
      "metadata": {
        "id": "i82KfkWUBr83"
      },
      "outputs": [],
      "source": [
        "# Ejercicio: dada una tupla con valores repetidos,\n",
        "# devolved una lista con todos los indices donde aparece el valor X"
      ]
    },
    {
      "cell_type": "code",
      "execution_count": null,
      "metadata": {
        "id": "bKKEe1lcBr83"
      },
      "outputs": [],
      "source": [
        "t=(1,2,3,2,3,2,4,2)\n",
        "# 2?\n",
        "# (1, 3, 5, 7)"
      ]
    },
    {
      "cell_type": "code",
      "execution_count": null,
      "metadata": {
        "id": "pTeinQGnBr83"
      },
      "outputs": [],
      "source": [
        "# L=[], append"
      ]
    },
    {
      "cell_type": "code",
      "execution_count": null,
      "metadata": {
        "id": "HxgVUBzqBr84",
        "outputId": "ab0ed833-e736-4dbf-93c7-e3fdb1630783"
      },
      "outputs": [
        {
          "name": "stdout",
          "output_type": "stream",
          "text": [
            "resultado [0, 2, 4, 6, 8]\n"
          ]
        }
      ],
      "source": [
        "# enumerate?"
      ]
    },
    {
      "cell_type": "code",
      "execution_count": null,
      "metadata": {
        "id": "gFtQyxm5Br84",
        "outputId": "88c096f0-1512-47c9-e754-4cd9713cfe81"
      },
      "outputs": [
        {
          "data": {
            "text/plain": [
              "[0, 2, 4, 6, 8]"
            ]
          },
          "execution_count": 70,
          "metadata": {},
          "output_type": "execute_result"
        }
      ],
      "source": [
        "t=(2,1,2,3,2,3,2,4,2)\n",
        "# ahora haciendo menos iteraciones y utilizando index"
      ]
    },
    {
      "cell_type": "code",
      "execution_count": null,
      "metadata": {
        "id": "hS8qIm5CBr84",
        "outputId": "b7a08c6e-7820-4d0e-92f4-71d3e322fa42"
      },
      "outputs": [
        {
          "data": {
            "text/plain": [
              "[1, 1, 2, 2, 3, 3, 4, 4]"
            ]
          },
          "execution_count": 71,
          "metadata": {},
          "output_type": "execute_result"
        }
      ],
      "source": [
        "sorted(tup) # la convierte en lista"
      ]
    },
    {
      "cell_type": "code",
      "execution_count": null,
      "metadata": {
        "id": "oOLNHM0TBr84",
        "outputId": "791c9869-3e0b-47ab-ee50-03116faade5f"
      },
      "outputs": [
        {
          "data": {
            "text/plain": [
              "(1, 2)"
            ]
          },
          "execution_count": 88,
          "metadata": {},
          "output_type": "execute_result"
        }
      ],
      "source": [
        "tuple([1,2])"
      ]
    },
    {
      "cell_type": "code",
      "execution_count": null,
      "metadata": {
        "id": "ApHbuDSvBr84"
      },
      "outputs": [],
      "source": [
        "a=tuple(\"amigo\")"
      ]
    },
    {
      "cell_type": "code",
      "execution_count": null,
      "metadata": {
        "id": "1xQsMYaIBr84",
        "outputId": "9d4e93b0-9da0-43b6-dfe9-d1fc04531b6e"
      },
      "outputs": [
        {
          "data": {
            "text/plain": [
              "('a', 'm', 'i', 'g', 'o')"
            ]
          },
          "execution_count": 90,
          "metadata": {},
          "output_type": "execute_result"
        }
      ],
      "source": [
        "a"
      ]
    },
    {
      "cell_type": "markdown",
      "metadata": {
        "id": "9I7yO8KrBr84"
      },
      "source": [
        "# Sets\n"
      ]
    },
    {
      "cell_type": "code",
      "execution_count": null,
      "metadata": {
        "id": "PPRH9n-dBr84",
        "outputId": "4d5b5909-207d-4d63-ca4f-abeab83f43fd"
      },
      "outputs": [
        {
          "name": "stdout",
          "output_type": "stream",
          "text": [
            "{1, 2, 3}\n",
            "{1, 2, 3}\n"
          ]
        }
      ],
      "source": [
        "s={1,2,3}\n",
        "print(s)\n",
        "s={1,2,3,1,2,3}\n",
        "print(s)"
      ]
    },
    {
      "cell_type": "code",
      "execution_count": null,
      "metadata": {
        "id": "wPTJ_JMyBr85",
        "outputId": "588731b1-9537-4ac2-a9dd-0481f2a2604f"
      },
      "outputs": [
        {
          "data": {
            "text/plain": [
              "set"
            ]
          },
          "execution_count": 92,
          "metadata": {},
          "output_type": "execute_result"
        }
      ],
      "source": [
        "type(s)"
      ]
    },
    {
      "cell_type": "code",
      "execution_count": null,
      "metadata": {
        "id": "O3qa0OeVBr85",
        "outputId": "d9319dd4-7b5b-4c20-dcc3-a3f35fe99e7a"
      },
      "outputs": [
        {
          "data": {
            "text/plain": [
              "dict"
            ]
          },
          "execution_count": 93,
          "metadata": {},
          "output_type": "execute_result"
        }
      ],
      "source": [
        "s={} # asi no se declara un set vacio\n",
        "type(s) # cuidado! s={} es un diccionario"
      ]
    },
    {
      "cell_type": "code",
      "execution_count": null,
      "metadata": {
        "id": "3yy0AVUXBr85",
        "outputId": "bfc98d35-dfc6-4381-dac1-1193e92ea103"
      },
      "outputs": [
        {
          "data": {
            "text/plain": [
              "set"
            ]
          },
          "execution_count": 75,
          "metadata": {},
          "output_type": "execute_result"
        }
      ],
      "source": [
        "s=set()# diccionario vacio\n",
        "type(s)"
      ]
    },
    {
      "cell_type": "code",
      "execution_count": null,
      "metadata": {
        "id": "fhfEu1muBr85",
        "outputId": "544da2b2-6ba4-49f5-b901-d40e24547da4"
      },
      "outputs": [
        {
          "data": {
            "text/plain": [
              "{}"
            ]
          },
          "execution_count": 94,
          "metadata": {},
          "output_type": "execute_result"
        }
      ],
      "source": [
        "s"
      ]
    },
    {
      "cell_type": "code",
      "execution_count": null,
      "metadata": {
        "id": "kXT9IO8PBr85",
        "outputId": "a8b8eab2-24d5-4def-ab65-d36ae87da0eb"
      },
      "outputs": [
        {
          "ename": "TypeError",
          "evalue": "unsupported operand type(s) for +: 'set' and 'set'",
          "output_type": "error",
          "traceback": [
            "\u001b[1;31m---------------------------------------------------------------------------\u001b[0m",
            "\u001b[1;31mTypeError\u001b[0m                                 Traceback (most recent call last)",
            "Cell \u001b[1;32mIn[95], line 5\u001b[0m\n\u001b[0;32m      2\u001b[0m b\u001b[38;5;241m=\u001b[39m{\u001b[38;5;241m3\u001b[39m,\u001b[38;5;241m4\u001b[39m,\u001b[38;5;241m5\u001b[39m}\n\u001b[0;32m      4\u001b[0m \u001b[38;5;66;03m# los sets no se pueden sumar\u001b[39;00m\n\u001b[1;32m----> 5\u001b[0m \u001b[43ma\u001b[49m\u001b[38;5;241;43m+\u001b[39;49m\u001b[43mb\u001b[49m\n",
            "\u001b[1;31mTypeError\u001b[0m: unsupported operand type(s) for +: 'set' and 'set'"
          ]
        }
      ],
      "source": [
        "a={1,2,3}\n",
        "b={3,4,5}\n",
        "\n",
        "# los sets no se pueden sumar\n",
        "a+b"
      ]
    },
    {
      "cell_type": "code",
      "execution_count": null,
      "metadata": {
        "id": "SubdLPjHBr85",
        "outputId": "0e72cc11-c810-4f35-f9c7-a0469c3497d6"
      },
      "outputs": [
        {
          "name": "stdout",
          "output_type": "stream",
          "text": [
            "3015972275584\n",
            "3015972275584\n"
          ]
        }
      ],
      "source": [
        "# add añade elementos al set y lo modifica internamente\n",
        "# los sets son mutables? Sí\n",
        "a={1,2,3}\n",
        "print(id(a)) # id() nos devolvia la posición de memoria\n",
        "a.add(5)\n",
        "print(id(a))"
      ]
    },
    {
      "cell_type": "code",
      "execution_count": null,
      "metadata": {
        "scrolled": true,
        "id": "SBDw0CrwBr85",
        "outputId": "a0616e4c-f849-4145-b93b-a6df4254e936"
      },
      "outputs": [
        {
          "data": {
            "text/plain": [
              "{1, 2, 3, 5}"
            ]
          },
          "execution_count": 97,
          "metadata": {},
          "output_type": "execute_result"
        }
      ],
      "source": [
        "a"
      ]
    },
    {
      "cell_type": "code",
      "execution_count": null,
      "metadata": {
        "id": "eT-1JkbMBr86"
      },
      "outputs": [],
      "source": [
        "# remove quita internamente\n",
        "a.remove(5)"
      ]
    },
    {
      "cell_type": "code",
      "execution_count": null,
      "metadata": {
        "scrolled": true,
        "id": "b6u6v71pBr86",
        "outputId": "3602839b-4a50-4b61-8cf7-d32c938c3443"
      },
      "outputs": [
        {
          "ename": "KeyError",
          "evalue": "5",
          "output_type": "error",
          "traceback": [
            "\u001b[1;31m---------------------------------------------------------------------------\u001b[0m",
            "\u001b[1;31mKeyError\u001b[0m                                  Traceback (most recent call last)",
            "Cell \u001b[1;32mIn[100], line 2\u001b[0m\n\u001b[0;32m      1\u001b[0m \u001b[38;5;66;03m# intento quitar 5 pero me da error\u001b[39;00m\n\u001b[1;32m----> 2\u001b[0m \u001b[43ma\u001b[49m\u001b[38;5;241;43m.\u001b[39;49m\u001b[43mremove\u001b[49m\u001b[43m(\u001b[49m\u001b[38;5;241;43m5\u001b[39;49m\u001b[43m)\u001b[49m\n",
            "\u001b[1;31mKeyError\u001b[0m: 5"
          ]
        }
      ],
      "source": [
        "# intento quitar 5 pero me da error\n",
        "a.remove(5)"
      ]
    },
    {
      "cell_type": "code",
      "execution_count": null,
      "metadata": {
        "id": "XhREm0P2Br86"
      },
      "outputs": [],
      "source": [
        "# discard==remove pero no da error\n",
        "a.discard(5)\n",
        "# que preferimos que me salga una error si no està o que no me diga nada?"
      ]
    },
    {
      "cell_type": "code",
      "execution_count": null,
      "metadata": {
        "id": "Xu_Wv9AKBr86"
      },
      "outputs": [],
      "source": [
        "s={1,[1,2]}\n",
        "# no puedo poner listas\n",
        "# porque? Listas son mutables => no hashable"
      ]
    },
    {
      "cell_type": "code",
      "execution_count": null,
      "metadata": {
        "id": "d1V0eec7Br8-"
      },
      "outputs": [],
      "source": [
        "s={1,(1,2)} # las tuplas si, porque son inmutables"
      ]
    },
    {
      "cell_type": "code",
      "execution_count": null,
      "metadata": {
        "id": "_BVRPiT2Br8-",
        "outputId": "adc98a9c-ce4b-4b02-ff4e-65ff99057627"
      },
      "outputs": [
        {
          "data": {
            "text/plain": [
              "3"
            ]
          },
          "execution_count": 123,
          "metadata": {},
          "output_type": "execute_result"
        }
      ],
      "source": [
        "[1,2,3,4].pop(2)"
      ]
    },
    {
      "cell_type": "code",
      "execution_count": null,
      "metadata": {
        "id": "iGGr95ACBr8-",
        "outputId": "4c355153-c1e9-449d-d718-13147b07b88c"
      },
      "outputs": [
        {
          "name": "stdout",
          "output_type": "stream",
          "text": [
            "{(1, 2), 3, 4, 5, 6, 8, 9, 'a'}\n"
          ]
        },
        {
          "data": {
            "text/plain": [
              "(1, 2)"
            ]
          },
          "execution_count": 177,
          "metadata": {},
          "output_type": "execute_result"
        }
      ],
      "source": [
        "# pop devuelve un elemento y lo borra del set, internamente\n",
        "b={6,3,4,5, \"a\", (1,2),9,8}\n",
        "print(b)\n",
        "elem=b.pop()\n",
        "elem"
      ]
    },
    {
      "cell_type": "code",
      "execution_count": null,
      "metadata": {
        "id": "6Gf00izWBr8-",
        "outputId": "d6f6d955-10a0-4906-b399-bc5bcc2ce73a"
      },
      "outputs": [
        {
          "data": {
            "text/plain": [
              "3"
            ]
          },
          "execution_count": 130,
          "metadata": {},
          "output_type": "execute_result"
        }
      ],
      "source": [
        "elem"
      ]
    },
    {
      "cell_type": "code",
      "execution_count": null,
      "metadata": {
        "id": "RjyvvvEeBr8-",
        "outputId": "f7d5553a-2604-4df8-97d1-00ad06f85dd7"
      },
      "outputs": [
        {
          "data": {
            "text/plain": [
              "{1, 2, 3, 4, 6}"
            ]
          },
          "execution_count": 179,
          "metadata": {},
          "output_type": "execute_result"
        }
      ],
      "source": [
        "a = {1,2,3}\n",
        "b = {2,4,6}\n",
        "# union\n",
        "print(a | b) # or\n",
        "b.union(a) # devuelve, no modifica internamente"
      ]
    },
    {
      "cell_type": "code",
      "execution_count": null,
      "metadata": {
        "id": "as2cv-lFBr8_",
        "outputId": "82214679-528d-4529-d7ed-b6079e9aa517"
      },
      "outputs": [
        {
          "data": {
            "text/plain": [
              "{2, 4, 6}"
            ]
          },
          "execution_count": 180,
          "metadata": {},
          "output_type": "execute_result"
        }
      ],
      "source": [
        "b"
      ]
    },
    {
      "cell_type": "code",
      "execution_count": null,
      "metadata": {
        "id": "emArnJ-hBr8_",
        "outputId": "087e6460-6bda-416f-b7fd-2b60aff50110"
      },
      "outputs": [
        {
          "data": {
            "text/plain": [
              "{1, 2, 3}"
            ]
          },
          "execution_count": 181,
          "metadata": {},
          "output_type": "execute_result"
        }
      ],
      "source": [
        "a"
      ]
    },
    {
      "cell_type": "code",
      "execution_count": null,
      "metadata": {
        "id": "rMr9mLY-Br8_",
        "outputId": "ff721ef2-eab0-44cc-efab-9c984fdc0c92"
      },
      "outputs": [
        {
          "name": "stdout",
          "output_type": "stream",
          "text": [
            "{2}\n"
          ]
        },
        {
          "data": {
            "text/plain": [
              "{2}"
            ]
          },
          "execution_count": 182,
          "metadata": {},
          "output_type": "execute_result"
        }
      ],
      "source": [
        "# interseccion\n",
        "print(a & b) # and\n",
        "a.intersection(b)"
      ]
    },
    {
      "cell_type": "code",
      "execution_count": null,
      "metadata": {
        "id": "lqxoEOwKBr8_",
        "outputId": "907e40f4-d5f2-4326-e8aa-2cc33db66433"
      },
      "outputs": [
        {
          "data": {
            "text/plain": [
              "{1, 3}"
            ]
          },
          "execution_count": 185,
          "metadata": {},
          "output_type": "execute_result"
        }
      ],
      "source": [
        "a = {1,2,3}\n",
        "b = {2,4,6}\n",
        "# difference = elementos de a que no estan en b\n",
        "a-b\n"
      ]
    },
    {
      "cell_type": "code",
      "execution_count": null,
      "metadata": {
        "id": "3CZUzppyBr8_",
        "outputId": "120df935-6483-41ac-9407-040b3f2fa245"
      },
      "outputs": [
        {
          "data": {
            "text/plain": [
              "{1, 3}"
            ]
          },
          "execution_count": 186,
          "metadata": {},
          "output_type": "execute_result"
        }
      ],
      "source": [
        "a.difference(b)"
      ]
    },
    {
      "cell_type": "code",
      "execution_count": null,
      "metadata": {
        "id": "feoSjkiRBr8_",
        "outputId": "a0573228-4b59-41d9-a2ea-c437a4a503bc"
      },
      "outputs": [
        {
          "data": {
            "text/plain": [
              "{1, 3, 4, 6}"
            ]
          },
          "execution_count": 191,
          "metadata": {},
          "output_type": "execute_result"
        }
      ],
      "source": [
        "a = {1,2,3}\n",
        "b = {2,4,6}\n",
        "# symmetric difference, lo contrario a la interseccion\n",
        "a^b"
      ]
    },
    {
      "cell_type": "markdown",
      "metadata": {
        "id": "T6H1BwXkBr8_"
      },
      "source": [
        "![image.png](attachment:image.png)"
      ]
    },
    {
      "cell_type": "code",
      "execution_count": null,
      "metadata": {
        "id": "keq50tZzBr8_",
        "outputId": "2c39f93d-ac18-4fff-a8b5-81715768b27e"
      },
      "outputs": [
        {
          "data": {
            "text/plain": [
              "{1, 3, 4, 6}"
            ]
          },
          "execution_count": 192,
          "metadata": {},
          "output_type": "execute_result"
        }
      ],
      "source": [
        "a.symmetric_difference(b)"
      ]
    },
    {
      "cell_type": "code",
      "execution_count": null,
      "metadata": {
        "id": "B_9-tRwVBr9A",
        "outputId": "f85e64db-ff04-4b1b-e529-d3f61cc75d30"
      },
      "outputs": [
        {
          "data": {
            "text/plain": [
              "False"
            ]
          },
          "execution_count": 195,
          "metadata": {},
          "output_type": "execute_result"
        }
      ],
      "source": [
        "# no son conjuntos que no tengan interseccion\n",
        "a={1,2,3}\n",
        "b={3,4}\n",
        "a.isdisjoint(b) # una funcion que retorna True si no tienen interseccion"
      ]
    },
    {
      "cell_type": "code",
      "execution_count": null,
      "metadata": {
        "id": "mgMfDLs8Br9A",
        "outputId": "0a67be8f-b6fa-4590-8e48-9044bc417ecd"
      },
      "outputs": [
        {
          "data": {
            "text/plain": [
              "True"
            ]
          },
          "execution_count": 197,
          "metadata": {},
          "output_type": "execute_result"
        }
      ],
      "source": [
        "# 2 es un subconjunto de b\n",
        "b={1,2,3,4}\n",
        "{2,3}.issubset(b)"
      ]
    },
    {
      "cell_type": "code",
      "execution_count": null,
      "metadata": {
        "id": "W6cSxe5bBr9A",
        "outputId": "95a6d8f9-0b95-4ca7-aa64-5d3eeb58d1d6"
      },
      "outputs": [
        {
          "data": {
            "text/plain": [
              "False"
            ]
          },
          "execution_count": 199,
          "metadata": {},
          "output_type": "execute_result"
        }
      ],
      "source": [
        "# si b contiene al conjunto {2}\n",
        "b.issuperset({1,3}) # b contiene al subconjunto {2}"
      ]
    },
    {
      "cell_type": "code",
      "execution_count": null,
      "metadata": {
        "id": "lWGEcZDzBr9A"
      },
      "outputs": [],
      "source": [
        "a = {1,2,3}\n",
        "b = {2,4,6}\n",
        "a.update(b)"
      ]
    },
    {
      "cell_type": "code",
      "execution_count": null,
      "metadata": {
        "id": "m85ZE0g1Br9A",
        "outputId": "52c2ed15-5d69-47d4-c299-0a14be1884d7"
      },
      "outputs": [
        {
          "data": {
            "text/plain": [
              "{1, 2, 3, 4, 6}"
            ]
          },
          "execution_count": 207,
          "metadata": {},
          "output_type": "execute_result"
        }
      ],
      "source": [
        "a"
      ]
    },
    {
      "cell_type": "code",
      "execution_count": null,
      "metadata": {
        "id": "HyIx58RTBr9A",
        "outputId": "70186d5c-a709-46f6-fb39-b68a76f98f9e"
      },
      "outputs": [
        {
          "data": {
            "text/plain": [
              "{1, 3}"
            ]
          },
          "execution_count": 208,
          "metadata": {},
          "output_type": "execute_result"
        }
      ],
      "source": [
        "# a= a-b = a.difference(b)\n",
        "a.difference_update(b) # retorna nada a=a-b\n",
        "a"
      ]
    },
    {
      "cell_type": "code",
      "execution_count": null,
      "metadata": {
        "id": "6Z7d9ojBBr9B"
      },
      "outputs": [],
      "source": [
        "# a = a & b\n",
        "a = {1,2,3}\n",
        "b = {2,4,6}\n",
        "a.intersection_update(b) # a se actualiza internamente con la intersección con b"
      ]
    },
    {
      "cell_type": "code",
      "execution_count": null,
      "metadata": {
        "id": "SWEUpa3yBr9B",
        "outputId": "2a930a81-ac53-422d-db22-f10e0f5a17ad"
      },
      "outputs": [
        {
          "data": {
            "text/plain": [
              "{2}"
            ]
          },
          "execution_count": 210,
          "metadata": {},
          "output_type": "execute_result"
        }
      ],
      "source": [
        "a"
      ]
    },
    {
      "cell_type": "code",
      "execution_count": null,
      "metadata": {
        "id": "lKpTnh1EBr9B",
        "outputId": "bc73ef4b-8824-49be-c4fe-f66372156181"
      },
      "outputs": [
        {
          "data": {
            "text/plain": [
              "{2, 4, 6}"
            ]
          },
          "execution_count": 153,
          "metadata": {},
          "output_type": "execute_result"
        }
      ],
      "source": [
        "b"
      ]
    },
    {
      "cell_type": "code",
      "execution_count": null,
      "metadata": {
        "id": "DRVsTCLuBr9B"
      },
      "outputs": [],
      "source": [
        "# a = a ^ b\n",
        "a = {1,2,3}\n",
        "b = {2,4,6}\n",
        "a.symmetric_difference_update(b)"
      ]
    },
    {
      "cell_type": "code",
      "execution_count": null,
      "metadata": {
        "id": "wjqzykUnBr9B",
        "outputId": "47c1b608-35f2-48a3-f6aa-40874fc955f1"
      },
      "outputs": [
        {
          "name": "stdout",
          "output_type": "stream",
          "text": [
            "{1, 3, 4, 6}\n"
          ]
        }
      ],
      "source": [
        "\n",
        "print(a)"
      ]
    },
    {
      "cell_type": "code",
      "execution_count": null,
      "metadata": {
        "id": "gVwjhciJBr9B"
      },
      "outputs": [],
      "source": [
        "a.clear()"
      ]
    },
    {
      "cell_type": "code",
      "execution_count": null,
      "metadata": {
        "id": "JNnRsJhbBr9B",
        "outputId": "283296b2-97ff-4a37-cd9f-340721062e31"
      },
      "outputs": [
        {
          "data": {
            "text/plain": [
              "set()"
            ]
          },
          "execution_count": 214,
          "metadata": {},
          "output_type": "execute_result"
        }
      ],
      "source": [
        "a"
      ]
    },
    {
      "cell_type": "code",
      "execution_count": null,
      "metadata": {
        "id": "LjpmhRC5Br9C",
        "outputId": "15deb069-3fed-4874-dc01-4b72861fcde7"
      },
      "outputs": [
        {
          "name": "stdout",
          "output_type": "stream",
          "text": [
            "<class 'set'>\n"
          ]
        }
      ],
      "source": [
        "a={}\n",
        "a=set()\n",
        "print(type(a)) # lo pone como dict"
      ]
    },
    {
      "cell_type": "code",
      "execution_count": null,
      "metadata": {
        "id": "enHbQJ8FBr9C",
        "outputId": "dbf11314-7fc6-47e7-d2e8-b5b7124b9f9a"
      },
      "outputs": [
        {
          "name": "stdout",
          "output_type": "stream",
          "text": [
            "1\n",
            "2\n",
            "37\n"
          ]
        }
      ],
      "source": [
        "for i in {1,2,37}:\n",
        "    print(i)"
      ]
    },
    {
      "cell_type": "code",
      "execution_count": null,
      "metadata": {
        "id": "macvDzO8Br9C",
        "outputId": "004d74e4-02a1-4822-bb18-619238feae91"
      },
      "outputs": [
        {
          "data": {
            "text/plain": [
              "{1, 2, 3}"
            ]
          },
          "execution_count": 217,
          "metadata": {},
          "output_type": "execute_result"
        }
      ],
      "source": [
        "set((1,1,2,3))"
      ]
    },
    {
      "cell_type": "code",
      "execution_count": null,
      "metadata": {
        "id": "6MNHvEN2Br9C",
        "outputId": "1730ec90-1cf7-4084-d16f-9e38648fa40c"
      },
      "outputs": [
        {
          "ename": "TypeError",
          "evalue": "unhashable type: 'list'",
          "output_type": "error",
          "traceback": [
            "\u001b[1;31m---------------------------------------------------------------------------\u001b[0m",
            "\u001b[1;31mTypeError\u001b[0m                                 Traceback (most recent call last)",
            "Cell \u001b[1;32mIn[218], line 1\u001b[0m\n\u001b[1;32m----> 1\u001b[0m s\u001b[38;5;241m=\u001b[39m{[\u001b[38;5;241m1\u001b[39m,\u001b[38;5;241m2\u001b[39m],[\u001b[38;5;241m3\u001b[39m]}\n",
            "\u001b[1;31mTypeError\u001b[0m: unhashable type: 'list'"
          ]
        }
      ],
      "source": [
        "s={[1,2],[3]} # tienen que ser inmutables\n"
      ]
    },
    {
      "cell_type": "code",
      "execution_count": null,
      "metadata": {
        "id": "y6iGSO8pBr9C",
        "outputId": "15ebd1f9-e578-467e-bb13-6bad105ed431"
      },
      "outputs": [
        {
          "data": {
            "text/plain": [
              "{(1, 2, 3), (2, 3)}"
            ]
          },
          "execution_count": 220,
          "metadata": {},
          "output_type": "execute_result"
        }
      ],
      "source": [
        "s={(1,2,3),(2,3),(2,3)}\n",
        "s"
      ]
    },
    {
      "cell_type": "code",
      "execution_count": null,
      "metadata": {
        "id": "03yF010kBr9C",
        "outputId": "58e60b54-aaf3-4d85-cb18-77e406c33530"
      },
      "outputs": [
        {
          "name": "stdout",
          "output_type": "stream",
          "text": [
            "(2, 3)\n",
            "(1, 2, 3)\n"
          ]
        }
      ],
      "source": [
        "for i in s:\n",
        "    print(i)"
      ]
    },
    {
      "cell_type": "code",
      "execution_count": null,
      "metadata": {
        "id": "X7feYpOZBr9C",
        "outputId": "1854d26d-1c23-413d-fd1c-ca5796e58715"
      },
      "outputs": [
        {
          "data": {
            "text/plain": [
              "((2, 3), (1, 2, 3))"
            ]
          },
          "execution_count": 223,
          "metadata": {},
          "output_type": "execute_result"
        }
      ],
      "source": [
        "tuple(s)"
      ]
    },
    {
      "cell_type": "markdown",
      "metadata": {
        "id": "A6NhVWuNBr9C"
      },
      "source": [
        "# Diccionarios"
      ]
    },
    {
      "cell_type": "code",
      "execution_count": null,
      "metadata": {
        "id": "wM56P4ZzBr9D",
        "outputId": "a990c76d-b130-4024-8de9-4991049b8d4f"
      },
      "outputs": [
        {
          "data": {
            "text/plain": [
              "{1: [1, 2, 3], 'key': 'valor'}"
            ]
          },
          "execution_count": 19,
          "metadata": {},
          "output_type": "execute_result"
        }
      ],
      "source": [
        "a={\"clave\": 1,\n",
        "   \"num\": 1} # {key: value}\n",
        "\n",
        "\n",
        "d=dict([(1,[1,2,3]),\n",
        "        (\"key\",\"valor\")])\n",
        "# no se puede sumar diccionarios\n",
        "d"
      ]
    },
    {
      "cell_type": "code",
      "execution_count": null,
      "metadata": {
        "id": "vz3Gzfu4Br9D",
        "outputId": "0087aeeb-659b-4797-b0d1-3fc5f3bd5065"
      },
      "outputs": [
        {
          "data": {
            "text/plain": [
              "{1: 2, 9: 2}"
            ]
          },
          "execution_count": 69,
          "metadata": {},
          "output_type": "execute_result"
        }
      ],
      "source": [
        "dict([[1,2],[9,2]])"
      ]
    },
    {
      "cell_type": "code",
      "execution_count": null,
      "metadata": {
        "id": "AoSn1-DcBr9D"
      },
      "outputs": [],
      "source": [
        "# diccionario vacio\n",
        "d = {}"
      ]
    },
    {
      "cell_type": "code",
      "execution_count": null,
      "metadata": {
        "id": "-iU4EOrYBr9D",
        "outputId": "0f9c734d-a261-4fdc-cacf-847dd37593e8"
      },
      "outputs": [
        {
          "data": {
            "text/plain": [
              "dict"
            ]
          },
          "execution_count": 18,
          "metadata": {},
          "output_type": "execute_result"
        }
      ],
      "source": [
        "type(d)"
      ]
    },
    {
      "cell_type": "code",
      "execution_count": null,
      "metadata": {
        "id": "T7qXez6yBr9D",
        "outputId": "6c30cd93-194c-4164-d12e-f1dbb21fc08b"
      },
      "outputs": [
        {
          "data": {
            "text/plain": [
              "'Alumno'"
            ]
          },
          "execution_count": 24,
          "metadata": {},
          "output_type": "execute_result"
        }
      ],
      "source": [
        "d={\"Miquel\":\"Profe\",\n",
        "   \"Pablo\":\"Alumno\",\n",
        "   \"Natalia\":\"Alumna\",\n",
        "   \"Viviana\":\"Alumna\",\n",
        "   \"Adrian\":\"Alumno\"}\n"
      ]
    },
    {
      "cell_type": "code",
      "execution_count": null,
      "metadata": {
        "id": "KIpj3DXKBr9D",
        "outputId": "e371efb1-fa48-4a5d-c11b-d197740a541a"
      },
      "outputs": [
        {
          "data": {
            "text/plain": [
              "'Alumno'"
            ]
          },
          "execution_count": 26,
          "metadata": {},
          "output_type": "execute_result"
        }
      ],
      "source": [
        "d[\"Adrian\"]"
      ]
    },
    {
      "cell_type": "code",
      "execution_count": null,
      "metadata": {
        "id": "cb8Jm4oGBr9E",
        "outputId": "bae41159-ef94-429a-f436-656e3d860829"
      },
      "outputs": [
        {
          "data": {
            "text/plain": [
              "'Profe'"
            ]
          },
          "execution_count": 33,
          "metadata": {},
          "output_type": "execute_result"
        }
      ],
      "source": [
        "# acceder a la información mediante las keys\n",
        "d[\"Miquel\"]"
      ]
    },
    {
      "cell_type": "code",
      "execution_count": null,
      "metadata": {
        "id": "5srzwAOdBr9E",
        "outputId": "ff4b0ef7-669d-491e-ee24-c38d01d6eb2f"
      },
      "outputs": [
        {
          "ename": "KeyError",
          "evalue": "1",
          "output_type": "error",
          "traceback": [
            "\u001b[1;31m---------------------------------------------------------------------------\u001b[0m",
            "\u001b[1;31mKeyError\u001b[0m                                  Traceback (most recent call last)",
            "Cell \u001b[1;32mIn[29], line 1\u001b[0m\n\u001b[1;32m----> 1\u001b[0m \u001b[43md\u001b[49m\u001b[43m[\u001b[49m\u001b[38;5;241;43m1\u001b[39;49m\u001b[43m]\u001b[49m\n",
            "\u001b[1;31mKeyError\u001b[0m: 1"
          ]
        }
      ],
      "source": [
        "d[1]"
      ]
    },
    {
      "cell_type": "code",
      "execution_count": null,
      "metadata": {
        "id": "bt4rdQ4ZBr9E"
      },
      "outputs": [],
      "source": [
        "# get también accede pero no da error\n",
        "b=d.get(1)"
      ]
    },
    {
      "cell_type": "code",
      "execution_count": null,
      "metadata": {
        "id": "VJZBoEs2Br9E",
        "outputId": "f0d39d87-142b-4bea-da85-8017c080eb7e"
      },
      "outputs": [
        {
          "data": {
            "text/plain": [
              "True"
            ]
          },
          "execution_count": 32,
          "metadata": {},
          "output_type": "execute_result"
        }
      ],
      "source": [
        "b is None"
      ]
    },
    {
      "cell_type": "code",
      "execution_count": null,
      "metadata": {
        "id": "7N_GguR9Br9F",
        "outputId": "2d68a55a-da88-44fc-dab6-3defa5c7dda1"
      },
      "outputs": [
        {
          "ename": "KeyError",
          "evalue": "'key'",
          "output_type": "error",
          "traceback": [
            "\u001b[1;31m---------------------------------------------------------------------------\u001b[0m",
            "\u001b[1;31mKeyError\u001b[0m                                  Traceback (most recent call last)",
            "Cell \u001b[1;32mIn[36], line 1\u001b[0m\n\u001b[1;32m----> 1\u001b[0m \u001b[43md\u001b[49m\u001b[43m[\u001b[49m\u001b[38;5;124;43m\"\u001b[39;49m\u001b[38;5;124;43mkey\u001b[39;49m\u001b[38;5;124;43m\"\u001b[39;49m\u001b[43m]\u001b[49m\n",
            "\u001b[1;31mKeyError\u001b[0m: 'key'"
          ]
        }
      ],
      "source": [
        "d[\"key\"]"
      ]
    },
    {
      "cell_type": "code",
      "execution_count": null,
      "metadata": {
        "id": "wv1ECakJBr9F"
      },
      "outputs": [],
      "source": [
        "# podemos declarar un nuevo par de forma sencilla\n",
        "d[\"key\"] = \"valor\"\n",
        "d[\"key1\"] = 99999"
      ]
    },
    {
      "cell_type": "code",
      "execution_count": null,
      "metadata": {
        "id": "kst-xNOhBr9F"
      },
      "outputs": [],
      "source": [
        "d[0]=1 # declaro el nuevo par"
      ]
    },
    {
      "cell_type": "code",
      "execution_count": null,
      "metadata": {
        "id": "V0VGLCUABr9F"
      },
      "outputs": [],
      "source": [
        "d={}"
      ]
    },
    {
      "cell_type": "code",
      "execution_count": null,
      "metadata": {
        "id": "L0O2L7WvBr9F",
        "outputId": "40b517d6-20db-4e95-c622-ade881c6591f"
      },
      "outputs": [
        {
          "data": {
            "text/plain": [
              "{0: 2}"
            ]
          },
          "execution_count": 48,
          "metadata": {},
          "output_type": "execute_result"
        }
      ],
      "source": [
        "d[0]+=1\n",
        "# d[0] = d[0] + 1\n",
        "d"
      ]
    },
    {
      "cell_type": "code",
      "execution_count": null,
      "metadata": {
        "id": "I3cd_c2HBr9F"
      },
      "outputs": [],
      "source": [
        "if 0 in d: # si ya está, le sumo 1\n",
        "    d[0]+=1\n",
        "else:\n",
        "    d[0] =1 # si no está, declaro la key 0 con el valor 1"
      ]
    },
    {
      "cell_type": "code",
      "execution_count": null,
      "metadata": {
        "id": "427sHBKMBr9G",
        "outputId": "48dac08c-7cc4-4a22-afd9-4f2a0909058c"
      },
      "outputs": [
        {
          "data": {
            "text/plain": [
              "{0: 5}"
            ]
          },
          "execution_count": 54,
          "metadata": {},
          "output_type": "execute_result"
        }
      ],
      "source": [
        "d"
      ]
    },
    {
      "cell_type": "code",
      "execution_count": null,
      "metadata": {
        "id": "M3ue7q1YBr9G",
        "outputId": "e6782ae4-7ca7-4594-b91d-3a5e18a90a9f"
      },
      "outputs": [
        {
          "data": {
            "text/plain": [
              "{'Miquel': 'Profe',\n",
              " 'Pablo': 'Alumno',\n",
              " 'Natalia': 'Alumna',\n",
              " 'Viviana': 'Alumna',\n",
              " 'Adrian': 'Alumno',\n",
              " 'key': 'valor',\n",
              " 'key1': 99999,\n",
              " 'new_key': 1}"
            ]
          },
          "execution_count": 251,
          "metadata": {},
          "output_type": "execute_result"
        }
      ],
      "source": [
        "d[\"new_key\"]=1 # estoy declarando una nueva posicion de memoria con su valor\n",
        "d"
      ]
    },
    {
      "cell_type": "code",
      "execution_count": null,
      "metadata": {
        "id": "tVlPrfOsBr9G"
      },
      "outputs": [],
      "source": [
        "d[1] = [1,2,3,4,5]\n",
        "# key tiene que ser inmutable\n",
        "# el valor puede ser mutable"
      ]
    },
    {
      "cell_type": "code",
      "execution_count": null,
      "metadata": {
        "id": "As7KGlgHBr9G",
        "outputId": "fd1833fa-fc03-4706-856b-f635e42bd360"
      },
      "outputs": [
        {
          "data": {
            "text/plain": [
              "{'Miquel': 'Profe',\n",
              " 'Pablo': 'Alumno',\n",
              " 'Natalia': 'Alumna',\n",
              " 'Viviana': 'Alumna',\n",
              " 'Adrian': 'Alumno',\n",
              " 'key': 'valor',\n",
              " 'key1': 99999,\n",
              " 'new_key': 1,\n",
              " 1: [1, 2, 3, 4, 5]}"
            ]
          },
          "execution_count": 253,
          "metadata": {},
          "output_type": "execute_result"
        }
      ],
      "source": [
        "d"
      ]
    },
    {
      "cell_type": "markdown",
      "metadata": {
        "id": "K4jWg-4uBr9G"
      },
      "source": [
        "### Ejercicio: Haced un diccionario con datos de una persona\n",
        "Primero hacerlo todo de golpe, declarando el diccionario con todos los datos, después volved a crearlo pero primero declarandolo vacío y llenandolo poco a poco"
      ]
    },
    {
      "cell_type": "code",
      "execution_count": null,
      "metadata": {
        "id": "Fz58fEyvBr9G"
      },
      "outputs": [],
      "source": [
        "# nombre, apellido, edad, dni, dirección"
      ]
    },
    {
      "cell_type": "code",
      "execution_count": null,
      "metadata": {
        "id": "IU4YiFXtBr9G"
      },
      "outputs": [],
      "source": [
        "d={'nombre': 'Miquel',\n",
        "  'apellido':'porcar',\n",
        "  'dni':20000000000000,\n",
        "  'edad':10}\n"
      ]
    },
    {
      "cell_type": "code",
      "execution_count": null,
      "metadata": {
        "id": "t-8qbxHUBr9H"
      },
      "outputs": [],
      "source": [
        "d={}\n",
        "d['nombre']='Miquel'\n",
        "d['apellido']='porcar'"
      ]
    },
    {
      "cell_type": "code",
      "execution_count": null,
      "metadata": {
        "id": "xcBGve0aBr9H"
      },
      "outputs": [],
      "source": [
        "d[\"[1,2,3]\"]=1"
      ]
    },
    {
      "cell_type": "markdown",
      "metadata": {
        "id": "OuJV8m4WBr9H"
      },
      "source": [
        "#### Update"
      ]
    },
    {
      "cell_type": "code",
      "execution_count": null,
      "metadata": {
        "id": "iC58tUQ-Br9H"
      },
      "outputs": [],
      "source": [
        "d.update({(1,2):\"999999\", \"apellido\":[1,2,3]}) # d.update({dict})"
      ]
    },
    {
      "cell_type": "code",
      "execution_count": null,
      "metadata": {
        "id": "sorNrhrdBr9H",
        "outputId": "ee725b1e-71a0-425e-e3ff-e1592f794e49"
      },
      "outputs": [
        {
          "data": {
            "text/plain": [
              "{'nombre': 'Miquel',\n",
              " 'apellido': [1, 2, 3],\n",
              " '[1,2,3]': 1,\n",
              " (1, 2): '999999',\n",
              " 'key': [1, 2, 3]}"
            ]
          },
          "execution_count": 74,
          "metadata": {},
          "output_type": "execute_result"
        }
      ],
      "source": [
        "d"
      ]
    },
    {
      "cell_type": "code",
      "execution_count": null,
      "metadata": {
        "id": "DS1QaMdjBr9H"
      },
      "outputs": [],
      "source": [
        "# No se puede tener objetos mutables como keys"
      ]
    },
    {
      "cell_type": "code",
      "execution_count": null,
      "metadata": {
        "id": "frjvm2gQBr9H",
        "outputId": "47a8d615-445a-45ab-e98b-538b8e7b9dd1"
      },
      "outputs": [
        {
          "ename": "TypeError",
          "evalue": "unhashable type: 'list'",
          "output_type": "error",
          "traceback": [
            "\u001b[1;31m---------------------------------------------------------------------------\u001b[0m",
            "\u001b[1;31mTypeError\u001b[0m                                 Traceback (most recent call last)",
            "Cell \u001b[1;32mIn[75], line 1\u001b[0m\n\u001b[1;32m----> 1\u001b[0m d\u001b[38;5;241m.\u001b[39mupdate({[\u001b[38;5;241m1\u001b[39m,\u001b[38;5;241m2\u001b[39m]:\u001b[38;5;124m\"\u001b[39m\u001b[38;5;124madios\u001b[39m\u001b[38;5;124m\"\u001b[39m})\n",
            "\u001b[1;31mTypeError\u001b[0m: unhashable type: 'list'"
          ]
        }
      ],
      "source": [
        "d.update({[1,2]:\"adios\"})"
      ]
    },
    {
      "cell_type": "code",
      "execution_count": null,
      "metadata": {
        "id": "BBwHfo4iBr9H",
        "outputId": "a05a57de-b966-4026-ba89-5baaa3a40ae7"
      },
      "outputs": [
        {
          "data": {
            "text/plain": [
              "{'nombre': 'Miquel',\n",
              " 'apellido': [1, 2, 3],\n",
              " '[1,2,3]': 1,\n",
              " (1, 2): '999999',\n",
              " 'key': [1, 2, 3]}"
            ]
          },
          "execution_count": 76,
          "metadata": {},
          "output_type": "execute_result"
        }
      ],
      "source": [
        "d"
      ]
    },
    {
      "cell_type": "code",
      "execution_count": null,
      "metadata": {
        "id": "yVj46zogBr9I",
        "outputId": "156dc2f2-4a55-4d6e-c860-6b8f592af0c8"
      },
      "outputs": [
        {
          "ename": "KeyError",
          "evalue": "(1, 2)",
          "output_type": "error",
          "traceback": [
            "\u001b[1;31m---------------------------------------------------------------------------\u001b[0m",
            "\u001b[1;31mKeyError\u001b[0m                                  Traceback (most recent call last)",
            "Cell \u001b[1;32mIn[81], line 1\u001b[0m\n\u001b[1;32m----> 1\u001b[0m \u001b[38;5;28;01mdel\u001b[39;00m d[(\u001b[38;5;241m1\u001b[39m,\u001b[38;5;241m2\u001b[39m)]\n",
            "\u001b[1;31mKeyError\u001b[0m: (1, 2)"
          ]
        }
      ],
      "source": [
        "del d[(1,2)] # accedo a la posicion (1,2) del diccionario y la borro"
      ]
    },
    {
      "cell_type": "code",
      "execution_count": null,
      "metadata": {
        "id": "ynWFAzADBr9I"
      },
      "outputs": [],
      "source": [
        "d['key']=1"
      ]
    },
    {
      "cell_type": "code",
      "execution_count": null,
      "metadata": {
        "id": "weBHhNoaBr9I"
      },
      "outputs": [],
      "source": [
        "d['key']"
      ]
    },
    {
      "cell_type": "code",
      "execution_count": null,
      "metadata": {
        "id": "lvHbrhsyBr9I"
      },
      "outputs": [],
      "source": [
        "d['key']=d['key']+1\n",
        "d['key']"
      ]
    },
    {
      "cell_type": "code",
      "execution_count": null,
      "metadata": {
        "id": "gbrH7CzBBr9I",
        "outputId": "f33bea79-5550-4c78-a9fc-e37595172ef4"
      },
      "outputs": [
        {
          "ename": "KeyError",
          "evalue": "'key'",
          "output_type": "error",
          "traceback": [
            "\u001b[1;31m---------------------------------------------------------------------------\u001b[0m",
            "\u001b[1;31mKeyError\u001b[0m                                  Traceback (most recent call last)",
            "Cell \u001b[1;32mIn[91], line 2\u001b[0m\n\u001b[0;32m      1\u001b[0m \u001b[38;5;66;03m# pop borra el elemento con clave \"key\", y lo devuelve, un metodo mas de diccionario\u001b[39;00m\n\u001b[1;32m----> 2\u001b[0m a\u001b[38;5;241m=\u001b[39m\u001b[43md\u001b[49m\u001b[38;5;241;43m.\u001b[39;49m\u001b[43mpop\u001b[49m\u001b[43m(\u001b[49m\u001b[38;5;124;43m'\u001b[39;49m\u001b[38;5;124;43mkey\u001b[39;49m\u001b[38;5;124;43m'\u001b[39;49m\u001b[43m)\u001b[49m\n",
            "\u001b[1;31mKeyError\u001b[0m: 'key'"
          ]
        }
      ],
      "source": [
        "# pop borra el elemento con clave \"key\", y lo devuelve, un metodo mas de diccionario\n",
        "a=d.pop('key')"
      ]
    },
    {
      "cell_type": "code",
      "execution_count": null,
      "metadata": {
        "id": "RM5b_xt1Br9J",
        "outputId": "26a270d1-9b64-4729-b082-109fd7a3cbcb"
      },
      "outputs": [
        {
          "name": "stdout",
          "output_type": "stream",
          "text": [
            "{1: 'valor', 'key': 2, 'key2': 4, 'key1': 3}\n"
          ]
        },
        {
          "data": {
            "text/plain": [
              "('key1', 3)"
            ]
          },
          "execution_count": 108,
          "metadata": {},
          "output_type": "execute_result"
        }
      ],
      "source": [
        "# popitem\n",
        "d=dict([(1,\"valor\"),(\"key\",2),(\"key2\",4),(\"key1\",3)])\n",
        "print(d)\n",
        "d.popitem() # elimina uno internamente y te lo devuelve\n"
      ]
    },
    {
      "cell_type": "code",
      "execution_count": null,
      "metadata": {
        "id": "ZfsntWSNBr9J",
        "outputId": "3d473094-6728-4f1d-e742-41936df7247f"
      },
      "outputs": [
        {
          "ename": "KeyError",
          "evalue": "'popitem(): dictionary is empty'",
          "output_type": "error",
          "traceback": [
            "\u001b[1;31m---------------------------------------------------------------------------\u001b[0m",
            "\u001b[1;31mKeyError\u001b[0m                                  Traceback (most recent call last)",
            "Cell \u001b[1;32mIn[107], line 1\u001b[0m\n\u001b[1;32m----> 1\u001b[0m \u001b[43md\u001b[49m\u001b[38;5;241;43m.\u001b[39;49m\u001b[43mpopitem\u001b[49m\u001b[43m(\u001b[49m\u001b[43m)\u001b[49m\n",
            "\u001b[1;31mKeyError\u001b[0m: 'popitem(): dictionary is empty'"
          ]
        }
      ],
      "source": [
        "d.popitem()"
      ]
    },
    {
      "cell_type": "code",
      "execution_count": null,
      "metadata": {
        "id": "OI26xSQQBr9J",
        "outputId": "39c58924-7c97-44d0-c1ea-3292a4b35d72"
      },
      "outputs": [
        {
          "data": {
            "text/plain": [
              "dict_items([(1, 'valor'), ('key', 2), ('key2', 4)])"
            ]
          },
          "execution_count": 109,
          "metadata": {},
          "output_type": "execute_result"
        }
      ],
      "source": [
        "d.items() # que nos devuelve un \"tipo\" de lista que se podrá iterar"
      ]
    },
    {
      "cell_type": "code",
      "execution_count": null,
      "metadata": {
        "id": "LNwutVFSBr9J",
        "outputId": "4088b91b-310b-4e1e-947b-2a3f933355ac"
      },
      "outputs": [
        {
          "name": "stdout",
          "output_type": "stream",
          "text": [
            "(1, 'valor')\n",
            "('key', 2)\n",
            "('key2', 4)\n"
          ]
        }
      ],
      "source": [
        "for l in d.items(): # d.items() no se puede acceder a las posiciones pero si iterar\n",
        "    print(l)"
      ]
    },
    {
      "cell_type": "code",
      "execution_count": null,
      "metadata": {
        "id": "Rlvi4FQrBr9K"
      },
      "outputs": [],
      "source": [
        "# d.items() devuelve un generador/iterador que tiene el par (key, value) como tupla"
      ]
    },
    {
      "cell_type": "code",
      "execution_count": null,
      "metadata": {
        "id": "5kQxYBxtBr9K",
        "outputId": "19f0ac48-3203-40d5-b0e9-b8bc250a48d7"
      },
      "outputs": [
        {
          "name": "stdout",
          "output_type": "stream",
          "text": [
            "1 -> valor\n",
            "key -> 2\n",
            "key2 -> 4\n"
          ]
        }
      ],
      "source": [
        "# .keys()\n",
        "for key in d.keys(): # == key in d:\n",
        "    print(key, \"->\", d[key])"
      ]
    },
    {
      "cell_type": "code",
      "execution_count": null,
      "metadata": {
        "id": "xsWpAr7dBr9K",
        "outputId": "9c7c45dc-e2b8-4aa6-88b1-fcd81b6a9991"
      },
      "outputs": [
        {
          "data": {
            "text/plain": [
              "'valor'"
            ]
          },
          "execution_count": 299,
          "metadata": {},
          "output_type": "execute_result"
        }
      ],
      "source": [
        "d[1]"
      ]
    },
    {
      "cell_type": "code",
      "execution_count": null,
      "metadata": {
        "id": "-tREbvvwBr9K",
        "outputId": "7aa57d70-7dad-4c15-c52d-fabffe47519a"
      },
      "outputs": [
        {
          "data": {
            "text/plain": [
              "dict_values(['valor', 2, 4])"
            ]
          },
          "execution_count": 121,
          "metadata": {},
          "output_type": "execute_result"
        }
      ],
      "source": [
        "# .values()\n",
        "d.values()"
      ]
    },
    {
      "cell_type": "code",
      "execution_count": null,
      "metadata": {
        "id": "EzBguUgPBr9K",
        "outputId": "ff1a63a9-908f-420e-9a6b-368a75e15189"
      },
      "outputs": [
        {
          "name": "stdout",
          "output_type": "stream",
          "text": [
            "valor\n",
            "2\n",
            "4\n"
          ]
        }
      ],
      "source": [
        "for value in d.values():\n",
        "    print(value)"
      ]
    },
    {
      "cell_type": "code",
      "execution_count": null,
      "metadata": {
        "id": "G8Z8xNRjBr9K",
        "outputId": "cc418e12-e080-448a-a173-8261cc604050"
      },
      "outputs": [
        {
          "data": {
            "text/plain": [
              "True"
            ]
          },
          "execution_count": 124,
          "metadata": {},
          "output_type": "execute_result"
        }
      ],
      "source": [
        "1 in d\n",
        "1 in d.keys()\n",
        "# veo si está el valor\n",
        "# es lo mismo"
      ]
    },
    {
      "cell_type": "markdown",
      "metadata": {
        "id": "f_fG0UEXBr9K"
      },
      "source": [
        "#### Ejercicio\n",
        "crear un diccionario de los cuadrados del 1 al n"
      ]
    },
    {
      "cell_type": "code",
      "execution_count": null,
      "metadata": {
        "id": "GDI-lJ7FBr9L"
      },
      "outputs": [],
      "source": [
        "d={}"
      ]
    },
    {
      "cell_type": "markdown",
      "metadata": {
        "id": "V9mkeZRmBr9L"
      },
      "source": [
        "#### Dada una lista. Crear un diccionario con cada numero de la lista y las veces que aparece"
      ]
    },
    {
      "cell_type": "code",
      "execution_count": 26,
      "metadata": {
        "colab": {
          "base_uri": "https://localhost:8080/"
        },
        "id": "OLi4Q_OdBr9L",
        "outputId": "8fb3ceaf-5511-4436-a9b8-dca68e9d261a"
      },
      "outputs": [
        {
          "output_type": "stream",
          "name": "stdout",
          "text": [
            "{1: 2, 2: 2, 3: 2, 4: 1, 5: 1, 7: 1}\n"
          ]
        }
      ],
      "source": [
        "L=[1,2,2,3,1,4,3,5,7]\n",
        "\n",
        "#{1:2, 2:2; 3:2, .....}\n",
        "\n",
        "d={}\n",
        "for elem in L:\n",
        "  if elem in d:\n",
        "    d[elem]+=1\n",
        "  else:\n",
        "    d[elem]=1\n",
        "\n",
        "print(d)\n"
      ]
    },
    {
      "cell_type": "code",
      "source": [
        "d={ \"nombre\": \"carlos\", \"Edad\": \"44\", \"DNI/NIE\": \"Y6234897L\"}\n",
        "d\n",
        "print(d[\"nombre\"])\n",
        "print(d.get(\"Edad\"))\n",
        "\n",
        "d[\"Edad\"]=45\n",
        "print(d.get(\"Edad\"))\n",
        "\n",
        "d[\"Ciudad\"]=\"Madrid\"\n",
        "d\n",
        "\n",
        "\n"
      ],
      "metadata": {
        "colab": {
          "base_uri": "https://localhost:8080/"
        },
        "id": "elSzLOvuIDtU",
        "outputId": "3fac59a4-486a-4015-d36c-ba5bbf526b68"
      },
      "execution_count": 14,
      "outputs": [
        {
          "output_type": "stream",
          "name": "stdout",
          "text": [
            "carlos\n",
            "44\n",
            "45\n"
          ]
        },
        {
          "output_type": "execute_result",
          "data": {
            "text/plain": [
              "{'nombre': 'carlos', 'Edad': 45, 'DNI/NIE': 'Y6234897L', 'Ciudad': 'Madrid'}"
            ]
          },
          "metadata": {},
          "execution_count": 14
        }
      ]
    },
    {
      "cell_type": "code",
      "source": [
        "d\n",
        "for x in d:\n",
        "  print(d[x])\n",
        "\n",
        "for x in d:\n",
        "  print(x)\n",
        "\n",
        "\n"
      ],
      "metadata": {
        "colab": {
          "base_uri": "https://localhost:8080/"
        },
        "id": "9gijaGcQK2qH",
        "outputId": "a519a493-8165-4a6c-bd0f-1573ada39666"
      },
      "execution_count": 20,
      "outputs": [
        {
          "output_type": "stream",
          "name": "stdout",
          "text": [
            "carlos\n",
            "45\n",
            "Y6234897L\n",
            "Madrid\n",
            "nombre\n",
            "Edad\n",
            "DNI/NIE\n",
            "Ciudad\n"
          ]
        }
      ]
    },
    {
      "cell_type": "code",
      "source": [
        "for x in d:\n",
        "  print(x,d[x])"
      ],
      "metadata": {
        "colab": {
          "base_uri": "https://localhost:8080/"
        },
        "id": "oS-6Pfz1MK1g",
        "outputId": "245f861f-0761-486a-abb3-09a90cb69a7b"
      },
      "execution_count": 22,
      "outputs": [
        {
          "output_type": "stream",
          "name": "stdout",
          "text": [
            "nombre carlos\n",
            "Edad 45\n",
            "DNI/NIE Y6234897L\n",
            "Ciudad Madrid\n"
          ]
        }
      ]
    },
    {
      "cell_type": "code",
      "source": [
        "for x, y in d.items():\n",
        "  print(x,y)"
      ],
      "metadata": {
        "colab": {
          "base_uri": "https://localhost:8080/"
        },
        "id": "5Tp2nkr7MR2r",
        "outputId": "766d763e-4d1c-4a8d-a7d3-b36fb4f527a2"
      },
      "execution_count": 24,
      "outputs": [
        {
          "output_type": "stream",
          "name": "stdout",
          "text": [
            "nombre carlos\n",
            "Edad 45\n",
            "DNI/NIE Y6234897L\n",
            "Ciudad Madrid\n"
          ]
        }
      ]
    },
    {
      "cell_type": "code",
      "source": [
        "v1={\"ID\":\"1\", \"A\":\"asuhasui\"}\n",
        "v2={\"ID\":\"1\", \"A\":\"asuhasui\"}\n",
        "\n",
        "v= {\"CLAVE1\": v1, \"CLAVE2\": v2}\n",
        "print(v)\n",
        "\n"
      ],
      "metadata": {
        "colab": {
          "base_uri": "https://localhost:8080/"
        },
        "id": "7b-N3TdoNC6f",
        "outputId": "f54a8f63-16b0-4c0e-b853-a4bec7a57d65"
      },
      "execution_count": 25,
      "outputs": [
        {
          "output_type": "stream",
          "name": "stdout",
          "text": [
            "{'CLAVE1': {'ID': '1', 'A': 'asuhasui'}, 'CLAVE2': {'ID': '1', 'A': 'asuhasui'}}\n"
          ]
        }
      ]
    },
    {
      "cell_type": "code",
      "source": [],
      "metadata": {
        "id": "7KmxEEo-NC9l"
      },
      "execution_count": null,
      "outputs": []
    },
    {
      "cell_type": "code",
      "source": [],
      "metadata": {
        "id": "HB9jnK4pNDAu"
      },
      "execution_count": null,
      "outputs": []
    },
    {
      "cell_type": "code",
      "source": [],
      "metadata": {
        "id": "8XuJI_gKNDE3"
      },
      "execution_count": null,
      "outputs": []
    },
    {
      "cell_type": "code",
      "execution_count": null,
      "metadata": {
        "id": "MEQ6QACsBr9L",
        "outputId": "0660f858-e298-4f25-eab5-d83a6c9964b4"
      },
      "outputs": [
        {
          "data": {
            "text/plain": [
              "{1: 2, 2: 2, 3: 2, 4: 1, 5: 1, 7: 1}"
            ]
          },
          "execution_count": 136,
          "metadata": {},
          "output_type": "execute_result"
        }
      ],
      "source": [
        "d"
      ]
    },
    {
      "cell_type": "markdown",
      "metadata": {
        "id": "rRFCh53ABr9L"
      },
      "source": [
        "##### Ejercicio: tenemos dos dados de 6 caras, contar cuantas veces puede aparecer el valor de la suma de los dos dados"
      ]
    },
    {
      "cell_type": "code",
      "execution_count": null,
      "metadata": {
        "id": "HV_yCu4qBr9L"
      },
      "outputs": [],
      "source": [
        "d={}"
      ]
    },
    {
      "cell_type": "code",
      "execution_count": null,
      "metadata": {
        "id": "dnTTMS8bBr9L",
        "outputId": "acdae243-e2e5-4880-e695-e0cc05efe85f"
      },
      "outputs": [
        {
          "data": {
            "text/plain": [
              "{2: 1, 3: 2, 4: 3, 5: 4, 6: 5, 7: 6, 8: 5, 9: 4, 10: 3, 11: 2, 12: 1}"
            ]
          },
          "execution_count": 157,
          "metadata": {},
          "output_type": "execute_result"
        }
      ],
      "source": []
    },
    {
      "cell_type": "markdown",
      "metadata": {
        "id": "ubTLtybaBr9M"
      },
      "source": [
        "### Diccionarios anidados"
      ]
    },
    {
      "cell_type": "code",
      "execution_count": null,
      "metadata": {
        "id": "mTn2lhk_Br9M"
      },
      "outputs": [],
      "source": [
        "datos_alejandro={\"dni\":2039,\"nombre\":\"Alejandro\", \"ciudad\": \"Barcelona\", \"direccion\":\"Calle falsa\"}\n",
        "datos_dani={\"dni\":2060,\"nombre\":\"Dani\", \"ciudad\": \"Barcelona\"}\n",
        "datos_cristina={\"dni\":2066,\"nombre\":\"Cristina\", \"ciudad\": \"Barcelona\"}\n",
        "\n",
        "datos_alumnos={1:datos_alejandro,\n",
        "               2:datos_dani,\n",
        "               3:datos_cristina}\n"
      ]
    },
    {
      "cell_type": "code",
      "execution_count": null,
      "metadata": {
        "id": "-RxOyUNYBr9M",
        "outputId": "adfb3384-9a95-4ec4-e6a8-e5164d22ac9d"
      },
      "outputs": [
        {
          "ename": "KeyError",
          "evalue": "'direccion'",
          "output_type": "error",
          "traceback": [
            "\u001b[1;31m---------------------------------------------------------------------------\u001b[0m",
            "\u001b[1;31mKeyError\u001b[0m                                  Traceback (most recent call last)",
            "Cell \u001b[1;32mIn[171], line 1\u001b[0m\n\u001b[1;32m----> 1\u001b[0m \u001b[43mdatos_alumnos\u001b[49m\u001b[43m[\u001b[49m\u001b[38;5;241;43m2\u001b[39;49m\u001b[43m]\u001b[49m\u001b[43m[\u001b[49m\u001b[38;5;124;43m'\u001b[39;49m\u001b[38;5;124;43mdireccion\u001b[39;49m\u001b[38;5;124;43m'\u001b[39;49m\u001b[43m]\u001b[49m\n",
            "\u001b[1;31mKeyError\u001b[0m: 'direccion'"
          ]
        }
      ],
      "source": [
        "datos_alumnos[2]['direccion']"
      ]
    },
    {
      "cell_type": "code",
      "execution_count": null,
      "metadata": {
        "id": "FuVKmn4LBr9M"
      },
      "outputs": [],
      "source": [
        "# haced un código que itere por un diccionario con diccionarios anidados y imprima las keys y los valores"
      ]
    },
    {
      "cell_type": "code",
      "execution_count": null,
      "metadata": {
        "id": "jsPYAuWTBr9M",
        "outputId": "1de76f01-17f5-47f4-f187-326482ea01eb"
      },
      "outputs": [
        {
          "data": {
            "text/plain": [
              "{1: {'dni': 0,\n",
              "  'nombre': 'Alejandro',\n",
              "  'ciudad': 'Barcelona',\n",
              "  'direccion': 'Calle falsa'},\n",
              " 2: {'dni': 0, 'nombre': 'Dani', 'ciudad': 'Barcelona'},\n",
              " 3: {'dni': 0, 'nombre': 'Cristina', 'ciudad': 'Barcelona'}}"
            ]
          },
          "execution_count": 196,
          "metadata": {},
          "output_type": "execute_result"
        }
      ],
      "source": [
        "datos_alumnos"
      ]
    }
  ],
  "metadata": {
    "kernelspec": {
      "display_name": "Python 3 (ipykernel)",
      "language": "python",
      "name": "python3"
    },
    "language_info": {
      "codemirror_mode": {
        "name": "ipython",
        "version": 3
      },
      "file_extension": ".py",
      "mimetype": "text/x-python",
      "name": "python",
      "nbconvert_exporter": "python",
      "pygments_lexer": "ipython3",
      "version": "3.10.13"
    },
    "colab": {
      "provenance": []
    }
  },
  "nbformat": 4,
  "nbformat_minor": 0
}