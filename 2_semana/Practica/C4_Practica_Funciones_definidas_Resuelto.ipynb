{
 "cells": [
  {
   "cell_type": "markdown",
   "metadata": {},
   "source": [
    "# Funciones definidas"
   ]
  },
  {
   "cell_type": "markdown",
   "metadata": {},
   "source": [
    "1. Escribe una función que reciba como entrada dos números n y m naturales y te imprima por pantalla un rectángulo de medidas nxm hecho con *.\n",
    "\n"
   ]
  },
  {
   "cell_type": "code",
   "execution_count": 1,
   "metadata": {},
   "outputs": [
    {
     "name": "stdout",
     "output_type": "stream",
     "text": [
      "****\n",
      "****\n",
      "****\n"
     ]
    }
   ],
   "source": [
    "def printRect(n,m):\n",
    "    for i in range(n):\n",
    "        print(\"*\"*m)\n",
    "\n",
    "printRect(3,4)"
   ]
  },
  {
   "cell_type": "markdown",
   "metadata": {},
   "source": [
    "2. Escribe una función que dadas dos listas y un número natural i, intercambie los valores de la posición i."
   ]
  },
  {
   "cell_type": "code",
   "execution_count": null,
   "metadata": {},
   "outputs": [],
   "source": [
    "def Changei(L1,L2,i):\n",
    "    L1[i],L2[i]=L2[i], L1[i]\n",
    "    \n",
    "L1=[1,2,3]\n",
    "L2=[3,4,5]\n",
    "Changei(L1,L2,1)\n",
    "L1"
   ]
  },
  {
   "cell_type": "markdown",
   "metadata": {},
   "source": [
    "3. Escribe una función que dados tres números te devuelva el máximo. (sin utilizar la función np.max).\n"
   ]
  },
  {
   "cell_type": "code",
   "execution_count": 2,
   "metadata": {},
   "outputs": [],
   "source": [
    "def max(n,m,b):\n",
    "    if n>m:\n",
    "        if b>n: \n",
    "            return b\n",
    "        else: \n",
    "            return n\n",
    "    else:\n",
    "        if b>m: \n",
    "            return b\n",
    "        else: \n",
    "            return m"
   ]
  },
  {
   "cell_type": "markdown",
   "metadata": {},
   "source": [
    "4. Escribe una función que te devuelva el valor absoluto de un número dado."
   ]
  },
  {
   "cell_type": "code",
   "execution_count": null,
   "metadata": {},
   "outputs": [],
   "source": [
    "def abs(n):\n",
    "    if(n < 0): return -n\n",
    "    else: return n"
   ]
  },
  {
   "cell_type": "markdown",
   "metadata": {},
   "source": [
    "5. Escribe una función que pida un año y que escriba si es bisiesto o no. Se recuerda que los años bisiestos son múltiplos de 4, pero los múltiplos de 100 no lo son, aunque los múltiplos de 400 sí. "
   ]
  },
  {
   "cell_type": "code",
   "execution_count": null,
   "metadata": {},
   "outputs": [],
   "source": [
    "def añobisiesto(año):\n",
    "    if año % 4 == 0:\n",
    "        if año % 100 == 0:\n",
    "            if año % 400 == 0:\n",
    "                print('El año es bisiesto')\n",
    "            else:\n",
    "                print('El año no es bisiesto')\n",
    "        else:\n",
    "            print('El año es bisiesto.')\n",
    "    else:\n",
    "        print('El año no es bisiesto.')"
   ]
  },
  {
   "cell_type": "markdown",
   "metadata": {},
   "source": [
    "6. Escribe una función que dado un número natural, te devuelva True si es un número perfecto y False si no lo es. Un número perfecto es un número que es igual a la suma de sus divisores."
   ]
  },
  {
   "cell_type": "code",
   "execution_count": 3,
   "metadata": {},
   "outputs": [],
   "source": [
    "def NumeroPerfecto(num):\n",
    "    suma = 0\n",
    "    for i in range(1,num):\n",
    "        if (num % i == 0):\n",
    "            suma += i\n",
    "\n",
    "    if num == suma:\n",
    "        return True\n",
    "    else:\n",
    "        return False"
   ]
  },
  {
   "cell_type": "markdown",
   "metadata": {},
   "source": [
    "7. Escribe una función que dado un número N devuelva los números perfectos desde 1 hasta N."
   ]
  },
  {
   "cell_type": "code",
   "execution_count": 4,
   "metadata": {},
   "outputs": [
    {
     "name": "stdout",
     "output_type": "stream",
     "text": [
      "0 es un numero perfecto\n",
      "1 NO es un numero perfecto\n",
      "2 NO es un numero perfecto\n",
      "3 NO es un numero perfecto\n",
      "4 NO es un numero perfecto\n",
      "5 NO es un numero perfecto\n",
      "6 es un numero perfecto\n",
      "7 NO es un numero perfecto\n",
      "8 NO es un numero perfecto\n",
      "9 NO es un numero perfecto\n",
      "10 NO es un numero perfecto\n",
      "11 NO es un numero perfecto\n",
      "12 NO es un numero perfecto\n",
      "13 NO es un numero perfecto\n",
      "14 NO es un numero perfecto\n",
      "15 NO es un numero perfecto\n",
      "16 NO es un numero perfecto\n",
      "17 NO es un numero perfecto\n",
      "18 NO es un numero perfecto\n",
      "19 NO es un numero perfecto\n"
     ]
    }
   ],
   "source": [
    "def N_perfectos(N):\n",
    "    for num in range(N):\n",
    "        if NumeroPerfecto(num):\n",
    "            print(\"%s es un numero perfecto\" % num)\n",
    "        else:\n",
    "            print(\"%s NO es un numero perfecto\" % num)\n",
    "            \n",
    "N_perfectos(20)"
   ]
  },
  {
   "cell_type": "markdown",
   "metadata": {},
   "source": [
    "8. Crea una función que reciba como parámetros dos diccionarios, que introduzca todos los registros del primer diccionario en el segundo y que retorne este segundo diccionario."
   ]
  },
  {
   "cell_type": "code",
   "execution_count": 1,
   "metadata": {},
   "outputs": [
    {
     "data": {
      "text/plain": [
       "{3: 10000, 5: 200000, 1: 20, 2: 30}"
      ]
     },
     "execution_count": 1,
     "metadata": {},
     "output_type": "execute_result"
    }
   ],
   "source": [
    "def fun(d1,d2):\n",
    "    for key in d1.keys():\n",
    "        d2[key]=d1[key]\n",
    "    return d2\n",
    "\n",
    "d1={1:20,2:30}\n",
    "d2={3:10000,5:200000}\n",
    "\n",
    "fun(d1,d2)"
   ]
  },
  {
   "cell_type": "markdown",
   "metadata": {},
   "source": [
    "9. Escribe una función que dada una matriz cualquiera cambie los elementos Mij por 0 cuando i+j sea un número impar."
   ]
  },
  {
   "cell_type": "code",
   "execution_count": null,
   "metadata": {},
   "outputs": [],
   "source": [
    "def changeMatrix(M):\n",
    "    n = len(M)\n",
    "    m = len(M[0])\n",
    "    for i in range(n):\n",
    "        for j in range(m):\n",
    "            if (i+j)%2==1:\n",
    "                M[i][j]=0\n",
    "                \n",
    "M = [[1,2,3],[4,5,6],[7,8,9]]\n",
    "changeMatrix(M)\n",
    "for i in M:\n",
    "    print(i)"
   ]
  },
  {
   "cell_type": "markdown",
   "metadata": {},
   "source": [
    "10. Escribe una función que dada una matriz, te devuelva su transpuesta."
   ]
  },
  {
   "cell_type": "code",
   "execution_count": null,
   "metadata": {},
   "outputs": [],
   "source": [
    "def transpuesta(M):\n",
    "    return [[M[i][j] for i in range(len(M))] for j in range(len(M[0]))]\n",
    "    \n",
    "M = [[1,2,3],[4,5,6],[7,8,9]]\n",
    "\n",
    "for i in transpuesta(M):\n",
    "    print(i)"
   ]
  },
  {
   "cell_type": "markdown",
   "metadata": {},
   "source": [
    "11. Escribe una función que reciba como entrada dos matrices y haga la multiplicación de las dos matrices."
   ]
  },
  {
   "cell_type": "code",
   "execution_count": 7,
   "metadata": {},
   "outputs": [
    {
     "name": "stdout",
     "output_type": "stream",
     "text": [
      "[114, 160, 60, 27]\n",
      "[74, 97, 73, 14]\n",
      "[119, 157, 112, 23]\n"
     ]
    }
   ],
   "source": [
    "def mult_rowcol(X,Y,i,j):\n",
    "    res=0\n",
    "    for k in range(len(Y)):\n",
    "        res += X[i][k] * Y[k][j]\n",
    "    return res\n",
    "  \n",
    "# multiplicación de matrices\n",
    "def mult_matrices(X,Y):\n",
    "    result=[]\n",
    "    for i in range(len(X)):\n",
    "        result.append([0]*len(Y[0]))\n",
    "    for i in range(len(X)):\n",
    "       # iterate through columns of Y\n",
    "       for j in range(len(Y[0])):\n",
    "           # iterate through rows of Y\n",
    "           result[i][j]=mult_rowcol(X,Y,i,j)\n",
    "    return result\n",
    "\n",
    "\n",
    "X = [[12,7,3],\n",
    "    [4 ,5,6],\n",
    "    [7 ,8,9]]\n",
    "# 3x4 matrix\n",
    "Y = [[5,8,1,2],\n",
    "    [6,7,3,0],\n",
    "    [4,5,9,1]]\n",
    "\n",
    "res=mult_matrices(X,Y)\n",
    "for r in res:\n",
    "    print(r)"
   ]
  },
  {
   "cell_type": "markdown",
   "metadata": {},
   "source": [
    "# 12. Escribe una función que dada una Matriz te calcule su inversa, para ello escribe las siguientes funciones:\n",
    "    1. Una función que calcule el determinante de una matriz 2x2.\n",
    "    2. Una función que dada una matriz y dos índices i y j, devuelva la matriz quitando la fila i y la columna j.\n",
    "    3. Una función que calcule un determinante (se necesita recursividad).\n",
    "    4. Una función que calcule la transpuesta.\n",
    "    5. Una función que calcule la adjunta.\n",
    "    6. Una función que calcule la inversa utilizando las funciones hechas anteriormente."
   ]
  },
  {
   "cell_type": "code",
   "execution_count": 3,
   "metadata": {},
   "outputs": [
    {
     "name": "stdout",
     "output_type": "stream",
     "text": [
      "[[-0.7, -0.2, -0.75, 0.45], [-1.0333333333333334, -0.5333333333333333, -0.75, 0.45], [0.8333333333333334, 0.3333333333333333, 0.75, -0.25], [0.26666666666666666, 0.26666666666666666, 0.5, -0.1]]\n"
     ]
    }
   ],
   "source": [
    "def determinante_2 (m):\n",
    "    return m[0][0] * m[1][1] - m[1][0]*m[0][1]\n",
    "\n",
    "def quitar_fila_columna(m,i,j):\n",
    "    m_aux = []\n",
    "    for k in range(len(m)):\n",
    "        fila = []\n",
    "        for l in range(len(m[0])):\n",
    "            if k != i and l != j:\n",
    "                fila.append(m[k][l])\n",
    "        if len(fila) != 0:\n",
    "            m_aux.append(fila)\n",
    "    return m_aux\n",
    "\n",
    "def determinante(m):\n",
    "    determinante1 = 0\n",
    "    for i in range(len(m[0])):\n",
    "        m_aux = m.copy()\n",
    "        m_aux = quitar_fila_columna(m_aux,0,i)\n",
    "        if len(m_aux) != 2:\n",
    "            determinante1 += m[0][i]*((-1)**(1+i+1))*determinante(m_aux)\n",
    "        else:\n",
    "            determinante1 += m[0][i]*((-1)**(1+i+1))*determinante_2(m_aux)\n",
    "    return determinante1\n",
    "\n",
    "def transpuesta1(m):\n",
    "    matriz_trans = []\n",
    "    for i in range(len(m[0])):\n",
    "        fila = []\n",
    "        for j in range(len(m)):\n",
    "            fila.append(m[j][i])\n",
    "        matriz_trans.append(fila)\n",
    "    return matriz_trans\n",
    "\n",
    "def adjunta(m):\n",
    "    m_aux = []\n",
    "    for i in range(len(m)):\n",
    "        fila = []\n",
    "        for j in range(len(m[0])):\n",
    "            n = (-1)**(i+1+j+1)*determinante(quitar_fila_columna(m,i,j))\n",
    "            fila.append(n)\n",
    "        m_aux.append(fila)\n",
    "    return m_aux\n",
    "\n",
    "def inversa(m):\n",
    "    m_aux = transpuesta1(adjunta(m))\n",
    "    for i in range(len(m_aux)):\n",
    "        for j in range(len(m_aux[0])):\n",
    "            m_aux[i][j] /= determinante(m)\n",
    "    return m_aux\n",
    "\n",
    "M = [[1,0,3,-3],[2,-3,-3,3],[-1,2,1,2],[3,2,5,0]]\n",
    "M1 = inversa(M)\n",
    "print(M1)\n"
   ]
  }
 ],
 "metadata": {
  "kernelspec": {
   "display_name": "Python 3 (ipykernel)",
   "language": "python",
   "name": "python3"
  },
  "language_info": {
   "codemirror_mode": {
    "name": "ipython",
    "version": 3
   },
   "file_extension": ".py",
   "mimetype": "text/x-python",
   "name": "python",
   "nbconvert_exporter": "python",
   "pygments_lexer": "ipython3",
   "version": "3.10.13"
  }
 },
 "nbformat": 4,
 "nbformat_minor": 4
}
