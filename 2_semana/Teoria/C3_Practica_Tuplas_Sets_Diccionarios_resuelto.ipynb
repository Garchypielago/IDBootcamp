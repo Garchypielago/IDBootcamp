{
 "cells": [
  {
   "cell_type": "markdown",
   "metadata": {},
   "source": [
    "### Practica Tuplas, Sets y Diccionarios"
   ]
  },
  {
   "cell_type": "code",
   "execution_count": 17,
   "metadata": {},
   "outputs": [
    {
     "name": "stdout",
     "output_type": "stream",
     "text": [
      "10\n",
      "10\n",
      "1\n",
      "1\n",
      "3\n",
      "9\n",
      "4\n",
      "1\n",
      "9\n",
      "1\n"
     ]
    }
   ],
   "source": [
    "#Importamos la librería random y utilizamos la función randint\n",
    "import random\n",
    "for i in range(10):\n",
    "    print(random.randint(1,10))"
   ]
  },
  {
   "cell_type": "markdown",
   "metadata": {},
   "source": [
    "### Tuplas"
   ]
  },
  {
   "cell_type": "markdown",
   "metadata": {},
   "source": [
    "#### Ejercicio 1"
   ]
  },
  {
   "cell_type": "markdown",
   "metadata": {},
   "source": [
    "- Crea una tupla utilizando la función range(), que tenga un rango del 11 al 19\n",
    "    - Ejemplo: tupla = tuple(range(3)).\n",
    "\n"
   ]
  },
  {
   "cell_type": "code",
   "execution_count": 54,
   "metadata": {},
   "outputs": [
    {
     "data": {
      "text/plain": [
       "(11, 12, 13, 14, 15, 16, 17, 18)"
      ]
     },
     "execution_count": 54,
     "metadata": {},
     "output_type": "execute_result"
    }
   ],
   "source": [
    "tupla = tuple(range(11,19))\n",
    "tupla"
   ]
  },
  {
   "cell_type": "markdown",
   "metadata": {},
   "source": [
    "- Utiliza la tupla anterior y conviertela a una lista utilizando una lista vacia y llenandola con un bucle."
   ]
  },
  {
   "cell_type": "code",
   "execution_count": 55,
   "metadata": {},
   "outputs": [
    {
     "data": {
      "text/plain": [
       "[11, 12, 13, 14, 15, 16, 17, 18]"
      ]
     },
     "execution_count": 55,
     "metadata": {},
     "output_type": "execute_result"
    }
   ],
   "source": [
    "lista=[]\n",
    "for i in tupla:\n",
    "    lista.append(i)\n",
    "lista"
   ]
  },
  {
   "cell_type": "markdown",
   "metadata": {},
   "source": [
    "- Ordena de mayor a menor la lista anterior."
   ]
  },
  {
   "cell_type": "code",
   "execution_count": 58,
   "metadata": {},
   "outputs": [
    {
     "data": {
      "text/plain": [
       "[18, 17, 16, 15, 14, 13, 12, 11]"
      ]
     },
     "execution_count": 58,
     "metadata": {},
     "output_type": "execute_result"
    }
   ],
   "source": [
    "lista.sort(reverse=True)\n",
    "lista"
   ]
  },
  {
   "cell_type": "markdown",
   "metadata": {},
   "source": [
    "- Convierte la lista anterior a tupla y ordenala de menor a mayor."
   ]
  },
  {
   "cell_type": "code",
   "execution_count": 61,
   "metadata": {},
   "outputs": [
    {
     "name": "stdout",
     "output_type": "stream",
     "text": [
      "(18, 17, 16, 15, 14, 13, 12, 11)\n",
      "[11, 12, 13, 14, 15, 16, 17, 18]\n"
     ]
    },
    {
     "data": {
      "text/plain": [
       "(11, 12, 13, 14, 15, 16, 17, 18)"
      ]
     },
     "execution_count": 61,
     "metadata": {},
     "output_type": "execute_result"
    }
   ],
   "source": [
    "tupla  = tuple(lista)\n",
    "print(tupla)\n",
    "tupla = sorted(tupla)\n",
    "print(tupla)\n",
    "tuple(tupla)"
   ]
  },
  {
   "cell_type": "code",
   "execution_count": 62,
   "metadata": {},
   "outputs": [
    {
     "data": {
      "text/plain": [
       "(11, 12, 13, 14, 15, 16, 17, 18)"
      ]
     },
     "execution_count": 62,
     "metadata": {},
     "output_type": "execute_result"
    }
   ],
   "source": [
    "#Ejemplo 2\n",
    "\n",
    "tupla=tuple(lista)\n",
    "tupla[::-1]"
   ]
  },
  {
   "cell_type": "markdown",
   "metadata": {},
   "source": [
    "- ¿Qué tipo de dato es el rusultado de ordenar la tupla anterior?"
   ]
  },
  {
   "cell_type": "code",
   "execution_count": 63,
   "metadata": {},
   "outputs": [
    {
     "data": {
      "text/plain": [
       "tuple"
      ]
     },
     "execution_count": 63,
     "metadata": {},
     "output_type": "execute_result"
    }
   ],
   "source": [
    "type(tupla)"
   ]
  },
  {
   "cell_type": "markdown",
   "metadata": {},
   "source": [
    "#### Ejercicio 2"
   ]
  },
  {
   "cell_type": "markdown",
   "metadata": {},
   "source": [
    "- Dada la siguiente frase = \"Había una vez en una galaxia lejana\", conviertela en tupla, ordenala y manten la tupla (¡Ojo!, el resultado final no debe de ser lista)."
   ]
  },
  {
   "cell_type": "code",
   "execution_count": 5,
   "metadata": {},
   "outputs": [
    {
     "name": "stdout",
     "output_type": "stream",
     "text": [
      "('H', 'a', 'b', 'í', 'a', ' ', 'u', 'n', 'a', ' ', 'v', 'e', 'z', ' ', 'e', 'n', ' ', 'u', 'n', 'a', ' ', 'g', 'a', 'l', 'a', 'x', 'i', 'a', ' ', 'l', 'e', 'j', 'a', 'n', 'a')\n",
      "[' ', ' ', ' ', ' ', ' ', ' ', 'H', 'a', 'a', 'a', 'a', 'a', 'a', 'a', 'a', 'a', 'b', 'e', 'e', 'e', 'g', 'i', 'j', 'l', 'l', 'n', 'n', 'n', 'n', 'u', 'u', 'v', 'x', 'z', 'í']\n",
      "(' ', ' ', ' ', ' ', ' ', ' ', 'H', 'a', 'a', 'a', 'a', 'a', 'a', 'a', 'a', 'a', 'b', 'e', 'e', 'e', 'g', 'i', 'j', 'l', 'l', 'n', 'n', 'n', 'n', 'u', 'u', 'v', 'x', 'z', 'í')\n"
     ]
    }
   ],
   "source": [
    "frase = \"Había una vez en una galaxia lejana\"\n",
    "tupla = tuple(frase)\n",
    "print(tupla)\n",
    "tupla= sorted(tupla)\n",
    "print(tupla)\n",
    "tupla= tuple(tupla)\n",
    "print(tupla)"
   ]
  },
  {
   "cell_type": "markdown",
   "metadata": {},
   "source": [
    "- Del resultado anterior, muestra cuantas veces aparece cada vocal.\n",
    "    - Utiliza un bucle **for** que recorra la siguiente tupla: (\"a\",\"e\",\"i\",\"o\",\"u\")"
   ]
  },
  {
   "cell_type": "code",
   "execution_count": 9,
   "metadata": {},
   "outputs": [
    {
     "name": "stdout",
     "output_type": "stream",
     "text": [
      "a 9\n",
      "e 3\n",
      "i 1\n",
      "o 0\n",
      "u 2\n"
     ]
    }
   ],
   "source": [
    "tupla2=(\"a\",\"e\",\"i\",\"o\",\"u\")\n",
    "for i in tupla2:\n",
    "    print(i, tupla.count(i))"
   ]
  },
  {
   "cell_type": "markdown",
   "metadata": {},
   "source": [
    "#### Ejercicio 3 "
   ]
  },
  {
   "cell_type": "markdown",
   "metadata": {},
   "source": [
    "- Dada la siguiente tupla: (9,8,7,5,\"a\",3,6,5), encuentra la forma para eliminar la letra \"a\"."
   ]
  },
  {
   "cell_type": "code",
   "execution_count": 66,
   "metadata": {},
   "outputs": [
    {
     "data": {
      "text/plain": [
       "(9, 8, 7, 5, 3, 6, 5)"
      ]
     },
     "execution_count": 66,
     "metadata": {},
     "output_type": "execute_result"
    }
   ],
   "source": [
    "#solución 2\n",
    "tupla = (9,8,7,5,\"a\",3,6,5)\n",
    "lista = list(tupla)\n",
    "lista.remove(\"a\")\n",
    "tupla = tuple(lista)\n",
    "tupla"
   ]
  },
  {
   "cell_type": "markdown",
   "metadata": {},
   "source": [
    "#### Ejercicio 4"
   ]
  },
  {
   "cell_type": "markdown",
   "metadata": {},
   "source": [
    "- Pregunta a un usuario que ingrese 5 elementos diferentes y convierte estos elementos a una tupla, puede ser una palabra o un número."
   ]
  },
  {
   "cell_type": "code",
   "execution_count": 14,
   "metadata": {},
   "outputs": [
    {
     "name": "stdin",
     "output_type": "stream",
     "text": [
      "Ingresar un número o palabra:  1\n",
      "Ingresar un número o palabra:  2\n",
      "Ingresar un número o palabra:  3\n",
      "Ingresar un número o palabra:  4\n",
      "Ingresar un número o palabra:  5\n"
     ]
    },
    {
     "name": "stdout",
     "output_type": "stream",
     "text": [
      "la tupla es:  ('1', '2', '3', '4', '5')\n"
     ]
    }
   ],
   "source": [
    "lista = []\n",
    "for i in range(5):\n",
    "    x = input(\"Ingresar un número o palabra: \")\n",
    "    lista.append(x)\n",
    "tupla = tuple(lista)\n",
    "print(\"la tupla es: \", tupla)"
   ]
  },
  {
   "cell_type": "markdown",
   "metadata": {},
   "source": [
    "#### Ejercicio 5 "
   ]
  },
  {
   "cell_type": "markdown",
   "metadata": {},
   "source": [
    "- Dada la siguiente lista de tuplas: [(10, 20, 40), (40, 50, 60), (70, 80, 90)], elimina el último elemento de cada tupla dentro de la lista.\n"
   ]
  },
  {
   "cell_type": "code",
   "execution_count": 43,
   "metadata": {},
   "outputs": [
    {
     "data": {
      "text/plain": [
       "[(10, 20), (40, 50), (70, 80)]"
      ]
     },
     "execution_count": 43,
     "metadata": {},
     "output_type": "execute_result"
    }
   ],
   "source": [
    "lista = [(10, 20, 40), (40, 50, 60), (70, 80, 90)]\n",
    "for x,tupla in enumerate(lista):\n",
    "    sublista = list(tupla)\n",
    "    sublista.pop(-1)\n",
    "    lista[x] = tuple(sublista)\n",
    "lista"
   ]
  },
  {
   "cell_type": "markdown",
   "metadata": {},
   "source": [
    "### Sets"
   ]
  },
  {
   "cell_type": "markdown",
   "metadata": {},
   "source": [
    "#### Ejercicio 1"
   ]
  },
  {
   "cell_type": "markdown",
   "metadata": {},
   "source": [
    "- Pide al usuario que ingrese 3 empresas de tecnología, estos elementos agregalos al siguiente set: {\"Facebook\",\"Google\",\"Apple\"}\n",
    "- Verifica que no se repita ninguna empresa y dile al usuario que no se repitio ninguna empresa."
   ]
  },
  {
   "cell_type": "code",
   "execution_count": 70,
   "metadata": {},
   "outputs": [
    {
     "name": "stdin",
     "output_type": "stream",
     "text": [
      "Ingresa el nombre de una empresa:  Facebook\n",
      "Ingresa el nombre de una empresa:  Google\n",
      "Ingresa el nombre de una empresa:  IBM\n"
     ]
    }
   ],
   "source": [
    "set1 = {\"Facebook\",\"Google\",\"Apple\"}\n",
    "for i in range(3):\n",
    "    x = input(\"Ingresa el nombre de una empresa: \")\n",
    "    set1.add(x)\n",
    "\n",
    "if len(set1)==6:\n",
    "    print(\"\\n No se repite ninguna empresa\")"
   ]
  },
  {
   "cell_type": "markdown",
   "metadata": {},
   "source": [
    "- Repite el ejercicio anterior pero ahora imprime las empresas que se repiten en caso de que existiera uno o más que se repitan "
   ]
  },
  {
   "cell_type": "code",
   "execution_count": 2,
   "metadata": {},
   "outputs": [
    {
     "name": "stdout",
     "output_type": "stream",
     "text": [
      "Ingresa el nombre de una empresa: Google\n",
      "Ingresa el nombre de una empresa: Google\n",
      "Ingresa el nombre de una empresa: Google\n",
      "Las empresas que se repiten son:  {'Google'}\n"
     ]
    }
   ],
   "source": [
    "set1 = {\"Facebook\",\"Google\",\"Apple\"}\n",
    "lista = []\n",
    "for i in range(3):\n",
    "    x = input(\"Ingresa el nombre de una empresa: \")\n",
    "    items1 = len(set1)\n",
    "    set1.add(x)\n",
    "    items2 = len(set1)\n",
    "    if items1 == items2:\n",
    "        lista.append(x)\n",
    "\n",
    "if len(lista)>0:\n",
    "    print(\"Las empresas que se repiten son: \", set(lista))"
   ]
  },
  {
   "cell_type": "markdown",
   "metadata": {},
   "source": [
    "#### Ejercicio 2 (EXTRA)"
   ]
  },
  {
   "cell_type": "markdown",
   "metadata": {},
   "source": [
    "- Dado una lista que ingrese el usuario de numeros del 1 al 10, (el número de elementos que va agregar el usuario debe de ser de 1 a 10 utilizando la función randint()) aplica las siguientes operaciones: union e intesección de la lista que ingreso el usuario con el siguiente set: (8,5,3,2,1,7)"
   ]
  },
  {
   "cell_type": "code",
   "execution_count": 72,
   "metadata": {
    "scrolled": true
   },
   "outputs": [
    {
     "name": "stdout",
     "output_type": "stream",
     "text": [
      "El total de números a ingresar son:  6\n"
     ]
    },
    {
     "name": "stdin",
     "output_type": "stream",
     "text": [
      "Ingresa un número entre el 1 y el 10 1\n",
      "Ingresa un número entre el 1 y el 10 2\n",
      "Ingresa un número entre el 1 y el 10 3\n",
      "Ingresa un número entre el 1 y el 10 4\n",
      "Ingresa un número entre el 1 y el 10 5\n",
      "Ingresa un número entre el 1 y el 10 6\n"
     ]
    },
    {
     "name": "stdout",
     "output_type": "stream",
     "text": [
      "La union con (8,5,3,2,1,7) es: \n",
      "{1, 2, 3, 4, 5, 6, 7, 8}\n",
      "La intersección con (8,5,3,2,1,7) es: \n",
      "{1, 2, 3, 5}\n"
     ]
    }
   ],
   "source": [
    "num_elementos = random.randint(1,10)\n",
    "print(\"El total de números a ingresar son: \", num_elementos)\n",
    "lista_usuario=[]\n",
    "for i in range(num_elementos):\n",
    "      lista_usuario.append(int(input(\"Ingresa un número entre el 1 y el 10\")))\n",
    "        \n",
    "print(\"La union con (8,5,3,2,1,7) es: \")\n",
    "print(set(lista_usuario).union({8,5,3,2,1,7}))\n",
    "\n",
    "print(\"La intersección con (8,5,3,2,1,7) es: \")\n",
    "print(set(lista_usuario).intersection({8,5,3,2,1,7}))"
   ]
  },
  {
   "cell_type": "markdown",
   "metadata": {},
   "source": [
    "#### Ejercicio 3"
   ]
  },
  {
   "cell_type": "markdown",
   "metadata": {},
   "source": [
    "- Utilizando un bucle **for** haz la función intersección de los sets entre dos listas."
   ]
  },
  {
   "cell_type": "code",
   "execution_count": 73,
   "metadata": {},
   "outputs": [
    {
     "name": "stdout",
     "output_type": "stream",
     "text": [
      "[4, 4, 5]\n"
     ]
    },
    {
     "data": {
      "text/plain": [
       "{4, 5}"
      ]
     },
     "execution_count": 73,
     "metadata": {},
     "output_type": "execute_result"
    }
   ],
   "source": [
    "lista1 = [1,2,3,4,5]\n",
    "lista2 = [4,5,6,7,4]\n",
    "resultado = []\n",
    "for i in lista1:\n",
    "    for j in lista2:\n",
    "        if i == j:\n",
    "            resultado.append(i)\n",
    "print(resultado)\n",
    "resultado = set(resultado)\n",
    "resultado"
   ]
  },
  {
   "cell_type": "code",
   "execution_count": 74,
   "metadata": {},
   "outputs": [
    {
     "data": {
      "text/plain": [
       "{4, 5}"
      ]
     },
     "execution_count": 74,
     "metadata": {},
     "output_type": "execute_result"
    }
   ],
   "source": [
    "lista1 = [1,2,3,4,5]\n",
    "lista2 = [4,5,6,7,4]\n",
    "\n",
    "set(lista1) & set(lista2)"
   ]
  },
  {
   "cell_type": "markdown",
   "metadata": {},
   "source": [
    "#### Ejercicio 4"
   ]
  },
  {
   "cell_type": "markdown",
   "metadata": {},
   "source": [
    "- Dadas las siguientes frases = \"En una galaxia lejana\" y \"Una galaxia llamadá Via Lactea\", haz la intersección de las palabras"
   ]
  },
  {
   "cell_type": "code",
   "execution_count": 75,
   "metadata": {},
   "outputs": [
    {
     "name": "stdout",
     "output_type": "stream",
     "text": [
      "{'una', 'En', 'galaxia', 'lejana'}\n",
      "{'Una', 'galaxia', 'Via', 'Lactea', 'llamadá'}\n"
     ]
    },
    {
     "data": {
      "text/plain": [
       "{'galaxia'}"
      ]
     },
     "execution_count": 75,
     "metadata": {},
     "output_type": "execute_result"
    }
   ],
   "source": [
    "frase1 =  \"En una galaxia lejana\"\n",
    "frase2 =  \"Una galaxia llamadá Via Lactea\"\n",
    "set1 = set(frase1.split(\" \"))\n",
    "print(set1)\n",
    "set2 = set(frase2.split(\" \"))\n",
    "print(set2)\n",
    "set1.intersection(set2)"
   ]
  },
  {
   "cell_type": "markdown",
   "metadata": {},
   "source": [
    "#### Ejercicio 5"
   ]
  },
  {
   "cell_type": "markdown",
   "metadata": {},
   "source": [
    "- Utilizandp un bucle **for** encuentra la diferencia entre el set1 = {9,8,7,6,5,4,3,2} y el set2 = {9,8,10} y comprueba el resultado utilizando el método difference()"
   ]
  },
  {
   "cell_type": "code",
   "execution_count": 76,
   "metadata": {},
   "outputs": [
    {
     "data": {
      "text/plain": [
       "{2, 3, 4, 5, 6, 7}"
      ]
     },
     "execution_count": 76,
     "metadata": {},
     "output_type": "execute_result"
    }
   ],
   "source": [
    "set1 = {9,8,7,6,5,4,3,2}\n",
    "set2 = {9,8,10}\n",
    "lista=[]\n",
    "for i in set1:\n",
    "    for j in set2:\n",
    "        if i == j:\n",
    "            lista.append(i)\n",
    "for i in lista:\n",
    "    set1.remove(i)\n",
    "set1"
   ]
  },
  {
   "cell_type": "code",
   "execution_count": 77,
   "metadata": {},
   "outputs": [
    {
     "data": {
      "text/plain": [
       "{2, 3, 4, 5, 6, 7}"
      ]
     },
     "execution_count": 77,
     "metadata": {},
     "output_type": "execute_result"
    }
   ],
   "source": [
    "set1.difference(set2)"
   ]
  },
  {
   "cell_type": "markdown",
   "metadata": {},
   "source": [
    "### Diccionarios"
   ]
  },
  {
   "cell_type": "markdown",
   "metadata": {},
   "source": [
    "#### Ejercicio 1"
   ]
  },
  {
   "cell_type": "markdown",
   "metadata": {},
   "source": [
    "- Crea un diccionario de 5 items, preguntando al usuario nombre y edad, los nombres seran las keys y la edad los values."
   ]
  },
  {
   "cell_type": "code",
   "execution_count": 44,
   "metadata": {},
   "outputs": [
    {
     "name": "stdin",
     "output_type": "stream",
     "text": [
      "Nombre:  ad\n",
      "Edad:  2\n",
      "Nombre:  a\n",
      "Edad:  2\n",
      "Nombre:  a\n",
      "Edad:  2\n",
      "Nombre:  a\n",
      "Edad:  3\n",
      "Nombre:  a\n",
      "Edad:  3\n"
     ]
    },
    {
     "name": "stdout",
     "output_type": "stream",
     "text": [
      "{'ad': '2', 'a': '3'}\n"
     ]
    }
   ],
   "source": [
    "dic = dict()\n",
    "for i in range(5):\n",
    "    dic.update({input(\"Nombre: \"):input(\"Edad: \")})\n",
    "print(dic)"
   ]
  },
  {
   "cell_type": "markdown",
   "metadata": {},
   "source": [
    "#### Ejercicio 2"
   ]
  },
  {
   "cell_type": "markdown",
   "metadata": {},
   "source": [
    "- Repite el ejercicio anterior pero de la siguiente forma:\n",
    "- Primero agrega en una lista los nombres y en otra lista las edades y después crea el diccionario a partir de las listas."
   ]
  },
  {
   "cell_type": "code",
   "execution_count": 24,
   "metadata": {},
   "outputs": [
    {
     "name": "stdin",
     "output_type": "stream",
     "text": [
      "Ingresar nombre:  a\n",
      "Ingresar edad:  1\n",
      "Ingresar nombre:  b\n",
      "Ingresar edad:  2\n",
      "Ingresar nombre:  c\n",
      "Ingresar edad:  3\n",
      "Ingresar nombre:  d\n",
      "Ingresar edad:  4\n",
      "Ingresar nombre:  e\n",
      "Ingresar edad:  5\n"
     ]
    },
    {
     "data": {
      "text/plain": [
       "{'a': 1, 'b': 2, 'c': 3, 'd': 4, 'e': 5}"
      ]
     },
     "execution_count": 24,
     "metadata": {},
     "output_type": "execute_result"
    }
   ],
   "source": [
    "nombres=[]\n",
    "edades=[]\n",
    "\n",
    "for i in range(5):\n",
    "    x = input(\"Ingresar nombre: \")\n",
    "    y = input(\"Ingresar edad: \")\n",
    "    nombres.append(x)\n",
    "    edades.append(int(y))\n",
    "    \n",
    "diccionario = dict()\n",
    "\n",
    "for x,i in enumerate(nombres):\n",
    "    diccionario.update({i:edades[x]})\n",
    "diccionario"
   ]
  },
  {
   "cell_type": "code",
   "execution_count": 79,
   "metadata": {},
   "outputs": [
    {
     "data": {
      "text/plain": [
       "{'Eloy': 28, 'Jonathan': 38, 'Sonia': 34, 'Pedro': 28, 'Maria': 27}"
      ]
     },
     "execution_count": 79,
     "metadata": {},
     "output_type": "execute_result"
    }
   ],
   "source": [
    "#Utilizando zip\n",
    "\n",
    "nombre=['Eloy','Jonathan','Sonia','Pedro','Maria']\n",
    "edad=[28,38,34,28,27]\n",
    "dict(zip(nombre,edad))\n"
   ]
  },
  {
   "cell_type": "markdown",
   "metadata": {},
   "source": [
    "#### Ejercicio 3"
   ]
  },
  {
   "cell_type": "markdown",
   "metadata": {},
   "source": [
    "- Pide al usuario que ingrese 3 números distintos y guarda esos números como keys y crea los values utilizando la siguiente formula: x:x**2, donde x es la llave."
   ]
  },
  {
   "cell_type": "code",
   "execution_count": 48,
   "metadata": {},
   "outputs": [
    {
     "data": {
      "text/plain": [
       "{'Adrian': '1', 'Jose': 'adios'}"
      ]
     },
     "execution_count": 48,
     "metadata": {},
     "output_type": "execute_result"
    }
   ],
   "source": [
    "diccionario=dict()\n",
    "diccionario[\"Adrian\"] = \"hola\"\n",
    "diccionario[\"Jose\"] = \"adios\"\n",
    "diccionario[\"Adrian\"] = \"1\"\n",
    "\n",
    "diccionario"
   ]
  },
  {
   "cell_type": "code",
   "execution_count": 49,
   "metadata": {},
   "outputs": [
    {
     "name": "stdin",
     "output_type": "stream",
     "text": [
      "Ingresa un número:  1\n",
      "Ingresa un número:  2\n",
      "Ingresa un número:  3\n"
     ]
    },
    {
     "data": {
      "text/plain": [
       "{1: 1, 2: 4, 3: 9}"
      ]
     },
     "execution_count": 49,
     "metadata": {},
     "output_type": "execute_result"
    }
   ],
   "source": [
    "diccionario=dict()\n",
    "for i in range(3):\n",
    "    x = int(input(\"Ingresa un número: \"))\n",
    "    diccionario[x]=x**2\n",
    "diccionario"
   ]
  },
  {
   "cell_type": "markdown",
   "metadata": {},
   "source": [
    "#### Ejercicio 4"
   ]
  },
  {
   "cell_type": "markdown",
   "metadata": {},
   "source": [
    "- Pide al usuario que ingrese una frase y agrega las palabras como keys y la frecuencia de cada palabra como value en un diccionario. (ver el ejemplo de la presentación)"
   ]
  },
  {
   "cell_type": "code",
   "execution_count": 52,
   "metadata": {},
   "outputs": [
    {
     "name": "stdin",
     "output_type": "stream",
     "text": [
      "Ingresar frase:  ada asdasd dasd \n"
     ]
    },
    {
     "data": {
      "text/plain": [
       "['a', 'a as', 'as', ' ', 'as', ' ']"
      ]
     },
     "execution_count": 52,
     "metadata": {},
     "output_type": "execute_result"
    }
   ],
   "source": [
    "frase = input(\"Ingresar frase: \")\n",
    "frase.split(\"d\")"
   ]
  },
  {
   "cell_type": "code",
   "execution_count": 53,
   "metadata": {},
   "outputs": [
    {
     "name": "stdin",
     "output_type": "stream",
     "text": [
      "Ingresar frase:  hola hola hola\n"
     ]
    },
    {
     "data": {
      "text/plain": [
       "{'hola': 3}"
      ]
     },
     "execution_count": 53,
     "metadata": {},
     "output_type": "execute_result"
    }
   ],
   "source": [
    "frase = input(\"Ingresar frase: \")\n",
    "dic = dict()\n",
    "for palabra in frase.split():\n",
    "    if palabra not in dic:\n",
    "        dic[palabra] = 1\n",
    "    else:\n",
    "        dic[palabra]+= 1\n",
    "dic"
   ]
  },
  {
   "cell_type": "markdown",
   "metadata": {},
   "source": [
    "#### Ejercicio 5"
   ]
  },
  {
   "cell_type": "markdown",
   "metadata": {},
   "source": [
    "- Crea un programa donde las keys son 7 números aleatorios entre el 100 y el 200 y en los values debe de estar la palabra par o impar, si el número es par o impar."
   ]
  },
  {
   "cell_type": "code",
   "execution_count": 54,
   "metadata": {},
   "outputs": [
    {
     "name": "stdout",
     "output_type": "stream",
     "text": [
      "{137: 'impar', 166: 'par', 182: 'par', 157: 'impar', 114: 'par', 196: 'par', 173: 'impar'}\n"
     ]
    }
   ],
   "source": [
    "dic = dict()\n",
    "for i in range(7):\n",
    "    x = random.randint(100,200)\n",
    "    dic[x] = \"par\" if x%2==0 else \"impar\"\n",
    "print(dic)"
   ]
  },
  {
   "cell_type": "markdown",
   "metadata": {},
   "source": [
    "#### Ejercicio 6"
   ]
  },
  {
   "cell_type": "markdown",
   "metadata": {},
   "source": [
    "- Crea un programa donde las keys son 10 números aleatorios entre el 1 y el 50 y para cada value del diccionario vamos a utilizar la siguiente formula x:1/x"
   ]
  },
  {
   "cell_type": "code",
   "execution_count": 55,
   "metadata": {},
   "outputs": [
    {
     "data": {
      "text/plain": [
       "{40: 0.025,\n",
       " 4: 0.25,\n",
       " 48: 0.020833333333333332,\n",
       " 34: 0.029411764705882353,\n",
       " 28: 0.03571428571428571,\n",
       " 17: 0.058823529411764705,\n",
       " 26: 0.038461538461538464}"
      ]
     },
     "execution_count": 55,
     "metadata": {},
     "output_type": "execute_result"
    }
   ],
   "source": [
    "dic = dict()\n",
    "for i in range(10):\n",
    "    x = random.randint(1,50)\n",
    "    dic[x]=1/x\n",
    "dic"
   ]
  },
  {
   "cell_type": "markdown",
   "metadata": {},
   "source": [
    "- Del diccionario anterior invierte los keys por los values"
   ]
  },
  {
   "cell_type": "code",
   "execution_count": 57,
   "metadata": {},
   "outputs": [
    {
     "data": {
      "text/plain": [
       "dict_items([(40, 0.025), (4, 0.25), (48, 0.020833333333333332), (34, 0.029411764705882353), (28, 0.03571428571428571), (17, 0.058823529411764705), (26, 0.038461538461538464)])"
      ]
     },
     "execution_count": 57,
     "metadata": {},
     "output_type": "execute_result"
    }
   ],
   "source": [
    "dic.items()"
   ]
  },
  {
   "cell_type": "code",
   "execution_count": 59,
   "metadata": {},
   "outputs": [
    {
     "data": {
      "text/plain": [
       "{0.025: 40,\n",
       " 0.25: 4,\n",
       " 0.020833333333333332: 48,\n",
       " 0.029411764705882353: 34,\n",
       " 0.03571428571428571: 28,\n",
       " 0.058823529411764705: 17,\n",
       " 0.038461538461538464: 26}"
      ]
     },
     "execution_count": 59,
     "metadata": {},
     "output_type": "execute_result"
    }
   ],
   "source": [
    "dic1={}\n",
    "for i, j in dic.items():\n",
    "    print(i,\"---\",j)\n",
    "    dic1[j]=i \n",
    "dic1"
   ]
  },
  {
   "cell_type": "markdown",
   "metadata": {},
   "source": [
    "#### Ejercicio 7"
   ]
  },
  {
   "cell_type": "markdown",
   "metadata": {},
   "source": [
    "- Recurre al ejercicio donde el usuario ingresa 5 nombres y sus edades, y ordena el diccionario por orden alfabetico"
   ]
  },
  {
   "cell_type": "code",
   "execution_count": 95,
   "metadata": {},
   "outputs": [
    {
     "name": "stdin",
     "output_type": "stream",
     "text": [
      "Ingresar nombre:  e\n",
      "Ingresar edad:  1\n",
      "Ingresar nombre:  u\n",
      "Ingresar edad:  3\n",
      "Ingresar nombre:  r\n",
      "Ingresar edad:  5\n",
      "Ingresar nombre:  a\n",
      "Ingresar edad:  8\n",
      "Ingresar nombre:  y\n",
      "Ingresar edad:  9\n"
     ]
    },
    {
     "name": "stdout",
     "output_type": "stream",
     "text": [
      "{'e': 1, 'u': 3, 'r': 5, 'a': 8, 'y': 9}\n"
     ]
    }
   ],
   "source": [
    "diccionario = dict()\n",
    "for i in range(5):\n",
    "    x = input(\"Ingresar nombre: \")\n",
    "    y = input(\"Ingresar edad: \")\n",
    "    diccionario[x]=int(y)\n",
    "print(diccionario)"
   ]
  },
  {
   "cell_type": "code",
   "execution_count": 96,
   "metadata": {},
   "outputs": [
    {
     "data": {
      "text/plain": [
       "['a', 'e', 'r', 'u', 'y']"
      ]
     },
     "execution_count": 96,
     "metadata": {},
     "output_type": "execute_result"
    }
   ],
   "source": [
    "sorted(diccionario.keys())"
   ]
  },
  {
   "cell_type": "code",
   "execution_count": 97,
   "metadata": {},
   "outputs": [
    {
     "name": "stdout",
     "output_type": "stream",
     "text": [
      "{'a': 8, 'e': 1, 'r': 5, 'u': 3, 'y': 9}\n"
     ]
    }
   ],
   "source": [
    "dic2=dict()\n",
    "for i in sorted(diccionario.keys()):\n",
    "    dic2[i]=diccionario[i]\n",
    "print(dic2)"
   ]
  },
  {
   "cell_type": "markdown",
   "metadata": {},
   "source": [
    "#### Ejercicio 8"
   ]
  },
  {
   "cell_type": "markdown",
   "metadata": {},
   "source": [
    "- Crea un programa que dados los siguientes diccionarios: d1 = {\"a\":125,\"b\":130,\"c\":150}, d2 = {\"e\": 10,\"b\":20,\"a\":30}, sume los items que tienen la misma key y guarde esas keys con la suma de los values en un nuevo diccionario"
   ]
  },
  {
   "cell_type": "code",
   "execution_count": 60,
   "metadata": {},
   "outputs": [
    {
     "name": "stdout",
     "output_type": "stream",
     "text": [
      "{'a', 'b'}\n"
     ]
    },
    {
     "data": {
      "text/plain": [
       "{'a': 155, 'b': 150}"
      ]
     },
     "execution_count": 60,
     "metadata": {},
     "output_type": "execute_result"
    }
   ],
   "source": [
    "d1 = {\"a\":125,\"b\":130,\"c\":150}\n",
    "d2 = {\"e\": 10,\"b\":20,\"a\":30}\n",
    "d3 = dict()\n",
    "\n",
    "keys_comparten = set(d1).intersection(set(d2))\n",
    "print(keys_comparten)\n",
    "for i in keys_comparten:\n",
    "    d3[i] = d1.get(i)+d2.get(i)\n",
    "d3"
   ]
  },
  {
   "cell_type": "code",
   "execution_count": 100,
   "metadata": {},
   "outputs": [
    {
     "data": {
      "text/plain": [
       "{'a': 155, 'b': 150}"
      ]
     },
     "execution_count": 100,
     "metadata": {},
     "output_type": "execute_result"
    }
   ],
   "source": [
    "d1 = {\"a\":125,\"b\":130,\"c\":150}\n",
    "d2 = {\"e\": 10,\"b\":20,\"a\":30}\n",
    "diccionario ={}\n",
    "\n",
    "for a in d1:\n",
    "    if a in d2:\n",
    "        valor = d1.get(a) + d2.get(a)\n",
    "        diccionario.update({a:valor})\n",
    "diccionario"
   ]
  },
  {
   "cell_type": "markdown",
   "metadata": {},
   "source": [
    "#### Ejercicio 9 (Extra)\n",
    "\n",
    "\n",
    "lista= [[6, 1, 6, 5, 7, 1, 1, 0],\n",
    "       [2, 2, 5, 2, 7, 1, 5, 6],\n",
    "       [5, 8, 9, 8, 4, 2, 8, 3],\n",
    "       [8, 9, 0, 4, 9, 2, 3, 8],\n",
    "       [0, 0, 5, 8, 9, 7, 1, 1],\n",
    "       [7, 6, 8, 0, 3, 0, 9, 6],\n",
    "       [5, 7, 7, 1, 4, 0, 2, 6],\n",
    "       [2, 5, 8, 7, 6, 1, 8, 8]]\n",
    "\n",
    "\n",
    "Crea un diccionario donde las keys sea un número y el value la cantidad de veces que se repite"
   ]
  },
  {
   "cell_type": "code",
   "execution_count": 3,
   "metadata": {},
   "outputs": [],
   "source": [
    "lista= [[6, 1, 6, 5, 7, 1, 1, 0], \n",
    "        [2, 2, 5, 2, 7, 1, 5, 6], \n",
    "        [5, 8, 9, 8, 4, 2, 8, 3], \n",
    "        [8, 9, 0, 4, 9, 2, 3, 8], \n",
    "        [0, 0, 5, 8, 9, 7, 1, 1], \n",
    "        [7, 6, 8, 0, 3, 0, 9, 6],\n",
    "        [5, 7, 7, 1, 4, 0, 2, 6],\n",
    "        [2, 5, 8, 7, 6, 1, 8, 8]]"
   ]
  },
  {
   "cell_type": "code",
   "execution_count": 5,
   "metadata": {},
   "outputs": [
    {
     "name": "stdout",
     "output_type": "stream",
     "text": [
      "{6: 7, 1: 8, 5: 7, 7: 7, 0: 7, 2: 7, 8: 10, 9: 5, 4: 3, 3: 3}\n"
     ]
    }
   ],
   "source": [
    "d={}\n",
    "for l in lista:\n",
    "    for n in l:\n",
    "        if n not in d.keys():\n",
    "            d[n]=0\n",
    "        if n in d.keys():\n",
    "            d[n]+=1\n",
    "print(d)       "
   ]
  },
  {
   "cell_type": "markdown",
   "metadata": {},
   "source": [
    "#### Ejercicio 10 (Extra)\n"
   ]
  },
  {
   "cell_type": "markdown",
   "metadata": {},
   "source": [
    "lista =   [[[ 0.28397701, -0.43646728],\n",
    "        [-0.1669027 , -2.10835303],\n",
    "        [-0.53268815,  1.24932809]],\n",
    "\n",
    "       [[-2.39532371, -0.23269955],\n",
    "        [-0.41365339,  1.16797535],\n",
    "        [ 0.0385008 ,  1.99137997]],\n",
    "\n",
    "       [[ 0.17027754,  1.99604395],\n",
    "        [-1.08631262,  1.87370509],\n",
    "        [-0.35000334,  0.03590288]],\n",
    "\n",
    "       [[-1.17436298,  0.38568352],\n",
    "        [-1.84173533,  0.56881985],\n",
    "        [-0.94524699, -0.47347674]]]\n",
    "\n",
    "De la lista anterior obtén un diccionario con el conteo de núm. positivos, núm. negativos"
   ]
  },
  {
   "cell_type": "code",
   "execution_count": 6,
   "metadata": {},
   "outputs": [],
   "source": [
    "lista = [[[ 0.28397701, -0.43646728], \n",
    "          [-0.1669027 , -2.10835303], \n",
    "          [-0.53268815, 1.24932809]],\n",
    "         \n",
    "         [[-2.39532371, -0.23269955],\n",
    "        [-0.41365339,  1.16797535],\n",
    "        [ 0.0385008 ,  1.99137997]],\n",
    "\n",
    "       [[ 0.17027754,  1.99604395],\n",
    "        [-1.08631262,  1.87370509],\n",
    "        [-0.35000334,  0.03590288]],\n",
    "\n",
    "       [[-1.17436298,  0.38568352],\n",
    "        [-1.84173533,  0.56881985],\n",
    "        [-0.94524699, -0.47347674]]]"
   ]
  },
  {
   "cell_type": "code",
   "execution_count": 7,
   "metadata": {},
   "outputs": [
    {
     "data": {
      "text/plain": [
       "{'positivo': 11, 'negativo': 13}"
      ]
     },
     "execution_count": 7,
     "metadata": {},
     "output_type": "execute_result"
    }
   ],
   "source": [
    "d={'positivo':0,'negativo':0}\n",
    "for M in lista:\n",
    "    for l in M:\n",
    "        for n in l:\n",
    "            if n >=  0:\n",
    "                d['positivo']+=1\n",
    "            else:\n",
    "                d['negativo']+=1\n",
    "d"
   ]
  },
  {
   "cell_type": "code",
   "execution_count": null,
   "metadata": {},
   "outputs": [],
   "source": []
  }
 ],
 "metadata": {
  "kernelspec": {
   "display_name": "Python 3 (ipykernel)",
   "language": "python",
   "name": "python3"
  },
  "language_info": {
   "codemirror_mode": {
    "name": "ipython",
    "version": 3
   },
   "file_extension": ".py",
   "mimetype": "text/x-python",
   "name": "python",
   "nbconvert_exporter": "python",
   "pygments_lexer": "ipython3",
   "version": "3.10.13"
  }
 },
 "nbformat": 4,
 "nbformat_minor": 4
}
