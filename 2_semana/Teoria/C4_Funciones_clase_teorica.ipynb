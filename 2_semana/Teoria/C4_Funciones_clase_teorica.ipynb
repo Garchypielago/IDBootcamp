{
 "cells": [
  {
   "cell_type": "markdown",
   "metadata": {},
   "source": [
    "* Funciones como objetos de primera clase"
   ]
  },
  {
   "cell_type": "markdown",
   "metadata": {},
   "source": [
    "Crear un script que genere una contraseña aletoria y potente(Mayus,minus,num,simbolos)"
   ]
  },
  {
   "cell_type": "code",
   "execution_count": 135,
   "metadata": {},
   "outputs": [],
   "source": [
    "import random\n",
    "import string"
   ]
  },
  {
   "cell_type": "code",
   "execution_count": 136,
   "metadata": {},
   "outputs": [],
   "source": [
    "def validador_contra_sim(L_pss):\n",
    "    for i in L_pss:\n",
    "        if any ( j in string.punctuation for j in i):\n",
    "            return True\n",
    "    return False\n",
    "\n",
    "def validador_contra_Mayu(L_pss):\n",
    "    for i in L_pss:\n",
    "        if any ( j in string.ascii_uppercase for j in i):\n",
    "            return True\n",
    "    return False\n",
    "\n",
    "def validador_contra_minu(L_pss):\n",
    "    for i in L_pss:\n",
    "        if any ( j in string.ascii_lowercase for j in i):\n",
    "            return True\n",
    "    return False\n",
    "\n",
    "def validador_contra_num(L_pss):\n",
    "    for i in L_pss:\n",
    "        if any ( j in [\"1\",\"2\",\"3\",\"4\",\"5\",\"6\",\"7\",\"8\",\"9\"] for j in i):\n",
    "            return True\n",
    "    return False\n",
    "\n",
    "def creador_pss(num_carac):\n",
    "    L_pss = []\n",
    "    while ((validador_contra_Mayu(L_pss) or validador_contra_minu(L_pss) \n",
    "           or validador_contra_num(L_pss) or validador_contra_sim(L_pss))==False):\n",
    "        L_pss = []\n",
    "        elec = 0 # genero un numero que me pondra un sim,carc, o num\n",
    "        for i in range(num_carac):\n",
    "            elecc = random.randint(1,4)\n",
    "            if elecc == 1:\n",
    "                L_pss.append(str(random.randint(0,9)))\n",
    "            if elecc == 2:\n",
    "                L_pss.append(random.choice(string.ascii_lowercase))\n",
    "            if elecc == 3:\n",
    "                L_pss.append(random.choice(string.ascii_uppercase))\n",
    "            if elecc == 4:\n",
    "                L_pss.append(random.choice(string.punctuation))\n",
    "    return L_pss"
   ]
  },
  {
   "cell_type": "code",
   "execution_count": 137,
   "metadata": {},
   "outputs": [
    {
     "name": "stdout",
     "output_type": "stream",
     "text": [
      "1{5~$xGq6C5Ci|LOKo?,$8-J7Q(eP0W)jTz8#.c<74e(Bg3xUp\n"
     ]
    }
   ],
   "source": [
    "Lpss = creador_pss(50)\n",
    "pss = \"\".join(Lpss)\n",
    "\n",
    "print(pss)"
   ]
  },
  {
   "cell_type": "markdown",
   "metadata": {},
   "source": [
    "* Funciones ..."
   ]
  },
  {
   "cell_type": "code",
   "execution_count": 138,
   "metadata": {},
   "outputs": [],
   "source": [
    "def presentarse(nombre):\n",
    "    return f\"Hola, me llamo {nombre}\"\n",
    "\n",
    "def usar_funciones_nom(funcion):\n",
    "    return funcion(\"Aljandro\")"
   ]
  },
  {
   "cell_type": "code",
   "execution_count": 139,
   "metadata": {},
   "outputs": [
    {
     "name": "stdout",
     "output_type": "stream",
     "text": [
      "Hola, me llamo Aljandro\n",
      "Hola, me llamo Alejandro\n"
     ]
    }
   ],
   "source": [
    "print(usar_funciones_nom(presentarse))\n",
    "\n",
    "print(presentarse(\"Alejandro\"))"
   ]
  },
  {
   "cell_type": "markdown",
   "metadata": {},
   "source": [
    "* Funciones anidadas"
   ]
  },
  {
   "cell_type": "code",
   "execution_count": 140,
   "metadata": {},
   "outputs": [],
   "source": [
    "def funcion_superior(numero):\n",
    "    def doble():\n",
    "        resultado = numero*2\n",
    "        print (f\"el doble de {numero} es {resultado}\")\n",
    "    doble()\n",
    "\n",
    "    def cuadrado():\n",
    "        resultado = numero**2\n",
    "        print (f\"el cuadrado de {numero} es {resultado}\")\n",
    "    cuadrado()"
   ]
  },
  {
   "cell_type": "code",
   "execution_count": 141,
   "metadata": {},
   "outputs": [
    {
     "name": "stdout",
     "output_type": "stream",
     "text": [
      "el doble de 12 es 24\n",
      "el cuadrado de 12 es 144\n"
     ]
    }
   ],
   "source": [
    "funcion_superior(12)"
   ]
  },
  {
   "cell_type": "markdown",
   "metadata": {},
   "source": [
    "* Funciones lambda"
   ]
  },
  {
   "cell_type": "code",
   "execution_count": 142,
   "metadata": {},
   "outputs": [
    {
     "data": {
      "text/plain": [
       "4"
      ]
     },
     "execution_count": 142,
     "metadata": {},
     "output_type": "execute_result"
    }
   ],
   "source": [
    "f = lambda x: x**2\n",
    "f2 = f(2)\n",
    "f2"
   ]
  },
  {
   "cell_type": "code",
   "execution_count": 143,
   "metadata": {},
   "outputs": [
    {
     "data": {
      "text/plain": [
       "1331"
      ]
     },
     "execution_count": 143,
     "metadata": {},
     "output_type": "execute_result"
    }
   ],
   "source": [
    "f = lambda x,y : (x+y)**3\n",
    "f(2,9)"
   ]
  },
  {
   "cell_type": "code",
   "execution_count": 144,
   "metadata": {},
   "outputs": [],
   "source": [
    "def mi_funcion(lambda_func):\n",
    "    return lambda_func(2,9)"
   ]
  },
  {
   "cell_type": "code",
   "execution_count": 145,
   "metadata": {},
   "outputs": [
    {
     "data": {
      "text/plain": [
       "1331"
      ]
     },
     "execution_count": 145,
     "metadata": {},
     "output_type": "execute_result"
    }
   ],
   "source": [
    "mi_funcion(lambda a,b: (a+b)**3)"
   ]
  },
  {
   "cell_type": "markdown",
   "metadata": {},
   "source": [
    "* Map y Set"
   ]
  },
  {
   "cell_type": "code",
   "execution_count": 146,
   "metadata": {},
   "outputs": [],
   "source": [
    "def cuadrado_(numero):\n",
    "    return numero*numero"
   ]
  },
  {
   "cell_type": "code",
   "execution_count": 151,
   "metadata": {},
   "outputs": [
    {
     "data": {
      "text/plain": [
       "(1, 4, 9, 16, 25, 36, 49, 64, 81)"
      ]
     },
     "execution_count": 151,
     "metadata": {},
     "output_type": "execute_result"
    }
   ],
   "source": [
    "lista = [1,2,3,4,5,6,7,8,9]\n",
    "resultado = map(cuadrado_,lista)\n",
    "tupla_resultado = tuple(resultado)\n",
    "tupla_resultado"
   ]
  },
  {
   "cell_type": "code",
   "execution_count": 150,
   "metadata": {},
   "outputs": [
    {
     "name": "stdout",
     "output_type": "stream",
     "text": [
      "(False, True, False, True, False, True, False, True, False, False, True, False, True, False, True, False, True, False, False, True, False, True, False, True, False, True, False, False, True, False, True, False, True, False, True, False)\n"
     ]
    }
   ],
   "source": [
    "lista2 = [1,2,3,4,5,6,7,8,9]\n",
    "par = lambda x: x%2==0\n",
    "par_tuple = tuple(map(par, lista))\n",
    "par_tuple\n",
    "\n",
    "print(tuple(map(par,(lista2)*3+(lista2))))"
   ]
  },
  {
   "cell_type": "code",
   "execution_count": 152,
   "metadata": {},
   "outputs": [
    {
     "data": {
      "text/plain": [
       "[(1, 1), (2, 2), (3, 3), (4, 4), (5, 5), (6, 6), (7, 7), (8, 8), (9, 9)]"
      ]
     },
     "execution_count": 152,
     "metadata": {},
     "output_type": "execute_result"
    }
   ],
   "source": [
    "lista3 = [1,2,3,4,5,6,7,8,9]\n",
    "lista4 = [1,2,3,4,5,6,7,8,9]\n",
    "list(zip(lista3, lista4))"
   ]
  },
  {
   "cell_type": "code",
   "execution_count": 154,
   "metadata": {},
   "outputs": [
    {
     "data": {
      "text/plain": [
       "[2, 8, 18, 32, 50, 72, 98, 128, 162]"
      ]
     },
     "execution_count": 154,
     "metadata": {},
     "output_type": "execute_result"
    }
   ],
   "source": [
    "#  x**2 + y**2\n",
    "\n",
    "suma_de_cuadrados = lambda x: x[0]**2 + x[1]**2 \n",
    "list(map(suma_de_cuadrados, zip(lista3, lista4)))"
   ]
  },
  {
   "cell_type": "code",
   "execution_count": 170,
   "metadata": {},
   "outputs": [
    {
     "data": {
      "text/plain": [
       "[0, 2, 4, 6, 8, 10, 12, 14, 16, 18]"
      ]
     },
     "execution_count": 170,
     "metadata": {},
     "output_type": "execute_result"
    }
   ],
   "source": [
    "# filter\n",
    "par = lambda x: x%2==0\n",
    "list(filter(par, list(range(20))))"
   ]
  },
  {
   "cell_type": "code",
   "execution_count": 179,
   "metadata": {},
   "outputs": [
    {
     "data": {
      "text/plain": [
       "[36, 49, 64, 81]"
      ]
     },
     "execution_count": 179,
     "metadata": {},
     "output_type": "execute_result"
    }
   ],
   "source": [
    "# dada una lista d enuemros combianr lambda con map para elevar al cuadrado, \n",
    "# cada numero.Luego usar filter para selccionar los num amyores a 25.\n",
    "L = [1,2,3,4,5,6,7,8,9]\n",
    "\n",
    "cuadrado_ = lambda x: x**2\n",
    "mayor25 = lambda y: y>25\n",
    "\n",
    "list(filter( mayor25, list(map(cuadrado_, L))))\n"
   ]
  },
  {
   "cell_type": "code",
   "execution_count": null,
   "metadata": {},
   "outputs": [],
   "source": [
    "# metodo de inserccion\n",
    "lista = [2,4,7,2,5,6,2,5,7]\n",
    "for i in range(len(lista)):\n",
    "    for j in range( len(lista)-i-1):\n",
    "        if lista[j] > lista[j+1]:\n",
    "                lista[j], lista[j+1] = lista[j+1], lista[j]\n",
    "    print(lista)\n",
    "print(lista)"
   ]
  },
  {
   "cell_type": "code",
   "execution_count": null,
   "metadata": {},
   "outputs": [],
   "source": [
    "# metodo de buruja\n",
    "lista = [2,4,7,2,5,6,2,5,7]\n",
    "count=1\n",
    "while count!=0:\n",
    "    count=0\n",
    "    for i in range(len(lista)-1,0,-1):\n",
    "        if lista[i] < lista[i-1]:\n",
    "            lista[i], lista[i-1] = lista[i-1], lista[i]\n",
    "            count += 1\n",
    "    for j in range(len(lista)-1):\n",
    "        if lista[j] > lista[j+1]:\n",
    "            lista[j], lista[j+1] = lista[j+1], lista[j]\n",
    "            count += 1\n",
    "print(lista)\n",
    "\n",
    "def sort_burbuja(L):\n",
    "    "
   ]
  },
  {
   "cell_type": "code",
   "execution_count": null,
   "metadata": {},
   "outputs": [],
   "source": [
    "# metodo de selccion\n",
    "lista = [2,4,7,2,5,6,2,5,7]\n",
    "for i in range(len(lista)-1):\n",
    "    for j in range(i,len(lista)-1):\n",
    "        if lista[i] > lista[j]:\n",
    "                lista[i], lista[j] = lista[j], lista[i]\n",
    "print(lista)"
   ]
  }
 ],
 "metadata": {
  "kernelspec": {
   "display_name": "base",
   "language": "python",
   "name": "python3"
  },
  "language_info": {
   "codemirror_mode": {
    "name": "ipython",
    "version": 3
   },
   "file_extension": ".py",
   "mimetype": "text/x-python",
   "name": "python",
   "nbconvert_exporter": "python",
   "pygments_lexer": "ipython3",
   "version": "3.11.7"
  }
 },
 "nbformat": 4,
 "nbformat_minor": 2
}
