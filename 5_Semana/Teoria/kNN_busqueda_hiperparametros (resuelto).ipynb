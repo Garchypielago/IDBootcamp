{
 "cells": [
  {
   "cell_type": "code",
   "execution_count": 22,
   "metadata": {},
   "outputs": [],
   "source": [
    "import pandas as pd\n",
    "import numpy as np\n",
    "from sklearn.metrics import mean_squared_error, r2_score\n",
    "from sklearn import datasets\n",
    "import matplotlib.pyplot as plt\n",
    "from sklearn.neighbors import KNeighborsRegressor"
   ]
  },
  {
   "cell_type": "code",
   "execution_count": 23,
   "metadata": {
    "scrolled": true
   },
   "outputs": [
    {
     "data": {
      "text/html": [
       "<div>\n",
       "<style scoped>\n",
       "    .dataframe tbody tr th:only-of-type {\n",
       "        vertical-align: middle;\n",
       "    }\n",
       "\n",
       "    .dataframe tbody tr th {\n",
       "        vertical-align: top;\n",
       "    }\n",
       "\n",
       "    .dataframe thead th {\n",
       "        text-align: right;\n",
       "    }\n",
       "</style>\n",
       "<table border=\"1\" class=\"dataframe\">\n",
       "  <thead>\n",
       "    <tr style=\"text-align: right;\">\n",
       "      <th></th>\n",
       "      <th>Id</th>\n",
       "      <th>MSSubClass</th>\n",
       "      <th>MSZoning</th>\n",
       "      <th>LotFrontage</th>\n",
       "      <th>LotArea</th>\n",
       "      <th>Street</th>\n",
       "      <th>Alley</th>\n",
       "      <th>LotShape</th>\n",
       "      <th>LandContour</th>\n",
       "      <th>Utilities</th>\n",
       "      <th>...</th>\n",
       "      <th>PoolArea</th>\n",
       "      <th>PoolQC</th>\n",
       "      <th>Fence</th>\n",
       "      <th>MiscFeature</th>\n",
       "      <th>MiscVal</th>\n",
       "      <th>MoSold</th>\n",
       "      <th>YrSold</th>\n",
       "      <th>SaleType</th>\n",
       "      <th>SaleCondition</th>\n",
       "      <th>SalePrice</th>\n",
       "    </tr>\n",
       "  </thead>\n",
       "  <tbody>\n",
       "    <tr>\n",
       "      <th>0</th>\n",
       "      <td>1</td>\n",
       "      <td>60</td>\n",
       "      <td>RL</td>\n",
       "      <td>65.0</td>\n",
       "      <td>8450</td>\n",
       "      <td>Pave</td>\n",
       "      <td>NaN</td>\n",
       "      <td>Reg</td>\n",
       "      <td>Lvl</td>\n",
       "      <td>AllPub</td>\n",
       "      <td>...</td>\n",
       "      <td>0</td>\n",
       "      <td>NaN</td>\n",
       "      <td>NaN</td>\n",
       "      <td>NaN</td>\n",
       "      <td>0</td>\n",
       "      <td>2</td>\n",
       "      <td>2008</td>\n",
       "      <td>WD</td>\n",
       "      <td>Normal</td>\n",
       "      <td>208500</td>\n",
       "    </tr>\n",
       "    <tr>\n",
       "      <th>1</th>\n",
       "      <td>2</td>\n",
       "      <td>20</td>\n",
       "      <td>RL</td>\n",
       "      <td>80.0</td>\n",
       "      <td>9600</td>\n",
       "      <td>Pave</td>\n",
       "      <td>NaN</td>\n",
       "      <td>Reg</td>\n",
       "      <td>Lvl</td>\n",
       "      <td>AllPub</td>\n",
       "      <td>...</td>\n",
       "      <td>0</td>\n",
       "      <td>NaN</td>\n",
       "      <td>NaN</td>\n",
       "      <td>NaN</td>\n",
       "      <td>0</td>\n",
       "      <td>5</td>\n",
       "      <td>2007</td>\n",
       "      <td>WD</td>\n",
       "      <td>Normal</td>\n",
       "      <td>181500</td>\n",
       "    </tr>\n",
       "    <tr>\n",
       "      <th>2</th>\n",
       "      <td>3</td>\n",
       "      <td>60</td>\n",
       "      <td>RL</td>\n",
       "      <td>68.0</td>\n",
       "      <td>11250</td>\n",
       "      <td>Pave</td>\n",
       "      <td>NaN</td>\n",
       "      <td>IR1</td>\n",
       "      <td>Lvl</td>\n",
       "      <td>AllPub</td>\n",
       "      <td>...</td>\n",
       "      <td>0</td>\n",
       "      <td>NaN</td>\n",
       "      <td>NaN</td>\n",
       "      <td>NaN</td>\n",
       "      <td>0</td>\n",
       "      <td>9</td>\n",
       "      <td>2008</td>\n",
       "      <td>WD</td>\n",
       "      <td>Normal</td>\n",
       "      <td>223500</td>\n",
       "    </tr>\n",
       "    <tr>\n",
       "      <th>3</th>\n",
       "      <td>4</td>\n",
       "      <td>70</td>\n",
       "      <td>RL</td>\n",
       "      <td>60.0</td>\n",
       "      <td>9550</td>\n",
       "      <td>Pave</td>\n",
       "      <td>NaN</td>\n",
       "      <td>IR1</td>\n",
       "      <td>Lvl</td>\n",
       "      <td>AllPub</td>\n",
       "      <td>...</td>\n",
       "      <td>0</td>\n",
       "      <td>NaN</td>\n",
       "      <td>NaN</td>\n",
       "      <td>NaN</td>\n",
       "      <td>0</td>\n",
       "      <td>2</td>\n",
       "      <td>2006</td>\n",
       "      <td>WD</td>\n",
       "      <td>Abnorml</td>\n",
       "      <td>140000</td>\n",
       "    </tr>\n",
       "    <tr>\n",
       "      <th>4</th>\n",
       "      <td>5</td>\n",
       "      <td>60</td>\n",
       "      <td>RL</td>\n",
       "      <td>84.0</td>\n",
       "      <td>14260</td>\n",
       "      <td>Pave</td>\n",
       "      <td>NaN</td>\n",
       "      <td>IR1</td>\n",
       "      <td>Lvl</td>\n",
       "      <td>AllPub</td>\n",
       "      <td>...</td>\n",
       "      <td>0</td>\n",
       "      <td>NaN</td>\n",
       "      <td>NaN</td>\n",
       "      <td>NaN</td>\n",
       "      <td>0</td>\n",
       "      <td>12</td>\n",
       "      <td>2008</td>\n",
       "      <td>WD</td>\n",
       "      <td>Normal</td>\n",
       "      <td>250000</td>\n",
       "    </tr>\n",
       "  </tbody>\n",
       "</table>\n",
       "<p>5 rows × 81 columns</p>\n",
       "</div>"
      ],
      "text/plain": [
       "   Id  MSSubClass MSZoning  LotFrontage  LotArea Street Alley LotShape  \\\n",
       "0   1          60       RL         65.0     8450   Pave   NaN      Reg   \n",
       "1   2          20       RL         80.0     9600   Pave   NaN      Reg   \n",
       "2   3          60       RL         68.0    11250   Pave   NaN      IR1   \n",
       "3   4          70       RL         60.0     9550   Pave   NaN      IR1   \n",
       "4   5          60       RL         84.0    14260   Pave   NaN      IR1   \n",
       "\n",
       "  LandContour Utilities  ... PoolArea PoolQC Fence MiscFeature MiscVal MoSold  \\\n",
       "0         Lvl    AllPub  ...        0    NaN   NaN         NaN       0      2   \n",
       "1         Lvl    AllPub  ...        0    NaN   NaN         NaN       0      5   \n",
       "2         Lvl    AllPub  ...        0    NaN   NaN         NaN       0      9   \n",
       "3         Lvl    AllPub  ...        0    NaN   NaN         NaN       0      2   \n",
       "4         Lvl    AllPub  ...        0    NaN   NaN         NaN       0     12   \n",
       "\n",
       "  YrSold  SaleType  SaleCondition  SalePrice  \n",
       "0   2008        WD         Normal     208500  \n",
       "1   2007        WD         Normal     181500  \n",
       "2   2008        WD         Normal     223500  \n",
       "3   2006        WD        Abnorml     140000  \n",
       "4   2008        WD         Normal     250000  \n",
       "\n",
       "[5 rows x 81 columns]"
      ]
     },
     "execution_count": 23,
     "metadata": {},
     "output_type": "execute_result"
    }
   ],
   "source": [
    "import warnings\n",
    "warnings.filterwarnings('ignore')\n",
    "data = pd.read_csv(\"train_housing_prices.csv\")\n",
    "data.head()"
   ]
  },
  {
   "cell_type": "code",
   "execution_count": 24,
   "metadata": {},
   "outputs": [],
   "source": [
    "data=data._get_numeric_data()"
   ]
  },
  {
   "cell_type": "code",
   "execution_count": 25,
   "metadata": {},
   "outputs": [
    {
     "data": {
      "text/plain": [
       "Id                 0\n",
       "MSSubClass         0\n",
       "LotFrontage      259\n",
       "LotArea            0\n",
       "OverallQual        0\n",
       "OverallCond        0\n",
       "YearBuilt          0\n",
       "YearRemodAdd       0\n",
       "MasVnrArea         8\n",
       "BsmtFinSF1         0\n",
       "BsmtFinSF2         0\n",
       "BsmtUnfSF          0\n",
       "TotalBsmtSF        0\n",
       "1stFlrSF           0\n",
       "2ndFlrSF           0\n",
       "LowQualFinSF       0\n",
       "GrLivArea          0\n",
       "BsmtFullBath       0\n",
       "BsmtHalfBath       0\n",
       "FullBath           0\n",
       "HalfBath           0\n",
       "BedroomAbvGr       0\n",
       "KitchenAbvGr       0\n",
       "TotRmsAbvGrd       0\n",
       "Fireplaces         0\n",
       "GarageYrBlt       81\n",
       "GarageCars         0\n",
       "GarageArea         0\n",
       "WoodDeckSF         0\n",
       "OpenPorchSF        0\n",
       "EnclosedPorch      0\n",
       "3SsnPorch          0\n",
       "ScreenPorch        0\n",
       "PoolArea           0\n",
       "MiscVal            0\n",
       "MoSold             0\n",
       "YrSold             0\n",
       "SalePrice          0\n",
       "dtype: int64"
      ]
     },
     "execution_count": 25,
     "metadata": {},
     "output_type": "execute_result"
    }
   ],
   "source": [
    "data.isnull().sum()"
   ]
  },
  {
   "cell_type": "code",
   "execution_count": 26,
   "metadata": {},
   "outputs": [],
   "source": [
    "data=data.drop(columns=['Id','LotFrontage','GarageYrBlt','MasVnrArea'])"
   ]
  },
  {
   "cell_type": "code",
   "execution_count": 28,
   "metadata": {},
   "outputs": [],
   "source": [
    "X=data.drop(columns=['SalePrice'])\n",
    "y=data['SalePrice']"
   ]
  },
  {
   "cell_type": "code",
   "execution_count": 29,
   "metadata": {},
   "outputs": [
    {
     "name": "stdout",
     "output_type": "stream",
     "text": [
      "Train set: (1022, 33) (1022,)\n",
      "Test set: (438, 33) (438,)\n"
     ]
    }
   ],
   "source": [
    "from sklearn.model_selection import train_test_split\n",
    "\n",
    "X_train, X_test, y_train, y_test = train_test_split(X, y, test_size=0.3)\n",
    "print ('Train set:', X_train.shape,  y_train.shape)\n",
    "print ('Test set:', X_test.shape,  y_test.shape)"
   ]
  },
  {
   "cell_type": "markdown",
   "metadata": {},
   "source": [
    "# 3NN sin escalar (mal)"
   ]
  },
  {
   "cell_type": "code",
   "execution_count": 30,
   "metadata": {},
   "outputs": [
    {
     "data": {
      "text/html": [
       "<style>#sk-container-id-5 {color: black;}#sk-container-id-5 pre{padding: 0;}#sk-container-id-5 div.sk-toggleable {background-color: white;}#sk-container-id-5 label.sk-toggleable__label {cursor: pointer;display: block;width: 100%;margin-bottom: 0;padding: 0.3em;box-sizing: border-box;text-align: center;}#sk-container-id-5 label.sk-toggleable__label-arrow:before {content: \"▸\";float: left;margin-right: 0.25em;color: #696969;}#sk-container-id-5 label.sk-toggleable__label-arrow:hover:before {color: black;}#sk-container-id-5 div.sk-estimator:hover label.sk-toggleable__label-arrow:before {color: black;}#sk-container-id-5 div.sk-toggleable__content {max-height: 0;max-width: 0;overflow: hidden;text-align: left;background-color: #f0f8ff;}#sk-container-id-5 div.sk-toggleable__content pre {margin: 0.2em;color: black;border-radius: 0.25em;background-color: #f0f8ff;}#sk-container-id-5 input.sk-toggleable__control:checked~div.sk-toggleable__content {max-height: 200px;max-width: 100%;overflow: auto;}#sk-container-id-5 input.sk-toggleable__control:checked~label.sk-toggleable__label-arrow:before {content: \"▾\";}#sk-container-id-5 div.sk-estimator input.sk-toggleable__control:checked~label.sk-toggleable__label {background-color: #d4ebff;}#sk-container-id-5 div.sk-label input.sk-toggleable__control:checked~label.sk-toggleable__label {background-color: #d4ebff;}#sk-container-id-5 input.sk-hidden--visually {border: 0;clip: rect(1px 1px 1px 1px);clip: rect(1px, 1px, 1px, 1px);height: 1px;margin: -1px;overflow: hidden;padding: 0;position: absolute;width: 1px;}#sk-container-id-5 div.sk-estimator {font-family: monospace;background-color: #f0f8ff;border: 1px dotted black;border-radius: 0.25em;box-sizing: border-box;margin-bottom: 0.5em;}#sk-container-id-5 div.sk-estimator:hover {background-color: #d4ebff;}#sk-container-id-5 div.sk-parallel-item::after {content: \"\";width: 100%;border-bottom: 1px solid gray;flex-grow: 1;}#sk-container-id-5 div.sk-label:hover label.sk-toggleable__label {background-color: #d4ebff;}#sk-container-id-5 div.sk-serial::before {content: \"\";position: absolute;border-left: 1px solid gray;box-sizing: border-box;top: 0;bottom: 0;left: 50%;z-index: 0;}#sk-container-id-5 div.sk-serial {display: flex;flex-direction: column;align-items: center;background-color: white;padding-right: 0.2em;padding-left: 0.2em;position: relative;}#sk-container-id-5 div.sk-item {position: relative;z-index: 1;}#sk-container-id-5 div.sk-parallel {display: flex;align-items: stretch;justify-content: center;background-color: white;position: relative;}#sk-container-id-5 div.sk-item::before, #sk-container-id-5 div.sk-parallel-item::before {content: \"\";position: absolute;border-left: 1px solid gray;box-sizing: border-box;top: 0;bottom: 0;left: 50%;z-index: -1;}#sk-container-id-5 div.sk-parallel-item {display: flex;flex-direction: column;z-index: 1;position: relative;background-color: white;}#sk-container-id-5 div.sk-parallel-item:first-child::after {align-self: flex-end;width: 50%;}#sk-container-id-5 div.sk-parallel-item:last-child::after {align-self: flex-start;width: 50%;}#sk-container-id-5 div.sk-parallel-item:only-child::after {width: 0;}#sk-container-id-5 div.sk-dashed-wrapped {border: 1px dashed gray;margin: 0 0.4em 0.5em 0.4em;box-sizing: border-box;padding-bottom: 0.4em;background-color: white;}#sk-container-id-5 div.sk-label label {font-family: monospace;font-weight: bold;display: inline-block;line-height: 1.2em;}#sk-container-id-5 div.sk-label-container {text-align: center;}#sk-container-id-5 div.sk-container {/* jupyter's `normalize.less` sets `[hidden] { display: none; }` but bootstrap.min.css set `[hidden] { display: none !important; }` so we also need the `!important` here to be able to override the default hidden behavior on the sphinx rendered scikit-learn.org. See: https://github.com/scikit-learn/scikit-learn/issues/21755 */display: inline-block !important;position: relative;}#sk-container-id-5 div.sk-text-repr-fallback {display: none;}</style><div id=\"sk-container-id-5\" class=\"sk-top-container\"><div class=\"sk-text-repr-fallback\"><pre>KNeighborsRegressor(n_neighbors=3)</pre><b>In a Jupyter environment, please rerun this cell to show the HTML representation or trust the notebook. <br />On GitHub, the HTML representation is unable to render, please try loading this page with nbviewer.org.</b></div><div class=\"sk-container\" hidden><div class=\"sk-item\"><div class=\"sk-estimator sk-toggleable\"><input class=\"sk-toggleable__control sk-hidden--visually\" id=\"sk-estimator-id-5\" type=\"checkbox\" checked><label for=\"sk-estimator-id-5\" class=\"sk-toggleable__label sk-toggleable__label-arrow\">KNeighborsRegressor</label><div class=\"sk-toggleable__content\"><pre>KNeighborsRegressor(n_neighbors=3)</pre></div></div></div></div></div>"
      ],
      "text/plain": [
       "KNeighborsRegressor(n_neighbors=3)"
      ]
     },
     "execution_count": 30,
     "metadata": {},
     "output_type": "execute_result"
    }
   ],
   "source": [
    "knn = KNeighborsRegressor(3) # creo el obj/cajita\n",
    "# modleo=LinearRegression()\n",
    "knn.fit(X_train, y_train) # entreno con el fit, se ha guardado X_train y y_train\n"
   ]
  },
  {
   "cell_type": "code",
   "execution_count": 31,
   "metadata": {},
   "outputs": [
    {
     "name": "stdout",
     "output_type": "stream",
     "text": [
      "R2:  0.5751273449927936\n"
     ]
    }
   ],
   "source": [
    "yhat = knn.predict(X_test)\n",
    "print(\"R2: \", r2_score(y_test, yhat))"
   ]
  },
  {
   "cell_type": "code",
   "execution_count": 32,
   "metadata": {},
   "outputs": [
    {
     "name": "stdout",
     "output_type": "stream",
     "text": [
      "R2 train:  0.8459650662793851\n"
     ]
    }
   ],
   "source": [
    "yhat_train = knn.predict(X_train)\n",
    "print(\"R2 train: \", r2_score(y_train, yhat_train))"
   ]
  },
  {
   "cell_type": "markdown",
   "metadata": {},
   "source": [
    "# ahora escalamos primero"
   ]
  },
  {
   "cell_type": "code",
   "execution_count": 33,
   "metadata": {},
   "outputs": [
    {
     "data": {
      "text/html": [
       "<style>#sk-container-id-6 {color: black;}#sk-container-id-6 pre{padding: 0;}#sk-container-id-6 div.sk-toggleable {background-color: white;}#sk-container-id-6 label.sk-toggleable__label {cursor: pointer;display: block;width: 100%;margin-bottom: 0;padding: 0.3em;box-sizing: border-box;text-align: center;}#sk-container-id-6 label.sk-toggleable__label-arrow:before {content: \"▸\";float: left;margin-right: 0.25em;color: #696969;}#sk-container-id-6 label.sk-toggleable__label-arrow:hover:before {color: black;}#sk-container-id-6 div.sk-estimator:hover label.sk-toggleable__label-arrow:before {color: black;}#sk-container-id-6 div.sk-toggleable__content {max-height: 0;max-width: 0;overflow: hidden;text-align: left;background-color: #f0f8ff;}#sk-container-id-6 div.sk-toggleable__content pre {margin: 0.2em;color: black;border-radius: 0.25em;background-color: #f0f8ff;}#sk-container-id-6 input.sk-toggleable__control:checked~div.sk-toggleable__content {max-height: 200px;max-width: 100%;overflow: auto;}#sk-container-id-6 input.sk-toggleable__control:checked~label.sk-toggleable__label-arrow:before {content: \"▾\";}#sk-container-id-6 div.sk-estimator input.sk-toggleable__control:checked~label.sk-toggleable__label {background-color: #d4ebff;}#sk-container-id-6 div.sk-label input.sk-toggleable__control:checked~label.sk-toggleable__label {background-color: #d4ebff;}#sk-container-id-6 input.sk-hidden--visually {border: 0;clip: rect(1px 1px 1px 1px);clip: rect(1px, 1px, 1px, 1px);height: 1px;margin: -1px;overflow: hidden;padding: 0;position: absolute;width: 1px;}#sk-container-id-6 div.sk-estimator {font-family: monospace;background-color: #f0f8ff;border: 1px dotted black;border-radius: 0.25em;box-sizing: border-box;margin-bottom: 0.5em;}#sk-container-id-6 div.sk-estimator:hover {background-color: #d4ebff;}#sk-container-id-6 div.sk-parallel-item::after {content: \"\";width: 100%;border-bottom: 1px solid gray;flex-grow: 1;}#sk-container-id-6 div.sk-label:hover label.sk-toggleable__label {background-color: #d4ebff;}#sk-container-id-6 div.sk-serial::before {content: \"\";position: absolute;border-left: 1px solid gray;box-sizing: border-box;top: 0;bottom: 0;left: 50%;z-index: 0;}#sk-container-id-6 div.sk-serial {display: flex;flex-direction: column;align-items: center;background-color: white;padding-right: 0.2em;padding-left: 0.2em;position: relative;}#sk-container-id-6 div.sk-item {position: relative;z-index: 1;}#sk-container-id-6 div.sk-parallel {display: flex;align-items: stretch;justify-content: center;background-color: white;position: relative;}#sk-container-id-6 div.sk-item::before, #sk-container-id-6 div.sk-parallel-item::before {content: \"\";position: absolute;border-left: 1px solid gray;box-sizing: border-box;top: 0;bottom: 0;left: 50%;z-index: -1;}#sk-container-id-6 div.sk-parallel-item {display: flex;flex-direction: column;z-index: 1;position: relative;background-color: white;}#sk-container-id-6 div.sk-parallel-item:first-child::after {align-self: flex-end;width: 50%;}#sk-container-id-6 div.sk-parallel-item:last-child::after {align-self: flex-start;width: 50%;}#sk-container-id-6 div.sk-parallel-item:only-child::after {width: 0;}#sk-container-id-6 div.sk-dashed-wrapped {border: 1px dashed gray;margin: 0 0.4em 0.5em 0.4em;box-sizing: border-box;padding-bottom: 0.4em;background-color: white;}#sk-container-id-6 div.sk-label label {font-family: monospace;font-weight: bold;display: inline-block;line-height: 1.2em;}#sk-container-id-6 div.sk-label-container {text-align: center;}#sk-container-id-6 div.sk-container {/* jupyter's `normalize.less` sets `[hidden] { display: none; }` but bootstrap.min.css set `[hidden] { display: none !important; }` so we also need the `!important` here to be able to override the default hidden behavior on the sphinx rendered scikit-learn.org. See: https://github.com/scikit-learn/scikit-learn/issues/21755 */display: inline-block !important;position: relative;}#sk-container-id-6 div.sk-text-repr-fallback {display: none;}</style><div id=\"sk-container-id-6\" class=\"sk-top-container\"><div class=\"sk-text-repr-fallback\"><pre>StandardScaler()</pre><b>In a Jupyter environment, please rerun this cell to show the HTML representation or trust the notebook. <br />On GitHub, the HTML representation is unable to render, please try loading this page with nbviewer.org.</b></div><div class=\"sk-container\" hidden><div class=\"sk-item\"><div class=\"sk-estimator sk-toggleable\"><input class=\"sk-toggleable__control sk-hidden--visually\" id=\"sk-estimator-id-6\" type=\"checkbox\" checked><label for=\"sk-estimator-id-6\" class=\"sk-toggleable__label sk-toggleable__label-arrow\">StandardScaler</label><div class=\"sk-toggleable__content\"><pre>StandardScaler()</pre></div></div></div></div></div>"
      ],
      "text/plain": [
       "StandardScaler()"
      ]
     },
     "execution_count": 33,
     "metadata": {},
     "output_type": "execute_result"
    }
   ],
   "source": [
    "from sklearn.preprocessing import StandardScaler\n",
    "objeto_escalador = StandardScaler() # creo el objeto escalador, escalara el dataframe\n",
    "objeto_escalador.fit(X_train) # le enseñamos la estructura de columnas(33 columnas) y la media y varianza de las 33 columnas"
   ]
  },
  {
   "cell_type": "code",
   "execution_count": 34,
   "metadata": {},
   "outputs": [
    {
     "data": {
      "text/plain": [
       "array([[-0.86452516,  0.61692812,  1.371755  , ..., -0.09018379,\n",
       "         0.61475401, -0.60484875],\n",
       "       [-0.86452516, -0.26642491, -1.52181282, ..., -0.09018379,\n",
       "         1.35477593, -0.60484875],\n",
       "       [-0.86452516, -0.3726873 , -1.52181282, ..., -0.09018379,\n",
       "        -0.1252679 , -0.60484875],\n",
       "       ...,\n",
       "       [ 0.56670278, -0.09015435, -0.07502891, ..., -0.09018379,\n",
       "         0.61475401, -0.60484875],\n",
       "       [-0.86452516, -0.41219191, -1.52181282, ..., -0.09018379,\n",
       "        -0.1252679 ,  0.13545715],\n",
       "       [-0.86452516, -0.19354141,  0.64836304, ..., -0.09018379,\n",
       "        -0.49527885,  1.61606894]])"
      ]
     },
     "execution_count": 34,
     "metadata": {},
     "output_type": "execute_result"
    }
   ],
   "source": [
    "objeto_escalador.transform(X_train)"
   ]
  },
  {
   "cell_type": "code",
   "execution_count": 38,
   "metadata": {},
   "outputs": [],
   "source": [
    "#X_train[:] # selecciono los valores"
   ]
  },
  {
   "cell_type": "code",
   "execution_count": 39,
   "metadata": {},
   "outputs": [],
   "source": [
    "X_train[:] = objeto_escalador.transform(X_train)\n",
    "X_test[:] = objeto_escalador.transform(X_test)\n",
    "# sobreescrivo los valores\n",
    "# X_train = ... esto sobreescrivira el objeto X_train\n",
    "# el escalador se hace fit con train y se aplica a train y test"
   ]
  },
  {
   "cell_type": "code",
   "execution_count": 13,
   "metadata": {},
   "outputs": [],
   "source": [
    "# otra forma de hacerlo sería:\n",
    "# scaled = objeto_escalador.transform(X_train)\n",
    "# scaled_data = pd.DataFrame(scaled, columns=X_train.columns)\n",
    "# scaled_test = objeto_escalador.transform(X_test)\n",
    "# scaled_test = pd.DataFrame(scaled_test, columns=X_test.columns)"
   ]
  },
  {
   "cell_type": "code",
   "execution_count": 43,
   "metadata": {},
   "outputs": [
    {
     "data": {
      "text/html": [
       "<div>\n",
       "<style scoped>\n",
       "    .dataframe tbody tr th:only-of-type {\n",
       "        vertical-align: middle;\n",
       "    }\n",
       "\n",
       "    .dataframe tbody tr th {\n",
       "        vertical-align: top;\n",
       "    }\n",
       "\n",
       "    .dataframe thead th {\n",
       "        text-align: right;\n",
       "    }\n",
       "</style>\n",
       "<table border=\"1\" class=\"dataframe\">\n",
       "  <thead>\n",
       "    <tr style=\"text-align: right;\">\n",
       "      <th></th>\n",
       "      <th>MSSubClass</th>\n",
       "      <th>LotArea</th>\n",
       "      <th>OverallQual</th>\n",
       "      <th>OverallCond</th>\n",
       "      <th>YearBuilt</th>\n",
       "      <th>YearRemodAdd</th>\n",
       "      <th>BsmtFinSF1</th>\n",
       "      <th>BsmtFinSF2</th>\n",
       "      <th>BsmtUnfSF</th>\n",
       "      <th>TotalBsmtSF</th>\n",
       "      <th>...</th>\n",
       "      <th>GarageArea</th>\n",
       "      <th>WoodDeckSF</th>\n",
       "      <th>OpenPorchSF</th>\n",
       "      <th>EnclosedPorch</th>\n",
       "      <th>3SsnPorch</th>\n",
       "      <th>ScreenPorch</th>\n",
       "      <th>PoolArea</th>\n",
       "      <th>MiscVal</th>\n",
       "      <th>MoSold</th>\n",
       "      <th>YrSold</th>\n",
       "    </tr>\n",
       "  </thead>\n",
       "  <tbody>\n",
       "    <tr>\n",
       "      <th>1403</th>\n",
       "      <td>-0.864525</td>\n",
       "      <td>0.616928</td>\n",
       "      <td>1.371755</td>\n",
       "      <td>-0.499405</td>\n",
       "      <td>1.162617</td>\n",
       "      <td>1.075168</td>\n",
       "      <td>1.075316</td>\n",
       "      <td>-0.290606</td>\n",
       "      <td>-0.060948</td>\n",
       "      <td>0.932291</td>\n",
       "      <td>...</td>\n",
       "      <td>1.329595</td>\n",
       "      <td>0.582613</td>\n",
       "      <td>1.717883</td>\n",
       "      <td>-0.356888</td>\n",
       "      <td>-0.112515</td>\n",
       "      <td>-0.269831</td>\n",
       "      <td>-0.069245</td>\n",
       "      <td>-0.090184</td>\n",
       "      <td>0.614754</td>\n",
       "      <td>-0.604849</td>\n",
       "    </tr>\n",
       "    <tr>\n",
       "      <th>1314</th>\n",
       "      <td>-0.864525</td>\n",
       "      <td>-0.266425</td>\n",
       "      <td>-1.521813</td>\n",
       "      <td>0.431967</td>\n",
       "      <td>-0.616218</td>\n",
       "      <td>-1.488895</td>\n",
       "      <td>0.646804</td>\n",
       "      <td>-0.290606</td>\n",
       "      <td>-0.809846</td>\n",
       "      <td>-0.257105</td>\n",
       "      <td>...</td>\n",
       "      <td>-0.892503</td>\n",
       "      <td>-0.762649</td>\n",
       "      <td>-0.158519</td>\n",
       "      <td>-0.356888</td>\n",
       "      <td>-0.112515</td>\n",
       "      <td>-0.269831</td>\n",
       "      <td>-0.069245</td>\n",
       "      <td>-0.090184</td>\n",
       "      <td>1.354776</td>\n",
       "      <td>-0.604849</td>\n",
       "    </tr>\n",
       "    <tr>\n",
       "      <th>900</th>\n",
       "      <td>-0.864525</td>\n",
       "      <td>-0.372687</td>\n",
       "      <td>-1.521813</td>\n",
       "      <td>0.431967</td>\n",
       "      <td>-0.045648</td>\n",
       "      <td>-0.666460</td>\n",
       "      <td>-0.245021</td>\n",
       "      <td>-0.290606</td>\n",
       "      <td>-0.105001</td>\n",
       "      <td>-0.456445</td>\n",
       "      <td>...</td>\n",
       "      <td>1.001437</td>\n",
       "      <td>-0.762649</td>\n",
       "      <td>-0.703280</td>\n",
       "      <td>-0.356888</td>\n",
       "      <td>-0.112515</td>\n",
       "      <td>-0.269831</td>\n",
       "      <td>-0.069245</td>\n",
       "      <td>-0.090184</td>\n",
       "      <td>-0.125268</td>\n",
       "      <td>-0.604849</td>\n",
       "    </tr>\n",
       "    <tr>\n",
       "      <th>654</th>\n",
       "      <td>-0.864525</td>\n",
       "      <td>0.014483</td>\n",
       "      <td>1.371755</td>\n",
       "      <td>0.431967</td>\n",
       "      <td>0.759862</td>\n",
       "      <td>0.494626</td>\n",
       "      <td>2.743682</td>\n",
       "      <td>-0.290606</td>\n",
       "      <td>-0.375926</td>\n",
       "      <td>2.314383</td>\n",
       "      <td>...</td>\n",
       "      <td>1.728072</td>\n",
       "      <td>1.127124</td>\n",
       "      <td>-0.007196</td>\n",
       "      <td>-0.356888</td>\n",
       "      <td>-0.112515</td>\n",
       "      <td>-0.269831</td>\n",
       "      <td>-0.069245</td>\n",
       "      <td>-0.090184</td>\n",
       "      <td>0.614754</td>\n",
       "      <td>0.135457</td>\n",
       "    </tr>\n",
       "    <tr>\n",
       "      <th>650</th>\n",
       "      <td>0.089627</td>\n",
       "      <td>-0.274551</td>\n",
       "      <td>0.648363</td>\n",
       "      <td>0.431967</td>\n",
       "      <td>1.162617</td>\n",
       "      <td>1.075168</td>\n",
       "      <td>-0.945430</td>\n",
       "      <td>-0.290606</td>\n",
       "      <td>0.505132</td>\n",
       "      <td>-0.556115</td>\n",
       "      <td>...</td>\n",
       "      <td>0.429504</td>\n",
       "      <td>-0.762649</td>\n",
       "      <td>-0.703280</td>\n",
       "      <td>-0.356888</td>\n",
       "      <td>-0.112515</td>\n",
       "      <td>-0.269831</td>\n",
       "      <td>-0.069245</td>\n",
       "      <td>-0.090184</td>\n",
       "      <td>-0.495279</td>\n",
       "      <td>0.135457</td>\n",
       "    </tr>\n",
       "    <tr>\n",
       "      <th>...</th>\n",
       "      <td>...</td>\n",
       "      <td>...</td>\n",
       "      <td>...</td>\n",
       "      <td>...</td>\n",
       "      <td>...</td>\n",
       "      <td>...</td>\n",
       "      <td>...</td>\n",
       "      <td>...</td>\n",
       "      <td>...</td>\n",
       "      <td>...</td>\n",
       "      <td>...</td>\n",
       "      <td>...</td>\n",
       "      <td>...</td>\n",
       "      <td>...</td>\n",
       "      <td>...</td>\n",
       "      <td>...</td>\n",
       "      <td>...</td>\n",
       "      <td>...</td>\n",
       "      <td>...</td>\n",
       "      <td>...</td>\n",
       "      <td>...</td>\n",
       "    </tr>\n",
       "    <tr>\n",
       "      <th>1334</th>\n",
       "      <td>2.475007</td>\n",
       "      <td>-0.994260</td>\n",
       "      <td>-0.798421</td>\n",
       "      <td>0.431967</td>\n",
       "      <td>-0.079211</td>\n",
       "      <td>-0.714838</td>\n",
       "      <td>0.718586</td>\n",
       "      <td>-0.290606</td>\n",
       "      <td>-1.285617</td>\n",
       "      <td>-0.662430</td>\n",
       "      <td>...</td>\n",
       "      <td>-0.142428</td>\n",
       "      <td>-0.762649</td>\n",
       "      <td>-0.158519</td>\n",
       "      <td>-0.356888</td>\n",
       "      <td>-0.112515</td>\n",
       "      <td>-0.269831</td>\n",
       "      <td>-0.069245</td>\n",
       "      <td>-0.090184</td>\n",
       "      <td>-0.495279</td>\n",
       "      <td>0.875763</td>\n",
       "    </tr>\n",
       "    <tr>\n",
       "      <th>920</th>\n",
       "      <td>0.089627</td>\n",
       "      <td>-0.232421</td>\n",
       "      <td>-0.075029</td>\n",
       "      <td>-0.499405</td>\n",
       "      <td>0.726299</td>\n",
       "      <td>0.446247</td>\n",
       "      <td>0.825170</td>\n",
       "      <td>-0.290606</td>\n",
       "      <td>-1.034516</td>\n",
       "      <td>-0.301403</td>\n",
       "      <td>...</td>\n",
       "      <td>0.002899</td>\n",
       "      <td>1.639605</td>\n",
       "      <td>0.613227</td>\n",
       "      <td>-0.356888</td>\n",
       "      <td>-0.112515</td>\n",
       "      <td>-0.269831</td>\n",
       "      <td>-0.069245</td>\n",
       "      <td>-0.090184</td>\n",
       "      <td>0.244743</td>\n",
       "      <td>-0.604849</td>\n",
       "    </tr>\n",
       "    <tr>\n",
       "      <th>849</th>\n",
       "      <td>0.566703</td>\n",
       "      <td>-0.090154</td>\n",
       "      <td>-0.075029</td>\n",
       "      <td>1.363339</td>\n",
       "      <td>0.122166</td>\n",
       "      <td>0.446247</td>\n",
       "      <td>-0.945430</td>\n",
       "      <td>-0.290606</td>\n",
       "      <td>-0.122622</td>\n",
       "      <td>-1.187359</td>\n",
       "      <td>...</td>\n",
       "      <td>0.195106</td>\n",
       "      <td>0.142200</td>\n",
       "      <td>0.809947</td>\n",
       "      <td>-0.356888</td>\n",
       "      <td>-0.112515</td>\n",
       "      <td>-0.269831</td>\n",
       "      <td>-0.069245</td>\n",
       "      <td>-0.090184</td>\n",
       "      <td>0.614754</td>\n",
       "      <td>-0.604849</td>\n",
       "    </tr>\n",
       "    <tr>\n",
       "      <th>1020</th>\n",
       "      <td>-0.864525</td>\n",
       "      <td>-0.412192</td>\n",
       "      <td>-1.521813</td>\n",
       "      <td>-0.499405</td>\n",
       "      <td>1.095491</td>\n",
       "      <td>0.978411</td>\n",
       "      <td>1.281958</td>\n",
       "      <td>-0.290606</td>\n",
       "      <td>-1.047732</td>\n",
       "      <td>0.150435</td>\n",
       "      <td>...</td>\n",
       "      <td>-0.090860</td>\n",
       "      <td>1.255244</td>\n",
       "      <td>0.265185</td>\n",
       "      <td>-0.356888</td>\n",
       "      <td>-0.112515</td>\n",
       "      <td>-0.269831</td>\n",
       "      <td>-0.069245</td>\n",
       "      <td>-0.090184</td>\n",
       "      <td>-0.125268</td>\n",
       "      <td>0.135457</td>\n",
       "    </tr>\n",
       "    <tr>\n",
       "      <th>236</th>\n",
       "      <td>-0.864525</td>\n",
       "      <td>-0.193541</td>\n",
       "      <td>0.648363</td>\n",
       "      <td>-0.499405</td>\n",
       "      <td>1.061928</td>\n",
       "      <td>0.930033</td>\n",
       "      <td>-0.893226</td>\n",
       "      <td>-0.290606</td>\n",
       "      <td>1.776056</td>\n",
       "      <td>0.775034</td>\n",
       "      <td>...</td>\n",
       "      <td>0.110722</td>\n",
       "      <td>0.294343</td>\n",
       "      <td>0.885608</td>\n",
       "      <td>-0.356888</td>\n",
       "      <td>-0.112515</td>\n",
       "      <td>-0.269831</td>\n",
       "      <td>-0.069245</td>\n",
       "      <td>-0.090184</td>\n",
       "      <td>-0.495279</td>\n",
       "      <td>1.616069</td>\n",
       "    </tr>\n",
       "  </tbody>\n",
       "</table>\n",
       "<p>1022 rows × 33 columns</p>\n",
       "</div>"
      ],
      "text/plain": [
       "      MSSubClass   LotArea  OverallQual  OverallCond  YearBuilt  YearRemodAdd  \\\n",
       "1403   -0.864525  0.616928     1.371755    -0.499405   1.162617      1.075168   \n",
       "1314   -0.864525 -0.266425    -1.521813     0.431967  -0.616218     -1.488895   \n",
       "900    -0.864525 -0.372687    -1.521813     0.431967  -0.045648     -0.666460   \n",
       "654    -0.864525  0.014483     1.371755     0.431967   0.759862      0.494626   \n",
       "650     0.089627 -0.274551     0.648363     0.431967   1.162617      1.075168   \n",
       "...          ...       ...          ...          ...        ...           ...   \n",
       "1334    2.475007 -0.994260    -0.798421     0.431967  -0.079211     -0.714838   \n",
       "920     0.089627 -0.232421    -0.075029    -0.499405   0.726299      0.446247   \n",
       "849     0.566703 -0.090154    -0.075029     1.363339   0.122166      0.446247   \n",
       "1020   -0.864525 -0.412192    -1.521813    -0.499405   1.095491      0.978411   \n",
       "236    -0.864525 -0.193541     0.648363    -0.499405   1.061928      0.930033   \n",
       "\n",
       "      BsmtFinSF1  BsmtFinSF2  BsmtUnfSF  TotalBsmtSF  ...  GarageArea  \\\n",
       "1403    1.075316   -0.290606  -0.060948     0.932291  ...    1.329595   \n",
       "1314    0.646804   -0.290606  -0.809846    -0.257105  ...   -0.892503   \n",
       "900    -0.245021   -0.290606  -0.105001    -0.456445  ...    1.001437   \n",
       "654     2.743682   -0.290606  -0.375926     2.314383  ...    1.728072   \n",
       "650    -0.945430   -0.290606   0.505132    -0.556115  ...    0.429504   \n",
       "...          ...         ...        ...          ...  ...         ...   \n",
       "1334    0.718586   -0.290606  -1.285617    -0.662430  ...   -0.142428   \n",
       "920     0.825170   -0.290606  -1.034516    -0.301403  ...    0.002899   \n",
       "849    -0.945430   -0.290606  -0.122622    -1.187359  ...    0.195106   \n",
       "1020    1.281958   -0.290606  -1.047732     0.150435  ...   -0.090860   \n",
       "236    -0.893226   -0.290606   1.776056     0.775034  ...    0.110722   \n",
       "\n",
       "      WoodDeckSF  OpenPorchSF  EnclosedPorch  3SsnPorch  ScreenPorch  \\\n",
       "1403    0.582613     1.717883      -0.356888  -0.112515    -0.269831   \n",
       "1314   -0.762649    -0.158519      -0.356888  -0.112515    -0.269831   \n",
       "900    -0.762649    -0.703280      -0.356888  -0.112515    -0.269831   \n",
       "654     1.127124    -0.007196      -0.356888  -0.112515    -0.269831   \n",
       "650    -0.762649    -0.703280      -0.356888  -0.112515    -0.269831   \n",
       "...          ...          ...            ...        ...          ...   \n",
       "1334   -0.762649    -0.158519      -0.356888  -0.112515    -0.269831   \n",
       "920     1.639605     0.613227      -0.356888  -0.112515    -0.269831   \n",
       "849     0.142200     0.809947      -0.356888  -0.112515    -0.269831   \n",
       "1020    1.255244     0.265185      -0.356888  -0.112515    -0.269831   \n",
       "236     0.294343     0.885608      -0.356888  -0.112515    -0.269831   \n",
       "\n",
       "      PoolArea   MiscVal    MoSold    YrSold  \n",
       "1403 -0.069245 -0.090184  0.614754 -0.604849  \n",
       "1314 -0.069245 -0.090184  1.354776 -0.604849  \n",
       "900  -0.069245 -0.090184 -0.125268 -0.604849  \n",
       "654  -0.069245 -0.090184  0.614754  0.135457  \n",
       "650  -0.069245 -0.090184 -0.495279  0.135457  \n",
       "...        ...       ...       ...       ...  \n",
       "1334 -0.069245 -0.090184 -0.495279  0.875763  \n",
       "920  -0.069245 -0.090184  0.244743 -0.604849  \n",
       "849  -0.069245 -0.090184  0.614754 -0.604849  \n",
       "1020 -0.069245 -0.090184 -0.125268  0.135457  \n",
       "236  -0.069245 -0.090184 -0.495279  1.616069  \n",
       "\n",
       "[1022 rows x 33 columns]"
      ]
     },
     "execution_count": 43,
     "metadata": {},
     "output_type": "execute_result"
    }
   ],
   "source": [
    "X_train"
   ]
  },
  {
   "cell_type": "code",
   "execution_count": 66,
   "metadata": {},
   "outputs": [
    {
     "data": {
      "text/html": [
       "<style>#sk-container-id-15 {color: black;}#sk-container-id-15 pre{padding: 0;}#sk-container-id-15 div.sk-toggleable {background-color: white;}#sk-container-id-15 label.sk-toggleable__label {cursor: pointer;display: block;width: 100%;margin-bottom: 0;padding: 0.3em;box-sizing: border-box;text-align: center;}#sk-container-id-15 label.sk-toggleable__label-arrow:before {content: \"▸\";float: left;margin-right: 0.25em;color: #696969;}#sk-container-id-15 label.sk-toggleable__label-arrow:hover:before {color: black;}#sk-container-id-15 div.sk-estimator:hover label.sk-toggleable__label-arrow:before {color: black;}#sk-container-id-15 div.sk-toggleable__content {max-height: 0;max-width: 0;overflow: hidden;text-align: left;background-color: #f0f8ff;}#sk-container-id-15 div.sk-toggleable__content pre {margin: 0.2em;color: black;border-radius: 0.25em;background-color: #f0f8ff;}#sk-container-id-15 input.sk-toggleable__control:checked~div.sk-toggleable__content {max-height: 200px;max-width: 100%;overflow: auto;}#sk-container-id-15 input.sk-toggleable__control:checked~label.sk-toggleable__label-arrow:before {content: \"▾\";}#sk-container-id-15 div.sk-estimator input.sk-toggleable__control:checked~label.sk-toggleable__label {background-color: #d4ebff;}#sk-container-id-15 div.sk-label input.sk-toggleable__control:checked~label.sk-toggleable__label {background-color: #d4ebff;}#sk-container-id-15 input.sk-hidden--visually {border: 0;clip: rect(1px 1px 1px 1px);clip: rect(1px, 1px, 1px, 1px);height: 1px;margin: -1px;overflow: hidden;padding: 0;position: absolute;width: 1px;}#sk-container-id-15 div.sk-estimator {font-family: monospace;background-color: #f0f8ff;border: 1px dotted black;border-radius: 0.25em;box-sizing: border-box;margin-bottom: 0.5em;}#sk-container-id-15 div.sk-estimator:hover {background-color: #d4ebff;}#sk-container-id-15 div.sk-parallel-item::after {content: \"\";width: 100%;border-bottom: 1px solid gray;flex-grow: 1;}#sk-container-id-15 div.sk-label:hover label.sk-toggleable__label {background-color: #d4ebff;}#sk-container-id-15 div.sk-serial::before {content: \"\";position: absolute;border-left: 1px solid gray;box-sizing: border-box;top: 0;bottom: 0;left: 50%;z-index: 0;}#sk-container-id-15 div.sk-serial {display: flex;flex-direction: column;align-items: center;background-color: white;padding-right: 0.2em;padding-left: 0.2em;position: relative;}#sk-container-id-15 div.sk-item {position: relative;z-index: 1;}#sk-container-id-15 div.sk-parallel {display: flex;align-items: stretch;justify-content: center;background-color: white;position: relative;}#sk-container-id-15 div.sk-item::before, #sk-container-id-15 div.sk-parallel-item::before {content: \"\";position: absolute;border-left: 1px solid gray;box-sizing: border-box;top: 0;bottom: 0;left: 50%;z-index: -1;}#sk-container-id-15 div.sk-parallel-item {display: flex;flex-direction: column;z-index: 1;position: relative;background-color: white;}#sk-container-id-15 div.sk-parallel-item:first-child::after {align-self: flex-end;width: 50%;}#sk-container-id-15 div.sk-parallel-item:last-child::after {align-self: flex-start;width: 50%;}#sk-container-id-15 div.sk-parallel-item:only-child::after {width: 0;}#sk-container-id-15 div.sk-dashed-wrapped {border: 1px dashed gray;margin: 0 0.4em 0.5em 0.4em;box-sizing: border-box;padding-bottom: 0.4em;background-color: white;}#sk-container-id-15 div.sk-label label {font-family: monospace;font-weight: bold;display: inline-block;line-height: 1.2em;}#sk-container-id-15 div.sk-label-container {text-align: center;}#sk-container-id-15 div.sk-container {/* jupyter's `normalize.less` sets `[hidden] { display: none; }` but bootstrap.min.css set `[hidden] { display: none !important; }` so we also need the `!important` here to be able to override the default hidden behavior on the sphinx rendered scikit-learn.org. See: https://github.com/scikit-learn/scikit-learn/issues/21755 */display: inline-block !important;position: relative;}#sk-container-id-15 div.sk-text-repr-fallback {display: none;}</style><div id=\"sk-container-id-15\" class=\"sk-top-container\"><div class=\"sk-text-repr-fallback\"><pre>KNeighborsRegressor(n_neighbors=1)</pre><b>In a Jupyter environment, please rerun this cell to show the HTML representation or trust the notebook. <br />On GitHub, the HTML representation is unable to render, please try loading this page with nbviewer.org.</b></div><div class=\"sk-container\" hidden><div class=\"sk-item\"><div class=\"sk-estimator sk-toggleable\"><input class=\"sk-toggleable__control sk-hidden--visually\" id=\"sk-estimator-id-15\" type=\"checkbox\" checked><label for=\"sk-estimator-id-15\" class=\"sk-toggleable__label sk-toggleable__label-arrow\">KNeighborsRegressor</label><div class=\"sk-toggleable__content\"><pre>KNeighborsRegressor(n_neighbors=1)</pre></div></div></div></div></div>"
      ],
      "text/plain": [
       "KNeighborsRegressor(n_neighbors=1)"
      ]
     },
     "execution_count": 66,
     "metadata": {},
     "output_type": "execute_result"
    }
   ],
   "source": [
    "knn_esc = KNeighborsRegressor(1) # creo el obj/cajita\n",
    "# k es un hiperparametro\n",
    "knn_esc.fit(X_train, y_train) # entreno con el fit"
   ]
  },
  {
   "cell_type": "code",
   "execution_count": 67,
   "metadata": {},
   "outputs": [
    {
     "name": "stdout",
     "output_type": "stream",
     "text": [
      "R2 test:  0.4812809265165068\n"
     ]
    }
   ],
   "source": [
    "yhat = knn_esc.predict(X_test)\n",
    "print(\"R2 test: \", r2_score(y_test, yhat))"
   ]
  },
  {
   "cell_type": "code",
   "execution_count": 68,
   "metadata": {},
   "outputs": [
    {
     "name": "stdout",
     "output_type": "stream",
     "text": [
      "R2 train:  1.0\n"
     ]
    }
   ],
   "source": [
    "yhat_train = knn_esc.predict(X_train)\n",
    "print(\"R2 train: \", r2_score(y_train, yhat_train))"
   ]
  },
  {
   "cell_type": "markdown",
   "metadata": {},
   "source": [
    "##### Ejercicio: Cuando entrenamos un modelo con test y train, el test sirve para tener una mejor métrica \"objetiva\" del modelo. Repite el modelo con $N$ diferentes train test set para tener más metricas. Después piensa la mejor forma de utilizar esas metricas"
   ]
  },
  {
   "cell_type": "code",
   "execution_count": 83,
   "metadata": {},
   "outputs": [
    {
     "data": {
      "text/plain": [
       "[0.8076771369162785,\n",
       " 0.7619408500109298,\n",
       " 0.7734147171720662,\n",
       " 0.7642061999580064,\n",
       " 0.697001306696262,\n",
       " 0.7440023767735241,\n",
       " 0.7733900285476338,\n",
       " 0.7372466295258686,\n",
       " 0.7903685925945378,\n",
       " 0.763707858387154]"
      ]
     },
     "execution_count": 83,
     "metadata": {},
     "output_type": "execute_result"
    }
   ],
   "source": [
    "k=10\n",
    "L=[]\n",
    "for i in range(10):\n",
    "    # division de train test\n",
    "    X_train, X_test, y_train, y_test = train_test_split(X, y, test_size=0.3)\n",
    "    # escalado\n",
    "    scaler = StandardScaler()\n",
    "    scaler.fit(X_train) # los ajusto siempre al train\n",
    "    X_train[:] = scaler.transform(X_train)\n",
    "    X_test[:] = scaler.transform(X_test)\n",
    "    # modelo\n",
    "    modelo = KNeighborsRegressor(k)\n",
    "    modelo.fit(X_train, y_train)\n",
    "    yhat = modelo.predict(X_test)\n",
    "    L.append(r2_score(y_test, yhat))\n",
    "L"
   ]
  },
  {
   "cell_type": "code",
   "execution_count": 84,
   "metadata": {},
   "outputs": [
    {
     "data": {
      "text/plain": [
       "0.7612955696582262"
      ]
     },
     "execution_count": 84,
     "metadata": {},
     "output_type": "execute_result"
    }
   ],
   "source": [
    "np.mean(L)"
   ]
  },
  {
   "cell_type": "code",
   "execution_count": 85,
   "metadata": {},
   "outputs": [
    {
     "data": {
      "text/plain": [
       "0.0008315505700105044"
      ]
     },
     "execution_count": 85,
     "metadata": {},
     "output_type": "execute_result"
    }
   ],
   "source": [
    "np.var(L) # nos indica si varia mucho de un modelo a otro\n",
    "# 0.003"
   ]
  },
  {
   "cell_type": "markdown",
   "metadata": {},
   "source": [
    "#### Haz la función calcula_knn que divida el dataset en train y test y haga un modelo knn de k vecinos"
   ]
  },
  {
   "cell_type": "code",
   "execution_count": 86,
   "metadata": {
    "scrolled": true
   },
   "outputs": [],
   "source": [
    "def calcula_knn(X, y, k):\n",
    "    X_train, X_test, y_train, y_test = train_test_split(X, y, test_size=0.3)\n",
    "    # escalado\n",
    "    scaler = StandardScaler()\n",
    "    scaler.fit(X_train) # los ajusto siempre al train\n",
    "    X_train[:] = scaler.transform(X_train)\n",
    "    X_test[:] = scaler.transform(X_test)\n",
    "    # modelo\n",
    "    modelo = KNeighborsRegressor(k)\n",
    "    modelo.fit(X_train, y_train)\n",
    "    yhat = modelo.predict(X_test)\n",
    "    return r2_score(y_test, yhat)"
   ]
  },
  {
   "cell_type": "code",
   "execution_count": 88,
   "metadata": {},
   "outputs": [
    {
     "data": {
      "text/plain": [
       "[0.7555912477064897,\n",
       " 0.7731206862553097,\n",
       " 0.6745378746242765,\n",
       " 0.7301118109629916,\n",
       " 0.7982286675833751,\n",
       " 0.7746925434914556,\n",
       " 0.7275306172063938,\n",
       " 0.7303518059280623,\n",
       " 0.7765197490226261,\n",
       " 0.7916101066716654]"
      ]
     },
     "execution_count": 88,
     "metadata": {},
     "output_type": "execute_result"
    }
   ],
   "source": [
    "L=[]\n",
    "for i in range(10):\n",
    "    L.append(calcula_knn(X,y,3))\n",
    "L"
   ]
  },
  {
   "cell_type": "code",
   "execution_count": 102,
   "metadata": {},
   "outputs": [],
   "source": [
    "def repite_N_modelos(X, y, k, N):\n",
    "    L=[]\n",
    "    for i in range(N):\n",
    "        L.append(calcula_knn(X,y,k))\n",
    "    return L"
   ]
  },
  {
   "cell_type": "code",
   "execution_count": 103,
   "metadata": {},
   "outputs": [
    {
     "data": {
      "text/plain": [
       "[0.7850832536339016,\n",
       " 0.7567779463064712,\n",
       " 0.7366584450867848,\n",
       " 0.8035278094103573,\n",
       " 0.7630788668642833,\n",
       " 0.7927289317298436,\n",
       " 0.7336541617031926,\n",
       " 0.7834232077982684,\n",
       " 0.7468990556007986,\n",
       " 0.7167923944618515]"
      ]
     },
     "execution_count": 103,
     "metadata": {},
     "output_type": "execute_result"
    }
   ],
   "source": [
    "repite_N_modelos(X,y,13,10)"
   ]
  },
  {
   "cell_type": "markdown",
   "metadata": {},
   "source": [
    "# Para varias Ks (Busqueda de hiperparametros)"
   ]
  },
  {
   "cell_type": "markdown",
   "metadata": {},
   "source": [
    "##### Ejercicio: Busca la mejor k"
   ]
  },
  {
   "cell_type": "code",
   "execution_count": 106,
   "metadata": {},
   "outputs": [
    {
     "name": "stdout",
     "output_type": "stream",
     "text": [
      "1 vecinos media r2_score = 0.6195209741373803 ---- varianza = 0.004239462244830778\n",
      "2 vecinos media r2_score = 0.7065863851862293 ---- varianza = 0.0014371270630108538\n",
      "3 vecinos media r2_score = 0.7291019212656271 ---- varianza = 0.0016911425281875875\n",
      "4 vecinos media r2_score = 0.7496012871803306 ---- varianza = 0.0003858599744268942\n",
      "5 vecinos media r2_score = 0.7390605563068404 ---- varianza = 0.0034471606822112817\n",
      "6 vecinos media r2_score = 0.7681589034370797 ---- varianza = 0.0012589657189291765\n",
      "7 vecinos media r2_score = 0.7626577255873599 ---- varianza = 0.00043734788893849783\n",
      "8 vecinos media r2_score = 0.7726845382893527 ---- varianza = 0.00040256543623815456\n",
      "9 vecinos media r2_score = 0.742703450979381 ---- varianza = 0.0015873515106208306\n",
      "10 vecinos media r2_score = 0.7655408081164048 ---- varianza = 0.001123866664408699\n",
      "11 vecinos media r2_score = 0.7634902903052376 ---- varianza = 0.0011767337271068753\n",
      "12 vecinos media r2_score = 0.7642086081286983 ---- varianza = 0.0008917994014293846\n",
      "13 vecinos media r2_score = 0.7498057308506725 ---- varianza = 0.0006350503682996565\n",
      "14 vecinos media r2_score = 0.7648949353758544 ---- varianza = 0.0006587773305847011\n",
      "15 vecinos media r2_score = 0.7801897366994359 ---- varianza = 0.00040268859879812426\n",
      "16 vecinos media r2_score = 0.7558401092419145 ---- varianza = 0.000980480673866003\n",
      "17 vecinos media r2_score = 0.7568989852882247 ---- varianza = 0.00024429946159942233\n",
      "18 vecinos media r2_score = 0.7688384896978152 ---- varianza = 0.0006978536405555234\n",
      "19 vecinos media r2_score = 0.7736697353985165 ---- varianza = 0.0006573683237448381\n",
      "20 vecinos media r2_score = 0.7796367394392621 ---- varianza = 0.0010810677886436912\n",
      "21 vecinos media r2_score = 0.7680189981117104 ---- varianza = 0.0009013263860987471\n",
      "22 vecinos media r2_score = 0.7459285606409599 ---- varianza = 0.00048329679897219735\n",
      "23 vecinos media r2_score = 0.7573748048071675 ---- varianza = 0.0002574999866138323\n",
      "24 vecinos media r2_score = 0.7668296249553471 ---- varianza = 0.0005637529556102459\n",
      "25 vecinos media r2_score = 0.7712546228454646 ---- varianza = 0.0004231709413592564\n",
      "26 vecinos media r2_score = 0.758427217800074 ---- varianza = 0.0009749404144899383\n",
      "27 vecinos media r2_score = 0.7462219398512436 ---- varianza = 0.00026181287301100875\n",
      "28 vecinos media r2_score = 0.7566467729052162 ---- varianza = 0.0010769600785750734\n",
      "29 vecinos media r2_score = 0.7623949033040942 ---- varianza = 0.0003710328313194126\n"
     ]
    }
   ],
   "source": [
    "medias=[]\n",
    "varianzas=[]\n",
    "for k in range(1,30):\n",
    "    L = repite_N_modelos(X,y,k,10)\n",
    "    media = np.mean(L)\n",
    "    varianza = np.var(L)\n",
    "    # pongo los resultados en las listas\n",
    "    medias.append(media)\n",
    "    varianzas.append(varianza)\n",
    "    print(k, 'vecinos media r2_score =', media, \"---- varianza =\", varianza)"
   ]
  },
  {
   "cell_type": "code",
   "execution_count": 107,
   "metadata": {},
   "outputs": [
    {
     "data": {
      "image/png": "[encoded data removed]",
      "text/plain": [
       "<Figure size 640x480 with 1 Axes>"
      ]
     },
     "metadata": {},
     "output_type": "display_data"
    }
   ],
   "source": [
    "plt.plot(np.arange(1,30),medias, 'o')\n",
    "plt.show()"
   ]
  },
  {
   "cell_type": "code",
   "execution_count": 108,
   "metadata": {},
   "outputs": [
    {
     "data": {
      "image/png": "[encoded data removed]",
      "text/plain": [
       "<Figure size 640x480 with 1 Axes>"
      ]
     },
     "metadata": {},
     "output_type": "display_data"
    }
   ],
   "source": [
    "plt.plot(np.arange(1,30),varianzas, 'o')\n",
    "plt.show()"
   ]
  }
 ],
 "metadata": {
  "kernelspec": {
   "display_name": "Python 3 (ipykernel)",
   "language": "python",
   "name": "python3"
  },
  "language_info": {
   "codemirror_mode": {
    "name": "ipython",
    "version": 3
   },
   "file_extension": ".py",
   "mimetype": "text/x-python",
   "name": "python",
   "nbconvert_exporter": "python",
   "pygments_lexer": "ipython3",
   "version": "3.10.13"
  }
 },
 "nbformat": 4,
 "nbformat_minor": 4
}
