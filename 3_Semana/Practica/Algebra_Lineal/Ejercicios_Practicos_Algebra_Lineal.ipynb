{
 "cells": [
  {
   "cell_type": "code",
   "execution_count": 21,
   "metadata": {},
   "outputs": [],
   "source": [
    "import numpy as np\n",
    "A = np.array([[-1,2,3],[0,3,-1],[2,-2,5]])\n",
    "B = np.array([[0,4,-2],[2,-1,3],[3,2,-4]])\n",
    "C = np.array([[-2,3,-1],[0,-1,2],[1,0,0]])"
   ]
  },
  {
   "cell_type": "code",
   "execution_count": 24,
   "metadata": {},
   "outputs": [
    {
     "name": "stdout",
     "output_type": "stream",
     "text": [
      "a)\n",
      " [[ 12 -13  25]\n",
      " [-10  24 -23]\n",
      " [  8 -30  78]]\n",
      "b)\n",
      " [[-20  -9  37]\n",
      " [-14  34 -49]\n",
      " [-16 -76 150]]\n",
      "c)\n",
      " [[  93    3 -135]\n",
      " [ -79 -188  326]\n",
      " [ 298  312 -796]]\n",
      "d)\n",
      " [[ 14 -27  37]\n",
      " [ -8  20 -28]\n",
      " [ 10 -17  41]]\n"
     ]
    }
   ],
   "source": [
    "# (a) 2𝑨2 −3𝑩+𝑪 \n",
    "\n",
    "print(\"a)\\n\",2*(A@A)-3*B+C)\n",
    "\n",
    "# (b) 2𝑨2 −3𝑨𝑩+𝑨𝑪 \n",
    "\n",
    "print(\"b)\\n\",2*(A@A)-3*(A@B)+(A@C))\n",
    "\n",
    "# (c) 2𝑨2𝑩−3𝑨𝑩2 +𝑨𝑪𝑩 \n",
    "\n",
    "print(\"c)\\n\",2*(A@A)@B-3*(A@(B@B))+(A@C@B))\n",
    "\n",
    "# (d) 𝑨2 +𝑨𝑪−𝑩𝑨−𝑩𝑪\n",
    "\n",
    "print(\"d)\\n\",(A@A)+(A@C)-(B@A)+(B@C))"
   ]
  },
  {
   "cell_type": "code",
   "execution_count": 13,
   "metadata": {},
   "outputs": [],
   "source": [
    "A = np.array([[2,-3,4],[0,0,1],[-1,2,3]])\n",
    "B = np.array([[-1,0,5],[2,3,4],[-2,0,1]])"
   ]
  },
  {
   "cell_type": "code",
   "execution_count": 28,
   "metadata": {},
   "outputs": [
    {
     "name": "stdout",
     "output_type": "stream",
     "text": [
      "a)\n",
      " [ 2 -3  0]\n",
      "b)\n",
      " [4 3 1]\n",
      "c)\n",
      " [ 4 -6  0]\n",
      "d)\n",
      " [ 4 -6  0]\n",
      "e)\n",
      " [6 0 1]\n",
      "f)\n",
      " [6 0 1]\n"
     ]
    }
   ],
   "source": [
    "# (a)  𝑨𝑡 \n",
    "print(\"a)\\n\", A.T )\n",
    "\n",
    "# (b)  𝑩𝑡 \n",
    "print(\"b)\\n\", B.T )\n",
    "\n",
    "# (c)  𝟐𝑨𝑡 \n",
    "print(\"c)\\n\", 2*A.T )\n",
    "\n",
    "# (d)  (𝟐𝑨)𝑡 \n",
    "print(\"d)\\n\", (2*A).T )\n",
    "\n",
    "# (e)  𝑨𝑡 + 𝑩𝑡 \n",
    "print(\"e)\\n\", A.T + B.T )\n",
    "\n",
    "# (f) (𝑨+𝑩)𝑡\n",
    "print(\"f)\\n\", (A + B).T )\n"
   ]
  },
  {
   "cell_type": "code",
   "execution_count": 25,
   "metadata": {},
   "outputs": [],
   "source": [
    "A = np.array([-1,0,2])"
   ]
  },
  {
   "cell_type": "code",
   "execution_count": 26,
   "metadata": {},
   "outputs": [
    {
     "name": "stdout",
     "output_type": "stream",
     "text": [
      "a)\n",
      " 5\n",
      "b)\n",
      " 5\n"
     ]
    }
   ],
   "source": [
    "# (a)  𝑨 ∙𝑨𝑡 \n",
    "print(\"a)\\n\", A @ A.T )\n",
    "\n",
    "# (b)  𝑨𝑡 ∙𝑨\n",
    "print(\"b)\\n\", A.T @ A )"
   ]
  },
  {
   "cell_type": "code",
   "execution_count": 38,
   "metadata": {},
   "outputs": [],
   "source": [
    "A = np.array([[2],[-3],[0]])\n",
    "B = np.array([[4],[3],[1]])"
   ]
  },
  {
   "cell_type": "code",
   "execution_count": 39,
   "metadata": {},
   "outputs": [
    {
     "name": "stdout",
     "output_type": "stream",
     "text": [
      "a)\n",
      " [[  8   6   2]\n",
      " [-12  -9  -3]\n",
      " [  0   0   0]]\n",
      "b)\n",
      " [[  8 -12   0]\n",
      " [  6  -9   0]\n",
      " [  2  -3   0]]\n",
      "c)\n",
      " [[-1]]\n",
      "d)\n",
      " [[ 4 -6  0]\n",
      " [-6  9  0]\n",
      " [ 0  0  0]]\n",
      "e)\n",
      " [[13]]\n"
     ]
    },
    {
     "ename": "ValueError",
     "evalue": "matmul: Input operand 1 has a mismatch in its core dimension 0, with gufunc signature (n?,k),(k,m?)->(n?,m?) (size 3 is different from 1)",
     "output_type": "error",
     "traceback": [
      "\u001b[1;31m---------------------------------------------------------------------------\u001b[0m",
      "\u001b[1;31mValueError\u001b[0m                                Traceback (most recent call last)",
      "Cell \u001b[1;32mIn[39], line 17\u001b[0m\n\u001b[0;32m     14\u001b[0m \u001b[38;5;28mprint\u001b[39m(\u001b[38;5;124m\"\u001b[39m\u001b[38;5;124me)\u001b[39m\u001b[38;5;130;01m\\n\u001b[39;00m\u001b[38;5;124m\"\u001b[39m, A\u001b[38;5;241m.\u001b[39mT \u001b[38;5;241m@\u001b[39m A)\n\u001b[0;32m     16\u001b[0m \u001b[38;5;66;03m# (f) (𝑨𝑡 ∙𝑩)𝑨\u001b[39;00m\n\u001b[1;32m---> 17\u001b[0m \u001b[38;5;28mprint\u001b[39m(\u001b[38;5;124m\"\u001b[39m\u001b[38;5;124mf)\u001b[39m\u001b[38;5;130;01m\\n\u001b[39;00m\u001b[38;5;124m\"\u001b[39m, (A\u001b[38;5;241m.\u001b[39mT \u001b[38;5;241m@\u001b[39m B) \u001b[38;5;241m@\u001b[39m A)\n",
      "\u001b[1;31mValueError\u001b[0m: matmul: Input operand 1 has a mismatch in its core dimension 0, with gufunc signature (n?,k),(k,m?)->(n?,m?) (size 3 is different from 1)"
     ]
    }
   ],
   "source": [
    "# (a)  𝑨 ∙𝑩𝑡  \n",
    "print(\"a)\\n\", A @ B.T )\n",
    "\n",
    "# (b)  𝑩 ∙𝑨𝑡 \n",
    "print(\"b)\\n\", B @ A.T )\n",
    "\n",
    "# (c)  𝑩𝑡 ∙𝑨 \n",
    "print(\"c)\\n\", B.T @ A )\n",
    "\n",
    "# (d)  𝑨 ∙𝑨𝑡 \n",
    "print(\"d)\\n\", A @ A.T )\n",
    "\n",
    "# (e)  𝑨𝑡 ∙𝑨 \n",
    "print(\"e)\\n\", A.T @ A)\n",
    "\n",
    "# (f) (𝑨𝑡 ∙𝑩)𝑨\n",
    "print(\"f)\\n\", (A.T @ B) @ A)\n",
    "# habria que trasponer en algun punto otra vez"
   ]
  },
  {
   "cell_type": "code",
   "execution_count": 40,
   "metadata": {},
   "outputs": [],
   "source": [
    "A = np.array([[1,2],[1,2]])\n",
    "B = np.array([[3,5],[3,5]])\n",
    "C = np.array([[3,5],[3,5]])"
   ]
  },
  {
   "cell_type": "code",
   "execution_count": 46,
   "metadata": {},
   "outputs": [
    {
     "name": "stdout",
     "output_type": "stream",
     "text": [
      "[[ True  True]\n",
      " [ True  True]]\n",
      "[[ True  True]\n",
      " [ True  True]]\n"
     ]
    }
   ],
   "source": [
    "print(A@B == A@C)\n",
    "print((A@B)@ np.linalg.inv(A) == (A@C)@ np.linalg.inv(A))"
   ]
  },
  {
   "cell_type": "code",
   "execution_count": 57,
   "metadata": {},
   "outputs": [
    {
     "name": "stdout",
     "output_type": "stream",
     "text": [
      "[[ 0.6  0.2]\n",
      " [-0.4  0.2]]\n",
      "[[ 1.  2.  4.]\n",
      " [-0. -1. -1.]\n",
      " [-0. -1. -2.]]\n",
      "[[ 1.         -1.         -1.          0.66666667]\n",
      " [ 0.          1.          0.5        -0.83333333]\n",
      " [ 0.          0.          0.5        -0.16666667]\n",
      " [ 0.          0.          0.          0.33333333]]\n"
     ]
    }
   ],
   "source": [
    "A = np.array([[1,-1],[2,3]])\n",
    "\n",
    "A1=np.linalg.inv(A)\n",
    "print(A1)\n",
    "\n",
    "A = np.array([[1,0,2],[0,-2,1],[0,1,-1]])\n",
    "\n",
    "A1=np.linalg.inv(A)\n",
    "print(A1)\n",
    "\n",
    "A = np.array([[1,1,1,1],[0,1,-1,2],[0,0,2,1],[0,0,0,3]])\n",
    "\n",
    "A1=np.linalg.inv(A)\n",
    "print(A1)\n",
    "\n",
    "\n"
   ]
  },
  {
   "cell_type": "code",
   "execution_count": 73,
   "metadata": {},
   "outputs": [
    {
     "name": "stdout",
     "output_type": "stream",
     "text": [
      "True\n",
      "False\n",
      "True\n",
      "True\n",
      "True\n"
     ]
    }
   ],
   "source": [
    "A = np.array([[1,2,-1],[-2,1,0],[4,2,-3]])\n",
    "print(round(np.linalg.det(A),1) == -7)\n",
    "\n",
    "A = np.array([[0,-1,2],[2,-3,4],[1,2,5]])\n",
    "print(round(np.linalg.det(A),1) == 0)\n",
    "\n",
    "A = np.array([[2,5,3],[4,10,6],[6,4,7]])\n",
    "print(round(np.linalg.det(A),1) == 0)\n",
    "\n",
    "A = np.array([[1,0,0,-1],[2,3,4 ,7],[-3,4,5,9],[-4,-5,6,1]])\n",
    "print(round(np.linalg.det(A),1) == 216)\n",
    "\n",
    "A = np.array([[3,-1,5,2],[2,0,7 ,0],[-3,1,2,0],[5,-4,1,2]])\n",
    "print(round(np.linalg.det(A),1) == -106)"
   ]
  },
  {
   "cell_type": "code",
   "execution_count": 79,
   "metadata": {},
   "outputs": [
    {
     "name": "stdout",
     "output_type": "stream",
     "text": [
      "375\n",
      "0.5\n",
      "1.5\n",
      "4.0\n"
     ]
    }
   ],
   "source": [
    "#  Sean A, B y C matrices cuadradas de orden 3, tales que |𝐴| = 3, |𝐵| = 2, |𝐶| = 0 \n",
    "# a) |5𝐴| b) |1/2 𝐵| c) |𝐴𝑡𝐵−1| d) |𝐴𝐵𝐴−1𝐵| \n",
    "print((5**3)*3)     #se eleva el 5 por el det y el resul por el det otra vez\n",
    "print((0.5**2)*2)   #igual que el anterior\n",
    "print(3*1/2)        #det de tras igual al normal y la inv 1 entre det\n",
    "print(3*2*1/3*2)    #igual que el anterior"
   ]
  },
  {
   "cell_type": "code",
   "execution_count": 81,
   "metadata": {},
   "outputs": [
    {
     "data": {
      "text/plain": [
       "3"
      ]
     },
     "execution_count": 81,
     "metadata": {},
     "output_type": "execute_result"
    }
   ],
   "source": [
    "A = np.array([[2,2,3],[2,1,3],[1,1,2]])\n",
    "np.linalg.matrix_rank(A)\n",
    "\n",
    "E = np.array([[1,1,1,1,2],[1,2,1,2,1],[0,1,0,1,0],[1,0,1,0,2]])\n",
    "np.linalg.matrix_rank(E)"
   ]
  },
  {
   "cell_type": "code",
   "execution_count": 82,
   "metadata": {},
   "outputs": [
    {
     "name": "stdout",
     "output_type": "stream",
     "text": [
      "¿A es diagonalizable? True\n",
      "¿B es diagonalizable? True\n"
     ]
    }
   ],
   "source": [
    "A = np.array([[1, -1],\n",
    "              [0, 1]])\n",
    "\n",
    "B = np.array([[1, -1],\n",
    "              [-1, 1]])\n",
    "\n",
    "# Encontrar los autovalores y autovectores de A\n",
    "autovalores_A, autovectores_A = np.linalg.eig(A)\n",
    "\n",
    "# Encontrar los autovalores y autovectores de B\n",
    "autovalores_B, autovectores_B = np.linalg.eig(B)\n",
    "\n",
    "# Verificar si A es diagonalizable\n",
    "diagonalizable_A = np.all(np.linalg.eigvals(A) == autovalores_A)\n",
    "print(\"¿A es diagonalizable?\", diagonalizable_A)\n",
    "\n",
    "# Verificar si B es diagonalizable\n",
    "diagonalizable_B = np.all(np.linalg.eigvals(B) == autovalores_B)\n",
    "print(\"¿B es diagonalizable?\", diagonalizable_B)"
   ]
  }
 ],
 "metadata": {
  "kernelspec": {
   "display_name": "base",
   "language": "python",
   "name": "python3"
  },
  "language_info": {
   "codemirror_mode": {
    "name": "ipython",
    "version": 3
   },
   "file_extension": ".py",
   "mimetype": "text/x-python",
   "name": "python",
   "nbconvert_exporter": "python",
   "pygments_lexer": "ipython3",
   "version": "3.11.7"
  }
 },
 "nbformat": 4,
 "nbformat_minor": 2
}
