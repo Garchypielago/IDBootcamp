{
 "cells": [
  {
   "cell_type": "markdown",
   "id": "8b857153",
   "metadata": {},
   "source": [
    "# Knapsack problem"
   ]
  },
  {
   "cell_type": "markdown",
   "id": "a2f8ddc9",
   "metadata": {},
   "source": [
    "<div>\n",
    "<img src=\"attachment:image-2.png\" width=\"250\"/>\n",
    "</div>"
   ]
  },
  {
   "cell_type": "markdown",
   "id": "8aa395fa",
   "metadata": {},
   "source": [
    "https://es.wikipedia.org/wiki/Problema_de_la_mochila"
   ]
  },
  {
   "cell_type": "markdown",
   "id": "fedf7a93",
   "metadata": {},
   "source": [
    "# Algoritmo genético (Algoritmos heurísticos)"
   ]
  },
  {
   "cell_type": "markdown",
   "id": "3e917685",
   "metadata": {},
   "source": [
    "<div>\n",
    "<img src=\"attachment:image.png\" width=\"500\"/>\n",
    "</div>"
   ]
  },
  {
   "cell_type": "code",
   "execution_count": 1,
   "id": "349ac741",
   "metadata": {},
   "outputs": [],
   "source": [
    "import random\n",
    "import matplotlib.pyplot as plt\n",
    "import numpy as np"
   ]
  },
  {
   "cell_type": "markdown",
   "id": "7adab2be",
   "metadata": {},
   "source": [
    "### 1. Haz una clase Item que sólo tenga atributos de instancia:\n",
    "* Item = nombre de la clase\n",
    "* id = Serà el id del objeto\n",
    "* weight = el peso del objeto\n",
    "* value = el valor del objeto\n",
    "\n",
    "Esta clase simboliza un objeto con sus atributos."
   ]
  },
  {
   "cell_type": "code",
   "execution_count": 21,
   "id": "e9419f00",
   "metadata": {},
   "outputs": [],
   "source": [
    "class item():\n",
    "    __ID = 0\n",
    "\n",
    "    def __init__(self, weight, value):\n",
    "        self.__id = self.__new_item()\n",
    "        self.__weight = weight\n",
    "        self.__value = value\n",
    "\n",
    "    @classmethod\n",
    "    def __new_item(cls):\n",
    "        cls.__ID += 1\n",
    "        return cls.__ID\n",
    "    \n",
    "    @classmethod\n",
    "    def reiniciar_id(cls):\n",
    "        cls.__ID = 0\n",
    "    \n",
    "    def get_id(self):\n",
    "        return self.__id\n",
    "    \n",
    "    def get_weight(self):\n",
    "        return self.__weight\n",
    "\n",
    "    def get_value(self):\n",
    "        return self.__value\n",
    "    \n",
    "    def set_weight(self, weight):\n",
    "        self.__weight = weight\n",
    "\n",
    "    def set_value(self, value):\n",
    "        self.__value = value\n",
    "    \n",
    "    def __str__(self):\n",
    "        return (f\"Id: {self.get_id()}, Peso: {self.get_weight()}, Value: {self.get_value()}\")"
   ]
  },
  {
   "cell_type": "markdown",
   "id": "89e02f6a",
   "metadata": {},
   "source": [
    "### 2. Declara un numero de productos (20) y haz 3 listas ( o numpy arrays):\n",
    "* n = 20\n",
    "* ids = con ids de 0 a $n$\n",
    "* weights = con $n$ numeros aleatorios entre a y b (4,9)\n",
    "* values = con $n$ numeros aleatorios entre c y d (10,30)"
   ]
  },
  {
   "cell_type": "code",
   "execution_count": 24,
   "id": "57932d4a",
   "metadata": {},
   "outputs": [],
   "source": [
    "def lista_item(n, a,b , c,d):\n",
    "    Lista_item = []\n",
    "\n",
    "    def peso_random():\n",
    "        return np.random.randint(a,b+1)\n",
    "    \n",
    "    def valor_random():\n",
    "        return np.random.randint(c,d+1)\n",
    "\n",
    "    for i in range(n):\n",
    "        Lista_item.append(item(peso_random(), valor_random()))\n",
    "\n",
    "    item.reiniciar_id()\n",
    "\n",
    "    return Lista_item"
   ]
  },
  {
   "cell_type": "code",
   "execution_count": 26,
   "id": "e376b2fc",
   "metadata": {},
   "outputs": [
    {
     "name": "stdout",
     "output_type": "stream",
     "text": [
      "Id: 1, Peso: 6, Value: 17\n",
      "Id: 2, Peso: 8, Value: 14\n",
      "Id: 3, Peso: 7, Value: 23\n",
      "Id: 4, Peso: 5, Value: 23\n",
      "Id: 5, Peso: 9, Value: 25\n",
      "Id: 6, Peso: 6, Value: 11\n",
      "Id: 7, Peso: 6, Value: 28\n",
      "Id: 8, Peso: 5, Value: 19\n",
      "Id: 9, Peso: 9, Value: 15\n",
      "Id: 10, Peso: 7, Value: 22\n",
      "Id: 11, Peso: 9, Value: 17\n",
      "Id: 12, Peso: 8, Value: 14\n",
      "Id: 13, Peso: 7, Value: 18\n",
      "Id: 14, Peso: 8, Value: 29\n",
      "Id: 15, Peso: 6, Value: 25\n",
      "Id: 16, Peso: 4, Value: 11\n",
      "Id: 17, Peso: 4, Value: 20\n",
      "Id: 18, Peso: 8, Value: 21\n",
      "Id: 19, Peso: 6, Value: 24\n",
      "Id: 20, Peso: 5, Value: 27\n"
     ]
    }
   ],
   "source": [
    "def imprimir_lista_items(lista_items):\n",
    "    for item in lista_items:\n",
    "        print(item)\n",
    "\n",
    "item_list = lista_item(20, 4,9, 10,30)\n",
    "imprimir_lista_items(item_list)"
   ]
  },
  {
   "cell_type": "markdown",
   "id": "af587150",
   "metadata": {},
   "source": [
    "### 3. declara una lista vacía y rellenala con los los objetos de la clase Item para cada Item\n",
    "nombre de la lista = item_list"
   ]
  },
  {
   "cell_type": "code",
   "execution_count": 24,
   "id": "509d922b",
   "metadata": {},
   "outputs": [],
   "source": [
    "#es lo que he hecho en el anterior apartado"
   ]
  },
  {
   "cell_type": "markdown",
   "id": "b6e80b00",
   "metadata": {},
   "source": [
    "# Estos datos son los que determinan el problema (No tocar)"
   ]
  },
  {
   "cell_type": "code",
   "execution_count": 27,
   "id": "42e68ddf",
   "metadata": {},
   "outputs": [],
   "source": [
    "# Peso maximo de la mochila\n",
    "carrier_limit = 40.0  # kg\n",
    "\n",
    "# Parametros para el algoritmo genetico \n",
    "population_size = 10\n",
    "generation_size = 100\n",
    "mutation_rate = 0.1"
   ]
  },
  {
   "cell_type": "markdown",
   "id": "e41ac74f",
   "metadata": {},
   "source": [
    "#### Una solucion para un problema de 4 objetos seria de la forma: [0,1,0,1], donde los objetos con ids 1 y 3 entrarian a la mochila y el 0 y 2 no. Es un vector indicador de que objetos se han elegido para la mochila\n",
    "#### Una solución es factible si la suma de los pesos de los objetos elegidos es menor que el peso máximo de la mochila"
   ]
  },
  {
   "cell_type": "markdown",
   "id": "1482c1d1",
   "metadata": {},
   "source": [
    "### 4. Crea una función que reciva la lista de items y devuelva una solución aleatoria al problema ( no tiene por que ser factible)\n",
    "\n",
    "Nombre: create_random_solution\n",
    "\n",
    "Nota: hay que utilizar funciones random que generen vectores aleatorios de 0 y 1"
   ]
  },
  {
   "cell_type": "code",
   "execution_count": 31,
   "id": "a80832d8",
   "metadata": {},
   "outputs": [],
   "source": [
    "def random_solution(item_list):\n",
    "    return np.random.randint(0,2, size=len(item_list)+1)"
   ]
  },
  {
   "cell_type": "code",
   "execution_count": 32,
   "id": "1f9c4e0a",
   "metadata": {},
   "outputs": [
    {
     "data": {
      "text/plain": [
       "array([0, 1, 1, 0, 0, 0, 0, 1, 0, 1, 1, 1, 1, 0, 1, 1, 0, 0, 1, 1, 0])"
      ]
     },
     "execution_count": 32,
     "metadata": {},
     "output_type": "execute_result"
    }
   ],
   "source": [
    "Sol1 = random_solution(item_list)\n",
    "Sol1"
   ]
  },
  {
   "cell_type": "markdown",
   "id": "0e56ff27",
   "metadata": {},
   "source": [
    "### 5. Función que calcule el valor de una posible solución, esta función recive la lista de items y  una solución\n",
    "#### Recive: lista de items y solución\n",
    "Nombre: calculate_value\n",
    "#### Devuelve: valor numerico de la solucion (suma de valores de los items)"
   ]
  },
  {
   "cell_type": "code",
   "execution_count": 32,
   "id": "5ecb05ed",
   "metadata": {},
   "outputs": [],
   "source": []
  },
  {
   "cell_type": "code",
   "execution_count": 33,
   "id": "e8ca7dbb",
   "metadata": {},
   "outputs": [
    {
     "data": {
      "text/plain": [
       "304"
      ]
     },
     "execution_count": 33,
     "metadata": {},
     "output_type": "execute_result"
    }
   ],
   "source": []
  },
  {
   "cell_type": "markdown",
   "id": "b7cf610c",
   "metadata": {},
   "source": [
    "### 6. Haz una función que reciva la lista de items, una solución y el peso màximo y te devuelva True si es una solución factible y False si no lo es\n",
    "Nombre: valid_solution\n",
    "#### Devuelve: True o False"
   ]
  },
  {
   "cell_type": "code",
   "execution_count": 29,
   "id": "169c1977",
   "metadata": {},
   "outputs": [],
   "source": [
    "def pesos_solution(item_list, l01):\n",
    "    pesos = [item.get_weight() for item, flag in zip(item_list, l01) if flag == 1]\n"
   ]
  },
  {
   "cell_type": "markdown",
   "id": "4e8aa079",
   "metadata": {},
   "source": [
    "### 7. Función que mire si dos soluciones son iguales\n",
    "#### Recive: solucion1 y solucion2\n",
    "Nombre: check_duplicate_solutions\n",
    "\n",
    "#### Devuelve: True or False"
   ]
  },
  {
   "cell_type": "code",
   "execution_count": 34,
   "id": "0c96d2bf",
   "metadata": {},
   "outputs": [],
   "source": []
  },
  {
   "cell_type": "markdown",
   "id": "1cc4a64f",
   "metadata": {},
   "source": []
  },
  {
   "cell_type": "markdown",
   "id": "77192ac4",
   "metadata": {},
   "source": [
    "### 8. Función que genere una población inicial (conjunto de soluciones aleatorias inicial)\n",
    "#### Recive: \n",
    "* pop_size = tamaño de la población (numero de soluciones)\n",
    "* item_list = la lista de objetos items\n",
    "* peso máximo\n",
    "\n",
    "#### Devuelve una lista de soluciones\n",
    "\n",
    "Nombre: initial_population\n",
    "\n",
    "Nota: La función debe asegurarse que hay un pop_size de soluciones diferentes que sean validas. Las soluciones deben generarse de forma aleatoria"
   ]
  },
  {
   "cell_type": "code",
   "execution_count": 35,
   "id": "cde4ddcc",
   "metadata": {},
   "outputs": [],
   "source": []
  },
  {
   "cell_type": "markdown",
   "id": "b58ddbbb",
   "metadata": {},
   "source": [
    "### 9. Función que escoja 2 soluciones de forma aleatoria y escoja la mejor\n",
    "\n",
    "Tiene que generar 2 indices de forma aleatoria\n",
    "#### Recive: \n",
    "* pop = población (conjunto de soluciones)\n",
    "* item_list\n",
    "\n",
    "#### Devuelve una solucion\n",
    "\n",
    "Nombre: tournament_selection\n"
   ]
  },
  {
   "cell_type": "code",
   "execution_count": 38,
   "id": "10c97baa",
   "metadata": {},
   "outputs": [],
   "source": []
  },
  {
   "cell_type": "markdown",
   "id": "a9545621",
   "metadata": {},
   "source": [
    "### 10. Función que junta 2 soluciones de forma aleatoria (reproducción)\n",
    "#### Recive: \n",
    "* 2 soluciones\n",
    "* item_list\n",
    "* carrier_limit\n",
    "\n",
    "#### Devuelve una solucion\n",
    "\n",
    "Nombre: crossover\n",
    "\n",
    "Nota: Función recursiva. Hay que escojer un punto de corte de forma aleatoria ( es decir un indice y juntar por ese indice. Hay que mirar si la solución generada es valida, si no hay que volver a llamar la misma función\n"
   ]
  },
  {
   "attachments": {
    "image.png": {
     "image/png": "[encoded data removed]"
    }
   },
   "cell_type": "markdown",
   "id": "43ba97e6",
   "metadata": {},
   "source": [
    "![image.png](attachment:image.png)"
   ]
  },
  {
   "cell_type": "code",
   "execution_count": 39,
   "id": "a679c41d",
   "metadata": {},
   "outputs": [],
   "source": []
  },
  {
   "cell_type": "markdown",
   "id": "54c1a4f8",
   "metadata": {},
   "source": [
    "### 11. Función que muta una solución (escojera dos indices de forma aleatoria de la solución y pondrá 1 o 0 de forma aleatoria)\n",
    "#### Recive: \n",
    "* 1 solucion\n",
    "* item_list\n",
    "* carrier_limit\n",
    "\n",
    "#### Devuelve una solucion\n",
    "\n",
    "Nombre: mutation\n",
    "\n",
    "Nota: Función recursiva. Hay que escojer 2 indices y cambiar los valores de esa solucion. Hay que mirar si la solución generada es valida, si no hay que volver a llamar la misma función.\n"
   ]
  },
  {
   "attachments": {
    "image.png": {
     "image/png": "[encoded data removed]"
    }
   },
   "cell_type": "markdown",
   "id": "40e0119c",
   "metadata": {},
   "source": [
    "![image.png](attachment:image.png)\n"
   ]
  },
  {
   "cell_type": "code",
   "execution_count": 40,
   "id": "7eb2d251",
   "metadata": {},
   "outputs": [],
   "source": []
  },
  {
   "cell_type": "markdown",
   "id": "e2fa69a4",
   "metadata": {},
   "source": [
    "### 12. Función que genera $n$ nuevas soluciones a partir de las anteriores\n",
    "\n",
    "Esta función empieza con una lista vacia, y va rellenandola de nuevas soluciones, para eso itera len(pop) veces:\n",
    "1. Escoje 2 soluciones de la población de entrada de la función (como padres)\n",
    "2. Junta con crossover estas dos soluciones\n",
    "3. Se tira una moneda uniforme entre 0 y 1, si es mayor que mut_rate, se muta la solución anterior si no se omite el paso\n",
    "4. Se añade a la lista de nuevas soluciones\n",
    "#### Recive: \n",
    "* pop\n",
    "* mut_rate\n",
    "* item_list\n",
    "* carrier_limit\n",
    "\n",
    "#### Devuelve una nueva población (conjunto de soluciones)\n",
    "\n",
    "Nombre: create_generation\n",
    "\n",
    "Nota: \n"
   ]
  },
  {
   "cell_type": "code",
   "execution_count": null,
   "id": "8d967e89",
   "metadata": {},
   "outputs": [],
   "source": []
  },
  {
   "cell_type": "code",
   "execution_count": 53,
   "id": "149dad77",
   "metadata": {},
   "outputs": [],
   "source": []
  },
  {
   "cell_type": "code",
   "execution_count": 54,
   "id": "5a6447f4",
   "metadata": {
    "scrolled": true
   },
   "outputs": [
    {
     "data": {
      "text/plain": [
       "[array([0, 1, 0, 0, 1, 1, 1, 0, 1, 0, 0, 0, 0, 1, 0, 0, 0, 1, 0, 0]),\n",
       " array([1, 0, 0, 1, 1, 0, 1, 0, 0, 0, 1, 0, 0, 0, 0, 0, 0, 0, 1, 0]),\n",
       " array([0, 1, 0, 0, 1, 1, 1, 0, 1, 0, 0, 0, 0, 1, 0, 0, 0, 0, 0, 0]),\n",
       " array([1, 0, 0, 0, 0, 0, 1, 1, 0, 1, 0, 1, 0, 0, 0, 0, 0, 0, 0, 0]),\n",
       " array([0, 1, 0, 0, 1, 1, 1, 0, 1, 0, 0, 0, 0, 1, 0, 0, 0, 1, 0, 0]),\n",
       " array([1, 0, 0, 1, 1, 0, 1, 0, 0, 1, 0, 1, 0, 0, 0, 0, 0, 0, 0, 0]),\n",
       " array([0, 0, 0, 1, 0, 0, 1, 0, 1, 0, 0, 0, 0, 1, 0, 0, 0, 1, 0, 0]),\n",
       " array([1, 0, 0, 1, 1, 0, 1, 0, 0, 0, 0, 0, 0, 0, 0, 0, 1, 0, 0, 0]),\n",
       " array([0, 0, 0, 1, 0, 0, 1, 0, 1, 0, 0, 0, 0, 0, 0, 0, 1, 0, 1, 0]),\n",
       " array([0, 0, 0, 1, 0, 0, 1, 0, 1, 0, 0, 0, 0, 0, 0, 0, 0, 0, 0, 0])]"
      ]
     },
     "execution_count": 54,
     "metadata": {},
     "output_type": "execute_result"
    }
   ],
   "source": []
  },
  {
   "cell_type": "markdown",
   "id": "ce80dedc",
   "metadata": {},
   "source": [
    "### 13. Función que obtiene el valor de la mejor solución de una población\n",
    "\n",
    "#### Recive: \n",
    "* pop\n",
    "* item_list\n",
    "\n",
    "#### Devuelve un valor\n",
    "\n",
    "Nombre: best_solution\n",
    "\n",
    "Nota: \n"
   ]
  },
  {
   "cell_type": "code",
   "execution_count": 62,
   "id": "10d9e577",
   "metadata": {},
   "outputs": [],
   "source": []
  },
  {
   "cell_type": "markdown",
   "id": "f6d67c1f",
   "metadata": {},
   "source": [
    "### 14. Algoritmo genetico\n",
    "\n",
    "Esta función itera utilizando la función create_generation. \n",
    "* 1º incializa una población inicial\n",
    "* 2º Inicializa dos listas vacias (1 para la mejor población de cada generación y otra para el valors asociado a esa solución)\n",
    "* 3º Itera utilizando la función create_generation gen_size veces y creando generaciones de poblaciones a partir de la anterior y en cada iteración escoje la mejor solucion para guardar su información\n",
    "\n",
    "#### Recive: \n",
    "* genetic_algorithm(carrier_limit, p_size, gen_size, mutation_rate, item_list)\n",
    "\n",
    "#### Devuelve una lista con las mejores soluciones de cada generación y una lista de mejores resultados por generación\n",
    "\n",
    "Nombre: genetic_algorithm\n",
    "\n",
    "Nota: \n"
   ]
  },
  {
   "cell_type": "code",
   "execution_count": 82,
   "id": "80dd7a64",
   "metadata": {},
   "outputs": [],
   "source": []
  },
  {
   "cell_type": "code",
   "execution_count": 85,
   "id": "5de288ab",
   "metadata": {},
   "outputs": [
    {
     "name": "stdout",
     "output_type": "stream",
     "text": [
      "[0 0 0 1 0 0 0 0 0 1 0 0 0 1 0 0 1 0 1 0]\n",
      "value -->  104\n",
      "[0 0 0 0 0 1 1 1 1 0 0 0 0 0 1 1 1 0 0 0]\n",
      "value -->  146\n",
      "[0 0 0 0 0 1 1 1 1 0 0 0 0 1 0 0 0 1 0 0]\n",
      "value -->  126\n",
      "[1 0 0 1 1 0 1 0 1 0 1 0 0 0 0 0 0 0 0 0]\n",
      "value -->  143\n",
      "[0 0 0 0 0 0 1 0 0 1 0 0 1 1 0 1 1 0 0 0]\n",
      "value -->  136\n",
      "[0 0 0 0 0 1 1 1 1 0 0 0 0 0 1 1 1 0 0 0]\n",
      "value -->  146\n",
      "[0 1 0 0 0 1 1 1 0 0 0 0 0 0 1 1 1 0 0 0]\n",
      "value -->  147\n",
      "[0 0 0 0 0 1 1 1 1 0 0 0 0 0 1 1 1 0 0 0]\n",
      "value -->  146\n",
      "[0 0 0 0 0 1 1 1 1 0 0 0 0 0 1 1 1 0 0 0]\n",
      "value -->  146\n",
      "[0 0 0 0 0 0 1 1 1 0 0 0 0 0 1 1 1 0 0 0]\n",
      "value -->  129\n",
      "[0 1 0 0 0 0 1 1 1 0 0 0 0 0 1 1 1 0 0 0]\n",
      "value -->  154\n",
      "[0 1 0 0 0 0 1 1 1 0 0 0 0 0 1 1 1 0 0 0]\n",
      "value -->  154\n",
      "[0 1 0 0 0 0 1 1 1 0 0 0 0 0 1 1 1 0 0 0]\n",
      "value -->  154\n",
      "[0 1 0 0 0 0 1 1 1 0 0 0 0 0 1 1 1 0 0 0]\n",
      "value -->  154\n",
      "[0 1 0 0 0 0 1 1 1 0 0 0 0 0 1 1 1 0 0 0]\n",
      "value -->  154\n",
      "[0 1 0 0 0 1 1 1 1 0 0 0 0 0 0 1 1 0 0 0]\n",
      "value -->  156\n",
      "[0 1 0 0 0 1 1 1 1 0 0 0 0 0 0 1 1 0 0 0]\n",
      "value -->  156\n",
      "[0 1 0 0 0 1 1 1 1 0 0 0 0 0 0 1 1 0 0 0]\n",
      "value -->  156\n",
      "[0 1 0 0 0 1 1 1 1 0 0 0 0 0 0 1 1 0 0 0]\n",
      "value -->  156\n",
      "[0 1 0 0 0 1 1 1 1 0 0 0 0 0 0 1 1 0 0 0]\n",
      "value -->  156\n",
      "[0 1 0 0 0 1 1 1 1 0 0 0 0 0 0 1 1 0 0 0]\n",
      "value -->  156\n",
      "[0 1 0 0 0 1 1 1 1 0 0 0 0 0 0 1 1 0 0 0]\n",
      "value -->  156\n",
      "[0 1 0 0 0 1 1 1 1 0 0 0 0 0 0 1 1 0 0 0]\n",
      "value -->  156\n",
      "[0 1 0 0 0 1 1 1 1 0 0 0 0 0 0 1 1 0 0 0]\n",
      "value -->  156\n",
      "[0 1 0 0 0 1 1 1 1 0 0 0 0 0 0 1 1 0 0 0]\n",
      "value -->  156\n",
      "[0 1 0 0 0 1 1 1 1 0 0 0 0 0 0 1 1 0 0 0]\n",
      "value -->  156\n",
      "[0 1 0 0 0 1 1 1 1 0 0 0 0 0 0 1 1 0 0 0]\n",
      "value -->  156\n",
      "[0 1 0 0 0 1 1 1 1 0 0 0 0 0 0 1 1 0 0 0]\n",
      "value -->  156\n",
      "[0 1 0 0 0 0 1 1 1 0 0 0 1 0 0 1 1 0 0 0]\n",
      "value -->  159\n",
      "[0 1 0 0 0 1 1 1 1 0 0 0 0 0 0 1 1 0 0 0]\n",
      "value -->  156\n",
      "[0 1 0 0 1 1 0 0 1 0 0 0 0 0 0 1 1 0 0 1]\n",
      "value -->  160\n",
      "[0 1 0 0 1 1 0 0 1 0 0 0 0 0 0 1 1 0 0 1]\n",
      "value -->  160\n",
      "[0 1 0 0 1 1 0 0 1 0 0 0 0 0 0 1 1 0 0 1]\n",
      "value -->  160\n",
      "[0 1 0 0 1 1 0 0 1 0 0 0 0 0 0 1 1 0 0 1]\n",
      "value -->  160\n",
      "[0 1 0 0 1 1 0 0 1 0 0 0 0 0 0 1 1 0 0 1]\n",
      "value -->  160\n",
      "[0 1 0 0 1 1 0 0 1 0 0 0 0 0 0 1 1 0 0 1]\n",
      "value -->  160\n",
      "[0 1 0 0 0 1 1 0 1 0 0 0 0 0 0 1 1 0 0 1]\n",
      "value -->  160\n",
      "[0 1 0 0 1 1 0 0 1 0 0 0 0 0 0 1 1 0 0 1]\n",
      "value -->  160\n",
      "[0 1 0 0 1 1 0 0 1 0 0 0 0 0 0 1 1 0 0 1]\n",
      "value -->  160\n",
      "[0 1 0 0 1 1 0 0 1 0 0 0 0 0 0 1 1 0 0 1]\n",
      "value -->  160\n",
      "[0 1 0 0 1 1 0 0 1 0 0 0 0 0 0 1 1 0 0 1]\n",
      "value -->  160\n",
      "[0 1 0 0 0 1 0 0 1 0 0 0 0 0 1 1 1 0 0 1]\n",
      "value -->  147\n",
      "[0 1 0 0 1 1 0 0 1 0 0 0 0 0 0 1 1 0 0 1]\n",
      "value -->  160\n",
      "[0 1 0 0 1 1 0 0 1 0 0 0 0 0 0 1 1 0 0 1]\n",
      "value -->  160\n",
      "[0 1 0 0 1 1 0 0 1 0 0 0 0 0 0 1 1 0 0 1]\n",
      "value -->  160\n",
      "[0 1 0 0 1 1 0 0 1 0 0 0 0 0 0 1 1 0 0 1]\n",
      "value -->  160\n",
      "[0 1 0 0 1 1 0 0 1 0 0 0 0 0 0 1 1 0 0 1]\n",
      "value -->  160\n",
      "[0 1 0 0 1 1 0 0 1 0 0 0 0 0 0 1 1 0 0 1]\n",
      "value -->  160\n",
      "[0 1 0 0 1 1 1 0 0 0 0 0 0 0 0 1 1 0 0 1]\n",
      "value -->  164\n",
      "[0 1 0 0 1 1 1 0 0 0 0 0 0 0 0 1 1 0 0 1]\n",
      "value -->  164\n",
      "[0 1 0 0 1 1 1 0 0 0 0 0 0 0 0 1 1 0 0 1]\n",
      "value -->  164\n",
      "[0 1 0 0 1 1 1 0 0 0 0 0 0 0 0 1 1 0 0 1]\n",
      "value -->  164\n",
      "[0 1 0 0 1 1 1 0 0 0 0 0 0 0 0 1 1 0 0 1]\n",
      "value -->  164\n",
      "[0 1 0 0 1 1 1 0 0 0 0 0 0 0 0 1 1 0 0 1]\n",
      "value -->  164\n",
      "[0 1 0 0 1 0 1 1 0 0 0 0 0 1 0 1 0 0 0 1]\n",
      "value -->  175\n",
      "[0 1 0 0 1 0 1 1 0 0 0 0 0 1 0 1 0 0 0 1]\n",
      "value -->  175\n",
      "[0 1 0 0 1 0 1 1 0 0 0 0 0 1 0 1 0 0 0 1]\n",
      "value -->  175\n",
      "[0 1 0 0 1 0 1 1 0 0 0 0 0 1 0 1 0 0 0 1]\n",
      "value -->  175\n",
      "[0 1 0 0 1 0 1 1 0 0 0 0 0 1 0 1 0 0 0 1]\n",
      "value -->  175\n",
      "[0 1 0 0 1 0 1 1 0 0 0 0 0 1 0 1 0 0 0 1]\n",
      "value -->  175\n",
      "[0 1 0 0 1 0 1 1 0 0 0 0 0 1 0 1 0 0 0 1]\n",
      "value -->  175\n",
      "[0 1 0 0 1 0 1 1 0 0 0 0 0 1 0 1 0 0 0 1]\n",
      "value -->  175\n",
      "[0 1 0 0 1 0 1 1 0 0 0 0 0 1 0 1 0 0 0 1]\n",
      "value -->  175\n",
      "[0 1 0 0 1 0 1 1 0 0 0 0 0 1 1 0 0 0 0 1]\n",
      "value -->  162\n",
      "[0 1 0 0 1 0 1 1 0 0 0 0 0 1 0 1 0 0 0 1]\n",
      "value -->  175\n",
      "[0 1 0 0 1 0 1 1 0 0 0 0 0 1 0 1 0 0 0 1]\n",
      "value -->  175\n",
      "[0 1 0 0 1 0 1 1 0 0 0 0 0 1 0 1 0 0 0 1]\n",
      "value -->  175\n",
      "[0 1 0 0 1 0 1 1 0 0 0 0 0 1 0 1 0 0 0 1]\n",
      "value -->  175\n",
      "[0 1 0 0 1 0 1 1 0 0 0 0 0 1 0 1 0 0 0 1]\n",
      "value -->  175\n",
      "[0 1 0 0 1 0 1 1 0 0 0 0 0 1 0 1 0 0 0 1]\n",
      "value -->  175\n",
      "[0 1 0 0 1 0 1 1 0 0 0 0 0 1 0 1 0 0 0 1]\n",
      "value -->  175\n",
      "[0 1 0 0 1 0 1 1 0 0 0 0 0 1 0 1 0 0 0 1]\n",
      "value -->  175\n",
      "[0 1 0 0 1 0 1 1 0 0 0 0 0 1 0 1 0 0 0 1]\n",
      "value -->  175\n",
      "[0 1 0 0 1 0 1 1 0 0 0 0 0 1 0 1 0 0 0 1]\n",
      "value -->  175\n",
      "[0 1 0 0 1 0 1 1 0 0 0 0 0 1 0 1 0 0 0 1]\n",
      "value -->  175\n",
      "[0 1 0 0 1 0 1 1 0 0 0 0 0 1 0 1 0 0 0 1]\n",
      "value -->  175\n",
      "[0 1 0 0 1 0 1 1 0 0 0 0 0 1 0 1 0 0 0 1]\n",
      "value -->  175\n",
      "[0 1 0 0 1 0 1 1 0 0 0 0 0 1 0 1 0 0 0 1]\n",
      "value -->  175\n",
      "[0 1 0 0 1 0 1 1 0 0 0 0 0 1 0 1 0 0 0 1]\n",
      "value -->  175\n",
      "[0 1 0 0 1 0 1 1 0 0 0 0 0 1 0 1 0 0 0 1]\n",
      "value -->  175\n",
      "[0 1 0 0 1 0 1 1 0 0 0 0 0 1 0 1 0 0 0 1]\n",
      "value -->  175\n",
      "[0 1 0 0 1 0 1 1 0 0 0 0 0 1 0 1 0 0 0 1]\n",
      "value -->  175\n",
      "[0 1 0 0 1 0 1 1 0 0 0 0 0 1 0 1 0 0 0 1]\n",
      "value -->  175\n",
      "[0 1 0 0 1 0 1 1 0 0 0 0 0 1 0 1 0 0 0 1]\n",
      "value -->  175\n",
      "[0 1 0 0 1 0 1 1 0 0 0 0 0 1 0 1 0 0 0 1]\n",
      "value -->  175\n",
      "[0 1 0 0 1 0 1 1 0 0 0 0 0 1 0 1 0 0 0 1]\n",
      "value -->  175\n",
      "[0 1 0 0 1 0 1 1 0 0 0 0 0 1 0 1 0 0 0 1]\n",
      "value -->  175\n",
      "[0 1 0 0 1 0 1 1 0 0 0 0 0 1 0 1 0 0 0 1]\n",
      "value -->  175\n",
      "[0 1 0 0 1 0 1 1 0 0 0 0 0 1 0 1 0 0 0 1]\n",
      "value -->  175\n",
      "[0 1 0 0 1 0 1 1 0 0 0 0 0 1 0 1 0 0 0 1]\n",
      "value -->  175\n",
      "[0 1 0 0 1 0 1 1 0 0 0 0 0 1 0 1 0 0 0 1]\n",
      "value -->  175\n",
      "[0 1 0 0 1 0 1 1 0 0 0 0 0 1 0 1 0 0 0 1]\n",
      "value -->  175\n",
      "[0 1 0 0 1 0 1 1 0 0 0 0 0 1 0 1 0 0 0 1]\n",
      "value -->  175\n",
      "[0 1 0 0 1 0 1 1 0 0 0 0 0 1 0 1 0 0 0 1]\n",
      "value -->  175\n",
      "[0 1 0 0 1 0 1 1 0 0 0 0 0 1 0 1 0 0 0 1]\n",
      "value -->  175\n",
      "[0 1 0 1 1 0 1 0 0 0 0 0 0 0 0 1 0 0 1 1]\n",
      "value -->  177\n",
      "[0 1 0 1 1 0 1 1 0 0 0 0 0 0 0 1 0 0 0 1]\n",
      "value -->  177\n",
      "[0 1 0 1 1 0 1 1 0 0 0 0 0 0 0 1 0 0 0 1]\n",
      "value -->  177\n",
      "[0 1 0 1 1 0 1 1 0 0 0 0 0 0 0 1 0 0 0 1]\n",
      "value -->  177\n",
      "[0 1 0 1 1 0 1 0 0 0 0 0 0 1 0 1 0 0 0 1]\n",
      "value -->  179\n"
     ]
    }
   ],
   "source": [
    "# latest population after genetic algorithm run\n",
    "latest_pop, v_list = genetic_algorithm(carrier_limit=carrier_limit,\n",
    "                                       p_size=population_size,\n",
    "                                       gen_size=generation_size,\n",
    "                                       mutation_rate=mutation_rate,\n",
    "                                       item_list=item_list)"
   ]
  },
  {
   "cell_type": "code",
   "execution_count": 86,
   "id": "c69fe3ca",
   "metadata": {},
   "outputs": [
    {
     "data": {
      "image/png": "[encoded data removed]",
      "text/plain": [
       "<Figure size 640x480 with 1 Axes>"
      ]
     },
     "metadata": {},
     "output_type": "display_data"
    }
   ],
   "source": [
    "# Plot a graph to show the progress\n",
    "plt.plot(v_list)\n",
    "plt.xlabel('generations')\n",
    "plt.ylabel('values')\n",
    "plt.title(\"Values of the solutions during the generations\")\n",
    "plt.show()"
   ]
  },
  {
   "cell_type": "code",
   "execution_count": null,
   "id": "936465c4",
   "metadata": {},
   "outputs": [],
   "source": []
  }
 ],
 "metadata": {
  "kernelspec": {
   "display_name": "Python 3 (ipykernel)",
   "language": "python",
   "name": "python3"
  },
  "language_info": {
   "codemirror_mode": {
    "name": "ipython",
    "version": 3
   },
   "file_extension": ".py",
   "mimetype": "text/x-python",
   "name": "python",
   "nbconvert_exporter": "python",
   "pygments_lexer": "ipython3",
   "version": "3.11.7"
  }
 },
 "nbformat": 4,
 "nbformat_minor": 5
}
