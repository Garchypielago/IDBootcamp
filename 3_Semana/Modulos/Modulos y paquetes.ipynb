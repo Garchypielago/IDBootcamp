{
 "cells": [
  {
   "cell_type": "markdown",
   "metadata": {},
   "source": [
    "# Modulos y paquetes"
   ]
  },
  {
   "cell_type": "code",
   "execution_count": 1,
   "metadata": {},
   "outputs": [
    {
     "name": "stdout",
     "output_type": "stream",
     "text": [
      "estoy en un modulo\n"
     ]
    },
    {
     "name": "stdout",
     "output_type": "stream",
     "text": [
      "Adios\n",
      "Adios2\n"
     ]
    }
   ],
   "source": [
    "# importo un modulo pero tendré ue hacer referencia a el para acceder a las funciones\n",
    "import modulo\n",
    "# si quiero volver a importarlo debo reestableceer el kernel"
   ]
  },
  {
   "cell_type": "code",
   "execution_count": 2,
   "metadata": {
    "scrolled": true
   },
   "outputs": [
    {
     "data": {
      "text/plain": [
       "8"
      ]
     },
     "execution_count": 2,
     "metadata": {},
     "output_type": "execute_result"
    }
   ],
   "source": [
    "modulo.exponente(2, 3)"
   ]
  },
  {
   "cell_type": "code",
   "execution_count": 3,
   "metadata": {},
   "outputs": [
    {
     "data": {
      "text/plain": [
       "6"
      ]
     },
     "execution_count": 3,
     "metadata": {},
     "output_type": "execute_result"
    }
   ],
   "source": [
    "modulo.suma([1,2,3])"
   ]
  },
  {
   "cell_type": "code",
   "execution_count": 5,
   "metadata": {},
   "outputs": [],
   "source": [
    "# importo un modulo pero tendré que hacer referencia a el para acceder a las funciones\n",
    "# y le pongo un nombre a esa referencia\n",
    "import modulo as mm\n",
    "import numpy as np"
   ]
  },
  {
   "cell_type": "code",
   "execution_count": 6,
   "metadata": {},
   "outputs": [
    {
     "data": {
      "text/plain": [
       "array([1, 2, 3])"
      ]
     },
     "execution_count": 6,
     "metadata": {},
     "output_type": "execute_result"
    }
   ],
   "source": [
    "import numpy\n",
    "numpy.array([1,2,3]) # np.array([1,2,3])"
   ]
  },
  {
   "cell_type": "code",
   "execution_count": 7,
   "metadata": {},
   "outputs": [
    {
     "data": {
      "text/plain": [
       "8"
      ]
     },
     "execution_count": 7,
     "metadata": {},
     "output_type": "execute_result"
    }
   ],
   "source": [
    "mm.exponente(2,3)"
   ]
  },
  {
   "cell_type": "code",
   "execution_count": 1,
   "metadata": {
    "scrolled": true
   },
   "outputs": [
    {
     "name": "stdout",
     "output_type": "stream",
     "text": [
      "estoy en un modulo\n",
      "Adios\n",
      "Adios2\n",
      "8\n"
     ]
    }
   ],
   "source": [
    "# import una func del modulo\n",
    "from modulo import exponente\n",
    "# from nombre_modulo import funcion\n",
    "print(exponente(2,3))"
   ]
  },
  {
   "cell_type": "code",
   "execution_count": 2,
   "metadata": {
    "scrolled": false
   },
   "outputs": [
    {
     "ename": "NameError",
     "evalue": "name 'modulo' is not defined",
     "output_type": "error",
     "traceback": [
      "\u001b[1;31m---------------------------------------------------------------------------\u001b[0m",
      "\u001b[1;31mNameError\u001b[0m                                 Traceback (most recent call last)",
      "Cell \u001b[1;32mIn[2], line 1\u001b[0m\n\u001b[1;32m----> 1\u001b[0m \u001b[43mmodulo\u001b[49m\u001b[38;5;241m.\u001b[39msuma(\u001b[38;5;241m2\u001b[39m)\n",
      "\u001b[1;31mNameError\u001b[0m: name 'modulo' is not defined"
     ]
    }
   ],
   "source": [
    "modulo.suma(2)# esto da error"
   ]
  },
  {
   "cell_type": "code",
   "execution_count": 1,
   "metadata": {
    "scrolled": true
   },
   "outputs": [
    {
     "name": "stdout",
     "output_type": "stream",
     "text": [
      "estoy en un modulo\n",
      "Adios\n",
      "Adios2\n",
      "8\n"
     ]
    }
   ],
   "source": [
    "# importo todas las funciones del modulo y no hace falta hacer referencia al modulo\n",
    "from modulo import * # para importar todas las funciones y clases y objetos\n",
    "print(exponente(2,3))"
   ]
  },
  {
   "cell_type": "code",
   "execution_count": 4,
   "metadata": {},
   "outputs": [
    {
     "data": {
      "text/plain": [
       "2"
      ]
     },
     "execution_count": 4,
     "metadata": {},
     "output_type": "execute_result"
    }
   ],
   "source": [
    "suma(1)"
   ]
  },
  {
   "cell_type": "code",
   "execution_count": 2,
   "metadata": {},
   "outputs": [
    {
     "name": "stdout",
     "output_type": "stream",
     "text": [
      "8\n"
     ]
    }
   ],
   "source": [
    "# de un modulo, importo una funcion y le pongo un nombre\n",
    "from modulo import exponente as exp\n",
    "print(exp(2,3))"
   ]
  },
  {
   "cell_type": "code",
   "execution_count": 4,
   "metadata": {},
   "outputs": [
    {
     "name": "stdout",
     "output_type": "stream",
     "text": [
      "<class 'module'>\n",
      "Help on module modulo:\n",
      "\n",
      "NAME\n",
      "    modulo\n",
      "\n",
      "CLASSES\n",
      "    builtins.object\n",
      "        MyClass\n",
      "    \n",
      "    class MyClass(builtins.object)\n",
      "     |  Data descriptors defined here:\n",
      "     |  \n",
      "     |  __dict__\n",
      "     |      dictionary for instance variables (if defined)\n",
      "     |  \n",
      "     |  __weakref__\n",
      "     |      list of weak references to the object (if defined)\n",
      "     |  \n",
      "     |  ----------------------------------------------------------------------\n",
      "     |  Data and other attributes defined here:\n",
      "     |  \n",
      "     |  x = 12\n",
      "\n",
      "FUNCTIONS\n",
      "    exponente(x, e)\n",
      "        esta funcion eleva x a a la e\n",
      "    \n",
      "    suma(x)\n",
      "        esta funcion suma 1 a x\n",
      "\n",
      "FILE\n",
      "    c:\\users\\propietario\\desktop\\id bootcamp\\modulos\\modulo.py\n",
      "\n",
      "\n"
     ]
    }
   ],
   "source": [
    "import modulo\n",
    "print(type(modulo))\n",
    "help(modulo)"
   ]
  },
  {
   "cell_type": "code",
   "execution_count": 13,
   "metadata": {},
   "outputs": [],
   "source": [
    "# organizaros!!\n",
    "\n",
    "# from mi_codigo import *\n",
    "# data =  lectura_datos_formato(path)\n",
    "# data = transformacion_data(data)\n",
    "# modelo, resultado = ajusta_modelo(data)\n",
    "# visualizacion_resultados(modelo, datos)"
   ]
  },
  {
   "cell_type": "code",
   "execution_count": 5,
   "metadata": {},
   "outputs": [],
   "source": [
    "import paquete"
   ]
  },
  {
   "cell_type": "code",
   "execution_count": 6,
   "metadata": {},
   "outputs": [
    {
     "name": "stdout",
     "output_type": "stream",
     "text": [
      "estoy en el __init__\n"
     ]
    }
   ],
   "source": [
    "# =============================================================================\n",
    "# Packages\n",
    "# =============================================================================\n",
    "\n",
    "# asi cargo un paquete, igual que un modulo\n",
    "import ejemplo "
   ]
  },
  {
   "cell_type": "code",
   "execution_count": 8,
   "metadata": {},
   "outputs": [
    {
     "data": {
      "text/plain": [
       "10"
      ]
     },
     "execution_count": 8,
     "metadata": {},
     "output_type": "execute_result"
    }
   ],
   "source": [
    "ejemplo.x"
   ]
  },
  {
   "cell_type": "code",
   "execution_count": 9,
   "metadata": {},
   "outputs": [
    {
     "ename": "AttributeError",
     "evalue": "module 'ejemplo' has no attribute 'hola'",
     "output_type": "error",
     "traceback": [
      "\u001b[1;31m---------------------------------------------------------------------------\u001b[0m",
      "\u001b[1;31mAttributeError\u001b[0m                            Traceback (most recent call last)",
      "Cell \u001b[1;32mIn[9], line 2\u001b[0m\n\u001b[0;32m      1\u001b[0m \u001b[38;5;66;03m# de esta forma no me carga los modulo\u001b[39;00m\n\u001b[1;32m----> 2\u001b[0m \u001b[43mejemplo\u001b[49m\u001b[38;5;241;43m.\u001b[39;49m\u001b[43mhola\u001b[49m\u001b[38;5;241m.\u001b[39mfuncion_hola()\n",
      "\u001b[1;31mAttributeError\u001b[0m: module 'ejemplo' has no attribute 'hola'"
     ]
    }
   ],
   "source": [
    "# de esta forma no me carga los modulo\n",
    "ejemplo.hola.funcion_hola()"
   ]
  },
  {
   "cell_type": "code",
   "execution_count": 10,
   "metadata": {},
   "outputs": [
    {
     "name": "stdout",
     "output_type": "stream",
     "text": [
      "has cargado el modulo HOLA\n"
     ]
    }
   ],
   "source": [
    "# aqui ha cargado todos los modulos, pero no el subpaquete\n",
    "from ejemplo import hola\n",
    "\n",
    "# from paquete import modulo\n",
    "\n"
   ]
  },
  {
   "cell_type": "code",
   "execution_count": 11,
   "metadata": {},
   "outputs": [
    {
     "name": "stdout",
     "output_type": "stream",
     "text": [
      "hola, soy una funcion del modulo HOLA\n"
     ]
    }
   ],
   "source": [
    "hola.funcion_hola()"
   ]
  },
  {
   "cell_type": "code",
   "execution_count": 12,
   "metadata": {},
   "outputs": [
    {
     "name": "stdout",
     "output_type": "stream",
     "text": [
      "has cargado el modulo ADIOS\n"
     ]
    }
   ],
   "source": [
    "from ejemplo import adios\n",
    "\n",
    "# from modulo import funcion"
   ]
  },
  {
   "cell_type": "code",
   "execution_count": 14,
   "metadata": {},
   "outputs": [
    {
     "name": "stdout",
     "output_type": "stream",
     "text": [
      "hola, soy una funcion del modulo ADIOS\n"
     ]
    }
   ],
   "source": [
    "adios.funcion_adios()"
   ]
  },
  {
   "cell_type": "code",
   "execution_count": 15,
   "metadata": {},
   "outputs": [
    {
     "name": "stdout",
     "output_type": "stream",
     "text": [
      "hola, soy una funcion del modulo HOLA\n"
     ]
    }
   ],
   "source": [
    "from ejemplo import hola as h\n",
    "h.funcion_hola()"
   ]
  },
  {
   "cell_type": "code",
   "execution_count": 16,
   "metadata": {},
   "outputs": [],
   "source": [
    "from ejemplo.hola import funcion_hola as f\n",
    "# from origen import"
   ]
  },
  {
   "cell_type": "code",
   "execution_count": 17,
   "metadata": {},
   "outputs": [],
   "source": [
    "from numpy.random import randint"
   ]
  },
  {
   "cell_type": "code",
   "execution_count": 19,
   "metadata": {},
   "outputs": [],
   "source": [
    "from ejemplo.hola import *\n",
    "#from modulo import *"
   ]
  },
  {
   "cell_type": "code",
   "execution_count": 21,
   "metadata": {},
   "outputs": [
    {
     "name": "stdout",
     "output_type": "stream",
     "text": [
      "hola, soy una funcion del modulo HOLA\n"
     ]
    }
   ],
   "source": [
    "funcion_hola()"
   ]
  },
  {
   "cell_type": "code",
   "execution_count": 1,
   "metadata": {},
   "outputs": [
    {
     "name": "stdout",
     "output_type": "stream",
     "text": [
      "estoy en el __init__\n",
      "has cargado el modulo HOLA\n",
      "has cargado el modulo ADIOS\n",
      "estoy en el __init__ 2 del subpaquete\n"
     ]
    }
   ],
   "source": [
    "from ejemplo import *\n",
    "# desde origen importa todo"
   ]
  },
  {
   "cell_type": "code",
   "execution_count": 2,
   "metadata": {},
   "outputs": [
    {
     "name": "stdout",
     "output_type": "stream",
     "text": [
      "hola, soy una funcion del modulo ADIOS\n"
     ]
    }
   ],
   "source": [
    "adios.funcion_adios()"
   ]
  },
  {
   "cell_type": "code",
   "execution_count": 3,
   "metadata": {},
   "outputs": [
    {
     "name": "stdout",
     "output_type": "stream",
     "text": [
      "hola, soy una funcion del modulo HOLA\n"
     ]
    }
   ],
   "source": [
    "hola.funcion_hola()"
   ]
  },
  {
   "cell_type": "code",
   "execution_count": 7,
   "metadata": {},
   "outputs": [
    {
     "ename": "AttributeError",
     "evalue": "module 'ejemplo.subpaquete' has no attribute 'funcion'",
     "output_type": "error",
     "traceback": [
      "\u001b[1;31m---------------------------------------------------------------------------\u001b[0m",
      "\u001b[1;31mAttributeError\u001b[0m                            Traceback (most recent call last)",
      "Cell \u001b[1;32mIn[7], line 1\u001b[0m\n\u001b[1;32m----> 1\u001b[0m \u001b[43msubpaquete\u001b[49m\u001b[38;5;241;43m.\u001b[39;49m\u001b[43mfuncion\u001b[49m\n",
      "\u001b[1;31mAttributeError\u001b[0m: module 'ejemplo.subpaquete' has no attribute 'funcion'"
     ]
    }
   ],
   "source": [
    "subpaquete.funcion.funcion_1()"
   ]
  },
  {
   "cell_type": "code",
   "execution_count": 8,
   "metadata": {},
   "outputs": [
    {
     "name": "stdout",
     "output_type": "stream",
     "text": [
      "Soy una funcion del modulo funcion\n"
     ]
    }
   ],
   "source": [
    "# cargo un modulo de un subpaquete\n",
    "import ejemplo.subpaquete.funcion\n",
    "ejemplo.subpaquete.funcion.funcion_1()"
   ]
  },
  {
   "cell_type": "code",
   "execution_count": 9,
   "metadata": {},
   "outputs": [
    {
     "name": "stdout",
     "output_type": "stream",
     "text": [
      "Soy una funcion del modulo funcion\n"
     ]
    }
   ],
   "source": [
    "# cargo un modulo de un subpaquete\n",
    "import ejemplo.subpaquete.funcion as f\n",
    "f.funcion_1()"
   ]
  },
  {
   "cell_type": "code",
   "execution_count": 1,
   "metadata": {},
   "outputs": [
    {
     "name": "stdout",
     "output_type": "stream",
     "text": [
      "estoy en el __init__\n",
      "estoy en el __init__ 2 del subpaquete\n",
      "Soy una funcion del modulo funcion\n"
     ]
    }
   ],
   "source": [
    "from ejemplo.subpaquete import *\n",
    "funcion.funcion_1()"
   ]
  },
  {
   "cell_type": "code",
   "execution_count": 3,
   "metadata": {},
   "outputs": [
    {
     "name": "stdout",
     "output_type": "stream",
     "text": [
      "Soy una funcion del modulo funcion\n"
     ]
    }
   ],
   "source": [
    "from ejemplo.subpaquete import funcion as f\n",
    "f.funcion_1()"
   ]
  },
  {
   "cell_type": "code",
   "execution_count": null,
   "metadata": {},
   "outputs": [],
   "source": [
    "#from de_donde import lo_que_saco as nombre"
   ]
  }
 ],
 "metadata": {
  "kernelspec": {
   "display_name": "Python 3 (ipykernel)",
   "language": "python",
   "name": "python3"
  },
  "language_info": {
   "codemirror_mode": {
    "name": "ipython",
    "version": 3
   },
   "file_extension": ".py",
   "mimetype": "text/x-python",
   "name": "python",
   "nbconvert_exporter": "python",
   "pygments_lexer": "ipython3",
   "version": "3.11.7"
  }
 },
 "nbformat": 4,
 "nbformat_minor": 4
}
