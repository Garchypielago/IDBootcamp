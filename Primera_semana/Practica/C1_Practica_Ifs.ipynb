{
 "cells": [
  {
   "cell_type": "code",
   "execution_count": 6,
   "metadata": {},
   "outputs": [
    {
     "name": "stdout",
     "output_type": "stream",
     "text": [
      "No te apellidas Garcia\n"
     ]
    }
   ],
   "source": [
    "nombre = input().title\n",
    "ape1 = input().title\n",
    "\n",
    "if ape1 == \"Garcia\":\n",
    "    print(\"Hola \", nombre, \" \", ape1)\n",
    "else: \n",
    "    print(\"No te apellidas Garcia\")"
   ]
  },
  {
   "cell_type": "code",
   "execution_count": 8,
   "metadata": {},
   "outputs": [
    {
     "name": "stdout",
     "output_type": "stream",
     "text": [
      "Es positivo\n",
      "Es cero\n",
      "Es negativo\n"
     ]
    }
   ],
   "source": [
    "num = 2.1\n",
    "num2 = 0.0\n",
    "num3 = -1.9\n",
    "nums = [num,num2,num3]\n",
    "\n",
    "for i in range(len(nums)):\n",
    "    if nums[i]==0:\n",
    "        print(\"Es cero\")\n",
    "    elif nums[i]>0:\n",
    "        print(\"Es positivo\")\n",
    "    else:\n",
    "        print(\"Es negativo\")\n"
   ]
  },
  {
   "cell_type": "code",
   "execution_count": 10,
   "metadata": {},
   "outputs": [
    {
     "name": "stdout",
     "output_type": "stream",
     "text": [
      "2.1\n",
      "0.0\n",
      "1.9\n"
     ]
    }
   ],
   "source": [
    "num = -2.1\n",
    "num2 = 0.0\n",
    "num3 = -1.9\n",
    "nums = [num,num2,num3]\n",
    "\n",
    "for i in range(len(nums)):\n",
    "    if nums[i]<0:\n",
    "        nums[i] = nums[i] * -1\n",
    "        print(nums[i])\n",
    "    else:\n",
    "        print(nums[i])"
   ]
  },
  {
   "cell_type": "code",
   "execution_count": 15,
   "metadata": {},
   "outputs": [
    {
     "name": "stdout",
     "output_type": "stream",
     "text": [
      "False\n"
     ]
    }
   ],
   "source": [
    "letra = \"g\"\n",
    "\n",
    "print(letra.upper()== (\"A\" and \"E\" and \"I\" and \"O\" and \"u\" ))"
   ]
  },
  {
   "cell_type": "code",
   "execution_count": null,
   "metadata": {},
   "outputs": [],
   "source": [
    "# Crea un script que, dado un importe y un número de comensales, \n",
    "# devuelva el reparto de  lo que tiene que pagar cada comensal. \n",
    "# Sobre el importe introducido hay que añadir una  tasa del 3% y \n",
    "# cada comensal dejará 2 € de propina. \n",
    "# Prueba con un importe de 56 y 4  comensales, cada comensal \n",
    "# debería pagar 16.42 €.  a.   Que los n-1 primeros comensales \n",
    "# paguen un importe redondeado a la unidad y  que el último comensal \n",
    "# pague el resto. Con un importe de 56 y 4 comensales,  pagarían 16 € \n",
    "# los 3 primeros y 17.68 € el cuarto.\n",
    "\n"
   ]
  }
 ],
 "metadata": {
  "kernelspec": {
   "display_name": "base",
   "language": "python",
   "name": "python3"
  },
  "language_info": {
   "codemirror_mode": {
    "name": "ipython",
    "version": 3
   },
   "file_extension": ".py",
   "mimetype": "text/x-python",
   "name": "python",
   "nbconvert_exporter": "python",
   "pygments_lexer": "ipython3",
   "version": "3.11.7"
  }
 },
 "nbformat": 4,
 "nbformat_minor": 2
}
