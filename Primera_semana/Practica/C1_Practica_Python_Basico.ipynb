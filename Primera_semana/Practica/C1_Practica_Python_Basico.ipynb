{
 "cells": [
  {
   "cell_type": "markdown",
   "metadata": {},
   "source": [
    "1. Crea una variable x que tome valor 8. Crea una variable y que tome valor 10. Realiza todas las operaciones que sepas entre las dos anteriores e intenta averiguar el tipo de variable resultado de la operación a través de alguna función."
   ]
  },
  {
   "cell_type": "code",
   "execution_count": 18,
   "metadata": {},
   "outputs": [
    {
     "name": "stdout",
     "output_type": "stream",
     "text": [
      "<class 'int'>\n",
      "<class 'int'>\n",
      "<class 'int'>\n",
      "<class 'float'>\n",
      "<class 'int'>\n",
      "<class 'int'>\n",
      "<class 'int'>\n",
      "<class 'float'>\n"
     ]
    }
   ],
   "source": [
    "x = 8\n",
    "y = 10\n",
    "\n",
    "print(type(x+y))\n",
    "print(type(x-y))\n",
    "print(type(x*y))\n",
    "print(type(x/y))\n",
    "print(type(x//y))\n",
    "print(type(x**y))\n",
    "print(type(x%y))\n",
    "print(type(x**(y/2)))"
   ]
  },
  {
   "cell_type": "markdown",
   "metadata": {},
   "source": [
    "2. Crea una variable con tu nombre, imprime por pantalla la primera y la última letra.\n",
    "\n"
   ]
  },
  {
   "cell_type": "code",
   "execution_count": 4,
   "metadata": {},
   "outputs": [
    {
     "name": "stdout",
     "output_type": "stream",
     "text": [
      "Ao\n"
     ]
    }
   ],
   "source": [
    "nombre = \"Alejandro\"\n",
    "print(nombre[::len(nombre)-1])"
   ]
  },
  {
   "cell_type": "markdown",
   "metadata": {},
   "source": [
    "3. Crea y ejecuta un programa que imprima un saludo en función de una variable X. “Hola X”.\n"
   ]
  },
  {
   "cell_type": "code",
   "execution_count": 6,
   "metadata": {},
   "outputs": [
    {
     "name": "stdout",
     "output_type": "stream",
     "text": [
      "Hola hey\n"
     ]
    }
   ],
   "source": [
    "X = input()\n",
    "print(\"Hola \", X)"
   ]
  },
  {
   "cell_type": "markdown",
   "metadata": {},
   "source": [
    "4. Imprime por pantalla la frase con las comillas incluidas: He said, \"What's there?”. "
   ]
  },
  {
   "cell_type": "code",
   "execution_count": 7,
   "metadata": {},
   "outputs": [
    {
     "name": "stdout",
     "output_type": "stream",
     "text": [
      "He said, \"What´s there?\"\n"
     ]
    }
   ],
   "source": [
    "print(\"He said, \\\"What´s there?\\\"\")"
   ]
  },
  {
   "cell_type": "markdown",
   "metadata": {},
   "source": [
    "5. Crea un programa que en función de 3 variables numéricas a, b y c, devuelva el valor booleano de la siguiente expresión:  “a es mayor que b Y b es mayor que c Y a es mayor que dos veces c”. \\\n",
    "Para el caso a = 8, b = 6 y c = 2 debe devolver True.\\\n",
    "Para el caso a = 8, b = 6 y c = 5 debe devolver False.\n"
   ]
  },
  {
   "cell_type": "code",
   "execution_count": 12,
   "metadata": {},
   "outputs": [
    {
     "name": "stdout",
     "output_type": "stream",
     "text": [
      "True\n"
     ]
    }
   ],
   "source": [
    "a=8\n",
    "b=6\n",
    "c=2\n",
    "\n",
    "booleano = False\n",
    "if (a>b and b>c and a>2*c):\n",
    "    booleano = True\n",
    "    \n",
    "print(booleano)"
   ]
  },
  {
   "cell_type": "code",
   "execution_count": 13,
   "metadata": {},
   "outputs": [
    {
     "name": "stdout",
     "output_type": "stream",
     "text": [
      "False\n"
     ]
    }
   ],
   "source": [
    "a=8\n",
    "b=6\n",
    "c=5\n",
    "\n",
    "booleano = False\n",
    "if (a>b and b>c and a>2*c):\n",
    "    booleano = True\n",
    "    \n",
    "print(booleano)"
   ]
  },
  {
   "cell_type": "markdown",
   "metadata": {},
   "source": [
    "6. Averigua para qué se usa el operador “+=” y utilizalo con una variable.\n",
    "\n"
   ]
  },
  {
   "cell_type": "code",
   "execution_count": 14,
   "metadata": {},
   "outputs": [
    {
     "data": {
      "text/plain": [
       "18"
      ]
     },
     "execution_count": 14,
     "metadata": {},
     "output_type": "execute_result"
    }
   ],
   "source": [
    "x += y\n",
    "x"
   ]
  },
  {
   "cell_type": "markdown",
   "metadata": {},
   "source": [
    "7. Define una variable que contenga como cadena de texto this is a test.\\\n",
    "Ahora crea otra variable que contenga como cadena de texto testthis concatenando las palabras de la variable anterior.\\\n",
    "Ahora crea otra variable que contenga como cadena de texto test this concatenando las palabras de la variable inicial.\\\n",
    "Ahora crea otra variable que contenga como cadena de texto testhis concatenando las palabras de la variable inicial.\n"
   ]
  },
  {
   "cell_type": "code",
   "execution_count": 24,
   "metadata": {},
   "outputs": [
    {
     "name": "stdout",
     "output_type": "stream",
     "text": [
      "El número 106 no es mi número\n"
     ]
    }
   ],
   "source": [
    "texto = \"this is a test\"\n",
    "print(texto)\n",
    "texto2 = texto.split()[1]"
   ]
  },
  {
   "cell_type": "markdown",
   "metadata": {},
   "source": [
    "8. Crea el vector (Hola, 1, Adiós). Ahora crea otro vector (a, b, c, ) que contenga al otro vector en la posición del espacio vacío. Intenta navegar por la última lista y accede al valor Adiós, asignando este valor a una variable tipo string que se llame prueba.\n"
   ]
  },
  {
   "cell_type": "code",
   "execution_count": 43,
   "metadata": {},
   "outputs": [
    {
     "data": {
      "text/plain": [
       "'Adiós'"
      ]
     },
     "execution_count": 43,
     "metadata": {},
     "output_type": "execute_result"
    }
   ],
   "source": [
    "V1 = (\"Hola\", 1, \"Adiós\")\n",
    "V2 = (a, b, c, V1)\n",
    "prueba = V2[len(V2)-1][V1.index(\"Adiós\")]\n",
    "prueba"
   ]
  },
  {
   "cell_type": "markdown",
   "metadata": {},
   "source": [
    "9. Crea un programa que en función de 3 variables numéricas a, b y c, devuelva el valor booleano de la siguiente expresión: “expresión del ejercicio 5 O (c es mayor que b Y b es mayor que a Y c es mayor que dos veces a)”. \\\n",
    "Para el caso a = 8, b = 6 y c = 5 debe devolver False. \\\n",
    "Para el caso a = 1, b = 2 y c = 4 debe devolver True.\n"
   ]
  },
  {
   "cell_type": "code",
   "execution_count": 22,
   "metadata": {},
   "outputs": [
    {
     "name": "stdout",
     "output_type": "stream",
     "text": [
      "False\n"
     ]
    }
   ],
   "source": [
    "a=8\n",
    "b=6\n",
    "c=5\n",
    "\n",
    "booleano = False\n",
    "if (a>b and b>c and a>2*c):\n",
    "    booleano = True\n",
    "elif (c>b and b>a and c>2*a):\n",
    "    booleano = True\n",
    "    \n",
    "print(booleano)"
   ]
  },
  {
   "cell_type": "code",
   "execution_count": 25,
   "metadata": {},
   "outputs": [
    {
     "name": "stdout",
     "output_type": "stream",
     "text": [
      "True\n"
     ]
    }
   ],
   "source": [
    "a=1\n",
    "b=2\n",
    "c=4\n",
    "\n",
    "booleano = False\n",
    "if (a>b and b>c and a>2*c) or (c>b and b>a and c>2*a):\n",
    "    booleano = True\n",
    "    \n",
    "print(booleano)"
   ]
  },
  {
   "cell_type": "markdown",
   "metadata": {},
   "source": [
    "10. Crea un script que, dados los dos catetos de un triangulo rectángulo, imprima por pantalla “La hipotenusa del triangulo mide X unidades”, donde X es el valor de la hipotenusa. Pista: necesitas saber el operador para calcular potencias en Python."
   ]
  },
  {
   "cell_type": "code",
   "execution_count": 33,
   "metadata": {},
   "outputs": [
    {
     "name": "stdout",
     "output_type": "stream",
     "text": [
      "La hipotenusa del triangulo mide  3.605551275463989  unidades\n"
     ]
    }
   ],
   "source": [
    "c1 = 3\n",
    "c2 = 2\n",
    "h = ((c1**2) + (c2**2))**(1/2)\n",
    "\n",
    "print(\"La hipotenusa del triangulo mide \", h, \" unidades\")"
   ]
  },
  {
   "cell_type": "markdown",
   "metadata": {},
   "source": [
    "11. Crea un programa que en función de 3 variables numéricas a, b y c, devuelva el valor booleano de la siguiente expresión: “(a es mayor que la suma de b y c Y c es positivo) O ( c es negativo Y (a O b son positivos))”. \\\n",
    "Para el caso a = 4, b = 2 y c = 1 debe devolver True. \\\n",
    "Para el caso a = 3, b = 2 y c = 1 debe devolver False. \\\n",
    "Para el caso a = 4, b = 0 y c = 1 debe devolver True. \\\n",
    "Para el caso a = 1, b = 0 y c = 0 debe devolver False.\n"
   ]
  },
  {
   "cell_type": "code",
   "execution_count": 46,
   "metadata": {},
   "outputs": [
    {
     "name": "stdout",
     "output_type": "stream",
     "text": [
      "True\n",
      "False\n",
      "True\n",
      "False\n"
     ]
    }
   ],
   "source": [
    "a=4\n",
    "b=2\n",
    "c=1\n",
    "print( (a>b+c and c>0) or (c<0 and (a or b >0)) )\n",
    "a=3\n",
    "b=2\n",
    "c=1\n",
    "print( (a>b+c and c>0) or (c<0 and (a or b >0)) )\n",
    "a=4\n",
    "b=0\n",
    "c=1\n",
    "print( (a>b+c and c>0) or (c<0 and (a or b >0)) )\n",
    "a=1\n",
    "b=0\n",
    "c=0\n",
    "print( (a>b+c and c>0) or (c<0 and (a or b >0)) )"
   ]
  },
  {
   "cell_type": "markdown",
   "metadata": {},
   "source": [
    "12. Las siguientes expresiones lógicas siempre tienen el mismo resultado. ¿Cúal es? \\\n",
    "K or not K \\\n",
    "not K or (not (not K) and K)\n"
   ]
  },
  {
   "cell_type": "code",
   "execution_count": 48,
   "metadata": {},
   "outputs": [
    {
     "name": "stdout",
     "output_type": "stream",
     "text": [
      "True\n",
      "True\n"
     ]
    }
   ],
   "source": [
    "K = True\n",
    "print( K or not K)\n",
    "print(not K or (not(not K) and K))"
   ]
  },
  {
   "cell_type": "markdown",
   "metadata": {},
   "source": [
    "13. Crea un programa que devuelva las dos soluciones de las ecuaciones de segundo grado $ax^2+bx+c=0$\n"
   ]
  },
  {
   "cell_type": "code",
   "execution_count": 57,
   "metadata": {},
   "outputs": [
    {
     "name": "stdout",
     "output_type": "stream",
     "text": [
      "Solucion 1  (-114.99999999999999+188.26311375306636j) , Solucion 2  (-115.00000000000001-188.26311375306636j)\n"
     ]
    }
   ],
   "source": [
    "a = 23\n",
    "b = 10\n",
    "c = 4\n",
    "\n",
    "x1 = (-b+(b**2-4*a*c)**(1/2) )/2*a\n",
    "\n",
    "x2 = (-b-(b**2-4*a*c)**(1/2) )/2*a\n",
    "\n",
    "print(\"Solucion 1 \",x1,\", Solucion 2 \", x2)"
   ]
  },
  {
   "cell_type": "markdown",
   "metadata": {},
   "source": [
    "14. Crea un programa que calcule el área de un triángulo de lados a, b y c\n"
   ]
  },
  {
   "cell_type": "code",
   "execution_count": 54,
   "metadata": {},
   "outputs": [
    {
     "name": "stdout",
     "output_type": "stream",
     "text": [
      "20.662465970933866\n"
     ]
    }
   ],
   "source": [
    "a = 10\n",
    "b = 7\n",
    "c = 6\n",
    "\n",
    "#superficie para averiguar el area\n",
    "S = (a+b+c)/2\n",
    "\n",
    "#formula del area\n",
    "A = (S*(S-a)*(S-b)*(S-c))**(1/2) \n",
    "\n",
    "print(A)"
   ]
  },
  {
   "cell_type": "markdown",
   "metadata": {},
   "source": [
    "15. Dado un dividendo y un divisor cualesquiera, crea las variables cociente y resto. Después, crea en una línea la operación correspondiente utilizando las 4 variables para que, tomen los valores que tomen las 4 variables, el resultado siempre sea 0.\n"
   ]
  },
  {
   "attachments": {
    "image.png": {
     "image/png": "[encoded data removed]"
    }
   },
   "cell_type": "markdown",
   "metadata": {},
   "source": [
    "![image.png](attachment:image.png)"
   ]
  },
  {
   "cell_type": "code",
   "execution_count": null,
   "metadata": {},
   "outputs": [],
   "source": []
  },
  {
   "cell_type": "markdown",
   "metadata": {},
   "source": [
    "16.Crea una variable llamada palabra que contenga el número 5, y una variable llamada numero que contenga el string “perro”. Crea una variable palabra2 que contenga el valor de la variable palabra. A continuación en la variable palabra guardaremos el valor de la variable número. \n",
    "Si intentas concatenar las variables palabra2 y palabra (operación “+”) debería darte el siguiente error: “unsupported operand type(s) for +: 'int' and 'str'”\n",
    "Si intentas concatenar las variables str(palabra2) y palabra debería darte “5perro”.\n"
   ]
  },
  {
   "cell_type": "code",
   "execution_count": null,
   "metadata": {},
   "outputs": [],
   "source": []
  }
 ],
 "metadata": {
  "kernelspec": {
   "display_name": "Python 3 (ipykernel)",
   "language": "python",
   "name": "python3"
  },
  "language_info": {
   "codemirror_mode": {
    "name": "ipython",
    "version": 3
   },
   "file_extension": ".py",
   "mimetype": "text/x-python",
   "name": "python",
   "nbconvert_exporter": "python",
   "pygments_lexer": "ipython3",
   "version": "3.11.7"
  }
 },
 "nbformat": 4,
 "nbformat_minor": 4
}
