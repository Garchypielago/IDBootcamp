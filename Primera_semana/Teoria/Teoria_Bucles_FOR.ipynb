{
  "nbformat": 4,
  "nbformat_minor": 0,
  "metadata": {
    "colab": {
      "provenance": []
    },
    "kernelspec": {
      "name": "python3",
      "display_name": "Python 3"
    },
    "language_info": {
      "name": "python"
    }
  },
  "cells": [
    {
      "cell_type": "code",
      "execution_count": 1,
      "metadata": {
        "id": "A4cPG-JbJ7R2"
      },
      "outputs": [],
      "source": [
        "#Bucle for\n",
        "\n",
        "L=[\"Hola\", \"Adios\", \"Amir\"]\n"
      ]
    },
    {
      "cell_type": "code",
      "source": [
        "print(L[0])\n",
        "print(L[1])\n",
        "print(L[2])\n",
        "\n",
        "i=2\n",
        "print(L[i], \"es la posición=\", i)"
      ],
      "metadata": {
        "colab": {
          "base_uri": "https://localhost:8080/"
        },
        "id": "dEHX0C8hRcuk",
        "outputId": "6a290fde-5cd1-40f2-fd65-404ea004d0be"
      },
      "execution_count": 4,
      "outputs": [
        {
          "output_type": "stream",
          "name": "stdout",
          "text": [
            "Hola\n",
            "Adios\n",
            "Amir\n",
            "Amir es la posición= 2\n"
          ]
        }
      ]
    },
    {
      "cell_type": "code",
      "source": [
        "L=[\"Hola\", \"Adios\", \"Amir\"]\n",
        "print (\"mi lista es:\", L)\n",
        "for elem in L : #imprimo cada elemento en una lista\n",
        "                # estoy iterando sobre elementos de una lista\n",
        "                #ejecutar este trozo de código\n",
        "    print(elem)"
      ],
      "metadata": {
        "colab": {
          "base_uri": "https://localhost:8080/"
        },
        "id": "lzzShOm2SC7I",
        "outputId": "63dc6377-fed3-4854-eb8e-f5f3ccd3d338"
      },
      "execution_count": 11,
      "outputs": [
        {
          "output_type": "stream",
          "name": "stdout",
          "text": [
            "mi lista es: ['Hola', 'Adios', 'Amir']\n",
            "Hola\n",
            "Adios\n",
            "Amir\n"
          ]
        }
      ]
    },
    {
      "cell_type": "code",
      "source": [
        "for l in L :\n",
        "  print(l)"
      ],
      "metadata": {
        "colab": {
          "base_uri": "https://localhost:8080/"
        },
        "id": "w5sKu7RNTwOC",
        "outputId": "e68f5ce5-7414-4e6c-db9a-1a6f07904d0f"
      },
      "execution_count": 13,
      "outputs": [
        {
          "output_type": "stream",
          "name": "stdout",
          "text": [
            "Hola\n",
            "Adios\n",
            "Amir\n"
          ]
        }
      ]
    },
    {
      "cell_type": "code",
      "source": [
        "L=[\"Hola\", \"Adios\", \"Amir\"]\n",
        "for i in range(len(L)): #Recorr por indices. El range genera una secuencia de números.\n",
        "    print(L[i])                          # Genera una secuencia que va desde 0 hasta la longitud de la lista -1"
      ],
      "metadata": {
        "colab": {
          "base_uri": "https://localhost:8080/"
        },
        "id": "tTaAhN9JVDU7",
        "outputId": "d2d0f6b9-b758-4f41-8be4-d50bb75f7069"
      },
      "execution_count": 18,
      "outputs": [
        {
          "output_type": "stream",
          "name": "stdout",
          "text": [
            "Hola\n",
            "Adios\n",
            "Amir\n"
          ]
        }
      ]
    },
    {
      "cell_type": "code",
      "source": [
        "L=[\"Hola\", \"Adios\", \"Amir\"]\n",
        "i=0\n",
        "while i < len(L):\n",
        "  print(L[i])\n",
        "  i+=1"
      ],
      "metadata": {
        "colab": {
          "base_uri": "https://localhost:8080/"
        },
        "id": "tXahziCZWxWX",
        "outputId": "f05104f7-876e-4287-80b1-fed3ec749f12"
      },
      "execution_count": 19,
      "outputs": [
        {
          "output_type": "stream",
          "name": "stdout",
          "text": [
            "Hola\n",
            "Adios\n",
            "Amir\n"
          ]
        }
      ]
    },
    {
      "cell_type": "code",
      "source": [
        "for i in range(5):\n",
        "  print(i)"
      ],
      "metadata": {
        "colab": {
          "base_uri": "https://localhost:8080/"
        },
        "id": "TF2mb2ErWPbb",
        "outputId": "8187d169-1df8-4761-eecb-4cf952d931e9"
      },
      "execution_count": 20,
      "outputs": [
        {
          "output_type": "stream",
          "name": "stdout",
          "text": [
            "0\n",
            "1\n",
            "2\n",
            "3\n",
            "4\n"
          ]
        }
      ]
    },
    {
      "cell_type": "code",
      "source": [
        "L=[\"Hola\", \"Adios\", \"Amir\"]\n",
        "i=1\n",
        "n=len(L)\n",
        "for i in range(n): # i=0,1,2\n",
        "  print (\"en la posición\", i, \"está\", L[i])\n",
        "i"
      ],
      "metadata": {
        "colab": {
          "base_uri": "https://localhost:8080/"
        },
        "id": "_N9nHrkbXNN7",
        "outputId": "1155117a-0502-443c-b496-1296e9d9202c"
      },
      "execution_count": 27,
      "outputs": [
        {
          "output_type": "stream",
          "name": "stdout",
          "text": [
            "en la posición 0 está Hola\n",
            "en la posición 1 está Adios\n",
            "en la posición 2 está Amir\n"
          ]
        },
        {
          "output_type": "execute_result",
          "data": {
            "text/plain": [
              "2"
            ]
          },
          "metadata": {},
          "execution_count": 27
        }
      ]
    },
    {
      "cell_type": "code",
      "source": [
        "# sumar todos los números desde 1 hasta el n\n",
        "n=100\n",
        "suma=0\n",
        "for i in range(n+1):\n",
        "  suma = suma + i\n",
        "  print (i, \"mi suma es: \", suma)\n",
        "print (\"la suma total es\", suma)"
      ],
      "metadata": {
        "colab": {
          "base_uri": "https://localhost:8080/"
        },
        "id": "gOxlSw6BYOs7",
        "outputId": "a9521dfc-b234-4d50-dbb9-1b4fedc9cc04"
      },
      "execution_count": 30,
      "outputs": [
        {
          "output_type": "stream",
          "name": "stdout",
          "text": [
            "0 mi suma es:  0\n",
            "1 mi suma es:  1\n",
            "2 mi suma es:  3\n",
            "3 mi suma es:  6\n",
            "4 mi suma es:  10\n",
            "5 mi suma es:  15\n",
            "6 mi suma es:  21\n",
            "7 mi suma es:  28\n",
            "8 mi suma es:  36\n",
            "9 mi suma es:  45\n",
            "10 mi suma es:  55\n",
            "11 mi suma es:  66\n",
            "12 mi suma es:  78\n",
            "13 mi suma es:  91\n",
            "14 mi suma es:  105\n",
            "15 mi suma es:  120\n",
            "16 mi suma es:  136\n",
            "17 mi suma es:  153\n",
            "18 mi suma es:  171\n",
            "19 mi suma es:  190\n",
            "20 mi suma es:  210\n",
            "21 mi suma es:  231\n",
            "22 mi suma es:  253\n",
            "23 mi suma es:  276\n",
            "24 mi suma es:  300\n",
            "25 mi suma es:  325\n",
            "26 mi suma es:  351\n",
            "27 mi suma es:  378\n",
            "28 mi suma es:  406\n",
            "29 mi suma es:  435\n",
            "30 mi suma es:  465\n",
            "31 mi suma es:  496\n",
            "32 mi suma es:  528\n",
            "33 mi suma es:  561\n",
            "34 mi suma es:  595\n",
            "35 mi suma es:  630\n",
            "36 mi suma es:  666\n",
            "37 mi suma es:  703\n",
            "38 mi suma es:  741\n",
            "39 mi suma es:  780\n",
            "40 mi suma es:  820\n",
            "41 mi suma es:  861\n",
            "42 mi suma es:  903\n",
            "43 mi suma es:  946\n",
            "44 mi suma es:  990\n",
            "45 mi suma es:  1035\n",
            "46 mi suma es:  1081\n",
            "47 mi suma es:  1128\n",
            "48 mi suma es:  1176\n",
            "49 mi suma es:  1225\n",
            "50 mi suma es:  1275\n",
            "51 mi suma es:  1326\n",
            "52 mi suma es:  1378\n",
            "53 mi suma es:  1431\n",
            "54 mi suma es:  1485\n",
            "55 mi suma es:  1540\n",
            "56 mi suma es:  1596\n",
            "57 mi suma es:  1653\n",
            "58 mi suma es:  1711\n",
            "59 mi suma es:  1770\n",
            "60 mi suma es:  1830\n",
            "61 mi suma es:  1891\n",
            "62 mi suma es:  1953\n",
            "63 mi suma es:  2016\n",
            "64 mi suma es:  2080\n",
            "65 mi suma es:  2145\n",
            "66 mi suma es:  2211\n",
            "67 mi suma es:  2278\n",
            "68 mi suma es:  2346\n",
            "69 mi suma es:  2415\n",
            "70 mi suma es:  2485\n",
            "71 mi suma es:  2556\n",
            "72 mi suma es:  2628\n",
            "73 mi suma es:  2701\n",
            "74 mi suma es:  2775\n",
            "75 mi suma es:  2850\n",
            "76 mi suma es:  2926\n",
            "77 mi suma es:  3003\n",
            "78 mi suma es:  3081\n",
            "79 mi suma es:  3160\n",
            "80 mi suma es:  3240\n",
            "81 mi suma es:  3321\n",
            "82 mi suma es:  3403\n",
            "83 mi suma es:  3486\n",
            "84 mi suma es:  3570\n",
            "85 mi suma es:  3655\n",
            "86 mi suma es:  3741\n",
            "87 mi suma es:  3828\n",
            "88 mi suma es:  3916\n",
            "89 mi suma es:  4005\n",
            "90 mi suma es:  4095\n",
            "91 mi suma es:  4186\n",
            "92 mi suma es:  4278\n",
            "93 mi suma es:  4371\n",
            "94 mi suma es:  4465\n",
            "95 mi suma es:  4560\n",
            "96 mi suma es:  4656\n",
            "97 mi suma es:  4753\n",
            "98 mi suma es:  4851\n",
            "99 mi suma es:  4950\n",
            "100 mi suma es:  5050\n",
            "la suma total es 5050\n"
          ]
        }
      ]
    },
    {
      "cell_type": "code",
      "source": [
        "# sumar todos los números desde 1 hasta el n\n",
        "n=100000000000000000000000000000000000000000000000000000000000000000000000000000000000000000000\n",
        "suma = (n**2+n)/2\n",
        "suma"
      ],
      "metadata": {
        "colab": {
          "base_uri": "https://localhost:8080/"
        },
        "id": "w8YpSaZpbfh8",
        "outputId": "9b3e58c9-71a9-4592-d95b-2ad5d63e1ee3"
      },
      "execution_count": 33,
      "outputs": [
        {
          "output_type": "execute_result",
          "data": {
            "text/plain": [
              "5e+183"
            ]
          },
          "metadata": {},
          "execution_count": 33
        }
      ]
    },
    {
      "cell_type": "code",
      "source": [
        "for i in range (3,10):\n",
        "  print(i)"
      ],
      "metadata": {
        "colab": {
          "base_uri": "https://localhost:8080/"
        },
        "id": "YFSdfN3_cA6Y",
        "outputId": "207cdacb-a57c-460f-f7f0-a797d0025498"
      },
      "execution_count": 36,
      "outputs": [
        {
          "output_type": "stream",
          "name": "stdout",
          "text": [
            "3\n",
            "4\n",
            "5\n",
            "6\n",
            "7\n",
            "8\n",
            "9\n"
          ]
        }
      ]
    },
    {
      "cell_type": "code",
      "source": [
        "for i in range (11,5,-1):\n",
        "  print(i)"
      ],
      "metadata": {
        "colab": {
          "base_uri": "https://localhost:8080/"
        },
        "id": "XSFaH22zX9W8",
        "outputId": "f7f00a1d-6a7b-4ea0-b722-1d89cfc5794d"
      },
      "execution_count": 38,
      "outputs": [
        {
          "output_type": "stream",
          "name": "stdout",
          "text": [
            "11\n",
            "10\n",
            "9\n",
            "8\n",
            "7\n",
            "6\n"
          ]
        }
      ]
    },
    {
      "cell_type": "code",
      "source": [
        "#sumar los números al cuadrado desde 5 hasta n\n",
        "suma=0\n",
        "n=10\n",
        "for i in range (5, n+1):\n",
        "  suma=suma+(i**2)\n",
        "  print(suma)\n",
        "print(suma)\n",
        "\n"
      ],
      "metadata": {
        "colab": {
          "base_uri": "https://localhost:8080/"
        },
        "id": "8JJ2ko7pcs58",
        "outputId": "b1286941-33fc-4739-d5ea-625d234d3140"
      },
      "execution_count": 40,
      "outputs": [
        {
          "output_type": "stream",
          "name": "stdout",
          "text": [
            "25\n",
            "61\n",
            "110\n",
            "174\n",
            "255\n",
            "355\n",
            "355\n"
          ]
        }
      ]
    },
    {
      "cell_type": "code",
      "source": [
        "n=10\n",
        "L=[]\n",
        "for i in range(n+1):\n",
        "  L.append(i**2)\n",
        "print(L)"
      ],
      "metadata": {
        "colab": {
          "base_uri": "https://localhost:8080/"
        },
        "id": "njKQeHrddPIA",
        "outputId": "1da2d529-6a30-4c8e-c467-b22c2e7da41f"
      },
      "execution_count": 41,
      "outputs": [
        {
          "output_type": "stream",
          "name": "stdout",
          "text": [
            "[0, 1, 4, 9, 16, 25, 36, 49, 64, 81, 100]\n"
          ]
        }
      ]
    },
    {
      "cell_type": "code",
      "source": [
        "v= [3,2,4]\n",
        "w = [1,0,2]\n",
        "# v+w = [4,2,6]\n",
        "res=[]\n",
        "for i in range (len(v)):\n",
        "  res.append(v[i]+w[i])\n",
        "  print(i, \"suma=\", v[i]+w[i])\n",
        "print(res)\n",
        "\n"
      ],
      "metadata": {
        "colab": {
          "base_uri": "https://localhost:8080/"
        },
        "id": "cwYW4c1LdqtF",
        "outputId": "d45fe8c2-a1bc-488d-e62a-8db34e35f360"
      },
      "execution_count": 46,
      "outputs": [
        {
          "output_type": "stream",
          "name": "stdout",
          "text": [
            "0 suma= 4\n",
            "1 suma= 2\n",
            "2 suma= 6\n",
            "[4, 2, 6]\n"
          ]
        }
      ]
    },
    {
      "cell_type": "code",
      "source": [
        "L=[[1,2,3],[4,5,6],[7,8,9]]\n",
        "L2=[]\n",
        "for i in L:\n",
        "  for j in i:\n",
        "    L2.append(j)\n",
        "    print(L2)\n",
        ""
      ],
      "metadata": {
        "colab": {
          "base_uri": "https://localhost:8080/"
        },
        "id": "YNJORLF-uyam",
        "outputId": "18affc82-71c6-43fc-bb22-cebb167d095b"
      },
      "execution_count": 55,
      "outputs": [
        {
          "output_type": "stream",
          "name": "stdout",
          "text": [
            "[1]\n",
            "[1, 2]\n",
            "[1, 2, 3]\n",
            "[1, 2, 3, 4]\n",
            "[1, 2, 3, 4, 5]\n",
            "[1, 2, 3, 4, 5, 6]\n",
            "[1, 2, 3, 4, 5, 6, 7]\n",
            "[1, 2, 3, 4, 5, 6, 7, 8]\n",
            "[1, 2, 3, 4, 5, 6, 7, 8, 9]\n"
          ]
        }
      ]
    }
  ]
}