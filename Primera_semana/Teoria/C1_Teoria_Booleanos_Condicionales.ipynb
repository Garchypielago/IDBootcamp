{
 "cells": [
  {
   "cell_type": "code",
   "execution_count": null,
   "id": "0572bdfc-6fcc-40e9-b126-e16454427ab8",
   "metadata": {},
   "outputs": [],
   "source": [
    "#Booleanos\n",
    "#True(1) y False(0)\n"
   ]
  },
  {
   "cell_type": "code",
   "execution_count": 3,
   "id": "d50b4b1d-0b85-46d2-ad8d-10cfbe39f729",
   "metadata": {},
   "outputs": [
    {
     "data": {
      "text/plain": [
       "10"
      ]
     },
     "execution_count": 3,
     "metadata": {},
     "output_type": "execute_result"
    }
   ],
   "source": [
    "True*10 #es como si fuera un 1"
   ]
  },
  {
   "cell_type": "code",
   "execution_count": 4,
   "id": "e00dc07a-ac33-46ef-8820-0e6cc6a6af21",
   "metadata": {},
   "outputs": [
    {
     "data": {
      "text/plain": [
       "0"
      ]
     },
     "execution_count": 4,
     "metadata": {},
     "output_type": "execute_result"
    }
   ],
   "source": [
    "False*10 #es como si fuera un 0"
   ]
  },
  {
   "cell_type": "code",
   "execution_count": 5,
   "id": "8794cd3a-8e2b-4352-9772-257ff4c6ff94",
   "metadata": {},
   "outputs": [
    {
     "data": {
      "text/plain": [
       "False"
      ]
     },
     "execution_count": 5,
     "metadata": {},
     "output_type": "execute_result"
    }
   ],
   "source": [
    "#sentencias booleanas\n",
    "not True"
   ]
  },
  {
   "cell_type": "code",
   "execution_count": 8,
   "id": "968163ac-45b2-46af-83ff-ca4ed6d31110",
   "metadata": {},
   "outputs": [
    {
     "data": {
      "text/plain": [
       "False"
      ]
     },
     "execution_count": 8,
     "metadata": {},
     "output_type": "execute_result"
    }
   ],
   "source": [
    "True and False #esto es una condición booleana"
   ]
  },
  {
   "cell_type": "code",
   "execution_count": 10,
   "id": "63049cfd-0c00-4a1f-ab9c-6adf0ab5389c",
   "metadata": {},
   "outputs": [
    {
     "data": {
      "text/plain": [
       "False"
      ]
     },
     "execution_count": 10,
     "metadata": {},
     "output_type": "execute_result"
    }
   ],
   "source": [
    "True and True and False"
   ]
  },
  {
   "cell_type": "code",
   "execution_count": 13,
   "id": "9f3fdb40-0c5e-423c-a2cd-76b5dbc40cca",
   "metadata": {},
   "outputs": [
    {
     "data": {
      "text/plain": [
       "False"
      ]
     },
     "execution_count": 13,
     "metadata": {},
     "output_type": "execute_result"
    }
   ],
   "source": [
    "x=5\n",
    "x>3 and x>5 #es una condición booleana"
   ]
  },
  {
   "cell_type": "code",
   "execution_count": 15,
   "id": "edc4f66e-5730-468a-8e21-3adff82cb5fb",
   "metadata": {},
   "outputs": [
    {
     "data": {
      "text/plain": [
       "False"
      ]
     },
     "execution_count": 15,
     "metadata": {},
     "output_type": "execute_result"
    }
   ],
   "source": [
    "not (x>8 or x>1)"
   ]
  },
  {
   "cell_type": "code",
   "execution_count": 16,
   "id": "589d7091-5efe-4b62-b6e5-f18d891f718d",
   "metadata": {},
   "outputs": [
    {
     "data": {
      "text/plain": [
       "True"
      ]
     },
     "execution_count": 16,
     "metadata": {},
     "output_type": "execute_result"
    }
   ],
   "source": [
    "2!= 3"
   ]
  },
  {
   "cell_type": "code",
   "execution_count": 17,
   "id": "ddad2ea0-97aa-46d5-8788-a097e52ebc8d",
   "metadata": {},
   "outputs": [
    {
     "data": {
      "text/plain": [
       "False"
      ]
     },
     "execution_count": 17,
     "metadata": {},
     "output_type": "execute_result"
    }
   ],
   "source": [
    "2>3"
   ]
  },
  {
   "cell_type": "code",
   "execution_count": 18,
   "id": "4f102679-0b46-4491-a297-6dc71b0058ec",
   "metadata": {},
   "outputs": [
    {
     "data": {
      "text/plain": [
       "True"
      ]
     },
     "execution_count": 18,
     "metadata": {},
     "output_type": "execute_result"
    }
   ],
   "source": [
    "2<3"
   ]
  },
  {
   "cell_type": "code",
   "execution_count": 19,
   "id": "e8e00ffd-b234-4116-8577-00d1db16d417",
   "metadata": {},
   "outputs": [
    {
     "data": {
      "text/plain": [
       "True"
      ]
     },
     "execution_count": 19,
     "metadata": {},
     "output_type": "execute_result"
    }
   ],
   "source": [
    "X=4\n",
    "Y=3\n",
    "\n",
    "X==Y or Y<X #Falso o verdadero ---> True"
   ]
  },
  {
   "cell_type": "code",
   "execution_count": 22,
   "id": "2d5047fa-3367-4054-84cb-53642bc289b7",
   "metadata": {},
   "outputs": [
    {
     "data": {
      "text/plain": [
       "'hola'"
      ]
     },
     "execution_count": 22,
     "metadata": {},
     "output_type": "execute_result"
    }
   ],
   "source": [
    "x=2\n",
    "(x==2)*\"hola\""
   ]
  },
  {
   "cell_type": "code",
   "execution_count": 21,
   "id": "32b534b0-6dfc-49f8-85c5-de26b0ca956f",
   "metadata": {},
   "outputs": [
    {
     "data": {
      "text/plain": [
       "0"
      ]
     },
     "execution_count": 21,
     "metadata": {},
     "output_type": "execute_result"
    }
   ],
   "source": [
    "x=3\n",
    "(x==2)*2"
   ]
  },
  {
   "cell_type": "code",
   "execution_count": 27,
   "id": "bf1d82ed-dfa2-4d97-af47-8b933d20100e",
   "metadata": {},
   "outputs": [
    {
     "name": "stdout",
     "output_type": "stream",
     "text": [
      "1\n"
     ]
    },
    {
     "data": {
      "text/plain": [
       "2"
      ]
     },
     "execution_count": 27,
     "metadata": {},
     "output_type": "execute_result"
    }
   ],
   "source": [
    "# % == hace resto la divición\n",
    "print(4%3)\n",
    "5//2"
   ]
  },
  {
   "cell_type": "code",
   "execution_count": 31,
   "id": "564b1cbc-ea73-4a8d-b849-56db96fe8b6f",
   "metadata": {},
   "outputs": [
    {
     "data": {
      "text/plain": [
       "True"
      ]
     },
     "execution_count": 31,
     "metadata": {},
     "output_type": "execute_result"
    }
   ],
   "source": [
    "947892364826482742682384264828236482384268248642878%3 == 0"
   ]
  },
  {
   "cell_type": "markdown",
   "id": "dece241c-0277-45aa-b9e2-662c2cd33d9a",
   "metadata": {},
   "source": [
    "CONDICIONALES"
   ]
  },
  {
   "cell_type": "code",
   "execution_count": null,
   "id": "f2328220-8579-4d67-a379-22f7e3fb5048",
   "metadata": {},
   "outputs": [],
   "source": [
    "# IF / ELSE\n",
    "# ELIF\n"
   ]
  },
  {
   "cell_type": "code",
   "execution_count": 32,
   "id": "dc92f35e-0d6e-433d-84ea-f613e0769d39",
   "metadata": {},
   "outputs": [
    {
     "name": "stdout",
     "output_type": "stream",
     "text": [
      "si\n",
      "hola\n",
      "fuera. Se ejecuta siempre\n"
     ]
    }
   ],
   "source": [
    "if True:\n",
    "    print (\"si\")\n",
    "    print (\"hola\")\n",
    "\n",
    "print (\"fuera. Se ejecuta siempre\")"
   ]
  },
  {
   "cell_type": "code",
   "execution_count": 33,
   "id": "1ede0311-b861-4b6e-a122-031bb49c498c",
   "metadata": {},
   "outputs": [
    {
     "name": "stdout",
     "output_type": "stream",
     "text": [
      "fuera. Se ejecuta siempre\n"
     ]
    }
   ],
   "source": [
    "if False:\n",
    "    print (\"si\")\n",
    "    print (\"hola\")\n",
    "\n",
    "print (\"fuera. Se ejecuta siempre\")"
   ]
  },
  {
   "cell_type": "code",
   "execution_count": 35,
   "id": "2b1ad1b7-5e6a-4d01-9cb7-1c81586e1a5d",
   "metadata": {},
   "outputs": [
    {
     "name": "stdout",
     "output_type": "stream",
     "text": [
      "hola\n",
      "adios\n",
      "hoy es 7 de mayo\n"
     ]
    }
   ],
   "source": [
    "x=20\n",
    "if x>18 :\n",
    "    print (\"hola\")\n",
    "    print (\"adios\")\n",
    "\n",
    "\n",
    "print(\"hoy es 7 de mayo\")\n"
   ]
  },
  {
   "cell_type": "code",
   "execution_count": 39,
   "id": "25068386-0506-447e-bfb6-2158cbf4b380",
   "metadata": {},
   "outputs": [],
   "source": [
    "y=8\n",
    "x=9\n",
    "if y>=8:\n",
    "    if x==10:\n",
    "        print(\"hola\")\n",
    "        print (\"adios\")\n",
    "\n"
   ]
  },
  {
   "cell_type": "code",
   "execution_count": 40,
   "id": "7769a199-0ff8-4999-a757-86c53ace71de",
   "metadata": {},
   "outputs": [],
   "source": [
    "x=7\n",
    "if x>10:\n",
    "    print (\"hola\")\n",
    "    if x>5:\n",
    "        print (\"sigue\")"
   ]
  },
  {
   "cell_type": "code",
   "execution_count": null,
   "id": "1dc4b1bc-1c56-43ce-b024-4485d9426be8",
   "metadata": {},
   "outputs": [],
   "source": [
    "# utilizando el if y el else, y dada un numero x, decid si es par o no es par\n"
   ]
  },
  {
   "cell_type": "code",
   "execution_count": 41,
   "id": "121b6472-3cf3-45b6-b5c6-d5770b3eaf74",
   "metadata": {},
   "outputs": [
    {
     "name": "stdout",
     "output_type": "stream",
     "text": [
      "137893798123978 es par\n"
     ]
    }
   ],
   "source": [
    "x=137893798123978\n",
    "if x%2==0 :\n",
    "    print (x, \"es par\")\n",
    "else:\n",
    "    print (x, \"es impar\")\n",
    "    "
   ]
  },
  {
   "cell_type": "code",
   "execution_count": 42,
   "id": "5d8bf93b-5d00-47b8-b0ac-beef93bbdcb7",
   "metadata": {},
   "outputs": [
    {
     "name": "stdout",
     "output_type": "stream",
     "text": [
      "adolescente\n"
     ]
    }
   ],
   "source": [
    "# dada una edad, si es mayor que 12, si es menor que 17, edad es multiplo de 5, entonces que imprima \"adolescente\"\n",
    "edad=15\n",
    "if edad>12 and edad <17 and edad%5==0 :\n",
    "    print (\"adolescente\")\n"
   ]
  },
  {
   "cell_type": "code",
   "execution_count": 44,
   "id": "b1bd52f9-75c9-4b93-af07-fc2cb0ba7ef9",
   "metadata": {},
   "outputs": [
    {
     "data": {
      "text/plain": [
       "'es par'"
      ]
     },
     "execution_count": 44,
     "metadata": {},
     "output_type": "execute_result"
    }
   ],
   "source": [
    "x=137893798123978\n",
    "\n",
    "\"es par\" if x%2==0 else \"es impar\" #if else compacto"
   ]
  },
  {
   "cell_type": "code",
   "execution_count": 45,
   "id": "249baead-afec-415c-a302-aafdf4dfbbd7",
   "metadata": {},
   "outputs": [],
   "source": [
    "a=6\n",
    "b=7\n",
    "maximo = a if a>b else b"
   ]
  },
  {
   "cell_type": "code",
   "execution_count": 46,
   "id": "054158a9-fb46-47c4-a3b5-abe4db2d3bad",
   "metadata": {},
   "outputs": [
    {
     "data": {
      "text/plain": [
       "7"
      ]
     },
     "execution_count": 46,
     "metadata": {},
     "output_type": "execute_result"
    }
   ],
   "source": [
    "maximo"
   ]
  },
  {
   "cell_type": "code",
   "execution_count": 48,
   "id": "07f474a1-e8a6-48c4-b4bd-c0c9533b2e99",
   "metadata": {},
   "outputs": [
    {
     "name": "stdin",
     "output_type": "stream",
     "text": [
      "dime un número 3478923478423872348372\n"
     ]
    },
    {
     "data": {
      "text/plain": [
       "3.4789234784238725e+21"
      ]
     },
     "execution_count": 48,
     "metadata": {},
     "output_type": "execute_result"
    }
   ],
   "source": [
    "n= float(input(\"dime un número\"))\n",
    "n"
   ]
  },
  {
   "cell_type": "code",
   "execution_count": 53,
   "id": "5149e73d-8e9c-449a-94c1-bd31ced0c0f0",
   "metadata": {},
   "outputs": [
    {
     "name": "stdin",
     "output_type": "stream",
     "text": [
      "dime una edad 17\n"
     ]
    },
    {
     "name": "stdout",
     "output_type": "stream",
     "text": [
      "adolescente\n"
     ]
    }
   ],
   "source": [
    "#ELIF\n",
    "\n",
    "edad = int(input(\"dime una edad\"))\n",
    "if edad < 13 : #observo la primera condición\n",
    "    print (\"niño\")\n",
    "elif edad <18: #se ejecuta si la condición anterior NO se cumple.\n",
    "    print (\"adolescente\")\n",
    "else:\n",
    "    print (\"adulto\")"
   ]
  }
 ],
 "metadata": {
  "kernelspec": {
   "display_name": "Python 3 (ipykernel)",
   "language": "python",
   "name": "python3"
  },
  "language_info": {
   "codemirror_mode": {
    "name": "ipython",
    "version": 3
   },
   "file_extension": ".py",
   "mimetype": "text/x-python",
   "name": "python",
   "nbconvert_exporter": "python",
   "pygments_lexer": "ipython3",
   "version": "3.11.7"
  }
 },
 "nbformat": 4,
 "nbformat_minor": 5
}
