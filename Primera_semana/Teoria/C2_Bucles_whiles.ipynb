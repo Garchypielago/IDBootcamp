{
 "cells": [
  {
   "cell_type": "markdown",
   "metadata": {},
   "source": [
    "# Bucles while\n",
    "* Condicion y variable externa\n",
    "* break\n",
    "* while else\n",
    "* fibonacci"
   ]
  },
  {
   "cell_type": "code",
   "execution_count": 6,
   "metadata": {},
   "outputs": [],
   "source": [
    "i = 0"
   ]
  },
  {
   "cell_type": "code",
   "execution_count": 7,
   "metadata": {},
   "outputs": [
    {
     "name": "stdout",
     "output_type": "stream",
     "text": [
      "0\n"
     ]
    }
   ],
   "source": [
    "# primera iteracion\n",
    "if i < 5: # i=0 < 5\n",
    "    print(i) # 0\n",
    "    i = i+1 # se suma 1 a i\n",
    "    "
   ]
  },
  {
   "cell_type": "code",
   "execution_count": 8,
   "metadata": {},
   "outputs": [],
   "source": [
    "# este trozo de codigo que hace? \n",
    "# imprime un numero y lo incrementa en 1"
   ]
  },
  {
   "cell_type": "code",
   "execution_count": 9,
   "metadata": {},
   "outputs": [
    {
     "name": "stdout",
     "output_type": "stream",
     "text": [
      "1\n",
      "2\n",
      "3\n",
      "4\n"
     ]
    }
   ],
   "source": [
    "# segunda iteracion\n",
    "if i < 5: # i = 1 < 5\n",
    "    print(i) # 1\n",
    "    i = i+1 # se suma 1 a i\n",
    "if i < 5: # i = 1 < 5\n",
    "    print(i) # 1\n",
    "    i = i+1 # se suma 1 a i\n",
    "if i < 5: # i = 1 < 5\n",
    "    print(i) # 1\n",
    "    i = i+1 # se suma 1 a i\n",
    "if i < 5: # i = 1 < 5\n",
    "    print(i) # 1\n",
    "    i = i+1 # se suma 1 a i\n",
    "if i < 5: # i = 1 < 5\n",
    "    print(i) # 1\n",
    "    i = i+1 # se suma 1 a i\n",
    "if i < 5: # i = 1 < 5\n",
    "    print(i) # 1\n",
    "    i = i+1 # se suma 1 a i\n",
    "if i < 5: # i = 1 < 5\n",
    "    print(i) # 1\n",
    "    i = i+1 # se suma 1 a i\n",
    "if i < 5: # i = 1 < 5\n",
    "    print(i) # 1\n",
    "    i = i+1 # se suma 1 a i\n",
    "if i < 5: # i = 1 < 5\n",
    "    print(i) # 1\n",
    "    i = i+1 # se suma 1 a i\n",
    "if i < 5: # i = 1 < 5\n",
    "    print(i) # 1\n",
    "    i = i+1 # se suma 1 a i    "
   ]
  },
  {
   "cell_type": "code",
   "execution_count": 10,
   "metadata": {},
   "outputs": [],
   "source": [
    "i = 0"
   ]
  },
  {
   "cell_type": "code",
   "execution_count": 11,
   "metadata": {},
   "outputs": [
    {
     "name": "stdout",
     "output_type": "stream",
     "text": [
      "0\n"
     ]
    }
   ],
   "source": [
    "if i < 5: # i = 1 < 5\n",
    "    print(i) # 1\n",
    "    i = i+1 # se suma 1 a i  "
   ]
  },
  {
   "cell_type": "code",
   "execution_count": null,
   "metadata": {},
   "outputs": [],
   "source": []
  },
  {
   "cell_type": "markdown",
   "metadata": {},
   "source": [
    "```python\n",
    "inicializar_variables\n",
    "while condicion: #mientras se cumpla la condicion\n",
    "    codigo # ejecutamos el codigo\n",
    "    actualizar_variables # para que la condición en algun momento no se cumpla\n",
    "    # cuando terminamos el codigo volvemos a mirar la condicion\n",
    "    \n",
    "```"
   ]
  },
  {
   "cell_type": "code",
   "execution_count": 12,
   "metadata": {},
   "outputs": [
    {
     "name": "stdout",
     "output_type": "stream",
     "text": [
      "1\n"
     ]
    }
   ],
   "source": [
    "i=0\n",
    "i=i+1 # i = 0+1 = 1\n",
    "print(i)"
   ]
  },
  {
   "cell_type": "code",
   "execution_count": 13,
   "metadata": {},
   "outputs": [
    {
     "name": "stdout",
     "output_type": "stream",
     "text": [
      "6\n"
     ]
    }
   ],
   "source": [
    "i=0\n",
    "i+=1 # == i=i+1\n",
    "i+=2 # == i=i+2\n",
    "i*=2 # == i=i*2\n",
    "print(i)"
   ]
  },
  {
   "cell_type": "code",
   "execution_count": 14,
   "metadata": {},
   "outputs": [
    {
     "name": "stdout",
     "output_type": "stream",
     "text": [
      "iteración 1\n",
      "iteración 2\n",
      "iteración 3\n",
      "iteración 4\n",
      "iteración 5\n",
      "FIN\n"
     ]
    }
   ],
   "source": [
    "i = 0 # inicializo desde 0 (quiero que llegue hasta 5)\n",
    "while i < 5: # (if) hay una condicion que mientras se cumple se va a repetir el bucle\n",
    "    i =i + 1 #  -> i=i+1 # se necesita ACTUALIZAR la variable    \n",
    "    # en este caso la condicion depende de una variable,     \n",
    "    print(\"iteración\", i)\n",
    "print(\"FIN\")\n",
    "# es impotante que el bucle se termine\n",
    "#"
   ]
  },
  {
   "cell_type": "code",
   "execution_count": 15,
   "metadata": {},
   "outputs": [
    {
     "name": "stdout",
     "output_type": "stream",
     "text": [
      "2 al cuadrado 4 al cubo 8\n"
     ]
    }
   ],
   "source": [
    "x=2\n",
    "print(x, \"al cuadrado\", x**2, \"al cubo\", x**3)"
   ]
  },
  {
   "cell_type": "code",
   "execution_count": 16,
   "metadata": {},
   "outputs": [
    {
     "name": "stdout",
     "output_type": "stream",
     "text": [
      "Iteración 0 cuadrado = 0\n",
      "Iteración 1 cuadrado = 1\n",
      "Iteración 2 cuadrado = 4\n",
      "Iteración 3 cuadrado = 9\n",
      "Iteración 4 cuadrado = 16\n",
      "Iteración 5 cuadrado = 25\n",
      "Iteración 6 cuadrado = 36\n",
      "Iteración 7 cuadrado = 49\n",
      "Iteración 8 cuadrado = 64\n",
      "Iteración 9 cuadrado = 81\n"
     ]
    }
   ],
   "source": [
    "# imprimir los numeros cuadrados desde 0 hasta n\n",
    "i=0\n",
    "n=10\n",
    "while i < n:\n",
    "    print(\"Iteración\", i, \"cuadrado =\", i**2)\n",
    "    i=i+1"
   ]
  },
  {
   "cell_type": "code",
   "execution_count": 17,
   "metadata": {},
   "outputs": [
    {
     "name": "stdout",
     "output_type": "stream",
     "text": [
      "Iteración 10 cuadrado = 100\n",
      "Iteración 11 cuadrado = 121\n",
      "Iteración 12 cuadrado = 144\n",
      "Iteración 13 cuadrado = 169\n",
      "Iteración 14 cuadrado = 196\n",
      "Iteración 15 cuadrado = 225\n"
     ]
    }
   ],
   "source": [
    "# imprimir los numeros cuadrados desde 0 hasta n\n",
    "i=10\n",
    "n=15\n",
    "while i <= n:\n",
    "    cuadrado = i**2 # declaro una variable que vale el cuadrado de i\n",
    "    print(\"Iteración\", i, \"cuadrado =\", cuadrado)\n",
    "    i=i+1"
   ]
  },
  {
   "cell_type": "code",
   "execution_count": 18,
   "metadata": {},
   "outputs": [
    {
     "data": {
      "text/plain": [
       "16"
      ]
     },
     "execution_count": 18,
     "metadata": {},
     "output_type": "execute_result"
    }
   ],
   "source": [
    "i"
   ]
  },
  {
   "cell_type": "code",
   "execution_count": 19,
   "metadata": {},
   "outputs": [
    {
     "name": "stdout",
     "output_type": "stream",
     "text": [
      "0 suma =  0\n",
      "1 suma =  1\n",
      "2 suma =  3\n",
      "3 suma =  6\n",
      "4 suma =  10\n",
      "5 suma =  15\n",
      "15\n"
     ]
    }
   ],
   "source": [
    "i = 0\n",
    "suma = 0\n",
    "while i <= 5:\n",
    "    suma = suma + i\n",
    "    print(i, \"suma = \", suma)\n",
    "    i=i+1\n",
    "print(suma)"
   ]
  },
  {
   "cell_type": "code",
   "execution_count": 20,
   "metadata": {},
   "outputs": [
    {
     "name": "stdout",
     "output_type": "stream",
     "text": [
      "i = 0 suma = 0\n",
      "i al final 1\n",
      "**********************************\n",
      "i = 1 suma = 0\n",
      "i al final 2\n",
      "**********************************\n",
      "i = 2 suma = 1\n",
      "i al final 3\n",
      "**********************************\n",
      "i = 3 suma = 3\n",
      "i al final 4\n",
      "**********************************\n",
      "i = 4 suma = 6\n",
      "i al final 5\n",
      "**********************************\n",
      "i = 5 suma = 10\n",
      "i al final 6\n",
      "**********************************\n",
      "suma 15\n"
     ]
    }
   ],
   "source": [
    "i = 0\n",
    "suma = 0 \n",
    "while i <= 5:\n",
    "    print(\"i =\", i, \"suma =\", suma)\n",
    "    suma = suma + i\n",
    "    i+=1\n",
    "    print(\"i al final\", i)\n",
    "    print(\"**********************************\")\n",
    "print(\"suma\", suma)"
   ]
  },
  {
   "cell_type": "markdown",
   "metadata": {},
   "source": [
    "\n",
    "#### Sumar los numeros  cuadrados de 1 hasta n"
   ]
  },
  {
   "cell_type": "code",
   "execution_count": 34,
   "metadata": {},
   "outputs": [
    {
     "name": "stdout",
     "output_type": "stream",
     "text": [
      "iter 1 suma 1\n",
      "iter 2 suma 3\n",
      "iter 3 suma 6\n",
      "iter 4 suma 10\n",
      "iter 5 suma 15\n",
      "iter 6 suma 21\n",
      "iter 7 suma 28\n",
      "iter 8 suma 36\n",
      "iter 9 suma 45\n",
      "iter 10 suma 55\n",
      "55\n"
     ]
    }
   ],
   "source": [
    "i = 1\n",
    "n = 10\n",
    "suma = 0\n",
    "while i <= n:\n",
    "    suma = suma + i \n",
    "    # la suma empieza en 0 y al final suma = 0+1+2+3+4+5+6+..+n\n",
    "    # suma = suma + \n",
    "    print(\"iter\", i, \"suma\", suma)\n",
    "    i =i+1  \n",
    "print(suma)"
   ]
  },
  {
   "cell_type": "code",
   "execution_count": 56,
   "metadata": {},
   "outputs": [
    {
     "name": "stdout",
     "output_type": "stream",
     "text": [
      "iter: 1 . resultado anterior mas 1 al cuadrado: 1\n",
      "iter: 2 . resultado anterior mas 2 al cuadrado: 5\n",
      "iter: 3 . resultado anterior mas 3 al cuadrado: 14\n",
      "iter: 4 . resultado anterior mas 4 al cuadrado: 30\n",
      "iter: 5 . resultado anterior mas 5 al cuadrado: 55\n",
      "iter: 6 . resultado anterior mas 6 al cuadrado: 91\n",
      "iter: 7 . resultado anterior mas 7 al cuadrado: 140\n",
      "iter: 8 . resultado anterior mas 8 al cuadrado: 204\n",
      "iter: 9 . resultado anterior mas 9 al cuadrado: 285\n",
      "iter: 10 . resultado anterior mas 10 al cuadrado: 385\n",
      "385\n"
     ]
    }
   ],
   "source": [
    "i = 1\n",
    "n = 10\n",
    "suma = 0\n",
    "while i <= n:\n",
    "    suma = suma + i**2\n",
    "    print(\"iter:\", i, \". resultado anterior mas\", i, \"al cuadrado:\", suma)\n",
    "    i =i+1  \n",
    "print(suma)"
   ]
  },
  {
   "cell_type": "markdown",
   "metadata": {},
   "source": [
    "#### Restar a 100 los numeros de 1 hasta n\n",
    "Ej. n = 5 => resultado=100-1-2-3-4-5"
   ]
  },
  {
   "cell_type": "code",
   "execution_count": 48,
   "metadata": {},
   "outputs": [
    {
     "name": "stdout",
     "output_type": "stream",
     "text": [
      "99 - 1\n",
      "97 - 2\n",
      "94 - 3\n",
      "90 - 4\n",
      "85 - 5\n",
      "85\n"
     ]
    }
   ],
   "source": [
    "i = 1\n",
    "n = 5\n",
    "cien = 100\n",
    "while i<=n:\n",
    "    cien -= i\n",
    "    print(cien,\"-\",i)\n",
    "    i += 1\n",
    "print(cien)"
   ]
  },
  {
   "cell_type": "markdown",
   "metadata": {},
   "source": [
    "#### Ejercicio: Sumar los numeros divisibles por 3 de 1 hasta n"
   ]
  },
  {
   "cell_type": "code",
   "execution_count": 22,
   "metadata": {},
   "outputs": [
    {
     "name": "stdout",
     "output_type": "stream",
     "text": [
      "6246 es divisible por 3\n"
     ]
    }
   ],
   "source": [
    "x = 6246\n",
    "if x%3==0:\n",
    "    print(x, \"es divisible por 3\")"
   ]
  },
  {
   "cell_type": "code",
   "execution_count": 44,
   "metadata": {},
   "outputs": [
    {
     "name": "stdout",
     "output_type": "stream",
     "text": [
      "6505209\n"
     ]
    }
   ],
   "source": [
    "i = 1\n",
    "x = 6246\n",
    "resul = 0\n",
    "while i <= x:\n",
    "    if i%3==0:\n",
    "        resul += i\n",
    "    i += 1\n",
    "print(resul)"
   ]
  },
  {
   "cell_type": "markdown",
   "metadata": {},
   "source": [
    "### Ejercicio: Dado un N encontrar los numeros divisibles de N y ponerlos en una lista"
   ]
  },
  {
   "cell_type": "code",
   "execution_count": 54,
   "metadata": {},
   "outputs": [
    {
     "name": "stdout",
     "output_type": "stream",
     "text": [
      "[50, 48, 46, 44, 42, 40, 38, 36, 34, 32, 30, 28, 26, 24, 22, 20, 18, 16, 14, 12, 10, 8, 6, 4]\n"
     ]
    }
   ],
   "source": [
    "i=50\n",
    "n = 2\n",
    "lista = []\n",
    "\n",
    "while i > n:\n",
    "    if i%n==0:\n",
    "        lista.append(i)\n",
    "    i -= 1\n",
    "print(lista)"
   ]
  },
  {
   "cell_type": "code",
   "execution_count": 57,
   "metadata": {},
   "outputs": [
    {
     "name": "stdout",
     "output_type": "stream",
     "text": [
      "24\n"
     ]
    }
   ],
   "source": [
    "i=50\n",
    "n = 2\n",
    "contador = 0\n",
    "\n",
    "while i > n:\n",
    "    if i%n==0:\n",
    "        contador += 1\n",
    "    i -= 1\n",
    "print(contador)"
   ]
  },
  {
   "cell_type": "markdown",
   "metadata": {},
   "source": [
    "## palabras reservadas del while\n",
    "* Continue = salta a la siguiente iteracion\n",
    "* Break = romper el bucle\n",
    "* Else = una accion al finalizar el bucle\n",
    "* Recorrer lista"
   ]
  },
  {
   "cell_type": "markdown",
   "metadata": {},
   "source": [
    "#### Continue"
   ]
  },
  {
   "cell_type": "code",
   "execution_count": 23,
   "metadata": {},
   "outputs": [
    {
     "name": "stdout",
     "output_type": "stream",
     "text": [
      "1\n",
      "2\n",
      "3\n",
      "4\n",
      "6\n",
      "7\n",
      "8\n",
      "9\n",
      "10\n"
     ]
    }
   ],
   "source": [
    "n = 10 # desde 10 \n",
    "i = 0\n",
    "while i < n: # desde 0 hasta 10\n",
    "    \n",
    "    i=i+1 # Actualizando de 1 en 1\n",
    "    if i == 5:\n",
    "        continue # sirve para saltar a la siguiente iteracion\n",
    "    print(i) # esta fuera del if, pero cuando n==5, el continue lo salta\n",
    "\n",
    "    "
   ]
  },
  {
   "cell_type": "code",
   "execution_count": 24,
   "metadata": {},
   "outputs": [
    {
     "name": "stdout",
     "output_type": "stream",
     "text": [
      "10\n",
      "9\n",
      "8\n",
      "7\n",
      "6\n",
      "5\n",
      "4\n",
      "3\n",
      "2\n",
      "1\n",
      "0\n",
      "He salido\n"
     ]
    }
   ],
   "source": [
    "n = 10\n",
    "while n >= 0:\n",
    "    print(n)\n",
    "    n=n-1\n",
    "else:\n",
    "    print(\"He salido\")"
   ]
  },
  {
   "cell_type": "code",
   "execution_count": 25,
   "metadata": {},
   "outputs": [
    {
     "name": "stdout",
     "output_type": "stream",
     "text": [
      "10\n",
      "9\n",
      "8\n",
      "Error\n"
     ]
    }
   ],
   "source": [
    "n = 10\n",
    "while n >= 0:\n",
    "    print(n)\n",
    "    n=n-1\n",
    "    if n%7==0:\n",
    "        print(\"Error\")\n",
    "        break # esto hace que nos salgamos del bucle\n",
    "else: # es parte del bucle\n",
    "    print(\"Proceso finalizado\")"
   ]
  },
  {
   "cell_type": "code",
   "execution_count": 26,
   "metadata": {},
   "outputs": [
    {
     "name": "stdout",
     "output_type": "stream",
     "text": [
      "10\n",
      "9\n",
      "8\n",
      "7\n",
      "6\n",
      "5\n",
      "4\n",
      "3\n",
      "2\n",
      "1\n",
      "0\n",
      "He salido\n"
     ]
    }
   ],
   "source": [
    "n = 10\n",
    "while n >= 0:\n",
    "    print(n)\n",
    "    n=n-1\n",
    "print(\"He salido\")"
   ]
  },
  {
   "cell_type": "markdown",
   "metadata": {},
   "source": [
    "#### break"
   ]
  },
  {
   "cell_type": "code",
   "execution_count": 27,
   "metadata": {},
   "outputs": [
    {
     "name": "stdout",
     "output_type": "stream",
     "text": [
      "10\n",
      "9\n",
      "8\n",
      "7\n",
      "6\n",
      "Error\n"
     ]
    }
   ],
   "source": [
    "n = 10\n",
    "while True: # mientras siempre\n",
    "    print(n)\n",
    "    n=n-1\n",
    "    if n == 5: # si n es menor que 0 rompe el bucle\n",
    "        print(\"Error\")\n",
    "        break # si se ejecuta un break, el else del final del while no se ejecuta\n",
    "else: # es al final del while si no se cumple la condicion del while\n",
    "    print(\"Solucion encontrada\")\n"
   ]
  },
  {
   "cell_type": "markdown",
   "metadata": {},
   "source": [
    "### Recorro una lista\n",
    "### len(L) es su longitud\n",
    "##### len se puede aplicar a un objeto iterable (listas, tuplas, diccionarios..) no a los numeros"
   ]
  },
  {
   "cell_type": "code",
   "execution_count": 28,
   "metadata": {},
   "outputs": [],
   "source": [
    "L=[10,20,30]"
   ]
  },
  {
   "cell_type": "code",
   "execution_count": 29,
   "metadata": {},
   "outputs": [
    {
     "data": {
      "text/plain": [
       "30"
      ]
     },
     "execution_count": 29,
     "metadata": {},
     "output_type": "execute_result"
    }
   ],
   "source": [
    "i=len(L)-1\n",
    "L[i]"
   ]
  },
  {
   "cell_type": "code",
   "execution_count": 30,
   "metadata": {},
   "outputs": [],
   "source": [
    "#0 <=i < len(L)"
   ]
  },
  {
   "cell_type": "code",
   "execution_count": 31,
   "metadata": {},
   "outputs": [
    {
     "ename": "IndexError",
     "evalue": "list index out of range",
     "output_type": "error",
     "traceback": [
      "\u001b[1;31m---------------------------------------------------------------------------\u001b[0m",
      "\u001b[1;31mIndexError\u001b[0m                                Traceback (most recent call last)",
      "Cell \u001b[1;32mIn[31], line 1\u001b[0m\n\u001b[1;32m----> 1\u001b[0m L[\u001b[38;5;241m5\u001b[39m]\n",
      "\u001b[1;31mIndexError\u001b[0m: list index out of range"
     ]
    }
   ],
   "source": [
    "L[5]# esta posicion no existe"
   ]
  },
  {
   "cell_type": "code",
   "execution_count": null,
   "metadata": {},
   "outputs": [
    {
     "name": "stdout",
     "output_type": "stream",
     "text": [
      "0 pos 10\n",
      "1 pos 20\n",
      "2 pos 30\n"
     ]
    }
   ],
   "source": [
    "i = 0 # i es el indice va desde 0 hasta 2\n",
    "# recorro una lista por indices\n",
    "while i < len(L):\n",
    "    print(i, \"pos\", L[i])\n",
    "    i += 1"
   ]
  },
  {
   "cell_type": "code",
   "execution_count": null,
   "metadata": {},
   "outputs": [
    {
     "name": "stdout",
     "output_type": "stream",
     "text": [
      "pos 0 elem 1\n",
      "pos 1 elem 2\n",
      "pos 2 elem 6\n",
      "pos 3 elem 3\n",
      "pos 4 elem 4\n"
     ]
    }
   ],
   "source": [
    "L = [1,2,6,3,4] # len(L) = 5\n",
    "i = 0 # en while tengo que crear variables antes\n",
    "# i es nuestra posición de la lista (o indice)\n",
    "while i < len(L): # posicion sea menor que 5\n",
    "    print(\"pos\", i,\"elem\", L[i]) # imprimir la posicion i de la lista\n",
    "    i += 1 # i = i+1, actualizo la posicion"
   ]
  },
  {
   "cell_type": "markdown",
   "metadata": {},
   "source": [
    "### Sumar los elementos de una lista"
   ]
  },
  {
   "cell_type": "code",
   "execution_count": 66,
   "metadata": {
    "scrolled": false
   },
   "outputs": [
    {
     "name": "stdout",
     "output_type": "stream",
     "text": [
      "3 suma a 0\n",
      "6 suma a 3\n",
      "2 suma a 9\n",
      "7 suma a 11\n",
      "8 suma a 18\n",
      "26\n"
     ]
    }
   ],
   "source": [
    "L=[3,6,2,7,8]\n",
    "i = 0\n",
    "suma = 0\n",
    "while i < len(L):\n",
    "    print(L[i], \"suma a\", suma)\n",
    "    suma += L[i]\n",
    "    i += 1\n",
    "print(suma)\n"
   ]
  },
  {
   "cell_type": "markdown",
   "metadata": {},
   "source": [
    "### Cuenta el numero de 2 que hay en una lista numerica"
   ]
  },
  {
   "cell_type": "code",
   "execution_count": null,
   "metadata": {},
   "outputs": [
    {
     "data": {
      "text/plain": [
       "False"
      ]
     },
     "execution_count": 10,
     "metadata": {},
     "output_type": "execute_result"
    }
   ],
   "source": [
    "L = [2,3,4,5,6,2,3,2,2] # 4\n",
    "L[3] == 2"
   ]
  },
  {
   "cell_type": "markdown",
   "metadata": {},
   "source": [
    "#### Ejercicio : creacion de una lista de 0 0s, 1 1, 2 doses,..., n ns\n",
    "Primero intenta crear una lista con n ns. por ejemplo [3,3,3]\n"
   ]
  },
  {
   "cell_type": "code",
   "execution_count": 76,
   "metadata": {
    "scrolled": true
   },
   "outputs": [
    {
     "name": "stdout",
     "output_type": "stream",
     "text": [
      "[1, 2, 2, 3, 3, 3, 4, 4, 4, 4, 5, 5, 5, 5, 5]\n"
     ]
    }
   ],
   "source": [
    "\n",
    "# [1,2,2,3,3,3,4,4,4,4,5,5,5,5,5]\n",
    "# .extend()\n",
    "n = 5\n",
    "i = 0\n",
    "l = []\n",
    "\n",
    "while i<=n:\n",
    "    j = 0\n",
    "    while j<i:\n",
    "        l.append(i)\n",
    "        j += 1\n",
    "    i += 1\n",
    "print(l)\n"
   ]
  },
  {
   "cell_type": "markdown",
   "metadata": {},
   "source": [
    "###### Ejercicio: Dada una lista de numeros enteros, suma los elementos que esten en posiciones divisibles por 3 o 5\n"
   ]
  },
  {
   "cell_type": "code",
   "execution_count": 80,
   "metadata": {},
   "outputs": [
    {
     "name": "stdout",
     "output_type": "stream",
     "text": [
      "22\n"
     ]
    }
   ],
   "source": [
    "L=[1,3,2,4,5,3,4,5,6,7]\n",
    "# 0, 3, 5, 6, 9, 10\n",
    "# 1, 4, 3, 4, 7 = 22\n",
    "i = 0\n",
    "suma=0\n",
    "while i < len(L):\n",
    "    if L[i]%3==0 or L[i]%5==0:\n",
    "        suma += L[i]\n",
    "    i += 1\n",
    "print(suma)"
   ]
  },
  {
   "cell_type": "markdown",
   "metadata": {},
   "source": [
    "### SWAP"
   ]
  },
  {
   "cell_type": "code",
   "execution_count": 82,
   "metadata": {},
   "outputs": [
    {
     "data": {
      "text/plain": [
       "(3, 5)"
      ]
     },
     "execution_count": 82,
     "metadata": {},
     "output_type": "execute_result"
    }
   ],
   "source": [
    "a = 5\n",
    "b = 3\n",
    "aux = b \n",
    "b = a \n",
    "a = aux \n",
    "a , b"
   ]
  },
  {
   "cell_type": "code",
   "execution_count": null,
   "metadata": {},
   "outputs": [
    {
     "name": "stdout",
     "output_type": "stream",
     "text": [
      "a 3\n",
      "b 5\n"
     ]
    }
   ],
   "source": [
    "a = 5\n",
    "b = 3\n",
    "a, b = b, a\n",
    "print(\"a\", a)\n",
    "print(\"b\", b)"
   ]
  },
  {
   "cell_type": "markdown",
   "metadata": {},
   "source": [
    "#### Ejercicio haz la secuencia de fibbonacci sabiendo que $f_0 = 0$ y $f_1 = 1$.\n",
    "La secuencia de Fibbonacci es $f_n=f_{n-1}+f_{n-2}$"
   ]
  },
  {
   "cell_type": "code",
   "execution_count": 13,
   "metadata": {},
   "outputs": [
    {
     "name": "stdout",
     "output_type": "stream",
     "text": [
      "f( 0 ) = 0\n",
      "f( 1 ) = 1\n",
      "f( 2 ) = 1\n",
      "f( 3 ) = 2\n",
      "f( 4 ) = 3\n",
      "f( 5 ) = 5\n",
      "f( 6 ) = 8\n",
      "f( 7 ) = 13\n",
      "f( 8 ) = 21\n",
      "f( 9 ) = 34\n",
      "f( 10 ) = 55\n",
      "f( 11 ) = 89\n"
     ]
    }
   ],
   "source": [
    "f0 = 0 # este es el n-2 (el anteanterior)\n",
    "f1 = 1 # este es el anterior\n",
    "n = 10\n",
    "fanterior = 0\n",
    "fnuevo = 1\n",
    "factual = 0\n",
    "print(\"f(\", fanterior , \") =\" , fanterior)\n",
    "print(\"f(\", fnuevo , \") =\" , fnuevo)\n",
    "for i in range(n):\n",
    "    fanterior=factual\n",
    "    factual=fnuevo\n",
    "    fnuevo = fanterior + fnuevo\n",
    "    print(\"f(\", i+2 , \") =\" , fnuevo)\n",
    "\n"
   ]
  },
  {
   "cell_type": "code",
   "execution_count": 17,
   "metadata": {},
   "outputs": [
    {
     "name": "stdout",
     "output_type": "stream",
     "text": [
      "f( 0 ) = 0\n",
      "f( 1 ) = 1\n",
      "f( 2 ) = 1\n",
      "f( 3 ) = 2\n",
      "f( 4 ) = 3\n",
      "f( 5 ) = 5\n",
      "f( 6 ) = 8\n",
      "f( 7 ) = 13\n",
      "f( 8 ) = 21\n",
      "f( 9 ) = 34\n",
      "f( 10 ) = 55\n",
      "f( 11 ) = 89\n"
     ]
    }
   ],
   "source": [
    "n = 10\n",
    "fanterior = 0\n",
    "fnuevo = 1\n",
    "factual = 0\n",
    "print(\"f(\", fanterior , \") =\" , fanterior)\n",
    "print(\"f(\", fnuevo , \") =\" , fnuevo)\n",
    "for i in range(n):\n",
    "    fanterior, factual=factual,fnuevo\n",
    "    fnuevo = fanterior + fnuevo\n",
    "    print(\"f(\", i+2 , \") =\" , fnuevo)"
   ]
  },
  {
   "cell_type": "markdown",
   "metadata": {},
   "source": [
    "##### Ejercicio: Entiende y comenta los siguientes codigos"
   ]
  },
  {
   "cell_type": "code",
   "execution_count": null,
   "metadata": {},
   "outputs": [
    {
     "data": {
      "text/plain": [
       "5"
      ]
     },
     "execution_count": 119,
     "metadata": {},
     "output_type": "execute_result"
    }
   ],
   "source": [
    "import random\n",
    "int(random.random()*10)"
   ]
  },
  {
   "cell_type": "code",
   "execution_count": null,
   "metadata": {},
   "outputs": [
    {
     "name": "stdout",
     "output_type": "stream",
     "text": [
      "New number: 3\n",
      "Number too small\n",
      "New number: 5\n",
      "Number too large\n",
      "New number: 4\n",
      "Congratulation. You made it!\n"
     ]
    }
   ],
   "source": [
    "import random # importamos una libreria\n",
    "n = 10\n",
    "to_be_guessed = int(n * random.random()) + 1 \n",
    "guess = 0\n",
    "while guess != to_be_guessed: \n",
    "    guess = int(input(\"New number: \")) \n",
    "    if guess > 0:\n",
    "        if guess > to_be_guessed:\n",
    "            print(\"Number too large\")\n",
    "        elif guess < to_be_guessed:\n",
    "            print(\"Number too small\")\n",
    "    else:\n",
    "        print(\"Sorry that you're giving up!\")\n",
    "        break\n",
    "else:\n",
    "    print(\"Congratulation. You made it!\")"
   ]
  },
  {
   "cell_type": "code",
   "execution_count": null,
   "metadata": {},
   "outputs": [
    {
     "name": "stdout",
     "output_type": "stream",
     "text": [
      "hola\n",
      "\n",
      "\n",
      "\n",
      "adios\n"
     ]
    }
   ],
   "source": [
    "print(\"hola\",end='\\n\\n\\n') # '\\n'= salto de linea\n",
    "print()\n",
    "print(\"adios\", )"
   ]
  },
  {
   "cell_type": "code",
   "execution_count": null,
   "metadata": {
    "scrolled": true
   },
   "outputs": [
    {
     "name": "stdout",
     "output_type": "stream",
     "text": [
      "1\n",
      "2 3 \n",
      "4 5 6 \n",
      "7 8 9 10 \n",
      "11 12 13 14 15 \n",
      "16 17 18 19 20 21 \n",
      "22 23 24 25 26 27 28 \n",
      "29 30 31 32 33 34 35 36 \n",
      "37 38 39 40 41 42 43 44 45 \n",
      "46 47 48 49 50 51 52 53 54 55 \n"
     ]
    }
   ],
   "source": [
    "#Floyd triangulo\n",
    "N = 10\n",
    "print(1)\n",
    "\n",
    "numero = 2\n",
    "filas = 2\n",
    "while filas <= N:\n",
    "    posicionFila = 1\n",
    "    imprimir = \"\" \n",
    "    while posicionFila <= filas: \n",
    "        imprimir = imprimir + str(numero) + \" \"\n",
    "        posicionFila += 1 \n",
    "        numero += 1\n",
    "\n",
    "    print(imprimir) \n",
    "    filas += 1"
   ]
  }
 ],
 "metadata": {
  "kernelspec": {
   "display_name": "Python 3 (ipykernel)",
   "language": "python",
   "name": "python3"
  },
  "language_info": {
   "codemirror_mode": {
    "name": "ipython",
    "version": 3
   },
   "file_extension": ".py",
   "mimetype": "text/x-python",
   "name": "python",
   "nbconvert_exporter": "python",
   "pygments_lexer": "ipython3",
   "version": "3.11.7"
  }
 },
 "nbformat": 4,
 "nbformat_minor": 4
}
