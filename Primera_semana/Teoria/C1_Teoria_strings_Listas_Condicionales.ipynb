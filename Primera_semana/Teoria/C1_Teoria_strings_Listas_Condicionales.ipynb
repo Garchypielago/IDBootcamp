{
 "cells": [
  {
   "cell_type": "markdown",
   "metadata": {
    "id": "tq0vatcqmwXg"
   },
   "source": [
    "# Consejos generales\n",
    "### IMPORTANTISIMO:\n",
    "- Comentar y leer el codigo, LINEA A LINEA\n",
    "- LEER LOS ERRORES\n",
    "- Ir despacio\n",
    "- Planificar los ejercicios\n",
    "- Si un ejercicio no os sale y no sabéis porque, poner prints() dentro del ejercicio para ver el valor de las variables\n"
   ]
  },
  {
   "cell_type": "markdown",
   "metadata": {
    "id": "zUKbldrQmwXk"
   },
   "source": [
    "* ctrl + enter = ejecuta la celda y se queda donde esta\n",
    "* shift + enter = ejecuta la celda y salta de celda\n",
    "* Esc = sal de dentro de la celda\n",
    "* Esc y despues M -> transforma la celda en markdown\n",
    "* Esc y despues Y -> transforma la celda en codigo\n",
    "* d+d rapido borra una celda\n"
   ]
  },
  {
   "cell_type": "markdown",
   "metadata": {
    "id": "p-DaH3MKmwXl"
   },
   "source": [
    "The index of a list are integers from 0 to len(list)-1\n",
    "* IndexError = Accessing to positions that do not exists\n",
    "* TypeError = Accessing using floats or other types of variables.\n",
    "* X[-i] returns the element ith starting from the end\n",
    "* NameError: name 'name var' is not defined -> mi variable no existe (y probablemente no se ha ejecutado"
   ]
  },
  {
   "cell_type": "markdown",
   "metadata": {
    "id": "7D3Al7nKmLxX"
   },
   "source": [
    "# Consola Python\n"
   ]
  },
  {
   "cell_type": "code",
   "execution_count": 20,
   "metadata": {
    "colab": {
     "base_uri": "https://localhost:8080/"
    },
    "id": "Z7YNDjfTmQW-",
    "outputId": "1d19e75b-fba2-4c8c-f254-8c12b50dbe24"
   },
   "outputs": [
    {
     "data": {
      "text/plain": [
       "4"
      ]
     },
     "execution_count": 20,
     "metadata": {},
     "output_type": "execute_result"
    }
   ],
   "source": [
    "2+2"
   ]
  },
  {
   "cell_type": "code",
   "execution_count": 21,
   "metadata": {
    "id": "FfHOqCyMmcNa"
   },
   "outputs": [],
   "source": [
    "x = 2\n",
    "# declaramos una variable, es decir, le ponemos un nombre (un puntero) al espacio de memoria que tiene el 2"
   ]
  },
  {
   "cell_type": "code",
   "execution_count": 22,
   "metadata": {},
   "outputs": [],
   "source": [
    "x = x+1 # sobreescrivir"
   ]
  },
  {
   "cell_type": "code",
   "execution_count": 25,
   "metadata": {
    "id": "k41Q9vAu2KDq"
   },
   "outputs": [],
   "source": [
    "y = 2"
   ]
  },
  {
   "cell_type": "code",
   "execution_count": 6,
   "metadata": {},
   "outputs": [
    {
     "data": {
      "text/plain": [
       "2"
      ]
     },
     "execution_count": 6,
     "metadata": {},
     "output_type": "execute_result"
    }
   ],
   "source": [
    "y"
   ]
  },
  {
   "cell_type": "code",
   "execution_count": 8,
   "metadata": {
    "colab": {
     "base_uri": "https://localhost:8080/"
    },
    "id": "kZ5zSftP2WKF",
    "outputId": "08af9980-2410-4104-a992-4091668325ac"
   },
   "outputs": [
    {
     "data": {
      "text/plain": [
       "2468844470544"
      ]
     },
     "execution_count": 8,
     "metadata": {},
     "output_type": "execute_result"
    }
   ],
   "source": [
    "id(y)\n",
    "# id nos devuelve el id del espacio de memoria"
   ]
  },
  {
   "cell_type": "code",
   "execution_count": 9,
   "metadata": {
    "colab": {
     "base_uri": "https://localhost:8080/"
    },
    "id": "ev6GyDWn2Nea",
    "outputId": "e4d3c5ee-a28f-47a4-e72b-021785973434"
   },
   "outputs": [
    {
     "data": {
      "text/plain": [
       "True"
      ]
     },
     "execution_count": 9,
     "metadata": {},
     "output_type": "execute_result"
    }
   ],
   "source": [
    "id(x)==id(y)"
   ]
  },
  {
   "cell_type": "markdown",
   "metadata": {
    "id": "aIbdn-iUmwXl"
   },
   "source": [
    "# Cadenas string"
   ]
  },
  {
   "cell_type": "code",
   "execution_count": 1,
   "metadata": {
    "id": "Qy71u2aqhnz3"
   },
   "outputs": [],
   "source": [
    "s = 'hola me llamo Miquel'\n",
    "# inmutables"
   ]
  },
  {
   "cell_type": "code",
   "execution_count": 2,
   "metadata": {},
   "outputs": [],
   "source": [
    "s = 'hola me llamo Antonio'\n",
    "# esto no es modificar, es sobrescrivir\n",
    "# s[0] =\"H\" seri modificar, y no nos deja"
   ]
  },
  {
   "cell_type": "code",
   "execution_count": 11,
   "metadata": {
    "colab": {
     "base_uri": "https://localhost:8080/"
    },
    "id": "NOM8tg1_hp4u",
    "outputId": "96fc8ba6-327c-41e8-d88c-ce1af0c0a577"
   },
   "outputs": [
    {
     "data": {
      "text/plain": [
       "21"
      ]
     },
     "execution_count": 11,
     "metadata": {},
     "output_type": "execute_result"
    }
   ],
   "source": [
    "len(s)"
   ]
  },
  {
   "cell_type": "code",
   "execution_count": 41,
   "metadata": {
    "colab": {
     "base_uri": "https://localhost:8080/",
     "height": 36
    },
    "id": "x-bTxGpLh1-Z",
    "outputId": "8f29bcf8-3b44-401e-e6c3-b413202d205c"
   },
   "outputs": [
    {
     "data": {
      "text/plain": [
       "'l'"
      ]
     },
     "execution_count": 41,
     "metadata": {},
     "output_type": "execute_result"
    }
   ],
   "source": [
    "s[2] # accedo a la posición 2, el tercer caracter"
   ]
  },
  {
   "cell_type": "code",
   "execution_count": 39,
   "metadata": {
    "colab": {
     "base_uri": "https://localhost:8080/",
     "height": 36
    },
    "id": "U6Ke1W01h5f3",
    "outputId": "1967862c-0ec3-4357-d239-80fe97df72c3"
   },
   "outputs": [
    {
     "data": {
      "text/plain": [
       "'u'"
      ]
     },
     "execution_count": 39,
     "metadata": {},
     "output_type": "execute_result"
    }
   ],
   "source": [
    "s[-3] # accedo al antepenultimo caracter, o si accedo a s[-n], al n-esimo cracter empezando por el final"
   ]
  },
  {
   "cell_type": "code",
   "execution_count": 50,
   "metadata": {
    "colab": {
     "base_uri": "https://localhost:8080/",
     "height": 36
    },
    "id": "qWyRbO5XhtPo",
    "outputId": "b1044ca3-8ddd-4dbd-e1cc-141254caeb18"
   },
   "outputs": [
    {
     "data": {
      "text/plain": [
       "'ola m'"
      ]
     },
     "execution_count": 50,
     "metadata": {},
     "output_type": "execute_result"
    }
   ],
   "source": [
    "s[1:6] # des del 1 hasta el 6 sin incluir"
   ]
  },
  {
   "cell_type": "code",
   "execution_count": 19,
   "metadata": {
    "colab": {
     "base_uri": "https://localhost:8080/",
     "height": 35
    },
    "id": "M6f8BQpM4Eoi",
    "outputId": "98b198a0-2f57-4cb4-db9f-ad65cf34ff35"
   },
   "outputs": [
    {
     "data": {
      "text/plain": [
       "'hola me llamo Antonio'"
      ]
     },
     "execution_count": 19,
     "metadata": {},
     "output_type": "execute_result"
    }
   ],
   "source": [
    "s[:21] # de la 3 hasta el final"
   ]
  },
  {
   "cell_type": "code",
   "execution_count": 52,
   "metadata": {
    "colab": {
     "base_uri": "https://localhost:8080/",
     "height": 35
    },
    "id": "QRrrGpp0h0Wu",
    "outputId": "10e0399c-466c-4d38-9141-1a7aba5e88a8"
   },
   "outputs": [
    {
     "data": {
      "text/plain": [
       "'o '"
      ]
     },
     "execution_count": 52,
     "metadata": {},
     "output_type": "execute_result"
    }
   ],
   "source": [
    "s[1:6:2] # stride, los saltos que voy dando"
   ]
  },
  {
   "cell_type": "code",
   "execution_count": 60,
   "metadata": {
    "colab": {
     "base_uri": "https://localhost:8080/",
     "height": 36
    },
    "id": "GC82M-25iAZG",
    "outputId": "db8a9f21-79d6-4f41-b531-42a88a8308cd"
   },
   "outputs": [
    {
     "data": {
      "text/plain": [
       "'amo Mique'"
      ]
     },
     "execution_count": 60,
     "metadata": {},
     "output_type": "execute_result"
    }
   ],
   "source": [
    "s[-10:-1]"
   ]
  },
  {
   "cell_type": "code",
   "execution_count": 70,
   "metadata": {
    "colab": {
     "base_uri": "https://localhost:8080/"
    },
    "id": "EUGoAEiriPnW",
    "outputId": "bb55add1-3c66-45c2-ff22-b778414d5467"
   },
   "outputs": [
    {
     "data": {
      "text/plain": [
       "6"
      ]
     },
     "execution_count": 70,
     "metadata": {},
     "output_type": "execute_result"
    }
   ],
   "source": [
    "s.find(\"e\") # find = encuentra la primera posición de la substring\n",
    "# que devuelve? la posición en formato entero\n",
    "# find es un metodo/función de los objetos string\n",
    "# los metodos pueden recivir inputs(o también llamados argumentos)"
   ]
  },
  {
   "cell_type": "code",
   "execution_count": 66,
   "metadata": {},
   "outputs": [
    {
     "data": {
      "text/plain": [
       "'hola me llamo Miquel'"
      ]
     },
     "execution_count": 66,
     "metadata": {},
     "output_type": "execute_result"
    }
   ],
   "source": [
    "s"
   ]
  },
  {
   "cell_type": "code",
   "execution_count": 67,
   "metadata": {
    "colab": {
     "base_uri": "https://localhost:8080/"
    },
    "id": "bWsFmMor3VZd",
    "outputId": "ae94c52b-ec9d-4085-f549-bb2269d0a93f"
   },
   "outputs": [
    {
     "data": {
      "text/plain": [
       "18"
      ]
     },
     "execution_count": 67,
     "metadata": {},
     "output_type": "execute_result"
    }
   ],
   "source": [
    "s.find(\"e\", 10) # empieza a buscar desde l posicion 10"
   ]
  },
  {
   "cell_type": "code",
   "execution_count": 77,
   "metadata": {
    "colab": {
     "base_uri": "https://localhost:8080/"
    },
    "id": "2lTo7hgriggV",
    "outputId": "249dfe50-56ea-4bbc-d1e8-ab3f75cd8844"
   },
   "outputs": [
    {
     "data": {
      "text/plain": [
       "['hola', 'me', 'llamo', 'Miquel']"
      ]
     },
     "execution_count": 77,
     "metadata": {},
     "output_type": "execute_result"
    }
   ],
   "source": [
    "s.split(\" \") # split separa la sting a partir de algun caracter (por defecto es el espacio)"
   ]
  },
  {
   "cell_type": "code",
   "execution_count": 22,
   "metadata": {
    "colab": {
     "base_uri": "https://localhost:8080/"
    },
    "id": "NBS7LPt_i47A",
    "outputId": "329f5f72-bc70-43cf-e12d-585dd6fae11a"
   },
   "outputs": [
    {
     "data": {
      "text/plain": [
       "['', 'sjsg', 'sh', '']"
      ]
     },
     "execution_count": 22,
     "metadata": {},
     "output_type": "execute_result"
    }
   ],
   "source": [
    "\" sjsg sh \".split(\" \")"
   ]
  },
  {
   "cell_type": "code",
   "execution_count": 88,
   "metadata": {
    "colab": {
     "base_uri": "https://localhost:8080/",
     "height": 35
    },
    "id": "sZM9dg12ijqN",
    "outputId": "1821aeec-bf79-4da3-8a56-f9f052458aa4"
   },
   "outputs": [
    {
     "data": {
      "text/plain": [
       "'HOLA ME LLAMO MIQUEL'"
      ]
     },
     "execution_count": 88,
     "metadata": {},
     "output_type": "execute_result"
    }
   ],
   "source": [
    "s.upper()"
   ]
  },
  {
   "cell_type": "code",
   "execution_count": 89,
   "metadata": {
    "colab": {
     "base_uri": "https://localhost:8080/",
     "height": 35
    },
    "id": "PdcSPUyIivY-",
    "outputId": "18e5fae2-61d8-42ed-94c6-8a7275e5395a"
   },
   "outputs": [
    {
     "data": {
      "text/plain": [
       "'hola me llamo miquel'"
      ]
     },
     "execution_count": 89,
     "metadata": {},
     "output_type": "execute_result"
    }
   ],
   "source": [
    "s.lower()"
   ]
  },
  {
   "cell_type": "code",
   "execution_count": 95,
   "metadata": {
    "colab": {
     "base_uri": "https://localhost:8080/",
     "height": 35
    },
    "id": "BJieAKoAiz-u",
    "outputId": "fd20b807-38a1-43e7-d9cf-0cfa82336d53"
   },
   "outputs": [
    {
     "data": {
      "text/plain": [
       "'Hola Me Llamo Miquel'"
      ]
     },
     "execution_count": 95,
     "metadata": {},
     "output_type": "execute_result"
    }
   ],
   "source": [
    "s.title()"
   ]
  },
  {
   "cell_type": "code",
   "execution_count": 98,
   "metadata": {
    "colab": {
     "base_uri": "https://localhost:8080/"
    },
    "id": "tzZ9II8B4N9h",
    "outputId": "b0edab19-aebd-4273-bdb9-03100d095fd3"
   },
   "outputs": [
    {
     "data": {
      "text/plain": [
       "False"
      ]
     },
     "execution_count": 98,
     "metadata": {},
     "output_type": "execute_result"
    }
   ],
   "source": [
    "s.startswith(\"hola\")"
   ]
  },
  {
   "cell_type": "code",
   "execution_count": 99,
   "metadata": {
    "colab": {
     "base_uri": "https://localhost:8080/"
    },
    "id": "a2M-_xWG4QpP",
    "outputId": "67adc3c4-58a9-46f4-a440-1a88ec6486b3"
   },
   "outputs": [
    {
     "data": {
      "text/plain": [
       "True"
      ]
     },
     "execution_count": 99,
     "metadata": {},
     "output_type": "execute_result"
    }
   ],
   "source": [
    "s.endswith(\"el\")"
   ]
  },
  {
   "cell_type": "code",
   "execution_count": 106,
   "metadata": {
    "colab": {
     "base_uri": "https://localhost:8080/",
     "height": 35
    },
    "id": "zDrICxQ-4ZfS",
    "outputId": "796eb95e-c569-44bf-fe20-23b0e314feeb"
   },
   "outputs": [
    {
     "name": "stdout",
     "output_type": "stream",
     "text": [
      "hola mE llamo MiquEl\n"
     ]
    }
   ],
   "source": [
    "s=s.replace(\"e\",\"E\")\n",
    "# me devuelve otra string\n",
    "# aplico replace y sobreescrivo la variable s con el resultado\n",
    "print(s)"
   ]
  },
  {
   "cell_type": "code",
   "execution_count": 107,
   "metadata": {},
   "outputs": [
    {
     "data": {
      "text/plain": [
       "'hola mE llamo MiquEl'"
      ]
     },
     "execution_count": 107,
     "metadata": {},
     "output_type": "execute_result"
    }
   ],
   "source": [
    "s"
   ]
  },
  {
   "cell_type": "code",
   "execution_count": 109,
   "metadata": {
    "colab": {
     "base_uri": "https://localhost:8080/"
    },
    "id": "Nyu65sna9zKv",
    "outputId": "fcc15738-c961-4e87-c1b8-856ac8775108"
   },
   "outputs": [
    {
     "data": {
      "text/plain": [
       "1"
      ]
     },
     "execution_count": 109,
     "metadata": {},
     "output_type": "execute_result"
    }
   ],
   "source": [
    "s.count(\"El\")"
   ]
  },
  {
   "cell_type": "code",
   "execution_count": 110,
   "metadata": {
    "colab": {
     "base_uri": "https://localhost:8080/",
     "height": 35
    },
    "id": "avcLouiKi3kG",
    "outputId": "50d0b771-f0de-4d9f-f9fb-b2d204df87e0"
   },
   "outputs": [
    {
     "data": {
      "text/plain": [
       "'hola mE llamo MiquElhola mE llamo MiquEl'"
      ]
     },
     "execution_count": 110,
     "metadata": {},
     "output_type": "execute_result"
    }
   ],
   "source": [
    "s+s"
   ]
  },
  {
   "cell_type": "code",
   "execution_count": 112,
   "metadata": {
    "colab": {
     "base_uri": "https://localhost:8080/",
     "height": 35
    },
    "id": "r2moMIoF37ut",
    "outputId": "6e5881b7-f952-4cbc-a62b-820e6902ff9e"
   },
   "outputs": [
    {
     "data": {
      "text/plain": [
       "'hola mE llamo MiquElhola mE llamo MiquElhola mE llamo MiquElhola mE llamo MiquElhola mE llamo MiquEl'"
      ]
     },
     "execution_count": 112,
     "metadata": {},
     "output_type": "execute_result"
    }
   ],
   "source": [
    "s*5"
   ]
  },
  {
   "cell_type": "code",
   "execution_count": 32,
   "metadata": {
    "colab": {
     "base_uri": "https://localhost:8080/",
     "height": 35
    },
    "id": "hOS2FkSti9QQ",
    "outputId": "05e655ed-e620-462e-c441-b5dd307a4aec"
   },
   "outputs": [
    {
     "data": {
      "text/plain": [
       "'--1--2--3--'"
      ]
     },
     "execution_count": 32,
     "metadata": {},
     "output_type": "execute_result"
    }
   ],
   "source": [
    "\"--\".join([\"\",\"1\",\"2\",\"3\",\"\"])"
   ]
  },
  {
   "cell_type": "code",
   "execution_count": 35,
   "metadata": {
    "colab": {
     "base_uri": "https://localhost:8080/",
     "height": 35
    },
    "id": "zXqWwDxqjDbo",
    "outputId": "36c484eb-d8ae-4ef4-a5a6-215e66d7a6d7"
   },
   "outputs": [
    {
     "data": {
      "text/plain": [
       "'hola siii'"
      ]
     },
     "execution_count": 35,
     "metadata": {},
     "output_type": "execute_result"
    }
   ],
   "source": [
    "\" -hola siii-- \".strip(\" \").strip(\"-\")"
   ]
  },
  {
   "cell_type": "code",
   "execution_count": 25,
   "metadata": {
    "id": "kysctUz4mwX3",
    "outputId": "ce331a7d-9a2f-4a01-bc4b-f870c14046ee"
   },
   "outputs": [
    {
     "ename": "NameError",
     "evalue": "name 'jsshaja' is not defined",
     "output_type": "error",
     "traceback": [
      "\u001b[1;31m---------------------------------------------------------------------------\u001b[0m",
      "\u001b[1;31mNameError\u001b[0m                                 Traceback (most recent call last)",
      "Cell \u001b[1;32mIn[25], line 1\u001b[0m\n\u001b[1;32m----> 1\u001b[0m jsshaja \u001b[38;5;66;03m# una variable sin definir\u001b[39;00m\n\u001b[0;32m      2\u001b[0m \u001b[38;5;124m\"\u001b[39m\u001b[38;5;124mjsshaja\u001b[39m\u001b[38;5;124m\"\u001b[39m\n",
      "\u001b[1;31mNameError\u001b[0m: name 'jsshaja' is not defined"
     ]
    }
   ],
   "source": [
    "jsshaja # una variable sin definir\n",
    "\"jsshaja\" # una string"
   ]
  },
  {
   "cell_type": "code",
   "execution_count": 26,
   "metadata": {
    "colab": {
     "base_uri": "https://localhost:8080/"
    },
    "id": "5NpaWNUS8O96",
    "outputId": "a0fa6df0-3645-4140-811f-bd7a09490385"
   },
   "outputs": [
    {
     "data": {
      "text/plain": [
       "True"
      ]
     },
     "execution_count": 26,
     "metadata": {},
     "output_type": "execute_result"
    }
   ],
   "source": [
    "\"al\" in \"ooooooal\""
   ]
  },
  {
   "cell_type": "code",
   "execution_count": 30,
   "metadata": {
    "colab": {
     "base_uri": "https://localhost:8080/"
    },
    "id": "kLJIe7EY67o4",
    "outputId": "abe46d74-5966-4a99-864d-b83631ea99a4"
   },
   "outputs": [
    {
     "name": "stdout",
     "output_type": "stream",
     "text": [
      "hola\n"
     ]
    }
   ],
   "source": [
    "n=print(\"hola\") # print imprime, pero no devuelve nada"
   ]
  },
  {
   "cell_type": "code",
   "execution_count": 141,
   "metadata": {
    "scrolled": true
   },
   "outputs": [
    {
     "name": "stdout",
     "output_type": "stream",
     "text": [
      "20\n",
      "hola\n"
     ]
    }
   ],
   "source": [
    "print(len(s))\n",
    "print(\"hola\")"
   ]
  },
  {
   "cell_type": "code",
   "execution_count": 138,
   "metadata": {},
   "outputs": [
    {
     "data": {
      "text/plain": [
       "True"
      ]
     },
     "execution_count": 138,
     "metadata": {},
     "output_type": "execute_result"
    }
   ],
   "source": [
    "n is None"
   ]
  },
  {
   "cell_type": "code",
   "execution_count": 137,
   "metadata": {
    "colab": {
     "base_uri": "https://localhost:8080/"
    },
    "id": "XEaMcoy9696C",
    "outputId": "e5877f3a-704d-4b75-fc13-33019efded1c"
   },
   "outputs": [
    {
     "name": "stdout",
     "output_type": "stream",
     "text": [
      "None\n"
     ]
    }
   ],
   "source": [
    "print(n)"
   ]
  },
  {
   "cell_type": "markdown",
   "metadata": {
    "id": "V8daPOaEio7g"
   },
   "source": [
    "# Listas"
   ]
  },
  {
   "cell_type": "code",
   "execution_count": 143,
   "metadata": {
    "id": "RVbcqmiNmwXm"
   },
   "outputs": [],
   "source": [
    "L = [1,2,3]\n",
    "# secuencias ordenadas de objetos\n",
    "# mutables"
   ]
  },
  {
   "cell_type": "code",
   "execution_count": 144,
   "metadata": {
    "colab": {
     "base_uri": "https://localhost:8080/"
    },
    "id": "EYjg4RpImwXn",
    "outputId": "51b372f6-d842-47f4-f238-12a28995bfee"
   },
   "outputs": [
    {
     "data": {
      "text/plain": [
       "2"
      ]
     },
     "execution_count": 144,
     "metadata": {},
     "output_type": "execute_result"
    }
   ],
   "source": [
    "L[1] # accedo a la posición 1 (la segunda)"
   ]
  },
  {
   "cell_type": "code",
   "execution_count": 147,
   "metadata": {
    "id": "fW5DEr-kmwXo"
   },
   "outputs": [],
   "source": [
    "i = \"a\""
   ]
  },
  {
   "cell_type": "code",
   "execution_count": 149,
   "metadata": {
    "id": "OHhrjKsGmwXp",
    "outputId": "08f5d1fa-537d-43ee-fa16-1a4eaf29249f"
   },
   "outputs": [
    {
     "name": "stdout",
     "output_type": "stream",
     "text": [
      "0\n"
     ]
    },
    {
     "data": {
      "text/plain": [
       "1"
      ]
     },
     "execution_count": 149,
     "metadata": {},
     "output_type": "execute_result"
    }
   ],
   "source": [
    "i=0\n",
    "print(i)\n",
    "L[i]\n",
    "# i era un indice entre 0, 1 y 2"
   ]
  },
  {
   "cell_type": "markdown",
   "metadata": {
    "id": "520X2bLumwXp"
   },
   "source": [
    "# Listas\n",
    "* Declarar una lista\n",
    "* Indexacion\n",
    "* Listas anidadas\n",
    "* Slicing\n",
    "* insert\n",
    "* Extend\n",
    "* Append\n",
    "* cambiar elementos\n",
    "* copy\n",
    "* eliminar elemento (remove, pop, del)\n",
    "* index\n",
    "* sort\n",
    "* reverse"
   ]
  },
  {
   "cell_type": "code",
   "execution_count": 150,
   "metadata": {
    "id": "oNIZHa7smwXq"
   },
   "outputs": [],
   "source": [
    "# declaro una variable x y asigno una lista\n",
    "x = [1,2,3]"
   ]
  },
  {
   "cell_type": "code",
   "execution_count": 151,
   "metadata": {
    "colab": {
     "base_uri": "https://localhost:8080/"
    },
    "id": "T1rAWme_mwXq",
    "outputId": "d7dceb4a-5960-4a09-c6a7-b4621858e3fd"
   },
   "outputs": [
    {
     "data": {
      "text/plain": [
       "[1, 2, 3]"
      ]
     },
     "execution_count": 151,
     "metadata": {},
     "output_type": "execute_result"
    }
   ],
   "source": [
    "x"
   ]
  },
  {
   "cell_type": "code",
   "execution_count": 152,
   "metadata": {
    "id": "1QSvoYXhmwXq"
   },
   "outputs": [],
   "source": [
    "y = [4,5,6] # otra variable y"
   ]
  },
  {
   "cell_type": "code",
   "execution_count": 156,
   "metadata": {
    "colab": {
     "base_uri": "https://localhost:8080/",
     "height": 192
    },
    "id": "TBjutGygmwXq",
    "outputId": "db9214f8-288a-4580-a642-c91d2d156d34"
   },
   "outputs": [
    {
     "ename": "IndexError",
     "evalue": "list index out of range",
     "output_type": "error",
     "traceback": [
      "\u001b[1;31m---------------------------------------------------------------------------\u001b[0m",
      "\u001b[1;31mIndexError\u001b[0m                                Traceback (most recent call last)",
      "Cell \u001b[1;32mIn[156], line 2\u001b[0m\n\u001b[0;32m      1\u001b[0m i \u001b[38;5;241m=\u001b[39m \u001b[38;5;241m5\u001b[39m \u001b[38;5;66;03m# i vale 5\u001b[39;00m\n\u001b[1;32m----> 2\u001b[0m \u001b[43mx\u001b[49m\u001b[43m[\u001b[49m\u001b[43mi\u001b[49m\u001b[43m]\u001b[49m\n",
      "\u001b[1;31mIndexError\u001b[0m: list index out of range"
     ]
    }
   ],
   "source": [
    "i = 5 # i vale 5\n",
    "x[i] # intento acceder a la posicion 5 (la sexta)"
   ]
  },
  {
   "cell_type": "code",
   "execution_count": 158,
   "metadata": {
    "colab": {
     "base_uri": "https://localhost:8080/"
    },
    "id": "DfwSrJaPmwXr",
    "outputId": "891419a7-4297-4f05-bc18-4bda7f56609e"
   },
   "outputs": [
    {
     "data": {
      "text/plain": [
       "3"
      ]
     },
     "execution_count": 158,
     "metadata": {},
     "output_type": "execute_result"
    }
   ],
   "source": [
    "x[2]"
   ]
  },
  {
   "cell_type": "code",
   "execution_count": 159,
   "metadata": {
    "colab": {
     "base_uri": "https://localhost:8080/"
    },
    "id": "SKTPU263mwXr",
    "outputId": "31edc405-02ae-43b1-b00e-ac1ebfd600e6"
   },
   "outputs": [
    {
     "data": {
      "text/plain": [
       "2"
      ]
     },
     "execution_count": 159,
     "metadata": {},
     "output_type": "execute_result"
    }
   ],
   "source": [
    "x[-2]"
   ]
  },
  {
   "cell_type": "code",
   "execution_count": 160,
   "metadata": {
    "id": "B9Rv4ezKmwXr"
   },
   "outputs": [],
   "source": [
    "x = [1,2,3,4,5]"
   ]
  },
  {
   "cell_type": "code",
   "execution_count": 161,
   "metadata": {
    "colab": {
     "base_uri": "https://localhost:8080/"
    },
    "id": "QZYHfnF5mwXr",
    "outputId": "6f62a019-3a46-403e-e633-b384d751d537"
   },
   "outputs": [
    {
     "data": {
      "text/plain": [
       "[1, 2]"
      ]
     },
     "execution_count": 161,
     "metadata": {},
     "output_type": "execute_result"
    }
   ],
   "source": [
    "x[0:2]# sin incluir el ultimo"
   ]
  },
  {
   "cell_type": "code",
   "execution_count": 162,
   "metadata": {
    "colab": {
     "base_uri": "https://localhost:8080/"
    },
    "id": "TbckLduvmwXr",
    "outputId": "90ba602e-5a4c-4e5d-c91b-59f083d972d0"
   },
   "outputs": [
    {
     "data": {
      "text/plain": [
       "[1, 2, 3, 4]"
      ]
     },
     "execution_count": 162,
     "metadata": {},
     "output_type": "execute_result"
    }
   ],
   "source": [
    "x[:-1]"
   ]
  },
  {
   "cell_type": "code",
   "execution_count": 164,
   "metadata": {
    "colab": {
     "base_uri": "https://localhost:8080/"
    },
    "id": "L2Meog2BmwXs",
    "outputId": "d302d59c-1145-46e6-ecb8-591a455e42ba"
   },
   "outputs": [
    {
     "data": {
      "text/plain": [
       "[3, 4]"
      ]
     },
     "execution_count": 164,
     "metadata": {},
     "output_type": "execute_result"
    }
   ],
   "source": [
    "x[-3:-1]"
   ]
  },
  {
   "cell_type": "code",
   "execution_count": 165,
   "metadata": {
    "colab": {
     "base_uri": "https://localhost:8080/"
    },
    "id": "RgetMmQomwXs",
    "outputId": "be2ea80b-d455-4946-b9a0-a66845d1e2bc"
   },
   "outputs": [
    {
     "data": {
      "text/plain": [
       "[1, 2, 3, 4]"
      ]
     },
     "execution_count": 165,
     "metadata": {},
     "output_type": "execute_result"
    }
   ],
   "source": [
    "x[0:-1]"
   ]
  },
  {
   "cell_type": "code",
   "execution_count": 169,
   "metadata": {
    "colab": {
     "base_uri": "https://localhost:8080/"
    },
    "id": "Z-t5Wh6-mwXs",
    "outputId": "3cdc684f-28a4-4ab8-8f7a-740c99bbd267"
   },
   "outputs": [
    {
     "name": "stdout",
     "output_type": "stream",
     "text": [
      "ah\n"
     ]
    }
   ],
   "source": [
    "# anidadas\n",
    "L=[[1,2],[3,4],\"ah\"]\n",
    "print(L[2])\n"
   ]
  },
  {
   "cell_type": "code",
   "execution_count": 170,
   "metadata": {
    "colab": {
     "base_uri": "https://localhost:8080/"
    },
    "id": "iteUXKxZmwXs",
    "outputId": "832cedd6-b5a2-4b6a-d121-6b6c8cabc9de"
   },
   "outputs": [
    {
     "name": "stdout",
     "output_type": "stream",
     "text": [
      "[3, 4]\n"
     ]
    }
   ],
   "source": [
    "print(L[1])"
   ]
  },
  {
   "cell_type": "code",
   "execution_count": 172,
   "metadata": {
    "colab": {
     "base_uri": "https://localhost:8080/"
    },
    "id": "S7qyqZuHmwXs",
    "outputId": "145c0588-a6de-4b99-f888-4d5351d63eb8"
   },
   "outputs": [
    {
     "data": {
      "text/plain": [
       "2"
      ]
     },
     "execution_count": 172,
     "metadata": {},
     "output_type": "execute_result"
    }
   ],
   "source": [
    "L[0][1] # el elemento 0 es una lista (L[0] es una lista) por lo tanto puedo acceder a sus elementos\n",
    "# en resumen, accedo al elemento 1 de la lista que esta a la posición 0"
   ]
  },
  {
   "cell_type": "code",
   "execution_count": 173,
   "metadata": {
    "id": "WXL5nfYDmwXt"
   },
   "outputs": [],
   "source": [
    "L=[1,2]"
   ]
  },
  {
   "cell_type": "code",
   "execution_count": 177,
   "metadata": {
    "colab": {
     "base_uri": "https://localhost:8080/"
    },
    "id": "3LAjaCSymwXt",
    "outputId": "b94ed68e-4eee-4803-859d-73030b87e1dd"
   },
   "outputs": [
    {
     "data": {
      "text/plain": [
       "[1, 2, 2, [3, 'hola']]"
      ]
     },
     "execution_count": 177,
     "metadata": {},
     "output_type": "execute_result"
    }
   ],
   "source": [
    "L+[2,[3,\"hola\"]]\n",
    "# + = concatenar listas"
   ]
  },
  {
   "cell_type": "code",
   "execution_count": 179,
   "metadata": {
    "id": "TUqd1u1SmwXt"
   },
   "outputs": [],
   "source": [
    "M = L+[2,[3,\"hola\"]]\n",
    "# aqui hago una operacion y guardo el resultado a la variable M\n",
    "# no aparece nada como resultado"
   ]
  },
  {
   "cell_type": "code",
   "execution_count": 180,
   "metadata": {
    "colab": {
     "base_uri": "https://localhost:8080/"
    },
    "id": "RyMQrZhxmwXt",
    "outputId": "d15a9f12-425b-4515-f273-9b4fff12c163"
   },
   "outputs": [
    {
     "name": "stdout",
     "output_type": "stream",
     "text": [
      "[1, 2, 2, [3, 'hola']]\n"
     ]
    }
   ],
   "source": [
    "print(M)"
   ]
  },
  {
   "cell_type": "code",
   "execution_count": 182,
   "metadata": {
    "colab": {
     "base_uri": "https://localhost:8080/"
    },
    "id": "8vxvYhV-mwXt",
    "outputId": "93b58bdf-c68a-4a14-84cd-dba08fe74e48"
   },
   "outputs": [
    {
     "data": {
      "text/plain": [
       "[1, 2, 1, 2, 1, 2, 1, 2, 1, 2, 1, 2, 1, 2, 1, 2, 1, 2, 1, 2]"
      ]
     },
     "execution_count": 182,
     "metadata": {},
     "output_type": "execute_result"
    }
   ],
   "source": [
    "L*10"
   ]
  },
  {
   "cell_type": "code",
   "execution_count": 184,
   "metadata": {
    "colab": {
     "base_uri": "https://localhost:8080/"
    },
    "id": "1_swg5MWmwXt",
    "outputId": "d8da5c1c-ba1b-4a30-b08e-f141725c0de3"
   },
   "outputs": [
    {
     "data": {
      "text/plain": [
       "[1, 2]"
      ]
     },
     "execution_count": 184,
     "metadata": {},
     "output_type": "execute_result"
    }
   ],
   "source": [
    "L"
   ]
  },
  {
   "cell_type": "code",
   "execution_count": 183,
   "metadata": {
    "colab": {
     "base_uri": "https://localhost:8080/",
     "height": 192
    },
    "id": "hJX4VtuOmwXt",
    "outputId": "6f18fea9-de53-4bde-c143-9c1269ea686c"
   },
   "outputs": [
    {
     "data": {
      "text/plain": [
       "[2]"
      ]
     },
     "execution_count": 183,
     "metadata": {},
     "output_type": "execute_result"
    }
   ],
   "source": [
    "L[1] # aqui accedo a la posicion 1 de la lista\n",
    "[1] # esto es una lista con el elemento 2"
   ]
  },
  {
   "cell_type": "code",
   "execution_count": 185,
   "metadata": {
    "id": "9B4I8af5mwXu"
   },
   "outputs": [],
   "source": [
    "L[0] = 99"
   ]
  },
  {
   "cell_type": "code",
   "execution_count": 186,
   "metadata": {},
   "outputs": [
    {
     "data": {
      "text/plain": [
       "[99, 2]"
      ]
     },
     "execution_count": 186,
     "metadata": {},
     "output_type": "execute_result"
    }
   ],
   "source": [
    "L"
   ]
  },
  {
   "cell_type": "code",
   "execution_count": 191,
   "metadata": {
    "id": "YnkqWLYVmwXu"
   },
   "outputs": [],
   "source": [
    "L=[1,2,3,4,5] # sobreescrivo\n",
    "# L[2:4]=[0]"
   ]
  },
  {
   "cell_type": "code",
   "execution_count": 188,
   "metadata": {},
   "outputs": [],
   "source": [
    "l = []"
   ]
  },
  {
   "cell_type": "code",
   "execution_count": 189,
   "metadata": {},
   "outputs": [
    {
     "data": {
      "text/plain": [
       "[2]"
      ]
     },
     "execution_count": 189,
     "metadata": {},
     "output_type": "execute_result"
    }
   ],
   "source": [
    "l+[2]"
   ]
  },
  {
   "cell_type": "code",
   "execution_count": 194,
   "metadata": {},
   "outputs": [
    {
     "data": {
      "text/plain": [
       "[1, 2, 3, [], 5]"
      ]
     },
     "execution_count": 194,
     "metadata": {},
     "output_type": "execute_result"
    }
   ],
   "source": [
    "L"
   ]
  },
  {
   "cell_type": "code",
   "execution_count": 193,
   "metadata": {
    "id": "YXUnLdQomwXu"
   },
   "outputs": [],
   "source": [
    "L[3] = [] # la posición 3 (que era un 4) la cambio por una lista vacía"
   ]
  },
  {
   "cell_type": "code",
   "execution_count": 195,
   "metadata": {
    "id": "y8jnH2XqmwXu"
   },
   "outputs": [],
   "source": [
    "del L[1]"
   ]
  },
  {
   "cell_type": "code",
   "execution_count": 196,
   "metadata": {
    "colab": {
     "base_uri": "https://localhost:8080/"
    },
    "id": "Rmr3UILkmwXu",
    "outputId": "9460b503-9ad5-45e0-a221-48fc27b79faa"
   },
   "outputs": [
    {
     "data": {
      "text/plain": [
       "[1, 3, [], 5]"
      ]
     },
     "execution_count": 196,
     "metadata": {},
     "output_type": "execute_result"
    }
   ],
   "source": [
    "L"
   ]
  },
  {
   "cell_type": "code",
   "execution_count": 199,
   "metadata": {},
   "outputs": [
    {
     "data": {
      "text/plain": [
       "[1, 'hola', 2, 3, 4, 5]"
      ]
     },
     "execution_count": 199,
     "metadata": {},
     "output_type": "execute_result"
    }
   ],
   "source": [
    "x"
   ]
  },
  {
   "cell_type": "code",
   "execution_count": 198,
   "metadata": {
    "id": "hOuwmyVOmwXu"
   },
   "outputs": [],
   "source": [
    "x.insert(1,\"hola\") # no devuelve nada pero si que lo hace, modifica internamente"
   ]
  },
  {
   "cell_type": "code",
   "execution_count": 204,
   "metadata": {
    "id": "Qt-un3NjmwXu"
   },
   "outputs": [],
   "source": [
    "x = [1,2,3,4,5]"
   ]
  },
  {
   "cell_type": "code",
   "execution_count": 205,
   "metadata": {
    "colab": {
     "base_uri": "https://localhost:8080/"
    },
    "id": "ObK6OevNmwXv",
    "outputId": "943c1a23-9c4d-4078-d231-8f2bdb03ce70"
   },
   "outputs": [
    {
     "name": "stdout",
     "output_type": "stream",
     "text": [
      "[1, 2, 3, 4, 5, 2]\n"
     ]
    }
   ],
   "source": [
    "x.extend([2]) # x = x+[2]\n",
    "print(x)"
   ]
  },
  {
   "cell_type": "code",
   "execution_count": 206,
   "metadata": {
    "id": "BoUi1C3fmwXv"
   },
   "outputs": [],
   "source": [
    "x.extend([2,9]) # no devuelve"
   ]
  },
  {
   "cell_type": "code",
   "execution_count": 209,
   "metadata": {},
   "outputs": [
    {
     "data": {
      "text/plain": [
       "[1, 2, 3, 4, 5, 2, 2, 9, 2, 2, 2, 2, [2]]"
      ]
     },
     "execution_count": 209,
     "metadata": {},
     "output_type": "execute_result"
    }
   ],
   "source": [
    "x"
   ]
  },
  {
   "cell_type": "code",
   "execution_count": 208,
   "metadata": {
    "id": "za5z-e-jmwXz"
   },
   "outputs": [],
   "source": [
    "x.extend([2,2,2,2,[2]]) # concatena"
   ]
  },
  {
   "cell_type": "code",
   "execution_count": 214,
   "metadata": {},
   "outputs": [
    {
     "data": {
      "text/plain": [
       "[1, 2, 3, 4, 5, 2, 2, 9, 2, 2, 2, 2, [2], 2, 2]"
      ]
     },
     "execution_count": 214,
     "metadata": {},
     "output_type": "execute_result"
    }
   ],
   "source": [
    "x"
   ]
  },
  {
   "cell_type": "code",
   "execution_count": 216,
   "metadata": {
    "id": "W0BF9o6ymwXz"
   },
   "outputs": [],
   "source": [
    "x.append([2,2]) # añade una posición al final"
   ]
  },
  {
   "cell_type": "code",
   "execution_count": 217,
   "metadata": {},
   "outputs": [
    {
     "data": {
      "text/plain": [
       "[1, 2, 3, 4, 5, 2, 2, 9, 2, 2, 2, 2, [2], 2, 2, [2, 2], [2, 2]]"
      ]
     },
     "execution_count": 217,
     "metadata": {},
     "output_type": "execute_result"
    }
   ],
   "source": [
    "x"
   ]
  },
  {
   "cell_type": "code",
   "execution_count": 220,
   "metadata": {
    "id": "JboJsBYjmwXz"
   },
   "outputs": [],
   "source": [
    "x.append(\"3\")"
   ]
  },
  {
   "cell_type": "code",
   "execution_count": 221,
   "metadata": {
    "colab": {
     "base_uri": "https://localhost:8080/"
    },
    "id": "F3UDtzWUmwXz",
    "outputId": "cd0990cf-032d-4de1-ceaf-971ce22898e9"
   },
   "outputs": [
    {
     "name": "stdout",
     "output_type": "stream",
     "text": [
      "[1, 2, 3, 4, 5, 2, 2, 9, 2, 2, 2, 2, [2], 2, 2, [2, 2], [2, 2], 3, '3']\n"
     ]
    }
   ],
   "source": [
    "print(x)"
   ]
  },
  {
   "cell_type": "code",
   "execution_count": 226,
   "metadata": {
    "id": "cyYHYh6QmwXz",
    "outputId": "65862429-ab6d-407b-c1f6-fb17a6a3bbe8"
   },
   "outputs": [
    {
     "name": "stdout",
     "output_type": "stream",
     "text": [
      "[] 0\n",
      "[0] 2\n",
      "[0, 2] 4\n",
      "[0, 2, 4] 6\n",
      "[0, 2, 4, 6] 8\n"
     ]
    }
   ],
   "source": [
    "L=[] # creo una lista vacia\n",
    "i=0 # declaro una variable i que tiene valor 0\n",
    "print(L, i)\n",
    "L.append(i) # añado i a la lista (L = [0])\n",
    "i=i+2 # actualizo/incremento mi i en 2 (i = 2)\n",
    "print(L, i)\n",
    "L.append(i) # añado i a la lista (i=2) (L=[0,2])\n",
    "i=i+2 # i = 4\n",
    "print(L, i)\n",
    "L.append(i) #L=[0,2,4]\n",
    "i=i+2 # i= 6\n",
    "print(L, i)\n",
    "L.append(i) #L=[0,2,4,6]\n",
    "i=i+2\n",
    "print(L, i) # print imprime lo que le doy,\n",
    "# si separo por comas me imprime diferentes objetos"
   ]
  },
  {
   "cell_type": "code",
   "execution_count": 225,
   "metadata": {},
   "outputs": [
    {
     "data": {
      "text/plain": [
       "[0, 2, 4, 6]"
      ]
     },
     "execution_count": 225,
     "metadata": {},
     "output_type": "execute_result"
    }
   ],
   "source": [
    "L"
   ]
  },
  {
   "cell_type": "code",
   "execution_count": 227,
   "metadata": {
    "colab": {
     "base_uri": "https://localhost:8080/"
    },
    "id": "dCjHDwsSmwX0",
    "outputId": "7d586555-3adb-4b4f-8a97-50eda6e9c15f"
   },
   "outputs": [
    {
     "data": {
      "text/plain": [
       "[1, 2, 3, 4]"
      ]
     },
     "execution_count": 227,
     "metadata": {},
     "output_type": "execute_result"
    }
   ],
   "source": [
    "# cambio el segundo valor de la lista por 99\n",
    "x = [1,2,3,4]\n",
    "x"
   ]
  },
  {
   "cell_type": "code",
   "execution_count": 228,
   "metadata": {
    "id": "0WeE5XZZmwX0"
   },
   "outputs": [],
   "source": [
    "# hago una copia de la referencia\n",
    "a = x"
   ]
  },
  {
   "cell_type": "code",
   "execution_count": 230,
   "metadata": {
    "id": "x-OUWPHpmwX0"
   },
   "outputs": [],
   "source": [
    "# a la segunda posicion le cambio el valor\n",
    "a[1] = 10000"
   ]
  },
  {
   "cell_type": "code",
   "execution_count": 231,
   "metadata": {
    "id": "PidvvbnAmwX0",
    "outputId": "ceec5084-9be9-4d01-b88e-900e5274a4fa"
   },
   "outputs": [
    {
     "data": {
      "text/plain": [
       "[1, 10000, 3, 4]"
      ]
     },
     "execution_count": 231,
     "metadata": {},
     "output_type": "execute_result"
    }
   ],
   "source": [
    "a"
   ]
  },
  {
   "cell_type": "code",
   "execution_count": 232,
   "metadata": {
    "id": "-XsZHU3bmwX0",
    "outputId": "9dc53fb8-77de-4877-ce87-f234821a81b2"
   },
   "outputs": [
    {
     "data": {
      "text/plain": [
       "[1, 10000, 3, 4]"
      ]
     },
     "execution_count": 232,
     "metadata": {},
     "output_type": "execute_result"
    }
   ],
   "source": [
    "x"
   ]
  },
  {
   "cell_type": "code",
   "execution_count": 233,
   "metadata": {
    "id": "m9YccwXVmwX0"
   },
   "outputs": [],
   "source": [
    "L=[1,2]\n",
    "M=[L,L]"
   ]
  },
  {
   "cell_type": "code",
   "execution_count": 235,
   "metadata": {
    "id": "odOOjpabmwX1"
   },
   "outputs": [],
   "source": [
    "L[0]=99"
   ]
  },
  {
   "cell_type": "code",
   "execution_count": 236,
   "metadata": {
    "id": "3gFsgeTimwX1",
    "outputId": "77ed45f2-313c-4d28-f872-a2050ad2cb97"
   },
   "outputs": [
    {
     "data": {
      "text/plain": [
       "[[99, 2], [99, 2]]"
      ]
     },
     "execution_count": 236,
     "metadata": {},
     "output_type": "execute_result"
    }
   ],
   "source": [
    "M"
   ]
  },
  {
   "cell_type": "code",
   "execution_count": 241,
   "metadata": {
    "id": "vDlXgv-GmwX1"
   },
   "outputs": [],
   "source": [
    "# Aqui hago una copia de los VALORES\n",
    "a = M.copy()"
   ]
  },
  {
   "cell_type": "code",
   "execution_count": 244,
   "metadata": {},
   "outputs": [],
   "source": [
    "L[0] = 0"
   ]
  },
  {
   "cell_type": "code",
   "execution_count": 246,
   "metadata": {},
   "outputs": [
    {
     "data": {
      "text/plain": [
       "[[0, 2], [0, 2]]"
      ]
     },
     "execution_count": 246,
     "metadata": {},
     "output_type": "execute_result"
    }
   ],
   "source": [
    "M"
   ]
  },
  {
   "cell_type": "code",
   "execution_count": 247,
   "metadata": {},
   "outputs": [
    {
     "data": {
      "text/plain": [
       "[[0, 2], [0, 2]]"
      ]
     },
     "execution_count": 247,
     "metadata": {},
     "output_type": "execute_result"
    }
   ],
   "source": [
    "a"
   ]
  },
  {
   "cell_type": "code",
   "execution_count": 239,
   "metadata": {
    "id": "TFGC15hFmwX1",
    "outputId": "85869a6f-9751-4117-e905-3e6e135c5d96"
   },
   "outputs": [
    {
     "data": {
      "text/plain": [
       "[1, 0, 3, 4]"
      ]
     },
     "execution_count": 239,
     "metadata": {},
     "output_type": "execute_result"
    }
   ],
   "source": [
    "a[1]=0\n",
    "a"
   ]
  },
  {
   "cell_type": "code",
   "execution_count": 1,
   "metadata": {
    "id": "7KFdGJJJmwX1"
   },
   "outputs": [],
   "source": [
    "x=[1,99,23]"
   ]
  },
  {
   "cell_type": "code",
   "execution_count": 4,
   "metadata": {
    "id": "ZCjxK-VzmwX1"
   },
   "outputs": [],
   "source": [
    "x.sort(reverse=True) # modifica internamente"
   ]
  },
  {
   "cell_type": "code",
   "execution_count": 5,
   "metadata": {
    "id": "fTXdnATSmwX2",
    "outputId": "bfdbc625-2eb0-4767-d6bd-fab1497dc0d7"
   },
   "outputs": [
    {
     "data": {
      "text/plain": [
       "[99, 23, 1]"
      ]
     },
     "execution_count": 5,
     "metadata": {},
     "output_type": "execute_result"
    }
   ],
   "source": [
    "x"
   ]
  },
  {
   "cell_type": "code",
   "execution_count": 253,
   "metadata": {
    "id": "6I-UZYX9mwX2"
   },
   "outputs": [],
   "source": [
    "n=len(x) # longitud"
   ]
  },
  {
   "cell_type": "code",
   "execution_count": 254,
   "metadata": {},
   "outputs": [
    {
     "data": {
      "text/plain": [
       "3"
      ]
     },
     "execution_count": 254,
     "metadata": {},
     "output_type": "execute_result"
    }
   ],
   "source": [
    "n"
   ]
  },
  {
   "cell_type": "code",
   "execution_count": 6,
   "metadata": {
    "id": "8p6uqLoemwX4"
   },
   "outputs": [],
   "source": [
    "x = [1,2,9,3,9]\n",
    "x.remove(9) # me quita el elemento que le doy, el primero"
   ]
  },
  {
   "cell_type": "code",
   "execution_count": 7,
   "metadata": {},
   "outputs": [
    {
     "data": {
      "text/plain": [
       "[1, 2, 3, 9]"
      ]
     },
     "execution_count": 7,
     "metadata": {},
     "output_type": "execute_result"
    }
   ],
   "source": [
    "x"
   ]
  },
  {
   "cell_type": "code",
   "execution_count": 20,
   "metadata": {
    "id": "Vmprab6LmwX5"
   },
   "outputs": [],
   "source": [
    "x = [1,2,9,3,9]\n",
    "n = x.pop(2) # el pop elimina internamente la posicion que le diga, y me devuelve su valor"
   ]
  },
  {
   "cell_type": "code",
   "execution_count": 12,
   "metadata": {},
   "outputs": [],
   "source": [
    "n=x.pop(2)"
   ]
  },
  {
   "cell_type": "code",
   "execution_count": 21,
   "metadata": {
    "id": "OXz_SO8_mwX5",
    "outputId": "bd42f772-1215-4448-d6c4-5d275000fc52"
   },
   "outputs": [
    {
     "data": {
      "text/plain": [
       "9"
      ]
     },
     "execution_count": 21,
     "metadata": {},
     "output_type": "execute_result"
    }
   ],
   "source": [
    "n"
   ]
  },
  {
   "cell_type": "code",
   "execution_count": 14,
   "metadata": {},
   "outputs": [
    {
     "data": {
      "text/plain": [
       "[1, 2, 9]"
      ]
     },
     "execution_count": 14,
     "metadata": {},
     "output_type": "execute_result"
    }
   ],
   "source": [
    "x"
   ]
  },
  {
   "cell_type": "code",
   "execution_count": 15,
   "metadata": {
    "id": "t5crfbV5mwX5"
   },
   "outputs": [],
   "source": [
    "x.reverse() # internamente"
   ]
  },
  {
   "cell_type": "code",
   "execution_count": 16,
   "metadata": {
    "id": "2t1FdurHmwX5",
    "outputId": "1ef62f8c-0eab-4e9c-d054-af236ce6a89b"
   },
   "outputs": [
    {
     "data": {
      "text/plain": [
       "[9, 2, 1]"
      ]
     },
     "execution_count": 16,
     "metadata": {},
     "output_type": "execute_result"
    }
   ],
   "source": [
    "x"
   ]
  },
  {
   "cell_type": "code",
   "execution_count": 312,
   "metadata": {
    "id": "WHekDkiGmwX6"
   },
   "outputs": [],
   "source": [
    "x=[1,2,3,4,5]"
   ]
  },
  {
   "cell_type": "code",
   "execution_count": 321,
   "metadata": {
    "id": "DQQ99CVdmwX6"
   },
   "outputs": [],
   "source": [
    "x[1:4]=[9,9,9,9,9]"
   ]
  },
  {
   "cell_type": "code",
   "execution_count": 322,
   "metadata": {
    "colab": {
     "base_uri": "https://localhost:8080/"
    },
    "id": "dg5yuutHmwX6",
    "outputId": "57f93d20-9056-46fb-edcd-40e368dc5317"
   },
   "outputs": [
    {
     "data": {
      "text/plain": [
       "[1, 9, 9, 9, 9, 9, 9, 9, 5]"
      ]
     },
     "execution_count": 322,
     "metadata": {},
     "output_type": "execute_result"
    }
   ],
   "source": [
    "x"
   ]
  },
  {
   "cell_type": "code",
   "execution_count": 316,
   "metadata": {
    "colab": {
     "base_uri": "https://localhost:8080/"
    },
    "id": "gOxKaUGXmwX6",
    "outputId": "86a9fc68-e2f2-4bce-abd3-661933fc4a11"
   },
   "outputs": [
    {
     "data": {
      "text/plain": [
       "[4, 5, 6]"
      ]
     },
     "execution_count": 316,
     "metadata": {},
     "output_type": "execute_result"
    }
   ],
   "source": [
    "y"
   ]
  },
  {
   "cell_type": "code",
   "execution_count": 317,
   "metadata": {
    "colab": {
     "base_uri": "https://localhost:8080/"
    },
    "id": "TDvWEpQrmwX6",
    "outputId": "f9143431-b152-4e8b-db66-0cca2c1d0b5f"
   },
   "outputs": [
    {
     "data": {
      "text/plain": [
       "[1, 9, 9, 9, 9, 9, 5, 4, 5, 6]"
      ]
     },
     "execution_count": 317,
     "metadata": {},
     "output_type": "execute_result"
    }
   ],
   "source": [
    "x+y"
   ]
  },
  {
   "cell_type": "code",
   "execution_count": 318,
   "metadata": {
    "colab": {
     "base_uri": "https://localhost:8080/"
    },
    "id": "cZ_KxcF6mwX7",
    "outputId": "dfc939b1-4592-4c7f-db54-c65880041aa2"
   },
   "outputs": [
    {
     "data": {
      "text/plain": [
       "[1, 9, 9, 9, 9, 9, 5, 1, 9, 9, 9, 9, 9, 5, 4, 5, 6, 4, 5, 6, 4, 5, 6]"
      ]
     },
     "execution_count": 318,
     "metadata": {},
     "output_type": "execute_result"
    }
   ],
   "source": [
    "2*x+3*y"
   ]
  },
  {
   "cell_type": "code",
   "execution_count": 324,
   "metadata": {
    "id": "utSHOHs28KuO"
   },
   "outputs": [
    {
     "data": {
      "text/plain": [
       "False"
      ]
     },
     "execution_count": 324,
     "metadata": {},
     "output_type": "execute_result"
    }
   ],
   "source": [
    "5 in [1,2,3,4,\"jiji\"]"
   ]
  },
  {
   "cell_type": "code",
   "execution_count": 327,
   "metadata": {},
   "outputs": [
    {
     "data": {
      "text/plain": [
       "2"
      ]
     },
     "execution_count": 327,
     "metadata": {},
     "output_type": "execute_result"
    }
   ],
   "source": [
    "L[1]"
   ]
  },
  {
   "cell_type": "code",
   "execution_count": 330,
   "metadata": {},
   "outputs": [
    {
     "data": {
      "text/plain": [
       "2"
      ]
     },
     "execution_count": 330,
     "metadata": {},
     "output_type": "execute_result"
    }
   ],
   "source": [
    "L[len(L)-1]"
   ]
  },
  {
   "cell_type": "code",
   "execution_count": 336,
   "metadata": {},
   "outputs": [
    {
     "data": {
      "text/plain": [
       "1.4142135623730951"
      ]
     },
     "execution_count": 336,
     "metadata": {},
     "output_type": "execute_result"
    }
   ],
   "source": [
    "2**(1/2)"
   ]
  },
  {
   "cell_type": "markdown",
   "metadata": {
    "id": "DpVzT5eXmwX8"
   },
   "source": [
    "#### Booleanos\n",
    "True (1) y False (0)"
   ]
  },
  {
   "cell_type": "code",
   "execution_count": 337,
   "metadata": {
    "colab": {
     "base_uri": "https://localhost:8080/"
    },
    "id": "M2Xj8dDbmwX8",
    "outputId": "d8809c3f-9341-46e1-e9e8-94c8be069464"
   },
   "outputs": [
    {
     "data": {
      "text/plain": [
       "10"
      ]
     },
     "execution_count": 337,
     "metadata": {},
     "output_type": "execute_result"
    }
   ],
   "source": [
    "True*10 # es como si fuera un 1"
   ]
  },
  {
   "cell_type": "code",
   "execution_count": 338,
   "metadata": {
    "id": "5c2kHVtumwX9",
    "outputId": "1629b0a8-727f-4c77-a35b-4ee7f55f5699"
   },
   "outputs": [
    {
     "data": {
      "text/plain": [
       "0"
      ]
     },
     "execution_count": 338,
     "metadata": {},
     "output_type": "execute_result"
    }
   ],
   "source": [
    "False*100 # False es como si fuera 0"
   ]
  },
  {
   "cell_type": "code",
   "execution_count": 345,
   "metadata": {},
   "outputs": [
    {
     "data": {
      "text/plain": [
       "[1, 2, 3]"
      ]
     },
     "execution_count": 345,
     "metadata": {},
     "output_type": "execute_result"
    }
   ],
   "source": [
    "[1,2,3]*True"
   ]
  },
  {
   "cell_type": "markdown",
   "metadata": {
    "id": "rUGNcOgKmwX9"
   },
   "source": [
    "#### Las sentencias booleanas son combinaciones de valores booleanos"
   ]
  },
  {
   "cell_type": "code",
   "execution_count": 347,
   "metadata": {
    "id": "V5g9AU3VmwX9",
    "outputId": "04c6622f-6554-461a-db51-98ac503573e4"
   },
   "outputs": [
    {
     "data": {
      "text/plain": [
       "True"
      ]
     },
     "execution_count": 347,
     "metadata": {},
     "output_type": "execute_result"
    }
   ],
   "source": [
    "not True"
   ]
  },
  {
   "cell_type": "code",
   "execution_count": 348,
   "metadata": {
    "id": "e3WEJz2SmwX9",
    "outputId": "fb253d43-0994-49b0-9035-9d331caaf08c"
   },
   "outputs": [
    {
     "data": {
      "text/plain": [
       "False"
      ]
     },
     "execution_count": 348,
     "metadata": {},
     "output_type": "execute_result"
    }
   ],
   "source": [
    "True and False # esto es una condicion booleana\n",
    "# no pasan las dos condiciones"
   ]
  },
  {
   "cell_type": "code",
   "execution_count": 349,
   "metadata": {
    "id": "7YJzi_3umwX9",
    "outputId": "38e1fae1-ef13-471b-c34c-4e9f06b0e0bb"
   },
   "outputs": [
    {
     "data": {
      "text/plain": [
       "True"
      ]
     },
     "execution_count": 349,
     "metadata": {},
     "output_type": "execute_result"
    }
   ],
   "source": [
    "True and True"
   ]
  },
  {
   "cell_type": "code",
   "execution_count": 350,
   "metadata": {},
   "outputs": [
    {
     "data": {
      "text/plain": [
       "False"
      ]
     },
     "execution_count": 350,
     "metadata": {},
     "output_type": "execute_result"
    }
   ],
   "source": [
    "False and False"
   ]
  },
  {
   "cell_type": "code",
   "execution_count": 355,
   "metadata": {
    "id": "zdbCZR9OmwX9",
    "outputId": "c703aae7-d856-4951-d9d3-eb7504e8ef92"
   },
   "outputs": [
    {
     "data": {
      "text/plain": [
       "False"
      ]
     },
     "execution_count": 355,
     "metadata": {},
     "output_type": "execute_result"
    }
   ],
   "source": [
    "x = 5\n",
    "x>3 and x>6 # es una condicion booleana"
   ]
  },
  {
   "cell_type": "code",
   "execution_count": 357,
   "metadata": {
    "colab": {
     "base_uri": "https://localhost:8080/"
    },
    "id": "eCIMlBermwX-",
    "outputId": "3a18057f-f76f-4c2d-9570-92da4e3aee17"
   },
   "outputs": [
    {
     "data": {
      "text/plain": [
       "True"
      ]
     },
     "execution_count": 357,
     "metadata": {},
     "output_type": "execute_result"
    }
   ],
   "source": [
    "False or True\n",
    "# para que esta frase sea cierta, o bien la izquierda es cierta o la dercha es cierta"
   ]
  },
  {
   "cell_type": "code",
   "execution_count": 359,
   "metadata": {
    "colab": {
     "base_uri": "https://localhost:8080/"
    },
    "id": "ORumM36CmwX-",
    "outputId": "2fd0fd9f-0797-4dbd-8c33-44fbbe5d5556"
   },
   "outputs": [
    {
     "data": {
      "text/plain": [
       "True"
      ]
     },
     "execution_count": 359,
     "metadata": {},
     "output_type": "execute_result"
    }
   ],
   "source": [
    "x=5\n",
    "x > 8 or x > 1 #True porque la segunda se cumple"
   ]
  },
  {
   "cell_type": "code",
   "execution_count": 360,
   "metadata": {
    "id": "RMP57b_nmwX-",
    "outputId": "e66d3ff9-7378-4c84-aece-5f270222660c"
   },
   "outputs": [
    {
     "data": {
      "text/plain": [
       "False"
      ]
     },
     "execution_count": 360,
     "metadata": {},
     "output_type": "execute_result"
    }
   ],
   "source": [
    "not (True or False)"
   ]
  },
  {
   "cell_type": "code",
   "execution_count": 361,
   "metadata": {
    "id": "-8gMLGp4mwX-",
    "outputId": "77c0ac82-b56e-4744-c33f-1be0032ece91"
   },
   "outputs": [
    {
     "data": {
      "text/plain": [
       "False"
      ]
     },
     "execution_count": 361,
     "metadata": {},
     "output_type": "execute_result"
    }
   ],
   "source": [
    "not (x > 8 or x > 1)"
   ]
  },
  {
   "cell_type": "code",
   "execution_count": 363,
   "metadata": {
    "colab": {
     "base_uri": "https://localhost:8080/"
    },
    "id": "fJ3A0_x-mwX-",
    "outputId": "842539b4-4e94-4146-ae54-3796ce097104"
   },
   "outputs": [
    {
     "data": {
      "text/plain": [
       "False"
      ]
     },
     "execution_count": 363,
     "metadata": {},
     "output_type": "execute_result"
    }
   ],
   "source": [
    "2 == 3 # == compara\n",
    "# 2 == 3 es un booleano"
   ]
  },
  {
   "cell_type": "code",
   "execution_count": 364,
   "metadata": {
    "colab": {
     "base_uri": "https://localhost:8080/"
    },
    "id": "2XOWdKRLmwX-",
    "outputId": "d3958a88-409e-4e2e-81f7-d2a4c917853f"
   },
   "outputs": [
    {
     "data": {
      "text/plain": [
       "True"
      ]
     },
     "execution_count": 364,
     "metadata": {},
     "output_type": "execute_result"
    }
   ],
   "source": [
    "2 != 3"
   ]
  },
  {
   "cell_type": "code",
   "execution_count": 365,
   "metadata": {
    "id": "IwR0tuLTmwX_",
    "outputId": "6d2dd2a9-be71-4395-902b-67ff69c868d3"
   },
   "outputs": [
    {
     "data": {
      "text/plain": [
       "True"
      ]
     },
     "execution_count": 365,
     "metadata": {},
     "output_type": "execute_result"
    }
   ],
   "source": [
    "2 < 3"
   ]
  },
  {
   "cell_type": "code",
   "execution_count": 366,
   "metadata": {
    "id": "zMvMNENBmwX_",
    "outputId": "bd69c6e0-fbe7-4753-e226-950a45fe1248"
   },
   "outputs": [
    {
     "data": {
      "text/plain": [
       "False"
      ]
     },
     "execution_count": 366,
     "metadata": {},
     "output_type": "execute_result"
    }
   ],
   "source": [
    "2 >= 3"
   ]
  },
  {
   "cell_type": "code",
   "execution_count": 367,
   "metadata": {
    "id": "FhaqRquGmwX_"
   },
   "outputs": [],
   "source": [
    "x = 4\n",
    "y = 3"
   ]
  },
  {
   "cell_type": "code",
   "execution_count": 368,
   "metadata": {
    "colab": {
     "base_uri": "https://localhost:8080/"
    },
    "id": "HdhcGXuimwX_",
    "outputId": "4717d6f3-42b1-468a-b480-5d891cbb96ed"
   },
   "outputs": [
    {
     "data": {
      "text/plain": [
       "False"
      ]
     },
     "execution_count": 368,
     "metadata": {},
     "output_type": "execute_result"
    }
   ],
   "source": [
    "x == y"
   ]
  },
  {
   "cell_type": "code",
   "execution_count": 369,
   "metadata": {
    "id": "lrqJHhxzmwX_",
    "outputId": "e23a28a6-129f-4bc2-cb46-874548305a31"
   },
   "outputs": [
    {
     "data": {
      "text/plain": [
       "True"
      ]
     },
     "execution_count": 369,
     "metadata": {},
     "output_type": "execute_result"
    }
   ],
   "source": [
    "y < x"
   ]
  },
  {
   "cell_type": "code",
   "execution_count": 370,
   "metadata": {
    "id": "FUyO6548mwX_",
    "outputId": "2ca06339-f7d8-4a2d-86ad-5e46627a81c6"
   },
   "outputs": [
    {
     "data": {
      "text/plain": [
       "True"
      ]
     },
     "execution_count": 370,
     "metadata": {},
     "output_type": "execute_result"
    }
   ],
   "source": [
    "x == y or y < x # False or True -> True"
   ]
  },
  {
   "cell_type": "code",
   "execution_count": 371,
   "metadata": {
    "id": "Tg0ZZkrVmwYA"
   },
   "outputs": [],
   "source": [
    "x = 2"
   ]
  },
  {
   "cell_type": "code",
   "execution_count": 374,
   "metadata": {
    "colab": {
     "base_uri": "https://localhost:8080/"
    },
    "id": "eh3O_brzmwYA",
    "outputId": "62881c63-bb68-424a-e22e-b382b4d1cb1f"
   },
   "outputs": [
    {
     "name": "stdout",
     "output_type": "stream",
     "text": [
      "x = 2 es : True\n"
     ]
    }
   ],
   "source": [
    "print(\"x = 2 es :\", x == 2)"
   ]
  },
  {
   "cell_type": "markdown",
   "metadata": {
    "id": "iVfGw-4O70w2"
   },
   "source": [
    "### Ejercicio: x+3>7 Y 2 veces x sea menor que 12"
   ]
  },
  {
   "cell_type": "code",
   "execution_count": 375,
   "metadata": {
    "id": "Lkrkg72amwYA"
   },
   "outputs": [],
   "source": [
    "# Ponemos un x inicial\n",
    "x=5"
   ]
  },
  {
   "cell_type": "code",
   "execution_count": 376,
   "metadata": {
    "colab": {
     "base_uri": "https://localhost:8080/"
    },
    "id": "g46XIsfFmwYA",
    "outputId": "a2a82b76-d2d4-40c1-e5dd-6091c51b4e28"
   },
   "outputs": [
    {
     "data": {
      "text/plain": [
       "True"
      ]
     },
     "execution_count": 376,
     "metadata": {},
     "output_type": "execute_result"
    }
   ],
   "source": []
  },
  {
   "cell_type": "code",
   "execution_count": 378,
   "metadata": {
    "id": "OngcnBjAmwYA"
   },
   "outputs": [
    {
     "data": {
      "text/plain": [
       "True"
      ]
     },
     "execution_count": 378,
     "metadata": {},
     "output_type": "execute_result"
    }
   ],
   "source": [
    "7<(x+3)"
   ]
  },
  {
   "cell_type": "code",
   "execution_count": 393,
   "metadata": {
    "colab": {
     "base_uri": "https://localhost:8080/",
     "height": 36
    },
    "id": "ReUG0k-JmwYB",
    "outputId": "4ce2c1d2-1aa9-4cbc-b7af-e95878f9b67d"
   },
   "outputs": [
    {
     "data": {
      "text/plain": [
       "''"
      ]
     },
     "execution_count": 393,
     "metadata": {},
     "output_type": "execute_result"
    }
   ],
   "source": [
    "x=3\n",
    "(x==2)*\"hola\" # True es como si fuera 1"
   ]
  },
  {
   "cell_type": "code",
   "execution_count": 381,
   "metadata": {
    "colab": {
     "base_uri": "https://localhost:8080/",
     "height": 36
    },
    "id": "hp0S0n_ImwYB",
    "outputId": "8f8cea46-89fb-4995-c17d-9485b7ab998b"
   },
   "outputs": [
    {
     "data": {
      "text/plain": [
       "''"
      ]
     },
     "execution_count": 381,
     "metadata": {},
     "output_type": "execute_result"
    }
   ],
   "source": [
    "\"hola\"*0"
   ]
  },
  {
   "cell_type": "code",
   "execution_count": 385,
   "metadata": {
    "colab": {
     "base_uri": "https://localhost:8080/",
     "height": 36
    },
    "id": "7fdtYiAfmwYB",
    "outputId": "017405e1-24c0-4d2a-c0b3-e892ddaa838d"
   },
   "outputs": [
    {
     "data": {
      "text/plain": [
       "'holaadios'"
      ]
     },
     "execution_count": 385,
     "metadata": {},
     "output_type": "execute_result"
    }
   ],
   "source": [
    "\"hola\"+\"adios\""
   ]
  },
  {
   "cell_type": "markdown",
   "metadata": {
    "id": "F9sQv73emwYB"
   },
   "source": [
    "### Ejercicio\n",
    "Dado un x, imprime 'hola' si x es 2 y adios si x es diferente de 2"
   ]
  },
  {
   "cell_type": "code",
   "execution_count": 402,
   "metadata": {},
   "outputs": [],
   "source": [
    "x=3"
   ]
  },
  {
   "cell_type": "code",
   "execution_count": 397,
   "metadata": {
    "colab": {
     "base_uri": "https://localhost:8080/",
     "height": 36
    },
    "id": "z1te7nuDmwYB",
    "outputId": "98afc6d3-50ba-4264-b8e5-918a11fcdee6"
   },
   "outputs": [
    {
     "data": {
      "text/plain": [
       "''"
      ]
     },
     "execution_count": 397,
     "metadata": {},
     "output_type": "execute_result"
    }
   ],
   "source": [
    "# no hay que utilizar ifs\n"
   ]
  },
  {
   "cell_type": "markdown",
   "metadata": {
    "id": "9XGUqUkMmwYD"
   },
   "source": [
    "### Ejercicio\n",
    "Crea un programa que en función de 3 variables numéricas a, b y c, devuelva el valor booleano de la siguiente expresión:  “a es mayor que b Y b es mayor que c Y a es mayor que dos veces c”.\n",
    "\n",
    "Para el caso a = 8, b = 6 y c = 2 debe devolver True. \\\n",
    "Para el caso a = 8, b = 6 y c = 5 debe devolver False.\n"
   ]
  },
  {
   "cell_type": "code",
   "execution_count": null,
   "metadata": {
    "id": "TeaeedR6mwYD"
   },
   "outputs": [],
   "source": [
    "a = 8\n",
    "b = 6\n",
    "c = 5"
   ]
  },
  {
   "cell_type": "code",
   "execution_count": null,
   "metadata": {
    "colab": {
     "base_uri": "https://localhost:8080/"
    },
    "id": "aYLwj2KJmwYD",
    "outputId": "06ce880c-019f-44f1-9704-1dbd173d4442"
   },
   "outputs": [
    {
     "data": {
      "text/plain": [
       "False"
      ]
     },
     "execution_count": 27,
     "metadata": {},
     "output_type": "execute_result"
    }
   ],
   "source": []
  },
  {
   "cell_type": "markdown",
   "metadata": {
    "id": "1Ot6_kTtmwYD"
   },
   "source": [
    "Dado un número natural, imprime “Par!” por pantalla si el cuadrado +3 de este número es un número par y “Impar!” si no lo es."
   ]
  },
  {
   "cell_type": "code",
   "execution_count": null,
   "metadata": {},
   "outputs": [],
   "source": []
  },
  {
   "cell_type": "markdown",
   "metadata": {
    "id": "3ag3gwygmwYF"
   },
   "source": [
    "# Condicionales\n",
    "* if\n",
    "* else\n",
    "* Ej. Maximo\n",
    "* Valor True*'Hola'\n",
    "* Valores especiales\n",
    "* elif\n",
    "* if else\n"
   ]
  },
  {
   "cell_type": "code",
   "execution_count": null,
   "metadata": {
    "colab": {
     "base_uri": "https://localhost:8080/"
    },
    "id": "CCwdeUApmwYF",
    "outputId": "2e0bc60e-e1da-415e-eeb6-5f642fa6b589"
   },
   "outputs": [
    {
     "name": "stdout",
     "output_type": "stream",
     "text": [
      "fuera\n"
     ]
    }
   ],
   "source": [
    "if False :\n",
    "    print(\"si\")\n",
    "    print(\"no\")\n",
    "print(\"fuera\")"
   ]
  },
  {
   "cell_type": "code",
   "execution_count": null,
   "metadata": {
    "colab": {
     "base_uri": "https://localhost:8080/"
    },
    "id": "7YCUr1RpmwYG",
    "outputId": "6c7f5b7d-6206-4628-85fa-27827b58f3b3"
   },
   "outputs": [
    {
     "name": "stdout",
     "output_type": "stream",
     "text": [
      "adios\n"
     ]
    }
   ],
   "source": [
    "x = 10 # declaro x\n",
    "if x >= 18: # el if primero mira la condicion booleana\n",
    "    print('hola a todos')\n",
    "    # si se cumple la condicion booleana se ejecuta el print\n",
    "    # detras del if debe haber una tabulacion = 4 espacios = pulsar la tecla tab\n",
    "    print(\"me ejecuto si se cumple la condicion\") # esto esta dentro del if\n",
    "print(\"adios\") # se ejecuta siempre porque esta fuera del if!"
   ]
  },
  {
   "cell_type": "code",
   "execution_count": null,
   "metadata": {
    "colab": {
     "base_uri": "https://localhost:8080/"
    },
    "id": "RntNB8R-mwYG",
    "outputId": "20cae97a-1853-454f-f79e-cc42499844c0"
   },
   "outputs": [
    {
     "name": "stdout",
     "output_type": "stream",
     "text": [
      "hola\n",
      "adios\n"
     ]
    }
   ],
   "source": [
    "# tab para poner y shift+tab para quitar\n",
    "y=8\n",
    "if y >= 8:\n",
    "    if x==10:\n",
    "        print(\"hola\")\n",
    "        print(\"adios\")"
   ]
  },
  {
   "cell_type": "code",
   "execution_count": null,
   "metadata": {
    "id": "uDpTT85fmwYG"
   },
   "outputs": [],
   "source": [
    "x = 7\n",
    "if x > 10:\n",
    "    print(\"hola\")\n",
    "# sale del if\n",
    "if x > 5: # entra al segundo if\n",
    "    print(\"sigue\")"
   ]
  },
  {
   "cell_type": "code",
   "execution_count": null,
   "metadata": {
    "id": "FoxdELFNmwYG"
   },
   "outputs": [],
   "source": [
    "x = 7\n",
    "if x > 10:# no entra en el primer if porque no se cumple la condcion booleana\n",
    "    print(\"hola\")\n",
    "    if x > 5: # no ha entrado al primer if, y no se ejecuta esta condicion\n",
    "        print(\"sigue\")"
   ]
  },
  {
   "cell_type": "code",
   "execution_count": null,
   "metadata": {
    "id": "dg_Co00hmwYG",
    "outputId": "f425a168-4796-41d9-9fc4-ad429ba30e55"
   },
   "outputs": [
    {
     "name": "stdout",
     "output_type": "stream",
     "text": [
      "16356279 es impar\n"
     ]
    }
   ],
   "source": [
    "# con if y else y dado un x decid si es par o no es par\n",
    "x=16356279\n",
    "if x%2==0:\n",
    "    print(x, \"es par\")\n",
    "    # conjunto de operaciones 1\n",
    "else:\n",
    "    # conjunto de operaciones 2\n",
    "    print(x, \"es impar\")"
   ]
  },
  {
   "cell_type": "code",
   "execution_count": null,
   "metadata": {
    "colab": {
     "base_uri": "https://localhost:8080/"
    },
    "id": "U5ks7NRKmwYG",
    "outputId": "d4abbe9d-4f10-47ca-c49e-5ae14674a2ce"
   },
   "outputs": [
    {
     "name": "stdout",
     "output_type": "stream",
     "text": [
      "soy mayor que 2\n"
     ]
    }
   ],
   "source": [
    "x = 4\n",
    "if x > 2:\n",
    "    print('soy mayor que 2')\n",
    "    if x > 5:\n",
    "        print('soy mayor que 5')\n",
    "\n",
    "# con tab genero el espacio del if\n",
    "# shift+tab lo quito"
   ]
  },
  {
   "cell_type": "code",
   "execution_count": null,
   "metadata": {
    "colab": {
     "base_uri": "https://localhost:8080/"
    },
    "id": "wt9cTHjgmwYH",
    "outputId": "c5fa389b-07a4-4113-9c97-5b2f8220d46d"
   },
   "outputs": [
    {
     "name": "stdout",
     "output_type": "stream",
     "text": [
      "adolescente\n"
     ]
    }
   ],
   "source": [
    "edad = 15\n",
    "if edad > 12 and edad < 17 and edad%5==0:\n",
    "    print(\"adolescente\")"
   ]
  },
  {
   "cell_type": "markdown",
   "metadata": {
    "id": "cQAmZnE1mwYH"
   },
   "source": [
    "### Ejercicio\n",
    "Haz un programa que encuentre el máximo entre 2 numeros"
   ]
  },
  {
   "cell_type": "code",
   "execution_count": null,
   "metadata": {
    "id": "ywlalPynmwYH"
   },
   "outputs": [],
   "source": [
    "a = 7\n",
    "b = 10"
   ]
  },
  {
   "cell_type": "code",
   "execution_count": null,
   "metadata": {
    "colab": {
     "base_uri": "https://localhost:8080/"
    },
    "id": "pT5GltJfmwYH",
    "outputId": "e220c489-82f2-4d6e-b293-2d0018a465d9"
   },
   "outputs": [
    {
     "name": "stdout",
     "output_type": "stream",
     "text": [
      "10\n"
     ]
    }
   ],
   "source": []
  },
  {
   "cell_type": "code",
   "execution_count": null,
   "metadata": {
    "colab": {
     "base_uri": "https://localhost:8080/"
    },
    "id": "VqQ8FkDEmwYI",
    "outputId": "f8f25ae3-7836-4bfa-f191-9a02266124ea"
   },
   "outputs": [
    {
     "name": "stdout",
     "output_type": "stream",
     "text": [
      "adolescente\n"
     ]
    }
   ],
   "source": [
    "edad = 15\n",
    "if edad < 12:\n",
    "    print(\"niño\")\n",
    "if edad < 18 and edad >= 12:\n",
    "    print(\"adolescente\")\n",
    "if edad < 65 and edad >= 18:\n",
    "    print(\"adulto\")"
   ]
  },
  {
   "cell_type": "code",
   "execution_count": null,
   "metadata": {
    "colab": {
     "base_uri": "https://localhost:8080/"
    },
    "id": "0f-XmN5OmwYI",
    "outputId": "30b37b8d-793a-4fcd-e2c8-b061533a4a36"
   },
   "outputs": [
    {
     "name": "stdout",
     "output_type": "stream",
     "text": [
      "adolescente\n"
     ]
    }
   ],
   "source": [
    "edad = 15\n",
    "if edad < 13:\n",
    "    print(\"niño\")\n",
    "else:\n",
    "    if edad < 20:\n",
    "        print(\"adolescente\")\n",
    "    else:\n",
    "        if edad < 65:\n",
    "            print(\"adulto\")"
   ]
  },
  {
   "cell_type": "markdown",
   "metadata": {
    "id": "ieVOu--bmwYI"
   },
   "source": [
    "## ELIF"
   ]
  },
  {
   "cell_type": "code",
   "execution_count": null,
   "metadata": {
    "id": "R4bk5v31mwYJ"
   },
   "outputs": [],
   "source": [
    "edad = 50"
   ]
  },
  {
   "cell_type": "code",
   "execution_count": null,
   "metadata": {
    "id": "IeH5wk6LmwYJ",
    "outputId": "1fda40d7-075b-48b8-da64-42eb05d27a32"
   },
   "outputs": [
    {
     "name": "stdout",
     "output_type": "stream",
     "text": [
      "adulto\n"
     ]
    }
   ],
   "source": [
    "if edad < 13: # mira primero la condicion\n",
    "    print('niño')\n",
    "elif edad < 18: # si la condicion del if anterior no se cumple, se mira esta\n",
    "    print('adolescente')\n",
    "elif edad < 60: # si las condiciones anterioresno se cumplen, se mira esta\n",
    "    print('adulto')\n",
    "else: # en cualquier otro caso (cuando no se cumplan ninguna de las condiciones anteriores)\n",
    "    # se ejecuta lo que hay dentro del else\n",
    "    print('mayor')"
   ]
  },
  {
   "cell_type": "markdown",
   "metadata": {
    "id": "ewCb-L5jmwYJ"
   },
   "source": [
    "### Ejercicio\n",
    "Haz un programa que encuentre el máximo entre 3 numeros"
   ]
  },
  {
   "cell_type": "code",
   "execution_count": null,
   "metadata": {
    "id": "olgiGgF9mwYJ"
   },
   "outputs": [],
   "source": [
    "a=5\n",
    "b=7\n",
    "c=2"
   ]
  },
  {
   "cell_type": "code",
   "execution_count": null,
   "metadata": {
    "id": "l5ODLIKhmwYJ",
    "outputId": "5a9228e6-703b-4447-d85e-2c5383544e5f"
   },
   "outputs": [
    {
     "name": "stdout",
     "output_type": "stream",
     "text": [
      "7\n"
     ]
    }
   ],
   "source": []
  },
  {
   "cell_type": "markdown",
   "metadata": {
    "id": "c6bvCW_1mwYK"
   },
   "source": [
    "#### IF ELSE EN UNA LINEA"
   ]
  },
  {
   "cell_type": "code",
   "execution_count": null,
   "metadata": {
    "colab": {
     "base_uri": "https://localhost:8080/",
     "height": 36
    },
    "id": "LxezvzI4mwYK",
    "outputId": "36caab7b-062c-4a70-9735-6123c0851754"
   },
   "outputs": [
    {
     "data": {
      "application/vnd.google.colaboratory.intrinsic+json": {
       "type": "string"
      },
      "text/plain": [
       "'positivo'"
      ]
     },
     "execution_count": 78,
     "metadata": {},
     "output_type": "execute_result"
    }
   ],
   "source": [
    "x = 6\n",
    "if x >= 0:\n",
    "    signo=\"positivo\"\n",
    "else:\n",
    "    signo=\"negativo\"\n",
    "signo"
   ]
  },
  {
   "cell_type": "code",
   "execution_count": null,
   "metadata": {
    "colab": {
     "base_uri": "https://localhost:8080/",
     "height": 36
    },
    "id": "nEMBo5ArmwYL",
    "outputId": "2e7df37b-f6da-46c5-b1e4-5ddda1e69aba"
   },
   "outputs": [
    {
     "data": {
      "application/vnd.google.colaboratory.intrinsic+json": {
       "type": "string"
      },
      "text/plain": [
       "'positivo'"
      ]
     },
     "execution_count": 79,
     "metadata": {},
     "output_type": "execute_result"
    }
   ],
   "source": [
    "'positivo' if x > 0 else 'negativo'\n",
    "# valor1 if condicion else valor2"
   ]
  },
  {
   "cell_type": "code",
   "execution_count": null,
   "metadata": {
    "colab": {
     "base_uri": "https://localhost:8080/",
     "height": 36
    },
    "id": "grqdFHJKmwYL",
    "outputId": "4edad1b0-0814-40ff-817b-287a8be772b4"
   },
   "outputs": [
    {
     "data": {
      "application/vnd.google.colaboratory.intrinsic+json": {
       "type": "string"
      },
      "text/plain": [
       "'positivo'"
      ]
     },
     "execution_count": 80,
     "metadata": {},
     "output_type": "execute_result"
    }
   ],
   "source": [
    "x = 6\n",
    "signo = 'positivo' if x > 0 else 'negativo' # if else compacto\n",
    "signo"
   ]
  },
  {
   "cell_type": "code",
   "execution_count": null,
   "metadata": {
    "colab": {
     "base_uri": "https://localhost:8080/"
    },
    "id": "zYaXd_3TmwYL",
    "outputId": "b973e265-cb59-437a-cd15-b265e58787b7"
   },
   "outputs": [
    {
     "data": {
      "text/plain": [
       "7"
      ]
     },
     "execution_count": 82,
     "metadata": {},
     "output_type": "execute_result"
    }
   ],
   "source": [
    "a= 6\n",
    "b=7\n",
    "maximo = a if a > b else b\n",
    "maximo"
   ]
  },
  {
   "cell_type": "code",
   "execution_count": null,
   "metadata": {
    "colab": {
     "base_uri": "https://localhost:8080/"
    },
    "id": "XE6ZIhfYmwYM",
    "outputId": "15f8e9dc-caf6-4c96-bcb0-4b9511ba628e"
   },
   "outputs": [
    {
     "name": "stdout",
     "output_type": "stream",
     "text": [
      "dame un numero 3\n"
     ]
    }
   ],
   "source": [
    "n = input(\"dame un numero \") # pide datos"
   ]
  },
  {
   "cell_type": "code",
   "execution_count": null,
   "metadata": {
    "colab": {
     "base_uri": "https://localhost:8080/",
     "height": 36
    },
    "id": "mrYF3GZnmwYM",
    "outputId": "06f92444-1f6b-43bf-ce1d-b709d67bd1e5"
   },
   "outputs": [
    {
     "data": {
      "application/vnd.google.colaboratory.intrinsic+json": {
       "type": "string"
      },
      "text/plain": [
       "'3'"
      ]
     },
     "execution_count": 85,
     "metadata": {},
     "output_type": "execute_result"
    }
   ],
   "source": [
    "n # es una string"
   ]
  },
  {
   "cell_type": "code",
   "execution_count": null,
   "metadata": {
    "colab": {
     "base_uri": "https://localhost:8080/",
     "height": 36
    },
    "id": "wRcR-8fbmwYM",
    "outputId": "c99be1be-6268-48c7-9c62-d2cf00ceeed3"
   },
   "outputs": [
    {
     "data": {
      "application/vnd.google.colaboratory.intrinsic+json": {
       "type": "string"
      },
      "text/plain": [
       "'3333333333'"
      ]
     },
     "execution_count": 86,
     "metadata": {},
     "output_type": "execute_result"
    }
   ],
   "source": [
    "n*10"
   ]
  },
  {
   "cell_type": "code",
   "execution_count": null,
   "metadata": {
    "colab": {
     "base_uri": "https://localhost:8080/"
    },
    "id": "BQ-Gf-q5mwYN",
    "outputId": "30a59772-aafe-4f4e-86a7-3664d2e5b1e0"
   },
   "outputs": [
    {
     "data": {
      "text/plain": [
       "3.0"
      ]
     },
     "execution_count": 87,
     "metadata": {},
     "output_type": "execute_result"
    }
   ],
   "source": [
    "float(n)"
   ]
  },
  {
   "cell_type": "code",
   "execution_count": null,
   "metadata": {
    "colab": {
     "base_uri": "https://localhost:8080/"
    },
    "id": "znpkbMP9mwYN",
    "outputId": "b213e684-17dd-43b7-c362-b422a0cc698c"
   },
   "outputs": [
    {
     "name": "stdout",
     "output_type": "stream",
     "text": [
      "dame un numero60\n"
     ]
    }
   ],
   "source": [
    "n = int(input(\"dame un numero\"))\n",
    "# input se ejecuta primero, recive una entrada\n",
    "# int transforma esta entra a un entero\n",
    "# asigno este entero a una variable"
   ]
  },
  {
   "cell_type": "code",
   "execution_count": null,
   "metadata": {
    "colab": {
     "base_uri": "https://localhost:8080/"
    },
    "id": "t-uvoqDemwYN",
    "outputId": "8b6e4aad-20c4-46d8-ec94-e93bbf46dcb7"
   },
   "outputs": [
    {
     "data": {
      "text/plain": [
       "104.0"
      ]
     },
     "execution_count": 89,
     "metadata": {},
     "output_type": "execute_result"
    }
   ],
   "source": [
    "float(\"10.4\")*10"
   ]
  },
  {
   "cell_type": "code",
   "execution_count": null,
   "metadata": {
    "colab": {
     "base_uri": "https://localhost:8080/",
     "height": 36
    },
    "id": "my-WRBRvmwYN",
    "outputId": "076a422b-2368-42ce-c5d3-d67151acc25b"
   },
   "outputs": [
    {
     "data": {
      "application/vnd.google.colaboratory.intrinsic+json": {
       "type": "string"
      },
      "text/plain": [
       "'-5'"
      ]
     },
     "execution_count": 90,
     "metadata": {},
     "output_type": "execute_result"
    }
   ],
   "source": [
    "\"-5\""
   ]
  },
  {
   "cell_type": "code",
   "execution_count": null,
   "metadata": {
    "colab": {
     "base_uri": "https://localhost:8080/"
    },
    "id": "BGUP891pmwYN",
    "outputId": "2717fe8f-95f5-443a-cb3d-924e1ca98ee1"
   },
   "outputs": [
    {
     "name": "stdout",
     "output_type": "stream",
     "text": [
      "Ingresa tu nota de mates de 0 a 10 en formato entero: 9\n",
      "Tu nota es 9\n",
      "Felicidades, lo has hecho bien!\n"
     ]
    }
   ],
   "source": [
    "x = input(\"Ingresa tu nota de mates de 0 a 10 en formato entero: \")\n",
    "# me pide un numero y lo guarda en x\n",
    "if not x.isnumeric(): #\n",
    "    print(\"Has introducido un formato incorrecto\")\n",
    "elif int(x) < 0 or int(x) > 10:\n",
    "    print(\"Tu numero no esta entre 0 y 10\")\n",
    "else:\n",
    "    print(\"Tu nota es\", x)\n",
    "    print(\"Felicidades, lo has hecho bien!\")"
   ]
  },
  {
   "cell_type": "code",
   "execution_count": null,
   "metadata": {
    "id": "BcEcRnb9mwYO",
    "outputId": "212d83c8-86a4-4c50-b9cd-dac94fcb65db"
   },
   "outputs": [
    {
     "data": {
      "text/plain": [
       "False"
      ]
     },
     "execution_count": 143,
     "metadata": {},
     "output_type": "execute_result"
    }
   ],
   "source": [
    "\"haoa\".isnumeric()"
   ]
  },
  {
   "cell_type": "code",
   "execution_count": null,
   "metadata": {
    "id": "DQjs89XpmwYO",
    "outputId": "ff40ed90-054a-4c74-ff61-9a9020146d74"
   },
   "outputs": [
    {
     "name": "stdout",
     "output_type": "stream",
     "text": [
      "29382\n"
     ]
    }
   ],
   "source": [
    "entrada=input()"
   ]
  },
  {
   "cell_type": "code",
   "execution_count": null,
   "metadata": {
    "id": "a6WvwzK6mwYO",
    "outputId": "1716aff7-dd6c-4aed-c3d3-31468d44a0f8"
   },
   "outputs": [
    {
     "data": {
      "text/plain": [
       "'29382'"
      ]
     },
     "execution_count": 243,
     "metadata": {},
     "output_type": "execute_result"
    }
   ],
   "source": [
    "entrada"
   ]
  },
  {
   "cell_type": "code",
   "execution_count": null,
   "metadata": {
    "colab": {
     "base_uri": "https://localhost:8080/"
    },
    "id": "DBB5NOAHmwYO",
    "outputId": "76a8f95b-0a81-4de2-dae7-17f8a2a9dac5"
   },
   "outputs": [
    {
     "name": "stdout",
     "output_type": "stream",
     "text": [
      "4\n"
     ]
    }
   ],
   "source": [
    "x=input()"
   ]
  },
  {
   "cell_type": "code",
   "execution_count": null,
   "metadata": {
    "id": "1Md-vR4jmwYO"
   },
   "outputs": [],
   "source": [
    "# haz un prgorama que te pida numero\n",
    "x = 4\n",
    "# x =input()"
   ]
  },
  {
   "cell_type": "code",
   "execution_count": null,
   "metadata": {
    "id": "8WkdwaB6mwYO",
    "outputId": "e84995f8-f3a9-4ef2-ac6d-90749b159fc2"
   },
   "outputs": [
    {
     "data": {
      "text/plain": [
       "'4'"
      ]
     },
     "execution_count": 136,
     "metadata": {},
     "output_type": "execute_result"
    }
   ],
   "source": [
    "x # si le pongo 3, x vale 3 como string"
   ]
  },
  {
   "cell_type": "code",
   "execution_count": null,
   "metadata": {
    "id": "UD7l-b9OmwYP",
    "outputId": "2bef18a6-a76e-4611-9b3d-6ce491289918"
   },
   "outputs": [
    {
     "data": {
      "text/plain": [
       "4"
      ]
     },
     "execution_count": 137,
     "metadata": {},
     "output_type": "execute_result"
    }
   ],
   "source": [
    "int(x) # int intenta transformar en un entero un valor"
   ]
  }
 ],
 "metadata": {
  "colab": {
   "provenance": []
  },
  "kernelspec": {
   "display_name": "Python 3 (ipykernel)",
   "language": "python",
   "name": "python3"
  },
  "language_info": {
   "codemirror_mode": {
    "name": "ipython",
    "version": 3
   },
   "file_extension": ".py",
   "mimetype": "text/x-python",
   "name": "python",
   "nbconvert_exporter": "python",
   "pygments_lexer": "ipython3",
   "version": "3.11.7"
  }
 },
 "nbformat": 4,
 "nbformat_minor": 1
}
