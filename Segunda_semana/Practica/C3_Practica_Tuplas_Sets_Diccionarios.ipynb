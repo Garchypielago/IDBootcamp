{
 "cells": [
  {
   "cell_type": "markdown",
   "metadata": {},
   "source": [
    "### Practica Tuplas, Sets y Diccionarios"
   ]
  },
  {
   "cell_type": "markdown",
   "metadata": {},
   "source": [
    "### Tuplas"
   ]
  },
  {
   "cell_type": "markdown",
   "metadata": {},
   "source": [
    "#### Ejercicio 1"
   ]
  },
  {
   "cell_type": "markdown",
   "metadata": {},
   "source": [
    "- Crea una tupla utilizando la función range(), que tenga un rango del 11 al 19\n",
    "    - Ejemplo: tupla = tuple(range(3)).\n",
    "\n"
   ]
  },
  {
   "cell_type": "code",
   "execution_count": 1,
   "metadata": {},
   "outputs": [
    {
     "name": "stdout",
     "output_type": "stream",
     "text": [
      "(11, 12, 13, 14, 15, 16, 17, 18, 19)\n"
     ]
    }
   ],
   "source": [
    "tupla = tuple(range(11,19+1))\n",
    "print(tupla)"
   ]
  },
  {
   "cell_type": "markdown",
   "metadata": {},
   "source": [
    "- Utiliza la tupla anterior y conviertela a una lista utilizando una lista vacia y llenandola con un bucle."
   ]
  },
  {
   "cell_type": "code",
   "execution_count": 5,
   "metadata": {},
   "outputs": [
    {
     "name": "stdout",
     "output_type": "stream",
     "text": [
      "[11, 12, 13, 14, 15, 16, 17, 18, 19]\n"
     ]
    }
   ],
   "source": [
    "L = []\n",
    "[L.append(i) for i in tupla]\n",
    "print(L)"
   ]
  },
  {
   "cell_type": "markdown",
   "metadata": {},
   "source": [
    "- Ordena de mayor a menor la lista anterior."
   ]
  },
  {
   "cell_type": "code",
   "execution_count": 6,
   "metadata": {},
   "outputs": [
    {
     "name": "stdout",
     "output_type": "stream",
     "text": [
      "[19, 18, 17, 16, 15, 14, 13, 12, 11]\n"
     ]
    }
   ],
   "source": [
    "L.sort(reverse=True)\n",
    "print(L)"
   ]
  },
  {
   "cell_type": "markdown",
   "metadata": {},
   "source": [
    "- Convierte la lista anterior a tupla y ordenala de menor a mayor."
   ]
  },
  {
   "cell_type": "code",
   "execution_count": 10,
   "metadata": {},
   "outputs": [
    {
     "name": "stdout",
     "output_type": "stream",
     "text": [
      "(11, 12, 13, 14, 15, 16, 17, 18, 19)\n"
     ]
    }
   ],
   "source": [
    "T= tuple(L)\n",
    "T = tuple(sorted(T))\n",
    "print(T)"
   ]
  },
  {
   "cell_type": "markdown",
   "metadata": {},
   "source": [
    "- ¿Qué tipo de dato es el resultado de ordenar la tupla anterior?"
   ]
  },
  {
   "cell_type": "code",
   "execution_count": null,
   "metadata": {},
   "outputs": [],
   "source": [
    "# en mi caso una tupla igual"
   ]
  },
  {
   "cell_type": "markdown",
   "metadata": {},
   "source": [
    "#### Ejercicio 2"
   ]
  },
  {
   "cell_type": "markdown",
   "metadata": {},
   "source": [
    "- Dada la siguiente frase = \"Había una vez en una galaxia lejana\", conviertela en tupla, ordenala y manten la tupla (¡Ojo!, el resultado final no debe de ser lista)."
   ]
  },
  {
   "cell_type": "code",
   "execution_count": 11,
   "metadata": {},
   "outputs": [
    {
     "name": "stdout",
     "output_type": "stream",
     "text": [
      "[' ', ' ', ' ', ' ', ' ', ' ', 'H', 'a', 'a', 'a', 'a', 'a', 'a', 'a', 'a', 'a', 'b', 'e', 'e', 'e', 'g', 'i', 'j', 'l', 'l', 'n', 'n', 'n', 'n', 'u', 'u', 'v', 'x', 'z', 'í']\n"
     ]
    }
   ],
   "source": [
    "frase = \"Había una vez en una galaxia lejana\"\n",
    "T = tuple(frase)\n",
    "T = sorted(T)\n",
    "print(T)"
   ]
  },
  {
   "cell_type": "markdown",
   "metadata": {},
   "source": [
    "- Del resultado anterior, muestra cuantas veces aparece cada vocal.\n",
    "    - Utiliza un bucle **for** que recorra la siguiente tupla: (\"a\",\"e\",\"i\",\"o\",\"u\")"
   ]
  },
  {
   "cell_type": "code",
   "execution_count": 14,
   "metadata": {},
   "outputs": [
    {
     "name": "stdout",
     "output_type": "stream",
     "text": [
      "a : 9 veces\n",
      "e : 3 veces\n",
      "i : 1 veces\n",
      "o : 0 veces\n",
      "u : 2 veces\n"
     ]
    }
   ],
   "source": [
    "Vocales = (\"a\",\"e\",\"i\",\"o\",\"u\")\n",
    "\n",
    "for i in Vocales:\n",
    "    print(i,\":\", T.count(i),\"veces\") \n"
   ]
  },
  {
   "cell_type": "markdown",
   "metadata": {},
   "source": [
    "#### Ejercicio 3 "
   ]
  },
  {
   "cell_type": "markdown",
   "metadata": {},
   "source": [
    "- Dada la siguiente tupla: (9,8,7,5,\"a\",3,6,5), encuentra la forma para eliminar la letra \"a\"."
   ]
  },
  {
   "cell_type": "code",
   "execution_count": 35,
   "metadata": {},
   "outputs": [
    {
     "name": "stdout",
     "output_type": "stream",
     "text": [
      "(9, 8, 7, 5, 3, 6, 5)\n"
     ]
    }
   ],
   "source": [
    "T2 = (9,8,7,5,\"a\",3,6,5)\n",
    "L = list(T2)\n",
    "L.remove(\"a\")\n",
    "T2 = tuple(L)\n",
    "print(T2)"
   ]
  },
  {
   "cell_type": "markdown",
   "metadata": {},
   "source": [
    "#### Ejercicio 4"
   ]
  },
  {
   "cell_type": "markdown",
   "metadata": {},
   "source": [
    "- Pregunta a un usuario que ingrese 5 elementos diferentes y convierte estos elementos a una tupla, puede ser una palabra o un número."
   ]
  },
  {
   "cell_type": "code",
   "execution_count": 37,
   "metadata": {},
   "outputs": [
    {
     "name": "stdout",
     "output_type": "stream",
     "text": [
      "('1', 'we', '4', 'fe3', '3')\n"
     ]
    }
   ],
   "source": [
    "T = []\n",
    "for i in range(5):\n",
    "    T.append(input(\"Escribe un elmento\"))\n",
    "T = tuple(T)\n",
    "print(T)"
   ]
  },
  {
   "cell_type": "markdown",
   "metadata": {},
   "source": [
    "#### Ejercicio 5 "
   ]
  },
  {
   "cell_type": "markdown",
   "metadata": {},
   "source": [
    "- Dada la siguiente lista de tuplas: [(10, 20, 40), (40, 50, 60), (70, 80, 90)], elimina el último elemento de cada tupla dentro de la lista.\n"
   ]
  },
  {
   "cell_type": "code",
   "execution_count": 43,
   "metadata": {},
   "outputs": [
    {
     "name": "stdout",
     "output_type": "stream",
     "text": [
      "[[10, 20], [40, 50], [70, 80]]\n"
     ]
    }
   ],
   "source": [
    "T = [(10, 20, 40), (40, 50, 60), (70, 80, 90)]\n",
    "for i in range(len(T)):\n",
    "    L = list(T[i])\n",
    "    L.pop()\n",
    "    T[i] = L\n",
    "print(T)"
   ]
  },
  {
   "cell_type": "markdown",
   "metadata": {},
   "source": [
    "### Sets"
   ]
  },
  {
   "cell_type": "markdown",
   "metadata": {},
   "source": [
    "#### Ejercicio 1"
   ]
  },
  {
   "cell_type": "markdown",
   "metadata": {},
   "source": [
    "- Pide al usuario que ingrese 3 empresas de tecnología, estos elementos agregalos al siguiente set: {\"Facebook\",\"Google\",\"Apple\"}\n",
    "\n",
    "- Verifica que no se repita ninguna empresa y dile al usuario que no se repitio ninguna empresa."
   ]
  },
  {
   "cell_type": "code",
   "execution_count": 65,
   "metadata": {},
   "outputs": [
    {
     "name": "stdout",
     "output_type": "stream",
     "text": [
      "No se repito ninguna empresa\n"
     ]
    }
   ],
   "source": [
    "set1 = {\"Facebook\",\"Google\",\"Apple\"}\n",
    "# sc = {input(),input(),input()}\n",
    "sc = {\"Nothing\",\"Huawei\",\"Tesla\"}\n",
    "if sc.isdisjoint(set):\n",
    "    print(\"No se repito ninguna empresa\")\n",
    "else:\n",
    "    print(\"Se repitieron:\", sc.intersection(set))"
   ]
  },
  {
   "cell_type": "markdown",
   "metadata": {},
   "source": [
    "- Repite el ejercicio anterior pero ahora imprime las empresas que se repiten en caso de que existiera uno o más que se repitan "
   ]
  },
  {
   "cell_type": "code",
   "execution_count": 66,
   "metadata": {},
   "outputs": [
    {
     "name": "stdout",
     "output_type": "stream",
     "text": [
      "Se repitieron: {'Facebook', 'Google'}\n"
     ]
    }
   ],
   "source": [
    "set1 = {\"Facebook\",\"Google\",\"Apple\"}\n",
    "# sc = {input(),input(),input()}\n",
    "sc = {\"Facebook\",\"Google\",\"Tesla\"}\n",
    "if sc.isdisjoint(set):\n",
    "    print(\"No se repito ninguna empresa\")\n",
    "else:\n",
    "    print(\"Se repitieron:\", sc.intersection(set))"
   ]
  },
  {
   "cell_type": "markdown",
   "metadata": {},
   "source": [
    "#### Ejercicio 2"
   ]
  },
  {
   "cell_type": "markdown",
   "metadata": {},
   "source": [
    "- Utilizando un bucle **for** haz la función intersección de los sets entre dos listas. (Nota: debes de utilizar 2 bucles for)"
   ]
  },
  {
   "cell_type": "code",
   "execution_count": 68,
   "metadata": {},
   "outputs": [
    {
     "name": "stdout",
     "output_type": "stream",
     "text": [
      "{'Facebook', 'Google'}\n"
     ]
    }
   ],
   "source": [
    "del set\n",
    "set1 = {\"Facebook\",\"Google\",\"Apple\"}\n",
    "# sc = {input(),input(),input()}\n",
    "sc = {\"Facebook\",\"Google\",\"Tesla\"}\n",
    "inter = set()\n",
    "for i in set1:\n",
    "    for j in sc:\n",
    "        if i == j:\n",
    "            inter.add(i)\n",
    "print(inter)"
   ]
  },
  {
   "cell_type": "markdown",
   "metadata": {},
   "source": [
    "#### Ejercicio 3"
   ]
  },
  {
   "cell_type": "markdown",
   "metadata": {},
   "source": [
    "- Dadas las siguientes frases = \"En una galaxia lejana\" y \"Una galaxia llamadá Via Lactea\", haz la intersección de las palabras"
   ]
  },
  {
   "cell_type": "code",
   "execution_count": 73,
   "metadata": {},
   "outputs": [
    {
     "name": "stdout",
     "output_type": "stream",
     "text": [
      "{'galaxia'}\n"
     ]
    }
   ],
   "source": [
    "frase1 = \"En una galaxia lejana\"\n",
    "frase2 = \"Una galaxia llamadá Via Lactea\"\n",
    "\n",
    "sfrase1 = set(frase1.split())\n",
    "sfrase2 = set(frase2.split())\n",
    "\n",
    "interfr = sfrase1.intersection(sfrase2)\n",
    "print(interfr)"
   ]
  },
  {
   "cell_type": "markdown",
   "metadata": {},
   "source": [
    "#### Ejercicio 4"
   ]
  },
  {
   "cell_type": "markdown",
   "metadata": {},
   "source": [
    "- Utilizandp un bucle **for** encuentra la diferencia entre el set1 = {9,8,7,6,5,4,3,2} y el set2 = {9,8,10} y comprueba el resultado utilizando el método difference()"
   ]
  },
  {
   "cell_type": "code",
   "execution_count": 74,
   "metadata": {},
   "outputs": [
    {
     "name": "stdout",
     "output_type": "stream",
     "text": [
      "True\n"
     ]
    }
   ],
   "source": [
    "set1 = {9,8,7,6,5,4,3,2} \n",
    "set2 = {9,8,10}\n",
    "diff = set()\n",
    "repe = False\n",
    "\n",
    "for i in set1:\n",
    "    for j in set2:\n",
    "        if i==j:\n",
    "            repe = True\n",
    "    if not repe:\n",
    "        diff.add(i)\n",
    "print(diff == set1.difference(set2))"
   ]
  },
  {
   "cell_type": "markdown",
   "metadata": {},
   "source": [
    "### Diccionarios"
   ]
  },
  {
   "cell_type": "markdown",
   "metadata": {},
   "source": [
    "#### Ejercicio 1"
   ]
  },
  {
   "cell_type": "markdown",
   "metadata": {},
   "source": [
    "- Crea un diccionario de 5 items, preguntando al usuario nombre y edad, los nombres seran las keys y la edad los values."
   ]
  },
  {
   "cell_type": "code",
   "execution_count": 91,
   "metadata": {},
   "outputs": [
    {
     "data": {
      "text/plain": [
       "{'sev': 35, 'rebr': 234, 'wv': 34}"
      ]
     },
     "execution_count": 91,
     "metadata": {},
     "output_type": "execute_result"
    }
   ],
   "source": [
    "d = {}\n",
    "for i in range(3):\n",
    "    nombre = input(\"Nombre\")\n",
    "    edad = int(input(\"Edad\"))\n",
    "    d[nombre]  = edad\n",
    "d"
   ]
  },
  {
   "cell_type": "markdown",
   "metadata": {},
   "source": [
    "#### Ejercicio 2"
   ]
  },
  {
   "cell_type": "markdown",
   "metadata": {},
   "source": [
    "- Repite el ejercicio anterior pero de la siguiente forma:\n",
    "- Primero agrega en una lista los nombres y en otra lista las edades y después crea el diccionario a partir de las listas."
   ]
  },
  {
   "cell_type": "code",
   "execution_count": 92,
   "metadata": {},
   "outputs": [
    {
     "data": {
      "text/plain": [
       "{'alex': 12, 'juan': 34, 'adri': 68}"
      ]
     },
     "execution_count": 92,
     "metadata": {},
     "output_type": "execute_result"
    }
   ],
   "source": [
    "d={}\n",
    "nombres=[\"alex\",\"juan\",\"adri\"]\n",
    "edades=[12,34,68]\n",
    "for i in range(len(nombres)):\n",
    "    d[nombres[i]]=edades[i]\n",
    "d"
   ]
  },
  {
   "cell_type": "code",
   "execution_count": 2,
   "metadata": {},
   "outputs": [
    {
     "data": {
      "text/plain": [
       "{'alex': 12, 'juan': 34, 'adri': 68}"
      ]
     },
     "execution_count": 2,
     "metadata": {},
     "output_type": "execute_result"
    }
   ],
   "source": [
    "d={}\n",
    "nombres=[\"alex\",\"juan\",\"adri\"]\n",
    "edades=[12,34,68]\n",
    "for i,j in zip(nombres,edades):\n",
    "    d[i]=j\n",
    "d"
   ]
  },
  {
   "cell_type": "markdown",
   "metadata": {},
   "source": [
    "#### Ejercicio 3"
   ]
  },
  {
   "cell_type": "markdown",
   "metadata": {},
   "source": [
    "- Pide al usuario que ingrese 3 números distintos y guarda esos números como keys y crea los values utilizando la siguiente formula: x:x**2, donde x es la llave."
   ]
  },
  {
   "cell_type": "code",
   "execution_count": 94,
   "metadata": {},
   "outputs": [
    {
     "name": "stdout",
     "output_type": "stream",
     "text": [
      "{2: 0.5, 3: 0.3333333333333333, 4: 0.25}\n"
     ]
    }
   ],
   "source": [
    "d={}\n",
    "for i in range(3):\n",
    "    x = int(input(\"Numero\"))\n",
    "    d[x]=x/x**2\n",
    "print(d)"
   ]
  },
  {
   "cell_type": "markdown",
   "metadata": {},
   "source": [
    "#### Ejercicio 4"
   ]
  },
  {
   "cell_type": "markdown",
   "metadata": {},
   "source": [
    "- Pide al usuario que ingrese una frase y agrega las palabras como keys y la frecuencia de cada palabra como value en un diccionario. (ver el ejemplo de la presentación)"
   ]
  },
  {
   "cell_type": "code",
   "execution_count": 3,
   "metadata": {},
   "outputs": [
    {
     "data": {
      "text/plain": [
       "{'una': 1,\n",
       " 'frase': 2,\n",
       " 'cualquiera': 2,\n",
       " 'donde': 1,\n",
       " 'en': 1,\n",
       " 'la': 2,\n",
       " 'se': 1,\n",
       " 'repite': 1,\n",
       " 'palabra': 1}"
      ]
     },
     "execution_count": 3,
     "metadata": {},
     "output_type": "execute_result"
    }
   ],
   "source": [
    "frase = \"una frase cualquiera donde en la frase se repite la palabra cualquiera\"\n",
    "Lfrase = frase.split()\n",
    "d = {}\n",
    "for i in Lfrase:\n",
    "    if i not in d:\n",
    "        d[i] = Lfrase.count(i)\n",
    "d\n"
   ]
  },
  {
   "cell_type": "markdown",
   "metadata": {},
   "source": [
    "#### Ejercicio 5"
   ]
  },
  {
   "cell_type": "markdown",
   "metadata": {},
   "source": [
    "- Crea un programa donde las keys son 7 números aleatorios entre el 100 y el 200 y en los values debe de estar la palabra par o impar, si el número es par o impar."
   ]
  },
  {
   "cell_type": "code",
   "execution_count": 6,
   "metadata": {},
   "outputs": [
    {
     "data": {
      "text/plain": [
       "10"
      ]
     },
     "execution_count": 6,
     "metadata": {},
     "output_type": "execute_result"
    }
   ],
   "source": [
    "import random\n",
    "random.randint(5,10)"
   ]
  },
  {
   "cell_type": "code",
   "execution_count": 10,
   "metadata": {},
   "outputs": [
    {
     "data": {
      "text/plain": [
       "{192: 'par',\n",
       " 117: 'impar',\n",
       " 100: 'par',\n",
       " 148: 'par',\n",
       " 142: 'par',\n",
       " 153: 'impar',\n",
       " 174: 'par'}"
      ]
     },
     "execution_count": 10,
     "metadata": {},
     "output_type": "execute_result"
    }
   ],
   "source": [
    "import random\n",
    "d={}\n",
    "ran = 0\n",
    "while len(d)<7:\n",
    "    ran = random.randint(100,200)\n",
    "    if ran%2==0:\n",
    "        d[ran]=\"par\"\n",
    "    else:\n",
    "        d[ran]=\"impar\"\n",
    "d"
   ]
  },
  {
   "cell_type": "markdown",
   "metadata": {},
   "source": [
    "#### Ejercicio 6"
   ]
  },
  {
   "cell_type": "markdown",
   "metadata": {},
   "source": [
    "- Crea un programa donde las keys son 10 números aleatorios entre el 1 y el 50 y para cada value del diccionario vamos a utilizar la siguiente formula x:1/x"
   ]
  },
  {
   "cell_type": "code",
   "execution_count": 11,
   "metadata": {},
   "outputs": [
    {
     "data": {
      "text/plain": [
       "{157: 0.006369426751592357,\n",
       " 109: 0.009174311926605505,\n",
       " 178: 0.0056179775280898875,\n",
       " 190: 0.005263157894736842,\n",
       " 150: 0.006666666666666667,\n",
       " 135: 0.007407407407407408,\n",
       " 139: 0.007194244604316547,\n",
       " 198: 0.005050505050505051,\n",
       " 158: 0.006329113924050633,\n",
       " 116: 0.008620689655172414}"
      ]
     },
     "execution_count": 11,
     "metadata": {},
     "output_type": "execute_result"
    }
   ],
   "source": [
    "import random\n",
    "d={}\n",
    "ran = 0\n",
    "while len(d)<10:\n",
    "    ran = random.randint(100,200)\n",
    "    d[ran]= 1/ran\n",
    "d"
   ]
  },
  {
   "cell_type": "markdown",
   "metadata": {},
   "source": [
    "- Del diccionario anterior invierte los keys por los values"
   ]
  },
  {
   "cell_type": "code",
   "execution_count": 24,
   "metadata": {},
   "outputs": [
    {
     "name": "stdout",
     "output_type": "stream",
     "text": [
      "{157: 0.006369426751592357, 109: 0.009174311926605505, 178: 0.0056179775280898875, 190: 0.005263157894736842, 150: 0.006666666666666667, 135: 0.007407407407407408, 139: 0.007194244604316547, 198: 0.005050505050505051, 158: 0.006329113924050633, 116: 0.008620689655172414, 0.006369426751592357: 157, 0.009174311926605505: 109}\n",
      "{0.006369426751592357: 157, 0.009174311926605505: 109, 0.0056179775280898875: 178, 0.005263157894736842: 190, 0.006666666666666667: 150, 0.007407407407407408: 135, 0.007194244604316547: 139, 0.005050505050505051: 198, 0.006329113924050633: 158, 0.008620689655172414: 116, 157: 0.006369426751592357, 109: 0.009174311926605505}\n"
     ]
    }
   ],
   "source": [
    "print(d)\n",
    "d2 = {}\n",
    "for i in d:\n",
    "    d2[d[i]] = i\n",
    "print(d2)"
   ]
  },
  {
   "cell_type": "markdown",
   "metadata": {},
   "source": [
    "#### Ejercicio 7"
   ]
  },
  {
   "cell_type": "markdown",
   "metadata": {},
   "source": [
    "- Recurre al ejercicio donde el usuario ingresa 5 nombres y sus edades, y ordena el diccionario por orden alfabetico"
   ]
  },
  {
   "cell_type": "code",
   "execution_count": 28,
   "metadata": {},
   "outputs": [
    {
     "data": {
      "text/plain": [
       "{'adri': 68, 'alex': 12, 'juan': 34}"
      ]
     },
     "execution_count": 28,
     "metadata": {},
     "output_type": "execute_result"
    }
   ],
   "source": [
    "d={}\n",
    "nombres=[\"alex\",\"juan\",\"adri\"]\n",
    "edades=[12,34,68]\n",
    "for i,j in zip(nombres,edades):\n",
    "    d[i]=j\n",
    "\n",
    "\n",
    "Ord = sorted(d)\n",
    "do={}\n",
    "for i in Ord:\n",
    "    do[i] = d[i]\n",
    "do"
   ]
  },
  {
   "cell_type": "markdown",
   "metadata": {},
   "source": [
    "#### Ejercicio 8"
   ]
  },
  {
   "cell_type": "markdown",
   "metadata": {},
   "source": [
    "- Crea un programa que dados los siguientes diccionarios: d1 = {\"a\":125,\"b\":130,\"c\":150}, d2 = {\"e\": 10,\"b\":20,\"a\":30}, sume los items que tienen la misma key y guarde esas keys con la suma de los values en un nuevo diccionario"
   ]
  },
  {
   "cell_type": "code",
   "execution_count": 31,
   "metadata": {},
   "outputs": [
    {
     "data": {
      "text/plain": [
       "{'a': 155, 'b': 150, 'c': 150, 'e': 20}"
      ]
     },
     "execution_count": 31,
     "metadata": {},
     "output_type": "execute_result"
    }
   ],
   "source": [
    "d1 = {\"a\":125,\"b\":130,\"c\":150}\n",
    "d2 = {\"e\": 10,\"b\":20,\"a\":30}\n",
    "dsuma = {}\n",
    "\n",
    "for i in d1:\n",
    "    if i not in dsuma:\n",
    "        dsuma[i] = d1[i]\n",
    "for j in  d2:\n",
    "    if j not in dsuma:\n",
    "        dsuma[j] = d2[j]\n",
    "    if j in dsuma:\n",
    "        dsuma[j] = dsuma[j] + d2[j]\n",
    "dsuma"
   ]
  },
  {
   "cell_type": "code",
   "execution_count": 35,
   "metadata": {},
   "outputs": [
    {
     "data": {
      "text/plain": [
       "{'a': 155, 'e': 10, 'b': 150, 'c': 150}"
      ]
     },
     "execution_count": 35,
     "metadata": {},
     "output_type": "execute_result"
    }
   ],
   "source": [
    "d1 = {\"a\":125,\"b\":130,\"c\":150}\n",
    "d2 = {\"e\": 10,\"b\":20,\"a\":30}\n",
    "dsuma = {}\n",
    "\n",
    "for i, j in zip(d1, d2):\n",
    "    if i not in dsuma:\n",
    "        dsuma[i] = d1[i]\n",
    "    if j in dsuma:\n",
    "        dsuma[j] = dsuma[j] + d2[j]\n",
    "    else:\n",
    "        dsuma[j] = d2[j]\n",
    "dsuma"
   ]
  }
 ],
 "metadata": {
  "kernelspec": {
   "display_name": "Python 3 (ipykernel)",
   "language": "python",
   "name": "python3"
  },
  "language_info": {
   "codemirror_mode": {
    "name": "ipython",
    "version": 3
   },
   "file_extension": ".py",
   "mimetype": "text/x-python",
   "name": "python",
   "nbconvert_exporter": "python",
   "pygments_lexer": "ipython3",
   "version": "3.11.7"
  }
 },
 "nbformat": 4,
 "nbformat_minor": 4
}
