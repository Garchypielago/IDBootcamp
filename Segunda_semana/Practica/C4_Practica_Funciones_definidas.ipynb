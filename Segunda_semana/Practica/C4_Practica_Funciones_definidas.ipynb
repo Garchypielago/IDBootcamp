{
 "cells": [
  {
   "cell_type": "markdown",
   "metadata": {},
   "source": [
    "# Funciones definidas\n",
    "\n",
    "##### Cuando decimos que una funcion recivo como input o que tiene X objedos dados, queremos decir que son argumentos de la función"
   ]
  },
  {
   "cell_type": "markdown",
   "metadata": {},
   "source": [
    "1. Escribe una función que dadas dos listas y un número natural i, intercambie los valores de la posición i."
   ]
  },
  {
   "cell_type": "code",
   "execution_count": 74,
   "metadata": {},
   "outputs": [],
   "source": [
    "def intercambiar_posicion_i(L1,L2,i):\n",
    "    if i<len(L1) and i<len(L2):\n",
    "        L1[i], L2[i]= L2[i], L1[i]"
   ]
  },
  {
   "cell_type": "code",
   "execution_count": 75,
   "metadata": {},
   "outputs": [
    {
     "name": "stdout",
     "output_type": "stream",
     "text": [
      "[1, 2, 2, 4] [4, 3, 3, 1]\n"
     ]
    }
   ],
   "source": [
    "L1 = [1,2,3,4]\n",
    "L2 = [4,3,2,1]\n",
    "\n",
    "intercambiar_posicion_i(L1,L2,2)\n",
    "print(L1, L2)\n"
   ]
  },
  {
   "cell_type": "markdown",
   "metadata": {},
   "source": [
    "2. Escribe una función que reciba como entrada dos números n y m naturales y te imprima por pantalla un rectángulo de medidas nxm hecho con *.\n",
    "\n"
   ]
  },
  {
   "cell_type": "code",
   "execution_count": 17,
   "metadata": {},
   "outputs": [],
   "source": [
    "def cuadrado_asteriscos(n ,m):\n",
    "    for i in range(m):\n",
    "        print(\"*\"*n)"
   ]
  },
  {
   "cell_type": "code",
   "execution_count": 18,
   "metadata": {},
   "outputs": [
    {
     "name": "stdout",
     "output_type": "stream",
     "text": [
      "****\n",
      "****\n",
      "****\n",
      "****\n",
      "****\n",
      "****\n"
     ]
    }
   ],
   "source": [
    "cuadrado_asteriscos(4,6)"
   ]
  },
  {
   "cell_type": "markdown",
   "metadata": {},
   "source": [
    "3. Escribe una función que dada una matriz cualquiera cambie los elementos M[i][j] por 0 cuando i+j sea un número impar. i es la fila y j es la columna"
   ]
  },
  {
   "cell_type": "code",
   "execution_count": 22,
   "metadata": {},
   "outputs": [],
   "source": [
    "def matriz_impar_0(M):\n",
    "    for i in range(len(M)):\n",
    "        for j in range(len(M[i])):\n",
    "            if (i+j)%2!=0:\n",
    "                M[i][j] = 0"
   ]
  },
  {
   "cell_type": "code",
   "execution_count": 23,
   "metadata": {},
   "outputs": [
    {
     "name": "stdout",
     "output_type": "stream",
     "text": [
      "[[1, 0, 3], [0, 2, 0], [1, 0, 3]]\n"
     ]
    }
   ],
   "source": [
    "M=[[1,2,3],[1,2,3],[1,2,3]]\n",
    "matriz_impar_0(M)\n",
    "print(M)"
   ]
  },
  {
   "cell_type": "markdown",
   "metadata": {},
   "source": [
    "4. Escribe una función que dados tres números te devuelva el máximo. \n"
   ]
  },
  {
   "cell_type": "code",
   "execution_count": 24,
   "metadata": {},
   "outputs": [],
   "source": [
    "def mayor_de_tres(a,b,c):\n",
    "    if a>b and a>c:\n",
    "        return a\n",
    "    if b>c:\n",
    "        return b\n",
    "    return c"
   ]
  },
  {
   "cell_type": "code",
   "execution_count": 28,
   "metadata": {},
   "outputs": [
    {
     "name": "stdout",
     "output_type": "stream",
     "text": [
      "4\n"
     ]
    }
   ],
   "source": [
    "print(mayor_de_tres(3,4,3))"
   ]
  },
  {
   "cell_type": "markdown",
   "metadata": {},
   "source": [
    "5. Escribe una función que te devuelva el valor absoluto de un número dado."
   ]
  },
  {
   "cell_type": "code",
   "execution_count": 29,
   "metadata": {},
   "outputs": [],
   "source": [
    "def valor_abs(n):\n",
    "    if n<0:\n",
    "        return n*-1\n",
    "    return n"
   ]
  },
  {
   "cell_type": "code",
   "execution_count": 30,
   "metadata": {},
   "outputs": [
    {
     "name": "stdout",
     "output_type": "stream",
     "text": [
      "8 8\n"
     ]
    }
   ],
   "source": [
    "print(valor_abs(8), valor_abs(-8))"
   ]
  },
  {
   "cell_type": "markdown",
   "metadata": {},
   "source": [
    "6. Escribe una función que pida un año como argumento y que escriba si es bisiesto o no. Se recuerda que los años bisiestos son múltiplos de 4, pero los múltiplos de 100 no lo son, aunque los múltiplos de 400 sí. "
   ]
  },
  {
   "cell_type": "code",
   "execution_count": 31,
   "metadata": {},
   "outputs": [],
   "source": [
    "def esbisiesto_(anio):\n",
    "    return (anio%4==0 and anio%100!=0) or anio%400==0"
   ]
  },
  {
   "cell_type": "code",
   "execution_count": 33,
   "metadata": {},
   "outputs": [
    {
     "name": "stdout",
     "output_type": "stream",
     "text": [
      "False\n",
      "True\n",
      "True\n",
      "True\n",
      "False\n"
     ]
    }
   ],
   "source": [
    "print(esbisiesto_(1995))\n",
    "print(esbisiesto_(2008))\n",
    "print(esbisiesto_(2024))\n",
    "print(esbisiesto_(2000))\n",
    "print(esbisiesto_(1000))"
   ]
  },
  {
   "cell_type": "markdown",
   "metadata": {},
   "source": [
    "7. Escribe una función que dada una matriz, te devuelva su transpuesta."
   ]
  },
  {
   "cell_type": "code",
   "execution_count": 45,
   "metadata": {},
   "outputs": [],
   "source": [
    "def M_transpuesta_(M):\n",
    "    for i in range(len(M)-1):\n",
    "        for j in range(len(M[i])-1, 0, -1):\n",
    "            M[i][j], M[j][i] = M[j][i], M[i][j]"
   ]
  },
  {
   "cell_type": "code",
   "execution_count": 46,
   "metadata": {},
   "outputs": [
    {
     "name": "stdout",
     "output_type": "stream",
     "text": [
      "[[1, 1, 1], [2, 2, 2], [3, 3, 3]]\n"
     ]
    }
   ],
   "source": [
    "M = [[1,2,3],[1,2,3],[1,2,3]]\n",
    "M_transpuesta_(M)\n",
    "print(M)"
   ]
  },
  {
   "cell_type": "markdown",
   "metadata": {},
   "source": [
    "8. Escribe una función que dado un número natural, te devuelva True si es un número perfecto y False si no lo es. Un número perfecto es un número que es igual a la suma de sus divisores."
   ]
  },
  {
   "cell_type": "code",
   "execution_count": 49,
   "metadata": {},
   "outputs": [],
   "source": [
    "def numero_perfecto_(n):\n",
    "    suma = 0\n",
    "    for i in range(1,n):\n",
    "        if n%i==0:\n",
    "            suma+=i\n",
    "    return suma==n"
   ]
  },
  {
   "cell_type": "code",
   "execution_count": 52,
   "metadata": {},
   "outputs": [
    {
     "data": {
      "text/plain": [
       "True"
      ]
     },
     "execution_count": 52,
     "metadata": {},
     "output_type": "execute_result"
    }
   ],
   "source": [
    "numero_perfecto_(28)"
   ]
  },
  {
   "cell_type": "markdown",
   "metadata": {},
   "source": [
    "9. Escribe una función que dado un número N devuelva los números perfectos desde 1 hasta N."
   ]
  },
  {
   "cell_type": "code",
   "execution_count": 57,
   "metadata": {},
   "outputs": [],
   "source": [
    "def numeros_perfectos_(n):\n",
    "    L = []\n",
    "    for i in range(1,n+1):\n",
    "        if numero_perfecto_(i):\n",
    "            L.append(i)\n",
    "    return L"
   ]
  },
  {
   "cell_type": "code",
   "execution_count": 58,
   "metadata": {},
   "outputs": [
    {
     "name": "stdout",
     "output_type": "stream",
     "text": [
      "[6, 28, 496, 8128]\n"
     ]
    }
   ],
   "source": [
    "print(numeros_perfectos_(8128))"
   ]
  },
  {
   "cell_type": "markdown",
   "metadata": {},
   "source": [
    "10. Se denominan números amigos a dos números naturales diferentes relacionados de tal manera que la suma de los divisores de cada uno es igual al otro número. Haz una función que dados 2 numeros diga si son amigos."
   ]
  },
  {
   "cell_type": "code",
   "execution_count": 67,
   "metadata": {},
   "outputs": [],
   "source": [
    "def numeros_amigos_(n, m):\n",
    "    suma = 0\n",
    "    for i in range(1,n):\n",
    "        if n%i==0:\n",
    "            suma+=i\n",
    "    if suma != m:\n",
    "        return False\n",
    "    suma = 0\n",
    "    for i in range(1,m):\n",
    "        if m%i==0:\n",
    "            suma+=i\n",
    "    if suma!=n:\n",
    "        return False\n",
    "    return True     "
   ]
  },
  {
   "cell_type": "code",
   "execution_count": 68,
   "metadata": {},
   "outputs": [
    {
     "data": {
      "text/plain": [
       "True"
      ]
     },
     "execution_count": 68,
     "metadata": {},
     "output_type": "execute_result"
    }
   ],
   "source": [
    "numeros_amigos_(220,284)"
   ]
  },
  {
   "cell_type": "markdown",
   "metadata": {},
   "source": [
    "11. Haz una función que dado un numero N y un numero máximoa max_n, busque los numeros amigos de N que esten entre 1 y max_n."
   ]
  },
  {
   "cell_type": "code",
   "execution_count": 69,
   "metadata": {},
   "outputs": [],
   "source": [
    "def numeros_amigos_max(n, max):\n",
    "    L=[]\n",
    "    for i in range(max):\n",
    "        if numeros_amigos_(i, n):\n",
    "            L.append(i)\n",
    "    return L"
   ]
  },
  {
   "cell_type": "code",
   "execution_count": 72,
   "metadata": {},
   "outputs": [
    {
     "name": "stdout",
     "output_type": "stream",
     "text": [
      "[220]\n"
     ]
    }
   ],
   "source": [
    "print( numeros_amigos_max(284,2341) )"
   ]
  },
  {
   "cell_type": "markdown",
   "metadata": {},
   "source": [
    "12. Crea una función que reciba como parámetros dos diccionarios, que introduzca todos los registros del primer diccionario en el segundo y que retorne este segundo diccionario."
   ]
  },
  {
   "cell_type": "code",
   "execution_count": 88,
   "metadata": {},
   "outputs": [],
   "source": [
    "def pasar_registros(d1, d2):\n",
    "    for i in d1:\n",
    "        d2[i] = d1[i]\n",
    "    return d2"
   ]
  },
  {
   "cell_type": "code",
   "execution_count": 93,
   "metadata": {},
   "outputs": [
    {
     "name": "stdout",
     "output_type": "stream",
     "text": [
      "{1: 1, 2: 3, 3: 5}\n"
     ]
    }
   ],
   "source": [
    "d1 = {1:1,2:3,3:5}\n",
    "d2 = {}\n",
    "pasar_registros(d1,d2)\n",
    "print(d2)"
   ]
  },
  {
   "cell_type": "markdown",
   "metadata": {},
   "source": [
    "13. Crea una función dados N y M genere una matriz de 0s NxM."
   ]
  },
  {
   "cell_type": "code",
   "execution_count": 76,
   "metadata": {},
   "outputs": [],
   "source": [
    "def crear_M_0s(n, m):\n",
    "    M = []\n",
    "    for i in range(n):\n",
    "        L = []\n",
    "        for j in range(m):\n",
    "            L.append(0)\n",
    "        M.append(L)\n",
    "    return M"
   ]
  },
  {
   "cell_type": "code",
   "execution_count": 79,
   "metadata": {},
   "outputs": [
    {
     "name": "stdout",
     "output_type": "stream",
     "text": [
      "[[0, 0, 0], [0, 0, 0], [0, 0, 0], [0, 0, 0]]\n"
     ]
    }
   ],
   "source": [
    "M = crear_M_0s(4,3)\n",
    "print(M)"
   ]
  },
  {
   "cell_type": "markdown",
   "metadata": {},
   "source": [
    "14. EXTRA 1: Escribe una función que reciba como entrada dos matrices y haga la multiplicación de las dos matrices."
   ]
  },
  {
   "cell_type": "code",
   "execution_count": 83,
   "metadata": {},
   "outputs": [],
   "source": [
    "def multi_matrices(M1,M2):\n",
    "    resul = crear_M_0s(len(M1),len(M2[0]))\n",
    "    for i in range(len(M1)):\n",
    "        for j in range(len(M2[i])):\n",
    "            for k in range(len(M2)):\n",
    "                resul[i][j] += M1[i][k] * M2[k][j]\n",
    "    return resul"
   ]
  },
  {
   "cell_type": "code",
   "execution_count": 85,
   "metadata": {},
   "outputs": [
    {
     "name": "stdout",
     "output_type": "stream",
     "text": [
      "[[3, 1, 2], [3, 0, 3], [7, 3, 6]]\n"
     ]
    }
   ],
   "source": [
    "M1 = [[2,0,1],[3,0,0],[5,1,1]]\n",
    "M2 = [[1,0,1],[1,2,1],[1,1,0]]\n",
    "M3 = multi_matrices(M1,M2)\n",
    "print(M3)"
   ]
  },
  {
   "cell_type": "markdown",
   "metadata": {},
   "source": [
    "\n",
    "EXTRA. Se requiere recursividad. Escribe una función que dada una Matriz te calcule su inversa, para ello escribe las siguientes funciones:\n",
    "    1. Una función que calcule el determinante de una matriz 2x2.\n",
    "    2. Una función que dada una matriz y dos índices i y j, devuelva la matriz quitando la fila i y la columna j.\n",
    "    3. Una función que calcule un determinante (se necesita recursividad).\n",
    "    4. Una función que calcule la transpuesta.\n",
    "    5. Una función que calcule la adjunta.\n",
    "    6. Una función que calcule la inversa utilizando las funciones hechas anteriormente."
   ]
  },
  {
   "cell_type": "code",
   "execution_count": 126,
   "metadata": {},
   "outputs": [],
   "source": [
    "# 1\n",
    "def determinante_1(M):\n",
    "    return M[0][0]*M[1][1] - M[0][1]*M[1][0]\n",
    "\n",
    "# 2\n",
    "def quitar_fila_columna_2(M,fila,colum):\n",
    "    Maux = []\n",
    "    for i in range(len(M)):\n",
    "        Laux = []\n",
    "        if i != fila:\n",
    "            for j in range(len(M[i])):\n",
    "                if j != colum:\n",
    "                    Laux.append(M[i][j])\n",
    "            Maux.append(Laux)\n",
    "    return Maux\n",
    "\n",
    "# 3\n",
    "def determinante_3(M):\n",
    "    if len(M)==1:\n",
    "        return 1\n",
    "    if len(M)==2:\n",
    "        return determinante_1(M)\n",
    "    if len(M)>=3:\n",
    "        suma=0\n",
    "        for j in range(len(M[0])):\n",
    "            suma += M[0][j]*(determinante_3(quitar_fila_columna_2(M,0,j)))*(-1)**(j)\n",
    "        return suma\n",
    "    return -1\n",
    "\n",
    "# 4\n",
    "def transpuesta_4(M):\n",
    "    return [[M[j][i] for j in range(len(M))] for i in range(len(M[0]))]\n",
    "\n",
    "# 5\n",
    "def adjunta_5(M):\n",
    "    Madj=crear_M_0s(len(M),len(M[0]))\n",
    "    for i in range(len(M)):\n",
    "        for j in range(len(M[i])):\n",
    "            Madj[i][j] = (determinante_3(quitar_fila_columna_2(M,i,j)))*(-1)**(i+j)\n",
    "    return transpuesta_4(Madj)\n",
    "    \n",
    "# 6\n",
    "def inversa_6(M):\n",
    "    Minv = adjunta_5(M)\n",
    "    Mul = (1/determinante_3(M))\n",
    "    for i in range(len(Minv)):\n",
    "        for j in range(len(Minv[i])):\n",
    "            Minv[i][j] *= Mul\n",
    "    return Minv\n",
    "\n"
   ]
  },
  {
   "cell_type": "code",
   "execution_count": 127,
   "metadata": {},
   "outputs": [
    {
     "name": "stdout",
     "output_type": "stream",
     "text": [
      "3\n",
      "-2\n",
      "-2\n",
      "[[0, 1, 0], [-3, -3, 3], [3, -2, 0]]\n",
      "[[-1, 1, -2], [1, -1, 0], [-1, -1, 2]]\n",
      "[[-1, 0, -2, 1], [1, 0, 0, -1], [-1, -2, 2, 1], [0, 2, 0, -2]]\n",
      "[[0.0, 0.3333333333333333, 0.0], [-1.0, -1.0, 1.0], [1.0, -0.6666666666666666, 0.0]]\n",
      "[[0.5, -0.5, 1.0], [-0.5, 0.5, -0.0], [0.5, 0.5, -1.0]]\n",
      "[[0.5, -0.0, 1.0, -0.5], [-0.5, -0.0, -0.0, 0.5], [0.5, 1.0, -1.0, -0.5], [-0.0, -1.0, -0.0, 1.0]]\n"
     ]
    }
   ],
   "source": [
    "# pruebas\n",
    "M1 = [[2,0,1],[3,0,0],[5,1,1]]\n",
    "M2 = [[1,0,1],[1,2,1],[1,1,0]]\n",
    "\n",
    "print(determinante_3(M1))\n",
    "print(determinante_3(M2))\n",
    "# hasta aqui bien los resul determinante_3\n",
    "\n",
    "M3 = [[1,0,1,1],[1,2,1,0],[1,1,0,0],[1,2,1,1]]\n",
    "print(determinante_3(M3))\n",
    "# bien el determinante_3\n",
    "\n",
    "\n",
    "print(adjunta_5(M1))\n",
    "print(adjunta_5(M2))\n",
    "print(adjunta_5(M3))\n",
    "# bien la adjunta_5\n",
    "\n",
    "print(inversa_6(M1))\n",
    "print(inversa_6(M2))\n",
    "print(inversa_6(M3))\n",
    "\n"
   ]
  }
 ],
 "metadata": {
  "kernelspec": {
   "display_name": "Python 3 (ipykernel)",
   "language": "python",
   "name": "python3"
  },
  "language_info": {
   "codemirror_mode": {
    "name": "ipython",
    "version": 3
   },
   "file_extension": ".py",
   "mimetype": "text/x-python",
   "name": "python",
   "nbconvert_exporter": "python",
   "pygments_lexer": "ipython3",
   "version": "3.11.7"
  }
 },
 "nbformat": 4,
 "nbformat_minor": 4
}
