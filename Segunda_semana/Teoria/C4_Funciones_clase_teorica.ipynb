{
 "cells": [
  {
   "cell_type": "markdown",
   "metadata": {},
   "source": [
    "* Funciones como objetos de primera clase"
   ]
  },
  {
   "cell_type": "markdown",
   "metadata": {},
   "source": [
    "Crear un script que genere una contraseña aletoria y potente(Mayus,minus,num,simbolos)"
   ]
  },
  {
   "cell_type": "code",
   "execution_count": 2,
   "metadata": {},
   "outputs": [],
   "source": [
    "import random\n",
    "import string"
   ]
  },
  {
   "cell_type": "code",
   "execution_count": 77,
   "metadata": {},
   "outputs": [],
   "source": [
    "def validador_contra_sim(L_pss):\n",
    "    for i in L_pss:\n",
    "        if any ( j in string.punctuation for j in i):\n",
    "            return True\n",
    "    return False\n",
    "\n",
    "def validador_contra_Mayu(L_pss):\n",
    "    for i in L_pss:\n",
    "        if any ( j in string.ascii_uppercase for j in i):\n",
    "            return True\n",
    "    return False\n",
    "\n",
    "def validador_contra_minu(L_pss):\n",
    "    for i in L_pss:\n",
    "        if any ( j in string.ascii_lowercase for j in i):\n",
    "            return True\n",
    "    return False\n",
    "\n",
    "def validador_contra_num(L_pss):\n",
    "    for i in L_pss:\n",
    "        if any ( j in [\"1\",\"2\",\"3\",\"4\",\"5\",\"6\",\"7\",\"8\",\"9\"] for j in i):\n",
    "            return True\n",
    "    return False\n",
    "\n",
    "def creador_pss(num_carac):\n",
    "    L_pss = []\n",
    "    while ((validador_contra_Mayu(L_pss) or validador_contra_minu(L_pss) \n",
    "           or validador_contra_num(L_pss) or validador_contra_sim(L_pss))==False):\n",
    "        L_pss = []\n",
    "        elec = 0 # genero un numero que me pondra un sim,carc, o num\n",
    "        for i in range(num_carac):\n",
    "            elecc = random.randint(1,4)\n",
    "            if elecc == 1:\n",
    "                L_pss.append(str(random.randint(0,9)))\n",
    "            if elecc == 2:\n",
    "                L_pss.append(random.choice(string.ascii_lowercase))\n",
    "            if elecc == 3:\n",
    "                L_pss.append(random.choice(string.ascii_uppercase))\n",
    "            if elecc == 4:\n",
    "                L_pss.append(random.choice(string.punctuation))\n",
    "    return L_pss"
   ]
  },
  {
   "cell_type": "code",
   "execution_count": 78,
   "metadata": {},
   "outputs": [
    {
     "name": "stdout",
     "output_type": "stream",
     "text": [
      "5N0O.9d|%g;0]8z8~mxEs&=!&841UZKx0p4U4OQslTK+~z87^-\n"
     ]
    }
   ],
   "source": [
    "Lpss = creador_pss(50)\n",
    "pss = \"\".join(Lpss)\n",
    "\n",
    "print(pss)"
   ]
  },
  {
   "cell_type": "markdown",
   "metadata": {},
   "source": [
    "* Funciones ..."
   ]
  },
  {
   "cell_type": "code",
   "execution_count": 83,
   "metadata": {},
   "outputs": [],
   "source": [
    "def presentarse(nombre):\n",
    "    return f\"Hola, me llamo {nombre}\"\n",
    "\n",
    "def usar_funciones_nom(funcion):\n",
    "    return funcion(\"Aljandro\")"
   ]
  },
  {
   "cell_type": "code",
   "execution_count": 86,
   "metadata": {},
   "outputs": [
    {
     "name": "stdout",
     "output_type": "stream",
     "text": [
      "Hola, me llamo Aljandro\n",
      "Hola, me llamo Alejandro\n"
     ]
    }
   ],
   "source": [
    "print(usar_funciones_nom(presentarse))\n",
    "\n",
    "print(presentarse(\"Alejandro\"))"
   ]
  },
  {
   "cell_type": "markdown",
   "metadata": {},
   "source": [
    "* Funciones anidadas"
   ]
  },
  {
   "cell_type": "code",
   "execution_count": 96,
   "metadata": {},
   "outputs": [],
   "source": [
    "def funcion_superior(numero):\n",
    "    def doble():\n",
    "        resultado = numero*2\n",
    "        print (f\"el doble de {numero} es {resultado}\")\n",
    "    doble()\n",
    "\n",
    "    def cuadrado():\n",
    "        resultado = numero**2\n",
    "        print (f\"el cuadrado de {numero} es {resultado}\")\n",
    "    cuadrado()"
   ]
  },
  {
   "cell_type": "code",
   "execution_count": 97,
   "metadata": {},
   "outputs": [
    {
     "name": "stdout",
     "output_type": "stream",
     "text": [
      "el doble de 12 es 24\n",
      "el cuadrado de 12 es 144\n"
     ]
    }
   ],
   "source": [
    "funcion_superior(12)"
   ]
  },
  {
   "cell_type": "markdown",
   "metadata": {},
   "source": [
    "* Funciones lambda"
   ]
  },
  {
   "cell_type": "code",
   "execution_count": 104,
   "metadata": {},
   "outputs": [
    {
     "data": {
      "text/plain": [
       "4"
      ]
     },
     "execution_count": 104,
     "metadata": {},
     "output_type": "execute_result"
    }
   ],
   "source": [
    "f = lambda x: x**2\n",
    "f2 = f(2)\n",
    "f2"
   ]
  },
  {
   "cell_type": "code",
   "execution_count": 123,
   "metadata": {},
   "outputs": [
    {
     "data": {
      "text/plain": [
       "1331"
      ]
     },
     "execution_count": 123,
     "metadata": {},
     "output_type": "execute_result"
    }
   ],
   "source": [
    "f = lambda x,y : (x+y)**3\n",
    "f(2,9)"
   ]
  },
  {
   "cell_type": "code",
   "execution_count": 124,
   "metadata": {},
   "outputs": [],
   "source": [
    "def mi_funcion(lambda_func):\n",
    "    return lambda_func(2,9)"
   ]
  },
  {
   "cell_type": "code",
   "execution_count": 125,
   "metadata": {},
   "outputs": [
    {
     "data": {
      "text/plain": [
       "1331"
      ]
     },
     "execution_count": 125,
     "metadata": {},
     "output_type": "execute_result"
    }
   ],
   "source": [
    "mi_funcion(lambda a,b: (a+b)**3)"
   ]
  },
  {
   "cell_type": "markdown",
   "metadata": {},
   "source": [
    "* Map y Set"
   ]
  },
  {
   "cell_type": "code",
   "execution_count": 127,
   "metadata": {},
   "outputs": [],
   "source": [
    "def cuadrado_(numero):\n",
    "    return numero*numero"
   ]
  },
  {
   "cell_type": "code",
   "execution_count": 130,
   "metadata": {},
   "outputs": [
    {
     "data": {
      "text/plain": [
       "(1, 4, 9, 16, 25, 36, 49, 64, 81)"
      ]
     },
     "execution_count": 130,
     "metadata": {},
     "output_type": "execute_result"
    }
   ],
   "source": [
    "lista = [1,2,3,4,5,6,7,8,9]\n",
    "resultado = map(cuadrado_,lista)\n",
    "tupla_resultado = tuple(resultado)\n",
    "tupla_resultado"
   ]
  },
  {
   "cell_type": "code",
   "execution_count": 133,
   "metadata": {},
   "outputs": [
    {
     "data": {
      "text/plain": [
       "(False, True, False, True, False, True, False, True, False)"
      ]
     },
     "execution_count": 133,
     "metadata": {},
     "output_type": "execute_result"
    }
   ],
   "source": [
    "lista2 = [1,2,3,4,5,6,7,8,9]\n",
    "par = lambda x: x%2==0\n",
    "par_tuple = tuple(map(par, lista))\n",
    "par_tuple"
   ]
  },
  {
   "cell_type": "code",
   "execution_count": null,
   "metadata": {},
   "outputs": [],
   "source": []
  },
  {
   "cell_type": "code",
   "execution_count": null,
   "metadata": {},
   "outputs": [],
   "source": []
  },
  {
   "cell_type": "code",
   "execution_count": null,
   "metadata": {},
   "outputs": [],
   "source": []
  },
  {
   "cell_type": "code",
   "execution_count": null,
   "metadata": {},
   "outputs": [],
   "source": []
  },
  {
   "cell_type": "code",
   "execution_count": null,
   "metadata": {},
   "outputs": [],
   "source": []
  },
  {
   "cell_type": "code",
   "execution_count": null,
   "metadata": {},
   "outputs": [],
   "source": []
  },
  {
   "cell_type": "code",
   "execution_count": null,
   "metadata": {},
   "outputs": [],
   "source": []
  }
 ],
 "metadata": {
  "kernelspec": {
   "display_name": "base",
   "language": "python",
   "name": "python3"
  },
  "language_info": {
   "codemirror_mode": {
    "name": "ipython",
    "version": 3
   },
   "file_extension": ".py",
   "mimetype": "text/x-python",
   "name": "python",
   "nbconvert_exporter": "python",
   "pygments_lexer": "ipython3",
   "version": "3.11.7"
  }
 },
 "nbformat": 4,
 "nbformat_minor": 2
}
