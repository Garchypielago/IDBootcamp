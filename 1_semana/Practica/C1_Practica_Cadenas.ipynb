{
 "cells": [
  {
   "cell_type": "markdown",
   "metadata": {
    "colab_type": "text",
    "id": "sklTHEJAXeEH"
   },
   "source": [
    "## Practica de cadenas "
   ]
  },
  {
   "cell_type": "code",
   "execution_count": 1,
   "metadata": {
    "colab": {},
    "colab_type": "code",
    "id": "Q-mCRSJBXeEP"
   },
   "outputs": [
    {
     "name": "stdout",
     "output_type": "stream",
     "text": [
      "Sólo puede ser feliz siempre el que sepa ser feliz con todo.\n"
     ]
    }
   ],
   "source": [
    "frase = \"Sólo puede ser feliz siempre el que sepa ser feliz con todo.\"\n",
    "print(frase)"
   ]
  },
  {
   "cell_type": "markdown",
   "metadata": {
    "colab_type": "text",
    "id": "x2MTjAhSXeEf"
   },
   "source": [
    "- Obtener la longitud de la frase."
   ]
  },
  {
   "cell_type": "code",
   "execution_count": 3,
   "metadata": {
    "colab": {},
    "colab_type": "code",
    "id": "eLT0xviLXeEh"
   },
   "outputs": [
    {
     "name": "stdout",
     "output_type": "stream",
     "text": [
      "60\n"
     ]
    }
   ],
   "source": [
    "longitud = len(frase)\n",
    "print(longitud)"
   ]
  },
  {
   "cell_type": "markdown",
   "metadata": {
    "colab_type": "text",
    "id": "dhE-Bo7GXeEv"
   },
   "source": [
    "- Obten la sección \"puede ser\" haciendo slicing "
   ]
  },
  {
   "cell_type": "code",
   "execution_count": 6,
   "metadata": {
    "colab": {},
    "colab_type": "code",
    "id": "KztwvuQvXeEx"
   },
   "outputs": [
    {
     "name": "stdout",
     "output_type": "stream",
     "text": [
      "puede ser\n"
     ]
    }
   ],
   "source": [
    "puedeSer = frase[frase.find(\"puede\") : frase.find(\"ser\")+3]\n",
    "print(puedeSer)"
   ]
  },
  {
   "cell_type": "markdown",
   "metadata": {
    "colab_type": "text",
    "id": "lQCORUVSXeE9"
   },
   "source": [
    "- Obten la sección \"feliz con t\" haciando slicing de derecha a izquierda, utilizando indexación negativa"
   ]
  },
  {
   "cell_type": "code",
   "execution_count": 18,
   "metadata": {
    "colab": {},
    "colab_type": "code",
    "id": "P-vscXfpXeFC"
   },
   "outputs": [
    {
     "name": "stdout",
     "output_type": "stream",
     "text": [
      "feliz con t\n"
     ]
    }
   ],
   "source": [
    "feliz2 = frase.find(\"feliz\", frase.find(\"feliz\")+5 )\n",
    "l = len(\"feliz con t\")\n",
    "\n",
    "felizConT = frase[ feliz2 - len(frase)  : feliz2 - len(frase)  + l]\n",
    "print(felizConT)"
   ]
  },
  {
   "cell_type": "markdown",
   "metadata": {
    "colab_type": "text",
    "id": "k9WznVhmXeFQ"
   },
   "source": [
    "1. Guarda en la variable: subfrase1, la siguiente sección de la variable frase: \"feliz siempre\"\n",
    "2. Guarda en la variable: subfrase2, la siguiente sección de la variable frase: \"feliz con todo.\"\n",
    "3. Crea la siguiente frase utilizando las variables: subfrase1 y subfrase2: \"feliz siempre, feliz con todo.\""
   ]
  },
  {
   "cell_type": "code",
   "execution_count": 20,
   "metadata": {
    "colab": {},
    "colab_type": "code",
    "id": "q8dI9XpeXeFT"
   },
   "outputs": [
    {
     "name": "stdout",
     "output_type": "stream",
     "text": [
      "feliz siempre, feliz con todo.\n"
     ]
    }
   ],
   "source": [
    "subfrase1 = \"feliz siempre\"\n",
    "subfrase2 = \"feliz con todo.\"\n",
    "frase2 = subfrase1 + \", \" + subfrase2\n",
    "print(frase2)"
   ]
  },
  {
   "cell_type": "markdown",
   "metadata": {
    "colab_type": "text",
    "id": "nO9SYBRSXeF2"
   },
   "source": [
    "- Haz stride de paso 2, a la siguiente sección: \"feliz siempre el que sepa ser feliz\""
   ]
  },
  {
   "cell_type": "code",
   "execution_count": 21,
   "metadata": {
    "colab": {},
    "colab_type": "code",
    "id": "mWPqnPMLXeF4"
   },
   "outputs": [
    {
     "data": {
      "text/plain": [
       "'flzsepee u easrflz'"
      ]
     },
     "execution_count": 21,
     "metadata": {},
     "output_type": "execute_result"
    }
   ],
   "source": [
    "\"feliz siempre el que sepa ser feliz\"[::2]"
   ]
  },
  {
   "cell_type": "markdown",
   "metadata": {
    "colab_type": "text",
    "id": "gjgzJ8DoXeGF"
   },
   "source": [
    "- Obten las vocales de las palabras: \"Sólo\", \"feliz\" y \"todo\", haciendo slicing a la variable frase y utilizando stride"
   ]
  },
  {
   "cell_type": "code",
   "execution_count": 24,
   "metadata": {
    "colab": {},
    "colab_type": "code",
    "id": "XiHcLy8MXeGH"
   },
   "outputs": [
    {
     "data": {
      "text/plain": [
       "'óo'"
      ]
     },
     "execution_count": 24,
     "metadata": {},
     "output_type": "execute_result"
    }
   ],
   "source": [
    "#frase = \"Sólo puede ser feliz siempre el que sepa ser feliz con todo.\"\n",
    "solo = frase[1:5:2]\n",
    "solo"
   ]
  },
  {
   "cell_type": "code",
   "execution_count": 26,
   "metadata": {
    "colab": {},
    "colab_type": "code",
    "id": "gAP-ZWDvXeGS"
   },
   "outputs": [
    {
     "data": {
      "text/plain": [
       "'ei'"
      ]
     },
     "execution_count": 26,
     "metadata": {},
     "output_type": "execute_result"
    }
   ],
   "source": [
    "feliz = frase[frase.find(\"feliz\")+1:frase.find(\"feliz\")+5:2]\n",
    "feliz"
   ]
  },
  {
   "cell_type": "code",
   "execution_count": 31,
   "metadata": {
    "colab": {},
    "colab_type": "code",
    "id": "2Pku35NlXeGc"
   },
   "outputs": [
    {
     "data": {
      "text/plain": [
       "'oo'"
      ]
     },
     "execution_count": 31,
     "metadata": {},
     "output_type": "execute_result"
    }
   ],
   "source": [
    "todo = frase[-4::2]\n",
    "todo"
   ]
  },
  {
   "cell_type": "markdown",
   "metadata": {
    "colab_type": "text",
    "id": "KKQGJSWcXeGl"
   },
   "source": [
    "- Encuentra el índice de la cadena \"siempre\" y guardarlo en la variable indice1"
   ]
  },
  {
   "cell_type": "code",
   "execution_count": 32,
   "metadata": {
    "colab": {},
    "colab_type": "code",
    "id": "86FTJUrxXeGm"
   },
   "outputs": [
    {
     "data": {
      "text/plain": [
       "21"
      ]
     },
     "execution_count": 32,
     "metadata": {},
     "output_type": "execute_result"
    }
   ],
   "source": [
    "indice1 = frase.find(\"siempre\")\n",
    "indice1"
   ]
  },
  {
   "cell_type": "markdown",
   "metadata": {
    "colab_type": "text",
    "id": "byW-zKsvXeGu"
   },
   "source": [
    "- Encuentra el índice del caracter \".\" y guardarlo en indice2"
   ]
  },
  {
   "cell_type": "code",
   "execution_count": 33,
   "metadata": {
    "colab": {},
    "colab_type": "code",
    "id": "RQ1ZP0i6XeGv"
   },
   "outputs": [
    {
     "data": {
      "text/plain": [
       "59"
      ]
     },
     "execution_count": 33,
     "metadata": {},
     "output_type": "execute_result"
    }
   ],
   "source": [
    "indice2 = frase.find(\".\")\n",
    "indice2"
   ]
  },
  {
   "cell_type": "markdown",
   "metadata": {
    "colab_type": "text",
    "id": "FXM27_ohXeG7"
   },
   "source": [
    "- Obten la frase: \"siempre el que sepa ser feliz con todo\" haciendo slicing y utilizando las variables: indice1 y indice2"
   ]
  },
  {
   "cell_type": "code",
   "execution_count": 34,
   "metadata": {
    "colab": {},
    "colab_type": "code",
    "id": "GespCMdpXeG-"
   },
   "outputs": [
    {
     "data": {
      "text/plain": [
       "'siempre el que sepa ser feliz con todo'"
      ]
     },
     "execution_count": 34,
     "metadata": {},
     "output_type": "execute_result"
    }
   ],
   "source": [
    "#frase = \"Sólo puede ser feliz siempre el que sepa ser feliz con todo.\"\n",
    "frase3 = frase[indice1:indice2]\n",
    "frase3"
   ]
  },
  {
   "cell_type": "markdown",
   "metadata": {
    "colab_type": "text",
    "id": "JMhZJouOXeHF"
   },
   "source": [
    "- Verifica si la frase comienza con la cadena \"feliz\""
   ]
  },
  {
   "cell_type": "code",
   "execution_count": 35,
   "metadata": {
    "colab": {},
    "colab_type": "code",
    "id": "qiwEYS-FXeHH"
   },
   "outputs": [
    {
     "data": {
      "text/plain": [
       "False"
      ]
     },
     "execution_count": 35,
     "metadata": {},
     "output_type": "execute_result"
    }
   ],
   "source": [
    "frase.startswith(\"feliz\")"
   ]
  },
  {
   "cell_type": "markdown",
   "metadata": {
    "colab_type": "text",
    "id": "_dA-4-diXeHR"
   },
   "source": [
    "- Verifica si la frase termina con punto"
   ]
  },
  {
   "cell_type": "code",
   "execution_count": 36,
   "metadata": {
    "colab": {},
    "colab_type": "code",
    "id": "rqgqGQcEXeHU"
   },
   "outputs": [
    {
     "data": {
      "text/plain": [
       "True"
      ]
     },
     "execution_count": 36,
     "metadata": {},
     "output_type": "execute_result"
    }
   ],
   "source": [
    "frase.endswith(\".\")"
   ]
  },
  {
   "cell_type": "markdown",
   "metadata": {
    "colab_type": "text",
    "id": "qlWik1Z2XeHj"
   },
   "source": [
    "- Separa la frase por la cadena \"feliz\" utilizando split()"
   ]
  },
  {
   "cell_type": "code",
   "execution_count": 37,
   "metadata": {
    "colab": {},
    "colab_type": "code",
    "id": "1wTUJPKTXeHl"
   },
   "outputs": [
    {
     "data": {
      "text/plain": [
       "['Sólo puede ser ', ' siempre el que sepa ser ', ' con todo.']"
      ]
     },
     "execution_count": 37,
     "metadata": {},
     "output_type": "execute_result"
    }
   ],
   "source": [
    "frase.split(\"feliz\")"
   ]
  },
  {
   "cell_type": "markdown",
   "metadata": {
    "colab_type": "text",
    "id": "zaBbLW_tXeHr"
   },
   "source": [
    "- Aplica el método upper a la variable frase y asignarlo a la variable frase2"
   ]
  },
  {
   "cell_type": "code",
   "execution_count": 38,
   "metadata": {
    "colab": {},
    "colab_type": "code",
    "id": "neRU75XtXeHs"
   },
   "outputs": [
    {
     "data": {
      "text/plain": [
       "'SÓLO PUEDE SER FELIZ SIEMPRE EL QUE SEPA SER FELIZ CON TODO.'"
      ]
     },
     "execution_count": 38,
     "metadata": {},
     "output_type": "execute_result"
    }
   ],
   "source": [
    "frase4=frase.upper()\n",
    "frase4"
   ]
  },
  {
   "cell_type": "markdown",
   "metadata": {
    "colab_type": "text",
    "id": "tAaTASjxXeH3"
   },
   "source": [
    "- Reemplaza la cadena \"FELIZ\" por \"honesto\" en la variable frase2 y reasignar el resultado a frase2"
   ]
  },
  {
   "cell_type": "code",
   "execution_count": 40,
   "metadata": {
    "colab": {},
    "colab_type": "code",
    "id": "7r3BSe03XeH5"
   },
   "outputs": [
    {
     "data": {
      "text/plain": [
       "'SÓLO PUEDE SER honesto SIEMPRE EL QUE SEPA SER honesto CON TODO.'"
      ]
     },
     "execution_count": 40,
     "metadata": {},
     "output_type": "execute_result"
    }
   ],
   "source": [
    "frase4=frase4.replace(\"FELIZ\", \"honesto\")\n",
    "frase4"
   ]
  },
  {
   "cell_type": "markdown",
   "metadata": {
    "colab_type": "text",
    "id": "khrCvWd6XeIB"
   },
   "source": [
    "- Aplica el método title() a frase2 y reasignarlo a frase2"
   ]
  },
  {
   "cell_type": "code",
   "execution_count": 41,
   "metadata": {
    "colab": {},
    "colab_type": "code",
    "id": "Xqrqan9xXeID"
   },
   "outputs": [
    {
     "data": {
      "text/plain": [
       "'Sólo Puede Ser Honesto Siempre El Que Sepa Ser Honesto Con Todo.'"
      ]
     },
     "execution_count": 41,
     "metadata": {},
     "output_type": "execute_result"
    }
   ],
   "source": [
    "frase4=frase4.title()\n",
    "frase4"
   ]
  },
  {
   "cell_type": "markdown",
   "metadata": {
    "colab_type": "text",
    "id": "4Ef643FJXeIL"
   },
   "source": [
    "- Agrega la siguiente cadena \" 0 1 2 \" al inicio y al final de la variable frase, utilizando el operador \"+\""
   ]
  },
  {
   "cell_type": "code",
   "execution_count": 42,
   "metadata": {
    "colab": {},
    "colab_type": "code",
    "id": "4wO5ZzrcXeIM"
   },
   "outputs": [
    {
     "data": {
      "text/plain": [
       "' 0 1 2 Sólo Puede Ser Honesto Siempre El Que Sepa Ser Honesto Con Todo. 0 1 2 '"
      ]
     },
     "execution_count": 42,
     "metadata": {},
     "output_type": "execute_result"
    }
   ],
   "source": [
    "frase4 = \" 0 1 2 \" + frase4 + \" 0 1 2 \"\n",
    "frase4"
   ]
  },
  {
   "cell_type": "markdown",
   "metadata": {
    "colab_type": "text",
    "id": "rWev2FVsXeIW"
   },
   "source": [
    "- Aplica strip() para eliminar la cadena \" 0 1 2 \" de la variable frase"
   ]
  },
  {
   "cell_type": "code",
   "execution_count": 45,
   "metadata": {
    "colab": {},
    "colab_type": "code",
    "id": "GkMk0uI6XeIY"
   },
   "outputs": [
    {
     "data": {
      "text/plain": [
       "'Sólo Puede Ser Honesto Siempre El Que Sepa Ser Honesto Con Todo.'"
      ]
     },
     "execution_count": 45,
     "metadata": {},
     "output_type": "execute_result"
    }
   ],
   "source": [
    "frase4 = frase4.strip(\" 0 1 2 \")\n",
    "frase4"
   ]
  },
  {
   "cell_type": "markdown",
   "metadata": {
    "colab_type": "text",
    "id": "NFUCzcceXeIv"
   },
   "source": [
    "- Encuentra las veces que aparece la cadena \"feliz\" en la frase"
   ]
  },
  {
   "cell_type": "code",
   "execution_count": 46,
   "metadata": {
    "colab": {},
    "colab_type": "code",
    "id": "uhNjNc9NXeIx"
   },
   "outputs": [
    {
     "data": {
      "text/plain": [
       "2"
      ]
     },
     "execution_count": 46,
     "metadata": {},
     "output_type": "execute_result"
    }
   ],
   "source": [
    "frase.count(\"feliz\")"
   ]
  },
  {
   "cell_type": "markdown",
   "metadata": {
    "colab_type": "text",
    "id": "NFUCzcceXeIv"
   },
   "source": [
    "- Vuelve a obtener la longitud de la frase sin utilizar la función len()"
   ]
  },
  {
   "cell_type": "code",
   "execution_count": 49,
   "metadata": {},
   "outputs": [
    {
     "data": {
      "text/plain": [
       "True"
      ]
     },
     "execution_count": 49,
     "metadata": {},
     "output_type": "execute_result"
    }
   ],
   "source": [
    "#frase = \"Sólo puede ser feliz siempre el que sepa ser feliz con todo.\"\n",
    "conteo = 0\n",
    "for i in frase:\n",
    "    conteo+=1\n",
    "conteo == len(frase)"
   ]
  }
 ],
 "metadata": {
  "colab": {
   "name": "Practica_Cadenas.ipynb",
   "provenance": []
  },
  "kernelspec": {
   "display_name": "Python 3 (ipykernel)",
   "language": "python",
   "name": "python3"
  },
  "language_info": {
   "codemirror_mode": {
    "name": "ipython",
    "version": 3
   },
   "file_extension": ".py",
   "mimetype": "text/x-python",
   "name": "python",
   "nbconvert_exporter": "python",
   "pygments_lexer": "ipython3",
   "version": "3.11.7"
  }
 },
 "nbformat": 4,
 "nbformat_minor": 4
}
