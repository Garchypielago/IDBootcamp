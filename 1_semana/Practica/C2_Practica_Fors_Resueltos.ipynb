{
 "cells": [
  {
   "cell_type": "markdown",
   "metadata": {},
   "source": [
    "# Lista ejercicios bucles For"
   ]
  },
  {
   "cell_type": "markdown",
   "metadata": {},
   "source": [
    "1. Haz un programa que imprima por pantalla todos los elementos de una lista dada."
   ]
  },
  {
   "cell_type": "code",
   "execution_count": null,
   "metadata": {},
   "outputs": [],
   "source": [
    "L = [1,6,2,3]\n",
    "for l in L:\n",
    "    print(l)"
   ]
  },
  {
   "cell_type": "markdown",
   "metadata": {},
   "source": [
    "2. Haz un programa que dada una lista numérica devuelva cuantos pares de números consecutivos son crecientes. Nota necesitras comparar L[i] y L[i+1]\n"
   ]
  },
  {
   "cell_type": "code",
   "execution_count": 5,
   "metadata": {},
   "outputs": [
    {
     "name": "stdout",
     "output_type": "stream",
     "text": [
      "2\n"
     ]
    }
   ],
   "source": [
    "L = [1,6,2,3]\n",
    "cont = 0\n",
    "for i in range(len(L)-1):\n",
    "    if L[i] < L[i+1]:\n",
    "        cont+=1\n",
    "print(cont)\n",
    "        "
   ]
  },
  {
   "cell_type": "markdown",
   "metadata": {},
   "source": [
    "3. Haz un programa que dadas dos listas de la misma longitud devuelva el número de elementos que son iguales. \n"
   ]
  },
  {
   "cell_type": "code",
   "execution_count": 6,
   "metadata": {},
   "outputs": [
    {
     "name": "stdout",
     "output_type": "stream",
     "text": [
      "3\n"
     ]
    }
   ],
   "source": [
    "L = [1,6,2,3]\n",
    "W = [2,6,2,3]\n",
    "cont = 0\n",
    "for i in range(len(L)):\n",
    "    if L[i] == W[i]:\n",
    "        cont+=1\n",
    "print(cont)\n",
    "        "
   ]
  },
  {
   "cell_type": "markdown",
   "metadata": {},
   "source": [
    "4. Haz un programa que pregunte dos números enteros N1 y N2 y que calcule N1/1, N1/2, …, N1/N2.\n"
   ]
  },
  {
   "cell_type": "code",
   "execution_count": null,
   "metadata": {},
   "outputs": [],
   "source": [
    "N1 = int(input(\"Dame N1:\"))\n",
    "N2 = int(input(\"Dame N2:\"))\n",
    "for i in range(1,N2):\n",
    "    print(N1/i)"
   ]
  },
  {
   "cell_type": "markdown",
   "metadata": {},
   "source": [
    "5. Haz un programa que dado un número N una secuencia de N números enteros. Crea una matriz donde el elemento ij sea la multiplicación de los elementos i-ésimo y j-ésimo de la secuencia de enteros. Después intentalo con comprehensive lists. Nota: necesitarás 2 fors. \n"
   ]
  },
  {
   "cell_type": "code",
   "execution_count": 18,
   "metadata": {},
   "outputs": [
    {
     "name": "stdout",
     "output_type": "stream",
     "text": [
      "[[1, 2, 3], [2, 4, 6], [3, 6, 9]]\n"
     ]
    }
   ],
   "source": [
    "n = 3\n",
    "L = [1,2,3] # \n",
    "M = [] # creo una matriz vacia, esto es el resultado\n",
    "for i in range(n): # matriz es una lista de listas, este for generará las filas\n",
    "    f=[] # creo una lista vacia, que voy a llenar\n",
    "    for j in range(n): # llenar la fila\n",
    "        f.append(L[i]*L[j]) # añado a f el producto\n",
    "    M.append(f) # añado mi fila ya llena a la matriz\n",
    "print(M)"
   ]
  },
  {
   "cell_type": "code",
   "execution_count": 20,
   "metadata": {},
   "outputs": [
    {
     "data": {
      "text/plain": [
       "[[1, 2, 3], [2, 4, 6], [3, 6, 9]]"
      ]
     },
     "execution_count": 20,
     "metadata": {},
     "output_type": "execute_result"
    }
   ],
   "source": [
    "[[L[i]*L[j] for j in range(n)] for i in range(n)]"
   ]
  },
  {
   "cell_type": "markdown",
   "metadata": {},
   "source": [
    "6. Crear un programa que transponga una matriz (una matriz es una lista de listas) y la imprima por pantalla. Después intentalo utilizando comprehensive lists.\n",
    "\n"
   ]
  },
  {
   "cell_type": "code",
   "execution_count": 11,
   "metadata": {},
   "outputs": [
    {
     "name": "stdout",
     "output_type": "stream",
     "text": [
      "[1, 2, 4]\n",
      "[2, 3, 1]\n"
     ]
    },
    {
     "data": {
      "text/plain": [
       "[None, None]"
      ]
     },
     "execution_count": 11,
     "metadata": {},
     "output_type": "execute_result"
    }
   ],
   "source": [
    "A = [[1,2,4],[2,3,1]] \n",
    "[print(fila) for fila in A]"
   ]
  },
  {
   "cell_type": "code",
   "execution_count": 7,
   "metadata": {},
   "outputs": [
    {
     "data": {
      "text/plain": [
       "[[1, 2], [2, 3], [4, 1]]"
      ]
     },
     "execution_count": 7,
     "metadata": {},
     "output_type": "execute_result"
    }
   ],
   "source": [
    "\n",
    "n = len(A)\n",
    "m = len(A[0])\n",
    "At=[]\n",
    "for j in range(m):\n",
    "    f = []\n",
    "    for i in range(n):\n",
    "        f.append(A[i][j])\n",
    "    At.append(f)\n",
    "\n",
    "At"
   ]
  },
  {
   "cell_type": "code",
   "execution_count": 9,
   "metadata": {},
   "outputs": [
    {
     "data": {
      "text/plain": [
       "[[1, 2], [2, 3], [4, 1]]"
      ]
     },
     "execution_count": 9,
     "metadata": {},
     "output_type": "execute_result"
    }
   ],
   "source": [
    "[[A[i][j] for i in range(len(A))] for j in range(len(A[0]))]"
   ]
  },
  {
   "cell_type": "markdown",
   "metadata": {},
   "source": [
    "7. Haz un programa que pregunte por un entero N y que imprima por pantalla todos los números primos hasta N. Para saber si un número es primo o no es primo implementa la criba de Eratóstenes.\n"
   ]
  },
  {
   "cell_type": "code",
   "execution_count": null,
   "metadata": {},
   "outputs": [],
   "source": [
    "# prime = [True for i in range(end+1)] "
   ]
  },
  {
   "cell_type": "code",
   "execution_count": 6,
   "metadata": {},
   "outputs": [
    {
     "data": {
      "text/plain": [
       "[True,\n",
       " True,\n",
       " True,\n",
       " True,\n",
       " True,\n",
       " True,\n",
       " True,\n",
       " True,\n",
       " True,\n",
       " True,\n",
       " True,\n",
       " True,\n",
       " True,\n",
       " True,\n",
       " True,\n",
       " True,\n",
       " True,\n",
       " True,\n",
       " True,\n",
       " True,\n",
       " True]"
      ]
     },
     "execution_count": 6,
     "metadata": {},
     "output_type": "execute_result"
    }
   ],
   "source": [
    "prime = [True]*(end+1)\n",
    "prime"
   ]
  },
  {
   "cell_type": "code",
   "execution_count": 7,
   "metadata": {},
   "outputs": [
    {
     "name": "stdout",
     "output_type": "stream",
     "text": [
      "Iteración 2\n",
      "----------------------\n",
      "Tachamos => 4\n",
      "Tachamos => 6\n",
      "Tachamos => 8\n",
      "Tachamos => 10\n",
      "Tachamos => 12\n",
      "Tachamos => 14\n",
      "Tachamos => 16\n",
      "Tachamos => 18\n",
      "Tachamos => 20\n",
      "Iteración 3\n",
      "----------------------\n",
      "Tachamos => 6\n",
      "Tachamos => 9\n",
      "Tachamos => 12\n",
      "Tachamos => 15\n",
      "Tachamos => 18\n",
      "Iteración 4\n",
      "----------------------\n",
      "Iteración 5\n",
      "----------------------\n",
      "Tachamos => 10\n",
      "Tachamos => 15\n",
      "Tachamos => 20\n",
      "Iteración 6\n",
      "----------------------\n",
      "Iteración 7\n",
      "----------------------\n",
      "Tachamos => 14\n",
      "Iteración 8\n",
      "----------------------\n",
      "Iteración 9\n",
      "----------------------\n",
      "Iteración 10\n",
      "----------------------\n",
      "Iteración 11\n",
      "----------------------\n",
      "Iteración 12\n",
      "----------------------\n",
      "Iteración 13\n",
      "----------------------\n",
      "Iteración 14\n",
      "----------------------\n",
      "Iteración 15\n",
      "----------------------\n",
      "Iteración 16\n",
      "----------------------\n",
      "Iteración 17\n",
      "----------------------\n",
      "Iteración 18\n",
      "----------------------\n",
      "Iteración 19\n",
      "----------------------\n",
      "Iteración 20\n",
      "----------------------\n",
      "2\n",
      "3\n",
      "5\n",
      "7\n",
      "11\n",
      "13\n",
      "17\n",
      "19\n"
     ]
    }
   ],
   "source": [
    "# Primos a partir de sieve of eratosthenes\n",
    "end = 20\n",
    "prime = [True]*(end+1)\n",
    "for p in range(2,end+1): # 2,3,4,5,6,7,8,9....\n",
    "    print(\"Iteración\", p)\n",
    "    print(\"----------------------\")\n",
    "    if (prime[p] == True): # 2 => es True, 3 => True, 4 => False, no mirara nada\n",
    "        # p es primo\n",
    "        for i in range(2*p, end+1, p): # p=2 range(2*2, 21, 2)\n",
    "            print(\"Tachamos =>\", i)\n",
    "            prime[i] = False \n",
    "\n",
    "for p in range(2, end): \n",
    "    if prime[p]: \n",
    "        print(p)"
   ]
  },
  {
   "cell_type": "markdown",
   "metadata": {},
   "source": [
    "8. Haz un programa que pregunte por un entero N y que imprima por pantalla el triángulo de Tartaglia hasta la fila N. Por ejemplo, para N = 6 el output debe ser:\n",
    "\n",
    " 1 \n",
    " \n",
    " 1 1\n",
    " \n",
    " 1 2 1\n",
    " \n",
    " 1 3 3 1\n",
    " \n",
    " 1 4 6 4 1\n",
    " \n",
    " 1 5 10 10 5 1\n",
    " \n"
   ]
  },
  {
   "cell_type": "code",
   "execution_count": 13,
   "metadata": {},
   "outputs": [
    {
     "name": "stdout",
     "output_type": "stream",
     "text": [
      "[1]\n",
      "[1, 1]\n",
      "[1, 2, 1]\n",
      "[1, 3, 3, 1]\n",
      "[1, 4, 6, 4, 1]\n",
      "[1, 5, 10, 10, 5, 1]\n",
      " 1\n",
      " 1 1\n",
      " 1 2 1\n",
      " 1 3 3 1\n",
      " 1 4 6 4 1\n",
      " 1 5 10 10 5 1\n"
     ]
    }
   ],
   "source": [
    "N = 6\n",
    "\n",
    "triangulo = []\n",
    "fila = [1]\n",
    "triangulo.append(fila)\n",
    "\n",
    "fila = [1, 1]\n",
    "triangulo.append(fila)\n",
    "\n",
    "for i in range(3, N + 1):\n",
    "    fila = [1]\n",
    "    for k in range(0, len(triangulo[-1])-1):\n",
    "        fila.append(triangulo[-1][k]+triangulo[-1][k+1])\n",
    "    fila.append(1)\n",
    "    triangulo.append(fila)\n",
    "\n",
    "for i in range(0, N):\n",
    "    print(triangulo[i])\n",
    "    \n",
    "for i in range(0, N):\n",
    "    texto = \"\"\n",
    "    for k in range(0, len(triangulo[i])):\n",
    "        texto = texto + \" \" + str(triangulo[i][k])\n",
    "    print (texto)\n",
    "    "
   ]
  },
  {
   "cell_type": "markdown",
   "metadata": {},
   "source": [
    "9. La conjetura de Goldbach es uno de los problemas sin resolver más antiguos de las matemáticas y dice que “Cualquier número par mayor que 2 puede escribirse como la suma de dos números primos”.\n",
    "Crea un script que, dado un entero N, para cada número par hasta N, encuentre dos primeros p y q que lo sumen. Por ejemplo, si N = 12:\n",
    "\n",
    "4 = 2 + 2\n",
    "\n",
    "6 = 3 + 3\n",
    "\n",
    "8 = 3 + 5\n",
    "\n",
    "10 = 3 + 7 o 5 + 5\n",
    "\n",
    "12 = 5 + 7\n"
   ]
  },
  {
   "cell_type": "code",
   "execution_count": 4,
   "metadata": {},
   "outputs": [
    {
     "name": "stdout",
     "output_type": "stream",
     "text": [
      "13 + 11 = 24\n",
      "17 + 7 = 24\n",
      "19 + 5 = 24\n"
     ]
    }
   ],
   "source": [
    "N=24\n",
    "for i in range(2,N-1):\n",
    "    \n",
    "    ### Miro si i es primo\n",
    "    esPrimo1=True\n",
    "    for j in range(2,i):\n",
    "        if i%j==0:\n",
    "            esPrimo1=False\n",
    "            \n",
    "    ### Miro si N-i es primo\n",
    "    esPrimo2=True\n",
    "    for j in range(2,N-i):\n",
    "        if i%j==0:\n",
    "            esPrimo2=False\n",
    "            \n",
    "    if esPrimo1 and esPrimo2: # i+N-i=N ==>\n",
    "        print(i,\"+\",N-i,\"=\",N)"
   ]
  },
  {
   "cell_type": "code",
   "execution_count": 13,
   "metadata": {},
   "outputs": [],
   "source": [
    "n = 23\n",
    "def es_primo(n):\n",
    "    primo=True\n",
    "    for i in range(2,n):\n",
    "        if n%i==0:\n",
    "            return False\n",
    "    return True"
   ]
  },
  {
   "cell_type": "code",
   "execution_count": 15,
   "metadata": {},
   "outputs": [
    {
     "data": {
      "text/plain": [
       "True"
      ]
     },
     "execution_count": 15,
     "metadata": {},
     "output_type": "execute_result"
    }
   ],
   "source": [
    "es_primo(23)"
   ]
  },
  {
   "cell_type": "markdown",
   "metadata": {},
   "source": [
    "RETO: Haz un programa que dadas dos matrices, haga la multiplicación de las dos matrices."
   ]
  },
  {
   "cell_type": "code",
   "execution_count": 14,
   "metadata": {},
   "outputs": [
    {
     "name": "stdout",
     "output_type": "stream",
     "text": [
      "[114, 160, 60, 27]\n",
      "[74, 97, 73, 14]\n",
      "[119, 157, 112, 23]\n"
     ]
    }
   ],
   "source": [
    "# Program to multiply two matrices using nested loops\n",
    "\n",
    "# 3x3 matrix\n",
    "X = [[12,7,3],\n",
    "    [4 ,5,6],\n",
    "    [7 ,8,9]]\n",
    "# 3x4 matrix\n",
    "Y = [[5,8,1,2],\n",
    "    [6,7,3,0],\n",
    "    [4,5,9,1]]\n",
    "# result is 3x4\n",
    "resultado = [[0,0,0,0],\n",
    "         [0,0,0,0],\n",
    "         [0,0,0,0]]\n",
    "\n",
    "# iterate through rows of X\n",
    "for i in range(len(X)):\n",
    "    # iterate through columns of Y\n",
    "    for j in range(len(Y[0])):\n",
    "        # iterate through rows of Y\n",
    "        for k in range(len(Y)):\n",
    "            resultado[i][j] += X[i][k] * Y[k][j]\n",
    "\n",
    "for r in result:\n",
    "    print(r)"
   ]
  },
  {
   "cell_type": "markdown",
   "metadata": {},
   "source": [
    "\n",
    "\n",
    "\n",
    "\t"
   ]
  }
 ],
 "metadata": {
  "kernelspec": {
   "display_name": "Python 3 (ipykernel)",
   "language": "python",
   "name": "python3"
  },
  "language_info": {
   "codemirror_mode": {
    "name": "ipython",
    "version": 3
   },
   "file_extension": ".py",
   "mimetype": "text/x-python",
   "name": "python",
   "nbconvert_exporter": "python",
   "pygments_lexer": "ipython3",
   "version": "3.10.13"
  }
 },
 "nbformat": 4,
 "nbformat_minor": 4
}
