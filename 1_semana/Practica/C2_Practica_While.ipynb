{
 "cells": [
  {
   "cell_type": "markdown",
   "metadata": {},
   "source": [
    "# Lista ejercicios bucles While"
   ]
  },
  {
   "cell_type": "markdown",
   "metadata": {},
   "source": [
    "1. Dado un número N, calcula la suma 1+2+3+...+N y haz la media."
   ]
  },
  {
   "cell_type": "code",
   "execution_count": 4,
   "metadata": {},
   "outputs": [
    {
     "name": "stdout",
     "output_type": "stream",
     "text": [
      "5.5\n"
     ]
    }
   ],
   "source": [
    "n = 10\n",
    "i=1\n",
    "cal = 0\n",
    "while i <= n:\n",
    "    cal += i\n",
    "    i += 1\n",
    "cal /= n \n",
    "print(cal)"
   ]
  },
  {
   "cell_type": "markdown",
   "metadata": {},
   "source": [
    "2. Dado un número N, calcula la suma de los números impares 1+3+5+7...+N y haz la media."
   ]
  },
  {
   "cell_type": "code",
   "execution_count": 5,
   "metadata": {},
   "outputs": [
    {
     "name": "stdout",
     "output_type": "stream",
     "text": [
      "5.0\n"
     ]
    }
   ],
   "source": [
    "n = 10\n",
    "i=1\n",
    "imp = 0\n",
    "cal = 0\n",
    "while i <= n:\n",
    "    if i %2!=0:\n",
    "        cal += i\n",
    "        imp += 1\n",
    "    i += 1\n",
    "cal /= imp\n",
    "print(cal)"
   ]
  },
  {
   "cell_type": "markdown",
   "metadata": {},
   "source": [
    "3. Dado un número N, calcula la suma 1+2²+3²+...+n²."
   ]
  },
  {
   "cell_type": "code",
   "execution_count": 6,
   "metadata": {},
   "outputs": [
    {
     "name": "stdout",
     "output_type": "stream",
     "text": [
      "385\n"
     ]
    }
   ],
   "source": [
    "n = 10\n",
    "i=1\n",
    "suma = 0\n",
    "while i <= n:\n",
    "    suma += i**2\n",
    "    i += 1\n",
    "print(suma)"
   ]
  },
  {
   "cell_type": "markdown",
   "metadata": {},
   "source": [
    "4. Dado un número N, calcula la suma 1+2²+3³+4⁴+...+n^n.\n"
   ]
  },
  {
   "cell_type": "code",
   "execution_count": 7,
   "metadata": {},
   "outputs": [
    {
     "name": "stdout",
     "output_type": "stream",
     "text": [
      "10000000285\n"
     ]
    }
   ],
   "source": [
    "n = 10\n",
    "i=1\n",
    "suma = 0\n",
    "while i <= n:\n",
    "    if i<n:\n",
    "        suma += i**2\n",
    "    else:\n",
    "        suma += i**i\n",
    "    i += 1\n",
    "print(suma)"
   ]
  },
  {
   "cell_type": "markdown",
   "metadata": {},
   "source": [
    "5. Dado un número N, calcula la suma 1-2+3-4+5-6...hasta N."
   ]
  },
  {
   "cell_type": "code",
   "execution_count": 8,
   "metadata": {},
   "outputs": [
    {
     "name": "stdout",
     "output_type": "stream",
     "text": [
      "-5\n"
     ]
    }
   ],
   "source": [
    "n = 10\n",
    "i=1\n",
    "suma = 0\n",
    "while i <= n:\n",
    "    if i %2!=0:\n",
    "        suma += i\n",
    "    else:\n",
    "        suma -= i\n",
    "    i += 1\n",
    "print(suma)"
   ]
  },
  {
   "cell_type": "markdown",
   "metadata": {},
   "source": [
    "6. Dado un número N, calcula la suma 1-2²+3²-4²+5²-6²+... hasta N"
   ]
  },
  {
   "cell_type": "code",
   "execution_count": 9,
   "metadata": {},
   "outputs": [
    {
     "name": "stdout",
     "output_type": "stream",
     "text": [
      "-55\n"
     ]
    }
   ],
   "source": [
    "n = 10\n",
    "i=1\n",
    "suma = 0\n",
    "while i <= n:\n",
    "    if i %2!=0:\n",
    "        suma += i**2\n",
    "    else:\n",
    "        suma -= i**2\n",
    "    i += 1\n",
    "print(suma)"
   ]
  },
  {
   "cell_type": "markdown",
   "metadata": {},
   "source": [
    "7. Crea un juego que te haga la pregunta “¿Cuál es la capital de Rusia?” y que mientras la respuesta no sea “Moscú” te diga “Fallaste,  inténtalo de nuevo”.\n",
    " * Implementa un máximo de 5 intentos, y si no los superas, que te expulse del juego con el mensaje “Otra vez será”.\n",
    " * Incorpora un salvavidas, si en el 5o intento la respuesta tiene las mismas letras o menos que “Moscú”, permite al usuario 2 intentos más antes de expulsarlo.\n"
   ]
  },
  {
   "cell_type": "code",
   "execution_count": 73,
   "metadata": {},
   "outputs": [
    {
     "name": "stdout",
     "output_type": "stream",
     "text": [
      "Fallaste, inténtalo de nuevo, te quedan 4 intentos\n",
      "Fallaste, inténtalo de nuevo, te quedan 3 intentos\n",
      "Fallaste, inténtalo de nuevo, te quedan 2 intentos\n",
      "Fallaste, inténtalo de nuevo, te quedan 1 intentos\n",
      "Fallaste, pero que suerte 2 turnos más\n",
      "Fallaste, inténtalo de nuevo, te quedan 1 intentos\n",
      "Otra vez será\n"
     ]
    }
   ],
   "source": [
    "res = input(\"¿cual es la capital de Rusia?\")\n",
    "i=1\n",
    "limite = 5\n",
    "while res!=\"Moscú\" and i<=limite:\n",
    "    if i != limite:\n",
    "        print(\"Fallaste, inténtalo de nuevo, te quedan\", limite - i, \"intentos\")\n",
    "\n",
    "    if len(res) <= len(\"Moscú\") and i==5:  \n",
    "        print(\"Fallaste, pero que suerte 2 turnos más\")\n",
    "        limite = 7\n",
    "\n",
    "    if i != limite:\n",
    "        res = input()\n",
    "\n",
    "    i += 1\n",
    "\n",
    "if res == \"Moscú\":\n",
    "    print(\"Ganaste, felicidades!!\")\n",
    "else:\n",
    "    print(\"Otra vez será.\")\n"
   ]
  },
  {
   "cell_type": "code",
   "execution_count": null,
   "metadata": {},
   "outputs": [
    {
     "name": "stdout",
     "output_type": "stream",
     "text": [
      "¿Quieres sacar o ingresar? (s ó i), para abrir el cajero (c), finalizar(f)\n",
      "Chao.\n"
     ]
    }
   ],
   "source": [
    "cajero = 0.0\n",
    "limite = 1000.0\n",
    "contraseña = \"contraseña\"\n",
    "tecla = \"\"\n",
    "operacion = \"\"\n",
    "\n",
    "while tecla!=\"f\":\n",
    "    if cajero<limite:\n",
    "        print(\"¿Quieres sacar o ingresar? (s ó i), para abrir el cajero (c), finalizar(f)\")\n",
    "        tecla = input()\n",
    "        if tecla==\"s\":\n",
    "            print(\"¿Cuanto quieres sacar?\")\n",
    "            operacion = input()\n",
    "            if cajero>=int(operacion):\n",
    "                cajero -= int(operacion)\n",
    "                print(\"Te quedan\", cajero, \"euros\")\n",
    "            else:\n",
    "                print(\"No tienes ese dinero, tienes:\", cajero,\"euros\" )\n",
    "\n",
    "        if tecla==\"i\":\n",
    "            print(\"¿Cuanto quieres ingresar?\")\n",
    "            operacion = input()\n",
    "            cajero += int(operacion)\n",
    "            print(\"Ahora tienes\", cajero, \"euros\")\n",
    "\n",
    "    if cajero > limite:\n",
    "        print(\"\\nCajero bloqueado, llame a un superior\\n\")\n",
    "        tecla = \"c\"\n",
    "\n",
    "    if tecla==\"c\":\n",
    "        print(\"Contraseña maestra para abrir el cajero: \")\n",
    "        if input()==contraseña:\n",
    "            cajero = 0\n",
    "            print(\"Se ha sacado el contenido del cajero\")\n",
    "        else:\n",
    "            print(\"Contraseña incorrecta, llamando a la poli\")\n",
    "    print(\"Chao.\")\n",
    "    \n",
    "\n"
   ]
  },
  {
   "cell_type": "markdown",
   "metadata": {},
   "source": [
    "8. Diseña el programa de un cajero automático que acepte ingresos hasta que acumule 1000 €, y en ese punto, cree una alerta para que se recolecte el efectivo y deje inoperativo el cajero hasta que se vacíe de efectivo para evitar robos.\n",
    "\n",
    "    * Integra la opción de poder entrar en modo master introduciendo una contraseña y retirar el efectivo del cajero.\n"
   ]
  },
  {
   "cell_type": "code",
   "execution_count": 3,
   "metadata": {},
   "outputs": [
    {
     "name": "stdout",
     "output_type": "stream",
     "text": [
      "¿Quieres sacar o ingresar? (s ó i), para abrir el cajero (c), finalizar(f)\n",
      "Chao.\n"
     ]
    }
   ],
   "source": [
    "cajero = 0.0\n",
    "limite = 1000.0\n",
    "contraseña = \"contraseña\"\n",
    "tecla = \"\"\n",
    "operacion = \"\"\n",
    "\n",
    "while tecla!=\"f\":\n",
    "    if cajero<limite:\n",
    "        print(\"¿Quieres sacar o ingresar? (s ó i), para abrir el cajero (c), finalizar(f)\")\n",
    "        tecla = input()\n",
    "        if tecla==\"s\":\n",
    "            print(\"¿Cuanto quieres sacar?\")\n",
    "            operacion = input()\n",
    "            if cajero>=int(operacion):\n",
    "                cajero -= int(operacion)\n",
    "                print(\"Te quedan\", cajero, \"euros\")\n",
    "            else:\n",
    "                print(\"No tienes ese dinero, tienes:\", cajero,\"euros\" )\n",
    "\n",
    "        if tecla==\"i\":\n",
    "            print(\"¿Cuanto quieres ingresar?\")\n",
    "            operacion = input()\n",
    "            cajero += int(operacion)\n",
    "            print(\"Ahora tienes\", cajero, \"euros\")\n",
    "\n",
    "    if cajero > limite:\n",
    "        print(\"\\nCajero bloqueado, llame a un superior\\n\")\n",
    "        tecla = \"c\"\n",
    "\n",
    "    if tecla==\"c\":\n",
    "        print(\"Contraseña maestra para abrir el cajero: \")\n",
    "        if input()==contraseña:\n",
    "            cajero = 0\n",
    "            print(\"Se ha sacado el contenido del cajero\")\n",
    "        else:\n",
    "            print(\"Contraseña incorrecta, llamando a la poli\")\n",
    "    print(\"Chao.\")\n",
    "    \n",
    "\n"
   ]
  },
  {
   "cell_type": "markdown",
   "metadata": {},
   "source": [
    "9. Dado un numero n, conviertelo en la representación binaria (sin utilizar ninguna función)."
   ]
  },
  {
   "cell_type": "code",
   "execution_count": 65,
   "metadata": {},
   "outputs": [
    {
     "name": "stdout",
     "output_type": "stream",
     "text": [
      "101\n"
     ]
    }
   ],
   "source": [
    "# 101\n",
    "# 1*2^2 + 0*2^1 + 1*2^0\n",
    "d = 5\n",
    "resul = 0\n",
    "i = 0\n",
    "while d/2 != 0:\n",
    "    resul += d%2 * 10**i\n",
    "    d //= 2\n",
    "    i += 1\n",
    "print(resul)"
   ]
  },
  {
   "cell_type": "markdown",
   "metadata": {},
   "source": [
    "10. Haz la secuencia de Kaprekar, dado un número de 4 cifras, haz los calculos hasta llegar el numero de Kaprekar (6174)."
   ]
  },
  {
   "cell_type": "code",
   "execution_count": 85,
   "metadata": {},
   "outputs": [
    {
     "data": {
      "text/plain": [
       "6174"
      ]
     },
     "execution_count": 85,
     "metadata": {},
     "output_type": "execute_result"
    }
   ],
   "source": [
    "n = 3817\n",
    "\n",
    "while n!=6174:\n",
    "    s = str(n)\n",
    "    descendente = []\n",
    "    ascendente = []\n",
    "    \n",
    "    for i in s:\n",
    "        descendente.append(i)\n",
    "        ascendente.append(i)\n",
    "    descendente.sort(reverse=True)\n",
    "    ascendente.sort()\n",
    "\n",
    "    n =  int(\"\".join(descendente)) - int(\"\".join(ascendente))\n",
    "\n",
    "n"
   ]
  },
  {
   "cell_type": "markdown",
   "metadata": {},
   "source": [
    "11. El polinomio de Taylor es el polinomio que mejor aproxima asintóticamente cualquier función alrededor de un punto concreto. Este desarrollo matemático permite aproximar cualquier función a partir de sus derivadas, siendo esto realmente útil para las funciones trigonométricas. Cuanto mayor es el orden del polinomio de Taylor (N), más precisa es la aproximación. Sea N un natural (integer) y sea R un número real (float). \n",
    "Calcula la aproximación de sin(R)con el polinomio de Taylor de orden N (N es el orden del polinomio):\n",
    "\n",
    "\n",
    "\t"
   ]
  },
  {
   "attachments": {
    "image.png": {
     "image/png": "[encoded data removed]"
    }
   },
   "cell_type": "markdown",
   "metadata": {},
   "source": [
    "![image.png](attachment:image.png)"
   ]
  },
  {
   "cell_type": "markdown",
   "metadata": {},
   "source": [
    "Para R = 2.3 y N = 5, el resultado es 0.80852858\n",
    "\tPara R = 2.3 y N = 7, el resultado es 0.74097252\n",
    "\tPara R = 2.3 y N = 9, el resultado es 0.74593601\n",
    "\tY el valor real de la función seno en el punto 2.3 es 0.7457052\n",
    "\tb. Para R = 2.3, busca que N permite obtener una precisión inferior a 10-6."
   ]
  },
  {
   "cell_type": "code",
   "execution_count": 112,
   "metadata": {},
   "outputs": [
    {
     "name": "stdout",
     "output_type": "stream",
     "text": [
      "1.0\n",
      "(0.5000000000000001+0.8660254037844386j)\n"
     ]
    },
    {
     "ename": "TypeError",
     "evalue": "int() argument must be a string, a bytes-like object or a real number, not 'complex'",
     "output_type": "error",
     "traceback": [
      "\u001b[1;31m---------------------------------------------------------------------------\u001b[0m",
      "\u001b[1;31mTypeError\u001b[0m                                 Traceback (most recent call last)",
      "Cell \u001b[1;32mIn[112], line 7\u001b[0m\n\u001b[0;32m      5\u001b[0m     x \u001b[38;5;241m=\u001b[39m ((\u001b[38;5;241m-\u001b[39m\u001b[38;5;241m1\u001b[39m)\u001b[38;5;241m*\u001b[39m\u001b[38;5;241m*\u001b[39mn)\u001b[38;5;241m*\u001b[39m\u001b[38;5;241m*\u001b[39m(\u001b[38;5;241m1\u001b[39m\u001b[38;5;241m/\u001b[39m(\u001b[38;5;241m2\u001b[39m\u001b[38;5;241m*\u001b[39mn\u001b[38;5;241m+\u001b[39m\u001b[38;5;241m1\u001b[39m))\n\u001b[0;32m      6\u001b[0m     \u001b[38;5;28mprint\u001b[39m(x)\n\u001b[1;32m----> 7\u001b[0m     x \u001b[38;5;241m=\u001b[39m \u001b[38;5;28mint\u001b[39m(x\u001b[38;5;241m*\u001b[39m\u001b[38;5;241m10\u001b[39m\u001b[38;5;241m*\u001b[39m\u001b[38;5;241m*\u001b[39m\u001b[38;5;241m6\u001b[39m)\n\u001b[0;32m      8\u001b[0m     n\u001b[38;5;241m+\u001b[39m\u001b[38;5;241m=\u001b[39m\u001b[38;5;241m1\u001b[39m\n\u001b[0;32m      9\u001b[0m \u001b[38;5;28mprint\u001b[39m(n)\n",
      "\u001b[1;31mTypeError\u001b[0m: int() argument must be a string, a bytes-like object or a real number, not 'complex'"
     ]
    }
   ],
   "source": [
    "r = 2.3\n",
    "n = 0\n",
    "x = 0.0\n",
    "while x != 745705:\n",
    "    x = ((-1)**n)**(1/(2*n+1))\n",
    "    print(x)\n",
    "    x = int(x*10**6)\n",
    "    n+=1\n",
    "print(n)"
   ]
  },
  {
   "cell_type": "code",
   "execution_count": 103,
   "metadata": {},
   "outputs": [
    {
     "ename": "TypeError",
     "evalue": "'float' object cannot be interpreted as an integer",
     "output_type": "error",
     "traceback": [
      "\u001b[1;31m---------------------------------------------------------------------------\u001b[0m",
      "\u001b[1;31mTypeError\u001b[0m                                 Traceback (most recent call last)",
      "Cell \u001b[1;32mIn[103], line 6\u001b[0m\n\u001b[0;32m      4\u001b[0m dividendo \u001b[38;5;241m=\u001b[39m (\u001b[38;5;241m-\u001b[39m\u001b[38;5;241m1\u001b[39m)\u001b[38;5;241m*\u001b[39m\u001b[38;5;241m*\u001b[39m(x) \u001b[38;5;241m*\u001b[39m x\u001b[38;5;241m*\u001b[39m\u001b[38;5;241m*\u001b[39m(\u001b[38;5;241m2\u001b[39m\u001b[38;5;241m*\u001b[39mx \u001b[38;5;241m+\u001b[39m \u001b[38;5;241m1\u001b[39m)\n\u001b[0;32m      5\u001b[0m divisor \u001b[38;5;241m=\u001b[39m \u001b[38;5;241m1\u001b[39m\n\u001b[1;32m----> 6\u001b[0m \u001b[38;5;28;01mfor\u001b[39;00m i \u001b[38;5;129;01min\u001b[39;00m \u001b[38;5;28mrange\u001b[39m(\u001b[38;5;241m2\u001b[39m\u001b[38;5;241m*\u001b[39mx \u001b[38;5;241m+\u001b[39m \u001b[38;5;241m1\u001b[39m):\n\u001b[0;32m      7\u001b[0m     divisor \u001b[38;5;241m*\u001b[39m\u001b[38;5;241m=\u001b[39m i\u001b[38;5;241m+\u001b[39m\u001b[38;5;241m1\u001b[39m\n\u001b[0;32m      8\u001b[0m resultado \u001b[38;5;241m=\u001b[39m dividendo\u001b[38;5;241m/\u001b[39mdivisor\n",
      "\u001b[1;31mTypeError\u001b[0m: 'float' object cannot be interpreted as an integer"
     ]
    }
   ],
   "source": [
    "r = 2.3\n",
    "n = 0\n",
    "x = 0\n",
    "while x != 0.745705:\n",
    "    \n",
    "    dividendo = (-1)**(n) * x**(2*n + 1)\n",
    "\n",
    "    divisor = 1\n",
    "    for i in range(2*n + 1):\n",
    "        divisor *= i+1\n",
    "    x = dividendo/divisor\n",
    "    n += 1\n",
    "print(x)\n"
   ]
  }
 ],
 "metadata": {
  "kernelspec": {
   "display_name": "Python 3 (ipykernel)",
   "language": "python",
   "name": "python3"
  },
  "language_info": {
   "codemirror_mode": {
    "name": "ipython",
    "version": 3
   },
   "file_extension": ".py",
   "mimetype": "text/x-python",
   "name": "python",
   "nbconvert_exporter": "python",
   "pygments_lexer": "ipython3",
   "version": "3.11.7"
  }
 },
 "nbformat": 4,
 "nbformat_minor": 4
}
