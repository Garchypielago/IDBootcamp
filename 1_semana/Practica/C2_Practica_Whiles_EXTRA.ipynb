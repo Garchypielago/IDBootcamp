{
 "cells": [
  {
   "cell_type": "markdown",
   "id": "c1ed09c7",
   "metadata": {},
   "source": [
    "1. Escriba un programa que solicite una contraseña (el texto de la contraseña no es importante) y la vuelva a solicitar hasta que las dos contraseñas coincidan."
   ]
  },
  {
   "cell_type": "code",
   "execution_count": 2,
   "id": "e01c9bce",
   "metadata": {},
   "outputs": [
    {
     "name": "stdout",
     "output_type": "stream",
     "text": [
      "Contraseñas no coinciden\n",
      "Contraseñas no coinciden\n",
      "Contraseñas no coinciden\n",
      "Contraseñas no coinciden\n",
      "Contraseñas no coinciden\n",
      "Accediste\n"
     ]
    }
   ],
   "source": [
    "contra1 = input(\"Contraseña 1\")\n",
    "contra2 = input(\"Contraseña 2\")\n",
    "while contra1 != contra2:\n",
    "    print(\"Contraseñas no coinciden\")\n",
    "    contra2 = input(\"Contraseña 2\")\n",
    "print(\"Accediste\")\n"
   ]
  },
  {
   "cell_type": "markdown",
   "id": "2b123371",
   "metadata": {},
   "source": [
    "2. Escribir el sumatorio de los números que se quiera hasta ingresar -1. El usuario debe introducir los numeros utilizando el input()."
   ]
  },
  {
   "cell_type": "code",
   "execution_count": 4,
   "id": "b6c9e1ea",
   "metadata": {},
   "outputs": [
    {
     "name": "stdout",
     "output_type": "stream",
     "text": [
      "3\n"
     ]
    }
   ],
   "source": [
    "suma = 0\n",
    "n=0\n",
    "while n!=-1:\n",
    "    n = int(input(\"Escribe un numero\"))\n",
    "    suma +=n\n",
    "print(suma)"
   ]
  },
  {
   "cell_type": "markdown",
   "id": "680cd233",
   "metadata": {},
   "source": [
    "3. Escribir un programa que pida al usuario un número entero y muestre por pantalla un triángulo rectángulo como el de más abajo, de altura el número introducido.\n"
   ]
  },
  {
   "cell_type": "code",
   "execution_count": 7,
   "id": "b3c2a36d",
   "metadata": {},
   "outputs": [
    {
     "name": "stdout",
     "output_type": "stream",
     "text": [
      "*\n",
      "**\n",
      "***\n",
      "****\n",
      "*****\n"
     ]
    }
   ],
   "source": [
    "# para n = 5\n",
    "# *\n",
    "# **\n",
    "# ***\n",
    "# ****\n",
    "# *****\n",
    "n = int(input())\n",
    "for i in range(n):\n",
    "    print(\"*\"*(i+1))\n"
   ]
  },
  {
   "cell_type": "markdown",
   "id": "52379e41",
   "metadata": {},
   "source": [
    "4. Escribir un programa que pida al usuario un número entero y muestre por pantalla un triángulo rectángulo como el de más abajo, de altura el número introducido."
   ]
  },
  {
   "cell_type": "code",
   "execution_count": 18,
   "id": "b5cdbb8f",
   "metadata": {},
   "outputs": [
    {
     "name": "stdout",
     "output_type": "stream",
     "text": [
      "[1]\n",
      "[3, 1]\n",
      "[5, 3, 1]\n",
      "[7, 5, 3, 1]\n",
      "[9, 7, 5, 3, 1]\n"
     ]
    }
   ],
   "source": [
    "#  para n = 9\n",
    "# 1\n",
    "# 3 1\n",
    "# 5 3 1\n",
    "# 7 5 3 1\n",
    "# 9 7 5 3 1\n",
    "n = int(input())\n",
    "L=[]\n",
    "i=1\n",
    "while i <= n:\n",
    "    L.insert(0,i)\n",
    "    print(L)\n",
    "    i+=2"
   ]
  },
  {
   "cell_type": "markdown",
   "id": "ea3557b4",
   "metadata": {},
   "source": [
    "5. Escribir un programa en el que se pregunte al usuario por una frase y una letra, y muestre por pantalla el número de veces que aparece la letra en la frase"
   ]
  },
  {
   "cell_type": "code",
   "execution_count": 20,
   "id": "d58d28ad",
   "metadata": {},
   "outputs": [
    {
     "name": "stdout",
     "output_type": "stream",
     "text": [
      "2\n"
     ]
    }
   ],
   "source": [
    "frase = input(\"frase\")\n",
    "letra = input(\"letra\")\n",
    "contador = 0\n",
    "\n",
    "for i in frase:\n",
    "    if i==letra:\n",
    "        contador+=1\n",
    "print(contador)"
   ]
  },
  {
   "cell_type": "markdown",
   "id": "d0264261",
   "metadata": {},
   "source": [
    "6. Escriba un algoritmo que sume los números ingresados por el usuario y cuando la suma sea superior a 100 deje de pedir números y muestre el total."
   ]
  },
  {
   "cell_type": "code",
   "execution_count": 21,
   "id": "8de1bf1b",
   "metadata": {},
   "outputs": [
    {
     "name": "stdout",
     "output_type": "stream",
     "text": [
      "146\n"
     ]
    }
   ],
   "source": [
    "suma = 0\n",
    "while suma<100:\n",
    "    suma +=int(input(\"Escribe un numero\"))\n",
    "print(suma)"
   ]
  },
  {
   "cell_type": "markdown",
   "id": "300c2535",
   "metadata": {},
   "source": [
    "7. Escribe un programa que encuentre el mínimo de una lista numerica"
   ]
  },
  {
   "cell_type": "code",
   "execution_count": 22,
   "id": "5a27c303",
   "metadata": {},
   "outputs": [
    {
     "name": "stdout",
     "output_type": "stream",
     "text": [
      "2\n"
     ]
    }
   ],
   "source": [
    "lista = [4,8,3,7,2,90]\n",
    "min = lista[0]\n",
    "for i in range(len(lista)):\n",
    "    if lista[i]<min:\n",
    "        min = lista[i]\n",
    "print(min)"
   ]
  },
  {
   "cell_type": "markdown",
   "id": "3c700a24",
   "metadata": {},
   "source": [
    "8. Escribe un programa que ordene una lista numerica. Nota: Necesitaras 2 bucles"
   ]
  },
  {
   "cell_type": "code",
   "execution_count": 25,
   "id": "ab53f578",
   "metadata": {},
   "outputs": [
    {
     "name": "stdout",
     "output_type": "stream",
     "text": [
      "[2, 3, 4, 7, 8, 90]\n"
     ]
    }
   ],
   "source": [
    "lista = [4,8,3,7,2,90]\n",
    "min = lista[0]\n",
    "for i in range(len(lista)):\n",
    "    for j in range(0, len(lista)-i-1):\n",
    "            if lista[j] > lista[j+1]:\n",
    "                lista[j], lista[j+1] = lista[j+1], lista[j]\n",
    "print(lista)"
   ]
  }
 ],
 "metadata": {
  "kernelspec": {
   "display_name": "Python 3 (ipykernel)",
   "language": "python",
   "name": "python3"
  },
  "language_info": {
   "codemirror_mode": {
    "name": "ipython",
    "version": 3
   },
   "file_extension": ".py",
   "mimetype": "text/x-python",
   "name": "python",
   "nbconvert_exporter": "python",
   "pygments_lexer": "ipython3",
   "version": "3.11.7"
  }
 },
 "nbformat": 4,
 "nbformat_minor": 5
}
