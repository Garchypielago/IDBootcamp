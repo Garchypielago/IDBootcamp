{
  "cells": [
    {
      "cell_type": "markdown",
      "metadata": {
        "id": "aAqB5uYVv27f"
      },
      "source": [
        "# Lista ejercicios bucles For"
      ]
    },
    {
      "cell_type": "markdown",
      "metadata": {
        "id": "BRC2TBSav27j"
      },
      "source": [
        "1. Haz un programa que imprima por pantalla todos los elementos de una lista dada."
      ]
    },
    {
      "cell_type": "code",
      "execution_count": 1,
      "metadata": {
        "id": "w5DRUP3Qv27j"
      },
      "outputs": [
        {
          "name": "stdout",
          "output_type": "stream",
          "text": [
            "1\n",
            "2\n",
            "3\n",
            "4\n",
            "5\n",
            "6\n",
            "7\n"
          ]
        }
      ],
      "source": [
        "L=[1,2,3,4,5,6,7]\n",
        "for i in L:\n",
        "    print(i)"
      ]
    },
    {
      "cell_type": "markdown",
      "metadata": {
        "id": "U1NgDEv2v27k"
      },
      "source": [
        "2. Haz un programa que dada una lista numérica devuelva cuantos pares de números consecutivos son crecientes.\n"
      ]
    },
    {
      "cell_type": "code",
      "execution_count": 17,
      "metadata": {
        "id": "-_ZYlAZ-v27k"
      },
      "outputs": [
        {
          "name": "stdout",
          "output_type": "stream",
          "text": [
            "5\n"
          ]
        }
      ],
      "source": [
        "# cogienod todos\n",
        "L=[1,2,2,4,3,4,7,9,8]\n",
        "conteo=0\n",
        "for i in range(len(L)):\n",
        "    if i<len(L)-1 and L[i]<L[i+1]: #el orden de las clausulas importan, hace una y si es flase no continua\n",
        "        conteo+=1\n",
        "print(conteo)"
      ]
    },
    {
      "cell_type": "code",
      "execution_count": 18,
      "metadata": {},
      "outputs": [
        {
          "name": "stdout",
          "output_type": "stream",
          "text": [
            "4\n"
          ]
        }
      ],
      "source": [
        "# cogiendo de a dso\n",
        "L=[1,2,2,4,3,4,7,9,8]\n",
        "conteo=0\n",
        "for i in range(0,len(L),2):\n",
        "    if i<len(L)-1 and L[i]<L[i+1]: #el orden de las clausulas importan, hace una y si es flase no continua\n",
        "        conteo+=1\n",
        "print(conteo)"
      ]
    },
    {
      "cell_type": "markdown",
      "metadata": {
        "id": "wILtOTYav27k"
      },
      "source": [
        "3. Haz un programa que dadas dos listas de la misma longitud devuelva el número de elementos que son iguales a cada posición.\n"
      ]
    },
    {
      "cell_type": "code",
      "execution_count": 4,
      "metadata": {
        "id": "Sp22QhZLv27l"
      },
      "outputs": [
        {
          "name": "stdout",
          "output_type": "stream",
          "text": [
            "3\n"
          ]
        }
      ],
      "source": [
        "L1=[1,2,3,4,5,6,7]\n",
        "L2=[5,2,4,4,7,6,9]\n",
        "conteo=0\n",
        "for i in range(len(L1)):\n",
        "    if (L1[i]==L2[i]):\n",
        "        conteo+=1\n",
        "print(conteo)"
      ]
    },
    {
      "cell_type": "markdown",
      "metadata": {
        "id": "567EQYCnv27l"
      },
      "source": [
        "4. Haz un programa que pregunte dos números enteros N1 y N2 y que calcule N1/1, N1/2, …, N1/N2.\n"
      ]
    },
    {
      "cell_type": "code",
      "execution_count": 10,
      "metadata": {
        "id": "UzQhaJQtv27m"
      },
      "outputs": [
        {
          "name": "stdout",
          "output_type": "stream",
          "text": [
            "10 entre 1 = 10.0\n",
            "10 entre 2 = 5.0\n",
            "10 entre 3 = 3.3333333333333335\n",
            "10 entre 4 = 2.5\n",
            "10 entre 5 = 2.0\n"
          ]
        }
      ],
      "source": [
        "N1 = 10 #input()\n",
        "N2 = 5 #input()\n",
        "for i in range(1,N2+1):\n",
        "    print(N1 ,\"entre\",i,\"=\",N1/i)"
      ]
    },
    {
      "cell_type": "markdown",
      "metadata": {
        "id": "T-M78tR4v27m"
      },
      "source": [
        "5. Haz un programa que reciba como input lista de N números enteros. Crea una matriz donde el elemento ij sea la multiplicación de los elementos i-ésimo y j-ésimo de la lista de enteros.  Nota: necesitarás 2 fors.\n"
      ]
    },
    {
      "cell_type": "code",
      "execution_count": 128,
      "metadata": {
        "id": "Blsp10XZv27m"
      },
      "outputs": [
        {
          "name": "stdout",
          "output_type": "stream",
          "text": [
            "[[1, 2, 3], [2, 4, 6], [3, 6, 9]]\n"
          ]
        }
      ],
      "source": [
        "L=[]\n",
        "rango = int(input(\"Numero de elementos que quieres en la lista:\"))\n",
        "for i in range(rango):\n",
        "    L.append(int(input(\"numero:\")))\n",
        "M = []\n",
        "for i in L:\n",
        "    Laux = []\n",
        "    for j in range(len(L)):\n",
        "        Laux.append(i*L[j])\n",
        "    M.append(Laux)\n",
        "print(M)\n"
      ]
    },
    {
      "cell_type": "markdown",
      "metadata": {
        "id": "-tkLMNYXv27m"
      },
      "source": [
        "6. Crear un programa que transponga una matriz (una matriz es una lista de listas) y la imprima por pantalla.\n",
        "\n"
      ]
    },
    {
      "cell_type": "code",
      "execution_count": 36,
      "metadata": {
        "id": "P0HjNN09v27m"
      },
      "outputs": [
        {
          "name": "stdout",
          "output_type": "stream",
          "text": [
            "[[1, 1, 1], [2, 2, 2], [3, 3, 3]]\n"
          ]
        }
      ],
      "source": [
        "M = [[1,2,3],[1,2,3],[1,2,3]]\n",
        "Mtrans = []\n",
        "for i in range(len(M)):\n",
        "    Laux = []\n",
        "    for j in range(len(M)):\n",
        "        Laux.append(M[j][i])\n",
        "    Mtrans.append(Laux)\n",
        "print(Mtrans)"
      ]
    },
    {
      "cell_type": "markdown",
      "metadata": {
        "id": "Mjqyync5v27m"
      },
      "source": [
        "7. Haz un programa que pregunte por un entero N y que imprima por pantalla todos los números primos hasta N. Para saber si un número es primo o no es primo implementa la criba de Eratóstenes.\n"
      ]
    },
    {
      "cell_type": "code",
      "execution_count": 39,
      "metadata": {
        "id": "5iPIinv0v27n"
      },
      "outputs": [
        {
          "name": "stdout",
          "output_type": "stream",
          "text": [
            "2\n",
            "3\n",
            "5\n",
            "7\n",
            "11\n",
            "13\n",
            "17\n",
            "19\n",
            "23\n",
            "29\n",
            "31\n",
            "37\n",
            "41\n",
            "43\n",
            "47\n",
            "53\n",
            "59\n",
            "61\n",
            "18\n"
          ]
        }
      ],
      "source": [
        "N = 62\n",
        "conteo=0\n",
        "for i in range(2,62):\n",
        "    primo = True\n",
        "    for j in range(2,i):\n",
        "        if i%j==0:\n",
        "            primo=False\n",
        "    if primo:\n",
        "        conteo+=1\n",
        "        print(i)\n",
        "print(conteo)\n"
      ]
    },
    {
      "cell_type": "code",
      "execution_count": null,
      "metadata": {},
      "outputs": [],
      "source": [
        "N = 62\n",
        "for i in range(2,62):\n",
        "    primo = True\n",
        "    for j in range(2,i):\n",
        "        if i%j==0:\n",
        "            primo=False\n",
        "    if primo:\n",
        "        conteo+=1\n",
        "        print(i)\n"
      ]
    },
    {
      "cell_type": "code",
      "execution_count": 5,
      "metadata": {},
      "outputs": [
        {
          "ename": "IndexError",
          "evalue": "list assignment index out of range",
          "output_type": "error",
          "traceback": [
            "\u001b[1;31m---------------------------------------------------------------------------\u001b[0m",
            "\u001b[1;31mIndexError\u001b[0m                                Traceback (most recent call last)",
            "Cell \u001b[1;32mIn[5], line 6\u001b[0m\n\u001b[0;32m      4\u001b[0m \u001b[38;5;28;01mif\u001b[39;00m L[n] \u001b[38;5;241m==\u001b[39m \u001b[38;5;28;01mTrue\u001b[39;00m:\n\u001b[0;32m      5\u001b[0m     \u001b[38;5;28;01mfor\u001b[39;00m i \u001b[38;5;129;01min\u001b[39;00m \u001b[38;5;28mrange\u001b[39m(\u001b[38;5;241m2\u001b[39m\u001b[38;5;241m*\u001b[39mn,\u001b[38;5;241m100\u001b[39m,\u001b[38;5;241m2\u001b[39m):\n\u001b[1;32m----> 6\u001b[0m         L[i]\u001b[38;5;241m=\u001b[39m\u001b[38;5;28;01mFalse\u001b[39;00m\n\u001b[0;32m      8\u001b[0m \u001b[38;5;28mprint\u001b[39m(L)\n",
            "\u001b[1;31mIndexError\u001b[0m: list assignment index out of range"
          ]
        }
      ],
      "source": [
        "N = 62\n",
        "L=[True]*N\n",
        "n = 2\n",
        "\n",
        "if L[n] == True:\n",
        "    for i in range(2*n,100,2):\n",
        "        L[i]=False\n",
        "\n",
        "print(L)"
      ]
    },
    {
      "cell_type": "markdown",
      "metadata": {
        "id": "Ez1TpOwjv27n"
      },
      "source": [
        "8. Haz un programa que pregunte por un entero N y que imprima por pantalla el triángulo de Tartaglia hasta la fila N. Por ejemplo, para N = 6 el output debe ser:\n",
        "\n",
        " 1\n",
        "\n",
        " 1 1\n",
        "\n",
        " 1 2 1\n",
        "\n",
        " 1 3 3 1\n",
        "\n",
        " 1 4 6 4 1\n",
        "\n",
        " 1 5 10 10 5 1\n",
        "\n"
      ]
    },
    {
      "cell_type": "code",
      "execution_count": 137,
      "metadata": {
        "id": "CVAHkwSmv27n"
      },
      "outputs": [
        {
          "name": "stdout",
          "output_type": "stream",
          "text": [
            "[1]\n",
            "[1, 1]\n",
            "[1, 2, 1]\n",
            "[1, 3, 3, 1]\n",
            "[1, 4, 6, 4, 1]\n",
            "[1, 5, 10, 10, 5, 1]\n",
            "[1, 6, 15, 20, 15, 6, 1]\n",
            "[1, 7, 21, 35, 35, 21, 7, 1]\n"
          ]
        }
      ],
      "source": [
        "N = 8\n",
        "T = [1]\n",
        "print(T)\n",
        "for i in range(1, N):\n",
        "    nueva_fila = [1]  # Iniciar cada fila con un 1\n",
        "    for j in range(1, i):  # Calcular valores internos de la fila\n",
        "        nueva_fila.append(T[j] + T[j - 1])\n",
        "    nueva_fila.append(1)  # Agregar el último 1 de cada fila\n",
        "    T = nueva_fila  # Actualizar T con la nueva fila\n",
        "    print(T)"
      ]
    },
    {
      "cell_type": "markdown",
      "metadata": {
        "id": "jlv79CA5v27n"
      },
      "source": [
        "9. La conjetura de Goldbach es uno de los problemas sin resolver más antiguos de las matemáticas y dice que “Cualquier número par mayor que 2 puede escribirse como la suma de dos números primos”.\n",
        "Crea un script que, dado un entero N, para cada número par hasta N, encuentre dos primeros p y q que lo sumen. Por ejemplo, si N = 12:\n",
        "\n",
        "4 = 2 + 2\n",
        "\n",
        "6 = 3 + 3\n",
        "\n",
        "8 = 3 + 5\n",
        "\n",
        "10 = 3 + 7 o 5 + 5\n",
        "\n",
        "12 = 5 + 7\n"
      ]
    },
    {
      "cell_type": "code",
      "execution_count": 134,
      "metadata": {},
      "outputs": [
        {
          "name": "stdout",
          "output_type": "stream",
          "text": [
            "4 = 2 + 2\n",
            "6 = 3 + 3\n",
            "8 = 5 + 3\n",
            "10 = 5 + 5\n",
            "10 = 7 + 3\n",
            "12 = 7 + 5\n",
            "14 = 7 + 7\n",
            "14 = 11 + 3\n"
          ]
        }
      ],
      "source": [
        "n = 15\n",
        "\n",
        "for i in range(4,n+1,2):\n",
        "    for j in range(2, i+1):\n",
        "\n",
        "        primo = True\n",
        "\n",
        "        for k in range(2,j-1):\n",
        "            if j%k==0:\n",
        "                primo=False\n",
        "                break\n",
        "\n",
        "        if primo:\n",
        "            for t in range(2, j+1):\n",
        "                    \n",
        "                    primo2 = True\n",
        "                    \n",
        "                    for z in range(2,t-1):\n",
        "                        if t%z==0:\n",
        "                            primo2 = False\n",
        "                            break\n",
        "                        \n",
        "                    if primo2 and j +t == i:\n",
        "                        print(i, \"=\", j, \"+\", t)\n",
        "\n"
      ]
    },
    {
      "cell_type": "markdown",
      "metadata": {
        "id": "d-Krmks9v27o"
      },
      "source": [
        "RETO: Haz un programa que dadas dos matrices, haga la multiplicación de las dos matrices."
      ]
    },
    {
      "cell_type": "code",
      "execution_count": 69,
      "metadata": {
        "id": "pKB_VxbPv27o"
      },
      "outputs": [
        {
          "name": "stdout",
          "output_type": "stream",
          "text": [
            "[[3, 1, 2], [7, 4, 3], [7, 5, 6]]\n"
          ]
        }
      ],
      "source": [
        "M1 = [[2,0,1],[3,0,4],[5,1,1]]\n",
        "M2 = [[1,0,1],[1,4,1],[1,1,0]]\n",
        "Mtotal=[]\n",
        "\n",
        "for i in range(len(M1)):\n",
        "    Laux = []\n",
        "    for j in range(len(M1[i])):\n",
        "        suma = 0\n",
        "        for k in range(len(M2)):\n",
        "            suma += M1[i][k]*M2[k][j]\n",
        "        Laux.append(suma)\n",
        "    Mtotal.append(Laux)\n",
        "print(Mtotal)"
      ]
    },
    {
      "cell_type": "code",
      "execution_count": 161,
      "metadata": {},
      "outputs": [
        {
          "name": "stdout",
          "output_type": "stream",
          "text": [
            "[2, 4, 2, 5, 6, 2, 5, 7, 7]\n",
            "[2, 2, 4, 5, 2, 5, 6, 7, 7]\n",
            "[2, 2, 4, 2, 5, 5, 6, 7, 7]\n",
            "[2, 2, 2, 4, 5, 5, 6, 7, 7]\n",
            "[2, 2, 2, 4, 5, 5, 6, 7, 7]\n",
            "[2, 2, 2, 4, 5, 5, 6, 7, 7]\n",
            "[2, 2, 2, 4, 5, 5, 6, 7, 7]\n",
            "[2, 2, 2, 4, 5, 5, 6, 7, 7]\n",
            "[2, 2, 2, 4, 5, 5, 6, 7, 7]\n",
            "[2, 2, 2, 4, 5, 5, 6, 7, 7]\n"
          ]
        }
      ],
      "source": [
        "# metodo de inserccion\n",
        "lista = [2,4,7,2,5,6,2,5,7]\n",
        "for i in range(len(lista)):\n",
        "    for j in range( len(lista)-i-1):\n",
        "        if lista[j] > lista[j+1]:\n",
        "                lista[j], lista[j+1] = lista[j+1], lista[j]\n",
        "    print(lista)\n",
        "print(lista)"
      ]
    },
    {
      "cell_type": "code",
      "execution_count": 157,
      "metadata": {},
      "outputs": [
        {
          "name": "stdout",
          "output_type": "stream",
          "text": [
            "[2, 2, 2, 4, 5, 5, 6, 7, 7]\n"
          ]
        }
      ],
      "source": [
        "# metodo de buruja\n",
        "lista = [2,4,7,2,5,6,2,5,7]\n",
        "count=1\n",
        "while count!=0:\n",
        "    count=0\n",
        "    for i in range(len(lista)-1,0,-1):\n",
        "        if lista[i] < lista[i-1]:\n",
        "            lista[i], lista[i-1] = lista[i-1], lista[i]\n",
        "            count += 1\n",
        "    for j in range(len(lista)-1):\n",
        "        if lista[j] > lista[j+1]:\n",
        "            lista[j], lista[j+1] = lista[j+1], lista[j]\n",
        "            count += 1\n",
        "print(lista)"
      ]
    },
    {
      "cell_type": "code",
      "execution_count": 159,
      "metadata": {},
      "outputs": [
        {
          "name": "stdout",
          "output_type": "stream",
          "text": [
            "[2, 2, 2, 4, 5, 5, 6, 7, 7]\n"
          ]
        }
      ],
      "source": [
        "# metodo de selccion\n",
        "lista = [2,4,7,2,5,6,2,5,7]\n",
        "for i in range(len(lista)-1):\n",
        "    for j in range(i,len(lista)-1):\n",
        "        if lista[i] > lista[j]:\n",
        "                lista[i], lista[j] = lista[j], lista[i]\n",
        "print(lista)"
      ]
    },
    {
      "cell_type": "code",
      "execution_count": null,
      "metadata": {},
      "outputs": [],
      "source": []
    }
  ],
  "metadata": {
    "colab": {
      "provenance": []
    },
    "kernelspec": {
      "display_name": "Python 3",
      "language": "python",
      "name": "python3"
    },
    "language_info": {
      "codemirror_mode": {
        "name": "ipython",
        "version": 3
      },
      "file_extension": ".py",
      "mimetype": "text/x-python",
      "name": "python",
      "nbconvert_exporter": "python",
      "pygments_lexer": "ipython3",
      "version": "3.11.7"
    }
  },
  "nbformat": 4,
  "nbformat_minor": 0
}
