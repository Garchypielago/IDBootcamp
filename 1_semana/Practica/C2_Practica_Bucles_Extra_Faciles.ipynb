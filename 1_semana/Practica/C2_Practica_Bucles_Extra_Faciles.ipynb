{
 "cells": [
  {
   "cell_type": "markdown",
   "metadata": {},
   "source": [
    "### Practica Bucles"
   ]
  },
  {
   "cell_type": "markdown",
   "metadata": {},
   "source": [
    "#### Ejercicio 1"
   ]
  },
  {
   "cell_type": "markdown",
   "metadata": {},
   "source": [
    "- Dada la siguiente lista = [1,2,3,4,5,6,7,8,9,10], imprimir cada número sumandole 10 unidades utilizando un bucle **for**"
   ]
  },
  {
   "cell_type": "code",
   "execution_count": 4,
   "metadata": {},
   "outputs": [
    {
     "name": "stdout",
     "output_type": "stream",
     "text": [
      "11\n",
      "12\n",
      "13\n",
      "14\n",
      "15\n",
      "16\n",
      "17\n",
      "18\n",
      "19\n",
      "20\n"
     ]
    }
   ],
   "source": [
    "lista = [1,2,3,4,5,6,7,8,9,10]\n",
    "\n",
    "for i in range(len(lista)):\n",
    "    print(lista[i]+10)"
   ]
  },
  {
   "cell_type": "markdown",
   "metadata": {},
   "source": [
    "#### Ejercicio 2"
   ]
  },
  {
   "cell_type": "markdown",
   "metadata": {},
   "source": [
    "- Crea un bucle **for** que muestre la tabla de multiplicar del 1 al 10 de un número dado por el usuario"
   ]
  },
  {
   "cell_type": "code",
   "execution_count": 8,
   "metadata": {},
   "outputs": [
    {
     "ename": "TypeError",
     "evalue": "'int' object is not iterable",
     "output_type": "error",
     "traceback": [
      "\u001b[1;31m---------------------------------------------------------------------------\u001b[0m",
      "\u001b[1;31mTypeError\u001b[0m                                 Traceback (most recent call last)",
      "Cell \u001b[1;32mIn[8], line 2\u001b[0m\n\u001b[0;32m      1\u001b[0m n \u001b[38;5;241m=\u001b[39m \u001b[38;5;28mint\u001b[39m(\u001b[38;5;28minput\u001b[39m())\n\u001b[1;32m----> 2\u001b[0m \u001b[38;5;28;01mfor\u001b[39;00m i \u001b[38;5;129;01min\u001b[39;00m \u001b[38;5;241m11\u001b[39m:\n\u001b[0;32m      3\u001b[0m     \u001b[38;5;28mprint\u001b[39m(n, \u001b[38;5;124m\"\u001b[39m\u001b[38;5;124mx\u001b[39m\u001b[38;5;124m\"\u001b[39m, i, \u001b[38;5;124m\"\u001b[39m\u001b[38;5;124m=\u001b[39m\u001b[38;5;124m\"\u001b[39m, i\u001b[38;5;241m*\u001b[39mn)\n",
      "\u001b[1;31mTypeError\u001b[0m: 'int' object is not iterable"
     ]
    }
   ],
   "source": [
    "n = int(input())\n",
    "for i in range(11):\n",
    "    print(n, \"x\", i, \"=\", i*n)"
   ]
  },
  {
   "cell_type": "markdown",
   "metadata": {},
   "source": [
    "#### Ejercicio 3"
   ]
  },
  {
   "attachments": {
    "image.png": {
     "image/png": "[encoded data removed]"
    }
   },
   "cell_type": "markdown",
   "metadata": {},
   "source": [
    "- Crea un bucle **for** que recorra la siguiente lista = [\"a\",\"b\",\"c\",\"d\",\"e\"] e imprima el valor correspondiente en codigo ascii.\n",
    "\n",
    "![image.png](attachment:image.png)\n",
    "\n",
    "- Nota: Se utiliza condicionales"
   ]
  },
  {
   "cell_type": "code",
   "execution_count": 12,
   "metadata": {},
   "outputs": [
    {
     "name": "stdout",
     "output_type": "stream",
     "text": [
      "97\n",
      "98\n",
      "99\n",
      "100\n",
      "101\n"
     ]
    }
   ],
   "source": [
    "lista = [\"a\",\"b\",\"c\",\"d\",\"e\"]\n",
    "\n",
    "for i in range(len(lista)):\n",
    "    print(ord(lista[i]))\n",
    "    # mirado en internet el metodo ord()"
   ]
  },
  {
   "cell_type": "markdown",
   "metadata": {},
   "source": [
    "#### Ejercicio 4"
   ]
  },
  {
   "cell_type": "markdown",
   "metadata": {},
   "source": [
    "- Crea una lista con los números del 201 al 207 utilizando un bucle **for**"
   ]
  },
  {
   "cell_type": "code",
   "execution_count": 22,
   "metadata": {},
   "outputs": [
    {
     "name": "stdout",
     "output_type": "stream",
     "text": [
      "[201, 202, 203, 204, 205, 206, 207]\n"
     ]
    }
   ],
   "source": [
    "lista = []\n",
    "for i in range(207-201+1):\n",
    "    lista.append(201+i)\n",
    "print(lista)"
   ]
  },
  {
   "cell_type": "markdown",
   "metadata": {},
   "source": [
    "#### Ejercicio 5"
   ]
  },
  {
   "cell_type": "markdown",
   "metadata": {},
   "source": [
    "- Crea una lista de números pares entre el 555 y el 599 utilizando bucle **for**"
   ]
  },
  {
   "cell_type": "code",
   "execution_count": 23,
   "metadata": {},
   "outputs": [
    {
     "name": "stdout",
     "output_type": "stream",
     "text": [
      "[556, 558, 560, 562, 564, 566, 568, 570, 572, 574, 576, 578, 580, 582, 584, 586, 588, 590, 592, 594, 596, 598]\n"
     ]
    }
   ],
   "source": [
    "lista = []\n",
    "for i in range(599-555+1):\n",
    "    if (i+555)%2==0:\n",
    "        lista.append(555+i)\n",
    "print(lista)"
   ]
  },
  {
   "cell_type": "markdown",
   "metadata": {},
   "source": [
    "#### Ejercicio 6"
   ]
  },
  {
   "cell_type": "markdown",
   "metadata": {},
   "source": [
    "- Crea una lista con 5 elementos y cada elemento de esa lista, va a ser una lista con los siguientes datos: [1,2,3], utilizando 2 **for** anidados"
   ]
  },
  {
   "cell_type": "code",
   "execution_count": 26,
   "metadata": {},
   "outputs": [
    {
     "name": "stdout",
     "output_type": "stream",
     "text": [
      "[[1, 2, 3], [1, 2, 3], [1, 2, 3], [1, 2, 3], [1, 2, 3]]\n"
     ]
    }
   ],
   "source": [
    "lista = []\n",
    "for i in range(5):\n",
    "    nums = []\n",
    "    for j in range(3):\n",
    "        nums.append(j+1)\n",
    "    lista.append(nums)\n",
    "print(lista)"
   ]
  },
  {
   "cell_type": "markdown",
   "metadata": {},
   "source": [
    "#### Ejercicio 7"
   ]
  },
  {
   "cell_type": "markdown",
   "metadata": {},
   "source": [
    "- Crea un bucle **for** que sume los valores de la siguiente lista: [51, 52, 53, 54, 55]"
   ]
  },
  {
   "cell_type": "code",
   "execution_count": 30,
   "metadata": {},
   "outputs": [
    {
     "name": "stdout",
     "output_type": "stream",
     "text": [
      "265\n"
     ]
    }
   ],
   "source": [
    "lista = [51,52,53,54,55]\n",
    "suma = 0\n",
    "for i in range(len(lista)):\n",
    "    suma += lista[i]\n",
    "print(suma)\n"
   ]
  },
  {
   "cell_type": "markdown",
   "metadata": {},
   "source": [
    "#### Ejercicio 8\n"
   ]
  },
  {
   "cell_type": "markdown",
   "metadata": {},
   "source": [
    "- Crea un bucle que cuente del 10 al 1"
   ]
  },
  {
   "cell_type": "code",
   "execution_count": 31,
   "metadata": {},
   "outputs": [
    {
     "name": "stdout",
     "output_type": "stream",
     "text": [
      "1\n",
      "2\n",
      "3\n",
      "4\n",
      "5\n",
      "6\n",
      "7\n",
      "8\n",
      "9\n",
      "10\n"
     ]
    }
   ],
   "source": [
    "for i in range(10):\n",
    "    print(i+1)"
   ]
  },
  {
   "cell_type": "markdown",
   "metadata": {},
   "source": [
    "#### Ejercicio 9\n"
   ]
  },
  {
   "cell_type": "markdown",
   "metadata": {},
   "source": [
    "- Dada la siguiente lista de números = [10,7,8,3,5,2,71,21,88], crea un bucle que recorra la lista y sume los números pares e impares."
   ]
  },
  {
   "cell_type": "code",
   "execution_count": 32,
   "metadata": {},
   "outputs": [
    {
     "name": "stdout",
     "output_type": "stream",
     "text": [
      "pares 108  impares 107\n"
     ]
    }
   ],
   "source": [
    "nums = [10,7,8,3,5,2,71,21,88]\n",
    "par = 0\n",
    "impar= 0\n",
    "\n",
    "for i in range(len(nums)):\n",
    "    if nums[i]%2==0:\n",
    "        par += nums[i]\n",
    "    else:\n",
    "        impar +=nums[i]\n",
    "print(\"pares\", par, \" impares\",impar)"
   ]
  },
  {
   "cell_type": "markdown",
   "metadata": {},
   "source": [
    "#### Ejercicio 10"
   ]
  },
  {
   "cell_type": "markdown",
   "metadata": {},
   "source": [
    "- Crea una lista con 5 colores diferentes, y con bucles anidados imprime las letras de los colores "
   ]
  },
  {
   "cell_type": "code",
   "execution_count": 41,
   "metadata": {},
   "outputs": [
    {
     "name": "stdout",
     "output_type": "stream",
     "text": [
      "r\n",
      "o\n",
      "j\n",
      "o\n",
      "a\n",
      "z\n",
      "u\n",
      "l\n",
      "m\n",
      "o\n",
      "r\n",
      "a\n",
      "d\n",
      "o\n",
      "v\n",
      "e\n",
      "r\n",
      "d\n",
      "e\n",
      "n\n",
      "e\n",
      "g\n",
      "r\n",
      "o\n"
     ]
    }
   ],
   "source": [
    "lista = [\"rojo\",\"azul\",\"morado\",\"verde\",\"negro\"]\n",
    "\n",
    "for i in range(len(lista)):\n",
    "    for j in range(len(lista[i])):\n",
    "        print(lista[i][j])\n"
   ]
  },
  {
   "cell_type": "markdown",
   "metadata": {},
   "source": [
    "#### Ejercicio 11"
   ]
  },
  {
   "cell_type": "markdown",
   "metadata": {},
   "source": [
    "- Imprimir el índice y valor de cada elemento de la lista: [-5,-4,-3,-2,-1,0,1,2,3,4,5] utilizando un bucle **for**"
   ]
  },
  {
   "cell_type": "code",
   "execution_count": 42,
   "metadata": {},
   "outputs": [
    {
     "name": "stdout",
     "output_type": "stream",
     "text": [
      "Indice: 0 , valor: -5\n",
      "Indice: 1 , valor: -4\n",
      "Indice: 2 , valor: -3\n",
      "Indice: 3 , valor: -2\n",
      "Indice: 4 , valor: -1\n",
      "Indice: 5 , valor: 0\n",
      "Indice: 6 , valor: 1\n",
      "Indice: 7 , valor: 2\n",
      "Indice: 8 , valor: 3\n",
      "Indice: 9 , valor: 4\n",
      "Indice: 10 , valor: 5\n"
     ]
    }
   ],
   "source": [
    "lista = [-5,-4,-3,-2,-1,0,1,2,3,4,5]\n",
    "\n",
    "for i in range(len(lista)):\n",
    "    print(\"Indice:\",i,\", valor:\", lista[i])"
   ]
  },
  {
   "cell_type": "markdown",
   "metadata": {},
   "source": [
    "#### Ejercicio 12"
   ]
  },
  {
   "cell_type": "markdown",
   "metadata": {},
   "source": [
    "- Crea un bucle **while** donde le pregunte al usuario un número y si ese número es impar el programa se detiene"
   ]
  },
  {
   "cell_type": "code",
   "execution_count": 46,
   "metadata": {},
   "outputs": [
    {
     "name": "stdout",
     "output_type": "stream",
     "text": [
      "y volvemos\n",
      "y volvemos\n",
      "y volvemos\n",
      "y volvemos\n",
      "fin\n"
     ]
    }
   ],
   "source": [
    "num = int(input())\n",
    "while num%2==0:\n",
    "    print(\"y volvemos\")\n",
    "    num = int(input())\n",
    "print(\"fin\")"
   ]
  },
  {
   "cell_type": "markdown",
   "metadata": {},
   "source": [
    "#### Ejercicio 13"
   ]
  },
  {
   "cell_type": "markdown",
   "metadata": {},
   "source": [
    "- Crea un programa que cuenta las letras que contiene esta frase. No se puede utilizar len"
   ]
  },
  {
   "cell_type": "code",
   "execution_count": 58,
   "metadata": {},
   "outputs": [
    {
     "name": "stdout",
     "output_type": "stream",
     "text": [
      "True\n"
     ]
    }
   ],
   "source": [
    "frase = \"Crea un programa que cuenta las letras que contiene esta frase. No se puede utilizar len\"\n",
    "count = 0\n",
    "\n",
    "for i in frase:\n",
    "    count += 1\n",
    "\n",
    "print(count == len(frase))\n",
    "\n"
   ]
  }
 ],
 "metadata": {
  "kernelspec": {
   "display_name": "Python 3 (ipykernel)",
   "language": "python",
   "name": "python3"
  },
  "language_info": {
   "codemirror_mode": {
    "name": "ipython",
    "version": 3
   },
   "file_extension": ".py",
   "mimetype": "text/x-python",
   "name": "python",
   "nbconvert_exporter": "python",
   "pygments_lexer": "ipython3",
   "version": "3.11.7"
  }
 },
 "nbformat": 4,
 "nbformat_minor": 4
}
