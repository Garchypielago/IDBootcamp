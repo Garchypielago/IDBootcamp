{
 "cells": [
  {
   "cell_type": "code",
   "execution_count": 4,
   "metadata": {},
   "outputs": [
    {
     "name": "stdout",
     "output_type": "stream",
     "text": [
      "2\n",
      "2\n",
      "2\n"
     ]
    }
   ],
   "source": [
    "L= [1,2,3]\n",
    "n=len(L)\n",
    "for i in range(n):\n",
    "    print(L[i])"
   ]
  },
  {
   "cell_type": "code",
   "execution_count": 25,
   "metadata": {},
   "outputs": [
    {
     "name": "stdout",
     "output_type": "stream",
     "text": [
      "0\n",
      "1\n",
      "3\n",
      "6\n",
      "10\n",
      "15\n",
      "21\n",
      "28\n",
      "36\n",
      "45\n",
      "55\n",
      "66\n",
      "78\n",
      "78\n"
     ]
    }
   ],
   "source": [
    "# sumar todo los numeros del 0 hasta n\n",
    "n=12\n",
    "suma = 0\n",
    "for i in range(n+1):\n",
    "    suma += i\n",
    "    print(suma)\n",
    "print(suma)"
   ]
  },
  {
   "cell_type": "code",
   "execution_count": 27,
   "metadata": {},
   "outputs": [
    {
     "name": "stdout",
     "output_type": "stream",
     "text": [
      "13\n",
      "26\n",
      "39\n",
      "52\n",
      "65\n",
      "78\n",
      "78\n"
     ]
    }
   ],
   "source": [
    "n=12\n",
    "suma = 0\n",
    "for i in range(n//2):\n",
    "    suma += i+1 + n-i\n",
    "    print(suma)\n",
    "print(suma)"
   ]
  },
  {
   "cell_type": "code",
   "execution_count": 28,
   "metadata": {},
   "outputs": [
    {
     "name": "stdout",
     "output_type": "stream",
     "text": [
      "10\n",
      "8\n",
      "6\n",
      "4\n",
      "2\n"
     ]
    }
   ],
   "source": [
    "for i in range(10,0,-2):\n",
    "    print(i)"
   ]
  },
  {
   "cell_type": "code",
   "execution_count": 30,
   "metadata": {},
   "outputs": [
    {
     "name": "stdout",
     "output_type": "stream",
     "text": [
      "355\n"
     ]
    }
   ],
   "source": [
    "suma = 0\n",
    "n = 10\n",
    "for i in range(5, n+1):\n",
    "    suma += i**2\n",
    "print(suma)"
   ]
  },
  {
   "cell_type": "code",
   "execution_count": 33,
   "metadata": {},
   "outputs": [
    {
     "name": "stdout",
     "output_type": "stream",
     "text": [
      "[0, 1, 4, 9, 16, 25, 36, 49, 64, 81, 100]\n"
     ]
    }
   ],
   "source": [
    "n = 10\n",
    "L = []\n",
    "for i in range(n+1):\n",
    "    L.append(i**2)\n",
    "print(L)"
   ]
  },
  {
   "cell_type": "code",
   "execution_count": 35,
   "metadata": {},
   "outputs": [
    {
     "name": "stdout",
     "output_type": "stream",
     "text": [
      "[4, 2, 6]\n"
     ]
    }
   ],
   "source": [
    "V = [3,2,4]\n",
    "W = [1,0,2]\n",
    "# V + W = [4,2,6]\n",
    "res = []\n",
    "for i in range(len(V)):\n",
    "    res.append(V[i] + W[i])\n",
    "print(res)"
   ]
  },
  {
   "cell_type": "code",
   "execution_count": 71,
   "metadata": {},
   "outputs": [
    {
     "name": "stdout",
     "output_type": "stream",
     "text": [
      "102.5\n",
      "105.0625\n",
      "107.6890625\n",
      "110.3812890625\n",
      "113.1408212890625\n",
      "115.96934182128906\n",
      "118.86857536682129\n",
      "121.84028975099181\n",
      "124.88629699476661\n",
      "128.00845441963577\n",
      "131.20866578012667\n",
      "134.48888242462982\n",
      "\n",
      " 134.4888824246297\n"
     ]
    }
   ],
   "source": [
    "K = 100\n",
    "K1 = K\n",
    "interes = 0.025\n",
    "periodo = 12\n",
    "for i in range(1,periodo+1):\n",
    "    K += K * interes\n",
    "    print(K)\n",
    "print(\"\\n\", K1*(1+interes)**periodo)"
   ]
  },
  {
   "cell_type": "code",
   "execution_count": 74,
   "metadata": {},
   "outputs": [
    {
     "name": "stdout",
     "output_type": "stream",
     "text": [
      "\n",
      "1)\tSacar Dinero\n",
      "2)\tIngresar Dinero\n",
      "3)\tFinalizar\n",
      "2\n",
      "¿Cuanto quieres ingresar?\n",
      "Ahora tienes 234.0 euros\n",
      "\n",
      "1)\tSacar Dinero\n",
      "2)\tIngresar Dinero\n",
      "3)\tFinalizar\n",
      "1\n",
      "¿Cuanto quieres sacar?\n",
      "Te quedan 211.0 euros\n",
      "\n",
      "1)\tSacar Dinero\n",
      "2)\tIngresar Dinero\n",
      "3)\tFinalizar\n",
      "3\n",
      "Extractos:  [-23]\n",
      "Ingresos: [234]\n"
     ]
    }
   ],
   "source": [
    "cajero = 0.0\n",
    "contraseña = \"contraseña\"\n",
    "tecla = \"\"\n",
    "operacion = \"\"\n",
    "Extractos = []\n",
    "Ingresos = []\n",
    "\n",
    "while tecla!=\"3\":\n",
    "    print(\"\\n1)\\tSacar Dinero\\n2)\\tIngresar Dinero\\n3)\\tFinalizar\")\n",
    "    tecla = input(\"\\n1)\\tSacar Dinero\\n2)\\tIngresar Dinero\\n1)\\tFinalizar\")\n",
    "    print(tecla)\n",
    "\n",
    "    if tecla==\"1\":\n",
    "        print(\"¿Cuanto quieres sacar?\")\n",
    "        operacion = input()\n",
    "        if cajero>=int(operacion):\n",
    "            cajero -= int(operacion)\n",
    "            print(\"Te quedan\", cajero, \"euros\")\n",
    "            Extractos.append(int(operacion)*-1)\n",
    "        else:\n",
    "            print(\"No tienes ese dinero, tienes:\", cajero,\"euros\" )\n",
    "\n",
    "    if tecla==\"2\":\n",
    "        print(\"¿Cuanto quieres ingresar?\")\n",
    "        operacion = input()\n",
    "        cajero += int(operacion)\n",
    "        print(\"Ahora tienes\", cajero, \"euros\")\n",
    "        Ingresos.append(int(operacion))\n",
    "\n",
    "    if tecla==\"3\":\n",
    "        print(\"Extractos: \", Extractos)\n",
    "        print(\"Ingresos:\", Ingresos)\n",
    "    \n"
   ]
  },
  {
   "cell_type": "code",
   "execution_count": 75,
   "metadata": {},
   "outputs": [
    {
     "name": "stdout",
     "output_type": "stream",
     "text": [
      "1\n",
      "2\n",
      "3\n",
      "4\n",
      "5\n",
      "6\n",
      "7\n",
      "8\n",
      "9\n"
     ]
    }
   ],
   "source": [
    "L=[[1,2,3],[4,5,6],[7,8,9]]\n",
    "for i in L:\n",
    "    for j in i:\n",
    "        print(j)"
   ]
  }
 ],
 "metadata": {
  "kernelspec": {
   "display_name": "base",
   "language": "python",
   "name": "python3"
  },
  "language_info": {
   "codemirror_mode": {
    "name": "ipython",
    "version": 3
   },
   "file_extension": ".py",
   "mimetype": "text/x-python",
   "name": "python",
   "nbconvert_exporter": "python",
   "pygments_lexer": "ipython3",
   "version": "3.11.7"
  }
 },
 "nbformat": 4,
 "nbformat_minor": 2
}
