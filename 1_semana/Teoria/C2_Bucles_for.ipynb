{
 "cells": [
  {
   "cell_type": "markdown",
   "metadata": {},
   "source": [
    "# Bucles for\n",
    "* Range\n",
    "* Enumerate\n",
    "* suma de vectores\n",
    "* for con condiciones dentro\n",
    "* suma acumulada\n",
    "* continue/break\n",
    "* suma de matrices"
   ]
  },
  {
   "cell_type": "markdown",
   "metadata": {},
   "source": [
    "```python\n",
    "\n",
    "for elem in iterable: # elem es el nombre de una variable que toma cada valor del iterable\n",
    "    codigo # ejecutamos el codigo\n",
    "    # no hace falta actualizar ninguna variable, ya que el mismo for cambia de valor a cada iteración\n",
    "    \n",
    "```"
   ]
  },
  {
   "cell_type": "code",
   "execution_count": 1,
   "metadata": {},
   "outputs": [
    {
     "name": "stdout",
     "output_type": "stream",
     "text": [
      "9\n",
      "5\n",
      "1\n",
      "4\n"
     ]
    }
   ],
   "source": [
    "L = [9,5,1,4]\n",
    "for elem in L: # el for itera tantas veces como elementos haya en L\n",
    "    print(elem)"
   ]
  },
  {
   "cell_type": "markdown",
   "metadata": {},
   "source": [
    "## RANGE\n",
    "Esta función nos devuelve un iterador, cada vez que accedemos a ella itera al siguiente numero"
   ]
  },
  {
   "cell_type": "code",
   "execution_count": 2,
   "metadata": {},
   "outputs": [
    {
     "data": {
      "text/plain": [
       "range(0, 10)"
      ]
     },
     "execution_count": 2,
     "metadata": {},
     "output_type": "execute_result"
    }
   ],
   "source": [
    "range(10)"
   ]
  },
  {
   "cell_type": "code",
   "execution_count": 3,
   "metadata": {},
   "outputs": [
    {
     "name": "stdout",
     "output_type": "stream",
     "text": [
      "hola 0\n",
      "hola 1\n",
      "hola 2\n",
      "hola 3\n",
      "hola 4\n"
     ]
    }
   ],
   "source": [
    "for i in range(5): # 0,1,2,3,4, desde 0 hasta el numero que este dentro del range-1\n",
    "    print(\"hola\", i)\n",
    "#declaro una variable i que va a tomar los valores de range(5)"
   ]
  },
  {
   "cell_type": "code",
   "execution_count": 4,
   "metadata": {},
   "outputs": [
    {
     "name": "stdout",
     "output_type": "stream",
     "text": [
      "0\n",
      "1\n",
      "2\n",
      "3\n",
      "4\n"
     ]
    }
   ],
   "source": [
    "i = 0 # desde donde empiezo\n",
    "while i < 5: # condicion para que no se pase\n",
    "    print(i)\n",
    "    i=i+1 # actualizar"
   ]
  },
  {
   "cell_type": "code",
   "execution_count": 5,
   "metadata": {},
   "outputs": [],
   "source": [
    "L = ['Hola','Adios','Juanjo']"
   ]
  },
  {
   "cell_type": "code",
   "execution_count": 6,
   "metadata": {},
   "outputs": [
    {
     "name": "stdout",
     "output_type": "stream",
     "text": [
      "Adios i = 1\n"
     ]
    }
   ],
   "source": [
    "# print(L[0])\n",
    "# print(L[1])\n",
    "# print(L[2])\n",
    "i=1\n",
    "print(L[i], \"i =\", i)"
   ]
  },
  {
   "cell_type": "markdown",
   "metadata": {},
   "source": [
    "#### Iterar por elementos"
   ]
  },
  {
   "cell_type": "code",
   "execution_count": 7,
   "metadata": {},
   "outputs": [
    {
     "name": "stdout",
     "output_type": "stream",
     "text": [
      "Hola\n",
      "Adios\n",
      "Juanjo\n"
     ]
    }
   ],
   "source": [
    "#print('Mi lista es:', L)\n",
    "for elem in L: #imprimir cada elemento en una linea\n",
    "    # estoy iterando sobre elementos de una lista, \n",
    "    # ejecuto este trozo de codigo\n",
    "    print(elem)"
   ]
  },
  {
   "cell_type": "code",
   "execution_count": 8,
   "metadata": {},
   "outputs": [
    {
     "name": "stdout",
     "output_type": "stream",
     "text": [
      "Hola\n",
      "Adios\n",
      "Juanjo\n"
     ]
    }
   ],
   "source": [
    "for l in L: # recorro por elementos\n",
    "    print(l)\n",
    "# en este caso va a iterar 3 veces\n",
    "# en general itera tantas veces como elementos haya en una lista/iterable"
   ]
  },
  {
   "cell_type": "markdown",
   "metadata": {},
   "source": [
    "#### Iterar por indices"
   ]
  },
  {
   "cell_type": "code",
   "execution_count": 9,
   "metadata": {},
   "outputs": [
    {
     "name": "stdout",
     "output_type": "stream",
     "text": [
      "0 Hola\n",
      "1 Adios\n",
      "2 Juanjo\n"
     ]
    }
   ],
   "source": [
    "for i in range(3): # recorro por indices\n",
    "    print(i, L[i])"
   ]
  },
  {
   "cell_type": "code",
   "execution_count": 10,
   "metadata": {},
   "outputs": [
    {
     "name": "stdout",
     "output_type": "stream",
     "text": [
      "0 Hola\n",
      "1 Adios\n",
      "2 Juanjo\n"
     ]
    }
   ],
   "source": [
    "for i in range(len(L)): # recorro por indices, len(L)==3\n",
    "    # i = 0, i=1\n",
    "    print(i, L[i])"
   ]
  },
  {
   "cell_type": "code",
   "execution_count": 11,
   "metadata": {},
   "outputs": [
    {
     "name": "stdout",
     "output_type": "stream",
     "text": [
      "Hola\n",
      "Adios\n",
      "Juanjo\n"
     ]
    }
   ],
   "source": [
    "i = 0\n",
    "while i < len(L):\n",
    "    print(L[i]) # iteramos por indices\n",
    "    i+=1\n"
   ]
  },
  {
   "cell_type": "code",
   "execution_count": 12,
   "metadata": {},
   "outputs": [
    {
     "name": "stdout",
     "output_type": "stream",
     "text": [
      "En la posicion 0 está Hola\n",
      "En la posicion 1 está Adios\n",
      "En la posicion 2 está Juanjo\n"
     ]
    },
    {
     "data": {
      "text/plain": [
       "2"
      ]
     },
     "execution_count": 12,
     "metadata": {},
     "output_type": "execute_result"
    }
   ],
   "source": [
    "L=['Hola', 'Adios', 'Juanjo']\n",
    "i = 999 # esta linea, NO cumple ningun proposito, despues i se volvera a declarar dentro del for\n",
    "n = len(L) # longitud de la lista, esto es un entero n=3\n",
    "for i in range(n): # i = 0, 1, 2 // aqui se sobreescrive\n",
    "    # estoy iterando sobre los indices\n",
    "    print('En la posicion', i , 'está', L[i])\n",
    "    # i es el indice y con i accedo a la posición de la lista\n",
    "i"
   ]
  },
  {
   "cell_type": "code",
   "execution_count": 13,
   "metadata": {},
   "outputs": [
    {
     "name": "stdout",
     "output_type": "stream",
     "text": [
      "3\n",
      "5\n",
      "7\n"
     ]
    }
   ],
   "source": [
    "for i in range(3, 9, 2): \n",
    "    # range( desde, hasta, pasos)\n",
    "    # range( desde, hasta) # pasos = 1\n",
    "    # range( hasta) # desde 0 pasos = 1\n",
    "    print(i)"
   ]
  },
  {
   "cell_type": "code",
   "execution_count": 14,
   "metadata": {},
   "outputs": [
    {
     "data": {
      "text/plain": [
       "[9, 7, 5]"
      ]
     },
     "execution_count": 14,
     "metadata": {},
     "output_type": "execute_result"
    }
   ],
   "source": [
    "list(range(9, 3, -2))"
   ]
  },
  {
   "cell_type": "code",
   "execution_count": 15,
   "metadata": {},
   "outputs": [
    {
     "name": "stdout",
     "output_type": "stream",
     "text": [
      "3\n",
      "5\n",
      "7\n"
     ]
    }
   ],
   "source": [
    "i=3\n",
    "while i < 9:\n",
    "    print(i)\n",
    "    i = i+2"
   ]
  },
  {
   "cell_type": "code",
   "execution_count": 16,
   "metadata": {},
   "outputs": [
    {
     "name": "stdout",
     "output_type": "stream",
     "text": [
      "1\n",
      "1 mi suma es: 1\n",
      "2\n",
      "2 mi suma es: 3\n",
      "3\n",
      "3 mi suma es: 6\n",
      "4\n",
      "4 mi suma es: 10\n",
      "5\n",
      "5 mi suma es: 15\n",
      "6\n",
      "6 mi suma es: 21\n",
      "7\n",
      "7 mi suma es: 28\n",
      "8\n",
      "8 mi suma es: 36\n",
      "9\n",
      "9 mi suma es: 45\n",
      "10\n",
      "10 mi suma es: 55\n",
      "11\n",
      "11 mi suma es: 66\n",
      "12\n",
      "12 mi suma es: 78\n",
      "13\n",
      "13 mi suma es: 91\n",
      "14\n",
      "14 mi suma es: 105\n",
      "15\n",
      "15 mi suma es: 120\n",
      "120\n"
     ]
    }
   ],
   "source": [
    "# sumar todos los numeros desde 1 hasta el n\n",
    "suma = 0 # variable externa al bucle\n",
    "n = 15\n",
    "for i in range(1, n+1): # i = 0,1,2,...,n\n",
    "    print(i)\n",
    "    suma = suma + i\n",
    "    print(i, \"mi suma es:\", suma)\n",
    "    \n",
    "#     control+ç\n",
    "    # NO HACE FALTA! i = i+1\n",
    "print(suma)"
   ]
  },
  {
   "cell_type": "markdown",
   "metadata": {},
   "source": [
    "#### Ejercicio: sumad los numeros impares desde 1 hasta n"
   ]
  },
  {
   "cell_type": "code",
   "execution_count": 17,
   "metadata": {},
   "outputs": [
    {
     "data": {
      "text/plain": [
       "9"
      ]
     },
     "execution_count": 17,
     "metadata": {},
     "output_type": "execute_result"
    }
   ],
   "source": [
    "suma=0\n",
    "n=5\n",
    "for i in range(1, n+1):\n",
    "    if i%2==1:\n",
    "        suma+=i\n",
    "suma"
   ]
  },
  {
   "cell_type": "code",
   "execution_count": 18,
   "metadata": {},
   "outputs": [
    {
     "data": {
      "text/plain": [
       "9"
      ]
     },
     "execution_count": 18,
     "metadata": {},
     "output_type": "execute_result"
    }
   ],
   "source": [
    "suma=0\n",
    "n=5\n",
    "for i in range(1, n+1, 2):\n",
    "    suma+=i\n",
    "suma"
   ]
  },
  {
   "cell_type": "markdown",
   "metadata": {},
   "source": [
    "#### Ejercicio sumar los numeros al cuadrado desde 5 hasta n"
   ]
  },
  {
   "cell_type": "code",
   "execution_count": 19,
   "metadata": {},
   "outputs": [
    {
     "name": "stdout",
     "output_type": "stream",
     "text": [
      "25\n",
      "36\n",
      "49\n",
      "64\n",
      "81\n",
      "100\n"
     ]
    },
    {
     "data": {
      "text/plain": [
       "355"
      ]
     },
     "execution_count": 19,
     "metadata": {},
     "output_type": "execute_result"
    }
   ],
   "source": [
    "suma=0\n",
    "n=10\n",
    "for i in range(5,n+1):\n",
    "    print(i**2)\n",
    "    suma+=i**2\n",
    "    # suma = suma + i**2\n",
    "suma"
   ]
  },
  {
   "cell_type": "markdown",
   "metadata": {},
   "source": [
    "### Suma de vectores"
   ]
  },
  {
   "cell_type": "code",
   "execution_count": 20,
   "metadata": {},
   "outputs": [
    {
     "data": {
      "text/plain": [
       "[3, 2, 4, 1, 0, 2]"
      ]
     },
     "execution_count": 20,
     "metadata": {},
     "output_type": "execute_result"
    }
   ],
   "source": [
    "# La suma de dos vectores iguales\n",
    "v = [3,2,4]\n",
    "w = [1,0,2]\n",
    "v+w\n",
    "# lo hara bien numpy"
   ]
  },
  {
   "cell_type": "code",
   "execution_count": 21,
   "metadata": {},
   "outputs": [
    {
     "data": {
      "text/plain": [
       "6"
      ]
     },
     "execution_count": 21,
     "metadata": {},
     "output_type": "execute_result"
    }
   ],
   "source": [
    "i = 2\n",
    "v[i]+w[i]"
   ]
  },
  {
   "cell_type": "code",
   "execution_count": 22,
   "metadata": {
    "scrolled": false
   },
   "outputs": [],
   "source": [
    "# La suma de dos vectores iguales\n",
    "v = [3,2,4]\n",
    "w = [1,0,2]\n",
    "# resultado = [4,2,6]\n"
   ]
  },
  {
   "cell_type": "code",
   "execution_count": 23,
   "metadata": {},
   "outputs": [
    {
     "data": {
      "text/plain": [
       "[4, 2, 6]"
      ]
     },
     "execution_count": 23,
     "metadata": {},
     "output_type": "execute_result"
    }
   ],
   "source": [
    "l = []\n",
    "for i in range(len(w)):\n",
    "    l.append(v[i]+w[i])\n",
    "l"
   ]
  },
  {
   "cell_type": "code",
   "execution_count": 24,
   "metadata": {},
   "outputs": [
    {
     "data": {
      "text/plain": [
       "[4, 2, 6]"
      ]
     },
     "execution_count": 24,
     "metadata": {},
     "output_type": "execute_result"
    }
   ],
   "source": [
    "v = [3,2,4]\n",
    "w = [1,0,2]\n",
    "res=v.copy()\n",
    "# res=[0]*len(v)\n",
    "for i in range(len(v)):\n",
    "    res[i] = v[i] + w[i]\n",
    "res"
   ]
  },
  {
   "cell_type": "code",
   "execution_count": 25,
   "metadata": {},
   "outputs": [
    {
     "data": {
      "text/plain": [
       "[0, 0, 0]"
      ]
     },
     "execution_count": 25,
     "metadata": {},
     "output_type": "execute_result"
    }
   ],
   "source": [
    "[0]*3"
   ]
  },
  {
   "cell_type": "markdown",
   "metadata": {},
   "source": [
    "###### Ejercicio: Dada una lista suma los elementos que estan en las posiciones impares\n"
   ]
  },
  {
   "cell_type": "code",
   "execution_count": 26,
   "metadata": {},
   "outputs": [],
   "source": [
    "L=[1,4,2,3,7,4,6,7,9]\n"
   ]
  },
  {
   "cell_type": "markdown",
   "metadata": {},
   "source": [
    "#### Ejercicio: Dada una lista suma los elementos impares"
   ]
  },
  {
   "cell_type": "code",
   "execution_count": 27,
   "metadata": {},
   "outputs": [],
   "source": [
    "L=[1,4,2,3,7,4,6,7,9]\n"
   ]
  },
  {
   "cell_type": "code",
   "execution_count": 28,
   "metadata": {},
   "outputs": [
    {
     "data": {
      "text/plain": [
       "[1, 4, 2, 3, 7, 4, 6, 7, 9]"
      ]
     },
     "execution_count": 28,
     "metadata": {},
     "output_type": "execute_result"
    }
   ],
   "source": [
    "L"
   ]
  },
  {
   "cell_type": "markdown",
   "metadata": {},
   "source": [
    "##### Break"
   ]
  },
  {
   "cell_type": "code",
   "execution_count": 29,
   "metadata": {},
   "outputs": [
    {
     "name": "stdout",
     "output_type": "stream",
     "text": [
      "4\n"
     ]
    }
   ],
   "source": [
    "# Suma elementos de una lista, pero si un elemento es 5 para de sumar\n",
    "suma = 0\n",
    "L = [1,3,5,2]\n",
    "for l in L: # recorro por elementos\n",
    "    if l == 5:\n",
    "        break\n",
    "    suma += l # suma = suma+l\n",
    "else: # cuando acabe el bucle si se hace sin romper\n",
    "    print(\"He terminado de recorrer toda la lista\")\n",
    "print(suma)"
   ]
  },
  {
   "cell_type": "markdown",
   "metadata": {},
   "source": [
    "##### Continue"
   ]
  },
  {
   "cell_type": "code",
   "execution_count": 30,
   "metadata": {},
   "outputs": [
    {
     "name": "stdout",
     "output_type": "stream",
     "text": [
      "1  mi suma es 1\n",
      "3  mi suma es 4\n",
      "2  mi suma es 6\n",
      "6\n"
     ]
    }
   ],
   "source": [
    "# Suma elementos de una lista, pero si un elemento es 5 no hagas nada\n",
    "suma = 0\n",
    "L = [1,3,5,2]\n",
    "for elem in L: # recorro por elemento\n",
    "    if elem == 5:\n",
    "        continue # se salta todo lo que hay detras hasta la siguiente iteración\n",
    "    suma += elem\n",
    "    print(elem, ' mi suma es', suma) # esta linea no se ejecut si el elemento es 5\n",
    "    \n",
    "    \n",
    "print(suma)"
   ]
  },
  {
   "cell_type": "markdown",
   "metadata": {},
   "source": [
    "## Dada una lista, dime si hay un 5, y si no lo hay dimelo tambien"
   ]
  },
  {
   "cell_type": "code",
   "execution_count": 31,
   "metadata": {},
   "outputs": [
    {
     "name": "stdout",
     "output_type": "stream",
     "text": [
      "Hay un 5\n"
     ]
    }
   ],
   "source": [
    "L=[1,2,3,4,6,7,3,5,4]\n",
    "if 5 in L:\n",
    "    print(\"Hay un 5\")\n",
    "else:\n",
    "    print(\"No hay un 5\")"
   ]
  },
  {
   "cell_type": "code",
   "execution_count": null,
   "metadata": {},
   "outputs": [],
   "source": []
  },
  {
   "cell_type": "code",
   "execution_count": null,
   "metadata": {
    "scrolled": true
   },
   "outputs": [],
   "source": []
  },
  {
   "cell_type": "markdown",
   "metadata": {},
   "source": [
    "### Ejercicio: Dado un n haz un programa que diga si es un numero primo\n",
    "Un numero es primo si SOLO es divisible por 1 y por el mismo \\\n",
    "(todos los numeros son divisibles por 1 y por ellos mismos) \\\n",
    "Por lo tanto, cuando un numero NO es primo?"
   ]
  },
  {
   "cell_type": "code",
   "execution_count": 32,
   "metadata": {},
   "outputs": [],
   "source": [
    "# 2, 3, 5, 7, 11"
   ]
  },
  {
   "cell_type": "code",
   "execution_count": 33,
   "metadata": {},
   "outputs": [
    {
     "data": {
      "text/plain": [
       "(4, 6, 8)"
      ]
     },
     "execution_count": 33,
     "metadata": {},
     "output_type": "execute_result"
    }
   ],
   "source": [
    "4, 6, 8"
   ]
  },
  {
   "cell_type": "code",
   "execution_count": 34,
   "metadata": {},
   "outputs": [],
   "source": [
    "n = 8\n",
    "# 8 no es primo"
   ]
  },
  {
   "cell_type": "code",
   "execution_count": null,
   "metadata": {},
   "outputs": [],
   "source": []
  },
  {
   "cell_type": "code",
   "execution_count": null,
   "metadata": {},
   "outputs": [],
   "source": []
  },
  {
   "cell_type": "markdown",
   "metadata": {},
   "source": [
    "### decidme que numeros son primos del 2 hasta el 100"
   ]
  },
  {
   "cell_type": "code",
   "execution_count": null,
   "metadata": {},
   "outputs": [],
   "source": []
  },
  {
   "cell_type": "markdown",
   "metadata": {},
   "source": [
    "### Iterar sobre matrices"
   ]
  },
  {
   "cell_type": "code",
   "execution_count": 35,
   "metadata": {},
   "outputs": [
    {
     "name": "stdout",
     "output_type": "stream",
     "text": [
      "[1, 2]\n"
     ]
    }
   ],
   "source": [
    "M=[[1,2],\n",
    "   [3,4]]\n",
    "print(M[0])\n"
   ]
  },
  {
   "cell_type": "code",
   "execution_count": 36,
   "metadata": {},
   "outputs": [],
   "source": [
    "M=[[1,2,3],\n",
    "   [3,4,4]]"
   ]
  },
  {
   "cell_type": "code",
   "execution_count": 37,
   "metadata": {},
   "outputs": [],
   "source": [
    "n=len(M) # me da el numero de filas"
   ]
  },
  {
   "cell_type": "code",
   "execution_count": 38,
   "metadata": {},
   "outputs": [],
   "source": [
    "m=len(M[0]) # numero de columnas, asumo que son matrices bien definidas"
   ]
  },
  {
   "cell_type": "code",
   "execution_count": 39,
   "metadata": {},
   "outputs": [
    {
     "name": "stdout",
     "output_type": "stream",
     "text": [
      "[1, 2, 3]\n",
      "[3, 4, 4]\n"
     ]
    }
   ],
   "source": [
    "for fila in M:\n",
    "    print(fila)"
   ]
  },
  {
   "cell_type": "code",
   "execution_count": 40,
   "metadata": {},
   "outputs": [
    {
     "name": "stdout",
     "output_type": "stream",
     "text": [
      "[1, 2, 3]\n",
      "10\n",
      "20\n",
      "30\n",
      "se ha acabado la fila\n",
      "[3, 4, 4]\n",
      "30\n",
      "40\n",
      "40\n",
      "se ha acabado la fila\n"
     ]
    }
   ],
   "source": [
    "for fila in M: # iterando por elementos\n",
    "    print(fila)\n",
    "    for elemento in fila: # iterando por elementos\n",
    "        print(elemento*10)\n",
    "    print(\"se ha acabado la fila\")"
   ]
  },
  {
   "cell_type": "markdown",
   "metadata": {},
   "source": [
    "### Ejemplo: Multiplica una matriz por 10 \n",
    "Pista: primero haz el código para crear la primera fila de la matriz resultante"
   ]
  },
  {
   "cell_type": "code",
   "execution_count": 41,
   "metadata": {},
   "outputs": [],
   "source": [
    "M=[[9,2,3],\n",
    "   [3,4,4]]"
   ]
  },
  {
   "cell_type": "code",
   "execution_count": 42,
   "metadata": {},
   "outputs": [
    {
     "data": {
      "text/plain": [
       "30"
      ]
     },
     "execution_count": 42,
     "metadata": {},
     "output_type": "execute_result"
    }
   ],
   "source": [
    "M[0][i]*10"
   ]
  },
  {
   "cell_type": "code",
   "execution_count": 43,
   "metadata": {},
   "outputs": [
    {
     "data": {
      "text/plain": [
       "[[90, 20, 30], [30, 40, 40]]"
      ]
     },
     "execution_count": 43,
     "metadata": {},
     "output_type": "execute_result"
    }
   ],
   "source": [
    "R=[]\n",
    "for fila in M:\n",
    "    F=[] # la fila que quiero generar\n",
    "    for elem in fila: # iterare por la fila de origen\n",
    "        F.append(elem*10) # voy rellenandola\n",
    "    R.append(F)\n",
    "R"
   ]
  },
  {
   "cell_type": "markdown",
   "metadata": {},
   "source": [
    "### Iterar matrices por indices"
   ]
  },
  {
   "attachments": {
    "image.png": {
     "image/png": "[encoded data removed]"
    }
   },
   "cell_type": "markdown",
   "metadata": {},
   "source": [
    "![image.png](attachment:image.png)"
   ]
  },
  {
   "attachments": {
    "image.png": {
     "image/png": "[encoded data removed]"
    }
   },
   "cell_type": "markdown",
   "metadata": {},
   "source": [
    "![image.png](attachment:image.png)"
   ]
  },
  {
   "cell_type": "code",
   "execution_count": 44,
   "metadata": {},
   "outputs": [],
   "source": [
    "M=[[1,2,3],\n",
    "   [3,4,4]]"
   ]
  },
  {
   "cell_type": "code",
   "execution_count": 45,
   "metadata": {},
   "outputs": [
    {
     "name": "stdout",
     "output_type": "stream",
     "text": [
      "------ i ------ =  0\n",
      "i = 0 | j = 0 ==>> 1\n",
      "i = 0 | j = 1 ==>> 2\n",
      "i = 0 | j = 2 ==>> 3\n",
      "------ i ------ =  1\n",
      "i = 1 | j = 0 ==>> 3\n",
      "i = 1 | j = 1 ==>> 4\n",
      "i = 1 | j = 2 ==>> 4\n"
     ]
    }
   ],
   "source": [
    "n=len(M) # numero de filas (listas dentro de la lista grande)\n",
    "m=len(M[0]) # numero de columnas\n",
    "# Por que 0? Porque asumimos que todas las filas tienen el mismo numero de numeors(columnas)\n",
    "for i in range(n): # i = 0,1\n",
    "    \n",
    "    print(\"------ i ------ = \", i)\n",
    "    \n",
    "    for j in range(m): # len(M[i]) = 3\n",
    "        print(\"i =\",i,\"| j =\",j, \"==>>\", M[i][j])"
   ]
  },
  {
   "cell_type": "markdown",
   "metadata": {},
   "source": [
    "#### Ejercicio: Dadas dos matrices de la misma dimensión, haz la matriz resultante de la suma"
   ]
  },
  {
   "cell_type": "code",
   "execution_count": null,
   "metadata": {},
   "outputs": [],
   "source": []
  },
  {
   "cell_type": "markdown",
   "metadata": {},
   "source": [
    "##### Dados 1 vector de n dimensiones. Haz la matriz donde la fila i-esima sea v*i\n"
   ]
  },
  {
   "cell_type": "code",
   "execution_count": 46,
   "metadata": {},
   "outputs": [
    {
     "data": {
      "text/plain": [
       "[[0, 0, 0], [2, 5, 3], [4, 10, 6], [6, 15, 9], [8, 20, 12]]"
      ]
     },
     "execution_count": 46,
     "metadata": {},
     "output_type": "execute_result"
    }
   ],
   "source": [
    "[2,5,3]\n",
    "n = 5\n",
    "\n",
    "[[0,0,0],\n",
    " [2,5,3],\n",
    " [4,10,6],\n",
    " [6,15,9],\n",
    " [2*4,5*4,3*4]]"
   ]
  },
  {
   "cell_type": "code",
   "execution_count": 47,
   "metadata": {},
   "outputs": [
    {
     "data": {
      "text/plain": [
       "[4, 10, 6]"
      ]
     },
     "execution_count": 47,
     "metadata": {},
     "output_type": "execute_result"
    }
   ],
   "source": [
    "L=[2,5,3]\n",
    "# empiezo generando una fila de la matriz resultante\n",
    "m=2 # es la fila m de la matriz resultante, después deberé iterar este numero\n",
    "F=[]\n",
    "for l in L: #ahora, sin indices\n",
    "    F.append(l*m)\n",
    "F"
   ]
  },
  {
   "cell_type": "markdown",
   "metadata": {},
   "source": [
    "# Comprehension lists\n"
   ]
  },
  {
   "cell_type": "code",
   "execution_count": 69,
   "metadata": {},
   "outputs": [
    {
     "data": {
      "text/plain": [
       "[9, 23, 45]"
      ]
     },
     "execution_count": 69,
     "metadata": {},
     "output_type": "execute_result"
    }
   ],
   "source": [
    "[x**2+x+3 for x in range(2,8,2)]\n",
    "# [formula for var in iterable]"
   ]
  },
  {
   "cell_type": "code",
   "execution_count": 49,
   "metadata": {},
   "outputs": [
    {
     "data": {
      "text/plain": [
       "[0, 1, 4, 9, 16, 25, 36, 49, 64, 81]"
      ]
     },
     "execution_count": 49,
     "metadata": {},
     "output_type": "execute_result"
    }
   ],
   "source": [
    "L=[x**2 for x in range(10)]\n",
    "L"
   ]
  },
  {
   "cell_type": "code",
   "execution_count": 50,
   "metadata": {},
   "outputs": [
    {
     "data": {
      "text/plain": [
       "[0, 1, 4, 9, 16, 25, 36, 49, 64, 81]"
      ]
     },
     "execution_count": 50,
     "metadata": {},
     "output_type": "execute_result"
    }
   ],
   "source": [
    "# forma no compacta\n",
    "l=[] # creo una lista vacia\n",
    "for x in range(10): # itero\n",
    "    l.append(x**2) # relleno\n",
    "l"
   ]
  },
  {
   "cell_type": "code",
   "execution_count": 51,
   "metadata": {},
   "outputs": [
    {
     "data": {
      "text/plain": [
       "[1, 4, 9, 16, 25, 36, 49, 64, 81, 100]"
      ]
     },
     "execution_count": 51,
     "metadata": {},
     "output_type": "execute_result"
    }
   ],
   "source": [
    "# con una comprehension list x**2+2*x+1 para x = 0 hasta 100\n",
    "[x**2+2*x+1 for x in range(10)]\n",
    "# solo quiero los que sean divisores de 3\n"
   ]
  },
  {
   "cell_type": "code",
   "execution_count": 52,
   "metadata": {
    "scrolled": true
   },
   "outputs": [
    {
     "data": {
      "text/plain": [
       "[0, 3, 6, 9]"
      ]
     },
     "execution_count": 52,
     "metadata": {},
     "output_type": "execute_result"
    }
   ],
   "source": [
    "[x for x in range(10) if x%3==0]\n",
    "# [ esta expresion for la variabke in iterador if condicion]\n",
    "[x for x in range(10) if x%3==0]"
   ]
  },
  {
   "cell_type": "code",
   "execution_count": 71,
   "metadata": {},
   "outputs": [
    {
     "data": {
      "text/plain": [
       "[0, 3, 6, 9]"
      ]
     },
     "execution_count": 71,
     "metadata": {},
     "output_type": "execute_result"
    }
   ],
   "source": [
    "# forma no compacta\n",
    "l=[]\n",
    "for x in range(10):\n",
    "    if x%3==0:\n",
    "        l.append(x)\n",
    "l\n"
   ]
  },
  {
   "cell_type": "code",
   "execution_count": 72,
   "metadata": {},
   "outputs": [],
   "source": [
    "# ejemplo sobre una lista de listas\n",
    "M=[[1,3,5],[5,2,8],[0,0,1]]"
   ]
  },
  {
   "cell_type": "code",
   "execution_count": 73,
   "metadata": {},
   "outputs": [
    {
     "data": {
      "text/plain": [
       "[(1, 5), (2, 8), (0, 1)]"
      ]
     },
     "execution_count": 73,
     "metadata": {},
     "output_type": "execute_result"
    }
   ],
   "source": [
    "[(min(x),max(x)) for x in M]"
   ]
  },
  {
   "cell_type": "code",
   "execution_count": 75,
   "metadata": {},
   "outputs": [
    {
     "data": {
      "text/plain": [
       "3"
      ]
     },
     "execution_count": 75,
     "metadata": {},
     "output_type": "execute_result"
    }
   ],
   "source": [
    "x=3\n",
    "x if x%3==0 else -1"
   ]
  },
  {
   "cell_type": "code",
   "execution_count": 57,
   "metadata": {},
   "outputs": [
    {
     "name": "stdout",
     "output_type": "stream",
     "text": [
      "-1\n"
     ]
    }
   ],
   "source": [
    "if x%3==0:\n",
    "    print(x)\n",
    "else:\n",
    "    print(-1)"
   ]
  },
  {
   "cell_type": "code",
   "execution_count": 58,
   "metadata": {},
   "outputs": [
    {
     "data": {
      "text/plain": [
       "[0, None, None, 3, None, None, 6, None, None, 9]"
      ]
     },
     "execution_count": 58,
     "metadata": {},
     "output_type": "execute_result"
    }
   ],
   "source": [
    "[x if x%3==0 else None for x in range(10)]\n",
    "# [ formula-------None for var in range iterable]"
   ]
  },
  {
   "cell_type": "code",
   "execution_count": 85,
   "metadata": {
    "scrolled": true
   },
   "outputs": [
    {
     "name": "stdout",
     "output_type": "stream",
     "text": [
      "[3, 5, 7]\n",
      "[3, 1, 1]\n"
     ]
    }
   ],
   "source": [
    "#Ejercicio: Dada una lista numerica haced una lista con las posiciones impares que tengan un numero impar\n",
    "L=[1,4,2,3,6,1,3,1,5]\n",
    "L2= [ x for x in range(len(L)) if x%2!=0 and L[x]%2!=0]\n",
    "print(L2)\n",
    "\n",
    "L3= [ L[x] for x in range(len(L)) if x%2!=0 and L[x]%2!=0]\n",
    "print(L3)"
   ]
  },
  {
   "cell_type": "markdown",
   "metadata": {},
   "source": [
    "#### Doble bucle en comprehension list"
   ]
  },
  {
   "cell_type": "code",
   "execution_count": 87,
   "metadata": {},
   "outputs": [
    {
     "data": {
      "text/plain": [
       "['ad', 'ae', 'af', 'bd', 'be', 'bf', 'cd', 'ce', 'cf']"
      ]
     },
     "execution_count": 87,
     "metadata": {},
     "output_type": "execute_result"
    }
   ],
   "source": [
    "l1=[\"a\",\"b\",\"c\"]\n",
    "l2=[\"d\",\"e\",\"f\"]\n",
    "L=[]\n",
    "for x in l1: # 2º x=\"b\"\n",
    "    for y in l2:\n",
    "        L.append(x+y)\n",
    "L"
   ]
  },
  {
   "cell_type": "code",
   "execution_count": 61,
   "metadata": {},
   "outputs": [
    {
     "data": {
      "text/plain": [
       "['ad', 'ae', 'af', 'bd', 'be', 'bf', 'cd', 'ce', 'cf']"
      ]
     },
     "execution_count": 61,
     "metadata": {},
     "output_type": "execute_result"
    }
   ],
   "source": [
    "l1=[\"a\",\"b\",\"c\"]\n",
    "l2=[\"d\",\"e\",\"f\"]\n",
    "[x+y for x in l1 for y in l2]"
   ]
  },
  {
   "cell_type": "code",
   "execution_count": 88,
   "metadata": {},
   "outputs": [
    {
     "data": {
      "text/plain": [
       "['ad', 'af', 'bd', 'bf', 'cd', 'cf']"
      ]
     },
     "execution_count": 88,
     "metadata": {},
     "output_type": "execute_result"
    }
   ],
   "source": [
    "[l1[i]+l2[j] for i in range(len(l1)) for j in range(len(l2)) if j%2==0]"
   ]
  },
  {
   "cell_type": "code",
   "execution_count": 89,
   "metadata": {},
   "outputs": [
    {
     "data": {
      "text/plain": [
       "[30, 60, 90, 60, 120, 180, 90, 180, 270]"
      ]
     },
     "execution_count": 89,
     "metadata": {},
     "output_type": "execute_result"
    }
   ],
   "source": [
    "l1=[3,6,9]\n",
    "l2=[10,20,30]\n",
    "# haced una lista con las todas las posibles multiplicaciones de la l1 con la l2\n",
    "[x*y for x in l1 for y in l2]"
   ]
  },
  {
   "cell_type": "code",
   "execution_count": 64,
   "metadata": {},
   "outputs": [
    {
     "data": {
      "text/plain": [
       "[[10, 12, 14, 16, 18],\n",
       " [11, 13, 15, 17, 19],\n",
       " [12, 14, 16, 18, 20],\n",
       " [13, 15, 17, 19, 21]]"
      ]
     },
     "execution_count": 64,
     "metadata": {},
     "output_type": "execute_result"
    }
   ],
   "source": [
    "[[j+i for j in range(10,20,2)] for i in range(4)]"
   ]
  },
  {
   "cell_type": "code",
   "execution_count": 96,
   "metadata": {},
   "outputs": [
    {
     "name": "stdout",
     "output_type": "stream",
     "text": [
      "[[0, 0, 0], [1, 2, 3], [2, 4, 6], [3, 6, 9], [4, 8, 12], [5, 10, 15], [6, 12, 18], [7, 14, 21], [8, 16, 24], [9, 18, 27], [10, 20, 30]]\n"
     ]
    }
   ],
   "source": [
    "# Ejercicio: A partir de un vector v, crea una matriz donde la fila i sea v*i\n",
    "v = [1,2,3]\n",
    "m = [ [j *i for j in v] for i in range(11) ]\n",
    "print(m)"
   ]
  },
  {
   "cell_type": "code",
   "execution_count": 102,
   "metadata": {},
   "outputs": [
    {
     "data": {
      "text/plain": [
       "[1, 3, 2, 4, 3, 5]"
      ]
     },
     "execution_count": 102,
     "metadata": {},
     "output_type": "execute_result"
    }
   ],
   "source": [
    "M = [[1,2,3], [3,4,5]]\n",
    "Mtrans = []\n",
    "[ [Mtrans.append(M[j][i]) for j in range(len(M)) ] for i in range(len(M[0])) ]\n",
    "Mtrans"
   ]
  },
  {
   "cell_type": "markdown",
   "metadata": {},
   "source": [
    "### Generadores\n",
    "Sirven para no tener todos los numeros guardados en memoria"
   ]
  },
  {
   "cell_type": "code",
   "execution_count": 66,
   "metadata": {},
   "outputs": [],
   "source": [
    "#generador=(i**2 for i in range(100000000000))\n",
    "# lista=[i**2 for i in range(100000)]"
   ]
  },
  {
   "cell_type": "code",
   "execution_count": 67,
   "metadata": {},
   "outputs": [
    {
     "ename": "NameError",
     "evalue": "name 'generador' is not defined",
     "output_type": "error",
     "traceback": [
      "\u001b[1;31m---------------------------------------------------------------------------\u001b[0m",
      "\u001b[1;31mNameError\u001b[0m                                 Traceback (most recent call last)",
      "Cell \u001b[1;32mIn[67], line 1\u001b[0m\n\u001b[1;32m----> 1\u001b[0m generador\n",
      "\u001b[1;31mNameError\u001b[0m: name 'generador' is not defined"
     ]
    }
   ],
   "source": [
    "generador"
   ]
  },
  {
   "cell_type": "code",
   "execution_count": null,
   "metadata": {},
   "outputs": [],
   "source": [
    "generador=(i**2 for i in range(10))"
   ]
  },
  {
   "cell_type": "code",
   "execution_count": null,
   "metadata": {},
   "outputs": [
    {
     "name": "stdout",
     "output_type": "stream",
     "text": [
      "0\n",
      "1\n",
      "4\n",
      "9\n",
      "16\n",
      "25\n",
      "36\n",
      "49\n",
      "64\n",
      "81\n"
     ]
    }
   ],
   "source": [
    "for i in generador:\n",
    "    print(i)"
   ]
  },
  {
   "cell_type": "markdown",
   "metadata": {},
   "source": [
    "## Enumerate"
   ]
  },
  {
   "cell_type": "code",
   "execution_count": null,
   "metadata": {},
   "outputs": [
    {
     "data": {
      "text/plain": [
       "<enumerate at 0x251164aa700>"
      ]
     },
     "execution_count": 98,
     "metadata": {},
     "output_type": "execute_result"
    }
   ],
   "source": [
    "L = [9,99,999]\n",
    "enumerate(L)"
   ]
  },
  {
   "cell_type": "code",
   "execution_count": null,
   "metadata": {},
   "outputs": [
    {
     "name": "stdout",
     "output_type": "stream",
     "text": [
      "0 9\n",
      "1 99\n",
      "2 999\n"
     ]
    }
   ],
   "source": [
    "L = [9,99,999]\n",
    "for indice, item in enumerate(L):\n",
    "    print(indice, item)"
   ]
  },
  {
   "cell_type": "code",
   "execution_count": 103,
   "metadata": {},
   "outputs": [
    {
     "name": "stdout",
     "output_type": "stream",
     "text": [
      "(0, 40)\n",
      "(1, 20)\n",
      "(2, 30)\n",
      "(3, 10)\n"
     ]
    }
   ],
   "source": [
    "L = [40,\n",
    "     20,\n",
    "     30,\n",
    "     10]\n",
    "for X in enumerate(L): # enumerate devuelve una tupla de 2 elementos, el indice y el elemento\n",
    "    print(X) # tupla\n",
    "    # print(X[0], X[1]) # hemos accedido a los elementos de la tupla, el indice y el elemento\n",
    "#print(X)"
   ]
  },
  {
   "cell_type": "code",
   "execution_count": 105,
   "metadata": {},
   "outputs": [],
   "source": [
    "i, elem = (0,10)"
   ]
  },
  {
   "cell_type": "code",
   "execution_count": 106,
   "metadata": {},
   "outputs": [
    {
     "data": {
      "text/plain": [
       "(0, 10)"
      ]
     },
     "execution_count": 106,
     "metadata": {},
     "output_type": "execute_result"
    }
   ],
   "source": [
    "i, elem"
   ]
  },
  {
   "cell_type": "code",
   "execution_count": 107,
   "metadata": {},
   "outputs": [
    {
     "name": "stdout",
     "output_type": "stream",
     "text": [
      "1 10\n",
      "2 20\n"
     ]
    }
   ],
   "source": [
    "M=[[1,10],\n",
    "   [2,20]]\n",
    "for elem1, elem2 in M:\n",
    "    print(elem1, elem2)"
   ]
  },
  {
   "cell_type": "code",
   "execution_count": null,
   "metadata": {},
   "outputs": [
    {
     "name": "stdout",
     "output_type": "stream",
     "text": [
      "[1, 10]\n",
      "[2, 20]\n"
     ]
    }
   ],
   "source": [
    "for f in M:\n",
    "    print(f)"
   ]
  },
  {
   "cell_type": "code",
   "execution_count": 108,
   "metadata": {},
   "outputs": [
    {
     "ename": "NameError",
     "evalue": "name 'a' is not defined",
     "output_type": "error",
     "traceback": [
      "\u001b[1;31m---------------------------------------------------------------------------\u001b[0m",
      "\u001b[1;31mNameError\u001b[0m                                 Traceback (most recent call last)",
      "Cell \u001b[1;32mIn[108], line 1\u001b[0m\n\u001b[1;32m----> 1\u001b[0m \u001b[38;5;28mprint\u001b[39m(a)\n\u001b[0;32m      2\u001b[0m \u001b[38;5;28mprint\u001b[39m(b)\n",
      "\u001b[1;31mNameError\u001b[0m: name 'a' is not defined"
     ]
    }
   ],
   "source": [
    "print(a)\n",
    "print(b)"
   ]
  },
  {
   "cell_type": "code",
   "execution_count": 109,
   "metadata": {},
   "outputs": [
    {
     "name": "stdout",
     "output_type": "stream",
     "text": [
      "1 2 3\n",
      "4 5 6\n"
     ]
    }
   ],
   "source": [
    "M=[[1,2,3],\n",
    "   [4,5,6]]\n",
    "for x,y,z in M: # M tiene 2 filas, con 3 elementos cada fila\n",
    "    # x, y, z= [1,2,3] (1º)\n",
    "    print(x,y,z)"
   ]
  },
  {
   "cell_type": "code",
   "execution_count": 110,
   "metadata": {},
   "outputs": [
    {
     "name": "stdout",
     "output_type": "stream",
     "text": [
      "0\n",
      "[1, 2, 3]\n",
      "1\n",
      "[4, 5, 6]\n"
     ]
    }
   ],
   "source": [
    "for i, X in enumerate(M): # enumerate devuelve una tupla con el indice y la fila\n",
    "    print(i)\n",
    "    print(X)"
   ]
  },
  {
   "cell_type": "markdown",
   "metadata": {},
   "source": [
    "# ZIP"
   ]
  },
  {
   "cell_type": "code",
   "execution_count": 112,
   "metadata": {},
   "outputs": [],
   "source": [
    "L1 = [9,   3,   6,   2,   4]\n",
    "L2 = [100, 200, 400, 500, 300]"
   ]
  },
  {
   "cell_type": "code",
   "execution_count": 114,
   "metadata": {},
   "outputs": [
    {
     "name": "stdout",
     "output_type": "stream",
     "text": [
      "9 100\n",
      "3 200\n",
      "6 400\n",
      "2 500\n",
      "4 300\n"
     ]
    }
   ],
   "source": [
    "for x, y in zip(L1,L2):\n",
    "    print(x, y)"
   ]
  },
  {
   "cell_type": "code",
   "execution_count": null,
   "metadata": {},
   "outputs": [
    {
     "name": "stdout",
     "output_type": "stream",
     "text": [
      "(9, 100, 9, 100, 9, 100)\n",
      "(3, 200, 3, 200, 3, 200)\n",
      "(6, 400, 6, 400, 6, 400)\n",
      "(2, 500, 2, 500, 2, 500)\n",
      "(4, 300, 4, 300, 4, 300)\n"
     ]
    }
   ],
   "source": [
    "for x in zip(L1,L2,L1,L2,L1,L2):\n",
    "    print(x)"
   ]
  },
  {
   "cell_type": "code",
   "execution_count": 117,
   "metadata": {},
   "outputs": [
    {
     "data": {
      "text/plain": [
       "[[1, 2, 3], [4, 5, 6]]"
      ]
     },
     "execution_count": 117,
     "metadata": {},
     "output_type": "execute_result"
    }
   ],
   "source": [
    "M"
   ]
  },
  {
   "cell_type": "code",
   "execution_count": 118,
   "metadata": {},
   "outputs": [
    {
     "name": "stdout",
     "output_type": "stream",
     "text": [
      "([1, 2, 3],)\n",
      "([4, 5, 6],)\n"
     ]
    }
   ],
   "source": [
    "for x in zip(M): # una matriz es una lista de listas\n",
    "    print(x)"
   ]
  },
  {
   "cell_type": "code",
   "execution_count": null,
   "metadata": {},
   "outputs": [
    {
     "name": "stdout",
     "output_type": "stream",
     "text": [
      "5\n",
      "7\n",
      "9\n"
     ]
    }
   ],
   "source": [
    "v=[1,2,3]\n",
    "w=[4,5,6]\n",
    "for x, y in zip(v,w):\n",
    "    print(x+y)"
   ]
  },
  {
   "cell_type": "code",
   "execution_count": 119,
   "metadata": {},
   "outputs": [
    {
     "data": {
      "text/plain": [
       "[2, 2, 5]"
      ]
     },
     "execution_count": 119,
     "metadata": {},
     "output_type": "execute_result"
    }
   ],
   "source": [
    "suma_vec = [x + y for x, y in zip(v,w)]\n",
    "suma_vec"
   ]
  },
  {
   "cell_type": "markdown",
   "metadata": {},
   "source": [
    "### Extra: Unpackage * = Desempacar un iterable en diferentes argumentos"
   ]
  },
  {
   "cell_type": "code",
   "execution_count": 120,
   "metadata": {},
   "outputs": [],
   "source": [
    "x, y= M"
   ]
  },
  {
   "cell_type": "code",
   "execution_count": 124,
   "metadata": {},
   "outputs": [
    {
     "data": {
      "text/plain": [
       "[1, 2, 3]"
      ]
     },
     "execution_count": 124,
     "metadata": {},
     "output_type": "execute_result"
    }
   ],
   "source": [
    "x"
   ]
  },
  {
   "cell_type": "code",
   "execution_count": 126,
   "metadata": {},
   "outputs": [
    {
     "name": "stdout",
     "output_type": "stream",
     "text": [
      "[1, 2, 3]-[4, 5, 6]\n"
     ]
    }
   ],
   "source": [
    "print(*M, sep=\"-\")\n",
    "# tengo una lista de listas\n",
    "# * separa esas listas como si fueran diferentes argumentos"
   ]
  },
  {
   "cell_type": "code",
   "execution_count": 127,
   "metadata": {},
   "outputs": [
    {
     "name": "stdout",
     "output_type": "stream",
     "text": [
      "[1, 2, 3]-[4, 5, 6]\n"
     ]
    }
   ],
   "source": [
    "print(x , y, sep=\"-\")"
   ]
  },
  {
   "cell_type": "code",
   "execution_count": 128,
   "metadata": {},
   "outputs": [
    {
     "name": "stdout",
     "output_type": "stream",
     "text": [
      "[1, 2, 3]-[4, 5, 6]\n"
     ]
    }
   ],
   "source": [
    "print([1, 2, 3],[4, 5, 6] , sep = \"-\")"
   ]
  },
  {
   "cell_type": "code",
   "execution_count": 129,
   "metadata": {},
   "outputs": [
    {
     "name": "stdout",
     "output_type": "stream",
     "text": [
      "1 2 3 4 5 6\n"
     ]
    }
   ],
   "source": [
    "print(*[1,2,3,4,5,6])"
   ]
  },
  {
   "cell_type": "code",
   "execution_count": 131,
   "metadata": {},
   "outputs": [
    {
     "name": "stdout",
     "output_type": "stream",
     "text": [
      "1-2-3-4-5-6\n"
     ]
    }
   ],
   "source": [
    "print(1,2,3,4,5,6, sep = \"-\")"
   ]
  },
  {
   "cell_type": "code",
   "execution_count": 133,
   "metadata": {},
   "outputs": [
    {
     "name": "stdout",
     "output_type": "stream",
     "text": [
      "1 2 3\n"
     ]
    }
   ],
   "source": [
    "print(*[1,2,3])"
   ]
  },
  {
   "cell_type": "code",
   "execution_count": 134,
   "metadata": {},
   "outputs": [],
   "source": [
    "M= [[1, 2, 3], [4, 5, 6], [0,0,0]]"
   ]
  },
  {
   "cell_type": "code",
   "execution_count": 135,
   "metadata": {},
   "outputs": [],
   "source": [
    "l1,l2,l3=[[1, 2, 3], [4, 5, 6], [0,0,0]]"
   ]
  },
  {
   "cell_type": "code",
   "execution_count": 136,
   "metadata": {},
   "outputs": [
    {
     "data": {
      "text/plain": [
       "[1, 2, 3]"
      ]
     },
     "execution_count": 136,
     "metadata": {},
     "output_type": "execute_result"
    }
   ],
   "source": [
    "l1"
   ]
  },
  {
   "cell_type": "code",
   "execution_count": 139,
   "metadata": {},
   "outputs": [
    {
     "name": "stdout",
     "output_type": "stream",
     "text": [
      "(1, 4, 0)\n",
      "(2, 5, 0)\n",
      "(3, 6, 0)\n"
     ]
    }
   ],
   "source": [
    "for x in zip(l1,l2,l3): # trata la matriz(lista de listas), como diferentes listas\n",
    "    print(x)"
   ]
  },
  {
   "cell_type": "code",
   "execution_count": null,
   "metadata": {},
   "outputs": [
    {
     "name": "stdout",
     "output_type": "stream",
     "text": [
      "(1, 4, 0)\n",
      "(2, 5, 0)\n",
      "(3, 6, 0)\n"
     ]
    }
   ],
   "source": [
    "for x in zip(*M): # trata la matriz(lista de listas), como diferentes listas\n",
    "    print(x)"
   ]
  },
  {
   "cell_type": "code",
   "execution_count": null,
   "metadata": {},
   "outputs": [
    {
     "data": {
      "text/plain": [
       "[(1, 4), (2, 5), (3, 6)]"
      ]
     },
     "execution_count": 144,
     "metadata": {},
     "output_type": "execute_result"
    }
   ],
   "source": [
    "[x for x in zip(*M)]"
   ]
  },
  {
   "cell_type": "code",
   "execution_count": null,
   "metadata": {},
   "outputs": [],
   "source": [
    "# Ejercicio: Haz la matriz transpuesta a partir del zip y comprehension lists"
   ]
  },
  {
   "cell_type": "code",
   "execution_count": null,
   "metadata": {},
   "outputs": [
    {
     "data": {
      "text/plain": [
       "[[1, 4], [2, 5], [3, 6]]"
      ]
     },
     "execution_count": 105,
     "metadata": {},
     "output_type": "execute_result"
    }
   ],
   "source": [
    "MT"
   ]
  },
  {
   "cell_type": "code",
   "execution_count": null,
   "metadata": {},
   "outputs": [
    {
     "name": "stdout",
     "output_type": "stream",
     "text": [
      "0 1 2 3 4\n",
      "0 1 2 3 4\n"
     ]
    }
   ],
   "source": [
    "print(*range(5))\n",
    "print(0,1,2,3,4)"
   ]
  },
  {
   "cell_type": "code",
   "execution_count": null,
   "metadata": {},
   "outputs": [
    {
     "name": "stdout",
     "output_type": "stream",
     "text": [
      "[0, 1, 2, 3, 4]\n",
      "[0, 1, 2, 3, 4]\n"
     ]
    }
   ],
   "source": [
    "print([*range(5)])\n",
    "print(list(range(5)))"
   ]
  }
 ],
 "metadata": {
  "kernelspec": {
   "display_name": "Python 3 (ipykernel)",
   "language": "python",
   "name": "python3"
  },
  "language_info": {
   "codemirror_mode": {
    "name": "ipython",
    "version": 3
   },
   "file_extension": ".py",
   "mimetype": "text/x-python",
   "name": "python",
   "nbconvert_exporter": "python",
   "pygments_lexer": "ipython3",
   "version": "3.11.7"
  }
 },
 "nbformat": 4,
 "nbformat_minor": 4
}
