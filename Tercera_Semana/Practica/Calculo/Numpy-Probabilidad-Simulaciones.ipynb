{
 "cells": [
  {
   "cell_type": "markdown",
   "id": "01b27d9e",
   "metadata": {},
   "source": [
    "# Probabilidad y numpy\n",
    "En general no calculan las probabilidades de una distribución, generan resultados aleatorios como si fuesen experimentos"
   ]
  },
  {
   "cell_type": "code",
   "execution_count": 1,
   "id": "c724fe22",
   "metadata": {},
   "outputs": [],
   "source": [
    "import numpy as np"
   ]
  },
  {
   "cell_type": "code",
   "execution_count": 2,
   "id": "ce14bf0d",
   "metadata": {},
   "outputs": [
    {
     "data": {
      "text/plain": [
       "array([0.22910464, 0.31533566, 0.44736828, 0.26713225, 0.4428126 ,\n",
       "       0.09214633, 0.05468114, 0.0537059 , 0.65275825, 0.62452008,\n",
       "       0.26120658, 0.71316686, 0.10002567, 0.05115216, 0.13041221,\n",
       "       0.40687006])"
      ]
     },
     "execution_count": 2,
     "metadata": {},
     "output_type": "execute_result"
    }
   ],
   "source": [
    "# Random functions\n",
    "# random() nos da muestras aleatorias entre 0 y 1\n",
    "np.random.random(16)"
   ]
  },
  {
   "cell_type": "code",
   "execution_count": 5,
   "id": "572bd161",
   "metadata": {},
   "outputs": [
    {
     "data": {
      "text/plain": [
       "array([[0.59901706, 0.12028016, 0.73266936, 0.75533353],\n",
       "       [0.88645245, 0.78534492, 0.19572044, 0.80520326],\n",
       "       [0.03002763, 0.06597563, 0.50864397, 0.94864214],\n",
       "       [0.18932454, 0.0845902 , 0.52193013, 0.94248559]])"
      ]
     },
     "execution_count": 5,
     "metadata": {},
     "output_type": "execute_result"
    }
   ],
   "source": [
    "np.random.random(16).reshape((4,4))"
   ]
  },
  {
   "cell_type": "code",
   "execution_count": 6,
   "id": "23b6f6e5",
   "metadata": {},
   "outputs": [
    {
     "data": {
      "text/plain": [
       "array([[0.73172292, 0.36207953, 0.42392455, 0.63380482],\n",
       "       [0.03316405, 0.15908815, 0.66391002, 0.66069522],\n",
       "       [0.17684107, 0.68519776, 0.89706175, 0.28475338],\n",
       "       [0.63897905, 0.46332552, 0.57356049, 0.41625947]])"
      ]
     },
     "execution_count": 6,
     "metadata": {},
     "output_type": "execute_result"
    }
   ],
   "source": [
    "np.random.random((4,4))"
   ]
  },
  {
   "cell_type": "code",
   "execution_count": 13,
   "id": "f947310e",
   "metadata": {},
   "outputs": [
    {
     "name": "stdout",
     "output_type": "stream",
     "text": [
      "[[ 8.55129962  9.46700529  8.81161142]\n",
      " [11.89822332 10.01242084 10.1639423 ]]\n"
     ]
    }
   ],
   "source": [
    "# normal nos da muestras aleatorias normales\n",
    "a = np.random.normal(loc=10, scale= 1, size=[2,3])\n",
    "print(a)"
   ]
  },
  {
   "cell_type": "code",
   "execution_count": 14,
   "id": "628c751b",
   "metadata": {},
   "outputs": [
    {
     "name": "stdout",
     "output_type": "stream",
     "text": [
      "[[5.20889178 5.1021172  4.61500137]\n",
      " [3.44539568 3.14033735 5.21915803]]\n"
     ]
    }
   ],
   "source": [
    "# normal nos da muestras aleatorias normales\n",
    "a = np.random.normal(loc=4, scale= 1, size=[2,3])\n",
    "print(a)"
   ]
  },
  {
   "cell_type": "code",
   "execution_count": 6,
   "id": "3318ec88",
   "metadata": {},
   "outputs": [
    {
     "data": {
      "text/plain": [
       "array([[-1.12502819, -1.46810476,  1.59256469],\n",
       "       [ 0.67894674,  2.07831278,  0.35939634],\n",
       "       [ 1.1314595 , -1.76275263,  0.67501166]])"
      ]
     },
     "execution_count": 6,
     "metadata": {},
     "output_type": "execute_result"
    }
   ],
   "source": [
    "A = np.random.normal(size=[3,3])\n",
    "A"
   ]
  },
  {
   "cell_type": "code",
   "execution_count": 22,
   "id": "3ca269af",
   "metadata": {},
   "outputs": [
    {
     "data": {
      "text/plain": [
       "array([[4, 4, 2],\n",
       "       [3, 6, 1],\n",
       "       [6, 3, 1],\n",
       "       [4, 6, 0],\n",
       "       [4, 5, 1]])"
      ]
     },
     "execution_count": 22,
     "metadata": {},
     "output_type": "execute_result"
    }
   ],
   "source": [
    "# multinomial\n",
    "# primer argumento n es el numero de veces que \"lanzas la moneda en cada experimento\"\n",
    "# los pvals son las probabilidades de cada evento\n",
    "# size es el numero de veces que hacemos el experimento\n",
    "np.random.multinomial(10, [0.5, 0.4,0.1], 5)"
   ]
  },
  {
   "cell_type": "code",
   "execution_count": 31,
   "id": "fe530367",
   "metadata": {},
   "outputs": [
    {
     "data": {
      "text/plain": [
       "array([[0.9244964 , 0.22625669, 0.41458689],\n",
       "       [0.1464867 , 0.52422688, 0.25890284],\n",
       "       [0.7736496 , 0.52044239, 0.57775725]])"
      ]
     },
     "execution_count": 31,
     "metadata": {},
     "output_type": "execute_result"
    }
   ],
   "source": [
    "# random sample\n",
    "np.random.sample((3,3)) # uniforme entre 0 y 1\n"
   ]
  },
  {
   "cell_type": "code",
   "execution_count": 29,
   "id": "02a4fd90",
   "metadata": {},
   "outputs": [
    {
     "data": {
      "image/png": "[encoded data removed]",
      "text/plain": [
       "<Figure size 640x480 with 1 Axes>"
      ]
     },
     "metadata": {},
     "output_type": "display_data"
    }
   ],
   "source": [
    "import matplotlib.pyplot as plt # paquete de visualización\n",
    "plt.hist(np.random.sample(100000))\n",
    "plt.show()"
   ]
  },
  {
   "cell_type": "code",
   "execution_count": 30,
   "id": "fb0ba412",
   "metadata": {},
   "outputs": [
    {
     "data": {
      "text/plain": [
       "array([[87, 92, 83, 64, 46],\n",
       "       [30, 98, 87, 75,  7],\n",
       "       [ 9, 33, 71, 14, 20],\n",
       "       [77, 82, 49,  3, 24],\n",
       "       [17, 24, 25,  9, 66]])"
      ]
     },
     "execution_count": 30,
     "metadata": {},
     "output_type": "execute_result"
    }
   ],
   "source": [
    "np.random.randint(0,100,(5,5))\n",
    "# desde 0 a 100\n",
    "# una matriz de 5x5"
   ]
  },
  {
   "cell_type": "code",
   "execution_count": 13,
   "id": "fb3fac5b",
   "metadata": {},
   "outputs": [
    {
     "data": {
      "text/plain": [
       "array([82, 30, 64,  4, 81, 45, 36, 92, 62, 39])"
      ]
     },
     "execution_count": 13,
     "metadata": {},
     "output_type": "execute_result"
    }
   ],
   "source": [
    "np.random.randint(0,100,10)"
   ]
  },
  {
   "cell_type": "code",
   "execution_count": 45,
   "id": "5cf650d7",
   "metadata": {},
   "outputs": [],
   "source": [
    "# random_integers devuelve enteros ditribuidos uniformemente\n",
    "# Lanza un dado de 6 caras 1M de veces y mira cuantas veces cae 1\n",
    "\n",
    "def lanzar_dado(num):\n",
    "    return np.random.randint(1,7,num) == 1\n",
    "    "
   ]
  },
  {
   "cell_type": "code",
   "execution_count": 51,
   "id": "c5d8976e",
   "metadata": {},
   "outputs": [
    {
     "name": "stdout",
     "output_type": "stream",
     "text": [
      "0.167547\n"
     ]
    }
   ],
   "source": [
    "print((lanzar_dado(10**6)).mean())\n",
    "# devuelvo un array de trues o false si son o no uno y mean hace la media"
   ]
  },
  {
   "cell_type": "code",
   "execution_count": 52,
   "id": "8cc16874",
   "metadata": {},
   "outputs": [
    {
     "data": {
      "text/plain": [
       "array([-1,  2, -7, -3, -1,  7, -6,  8, 17,  0])"
      ]
     },
     "execution_count": 52,
     "metadata": {},
     "output_type": "execute_result"
    }
   ],
   "source": [
    "a = np.random.randint(-10,20,10)\n",
    "a"
   ]
  },
  {
   "cell_type": "code",
   "execution_count": 57,
   "id": "f76649ac",
   "metadata": {},
   "outputs": [
    {
     "data": {
      "text/plain": [
       "array([-5,  1])"
      ]
     },
     "execution_count": 57,
     "metadata": {},
     "output_type": "execute_result"
    }
   ],
   "source": [
    "# semilla fijada => mismos resultados\n",
    "np.random.seed(1)\n",
    "np.random.randint(-10,20,2)"
   ]
  },
  {
   "cell_type": "code",
   "execution_count": 59,
   "id": "725da0e2",
   "metadata": {
    "scrolled": true
   },
   "outputs": [
    {
     "data": {
      "image/png": "[encoded data removed]",
      "text/plain": [
       "<Figure size 640x480 with 1 Axes>"
      ]
     },
     "metadata": {},
     "output_type": "display_data"
    }
   ],
   "source": [
    "from matplotlib import pyplot as plt \n",
    "# np.repeat\n",
    "# normal plot\n",
    "# mu o media\n",
    "# sigma es la variancia\n",
    "mu, sigma = 2, 0.5\n",
    "# v = np.random.normal(mu, sigma, 100000)\n",
    "v = np.random.sample(1000000)\n",
    "w = np.random.sample(1000000)\n",
    "u = np.random.sample(1000000)\n",
    "t = np.random.sample(1000000)\n",
    "plt.hist(v+w+u+t, bins=1000, density = True)\n",
    "# v is the np.array\n",
    "# bins are the number of dimensions\n",
    "# density \n",
    "plt.show()"
   ]
  },
  {
   "cell_type": "markdown",
   "id": "3204980e",
   "metadata": {},
   "source": [
    "### Aqui parece que la suma de 4 variables aleatorias uniformes se parece mucho a una normal\n",
    "\n",
    "### Este resultado se confirma para cualquier suma de variables aleatorias que sean iguales. Es conocido como el Teorema Central del Limite.\n",
    "\n",
    "https://es.wikipedia.org/wiki/Teorema_del_l%C3%ADmite_central"
   ]
  },
  {
   "cell_type": "markdown",
   "id": "e80a7647",
   "metadata": {},
   "source": [
    "# Simulaciones y experimentos"
   ]
  },
  {
   "cell_type": "code",
   "execution_count": 60,
   "id": "1b1254a3",
   "metadata": {},
   "outputs": [],
   "source": [
    "import numpy as np\n",
    "import random as r"
   ]
  },
  {
   "cell_type": "code",
   "execution_count": 68,
   "id": "94b8df53",
   "metadata": {},
   "outputs": [
    {
     "data": {
      "text/plain": [
       "0"
      ]
     },
     "execution_count": 68,
     "metadata": {},
     "output_type": "execute_result"
    }
   ],
   "source": [
    "np.random.seed(2)\n",
    "np.random.randint(3)"
   ]
  },
  {
   "cell_type": "code",
   "execution_count": 74,
   "id": "41db3eee",
   "metadata": {},
   "outputs": [
    {
     "data": {
      "text/plain": [
       "'B'"
      ]
     },
     "execution_count": 74,
     "metadata": {},
     "output_type": "execute_result"
    }
   ],
   "source": [
    "r.choice(\"FFBBB\")"
   ]
  },
  {
   "cell_type": "code",
   "execution_count": 76,
   "id": "586ba5c1",
   "metadata": {},
   "outputs": [
    {
     "data": {
      "text/plain": [
       "235"
      ]
     },
     "execution_count": 76,
     "metadata": {},
     "output_type": "execute_result"
    }
   ],
   "source": [
    "np.random.seed(1) # genera un numero \"aleatorio\" apartir de la posicion interna 1\n",
    "np.random.randint(10000)"
   ]
  },
  {
   "cell_type": "markdown",
   "id": "8dac4dfc",
   "metadata": {},
   "source": [
    "### Tenemos 3 cajas: \n",
    "+ Una con 4 bombillas fundidas y 6 buenas\n",
    "+ Una con 1 bombillas fundidas y 5 buenas\n",
    "+ Una con 3 bombillas fundidas y 5 buenas\n",
    "\n",
    "Cual es la probabilidad de escoger una bombilla fundida?"
   ]
  },
  {
   "cell_type": "code",
   "execution_count": 77,
   "id": "97c40766",
   "metadata": {},
   "outputs": [],
   "source": [
    "def experimento_cajas():\n",
    "    caja=np.random.randint(3) # equiprobables\n",
    "    if caja == 0:\n",
    "        res=r.choice(\"FFFFBBBBBB\")\n",
    "    if caja ==1:\n",
    "        res=r.choice(\"FBBBBB\")\n",
    "    if caja ==2:\n",
    "        res=r.choice(\"FFFBBBBB\")\n",
    "    return(res)"
   ]
  },
  {
   "cell_type": "code",
   "execution_count": 86,
   "id": "4cc7fa64",
   "metadata": {},
   "outputs": [
    {
     "data": {
      "text/plain": [
       "'B'"
      ]
     },
     "execution_count": 86,
     "metadata": {},
     "output_type": "execute_result"
    }
   ],
   "source": [
    "experimento_cajas()"
   ]
  },
  {
   "cell_type": "code",
   "execution_count": 87,
   "id": "13a7c61a",
   "metadata": {},
   "outputs": [],
   "source": [
    "n=1000000\n",
    "experimentos=[experimento_cajas() for i in range(n)]"
   ]
  },
  {
   "cell_type": "code",
   "execution_count": 88,
   "id": "44a4253f",
   "metadata": {},
   "outputs": [
    {
     "data": {
      "text/plain": [
       "['F', 'B', 'F', 'B', 'F']"
      ]
     },
     "execution_count": 88,
     "metadata": {},
     "output_type": "execute_result"
    }
   ],
   "source": [
    "experimentos[0:5]"
   ]
  },
  {
   "cell_type": "code",
   "execution_count": 89,
   "id": "d39125d6",
   "metadata": {},
   "outputs": [],
   "source": [
    "casos_fundidos = [x == \"F\" for x in experimentos]"
   ]
  },
  {
   "cell_type": "code",
   "execution_count": 90,
   "id": "57392da1",
   "metadata": {},
   "outputs": [
    {
     "data": {
      "text/plain": [
       "[True, False, True, False, True]"
      ]
     },
     "execution_count": 90,
     "metadata": {},
     "output_type": "execute_result"
    }
   ],
   "source": [
    "casos_fundidos[0:5]"
   ]
  },
  {
   "cell_type": "code",
   "execution_count": 91,
   "id": "88c458b8",
   "metadata": {},
   "outputs": [
    {
     "data": {
      "text/plain": [
       "0.314375"
      ]
     },
     "execution_count": 91,
     "metadata": {},
     "output_type": "execute_result"
    }
   ],
   "source": [
    "np.mean(casos_fundidos) # experimental"
   ]
  },
  {
   "cell_type": "code",
   "execution_count": 92,
   "id": "355a84b8",
   "metadata": {},
   "outputs": [
    {
     "data": {
      "text/plain": [
       "0.3138888888888889"
      ]
     },
     "execution_count": 92,
     "metadata": {},
     "output_type": "execute_result"
    }
   ],
   "source": [
    "(1/3)*(4/10+1/6+3/8) # teorica\n",
    "#P(F|C1)*P(C1)+P(F|C2)*P(C2)+P(F|C3)*P(C3)=P(C)*(P(F|C1)+P(F|C2)+P(F|C3))"
   ]
  },
  {
   "cell_type": "markdown",
   "id": "2e6af32d",
   "metadata": {},
   "source": [
    "### Tenemos un grupo de k personas, cual es la probabilidad de que al menos 2 coincidan en el cumpleaños"
   ]
  },
  {
   "cell_type": "code",
   "execution_count": 93,
   "id": "15f49d7d",
   "metadata": {},
   "outputs": [
    {
     "data": {
      "text/plain": [
       "array([3, 6, 9, 4, 5])"
      ]
     },
     "execution_count": 93,
     "metadata": {},
     "output_type": "execute_result"
    }
   ],
   "source": [
    "np.random.randint(1, 10, 5)\n",
    "# recordemos esta función"
   ]
  },
  {
   "cell_type": "code",
   "execution_count": 94,
   "id": "59cedc11",
   "metadata": {},
   "outputs": [],
   "source": [
    "# Funcion que devuelva un vector con los numeros de los días donde cada persona cumple años\n",
    "def cumpleaños(k=100):\n",
    "    return np.random.randint(1, 366, k)"
   ]
  },
  {
   "cell_type": "code",
   "execution_count": 95,
   "id": "f1e62d2b",
   "metadata": {},
   "outputs": [
    {
     "data": {
      "text/plain": [
       "array([ 27,  96,  99, 113, 294, 353, 194,  30, 335, 236])"
      ]
     },
     "execution_count": 95,
     "metadata": {},
     "output_type": "execute_result"
    }
   ],
   "source": [
    "cumpleaños(10)"
   ]
  },
  {
   "cell_type": "code",
   "execution_count": 96,
   "id": "f3635b05",
   "metadata": {},
   "outputs": [
    {
     "data": {
      "text/plain": [
       "{1, 2, 3, 4}"
      ]
     },
     "execution_count": 96,
     "metadata": {},
     "output_type": "execute_result"
    }
   ],
   "source": [
    "L=[1,2,3,4,3]\n",
    "set(L)"
   ]
  },
  {
   "cell_type": "code",
   "execution_count": 119,
   "id": "41467793",
   "metadata": {},
   "outputs": [],
   "source": [
    "# funcion que dado un vector, devuelva True si hay almenos 2 que coinciden\n",
    "def hay_coincidencia(cumpleaños, k):\n",
    "    cumples = cumpleaños(k)\n",
    "    return len(set(cumples)) < len(cumples)\n",
    "        "
   ]
  },
  {
   "cell_type": "code",
   "execution_count": 146,
   "id": "fa1f4fdd",
   "metadata": {},
   "outputs": [
    {
     "data": {
      "text/plain": [
       "0.57"
      ]
     },
     "execution_count": 146,
     "metadata": {},
     "output_type": "execute_result"
    }
   ],
   "source": [
    "# haz N pruevas para un grupo de k personas, te dará una lista de booleanos, \n",
    "# después utiliza la función np.mean para sacar la media de esta lista\n",
    "N=100\n",
    "k=23\n",
    "L = []\n",
    "for i in range(N):\n",
    "    L.append(hay_coincidencia(cumpleaños, k))\n",
    "L = np.array(L)\n",
    "L.mean()"
   ]
  },
  {
   "cell_type": "code",
   "execution_count": 147,
   "id": "a0d4fcdf",
   "metadata": {},
   "outputs": [],
   "source": [
    "# funcion que dado un k (numero de personas en un grupo) y N (numero de experimentos) devuelva la proporcion de experimentos donde hay coincidencia\n",
    "def proporcion_coincidencia(k, N=10000):\n",
    "    L = []\n",
    "    for i in range(N):\n",
    "        L.append(hay_coincidencia(cumpleaños, k))\n",
    "    L = np.array(L)\n",
    "    return L.mean()"
   ]
  },
  {
   "cell_type": "code",
   "execution_count": 149,
   "id": "67cd7e7d",
   "metadata": {},
   "outputs": [
    {
     "data": {
      "text/plain": [
       "0.51"
      ]
     },
     "execution_count": 149,
     "metadata": {},
     "output_type": "execute_result"
    }
   ],
   "source": [
    "proporcion_coincidencia(23)"
   ]
  },
  {
   "cell_type": "markdown",
   "id": "8615de13",
   "metadata": {},
   "source": [
    "### Ahora vamos a provarlo para diferentes K"
   ]
  },
  {
   "cell_type": "code",
   "execution_count": 152,
   "id": "a983186f",
   "metadata": {},
   "outputs": [],
   "source": [
    "kmax=100\n",
    "resultados= [proporcion_coincidencia(k) for _ in range(1,kmax+1)]"
   ]
  },
  {
   "cell_type": "code",
   "execution_count": 151,
   "id": "8278567a",
   "metadata": {},
   "outputs": [
    {
     "data": {
      "image/png": "[encoded data removed]",
      "text/plain": [
       "<Figure size 640x480 with 1 Axes>"
      ]
     },
     "metadata": {},
     "output_type": "display_data"
    }
   ],
   "source": [
    "import matplotlib.pyplot as plt\n",
    "plt.bar(range(1,kmax+1), resultados)\n",
    "plt.show()"
   ]
  },
  {
   "cell_type": "code",
   "execution_count": null,
   "id": "4edc4193",
   "metadata": {},
   "outputs": [],
   "source": []
  },
  {
   "cell_type": "code",
   "execution_count": null,
   "id": "892a19e7",
   "metadata": {},
   "outputs": [],
   "source": []
  },
  {
   "cell_type": "code",
   "execution_count": null,
   "id": "b845dd8d",
   "metadata": {},
   "outputs": [],
   "source": []
  },
  {
   "cell_type": "code",
   "execution_count": null,
   "id": "10ef934c",
   "metadata": {},
   "outputs": [],
   "source": []
  }
 ],
 "metadata": {
  "kernelspec": {
   "display_name": "Python 3 (ipykernel)",
   "language": "python",
   "name": "python3"
  },
  "language_info": {
   "codemirror_mode": {
    "name": "ipython",
    "version": 3
   },
   "file_extension": ".py",
   "mimetype": "text/x-python",
   "name": "python",
   "nbconvert_exporter": "python",
   "pygments_lexer": "ipython3",
   "version": "3.11.7"
  }
 },
 "nbformat": 4,
 "nbformat_minor": 5
}
