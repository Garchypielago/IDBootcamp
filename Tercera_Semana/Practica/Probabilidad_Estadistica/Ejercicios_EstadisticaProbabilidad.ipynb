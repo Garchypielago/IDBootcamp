{
 "cells": [
  {
   "cell_type": "code",
   "execution_count": 82,
   "metadata": {},
   "outputs": [],
   "source": [
    "import random\n",
    "import numpy as np"
   ]
  },
  {
   "cell_type": "markdown",
   "metadata": {},
   "source": [
    "* Un jugador lanza un dado corriente. Si sale 1 o número primo, gana tantos cientos de\n",
    "euros como marca el dado, pero si no sale número primo, pierde tantos cientos de euros\n",
    "como marca el dado. Determinar la función de probabilidad y la esperanza matemática\n",
    "del juego. Simular este ejercicio en python."
   ]
  },
  {
   "cell_type": "code",
   "execution_count": 80,
   "metadata": {},
   "outputs": [],
   "source": [
    "def ej7_lista(n):\n",
    "    L=[]\n",
    "    \n",
    "    for i in range(n):\n",
    "        x = random.randint(1,6)\n",
    "        if x in (1,2,3,5):\n",
    "            L.append(x*100) \n",
    "        else:\n",
    "            L.append(x*-100) \n",
    "\n",
    "    return L\n",
    "\n",
    "def ej7media(n):\n",
    "    suma = 0\n",
    "    \n",
    "    for i in range(n):\n",
    "        x = random.randint(1,6)\n",
    "        if x in (1,2,3,5):\n",
    "            suma += x*100\n",
    "        else:\n",
    "            suma += x*-100\n",
    "\n",
    "    return round(suma/n,2)\n",
    "\n",
    "def ej7varianza(n):\n",
    "    media = ej7media(n)\n",
    "    suma = 0\n",
    "\n",
    "    for i in range(n):\n",
    "        x = random.randint(1,6)\n",
    "        if x in (1,2,3,5):\n",
    "            suma += (x*100 - media)**2\n",
    "        else:\n",
    "            suma += (x*-100 - media)**2\n",
    "\n",
    "    return round(suma/n,2)\n",
    "\n",
    "def ej7desviacio_estandar(n):\n",
    "    media = ej7media(n)\n",
    "    suma = 0\n",
    "\n",
    "    for i in range(n):\n",
    "        x = random.randint(1,6)\n",
    "        if x in (1,2,3,5):\n",
    "            suma += (x*100 - media)**2\n",
    "        else:\n",
    "            suma += (x*-100 - media)**2\n",
    "\n",
    "    return round((suma/(n-1))**(1/2),2)\n",
    "\n",
    "\n",
    "    "
   ]
  },
  {
   "cell_type": "code",
   "execution_count": 100,
   "metadata": {},
   "outputs": [
    {
     "data": {
      "text/plain": [
       "16.719"
      ]
     },
     "execution_count": 100,
     "metadata": {},
     "output_type": "execute_result"
    }
   ],
   "source": [
    "L1 = ej7_lista(1000000)\n",
    "np.mean(L1)"
   ]
  },
  {
   "cell_type": "code",
   "execution_count": 101,
   "metadata": {},
   "outputs": [
    {
     "data": {
      "text/plain": [
       "151480.93503899992"
      ]
     },
     "execution_count": 101,
     "metadata": {},
     "output_type": "execute_result"
    }
   ],
   "source": [
    "np.var(L1)"
   ]
  },
  {
   "cell_type": "code",
   "execution_count": 102,
   "metadata": {},
   "outputs": [
    {
     "data": {
      "text/plain": [
       "389.205517739664"
      ]
     },
     "execution_count": 102,
     "metadata": {},
     "output_type": "execute_result"
    }
   ],
   "source": [
    "np.std(L1)"
   ]
  },
  {
   "cell_type": "code",
   "execution_count": 81,
   "metadata": {},
   "outputs": [
    {
     "name": "stdout",
     "output_type": "stream",
     "text": [
      "La media del ejercicio es: 16.65\n",
      "La varianza del ejercicio es: 151398.86\n",
      "La desviacion estandar del ejercicio es: 389.12\n"
     ]
    }
   ],
   "source": [
    "n = 10000000\n",
    "print(\"La media del ejercicio es:\",ej7media(n))\n",
    "print(\"La varianza del ejercicio es:\",ej7varianza(n))\n",
    "print(\"La desviacion estandar del ejercicio es:\",ej7desviacio_estandar(n))\n"
   ]
  },
  {
   "cell_type": "markdown",
   "metadata": {},
   "source": [
    "* En una asignatura universitaria de primero asisten a clase 100 de los 150 alumnos\n",
    "matriculados. Se sabe que aprueban con una probabilidad p los alumnos que asisten a\n",
    "clase y con una probabilidad q los que no asisten. Se elige un alumno al azar. Haz un\n",
    "script que en función de p y q calcule:\n",
    "a. La probabilidad de que haya aprobado.\n",
    "b. Si se sabe que el alumno ha suspendido, la probabilidad de que haya asistido a\n",
    "clase."
   ]
  },
  {
   "cell_type": "code",
   "execution_count": 90,
   "metadata": {},
   "outputs": [],
   "source": [
    "def ej_1_estudiantes(p, q):\n",
    "    apro = (p/100 * 100 + q/100 * 50) / 150\n",
    "    Napro = 1-apro\n",
    "    clase = 100/150\n",
    "    Nclase = 50/150\n",
    "\n",
    "    def apartadoB():\n",
    "        Napro_clase = ((100-p)/100)\n",
    "        return Napro_clase * clase / Napro\n",
    "    \n",
    "    return apro, apartadoB()"
   ]
  },
  {
   "cell_type": "code",
   "execution_count": 91,
   "metadata": {},
   "outputs": [
    {
     "name": "stdout",
     "output_type": "stream",
     "text": [
      "a) 0.7 \n",
      "b) 0.22222222222222218\n"
     ]
    }
   ],
   "source": [
    "x,y = ej_1_estudiantes(90,30)\n",
    "print(\"a)\", x,\"\\nb)\",y)"
   ]
  },
  {
   "cell_type": "markdown",
   "metadata": {},
   "source": [
    "* Una bolsa contiene n bolas negras, b bolas blancas, r bolas rojas y v bolas verdes. Se\n",
    "extrae una bola de la bolsa, describe el espacio muestral y calcula la probabilidad de:\n",
    "a. La bola es de color rojo.\n",
    "b. La bola no es negra.\n",
    "c. La bola es blanca o verde"
   ]
  },
  {
   "cell_type": "code",
   "execution_count": 95,
   "metadata": {},
   "outputs": [],
   "source": [
    "def ej_2_bolas(n,b,r,v):\n",
    "    Total = n+b+r+v\n",
    "\n",
    "    def _a():\n",
    "        return r/Total\n",
    "    def _b():\n",
    "        return (Total-n)/Total\n",
    "    def _c():\n",
    "        return (b+v)/Total\n",
    "    \n",
    "    return _a(),_b(),_c()"
   ]
  },
  {
   "cell_type": "code",
   "execution_count": 96,
   "metadata": {},
   "outputs": [
    {
     "name": "stdout",
     "output_type": "stream",
     "text": [
      "a) 0.2857142857142857 \n",
      "b) 0.8571428571428571 \n",
      "c) 0.5714285714285714\n"
     ]
    }
   ],
   "source": [
    "a,b,c = ej_2_bolas(2,3,4,5)\n",
    "print(\"a)\", a,\"\\nb)\",b ,\"\\nc)\",c)"
   ]
  },
  {
   "cell_type": "markdown",
   "metadata": {},
   "source": [
    "* En una asignatura universitaria de primero asisten a clase n de los m alumnos\n",
    "matriculados. Se sabe que aprueban con una probabilidad p los alumnos que asisten a\n",
    "clase y con una probabilidad q los que no asisten. Se elige un alumno al azar. Haz un\n",
    "script que en función de p y q calcule:\n",
    "a. La probabilidad de que haya aprobado.\n",
    "b. Si se sabe que el alumno ha suspendido, la probabilidad de que haya asistido a\n",
    "clase."
   ]
  },
  {
   "cell_type": "code",
   "execution_count": 98,
   "metadata": {},
   "outputs": [],
   "source": [
    "def ej_3_estudiantes(n, m, p, q):\n",
    "    clase = n/m\n",
    "    Nclase = (m-n)/m\n",
    "    apro = (p/100 * n + q/100 * (m-n)) / m\n",
    "    Napro = 1-apro\n",
    "\n",
    "    def apartadoB():\n",
    "        Napro_clase = ((100-p)/100)\n",
    "        return Napro_clase * clase / Napro\n",
    "    \n",
    "    return apro, apartadoB()"
   ]
  },
  {
   "cell_type": "code",
   "execution_count": 99,
   "metadata": {},
   "outputs": [
    {
     "name": "stdout",
     "output_type": "stream",
     "text": [
      "a) 0.7 \n",
      "b) 0.22222222222222218\n"
     ]
    }
   ],
   "source": [
    "x,y = ej_3_estudiantes(100, 150, 90,30)\n",
    "print(\"a)\", x,\"\\nb)\",y)"
   ]
  }
 ],
 "metadata": {
  "kernelspec": {
   "display_name": "base",
   "language": "python",
   "name": "python3"
  },
  "language_info": {
   "codemirror_mode": {
    "name": "ipython",
    "version": 3
   },
   "file_extension": ".py",
   "mimetype": "text/x-python",
   "name": "python",
   "nbconvert_exporter": "python",
   "pygments_lexer": "ipython3",
   "version": "3.11.7"
  }
 },
 "nbformat": 4,
 "nbformat_minor": 2
}
