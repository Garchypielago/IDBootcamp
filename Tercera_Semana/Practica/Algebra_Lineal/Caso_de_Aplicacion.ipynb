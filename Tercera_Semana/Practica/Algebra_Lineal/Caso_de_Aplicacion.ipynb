{
 "cells": [
  {
   "cell_type": "code",
   "execution_count": 3,
   "metadata": {},
   "outputs": [],
   "source": [
    "import numpy as np\n",
    "\n"
   ]
  },
  {
   "cell_type": "code",
   "execution_count": 24,
   "metadata": {},
   "outputs": [
    {
     "name": "stdout",
     "output_type": "stream",
     "text": [
      "Autovalores: [ 36.49218941 100.          68.50781059]\n",
      "Autovectores:\n",
      "[[ 0.92571056 -0.57735027  0.40303394]\n",
      " [-0.155288   -0.57735027 -0.48051719]\n",
      " [-0.34488491 -0.57735027  0.77888823]]\n"
     ]
    }
   ],
   "source": [
    "# (A- lI)*v = 0\n",
    "A = [[50,25,25],[10,85,5],[15,15,70]]\n",
    "\n",
    "aval, avec = np.linalg.eig(A)\n",
    "\n",
    "# Mostrar los resultados\n",
    "print(\"Autovalores:\", aval)\n",
    "print(\"Autovectores:\")\n",
    "print(avec)\n"
   ]
  },
  {
   "cell_type": "code",
   "execution_count": 27,
   "metadata": {},
   "outputs": [
    {
     "name": "stdout",
     "output_type": "stream",
     "text": [
      "Autovalores: [ 36.49218941 100.          68.50781059]\n",
      "Autovectores:\n",
      "[[ 0.79524162 -0.29138576  0.11292499]\n",
      " [-0.23733022 -0.87415728 -0.75677383]\n",
      " [-0.5579114  -0.38851434  0.64384884]]\n"
     ]
    }
   ],
   "source": [
    "# (A- lI)*v = 0\n",
    "A = [[50,10,15],[25,85,15],[25,5,70]]\n",
    "\n",
    "aval, avec = np.linalg.eig(A)\n",
    "\n",
    "# Mostrar los resultados\n",
    "print(\"Autovalores:\", aval)\n",
    "print(\"Autovectores:\")\n",
    "print(avec)\n"
   ]
  },
  {
   "cell_type": "code",
   "execution_count": null,
   "metadata": {},
   "outputs": [],
   "source": [
    "# suma columna, 1,50.. 0,29"
   ]
  },
  {
   "cell_type": "code",
   "execution_count": 44,
   "metadata": {},
   "outputs": [
    {
     "name": "stdout",
     "output_type": "stream",
     "text": [
      "En la normalizacion, A tendra un 18.75 % de la clientela\n",
      "En la normalizacion, B tendra un 56.25 % de la clientela\n",
      "En la normalizacion, C tendra un 25.0 % de la clientela\n"
     ]
    }
   ],
   "source": [
    "suma = np.sum(avec[:, 1]) #suma de los autovalores del autovector\n",
    "suma2 = np.sum(avec[:, 1]/suma) # total de los pocentajes ()=)1\n",
    "\n",
    "for i,em in zip(range(len(avec[:,1])),[\"A\",\"B\",\"C\"]):\n",
    "    e = avec[:,1][i] / suma\n",
    "    print(\"En la normalizacion,\",em,\"tendra un\",round(e*100,2),\"% de la clientela\")"
   ]
  }
 ],
 "metadata": {
  "kernelspec": {
   "display_name": "base",
   "language": "python",
   "name": "python3"
  },
  "language_info": {
   "codemirror_mode": {
    "name": "ipython",
    "version": 3
   },
   "file_extension": ".py",
   "mimetype": "text/x-python",
   "name": "python",
   "nbconvert_exporter": "python",
   "pygments_lexer": "ipython3",
   "version": "3.11.7"
  }
 },
 "nbformat": 4,
 "nbformat_minor": 2
}
