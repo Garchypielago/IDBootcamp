{
  "cells": [
    {
      "cell_type": "markdown",
      "metadata": {},
      "source": [
        "Carga el data set de Aerial Cactus Identification. Es un dataset de imágenes para\n",
        "identificar si en la imagen hay un cactus o no. Tendremos una carpeta con imágenes y\n",
        "un csv, vamos a transformar esas imágenes a un dataset. Posibles ideas:\n",
        "\n",
        "a. Lee con pandas el archivo train_cactus.csv. Que tiene este dataset? Para leer\n",
        "las imagenes hay que recorrer una columna del dataframe.\n",
        "\n",
        "b. Estudia el módulo image del módulo tensorflow.keras.utils. Utiliza la\n",
        "función load_img para cargar una imagen del dataset cualquiera.\n",
        "\n",
        "i. Del mismo módulo anterior estudia la función img_to_array.\n",
        "Transforma la imagen cargada en un array.\n",
        "\n",
        "c. Escala el array entre 0 y 1 dividiendo por 255.\n",
        "\n",
        "d. Creando diferentes listas, carga todas las imágenes en una lista de arrays."
      ]
    },
    {
      "cell_type": "code",
      "execution_count": 1,
      "metadata": {},
      "outputs": [],
      "source": [
        "import pandas as pd\n",
        "import tensorflow as tf \n",
        "import keras\n",
        "import numpy as np"
      ]
    },
    {
      "cell_type": "code",
      "execution_count": 2,
      "metadata": {},
      "outputs": [],
      "source": [
        "dt = pd.read_csv(\"train_cactus.csv\")"
      ]
    },
    {
      "cell_type": "code",
      "execution_count": 3,
      "metadata": {},
      "outputs": [
        {
          "name": "stdout",
          "output_type": "stream",
          "text": [
            "<class 'pandas.core.frame.DataFrame'>\n",
            "RangeIndex: 17500 entries, 0 to 17499\n",
            "Data columns (total 2 columns):\n",
            " #   Column      Non-Null Count  Dtype \n",
            "---  ------      --------------  ----- \n",
            " 0   id          17500 non-null  object\n",
            " 1   has_cactus  17500 non-null  int64 \n",
            "dtypes: int64(1), object(1)\n",
            "memory usage: 273.6+ KB\n"
          ]
        }
      ],
      "source": [
        "dt.info()"
      ]
    },
    {
      "cell_type": "code",
      "execution_count": 4,
      "metadata": {},
      "outputs": [
        {
          "data": {
            "text/html": [
              "<div>\n",
              "<style scoped>\n",
              "    .dataframe tbody tr th:only-of-type {\n",
              "        vertical-align: middle;\n",
              "    }\n",
              "\n",
              "    .dataframe tbody tr th {\n",
              "        vertical-align: top;\n",
              "    }\n",
              "\n",
              "    .dataframe thead th {\n",
              "        text-align: right;\n",
              "    }\n",
              "</style>\n",
              "<table border=\"1\" class=\"dataframe\">\n",
              "  <thead>\n",
              "    <tr style=\"text-align: right;\">\n",
              "      <th></th>\n",
              "      <th>id</th>\n",
              "      <th>has_cactus</th>\n",
              "    </tr>\n",
              "  </thead>\n",
              "  <tbody>\n",
              "    <tr>\n",
              "      <th>0</th>\n",
              "      <td>0004be2cfeaba1c0361d39e2b000257b.jpg</td>\n",
              "      <td>1</td>\n",
              "    </tr>\n",
              "    <tr>\n",
              "      <th>1</th>\n",
              "      <td>000c8a36845c0208e833c79c1bffedd1.jpg</td>\n",
              "      <td>1</td>\n",
              "    </tr>\n",
              "    <tr>\n",
              "      <th>2</th>\n",
              "      <td>000d1e9a533f62e55c289303b072733d.jpg</td>\n",
              "      <td>1</td>\n",
              "    </tr>\n",
              "    <tr>\n",
              "      <th>3</th>\n",
              "      <td>0011485b40695e9138e92d0b3fb55128.jpg</td>\n",
              "      <td>1</td>\n",
              "    </tr>\n",
              "    <tr>\n",
              "      <th>4</th>\n",
              "      <td>0014d7a11e90b62848904c1418fc8cf2.jpg</td>\n",
              "      <td>1</td>\n",
              "    </tr>\n",
              "  </tbody>\n",
              "</table>\n",
              "</div>"
            ],
            "text/plain": [
              "                                     id  has_cactus\n",
              "0  0004be2cfeaba1c0361d39e2b000257b.jpg           1\n",
              "1  000c8a36845c0208e833c79c1bffedd1.jpg           1\n",
              "2  000d1e9a533f62e55c289303b072733d.jpg           1\n",
              "3  0011485b40695e9138e92d0b3fb55128.jpg           1\n",
              "4  0014d7a11e90b62848904c1418fc8cf2.jpg           1"
            ]
          },
          "execution_count": 4,
          "metadata": {},
          "output_type": "execute_result"
        }
      ],
      "source": [
        "dt.head()"
      ]
    },
    {
      "cell_type": "code",
      "execution_count": 5,
      "metadata": {},
      "outputs": [
        {
          "name": "stdout",
          "output_type": "stream",
          "text": [
            "Cantidad de imágenes cargadas: 17500\n"
          ]
        }
      ],
      "source": [
        "imagenes = []\n",
        "\n",
        "for ima in dt.id:\n",
        "    image = keras.utils.load_img(f\"cactus/{ima}\")\n",
        "    input_arr = keras.utils.img_to_array(image)\n",
        "    input_arr = np.array(input_arr)/255  # Convert single image to a batch.\n",
        "    imagenes.append(input_arr)\n",
        "\n",
        "print(\"Cantidad de imágenes cargadas:\", len(imagenes))"
      ]
    },
    {
      "cell_type": "code",
      "execution_count": 6,
      "metadata": {},
      "outputs": [
        {
          "data": {
            "text/plain": [
              "array([1, 1, 1, ..., 1, 0, 1], dtype=int64)"
            ]
          },
          "execution_count": 6,
          "metadata": {},
          "output_type": "execute_result"
        }
      ],
      "source": [
        "escactus = dt.has_cactus.values\n",
        "escactus"
      ]
    },
    {
      "cell_type": "markdown",
      "metadata": {},
      "source": [
        "Crea una red neuronal con:\n",
        "\n",
        "a. 1 hidden layer convolucional y 32 neuronas y de tamaño 5x5.\n",
        "\n",
        "b. Aplica un Max Pooling 2x2, con padding = ‘same’.\n",
        "\n",
        "c. 1 hidden layer convolucional y 64 neuronas y de tamaño 3x3.\n",
        "\n",
        "d. Aplica un Max Pooling 2x2, con padding = ‘same’.\n",
        "\n",
        "e. 1 hidden layer convolucional y 64 neuronas y de tamaño 3x3.\n",
        "\n",
        "f. Aplica un Max Pooling 2x2, con strides = 2.\n",
        "\n",
        "g. Transforma los datos a un vector flattened.\n",
        "\n",
        "h. 1 hidden layer con 100 neuronas.\n",
        "\n",
        "i. 1 último layer que devuelva la probabilidad de que haya un cactus en la imagen.\n",
        "\n",
        "j. Que dimensiones tiene los inputs y outputs de cada layer?\n",
        "\n",
        "k. Entrena esta red neuronal.\n",
        "\n",
        "l. Qué métricas obtienes en el test_set?\n",
        "\n",
        "m. Haz un plot con la evolución por epoch de la performance del modelo.\n",
        "\n",
        "n. Repite el modelo añadiendo dropout y regularización, donde deberías añadir el\n",
        "dropout?\n",
        "\n",
        "o. Añade el batch normalization después de cada layer convolucional, utilizando\n",
        "model.add(BatchNormalization())"
      ]
    },
    {
      "cell_type": "code",
      "execution_count": 7,
      "metadata": {},
      "outputs": [],
      "source": [
        "import tensorflow as tf\n",
        "from tensorflow.keras.models import Sequential\n",
        "from tensorflow.keras.layers import Conv2D, MaxPooling2D, Flatten, Dense\n",
        "from tensorflow.keras.optimizers import Adam\n",
        "import matplotlib.pyplot as plt"
      ]
    },
    {
      "cell_type": "code",
      "execution_count": 8,
      "metadata": {},
      "outputs": [],
      "source": [
        "from sklearn.model_selection import train_test_split"
      ]
    },
    {
      "cell_type": "code",
      "execution_count": 9,
      "metadata": {},
      "outputs": [],
      "source": [
        "X = np.array(imagenes)\n",
        "y = np.array(escactus)\n",
        "\n",
        "X_train, X_test, y_train, y_test = train_test_split(X, y, test_size=0.2, random_state=42)"
      ]
    },
    {
      "cell_type": "code",
      "execution_count": 10,
      "metadata": {},
      "outputs": [
        {
          "name": "stdout",
          "output_type": "stream",
          "text": [
            "Epoch 1/5\n",
            "140/140 [==============================] - 33s 215ms/step - loss: 0.2090 - accuracy: 0.9258 - val_loss: 1.0629 - val_accuracy: 0.2746\n",
            "Epoch 2/5\n",
            "140/140 [==============================] - 29s 207ms/step - loss: 0.1064 - accuracy: 0.9596 - val_loss: 0.6261 - val_accuracy: 0.7780\n",
            "Epoch 3/5\n",
            "140/140 [==============================] - 33s 239ms/step - loss: 0.0870 - accuracy: 0.9674 - val_loss: 3.4308 - val_accuracy: 0.3386\n",
            "Epoch 4/5\n",
            "140/140 [==============================] - 31s 224ms/step - loss: 0.0731 - accuracy: 0.9729 - val_loss: 1.2991 - val_accuracy: 0.6529\n",
            "Epoch 5/5\n",
            "140/140 [==============================] - 29s 208ms/step - loss: 0.0661 - accuracy: 0.9761 - val_loss: 2.9724 - val_accuracy: 0.7737\n",
            "110/110 [==============================] - 5s 18ms/step - loss: 2.9724 - accuracy: 0.7737\n",
            "Accuracy en el conjunto de prueba: 0.7737143039703369\n"
          ]
        },
        {
          "data": {
            "image/png": "[encoded data removed]",
            "text/plain": [
              "<Figure size 640x480 with 1 Axes>"
            ]
          },
          "metadata": {},
          "output_type": "display_data"
        }
      ],
      "source": [
        "from tensorflow.keras.layers import Dropout\n",
        "from tensorflow.keras import regularizers\n",
        "from tensorflow.keras.layers import BatchNormalization\n",
        "\n",
        "# Inicializar el modelo\n",
        "model = Sequential()\n",
        "\n",
        "# Capa convolucional 1 + BatchNormalization + Dropout\n",
        "model.add(Conv2D(32, (5, 5), activation='relu', padding='same', input_shape=(32, 32, 3)))\n",
        "model.add(BatchNormalization())\n",
        "model.add(MaxPooling2D((2, 2), padding='same'))\n",
        "model.add(Dropout(0.25))  # Dropout después de la capa de MaxPooling\n",
        "\n",
        "# Capa convolucional 2 + BatchNormalization + Dropout\n",
        "model.add(Conv2D(64, (3, 3), activation='relu', padding='same'))\n",
        "model.add(BatchNormalization())\n",
        "model.add(MaxPooling2D((2, 2), padding='same'))\n",
        "model.add(Dropout(0.25))  # Dropout después de la capa de MaxPooling\n",
        "\n",
        "# Capa convolucional 3 + BatchNormalization + Dropout\n",
        "model.add(Conv2D(64, (3, 3), activation='relu'))\n",
        "model.add(BatchNormalization())\n",
        "model.add(MaxPooling2D((2, 2), strides=2))\n",
        "model.add(Dropout(0.25))  # Dropout después de la capa de MaxPooling\n",
        "\n",
        "# Flatten para convertir los datos a un vector\n",
        "model.add(Flatten())\n",
        "\n",
        "# Capa fully connected + Dropout\n",
        "model.add(Dense(100, activation='relu'))\n",
        "model.add(Dropout(0.5))  # Dropout antes de la capa de salida\n",
        "\n",
        "# Capa de salida con activación sigmoid para clasificación binaria\n",
        "model.add(Dense(1, activation='sigmoid'))\n",
        "\n",
        "# Compilar el modelo\n",
        "model.compile(optimizer='rmsprop', loss='binary_crossentropy', metrics=['accuracy'])\n",
        "\n",
        "# Entrenar el modelo\n",
        "history = model.fit(X_train, y_train, epochs=5, batch_size=100, validation_data=(X_test, y_test))\n",
        "\n",
        "# Evaluar el modelo en el conjunto de prueba\n",
        "test_loss, test_acc = model.evaluate(X_test, y_test)\n",
        "print(f'Accuracy en el conjunto de prueba: {test_acc}')\n",
        "\n",
        "# Plot de la precisión del entrenamiento y validación por epoch\n",
        "plt.plot(history.history['accuracy'], label='accuracy')\n",
        "plt.plot(history.history['val_accuracy'], label='val_accuracy')\n",
        "plt.xlabel('Epoch')\n",
        "plt.ylabel('Accuracy')\n",
        "plt.legend()\n",
        "plt.show()"
      ]
    },
    {
      "cell_type": "code",
      "execution_count": null,
      "metadata": {},
      "outputs": [],
      "source": []
    },
    {
      "cell_type": "code",
      "execution_count": null,
      "metadata": {},
      "outputs": [],
      "source": []
    },
    {
      "cell_type": "code",
      "execution_count": 11,
      "metadata": {},
      "outputs": [
        {
          "name": "stdout",
          "output_type": "stream",
          "text": [
            "Model: \"sequential_1\"\n",
            "_________________________________________________________________\n",
            " Layer (type)                Output Shape              Param #   \n",
            "=================================================================\n",
            " conv2d_3 (Conv2D)           (None, 32, 32, 32)        2432      \n",
            "                                                                 \n",
            " max_pooling2d_3 (MaxPoolin  (None, 16, 16, 32)        0         \n",
            " g2D)                                                            \n",
            "                                                                 \n",
            " conv2d_4 (Conv2D)           (None, 16, 16, 64)        18496     \n",
            "                                                                 \n",
            " max_pooling2d_4 (MaxPoolin  (None, 8, 8, 64)          0         \n",
            " g2D)                                                            \n",
            "                                                                 \n",
            " conv2d_5 (Conv2D)           (None, 6, 6, 64)          36928     \n",
            "                                                                 \n",
            " max_pooling2d_5 (MaxPoolin  (None, 3, 3, 64)          0         \n",
            " g2D)                                                            \n",
            "                                                                 \n",
            " flatten_1 (Flatten)         (None, 576)               0         \n",
            "                                                                 \n",
            " dense_2 (Dense)             (None, 100)               57700     \n",
            "                                                                 \n",
            " dense_3 (Dense)             (None, 1)                 101       \n",
            "                                                                 \n",
            "=================================================================\n",
            "Total params: 115657 (451.79 KB)\n",
            "Trainable params: 115657 (451.79 KB)\n",
            "Non-trainable params: 0 (0.00 Byte)\n",
            "_________________________________________________________________\n"
          ]
        }
      ],
      "source": [
        "# Inicializar el modelo\n",
        "model = Sequential()\n",
        "\n",
        "# Capa convolucional 1\n",
        "model.add(Conv2D(32, (5, 5), activation='relu', padding='same', input_shape=(32, 32, 3)))\n",
        "\n",
        "# Max Pooling 2x2\n",
        "model.add(MaxPooling2D((2, 2), padding='same'))\n",
        "\n",
        "# Capa convolucional 2\n",
        "model.add(Conv2D(64, (3, 3), activation='relu', padding='same'))\n",
        "\n",
        "# Max Pooling 2x2\n",
        "model.add(MaxPooling2D((2, 2), padding='same'))\n",
        "\n",
        "# Capa convolucional 3\n",
        "model.add(Conv2D(64, (3, 3), activation='relu'))\n",
        "\n",
        "# Max Pooling 2x2 con strides=2\n",
        "model.add(MaxPooling2D((2, 2), strides=2))\n",
        "\n",
        "# Flatten para convertir los datos a un vector\n",
        "model.add(Flatten())\n",
        "\n",
        "# Capa fully connected\n",
        "model.add(Dense(100, activation='relu'))\n",
        "\n",
        "# Capa de salida con activación sigmoid para clasificación binaria\n",
        "model.add(Dense(1, activation='sigmoid'))\n",
        "\n",
        "# Compilar el modelo\n",
        "model.compile(optimizer='rmsprop',\n",
        "              loss='categorical_crossentropy',\n",
        "              metrics=['accuracy'])\n",
        "\n",
        "# Ver resumen del modelo\n",
        "model.summary()"
      ]
    },
    {
      "cell_type": "code",
      "execution_count": 12,
      "metadata": {},
      "outputs": [
        {
          "data": {
            "text/plain": [
              "(14000, 32, 32, 3)"
            ]
          },
          "execution_count": 12,
          "metadata": {},
          "output_type": "execute_result"
        }
      ],
      "source": [
        "X_train.shape"
      ]
    },
    {
      "cell_type": "code",
      "execution_count": 13,
      "metadata": {},
      "outputs": [
        {
          "data": {
            "text/plain": [
              "(14000,)"
            ]
          },
          "execution_count": 13,
          "metadata": {},
          "output_type": "execute_result"
        }
      ],
      "source": [
        "y_train.shape\n"
      ]
    },
    {
      "cell_type": "code",
      "execution_count": 14,
      "metadata": {},
      "outputs": [
        {
          "name": "stdout",
          "output_type": "stream",
          "text": [
            "Epoch 1/5\n"
          ]
        },
        {
          "name": "stderr",
          "output_type": "stream",
          "text": [
            "e:\\Apps\\ANACONDA\\Lib\\site-packages\\tensorflow\\python\\util\\dispatch.py:1260: SyntaxWarning: In loss categorical_crossentropy, expected y_pred.shape to be (batch_size, num_classes) with num_classes > 1. Received: y_pred.shape=(100, 1). Consider using 'binary_crossentropy' if you only have 2 classes.\n",
            "  return dispatch_target(*args, **kwargs)\n"
          ]
        },
        {
          "name": "stdout",
          "output_type": "stream",
          "text": [
            "140/140 [==============================] - 21s 135ms/step - loss: 0.0000e+00 - accuracy: 0.2489 - val_loss: 0.0000e+00 - val_accuracy: 0.2514\n",
            "Epoch 2/5\n",
            "140/140 [==============================] - 20s 142ms/step - loss: 0.0000e+00 - accuracy: 0.2489 - val_loss: 0.0000e+00 - val_accuracy: 0.2514\n",
            "Epoch 3/5\n",
            "140/140 [==============================] - 20s 143ms/step - loss: 0.0000e+00 - accuracy: 0.2489 - val_loss: 0.0000e+00 - val_accuracy: 0.2514\n",
            "Epoch 4/5\n",
            "140/140 [==============================] - 23s 165ms/step - loss: 0.0000e+00 - accuracy: 0.2489 - val_loss: 0.0000e+00 - val_accuracy: 0.2514\n",
            "Epoch 5/5\n",
            "140/140 [==============================] - 20s 141ms/step - loss: 0.0000e+00 - accuracy: 0.2489 - val_loss: 0.0000e+00 - val_accuracy: 0.2514\n"
          ]
        },
        {
          "name": "stderr",
          "output_type": "stream",
          "text": [
            "e:\\Apps\\ANACONDA\\Lib\\site-packages\\tensorflow\\python\\util\\dispatch.py:1260: SyntaxWarning: In loss categorical_crossentropy, expected y_pred.shape to be (batch_size, num_classes) with num_classes > 1. Received: y_pred.shape=(None, 1). Consider using 'binary_crossentropy' if you only have 2 classes.\n",
            "  return dispatch_target(*args, **kwargs)\n"
          ]
        },
        {
          "name": "stdout",
          "output_type": "stream",
          "text": [
            "110/110 [==============================] - 2s 16ms/step - loss: 0.0000e+00 - accuracy: 0.2514\n",
            "Accuracy en el conjunto de prueba: 0.2514285743236542\n",
            "Accuracy en el conjunto de prueba: 0.2514285743236542\n"
          ]
        }
      ],
      "source": [
        "history = model.fit(X_train, y_train, epochs=5, batch_size=100, validation_data=(X_test, y_test))\n",
        "\n",
        "# Evaluar el modelo en el conjunto de prueba\n",
        "test_loss, test_acc = model.evaluate(X_test, y_test)\n",
        "print(f'Accuracy en el conjunto de prueba: {test_acc}')\n",
        "\n",
        "# Métricas obtenidas en el test_set\n",
        "print(f'Accuracy en el conjunto de prueba: {test_acc}')"
      ]
    },
    {
      "cell_type": "code",
      "execution_count": 15,
      "metadata": {},
      "outputs": [
        {
          "data": {
            "image/png": "[encoded data removed]",
            "text/plain": [
              "<Figure size 640x480 with 1 Axes>"
            ]
          },
          "metadata": {},
          "output_type": "display_data"
        }
      ],
      "source": [
        "# Plot de la precisión del entrenamiento y validación por epoch\n",
        "plt.plot(history.history['accuracy'], label='accuracy')\n",
        "plt.plot(history.history['val_accuracy'], label='val_accuracy')\n",
        "plt.xlabel('Epoch')\n",
        "plt.ylabel('Accuracy')\n",
        "plt.legend()\n",
        "plt.show()"
      ]
    },
    {
      "cell_type": "code",
      "execution_count": null,
      "metadata": {},
      "outputs": [],
      "source": []
    },
    {
      "cell_type": "code",
      "execution_count": null,
      "metadata": {},
      "outputs": [],
      "source": []
    },
    {
      "cell_type": "code",
      "execution_count": 16,
      "metadata": {},
      "outputs": [
        {
          "ename": "TypeError",
          "evalue": "If class_mode=\"binary\", y_col=\"has_cactus\" column values must be strings.",
          "output_type": "error",
          "traceback": [
            "\u001b[1;31m---------------------------------------------------------------------------\u001b[0m",
            "\u001b[1;31mTypeError\u001b[0m                                 Traceback (most recent call last)",
            "Cell \u001b[1;32mIn[16], line 6\u001b[0m\n\u001b[0;32m      3\u001b[0m \u001b[38;5;66;03m# Crear generadores de datos para los arrays de entrenamiento y validación\u001b[39;00m\n\u001b[0;32m      4\u001b[0m train_datagen \u001b[38;5;241m=\u001b[39m ImageDataGenerator(rescale\u001b[38;5;241m=\u001b[39m\u001b[38;5;241m1.\u001b[39m\u001b[38;5;241m/\u001b[39m\u001b[38;5;241m255\u001b[39m, validation_split\u001b[38;5;241m=\u001b[39m\u001b[38;5;241m0.2\u001b[39m)\n\u001b[1;32m----> 6\u001b[0m train_generator \u001b[38;5;241m=\u001b[39m train_datagen\u001b[38;5;241m.\u001b[39mflow_from_dataframe(\n\u001b[0;32m      7\u001b[0m     dataframe\u001b[38;5;241m=\u001b[39mdt,\n\u001b[0;32m      8\u001b[0m     directory\u001b[38;5;241m=\u001b[39m\u001b[38;5;124m'\u001b[39m\u001b[38;5;124mpath_to_images\u001b[39m\u001b[38;5;124m'\u001b[39m,\n\u001b[0;32m      9\u001b[0m     x_col\u001b[38;5;241m=\u001b[39m\u001b[38;5;124m'\u001b[39m\u001b[38;5;124mid\u001b[39m\u001b[38;5;124m'\u001b[39m,\n\u001b[0;32m     10\u001b[0m     y_col\u001b[38;5;241m=\u001b[39m\u001b[38;5;124m'\u001b[39m\u001b[38;5;124mhas_cactus\u001b[39m\u001b[38;5;124m'\u001b[39m,\n\u001b[0;32m     11\u001b[0m     subset\u001b[38;5;241m=\u001b[39m\u001b[38;5;124m'\u001b[39m\u001b[38;5;124mtraining\u001b[39m\u001b[38;5;124m'\u001b[39m,\n\u001b[0;32m     12\u001b[0m     batch_size\u001b[38;5;241m=\u001b[39m\u001b[38;5;241m32\u001b[39m,\n\u001b[0;32m     13\u001b[0m     seed\u001b[38;5;241m=\u001b[39m\u001b[38;5;241m42\u001b[39m,\n\u001b[0;32m     14\u001b[0m     shuffle\u001b[38;5;241m=\u001b[39m\u001b[38;5;28;01mTrue\u001b[39;00m,\n\u001b[0;32m     15\u001b[0m     class_mode\u001b[38;5;241m=\u001b[39m\u001b[38;5;124m'\u001b[39m\u001b[38;5;124mbinary\u001b[39m\u001b[38;5;124m'\u001b[39m,\n\u001b[0;32m     16\u001b[0m     target_size\u001b[38;5;241m=\u001b[39m(\u001b[38;5;241m32\u001b[39m, \u001b[38;5;241m32\u001b[39m))\n\u001b[0;32m     18\u001b[0m validation_generator \u001b[38;5;241m=\u001b[39m train_datagen\u001b[38;5;241m.\u001b[39mflow_from_dataframe(\n\u001b[0;32m     19\u001b[0m     dataframe\u001b[38;5;241m=\u001b[39mdt,\n\u001b[0;32m     20\u001b[0m     directory\u001b[38;5;241m=\u001b[39m\u001b[38;5;124m'\u001b[39m\u001b[38;5;124mpath_to_images\u001b[39m\u001b[38;5;124m'\u001b[39m,\n\u001b[1;32m   (...)\u001b[0m\n\u001b[0;32m     27\u001b[0m     class_mode\u001b[38;5;241m=\u001b[39m\u001b[38;5;124m'\u001b[39m\u001b[38;5;124mbinary\u001b[39m\u001b[38;5;124m'\u001b[39m,\n\u001b[0;32m     28\u001b[0m     target_size\u001b[38;5;241m=\u001b[39m(\u001b[38;5;241m32\u001b[39m, \u001b[38;5;241m32\u001b[39m))\n",
            "File \u001b[1;32me:\\Apps\\ANACONDA\\Lib\\site-packages\\keras\\src\\preprocessing\\image.py:1807\u001b[0m, in \u001b[0;36mImageDataGenerator.flow_from_dataframe\u001b[1;34m(self, dataframe, directory, x_col, y_col, weight_col, target_size, color_mode, classes, class_mode, batch_size, shuffle, seed, save_to_dir, save_prefix, save_format, subset, interpolation, validate_filenames, **kwargs)\u001b[0m\n\u001b[0;32m   1800\u001b[0m \u001b[38;5;28;01mif\u001b[39;00m \u001b[38;5;124m\"\u001b[39m\u001b[38;5;124mdrop_duplicates\u001b[39m\u001b[38;5;124m\"\u001b[39m \u001b[38;5;129;01min\u001b[39;00m kwargs:\n\u001b[0;32m   1801\u001b[0m     warnings\u001b[38;5;241m.\u001b[39mwarn(\n\u001b[0;32m   1802\u001b[0m         \u001b[38;5;124m\"\u001b[39m\u001b[38;5;124mdrop_duplicates is deprecated, you can drop duplicates \u001b[39m\u001b[38;5;124m\"\u001b[39m\n\u001b[0;32m   1803\u001b[0m         \u001b[38;5;124m\"\u001b[39m\u001b[38;5;124mby using the pandas.DataFrame.drop_duplicates method.\u001b[39m\u001b[38;5;124m\"\u001b[39m,\n\u001b[0;32m   1804\u001b[0m         \u001b[38;5;167;01mDeprecationWarning\u001b[39;00m,\n\u001b[0;32m   1805\u001b[0m     )\n\u001b[1;32m-> 1807\u001b[0m \u001b[38;5;28;01mreturn\u001b[39;00m DataFrameIterator(\n\u001b[0;32m   1808\u001b[0m     dataframe,\n\u001b[0;32m   1809\u001b[0m     directory,\n\u001b[0;32m   1810\u001b[0m     \u001b[38;5;28mself\u001b[39m,\n\u001b[0;32m   1811\u001b[0m     x_col\u001b[38;5;241m=\u001b[39mx_col,\n\u001b[0;32m   1812\u001b[0m     y_col\u001b[38;5;241m=\u001b[39my_col,\n\u001b[0;32m   1813\u001b[0m     weight_col\u001b[38;5;241m=\u001b[39mweight_col,\n\u001b[0;32m   1814\u001b[0m     target_size\u001b[38;5;241m=\u001b[39mtarget_size,\n\u001b[0;32m   1815\u001b[0m     color_mode\u001b[38;5;241m=\u001b[39mcolor_mode,\n\u001b[0;32m   1816\u001b[0m     classes\u001b[38;5;241m=\u001b[39mclasses,\n\u001b[0;32m   1817\u001b[0m     class_mode\u001b[38;5;241m=\u001b[39mclass_mode,\n\u001b[0;32m   1818\u001b[0m     data_format\u001b[38;5;241m=\u001b[39m\u001b[38;5;28mself\u001b[39m\u001b[38;5;241m.\u001b[39mdata_format,\n\u001b[0;32m   1819\u001b[0m     batch_size\u001b[38;5;241m=\u001b[39mbatch_size,\n\u001b[0;32m   1820\u001b[0m     shuffle\u001b[38;5;241m=\u001b[39mshuffle,\n\u001b[0;32m   1821\u001b[0m     seed\u001b[38;5;241m=\u001b[39mseed,\n\u001b[0;32m   1822\u001b[0m     save_to_dir\u001b[38;5;241m=\u001b[39msave_to_dir,\n\u001b[0;32m   1823\u001b[0m     save_prefix\u001b[38;5;241m=\u001b[39msave_prefix,\n\u001b[0;32m   1824\u001b[0m     save_format\u001b[38;5;241m=\u001b[39msave_format,\n\u001b[0;32m   1825\u001b[0m     subset\u001b[38;5;241m=\u001b[39msubset,\n\u001b[0;32m   1826\u001b[0m     interpolation\u001b[38;5;241m=\u001b[39minterpolation,\n\u001b[0;32m   1827\u001b[0m     validate_filenames\u001b[38;5;241m=\u001b[39mvalidate_filenames,\n\u001b[0;32m   1828\u001b[0m     dtype\u001b[38;5;241m=\u001b[39m\u001b[38;5;28mself\u001b[39m\u001b[38;5;241m.\u001b[39mdtype,\n\u001b[0;32m   1829\u001b[0m )\n",
            "File \u001b[1;32me:\\Apps\\ANACONDA\\Lib\\site-packages\\keras\\src\\preprocessing\\image.py:968\u001b[0m, in \u001b[0;36mDataFrameIterator.__init__\u001b[1;34m(self, dataframe, directory, image_data_generator, x_col, y_col, weight_col, target_size, color_mode, classes, class_mode, batch_size, shuffle, seed, data_format, save_to_dir, save_prefix, save_format, subset, interpolation, keep_aspect_ratio, dtype, validate_filenames)\u001b[0m\n\u001b[0;32m    966\u001b[0m \u001b[38;5;28mself\u001b[39m\u001b[38;5;241m.\u001b[39mdtype \u001b[38;5;241m=\u001b[39m dtype\n\u001b[0;32m    967\u001b[0m \u001b[38;5;66;03m# check that inputs match the required class_mode\u001b[39;00m\n\u001b[1;32m--> 968\u001b[0m \u001b[38;5;28mself\u001b[39m\u001b[38;5;241m.\u001b[39m_check_params(df, x_col, y_col, weight_col, classes)\n\u001b[0;32m    969\u001b[0m \u001b[38;5;28;01mif\u001b[39;00m (\n\u001b[0;32m    970\u001b[0m     validate_filenames\n\u001b[0;32m    971\u001b[0m ):  \u001b[38;5;66;03m# check which image files are valid and keep them\u001b[39;00m\n\u001b[0;32m    972\u001b[0m     df \u001b[38;5;241m=\u001b[39m \u001b[38;5;28mself\u001b[39m\u001b[38;5;241m.\u001b[39m_filter_valid_filepaths(df, x_col)\n",
            "File \u001b[1;32me:\\Apps\\ANACONDA\\Lib\\site-packages\\keras\\src\\preprocessing\\image.py:1036\u001b[0m, in \u001b[0;36mDataFrameIterator._check_params\u001b[1;34m(self, df, x_col, y_col, weight_col, classes)\u001b[0m\n\u001b[0;32m   1034\u001b[0m \u001b[38;5;28;01mif\u001b[39;00m \u001b[38;5;28mself\u001b[39m\u001b[38;5;241m.\u001b[39mclass_mode \u001b[38;5;129;01min\u001b[39;00m {\u001b[38;5;124m\"\u001b[39m\u001b[38;5;124mbinary\u001b[39m\u001b[38;5;124m\"\u001b[39m, \u001b[38;5;124m\"\u001b[39m\u001b[38;5;124msparse\u001b[39m\u001b[38;5;124m\"\u001b[39m}:\n\u001b[0;32m   1035\u001b[0m     \u001b[38;5;28;01mif\u001b[39;00m \u001b[38;5;129;01mnot\u001b[39;00m \u001b[38;5;28mall\u001b[39m(df[y_col]\u001b[38;5;241m.\u001b[39mapply(\u001b[38;5;28;01mlambda\u001b[39;00m x: \u001b[38;5;28misinstance\u001b[39m(x, \u001b[38;5;28mstr\u001b[39m))):\n\u001b[1;32m-> 1036\u001b[0m         \u001b[38;5;28;01mraise\u001b[39;00m \u001b[38;5;167;01mTypeError\u001b[39;00m(\n\u001b[0;32m   1037\u001b[0m             \u001b[38;5;124m'\u001b[39m\u001b[38;5;124mIf class_mode=\u001b[39m\u001b[38;5;124m\"\u001b[39m\u001b[38;5;132;01m{}\u001b[39;00m\u001b[38;5;124m\"\u001b[39m\u001b[38;5;124m, y_col=\u001b[39m\u001b[38;5;124m\"\u001b[39m\u001b[38;5;132;01m{}\u001b[39;00m\u001b[38;5;124m\"\u001b[39m\u001b[38;5;124m column \u001b[39m\u001b[38;5;124m'\u001b[39m\n\u001b[0;32m   1038\u001b[0m             \u001b[38;5;124m\"\u001b[39m\u001b[38;5;124mvalues must be strings.\u001b[39m\u001b[38;5;124m\"\u001b[39m\u001b[38;5;241m.\u001b[39mformat(\u001b[38;5;28mself\u001b[39m\u001b[38;5;241m.\u001b[39mclass_mode, y_col)\n\u001b[0;32m   1039\u001b[0m         )\n\u001b[0;32m   1040\u001b[0m \u001b[38;5;66;03m# check that if binary there are only 2 different classes\u001b[39;00m\n\u001b[0;32m   1041\u001b[0m \u001b[38;5;28;01mif\u001b[39;00m \u001b[38;5;28mself\u001b[39m\u001b[38;5;241m.\u001b[39mclass_mode \u001b[38;5;241m==\u001b[39m \u001b[38;5;124m\"\u001b[39m\u001b[38;5;124mbinary\u001b[39m\u001b[38;5;124m\"\u001b[39m:\n",
            "\u001b[1;31mTypeError\u001b[0m: If class_mode=\"binary\", y_col=\"has_cactus\" column values must be strings."
          ]
        }
      ],
      "source": [
        "from tensorflow.keras.preprocessing.image import ImageDataGenerator\n",
        "\n",
        "# Crear generadores de datos para los arrays de entrenamiento y validación\n",
        "train_datagen = ImageDataGenerator(rescale=1./255, validation_split=0.2)\n",
        "\n",
        "train_generator = train_datagen.flow_from_dataframe(\n",
        "    dataframe=dt,\n",
        "    directory='path_to_images',\n",
        "    x_col='id',\n",
        "    y_col='has_cactus',\n",
        "    subset='training',\n",
        "    batch_size=32,\n",
        "    seed=42,\n",
        "    shuffle=True,\n",
        "    class_mode='binary',\n",
        "    target_size=(32, 32))\n",
        "\n",
        "validation_generator = train_datagen.flow_from_dataframe(\n",
        "    dataframe=dt,\n",
        "    directory='path_to_images',\n",
        "    x_col='id',\n",
        "    y_col='has_cactus',\n",
        "    subset='validation',\n",
        "    batch_size=32,\n",
        "    seed=42,\n",
        "    shuffle=True,\n",
        "    class_mode='binary',\n",
        "    target_size=(32, 32))\n"
      ]
    },
    {
      "cell_type": "code",
      "execution_count": null,
      "metadata": {},
      "outputs": [],
      "source": [
        "from tensorflow.keras.applications import VGG16\n",
        "from tensorflow.keras.models import Model\n",
        "from tensorflow.keras.layers import Flatten, Dense, Dropout\n",
        "\n",
        "# Cargar el modelo VGG16 pre-entrenado\n",
        "base_model = VGG16(weights='imagenet', include_top=False, input_shape=(32, 32, 3))\n",
        "\n",
        "# Congelar las capas del modelo base\n",
        "for layer in base_model.layers:\n",
        "    layer.trainable = False\n",
        "\n",
        "# Añadir capas personalizadas en la parte superior del modelo base\n",
        "x = base_model.output\n",
        "x = Flatten()(x)\n",
        "x = Dense(512, activation='relu')(x)\n",
        "x = Dropout(0.5)(x)\n",
        "predictions = Dense(1, activation='sigmoid')(x)\n",
        "\n",
        "# Crear el modelo final\n",
        "model = Model(inputs=base_model.input, outputs=predictions)\n",
        "\n",
        "# Compilar el modelo\n",
        "model.compile(optimizer='adam', loss='binary_crossentropy', metrics=['accuracy'])\n"
      ]
    },
    {
      "cell_type": "code",
      "execution_count": null,
      "metadata": {},
      "outputs": [],
      "source": [
        "import os\n",
        "import shutil\n",
        "from sklearn.model_selection import train_test_split\n",
        "\n",
        "# Leer el archivo CSV\n",
        "dt = pd.read_csv('train_cactus.csv')\n",
        "\n",
        "# Dividir el conjunto de datos en entrenamiento y prueba\n",
        "train, test = train_test_split(dt, test_size=0.2, random_state=42)\n",
        "\n",
        "# Crear carpetas para los datos de entrenamiento y prueba\n",
        "os.makedirs('data/train', exist_ok=True)\n",
        "os.makedirs('data/test', exist_ok=True)\n",
        "\n",
        "# Función para mover imágenes a las carpetas correspondientes\n",
        "def move_images(data, folder_name):\n",
        "    for _, row in data.iterrows():\n",
        "        image_name = row['id']\n",
        "        label = 'has_cactus' if row['has_cactus'] == 1 else 'no_cactus'\n",
        "        os.makedirs(os.path.join(folder_name, label), exist_ok=True)\n",
        "        shutil.move(os.path.join('path_to_images', image_name),\n",
        "                    os.path.join(folder_name, label, image_name))\n",
        "\n",
        "# Mover imágenes\n",
        "move_images(train, 'data/train')\n",
        "move_images(test, 'data/test')\n",
        "\n",
        "# Crear generadores de datos desde directorios\n",
        "train_datagen = ImageDataGenerator(rescale=1./255)\n",
        "test_datagen = ImageDataGenerator(rescale=1./255)\n",
        "\n",
        "train_generator = train_datagen.flow_from_directory(\n",
        "    'data/train',\n",
        "    target_size=(32, 32),\n",
        "    batch_size=32,\n",
        "    class_mode='binary')\n",
        "\n",
        "test_generator = test_datagen.flow_from_directory(\n",
        "    'data/test',\n",
        "    target_size=(32, 32),\n",
        "    batch_size=32,\n",
        "    class_mode='binary')\n"
      ]
    }
  ],
  "metadata": {
    "kernelspec": {
      "display_name": "base",
      "language": "python",
      "name": "python3"
    },
    "language_info": {
      "codemirror_mode": {
        "name": "ipython",
        "version": 3
      },
      "file_extension": ".py",
      "mimetype": "text/x-python",
      "name": "python",
      "nbconvert_exporter": "python",
      "pygments_lexer": "ipython3",
      "version": "3.11.7"
    }
  },
  "nbformat": 4,
  "nbformat_minor": 2
}
